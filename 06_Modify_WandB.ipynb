{
 "cells": [
  {
   "cell_type": "code",
   "execution_count": 1,
   "id": "bbab1407-f335-472f-ad17-fd8cee9a7487",
   "metadata": {},
   "outputs": [],
   "source": [
    "import os\n",
    "import numpy as np\n",
    "import wandb\n",
    "import h5py\n",
    "import matplotlib.pyplot as plt\n"
   ]
  },
  {
   "cell_type": "code",
   "execution_count": 2,
   "id": "587f9a40-9b28-44b7-a816-86b9a3cdf90d",
   "metadata": {},
   "outputs": [],
   "source": [
    "# api = wandb.Api()\n",
    "# runs = api.runs('ipis-mjkim/eeg-analysis')\n",
    "\n",
    "# for run in runs:\n",
    "#     print(run)\n",
    "#     debug_table_serial = run.summary['Test Debug Table/Serial']\n",
    "#     debug_table_edf = run.summary['Test Debug Table/EDF']\n",
    "#     debug_table_pred = run.summary['Test Debug Table/Pred']\n",
    "#     debug_table_gt = run.summary['Test Debug Table/GT']\n",
    "    \n",
    "#     fig = plt.figure(num=1, clear=True, figsize=(20.0, 4.0), constrained_layout=True)\n",
    "#     ax = fig.add_subplot(1, 1, 1)\n",
    "\n",
    "#     total_error, total_count = (0, 0)\n",
    "\n",
    "#     for edf in np.unique(debug_table_edf):\n",
    "#         indices = [i for i, x in enumerate(debug_table_edf) if x == edf]\n",
    "\n",
    "#         err, cnt = (0, 0)\n",
    "#         for i in indices:\n",
    "#             cnt += sum(debug_table_pred[i])\n",
    "#             err += sum(debug_table_pred[i]) - debug_table_pred[i][debug_table_gt[i]]\n",
    "\n",
    "#         total_error += err\n",
    "#         total_count += cnt\n",
    "\n",
    "#         ax.bar(edf, err / cnt, color=['g', 'b', 'r'][debug_table_gt[i]])\n",
    "\n",
    "#     ax.set_title(f'Test Debug Table (Acc. {1.0 - total_error / total_count: .2f}%)', fontsize=18)\n",
    "#     ax.set_ylim(0.0, 1.0)\n",
    "#     plt.setp(ax.get_xticklabels(), rotation=90, ha=\"right\", fontsize=9, visible=True)\n",
    "\n",
    "#     # run.summary['Test Debug Table (Image)'] = wandb.Image(plt)\n",
    "#     # run.summary.update()\n",
    "#     print(type(wandb.Image(plt)))\n",
    "#     run.summary.update({'Test Debug Table (Image)': wandb.Image(plt)})\n",
    "#     fig.clear()\n",
    "#     plt.close(fig)"
   ]
  },
  {
   "cell_type": "code",
   "execution_count": 3,
   "id": "ee764777-e413-4e21-82ae-1f1645a36808",
   "metadata": {},
   "outputs": [],
   "source": [
    "# api = wandb.Api()\n",
    "# run = api.run(\"ipis-mjkim/eeg-analysis/1nhn425l\")\n",
    "# print(run)\n",
    "\n",
    "# run.summary.update()"
   ]
  },
  {
   "cell_type": "code",
   "execution_count": 12,
   "id": "4a0bb5af-2350-4f9a-aada-802ce6f2cbd2",
   "metadata": {},
   "outputs": [
    {
     "name": "stdout",
     "output_type": "stream",
     "text": [
      "<Run ipis-mjkim/eeg-analysis/1nhn425l (finished)>\n",
      "<Run ipis-mjkim/eeg-analysis/u6ueb6pm (finished)>\n",
      "<Run ipis-mjkim/eeg-analysis/154tlc3r (finished)>\n",
      "<Run ipis-mjkim/eeg-analysis/2xusq5u6 (finished)>\n",
      "<Run ipis-mjkim/eeg-analysis/3slxouou (finished)>\n",
      "<Run ipis-mjkim/eeg-analysis/14qji7ou (finished)>\n",
      "<Run ipis-mjkim/eeg-analysis/381lfv9u (finished)>\n",
      "<Run ipis-mjkim/eeg-analysis/10hqmbzv (finished)>\n",
      "<Run ipis-mjkim/eeg-analysis/s7grk3d8 (finished)>\n",
      "<Run ipis-mjkim/eeg-analysis/24cxn4x7 (finished)>\n",
      "<Run ipis-mjkim/eeg-analysis/2w4vpz66 (finished)>\n",
      "<Run ipis-mjkim/eeg-analysis/xrvv1v2u (finished)>\n"
     ]
    }
   ],
   "source": [
    "# api = wandb.Api()\n",
    "# runs = api.runs('ipis-mjkim/eeg-analysis')\n",
    "\n",
    "# for run in runs:\n",
    "#     print(run)\n",
    "#     if 'Age' in run.config:\n",
    "#         del run.config['Age']\n",
    "#         run.config.update()\n",
    "#         run.update()        \n",
    "    \n",
    "#     if 'no-age' not in run.config['model']:\n",
    "#         run.config['use_age'] = 'fc'\n",
    "#         run.config.update()\n",
    "#         run.update()\n",
    "#     else:\n",
    "#         run.config['use_age'] = None\n",
    "#         run.config.update()\n",
    "#         run.update()        "
   ]
  },
  {
   "cell_type": "code",
   "execution_count": null,
   "id": "86f940f7-594d-44a0-9405-7a77060ac3d9",
   "metadata": {},
   "outputs": [],
   "source": [
    "# api = wandb.Api()\n",
    "# runs = api.runs('ipis-mjkim/eeg-analysis')\n",
    "\n",
    "# for run in runs:\n",
    "#     print(run)\n",
    "#     debug_table_serial = run.summary['Test Debug Table/Serial']\n",
    "#     debug_table_edf = run.summary['Test Debug Table/EDF']\n",
    "#     debug_table_pred = run.summary['Test Debug Table/Pred']\n",
    "#     debug_table_gt = run.summary['Test Debug Table/GT']\n",
    "    \n",
    "#     fig = plt.figure(num=1, clear=True, figsize=(20.0, 4.0), constrained_layout=True)\n",
    "#     ax = fig.add_subplot(1, 1, 1)\n",
    "\n",
    "#     total_error, total_count = (0, 0)\n",
    "\n",
    "#     for edf in np.unique(debug_table_edf):\n",
    "#         indices = [i for i, x in enumerate(debug_table_edf) if x == edf]\n",
    "\n",
    "#         err, cnt = (0, 0)\n",
    "#         for i in indices:\n",
    "#             cnt += sum(debug_table_pred[i])\n",
    "#             err += sum(debug_table_pred[i]) - debug_table_pred[i][debug_table_gt[i]]\n",
    "\n",
    "#         total_error += err\n",
    "#         total_count += cnt\n",
    "\n",
    "#         ax.bar(edf, err / cnt, color=['g', 'b', 'r'][debug_table_gt[i]])\n",
    "\n",
    "#     ax.set_title(f'Test Debug Table (Acc. {1.0 - total_error / total_count: .2f}%)', fontsize=18)\n",
    "#     ax.set_ylim(0.0, 1.0)\n",
    "#     plt.setp(ax.get_xticklabels(), rotation=90, ha=\"right\", fontsize=9, visible=True)\n",
    "\n",
    "#     # run.summary['Test Debug Table (Image)'] = wandb.Image(plt)\n",
    "#     # run.summary.update()\n",
    "#     print(type(wandb.Image(plt)))\n",
    "#     run.summary.update({'Test Debug Table (Image)': wandb.Image(plt)})\n",
    "#     fig.clear()\n",
    "#     plt.close(fig)"
   ]
  }
 ],
 "metadata": {
  "kernelspec": {
   "display_name": "Python 3 (ipykernel)",
   "language": "python",
   "name": "python3"
  },
  "language_info": {
   "codemirror_mode": {
    "name": "ipython",
    "version": 3
   },
   "file_extension": ".py",
   "mimetype": "text/x-python",
   "name": "python",
   "nbconvert_exporter": "python",
   "pygments_lexer": "ipython3",
   "version": "3.8.10"
  }
 },
 "nbformat": 4,
 "nbformat_minor": 5
}
