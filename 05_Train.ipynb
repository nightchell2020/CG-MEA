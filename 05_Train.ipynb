{
 "cells": [
  {
   "cell_type": "markdown",
   "metadata": {},
   "source": [
    "# Train Networks\n",
    "\n",
    "- Three-way SoftMax or Multi-BCE classifier of normal, non-vascular MCI, and non-vascular dementia\n",
    "- `Weights and Biases` sweep is used for hyperparameter search"
   ]
  },
  {
   "cell_type": "markdown",
   "metadata": {
    "pycharm": {
     "name": "#%% md\n"
    }
   },
   "source": [
    "-----\n",
    "\n",
    "## Load Packages"
   ]
  },
  {
   "cell_type": "code",
   "execution_count": 1,
   "metadata": {},
   "outputs": [],
   "source": [
    "# for auto-reloading external modules\n",
    "# see http://stackoverflow.com/questions/1907993/autoreload-of-modules-in-ipython\n",
    "%load_ext autoreload\n",
    "%autoreload 2"
   ]
  },
  {
   "cell_type": "code",
   "execution_count": 2,
   "metadata": {},
   "outputs": [],
   "source": [
    "# Load some packages\n",
    "import os\n",
    "import json\n",
    "from copy import deepcopy\n",
    "\n",
    "import math\n",
    "import numpy as np\n",
    "import torch\n",
    "import torch.nn as nn\n",
    "import torch.nn.functional as F\n",
    "import torch.optim as optim\n",
    "\n",
    "import pprint\n",
    "import wandb\n",
    "\n",
    "# custom package\n",
    "from datasets.cau_eeg_dataset import *\n",
    "from datasets.cau_eeg_script import *\n",
    "from models import *\n",
    "from train import *"
   ]
  },
  {
   "cell_type": "code",
   "execution_count": 3,
   "metadata": {},
   "outputs": [
    {
     "name": "stdout",
     "output_type": "stream",
     "text": [
      "PyTorch version: 1.11.0\n",
      "cuda is available.\n"
     ]
    }
   ],
   "source": [
    "print('PyTorch version:', torch.__version__)\n",
    "device = torch.device('cuda' if torch.cuda.is_available() else 'cpu')\n",
    "\n",
    "if torch.cuda.is_available(): print('cuda is available.')\n",
    "else: print('cuda is unavailable.') "
   ]
  },
  {
   "cell_type": "markdown",
   "metadata": {},
   "source": [
    "-----\n",
    "\n",
    "## Set the default configuration for building datatset"
   ]
  },
  {
   "cell_type": "code",
   "execution_count": 4,
   "metadata": {},
   "outputs": [],
   "source": [
    "cfg_data = {}\n",
    "cfg_data['device'] = device\n",
    "cfg_data['dataset'] = 'CAUHS'\n",
    "cfg_data['data_path'] = r'local/dataset/02_Curated_Data_210705/'\n",
    "cfg_data['meta_path'] = os.path.join(cfg_data['data_path'], 'metadata_debug.json')\n",
    "cfg_data['target_task'] = 'Normal, MCI, Dementia' # 'Norml, MCI, Dementia'\n",
    "cfg_data['vascular'] = 'X'\n",
    "cfg_data['segment'] = 'no' # 'train', 'all', 'no'\n",
    "cfg_data['seed'] = 0\n",
    "cfg_data['crop_length'] = 200 * 10 # 10 seconds\n",
    "cfg_data['longer_crop_length'] = 200 * 10 * 10 # 100 seconds\n",
    "cfg_data['crop_multiple'] = 4\n",
    "cfg_data['minibatch'] = 128\n",
    "cfg_data['input_norm'] = 'dataset' # 'datatset', 'datapoint', 'no'\n",
    "cfg_data['EKG'] = 'O'\n",
    "cfg_data['photic'] = 'X'\n",
    "cfg_data['awgn'] = 5e-2\n",
    "cfg_data['mgn'] = 1e-4\n",
    "cfg_data['awgn_age'] = 5e-2"
   ]
  },
  {
   "cell_type": "code",
   "execution_count": 5,
   "metadata": {},
   "outputs": [
    {
     "name": "stdout",
     "output_type": "stream",
     "text": [
      "class_label_to_type: ['Normal', 'Non-vascular MCI', 'Non-vascular dementia']\n",
      "\n",
      "----------------------------------------------------------------------------------------------------\n",
      "\n",
      "- There are 463 data belonging to Normal\n",
      "- There are 347 data belonging to Non-vascular MCI\n",
      "- There are 229 data belonging to Non-vascular dementia\n",
      "\n",
      "----------------------------------------------------------------------------------------------------\n",
      "\n",
      "Train data label distribution\t: [370, 278, 183] 831\n",
      "Train data label distribution\t: [46, 35, 23] 104\n",
      "Train data label distribution\t: [47, 34, 23] 104\n",
      "\n",
      "----------------------------------------------------------------------------------------------------\n",
      "\n",
      "composed_train: Compose(\n",
      "    <datasets.pipeline.EegRandomCrop object at 0x0000018A59717880>\n",
      "    <datasets.pipeline.EegNormalizeMeanStd object at 0x0000018A36193790>\n",
      "    <datasets.pipeline.EegNormalizeAge object at 0x0000018A36193340>\n",
      "    <datasets.pipeline.EegDropPhoticChannel object at 0x0000018A59717E50>\n",
      "    <datasets.pipeline.EegAdditiveGaussianNoise object at 0x0000018A5FA9DEE0>\n",
      "    <datasets.pipeline.EegMultiplicativeGaussianNoise object at 0x0000018A598F2E80>\n",
      "    <datasets.pipeline.EegAddGaussianNoiseAge object at 0x0000018A598F2E50>\n",
      "    <datasets.pipeline.EegToTensor object at 0x0000018A5FAA2100>\n",
      ")\n",
      "\n",
      "----------------------------------------------------------------------------------------------------\n",
      "\n",
      "composed_test: Compose(\n",
      "    <datasets.pipeline.EegRandomCrop object at 0x0000018A59717B20>\n",
      "    <datasets.pipeline.EegNormalizeMeanStd object at 0x0000018A361932B0>\n",
      "    <datasets.pipeline.EegNormalizeAge object at 0x0000018A5FA18EE0>\n",
      "    <datasets.pipeline.EegDropPhoticChannel object at 0x0000018A4123EA90>\n",
      "    <datasets.pipeline.EegToTensor object at 0x0000018A5FAA22B0>\n",
      ")\n",
      "\n",
      "----------------------------------------------------------------------------------------------------\n",
      "\n",
      "longer_composed_test: Compose(\n",
      "    <datasets.pipeline.EegRandomCrop object at 0x0000018A40A4C490>\n",
      "    <datasets.pipeline.EegNormalizeMeanStd object at 0x0000018A5FAA23A0>\n",
      "    <datasets.pipeline.EegNormalizeAge object at 0x0000018A5FAA23D0>\n",
      "    <datasets.pipeline.EegDropPhoticChannel object at 0x0000018A5FAA24F0>\n",
      "    <datasets.pipeline.EegToTensor object at 0x0000018A5FAA2520>\n",
      ")\n",
      "\n",
      "----------------------------------------------------------------------------------------------------\n",
      "\n",
      "\n",
      "train_dataset[0]:\n",
      "{'signal': [tensor([[-1.9415, -1.8314, -1.8098,  ..., -1.4577, -1.4093, -1.5433],\n",
      "        [ 0.9425,  1.1287,  1.3470,  ..., -1.0085, -0.9840, -1.0742],\n",
      "        [ 3.6456,  3.8743,  3.8472,  ...,  9.2881,  9.1937,  9.0027],\n",
      "        ...,\n",
      "        [-0.5411, -0.4367, -0.1522,  ..., -0.8401, -0.9006, -0.8029],\n",
      "        [-0.5794, -0.6040, -0.4047,  ..., -0.9898, -0.9167, -0.8514],\n",
      "        [ 0.1451,  0.1974,  0.1779,  ...,  0.0820, -0.0591, -0.0214]]), tensor([[ 0.2024, -0.0621, -0.1917,  ...,  0.2075,  0.0848,  0.2121],\n",
      "        [ 0.2679,  0.4745,  0.3284,  ...,  0.6417,  0.5658,  0.5133],\n",
      "        [-8.3304, -8.4371, -8.6573,  ..., -2.3596, -2.3032, -2.3454],\n",
      "        ...,\n",
      "        [ 2.1083,  2.1258,  1.9271,  ..., -0.0276, -0.2076, -0.5276],\n",
      "        [ 1.5016,  1.3007,  1.2076,  ...,  0.0232, -0.0646, -0.1954],\n",
      "        [ 0.9130,  3.4309,  3.0673,  ...,  3.6484,  2.8548,  3.1045]]), tensor([[-3.0293, -3.1533, -3.1767,  ..., -0.5145, -0.5686, -0.5306],\n",
      "        [ 0.3867,  0.3030,  0.3627,  ..., -3.4600, -3.3889, -3.3704],\n",
      "        [ 1.3562,  1.4339,  1.4808,  ...,  9.0174,  9.2378,  9.4405],\n",
      "        ...,\n",
      "        [-1.3412, -1.2614, -1.2983,  ..., -0.0807, -0.1196, -0.0837],\n",
      "        [ 0.6720,  0.6411,  0.5564,  ..., -0.2387, -0.3166, -0.1229],\n",
      "        [-0.2930, -0.0496, -0.0327,  ..., -0.1738, -0.0774, -0.1439]]), tensor([[-3.5284, -3.4856, -3.4323,  ..., -0.9795, -0.9624, -1.0435],\n",
      "        [-0.3390, -0.4954, -0.7309,  ..., -0.6747, -0.6033, -0.6008],\n",
      "        [-2.2873, -2.0767, -2.2661,  ...,  1.2631,  1.2401,  1.2891],\n",
      "        ...,\n",
      "        [ 0.7025,  0.8447,  1.0237,  ...,  0.3389,  0.4082,  0.5300],\n",
      "        [ 2.2095,  2.2911,  2.6040,  ...,  1.8658,  1.8080,  1.7025],\n",
      "        [-0.1991, -0.3293, -0.3702,  ..., -0.0629, -0.0681, -0.0189]])], 'age': tensor(-1.1497), 'class_label': tensor(0), 'metadata': {'serial': '01012', 'edfname': '01212635_270515', 'birth': '1956-06-01', 'record': '2015-05-27T09:37:24', 'age': 58, 'dx1': 'cb_normal', 'label': ['normal', 'cb_normal'], 'class_type': 'Normal', 'class_label': 0, 'channel': ['Fp1-AVG', 'F3-AVG', 'C3-AVG', 'P3-AVG', 'O1-AVG', 'Fp2-AVG', 'F4-AVG', 'C4-AVG', 'P4-AVG', 'O2-AVG', 'F7-AVG', 'T3-AVG', 'T5-AVG', 'F8-AVG', 'T4-AVG', 'T6-AVG', 'FZ-AVG', 'CZ-AVG', 'PZ-AVG', 'EKG', 'Photic']}}\n",
      "\n",
      "----------------------------------------------------------------------------------------------------\n",
      "\n",
      "val_dataset[0]:\n",
      "{'signal': [tensor([[ 0.1796,  0.2020,  0.2020,  ...,  0.3363,  0.3363,  0.2468],\n",
      "        [ 0.4402,  0.4889,  0.4889,  ...,  0.7323,  0.6350,  0.5863],\n",
      "        [ 0.3298,  0.4157,  0.4157,  ...,  0.8452,  0.5875,  0.3298],\n",
      "        ...,\n",
      "        [ 0.0038,  0.0038,  0.1820,  ...,  0.1820,  0.0038, -0.0853],\n",
      "        [-0.3476, -0.4349, -0.2603,  ..., -0.1730, -0.0857,  0.0016],\n",
      "        [-0.3067, -0.3385, -0.3597,  ..., -0.2432, -0.2327, -0.1692]]), tensor([[ 0.6720,  0.6720,  0.5824,  ...,  0.2468,  0.2468,  0.2691],\n",
      "        [ 0.5863,  0.5376,  0.4889,  ...,  0.1481,  0.1968,  0.2942],\n",
      "        [ 0.8452,  0.6734,  0.5016,  ...,  0.3298,  0.4157,  0.7593],\n",
      "        ...,\n",
      "        [-0.0853,  0.1820,  0.1820,  ..., -0.7090, -0.7981, -0.5308],\n",
      "        [-0.0857,  0.2635,  0.3508,  ..., -0.6095, -0.6968, -0.6095],\n",
      "        [ 0.2119,  0.0849,  0.0954,  ...,  0.7516,  0.6987,  0.5717]]), tensor([[ 0.1125,  0.1572,  0.0677,  ..., -1.2079, -1.2079, -1.2303],\n",
      "        [ 0.2455,  0.1481, -0.0466,  ..., -2.0427, -1.9453, -1.9453],\n",
      "        [ 0.4157,  0.3298,  0.1580,  ..., -1.6459, -1.4741, -1.3023],\n",
      "        ...,\n",
      "        [-0.8872, -1.0654, -1.3328,  ..., -1.4219, -1.4219, -1.2437],\n",
      "        [ 0.1762,  0.0889,  0.1762,  ..., 12.2236, 11.9617, 11.9617],\n",
      "        [ 0.0425,  0.0425,  0.2542,  ..., -2.1377, -4.3709, -6.5300]]), tensor([[-1.1408, -1.0960, -1.0289,  ...,  0.5824,  0.5601,  0.4705],\n",
      "        [-2.2374, -2.1400, -1.8966,  ...,  0.0994,  0.0507, -0.1927],\n",
      "        [-2.1613, -2.0754, -2.1613,  ..., -0.0997, -0.1856, -0.4433],\n",
      "        ...,\n",
      "        [ 0.3602,  0.2711,  0.2711,  ...,  0.4493,  0.2711,  0.1820],\n",
      "        [ 0.7000,  0.4381,  0.2635,  ...,  0.3508,  0.1762,  0.1762],\n",
      "        [-0.2221, -0.3279, -0.4337,  ..., -0.0104,  0.0319,  0.0637]])], 'age': tensor(0.7204), 'class_label': tensor(1), 'metadata': {'serial': '00700', 'edfname': '00985401_011117', 'birth': '1940-09-09', 'record': '2017-11-01T14:20:48', 'age': 77, 'dx1': 'mci amnestic', 'label': ['mci', 'mci_amnestic'], 'class_type': 'Non-vascular MCI', 'class_label': 1, 'channel': ['Fp1-AVG', 'F3-AVG', 'C3-AVG', 'P3-AVG', 'O1-AVG', 'Fp2-AVG', 'F4-AVG', 'C4-AVG', 'P4-AVG', 'O2-AVG', 'F7-AVG', 'T3-AVG', 'T5-AVG', 'F8-AVG', 'T4-AVG', 'T6-AVG', 'FZ-AVG', 'CZ-AVG', 'PZ-AVG', 'EKG', 'Photic']}}\n",
      "\n",
      "----------------------------------------------------------------------------------------------------\n",
      "\n",
      "test_dataset[0]:\n",
      "{'signal': [tensor([[ 0.5824,  0.6048,  0.5824,  ..., -0.5365, -0.5589, -0.6037],\n",
      "        [ 0.8784,  0.8784,  0.8297,  ...,  0.1968,  0.2455,  0.2942],\n",
      "        [ 0.3298,  0.3298,  0.2439,  ..., -0.3574, -0.3574, -0.2715],\n",
      "        ...,\n",
      "        [ 0.9839,  1.2512,  1.2512,  ..., -0.3526, -0.1744, -0.1744],\n",
      "        [-0.0857, -0.0857, -0.0857,  ...,  0.0889,  0.0889,  0.0889],\n",
      "        [-0.3279, -0.1268,  0.1166,  ..., -0.1268,  0.1801,  0.0108]]), tensor([[ 2.6913e-01,  2.9151e-01,  2.9151e-01,  ...,  4.4817e-01,\n",
      "          4.4817e-01,  4.2579e-01],\n",
      "        [ 9.9429e-02,  1.4811e-01,  2.4548e-01,  ...,  5.8627e-01,\n",
      "          5.8627e-01,  5.8627e-01],\n",
      "        [ 4.1570e-01,  4.1570e-01,  2.4389e-01,  ..., -7.8691e-01,\n",
      "         -5.2921e-01, -3.5741e-01],\n",
      "        ...,\n",
      "        [ 4.4929e-01,  2.7109e-01,  1.8198e-01,  ...,  1.8198e-01,\n",
      "          2.7109e-01,  1.8198e-01],\n",
      "        [ 1.7622e-01,  1.7622e-01,  1.6204e-03,  ..., -8.5679e-02,\n",
      "          1.6204e-03,  8.8920e-02],\n",
      "        [ 3.0712e-01,  9.5440e-02,  2.4361e-01,  ...,  8.1391e+00,\n",
      "          8.8694e+00,  7.7687e+00]]), tensor([[-7.3793e-01, -7.8269e-01, -8.0507e-01,  ..., -3.4906e+00,\n",
      "         -3.4458e+00, -3.4458e+00],\n",
      "        [-1.9267e-01, -2.4136e-01, -2.4136e-01,  ..., -1.5558e+00,\n",
      "         -1.5071e+00, -1.5071e+00],\n",
      "        [-7.0101e-01, -7.0101e-01, -7.0101e-01,  ...,  9.3110e-01,\n",
      "          9.3110e-01,  7.5930e-01],\n",
      "        ...,\n",
      "        [ 1.8198e-01,  2.7109e-01,  1.8198e-01,  ...,  3.7790e-03,\n",
      "          1.8198e-01,  2.7109e-01],\n",
      "        [-3.4758e-01, -8.5679e-02,  1.7622e-01,  ...,  1.3111e+00,\n",
      "          1.3984e+00,  1.3111e+00],\n",
      "        [ 4.4771e+00,  4.7629e+00,  5.0275e+00,  ...,  3.7045e+00,\n",
      "          3.6939e+00,  3.6834e+00]]), tensor([[-4.0224e-01, -3.3511e-01, -3.1273e-01,  ..., -2.1797e-02,\n",
      "          5.8253e-04, -6.6555e-02],\n",
      "        [ 5.3758e-01,  6.8363e-01,  7.8100e-01,  ...,  4.8890e-01,\n",
      "          4.4022e-01,  4.8890e-01],\n",
      "        [ 8.4520e-01,  8.4520e-01,  7.5930e-01,  ..., -4.4331e-01,\n",
      "         -2.7151e-01, -2.7151e-01],\n",
      "        ...,\n",
      "        [ 5.3839e-01,  6.2749e-01,  6.2749e-01,  ..., -7.9814e-01,\n",
      "         -6.1994e-01, -5.3083e-01],\n",
      "        [ 7.8732e-01,  7.0002e-01,  6.1272e-01,  ..., -7.8408e-01,\n",
      "         -6.0948e-01, -3.4758e-01],\n",
      "        [-6.4030e+00, -7.1121e+00, -8.1070e+00,  ...,  4.7206e+00,\n",
      "          4.7417e+00,  4.5195e+00]])], 'age': tensor(1.0259), 'class_label': tensor(0), 'metadata': {'serial': '00299', 'edfname': '00671212_160819', 'birth': '1938-08-17', 'record': '2019-08-16T10:57:03', 'age': 80, 'dx1': 'smi', 'label': ['normal', 'smi'], 'class_type': 'Normal', 'class_label': 0, 'channel': ['Fp1-AVG', 'F3-AVG', 'C3-AVG', 'P3-AVG', 'O1-AVG', 'Fp2-AVG', 'F4-AVG', 'C4-AVG', 'P4-AVG', 'O2-AVG', 'F7-AVG', 'T3-AVG', 'T5-AVG', 'F8-AVG', 'T4-AVG', 'T6-AVG', 'FZ-AVG', 'CZ-AVG', 'PZ-AVG', 'EKG', 'Photic']}}\n",
      "\n",
      "----------------------------------------------------------------------------------------------------\n",
      "\n",
      "test_dataset_longer[0]:\n",
      "{'signal': tensor([[ 5.8244e-01,  5.3768e-01,  4.9293e-01,  ...,  9.4051e-01,\n",
      "          9.1813e-01,  9.4051e-01],\n",
      "        [-2.9004e-01, -2.9004e-01, -3.3873e-01,  ...,  1.9680e-01,\n",
      "          1.4811e-01,  2.4548e-01],\n",
      "        [ 2.4773e+00,  2.4773e+00,  2.4773e+00,  ...,  7.2093e-02,\n",
      "         -1.3807e-02,  7.2093e-02],\n",
      "        ...,\n",
      "        [-6.1994e-01, -8.8724e-01, -1.0654e+00,  ..., -8.5323e-02,\n",
      "         -8.5323e-02,  3.7790e-03],\n",
      "        [-6.9678e-01, -7.8408e-01, -7.8408e-01,  ...,  1.7622e-01,\n",
      "          1.7622e-01,  1.7622e-01],\n",
      "        [-3.7253e+00, -4.3074e+00, -3.8735e+00,  ...,  4.0237e-01,\n",
      "          4.3412e-01,  4.5529e-01]]), 'age': tensor(1.0259), 'class_label': tensor(0), 'metadata': {'serial': '00299', 'edfname': '00671212_160819', 'birth': '1938-08-17', 'record': '2019-08-16T10:57:03', 'age': 80, 'dx1': 'smi', 'label': ['normal', 'smi'], 'class_type': 'Normal', 'class_label': 0, 'channel': ['Fp1-AVG', 'F3-AVG', 'C3-AVG', 'P3-AVG', 'O1-AVG', 'Fp2-AVG', 'F4-AVG', 'C4-AVG', 'P4-AVG', 'O2-AVG', 'F7-AVG', 'T3-AVG', 'T5-AVG', 'F8-AVG', 'T4-AVG', 'T6-AVG', 'FZ-AVG', 'CZ-AVG', 'PZ-AVG', 'EKG', 'Photic']}}\n",
      "\n",
      "----------------------------------------------------------------------------------------------------\n",
      "\n",
      "0 torch.Size([128, 20, 2000]) torch.Size([128]) torch.Size([128]) 128\n",
      "1 torch.Size([128, 20, 2000]) torch.Size([128]) torch.Size([128]) 128\n",
      "2 torch.Size([128, 20, 2000]) torch.Size([128]) torch.Size([128]) 128\n",
      "3 torch.Size([128, 20, 2000]) torch.Size([128]) torch.Size([128]) 128\n",
      "4 torch.Size([128, 20, 2000]) torch.Size([128]) torch.Size([128]) 128\n",
      "\n",
      "----------------------------------------------------------------------------------------------------\n",
      "\n"
     ]
    }
   ],
   "source": [
    "_ = build_dataset(cfg_data, verbose=True)\n",
    "train_loader, val_loader, test_loader, test_loader_longer, class_label_to_type = _"
   ]
  },
  {
   "cell_type": "markdown",
   "metadata": {},
   "source": [
    "-----\n",
    "\n",
    "## Define Network Models"
   ]
  },
  {
   "cell_type": "code",
   "execution_count": 6,
   "metadata": {},
   "outputs": [],
   "source": [
    "if cfg_data.get('crop_multiple', 1) == 1:\n",
    "    cfg_common_model = {'in_channels': _[0].dataset[0]['signal'].shape[0], \n",
    "                        'out_dims': len(_[-1])}\n",
    "else:\n",
    "    cfg_common_model = {'in_channels': _[0].dataset[0]['signal'][0].shape[0], \n",
    "                        'out_dims': len(_[-1])}\n",
    "\n",
    "del _\n",
    "cfg_model_pool = []"
   ]
  },
  {
   "cell_type": "markdown",
   "metadata": {},
   "source": [
    "#### 1D Tiny CNN"
   ]
  },
  {
   "cell_type": "code",
   "execution_count": 7,
   "metadata": {},
   "outputs": [
    {
     "name": "stdout",
     "output_type": "stream",
     "text": [
      "'Model config:'\n",
      "{'LR': None,\n",
      " 'activation': 'mish',\n",
      " 'base_channels': 64,\n",
      " 'dropout': 0.3,\n",
      " 'fc_stages': 2,\n",
      " 'final_pool': 'max',\n",
      " 'generator': <class 'models.simple_cnn_1d.TinyCNN1D'>,\n",
      " 'in_channels': 20,\n",
      " 'model': '1D-Tiny-CNN',\n",
      " 'out_dims': 3,\n",
      " 'use_age': 'fc'}\n",
      "\n",
      "----------------------------------------------------------------------------------------------------\n",
      "\n",
      "TinyCNN1D(\n",
      "  (conv1): Conv1d(20, 64, kernel_size=(35,), stride=(7,))\n",
      "  (bn1): BatchNorm1d(64, eps=1e-05, momentum=0.1, affine=True, track_running_stats=True)\n",
      "  (pool1): MaxPool1d(kernel_size=4, stride=4, padding=0, dilation=1, ceil_mode=False)\n",
      "  (conv2): Conv1d(64, 64, kernel_size=(7,), stride=(1,))\n",
      "  (bn2): BatchNorm1d(64, eps=1e-05, momentum=0.1, affine=True, track_running_stats=True)\n",
      "  (pool2): MaxPool1d(kernel_size=2, stride=2, padding=0, dilation=1, ceil_mode=False)\n",
      "  (final_pool): AdaptiveMaxPool1d(output_size=1)\n",
      "  (fc_stage): Sequential(\n",
      "    (0): Sequential(\n",
      "      (0): Linear(in_features=65, out_features=32, bias=False)\n",
      "      (1): Dropout(p=0.3, inplace=False)\n",
      "      (2): BatchNorm1d(32, eps=1e-05, momentum=0.1, affine=True, track_running_stats=True)\n",
      "      (3): Mish()\n",
      "    )\n",
      "    (1): Sequential(\n",
      "      (0): Linear(in_features=32, out_features=16, bias=False)\n",
      "      (1): Dropout(p=0.3, inplace=False)\n",
      "      (2): BatchNorm1d(16, eps=1e-05, momentum=0.1, affine=True, track_running_stats=True)\n",
      "      (3): Mish()\n",
      "    )\n",
      "    (2): Linear(in_features=16, out_features=3, bias=True)\n",
      "  )\n",
      ")\n",
      "\n",
      "----------------------------------------------------------------------------------------------------\n",
      "\n"
     ]
    }
   ],
   "source": [
    "cfg_model = {}\n",
    "cfg_model.update(cfg_common_model)\n",
    "cfg_model['model'] = '1D-Tiny-CNN'\n",
    "cfg_model['generator'] = TinyCNN1D\n",
    "cfg_model['fc_stages'] = 2\n",
    "cfg_model['use_age'] = 'fc'\n",
    "cfg_model['final_pool'] = 'max'\n",
    "cfg_model['base_channels'] = 64\n",
    "cfg_model['LR'] = None\n",
    "cfg_model['dropout'] = 0.3\n",
    "cfg_model['activation'] = 'mish'\n",
    "\n",
    "pprint.pprint('Model config:')\n",
    "pprint.pprint(cfg_model)\n",
    "print('\\n' + '-' * 100 + '\\n')\n",
    "    \n",
    "model = cfg_model['generator'](**cfg_model).to(device, dtype=torch.float32)\n",
    "print(model)\n",
    "print('\\n' + '-' * 100 + '\\n')\n",
    "\n",
    "del model\n",
    "cfg_model_pool.append(cfg_model)"
   ]
  },
  {
   "cell_type": "markdown",
   "metadata": {},
   "source": [
    "#### M7 model (fc-age)"
   ]
  },
  {
   "cell_type": "code",
   "execution_count": 8,
   "metadata": {},
   "outputs": [],
   "source": [
    "# cfg_model = {}\n",
    "# cfg_model.update(cfg_common_model)\n",
    "# cfg_model['model'] = '1D-Mx'\n",
    "# cfg_model['generator'] = M7\n",
    "# cfg_model['fc_stages'] = 1\n",
    "# cfg_model['use_age'] = 'fc'\n",
    "# cfg_model['final_pool'] = 'max'\n",
    "# cfg_model['base_channels'] = 256\n",
    "# cfg_model['LR'] = None\n",
    "# cfg_model['activation'] = 'relu'\n",
    "\n",
    "# pprint.pprint('Model config:')\n",
    "# pprint.pprint(cfg_model)\n",
    "# print('\\n' + '-' * 100 + '\\n')\n",
    "    \n",
    "# model = cfg_model['generator'](**cfg_model).to(device, dtype=torch.float32)\n",
    "# print(model)\n",
    "# print('\\n' + '-' * 100 + '\\n')\n",
    "\n",
    "# del model\n",
    "# cfg_model_pool.append(cfg_model)"
   ]
  },
  {
   "cell_type": "markdown",
   "metadata": {},
   "source": [
    "#### 1D ResNet model (fc-age)"
   ]
  },
  {
   "cell_type": "code",
   "execution_count": 9,
   "metadata": {},
   "outputs": [],
   "source": [
    "# cfg_model = {}\n",
    "# cfg_model.update(cfg_common_model)\n",
    "# cfg_model['model'] = '1D-ResNet-2x'\n",
    "# cfg_model['generator'] = ResNet1D\n",
    "# cfg_model['block'] = BottleneckBlock1D\n",
    "# cfg_model['conv_layers'] = [2, 2, 2, 2]\n",
    "# cfg_model['fc_stages'] = 3\n",
    "# cfg_model['use_age'] = 'fc'\n",
    "# cfg_model['final_pool'] = 'max'\n",
    "# cfg_model['base_channels'] = 64\n",
    "# cfg_model['LR'] = None\n",
    "# cfg_model['activation'] = 'relu'\n",
    "\n",
    "# pprint.pprint('Model config:')\n",
    "# pprint.pprint(cfg_model)\n",
    "# print('\\n' + '-' * 100 + '\\n')\n",
    "    \n",
    "# model = cfg_model['generator'](**cfg_model).to(device, dtype=torch.float32)\n",
    "# print(model)\n",
    "# print('\\n' + '-' * 100 + '\\n')\n",
    "\n",
    "# del model\n",
    "# cfg_model_pool.append(cfg_model)"
   ]
  },
  {
   "cell_type": "markdown",
   "metadata": {},
   "source": [
    "#### Deeper 1D ResNet model (fc-age)"
   ]
  },
  {
   "cell_type": "code",
   "execution_count": 10,
   "metadata": {},
   "outputs": [],
   "source": [
    "# cfg_model = {}\n",
    "# cfg_model.update(cfg_common_model)\n",
    "# cfg_model['model'] = '1D-ResNet-5x'\n",
    "# cfg_model['generator'] = ResNet1D\n",
    "# cfg_model['block'] = BottleneckBlock1D\n",
    "# cfg_model['conv_layers'] = [3, 4, 6, 3]\n",
    "# cfg_model['fc_stages'] = 3\n",
    "# cfg_model['use_age'] = 'fc'\n",
    "# cfg_model['final_pool'] = 'max'\n",
    "# cfg_model['base_channels'] = 64\n",
    "# cfg_model['LR'] = None\n",
    "# cfg_model['activation'] = 'relu'\n",
    "\n",
    "# pprint.pprint('Model config:')\n",
    "# pprint.pprint(cfg_model)\n",
    "# print('\\n' + '-' * 100 + '\\n')\n",
    "    \n",
    "# model = cfg_model['generator'](**cfg_model).to(device, dtype=torch.float32)\n",
    "# print(model)\n",
    "# print('\\n' + '-' * 100 + '\\n')\n",
    "\n",
    "# del model\n",
    "# cfg_model_pool.append(cfg_model)"
   ]
  },
  {
   "cell_type": "markdown",
   "metadata": {},
   "source": [
    "#### Shallower 1D ResNet"
   ]
  },
  {
   "cell_type": "code",
   "execution_count": 11,
   "metadata": {},
   "outputs": [],
   "source": [
    "# cfg_model = {}\n",
    "# cfg_model.update(cfg_common_model)\n",
    "# cfg_model['model'] = '1D-ResNet-2x'\n",
    "# cfg_model['generator'] = ResNet1D\n",
    "# cfg_model['block'] = BasicBlock1D\n",
    "# cfg_model['conv_layers'] = [2, 2, 2, 2]\n",
    "# cfg_model['fc_stages'] = 3\n",
    "# cfg_model['use_age'] = 'fc'\n",
    "# cfg_model['final_pool'] = 'max'\n",
    "# cfg_model['base_channels'] = 64\n",
    "# cfg_model['LR'] = None\n",
    "# cfg_model['activation'] = 'relu'\n",
    "\n",
    "# pprint.pprint('Model config:')\n",
    "# pprint.pprint(cfg_model)\n",
    "# print('\\n' + '-' * 100 + '\\n')\n",
    "    \n",
    "# model = cfg_model['generator'](**cfg_model).to(device, dtype=torch.float32)\n",
    "# print(model)\n",
    "# print('\\n' + '-' * 100 + '\\n')\n",
    "\n",
    "# del model\n",
    "# cfg_model_pool.append(cfg_model)"
   ]
  },
  {
   "cell_type": "markdown",
   "metadata": {},
   "source": [
    "#### Tiny 1D ResNet model"
   ]
  },
  {
   "cell_type": "code",
   "execution_count": 12,
   "metadata": {},
   "outputs": [],
   "source": [
    "# cfg_model = {}\n",
    "# cfg_model.update(cfg_common_model)\n",
    "# cfg_model['model'] = '1D-ResNet-1x'\n",
    "# cfg_model['generator'] = ResNet1D\n",
    "# cfg_model['block'] = BasicBlock1D\n",
    "# cfg_model['conv_layers'] = [1, 1, 1, 1]\n",
    "# cfg_model['fc_stages'] = 3\n",
    "# cfg_model['use_age'] = 'fc'\n",
    "# cfg_model['final_pool'] = 'max'\n",
    "# cfg_model['base_channels'] = 64\n",
    "# cfg_model['LR'] = None\n",
    "# cfg_model['activation'] = 'relu'\n",
    "\n",
    "# pprint.pprint('Model config:')\n",
    "# pprint.pprint(cfg_model)\n",
    "# print('\\n' + '-' * 100 + '\\n')\n",
    "    \n",
    "# model = cfg_model['generator'](**cfg_model).to(device, dtype=torch.float32)\n",
    "# print(model)\n",
    "# print('\\n' + '-' * 100 + '\\n')\n",
    "\n",
    "# del model\n",
    "# cfg_model_pool.append(cfg_model)"
   ]
  },
  {
   "cell_type": "markdown",
   "metadata": {},
   "source": [
    "#### Multi-Dilated 1D ResNet model"
   ]
  },
  {
   "cell_type": "code",
   "execution_count": 13,
   "metadata": {},
   "outputs": [],
   "source": [
    "# cfg_model = {}\n",
    "# cfg_model.update(cfg_common_model)\n",
    "# cfg_model['model'] = '1D-Multi-Dilated-ResNet-5x'\n",
    "# cfg_model['generator'] = ResNet1D\n",
    "# cfg_model['block'] = MultiBottleneckBlock1D\n",
    "# cfg_model['conv_layers'] = [3, 4, 6, 3]\n",
    "# cfg_model['fc_stages'] = 3\n",
    "# cfg_model['use_age'] = 'fc'\n",
    "# cfg_model['final_pool'] = 'max'\n",
    "# cfg_model['base_channels'] = 32\n",
    "# cfg_model['LR'] = None\n",
    "# cfg_model['activation'] = 'relu'\n",
    "\n",
    "# pprint.pprint('Model config:')\n",
    "# pprint.pprint(cfg_model)\n",
    "# print('\\n' + '-' * 100 + '\\n')\n",
    "    \n",
    "# model = cfg_model['generator'](**cfg_model).to(device, dtype=torch.float32)\n",
    "# print(model)\n",
    "# print('\\n' + '-' * 100 + '\\n')\n",
    "\n",
    "# del model\n",
    "# cfg_model_pool.append(cfg_model)"
   ]
  },
  {
   "cell_type": "markdown",
   "metadata": {},
   "source": [
    "#### 1D ResNeXt-53"
   ]
  },
  {
   "cell_type": "code",
   "execution_count": 14,
   "metadata": {
    "tags": []
   },
   "outputs": [],
   "source": [
    "# cfg_model = {}\n",
    "# cfg_model.update(cfg_common_model)\n",
    "# cfg_model['model'] = '1D-ResNeXt-5x'\n",
    "# cfg_model['generator'] = ResNet1D\n",
    "# cfg_model['block'] = BottleneckBlock1D\n",
    "# cfg_model['conv_layers'] = [3, 4, 6, 3]\n",
    "# cfg_model['fc_stages'] = 3\n",
    "# cfg_model['use_age'] = 'fc'\n",
    "# cfg_model['final_pool'] = 'max'\n",
    "# cfg_model['base_channels'] = 64\n",
    "# cfg_model['groups'] = 32\n",
    "# cfg_model['LR'] = None\n",
    "# cfg_model['activation'] = 'relu'\n",
    "\n",
    "# pprint.pprint('Model config:')\n",
    "# pprint.pprint(cfg_model)\n",
    "# print('\\n' + '-' * 100 + '\\n')\n",
    "    \n",
    "# model = cfg_model['generator'](**cfg_model).to(device, dtype=torch.float32)\n",
    "# print(model)\n",
    "# print('\\n' + '-' * 100 + '\\n')\n",
    "\n",
    "# del model\n",
    "# cfg_model_pool.append(cfg_model)"
   ]
  },
  {
   "cell_type": "markdown",
   "metadata": {},
   "source": [
    "#### 1D ResNeXt-103"
   ]
  },
  {
   "cell_type": "code",
   "execution_count": 15,
   "metadata": {},
   "outputs": [],
   "source": [
    "# cfg_model = {}\n",
    "# cfg_model.update(cfg_common_model)\n",
    "# cfg_model['model'] = '1D-ResNeXt-10x'\n",
    "# cfg_model['generator'] = ResNet1D\n",
    "# cfg_model['block'] = BottleneckBlock1D\n",
    "# cfg_model['conv_layers'] = [3, 4, 23, 3]\n",
    "# cfg_model['fc_stages'] = 3\n",
    "# cfg_model['use_age'] = 'fc'\n",
    "# cfg_model['final_pool'] = 'max'\n",
    "# cfg_model['base_channels'] = 64\n",
    "# cfg_model['groups'] = 32\n",
    "# cfg_model['LR'] = None\n",
    "# cfg_model['activation'] = 'relu'\n",
    "\n",
    "# pprint.pprint('Model config:')\n",
    "# pprint.pprint(cfg_model)\n",
    "# print('\\n' + '-' * 100 + '\\n')\n",
    "    \n",
    "# model = cfg_model['generator'](**cfg_model).to(device, dtype=torch.float32)\n",
    "# print(model)\n",
    "# print('\\n' + '-' * 100 + '\\n')\n",
    "\n",
    "# del model\n",
    "# cfg_model_pool.append(cfg_model)"
   ]
  },
  {
   "cell_type": "markdown",
   "metadata": {},
   "source": [
    "#### 2D ResNet-20 model"
   ]
  },
  {
   "cell_type": "code",
   "execution_count": 16,
   "metadata": {},
   "outputs": [],
   "source": [
    "# cfg_model = {}\n",
    "# cfg_model.update(cfg_common_model)\n",
    "# cfg_model['model'] = '2D-ResNet-2x' # resnet-18 + three more fc layer\n",
    "# cfg_model['generator'] = ResNet2D\n",
    "# cfg_model['block'] = BasicBlock2D\n",
    "# cfg_model['conv_layers'] = [2, 2, 2, 2]\n",
    "# cfg_model['fc_stages'] = 3\n",
    "# cfg_model['use_age'] = 'fc'\n",
    "# cfg_model['final_pool'] = 'max'\n",
    "# cfg_model['base_channels'] = 64\n",
    "# cfg_model['n_fft'] = 100\n",
    "# cfg_model['complex_mode'] = 'as_real' # 'power', 'remove'\n",
    "# cfg_model['hop_length'] = cfg_model['n_fft'] // 2\n",
    "# cfg_model['LR'] = None\n",
    "# cfg_model['activation'] = 'relu'\n",
    "\n",
    "# pprint.pprint('Model config:')\n",
    "# pprint.pprint(cfg_model)\n",
    "# print('\\n' + '-' * 100 + '\\n')\n",
    "\n",
    "# model = cfg_model['generator'](**cfg_model).to(device, dtype=torch.float32)\n",
    "# print(model)\n",
    "# print('\\n' + '-' * 100 + '\\n')\n",
    "\n",
    "# del model\n",
    "# cfg_model_pool.append(cfg_model)"
   ]
  },
  {
   "cell_type": "markdown",
   "metadata": {},
   "source": [
    "#### 2D ResNet-52 model"
   ]
  },
  {
   "cell_type": "code",
   "execution_count": 17,
   "metadata": {},
   "outputs": [],
   "source": [
    "# cfg_model = {}\n",
    "# cfg_model.update(cfg_common_model)\n",
    "# cfg_model['model'] = '2D-ResNet-5x' # resnet-50 + three more fc layer\n",
    "# cfg_model['generator'] = ResNet2D\n",
    "# cfg_model['block'] = Bottleneck2D\n",
    "# cfg_model['conv_layers'] = [3, 4, 6, 3]\n",
    "# cfg_model['fc_stages'] = 3\n",
    "# cfg_model['use_age'] = 'fc'\n",
    "# cfg_model['final_pool'] = 'max'\n",
    "# cfg_model['base_channels'] = 64\n",
    "# cfg_model['n_fft'] = 100\n",
    "# cfg_model['complex_mode'] = 'as_real' # 'power', 'remove'\n",
    "# cfg_model['hop_length'] = cfg_model['n_fft'] // 2\n",
    "# cfg_model['LR'] = None\n",
    "# cfg_model['activation'] = 'relu'\n",
    "\n",
    "# pprint.pprint('Model config:')\n",
    "# pprint.pprint(cfg_model)\n",
    "# print('\\n' + '-' * 100 + '\\n')\n",
    "\n",
    "# model = cfg_model['generator'](**cfg_model).to(device, dtype=torch.float32)\n",
    "# print(model)\n",
    "# print('\\n' + '-' * 100 + '\\n')\n",
    "\n",
    "# del model\n",
    "# cfg_model_pool.append(cfg_model)"
   ]
  },
  {
   "cell_type": "markdown",
   "metadata": {},
   "source": [
    "#### 2D ResNeXt-104 model"
   ]
  },
  {
   "cell_type": "code",
   "execution_count": 18,
   "metadata": {},
   "outputs": [],
   "source": [
    "# cfg_model = {}\n",
    "# cfg_model.update(cfg_common_model)\n",
    "# cfg_model['model'] = '2D-ResNeXt-10x' # resnet-101 + three more fc layer\n",
    "# cfg_model['generator'] = ResNet2D\n",
    "# cfg_model['block'] = Bottleneck2D\n",
    "# cfg_model['conv_layers'] = [3, 4, 23, 3]\n",
    "# cfg_model['fc_stages'] = 3\n",
    "# cfg_model['use_age'] = 'fc'\n",
    "# cfg_model['final_pool'] = 'max'\n",
    "# cfg_model['base_channels'] = 64\n",
    "# cfg_model['n_fft'] = 100\n",
    "# cfg_model['complex_mode'] = 'as_real' # 'power', 'remove'\n",
    "# cfg_model['hop_length'] = cfg_model['n_fft'] // 2\n",
    "# cfg_model['groups'] = 32\n",
    "# cfg_model['width_per_group'] = 8\n",
    "# cfg_model['LR'] = None\n",
    "# cfg_model['activation'] = 'relu'\n",
    "\n",
    "# pprint.pprint('Model config:')\n",
    "# pprint.pprint(cfg_model)\n",
    "# print('\\n' + '-' * 100 + '\\n')\n",
    "\n",
    "# model = cfg_model['generator'](**cfg_model).to(device, dtype=torch.float32)\n",
    "# print(model)\n",
    "# print('\\n' + '-' * 100 + '\\n')\n",
    "\n",
    "# del model\n",
    "# cfg_model_pool.append(cfg_model)"
   ]
  },
  {
   "cell_type": "markdown",
   "metadata": {},
   "source": [
    "#### CNN-Transformer"
   ]
  },
  {
   "cell_type": "code",
   "execution_count": 19,
   "metadata": {},
   "outputs": [],
   "source": [
    "# cfg_model = {}\n",
    "# cfg_model.update(cfg_common_model)\n",
    "# cfg_model['model'] = '1D-CNN-Transformer'\n",
    "# cfg_model['generator'] = CNNTransformer\n",
    "# cfg_model['fc_stages'] = 2\n",
    "# cfg_model['use_age'] = 'fc'\n",
    "# cfg_model['final_pool'] = 'max'\n",
    "# cfg_model['base_channels'] = 256\n",
    "# cfg_model['n_encoders'] = 4\n",
    "# cfg_model['n_heads'] = 4\n",
    "# cfg_model['dropout'] = 0.2\n",
    "# cfg_model['LR'] = None\n",
    "# cfg_model['activation'] = 'relu'\n",
    "\n",
    "# pprint.pprint('Model config:')\n",
    "# pprint.pprint(cfg_model)\n",
    "# print('\\n' + '-' * 100 + '\\n')\n",
    "\n",
    "# model = cfg_model['generator'](**cfg_model).to(device, dtype=torch.float32)\n",
    "# print(model)\n",
    "# print('\\n' + '-' * 100 + '\\n')\n",
    "\n",
    "# del model\n",
    "# cfg_model_pool.append(cfg_model)"
   ]
  },
  {
   "cell_type": "markdown",
   "metadata": {},
   "source": [
    "#### Summarize the model pool"
   ]
  },
  {
   "cell_type": "code",
   "execution_count": 20,
   "metadata": {},
   "outputs": [
    {
     "name": "stdout",
     "output_type": "stream",
     "text": [
      "{'in_channels': 20,\n",
      " 'out_dims': 3,\n",
      " 'model': '1D-Tiny-CNN',\n",
      " 'generator': <class 'models.simple_cnn_1d.TinyCNN1D'>,\n",
      " 'fc_stages': 2,\n",
      " 'use_age': 'fc',\n",
      " 'final_pool': 'max',\n",
      " 'base_channels': 64,\n",
      " 'LR': None,\n",
      " 'dropout': 0.3,\n",
      " 'activation': 'mish'}\n",
      "\n",
      "----------------------------------------------------------------------------------------------------\n",
      "\n"
     ]
    }
   ],
   "source": [
    "for cfg_model in cfg_model_pool:\n",
    "    pprint.pp(cfg_model, width=150)\n",
    "    print('\\n' + '-' * 100 + '\\n')"
   ]
  },
  {
   "cell_type": "markdown",
   "metadata": {},
   "source": [
    "#### Selected model"
   ]
  },
  {
   "cell_type": "code",
   "execution_count": 21,
   "metadata": {},
   "outputs": [
    {
     "name": "stdout",
     "output_type": "stream",
     "text": [
      "{'in_channels': 20,\n",
      " 'out_dims': 3,\n",
      " 'model': '1D-Tiny-CNN',\n",
      " 'generator': <class 'models.simple_cnn_1d.TinyCNN1D'>,\n",
      " 'fc_stages': 2,\n",
      " 'use_age': 'fc',\n",
      " 'final_pool': 'max',\n",
      " 'base_channels': 64,\n",
      " 'LR': None,\n",
      " 'dropout': 0.3,\n",
      " 'activation': 'mish'}\n"
     ]
    }
   ],
   "source": [
    "model_index = 0\n",
    "cfg_model = cfg_model_pool[model_index]\n",
    "\n",
    "pprint.pp(cfg_model, width=150)"
   ]
  },
  {
   "cell_type": "markdown",
   "metadata": {},
   "source": [
    "-----\n",
    "\n",
    "## Default Configurations for Training"
   ]
  },
  {
   "cell_type": "code",
   "execution_count": 22,
   "metadata": {},
   "outputs": [],
   "source": [
    "# training configurations\n",
    "cfg_train = {}\n",
    "cfg_train['iterations'] = 150000 // cfg_data.get('crop_multiple', 1) \n",
    "cfg_train['num_history'] = 500\n",
    "cfg_train['lr_decay_timing'] = 0.8\n",
    "cfg_train['lr_decay_gamma'] = 0.1\n",
    "cfg_train['weight_decay'] = 1e-2\n",
    "cfg_train['mixup'] = 0.0 # 0 for no usage\n",
    "cfg_train['criterion'] = 'cross-entropy' # 'cross-entropy', 'multi-bce'\n",
    "\n",
    "cfg_train['device'] = device\n",
    "cfg_train['save_model'] = True\n",
    "cfg_train['save_temporary'] = False\n",
    "cfg_train['draw_result'] = True\n",
    "cfg_train['watch_model'] = False"
   ]
  },
  {
   "cell_type": "markdown",
   "metadata": {},
   "source": [
    "-----\n",
    "\n",
    "## Train"
   ]
  },
  {
   "cell_type": "code",
   "execution_count": 23,
   "metadata": {},
   "outputs": [
    {
     "name": "stderr",
     "output_type": "stream",
     "text": [
      "\u001b[34m\u001b[1mwandb\u001b[0m: Currently logged in as: \u001b[33mipis-mjkim\u001b[0m (use `wandb login --relogin` to force relogin)\n"
     ]
    },
    {
     "data": {
      "text/html": [
       "Tracking run with wandb version 0.12.11"
      ],
      "text/plain": [
       "<IPython.core.display.HTML object>"
      ]
     },
     "metadata": {},
     "output_type": "display_data"
    },
    {
     "data": {
      "text/html": [
       "Run data is saved locally in <code>C:\\Users\\bengb\\OneDrive\\문서\\GitHub\\eeg_analysis\\wandb\\run-20220321_022720-h9h2xuis</code>"
      ],
      "text/plain": [
       "<IPython.core.display.HTML object>"
      ]
     },
     "metadata": {},
     "output_type": "display_data"
    },
    {
     "data": {
      "text/html": [
       "Syncing run <strong><a href=\"https://wandb.ai/ipis-mjkim/eeg-analysis/runs/h9h2xuis\" target=\"_blank\">decent-jazz-20</a></strong> to <a href=\"https://wandb.ai/ipis-mjkim/eeg-analysis\" target=\"_blank\">Weights & Biases</a> (<a href=\"https://wandb.me/run\" target=\"_blank\">docs</a>)<br/>"
      ],
      "text/plain": [
       "<IPython.core.display.HTML object>"
      ]
     },
     "metadata": {},
     "output_type": "display_data"
    },
    {
     "name": "stdout",
     "output_type": "stream",
     "text": [
      "************************************************************************************************************************\n",
      "******************************                  1D-Tiny-CNN train starts                  ******************************\n",
      "************************************************************************************************************************\n",
      "\n"
     ]
    },
    {
     "data": {
      "text/html": [
       "Waiting for W&B process to finish... <strong style=\"color:green\">(success).</strong>"
      ],
      "text/plain": [
       "<IPython.core.display.HTML object>"
      ]
     },
     "metadata": {},
     "output_type": "display_data"
    },
    {
     "data": {
      "application/vnd.jupyter.widget-view+json": {
       "model_id": "",
       "version_major": 2,
       "version_minor": 0
      },
      "text/plain": [
       "VBox(children=(Label(value='0.326 MB of 0.326 MB uploaded (0.000 MB deduped)\\r'), FloatProgress(value=1.0, max…"
      ]
     },
     "metadata": {},
     "output_type": "display_data"
    },
    {
     "data": {
      "text/html": [
       "<style>\n",
       "    table.wandb td:nth-child(1) { padding: 0 10px; text-align: right }\n",
       "    .wandb-row { display: flex; flex-direction: row; flex-wrap: wrap; width: 100% }\n",
       "    .wandb-col { display: flex; flex-direction: column; flex-basis: 100%; flex: 1; padding: 10px; }\n",
       "    </style>\n",
       "<div class=\"wandb-row\"><div class=\"wandb-col\"><h3>Run history:</h3><br/><table class=\"wandb\"><tr><td>Loss</td><td>█▇▇▆▆▆▅▅▄▄▄▄▄▄▄▄▄▃▃▃▃▃▃▃▃▃▃▃▃▃▃▃▂▁▂▁▁▁▁▁</td></tr><tr><td>Test Accuracy</td><td>▁</td></tr><tr><td>Test Accuracy (Longer)</td><td>▁</td></tr><tr><td>Train Accuracy</td><td>▁▂▃▃▄▄▄▅▅▅▅▆▆▆▆▆▆▆▆▆▆▆▆▆▆▇▆▆▇▆▇▆▇███████</td></tr><tr><td>Validation Accuracy</td><td>███▂▆▅▇▇▆▆▇▆▆▇▆▆▆▆▇▃▁█▄▆▆▅▃▆▅▆▇▇▆▇▆▇▆▆▆▆</td></tr></table><br/></div><div class=\"wandb-col\"><h3>Run summary:</h3><br/><table class=\"wandb\"><tr><td>Loss</td><td>0.32048</td></tr><tr><td>Test Accuracy</td><td>61.34615</td></tr><tr><td>Test Accuracy (Longer)</td><td>62.4359</td></tr><tr><td>Train Accuracy</td><td>88.29167</td></tr><tr><td>Validation Accuracy</td><td>54.61538</td></tr></table><br/></div></div>"
      ],
      "text/plain": [
       "<IPython.core.display.HTML object>"
      ]
     },
     "metadata": {},
     "output_type": "display_data"
    },
    {
     "data": {
      "text/html": [
       "Synced <strong style=\"color:#cdcd00\">decent-jazz-20</strong>: <a href=\"https://wandb.ai/ipis-mjkim/eeg-analysis/runs/h9h2xuis\" target=\"_blank\">https://wandb.ai/ipis-mjkim/eeg-analysis/runs/h9h2xuis</a><br/>Synced 7 W&B file(s), 5 media file(s), 4 artifact file(s) and 1 other file(s)"
      ],
      "text/plain": [
       "<IPython.core.display.HTML object>"
      ]
     },
     "metadata": {},
     "output_type": "display_data"
    },
    {
     "data": {
      "text/html": [
       "Find logs at: <code>.\\wandb\\run-20220321_022720-h9h2xuis\\logs</code>"
      ],
      "text/plain": [
       "<IPython.core.display.HTML object>"
      ]
     },
     "metadata": {},
     "output_type": "display_data"
    }
   ],
   "source": [
    "wandb_run = wandb.init(project=\"eeg-analysis\")\n",
    "wandb.run.name = wandb.run.id\n",
    "\n",
    "with wandb_run:\n",
    "    # wandb config update\n",
    "    config = {}\n",
    "    for k, v in {**cfg_data, **cfg_train, **cfg_model}.items():\n",
    "        if k not in wandb.config:\n",
    "            config[k] = v\n",
    "\n",
    "    # to prevent callables from type-conversion to str\n",
    "    config['history_interval'] = config['iterations'] // config['num_history']\n",
    "    wandb.config.update(config)\n",
    "    for k, v in wandb.config.items():\n",
    "        if k not in config:\n",
    "            config[k] = v\n",
    "\n",
    "    if cfg_data.get('crop_multiple', 1) == 1:\n",
    "        config['in_channels'] = train_loader.dataset[0]['signal'].shape[0]\n",
    "    else:\n",
    "        config['in_channels'] = train_loader.dataset[0]['signal'][0].shape[0]\n",
    "    config['out_dims'] = len(class_label_to_type)\n",
    "\n",
    "    # train the model\n",
    "    train_with_wandb(config, train_loader,\n",
    "                     val_loader, test_loader,\n",
    "                     test_loader_longer, class_label_to_type)"
   ]
  },
  {
   "cell_type": "code",
   "execution_count": null,
   "metadata": {},
   "outputs": [],
   "source": []
  }
 ],
 "metadata": {
  "kernelspec": {
   "display_name": "Python 3 (ipykernel)",
   "language": "python",
   "name": "python3"
  },
  "language_info": {
   "codemirror_mode": {
    "name": "ipython",
    "version": 3
   },
   "file_extension": ".py",
   "mimetype": "text/x-python",
   "name": "python",
   "nbconvert_exporter": "python",
   "pygments_lexer": "ipython3",
   "version": "3.9.7"
  }
 },
 "nbformat": 4,
 "nbformat_minor": 4
}
