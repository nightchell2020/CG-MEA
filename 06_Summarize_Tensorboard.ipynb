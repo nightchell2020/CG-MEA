{
 "cells": [
  {
   "cell_type": "code",
   "execution_count": 1,
   "id": "bd81449c-e6d6-4c63-ae53-dd58e950fe7f",
   "metadata": {},
   "outputs": [],
   "source": [
    "# Load some packages\n",
    "import os\n",
    "import glob\n",
    "import json\n",
    "import datetime\n",
    "from copy import deepcopy\n",
    "\n",
    "import matplotlib.pyplot as plt\n",
    "import pprint\n",
    "from IPython.display import clear_output\n",
    "from tqdm.auto import tqdm \n",
    "\n",
    "import numpy as np\n",
    "import random\n",
    "import torch\n",
    "\n",
    "from torch.utils.tensorboard import SummaryWriter"
   ]
  },
  {
   "cell_type": "code",
   "execution_count": 3,
   "id": "3d9ee339-4a34-416b-a462-1103b40a26e5",
   "metadata": {},
   "outputs": [
    {
     "name": "stdout",
     "output_type": "stream",
     "text": [
      "{'model': '1D-ResNet-50', 'num_params': 26291075, 'final_pool': 'max', 'starting_lr': 0.002486974865972968, 'weight_decay': 0.01, 'awgn': 0.5, 'steps': 100000} {'final_loss': 0.020050985738635063, 'train_accuracy': 99.25, 'validation_accuracy': 60.76923076923077, 'test_accuracy': 58.782051282051285}\n",
      "{'model': '1D-ResNet', 'num_params': 16729219, 'final_pool': 'max', 'starting_lr': 0.000733633660232979, 'weight_decay': 0.01, 'awgn': 0.5, 'steps': 100000} {'final_loss': 0.0006636945181526244, 'train_accuracy': 99.5625, 'validation_accuracy': 59.03846153846154, 'test_accuracy': 64.2948717948718}\n",
      "{'model': 'M5', 'num_params': 8411651, 'final_pool': 'max', 'starting_lr': 0.0003704642991107269, 'weight_decay': 0.01, 'awgn': 0.5, 'steps': 100000} {'final_loss': 0.0008513953071087599, 'train_accuracy': 99.703125, 'validation_accuracy': 61.92307692307692, 'test_accuracy': 63.46153846153846}\n"
     ]
    }
   ],
   "source": [
    "root_folder = 'checkpoint/*'\n",
    "\n",
    "with SummaryWriter(log_dir='runs/hparam') as w:\n",
    "    for folder in glob.glob(root_folder):\n",
    "        if os.path.isdir(folder):\n",
    "            exp_name = folder[folder.find('\\\\') + 1:]\n",
    "            \n",
    "            for log in glob.glob(os.path.join(folder, '*')):\n",
    "                if log.endswith('log'):\n",
    "                    log_dict = torch.load(log)\n",
    "                    \n",
    "                    if 'awgn' in exp_name:\n",
    "                        awgn = exp_name[exp_name.find('awgn') + 4:]\n",
    "                        awgn = awgn if awgn.find('_') == -1 else awgn[:awgn.find('_')]\n",
    "                        awgn = float(awgn)\n",
    "                    else:\n",
    "                        awgn = 0.0\n",
    "                        \n",
    "                    if 'wd' in exp_name and 'weight_decay' not in log_dict:\n",
    "                        weight_decay = exp_name[exp_name.find('wd') + 2:]\n",
    "                        weight_decay = weight_decay if weight_decay.find('_') == -1 else weight_decay[:weight_decay.find('_')]\n",
    "                        weight_decay = float(weight_decay)\n",
    "                    else:\n",
    "                        weight_decay = log_dict.get('weight_decay', 1e-4)\n",
    "                        \n",
    "                    if 'avg' in exp_name:\n",
    "                        final_pool = 'avg'\n",
    "                    else:\n",
    "                        final_pool = 'max'\n",
    "\n",
    "                    hparam_dict = {\n",
    "                        'model': log_dict['model'],\n",
    "                        'num_params': log_dict.get('num_params', 0),\n",
    "                        'final_pool': final_pool,\n",
    "                        'starting_lr': log_dict['starting_lr'],\n",
    "                        'weight_decay': weight_decay,\n",
    "                        'awgn': awgn,\n",
    "                        'steps': len(log_dict['losses']) if len(log_dict['losses']) % 100 == 0 else len(log_dict['losses']) + 1,\n",
    "                    }\n",
    "                    metric_dict = {\n",
    "                        'final_loss': log_dict['losses'][-1],\n",
    "                        'train_accuracy': log_dict['train_acc_history'][-1],\n",
    "                        'validation_accuracy': log_dict['val_acc_history'][-1],\n",
    "                        'test_accuracy': max(log_dict['best_test_accuracy'], log_dict['last_test_accuracy']),\n",
    "                    }\n",
    "                    \n",
    "#                     if '1D-ResNet' not in log_dict['model']:\n",
    "#                         continue\n",
    "\n",
    "                    w.add_hparams(hparam_dict, metric_dict)"
   ]
  },
  {
   "cell_type": "code",
   "execution_count": null,
   "id": "5f4f37c1-5090-4f8c-9b89-b0903a752c63",
   "metadata": {},
   "outputs": [],
   "source": []
  },
  {
   "cell_type": "code",
   "execution_count": null,
   "id": "ebfaf13c-d84a-4129-b453-9f82403fdb62",
   "metadata": {},
   "outputs": [],
   "source": []
  },
  {
   "cell_type": "code",
   "execution_count": null,
   "id": "88afc3b3-7669-403b-9ff6-7c76bb3adbc9",
   "metadata": {},
   "outputs": [],
   "source": []
  },
  {
   "cell_type": "code",
   "execution_count": null,
   "id": "3fcaa605-67e6-40da-ab6f-18978567881c",
   "metadata": {},
   "outputs": [],
   "source": []
  }
 ],
 "metadata": {
  "kernelspec": {
   "display_name": "Python 3 (ipykernel)",
   "language": "python",
   "name": "python3"
  },
  "language_info": {
   "codemirror_mode": {
    "name": "ipython",
    "version": 3
   },
   "file_extension": ".py",
   "mimetype": "text/x-python",
   "name": "python",
   "nbconvert_exporter": "python",
   "pygments_lexer": "ipython3",
   "version": "3.8.10"
  }
 },
 "nbformat": 4,
 "nbformat_minor": 5
}
