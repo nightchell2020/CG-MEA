{
 "cells": [
  {
   "cell_type": "markdown",
   "metadata": {
    "pycharm": {
     "name": "#%% md\n"
    }
   },
   "source": [
    "# Dataset and DataLoader\n",
    "\n",
    "This notebook loads the `CAUEEG` dataset, tests some useful preprocessing, and makes up the PyTorch DataLoader instances for the training."
   ]
  },
  {
   "cell_type": "markdown",
   "metadata": {
    "pycharm": {
     "name": "#%% md\n"
    }
   },
   "source": [
    "-----\n",
    "\n",
    "## Configurations"
   ]
  },
  {
   "cell_type": "code",
   "execution_count": 1,
   "metadata": {
    "pycharm": {
     "name": "#%%\n"
    }
   },
   "outputs": [
    {
     "name": "stdout",
     "output_type": "stream",
     "text": [
      "C:\\Users\\Minjae\\Desktop\\EEG_Project\n"
     ]
    }
   ],
   "source": [
    "# for auto-reloading external modules\n",
    "# see http://stackoverflow.com/questions/1907993/autoreload-of-modules-in-ipython\n",
    "%load_ext autoreload\n",
    "%autoreload 2\n",
    "%cd .."
   ]
  },
  {
   "cell_type": "code",
   "execution_count": 2,
   "metadata": {
    "pycharm": {
     "name": "#%%\n"
    }
   },
   "outputs": [],
   "source": [
    "# Load some packages\n",
    "import os\n",
    "import glob\n",
    "import json\n",
    "import pprint\n",
    "\n",
    "import numpy as np\n",
    "import random\n",
    "import torch\n",
    "import torch.optim as optim\n",
    "from torch.utils.data import DataLoader\n",
    "from torchvision import transforms\n",
    "\n",
    "# custom package\n",
    "from datasets.caueeg_dataset import *\n",
    "from datasets.caueeg_script import *\n",
    "from datasets.pipeline import *"
   ]
  },
  {
   "cell_type": "code",
   "execution_count": 3,
   "metadata": {
    "pycharm": {
     "name": "#%%\n"
    }
   },
   "outputs": [
    {
     "name": "stdout",
     "output_type": "stream",
     "text": [
      "PyTorch version: 1.11.0+cu113\n",
      "cuda is available.\n"
     ]
    }
   ],
   "source": [
    "print('PyTorch version:', torch.__version__)\n",
    "device = torch.device('cuda' if torch.cuda.is_available() else 'cpu')\n",
    "\n",
    "if torch.cuda.is_available(): print('cuda is available.')\n",
    "else: print('cuda is unavailable.')"
   ]
  },
  {
   "cell_type": "code",
   "execution_count": 4,
   "metadata": {
    "pycharm": {
     "name": "#%%\n"
    }
   },
   "outputs": [],
   "source": [
    "# Data file path\n",
    "data_path = r'local/dataset/02_Curated_Data_220419/'"
   ]
  },
  {
   "cell_type": "markdown",
   "metadata": {
    "pycharm": {
     "name": "#%% md\n"
    }
   },
   "source": [
    "-----\n",
    "\n",
    "## Benchmark 1"
   ]
  },
  {
   "cell_type": "code",
   "execution_count": 24,
   "metadata": {},
   "outputs": [],
   "source": [
    "with open(os.path.join(data_path, 'task1.json'), 'r') as json_file:\n",
    "    task1_dict = json.load(json_file)\n",
    "    \n",
    "with open(os.path.join(data_path, 'annotation_debug.json'), 'r') as json_file:\n",
    "    annotation_debug = json.load(json_file)"
   ]
  },
  {
   "cell_type": "code",
   "execution_count": 23,
   "metadata": {},
   "outputs": [],
   "source": [
    "train_serials = [d['serial'] for d in task1_dict['train_split']]\n",
    "val_serials = [d['serial'] for d in task1_dict['validation_split']]\n",
    "test_serials = [d['serial'] for d in task1_dict['test_split']]"
   ]
  },
  {
   "cell_type": "code",
   "execution_count": 37,
   "metadata": {},
   "outputs": [],
   "source": [
    "train_edfname = []\n",
    "for serial in train_serials:\n",
    "    train_edfname.append(annotation_debug['data'][int(serial) - 1]['edfname'].split('_')[0])\n",
    "    \n",
    "val_edfname = []\n",
    "for serial in val_serials:\n",
    "    val_edfname.append(annotation_debug['data'][int(serial) - 1]['edfname'].split('_')[0])\n",
    "    \n",
    "test_edfname = []\n",
    "for serial in test_serials:\n",
    "    test_edfname.append(annotation_debug['data'][int(serial) - 1]['edfname'].split('_')[0])"
   ]
  },
  {
   "cell_type": "code",
   "execution_count": 38,
   "metadata": {},
   "outputs": [
    {
     "name": "stdout",
     "output_type": "stream",
     "text": [
      "Train: 1110 947\n",
      "Val: 139 135\n",
      "Test: 139 138\n"
     ]
    }
   ],
   "source": [
    "print('Train:', len(train_edfname), len(set(train_edfname)))\n",
    "print('Val:', len(val_edfname), len(set(val_edfname)))\n",
    "print('Test:', len(test_edfname), len(set(test_edfname)))"
   ]
  },
  {
   "cell_type": "code",
   "execution_count": 39,
   "metadata": {},
   "outputs": [
    {
     "name": "stdout",
     "output_type": "stream",
     "text": [
      "Train & Val: 27\n",
      "Train & Test: 28\n",
      "Val & Test: 3\n"
     ]
    }
   ],
   "source": [
    "print('Train & Val:',len(set(train_edfname) & set(val_edfname)))\n",
    "print('Train & Test:',len(set(train_edfname) & set(test_edfname)))\n",
    "print('Val & Test:',len(set(val_edfname) & set(test_edfname)))"
   ]
  },
  {
   "cell_type": "markdown",
   "metadata": {},
   "source": [
    "-----\n",
    "\n",
    "## Benchmark 2"
   ]
  },
  {
   "cell_type": "code",
   "execution_count": 40,
   "metadata": {},
   "outputs": [],
   "source": [
    "with open(os.path.join(data_path, 'task2.json'), 'r') as json_file:\n",
    "    task2_dict = json.load(json_file)\n",
    "    \n",
    "with open(os.path.join(data_path, 'annotation_debug.json'), 'r') as json_file:\n",
    "    annotation_debug = json.load(json_file)"
   ]
  },
  {
   "cell_type": "code",
   "execution_count": 41,
   "metadata": {},
   "outputs": [],
   "source": [
    "train_serials = [d['serial'] for d in task2_dict['train_split']]\n",
    "val_serials = [d['serial'] for d in task2_dict['validation_split']]\n",
    "test_serials = [d['serial'] for d in task2_dict['test_split']]"
   ]
  },
  {
   "cell_type": "code",
   "execution_count": 42,
   "metadata": {},
   "outputs": [],
   "source": [
    "train_edfname = []\n",
    "for serial in train_serials:\n",
    "    train_edfname.append(annotation_debug['data'][int(serial) - 1]['edfname'].split('_')[0])\n",
    "    \n",
    "val_edfname = []\n",
    "for serial in val_serials:\n",
    "    val_edfname.append(annotation_debug['data'][int(serial) - 1]['edfname'].split('_')[0])\n",
    "    \n",
    "test_edfname = []\n",
    "for serial in test_serials:\n",
    "    test_edfname.append(annotation_debug['data'][int(serial) - 1]['edfname'].split('_')[0])"
   ]
  },
  {
   "cell_type": "code",
   "execution_count": 43,
   "metadata": {},
   "outputs": [
    {
     "name": "stdout",
     "output_type": "stream",
     "text": [
      "Train: 950 806\n",
      "Val: 119 117\n",
      "Test: 118 116\n"
     ]
    }
   ],
   "source": [
    "print('Train:', len(train_edfname), len(set(train_edfname)))\n",
    "print('Val:', len(val_edfname), len(set(val_edfname)))\n",
    "print('Test:', len(test_edfname), len(set(test_edfname)))"
   ]
  },
  {
   "cell_type": "code",
   "execution_count": 44,
   "metadata": {},
   "outputs": [
    {
     "name": "stdout",
     "output_type": "stream",
     "text": [
      "Train & Val: 35\n",
      "Train & Test: 28\n",
      "Val & Test: 3\n"
     ]
    }
   ],
   "source": [
    "print('Train & Val:',len(set(train_edfname) & set(val_edfname)))\n",
    "print('Train & Test:',len(set(train_edfname) & set(test_edfname)))\n",
    "print('Val & Test:',len(set(val_edfname) & set(test_edfname)))"
   ]
  },
  {
   "cell_type": "code",
   "execution_count": 46,
   "metadata": {},
   "outputs": [
    {
     "data": {
      "text/plain": [
       "{'00048377',\n",
       " '00287432',\n",
       " '00480292',\n",
       " '00635487',\n",
       " '00646912',\n",
       " '00666711',\n",
       " '00671212',\n",
       " '00671744',\n",
       " '00759679',\n",
       " '00805584',\n",
       " '00824216',\n",
       " '00883719',\n",
       " '00978569',\n",
       " '00988278',\n",
       " '01063007',\n",
       " '01080162',\n",
       " '01081922',\n",
       " '01132092',\n",
       " '01135534',\n",
       " '01135545',\n",
       " '01139924',\n",
       " '01159816',\n",
       " '01225385',\n",
       " '01235034',\n",
       " '01256391',\n",
       " '01261352',\n",
       " '01274934',\n",
       " '01344212'}"
      ]
     },
     "execution_count": 46,
     "metadata": {},
     "output_type": "execute_result"
    }
   ],
   "source": [
    "set(train_edfname) & set(test_edfname)"
   ]
  },
  {
   "cell_type": "code",
   "execution_count": null,
   "metadata": {},
   "outputs": [],
   "source": []
  }
 ],
 "metadata": {
  "kernelspec": {
   "display_name": "Python 3 (ipykernel)",
   "language": "python",
   "name": "python3"
  },
  "language_info": {
   "codemirror_mode": {
    "name": "ipython",
    "version": 3
   },
   "file_extension": ".py",
   "mimetype": "text/x-python",
   "name": "python",
   "nbconvert_exporter": "python",
   "pygments_lexer": "ipython3",
   "version": "3.9.12"
  }
 },
 "nbformat": 4,
 "nbformat_minor": 4
}
