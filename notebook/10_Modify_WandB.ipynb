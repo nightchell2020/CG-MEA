{
 "cells": [
  {
   "cell_type": "code",
   "execution_count": 2,
   "id": "1982041c",
   "metadata": {
    "collapsed": false,
    "jupyter": {
     "outputs_hidden": false
    },
    "pycharm": {
     "name": "#%%\n"
    }
   },
   "outputs": [
    {
     "name": "stdout",
     "output_type": "stream",
     "text": [
      "C:\\Users\\Minjae\\Desktop\\EEG_Project\n"
     ]
    }
   ],
   "source": [
    "# for auto-reloading external modules\n",
    "# see http://stackoverflow.com/questions/1907993/autoreload-of-modules-in-ipython\n",
    "%load_ext autoreload\n",
    "%autoreload 2\n",
    "%cd .."
   ]
  },
  {
   "cell_type": "code",
   "execution_count": 3,
   "id": "ca89409f",
   "metadata": {
    "collapsed": false,
    "jupyter": {
     "outputs_hidden": false
    },
    "pycharm": {
     "name": "#%%\n"
    }
   },
   "outputs": [],
   "source": [
    "import os\n",
    "import numpy as np\n",
    "import wandb\n",
    "import h5py\n",
    "import matplotlib.pyplot as plt"
   ]
  },
  {
   "cell_type": "code",
   "execution_count": 4,
   "id": "0cc7504a-6138-4435-be6e-cfd30e022f16",
   "metadata": {},
   "outputs": [],
   "source": [
    "# api = wandb.Api()\n",
    "# run = api.run(\"ipis-mjkim/eeg-analysis/1nhn425l\")\n",
    "# print(run)\n",
    "\n",
    "# run.summary.update()"
   ]
  },
  {
   "cell_type": "code",
   "execution_count": 5,
   "id": "d59af9c5-3a52-4026-932d-26fe0511570a",
   "metadata": {
    "pycharm": {
     "name": "#%%\n"
    }
   },
   "outputs": [
    {
     "name": "stdout",
     "output_type": "stream",
     "text": [
      "18lkfaaw\n",
      "73.06372549019608\n",
      "accuracy: [0.73063725 0.73063725]\n",
      "sensitivity: [0.54764493 0.82416667]\n",
      "specificity: [0.82416667 0.54764493]\n",
      "precision: [0.61418123 0.78092648]\n",
      "recall: [0.54764493 0.82416667]\n",
      "f1_score: [0.57900785 0.80196414]\n"
     ]
    }
   ],
   "source": [
    "api = wandb.Api()\n",
    "runs = api.runs('ipis-mjkim/caueeg-task1')\n",
    "\n",
    "for run in runs:\n",
    "    # print(run, run.config['model'])\n",
    "    # if run.name == '1tdyketc':\n",
    "    if run.name == '18lkfaaw':\n",
    "    # if run.state == \"finished\":\n",
    "        print(run.name)\n",
    "\n",
    "        confusion = np.array(run.summary['Confusion Matrix (Array)'])\n",
    "        n_classes = confusion.shape[0]\n",
    "\n",
    "        accuracy = np.zeros((n_classes,))\n",
    "        sensitivity = np.zeros((n_classes,))\n",
    "        specificity = np.zeros((n_classes,))\n",
    "        precision = np.zeros((n_classes,))\n",
    "        recall = np.zeros((n_classes,))\n",
    "        f1_score = np.zeros((n_classes,))\n",
    "\n",
    "        for c in range(n_classes):\n",
    "            tp = confusion[c, c]\n",
    "            fn = confusion[c].sum() - tp\n",
    "            fp = confusion[:, c].sum() - tp\n",
    "            tn = confusion.sum() - tp - fn - fp\n",
    "\n",
    "            accuracy[c] = (tp + tn) / (tp + fn + fp + tn)\n",
    "            sensitivity[c] = tp / (tp + fn)\n",
    "            specificity[c] = tn / (fp + tn)\n",
    "            precision[c] = tp / (tp + fp)\n",
    "            recall[c] = tp / (tp + fn)\n",
    "\n",
    "        f1_score = 2 * precision * recall / (precision + recall)\n",
    "        \n",
    "        print(run.summary['Test Accuracy'])\n",
    "        print('accuracy:', accuracy)\n",
    "        print('sensitivity:', sensitivity)\n",
    "        print('specificity:', specificity)\n",
    "        print('precision:', precision)\n",
    "        print('recall:', recall)\n",
    "        print('f1_score:', f1_score)\n",
    "        break"
   ]
  },
  {
   "cell_type": "code",
   "execution_count": null,
   "id": "587f9a40-9b28-44b7-a816-86b9a3cdf90d",
   "metadata": {
    "pycharm": {
     "name": "#%%\n"
    }
   },
   "outputs": [],
   "source": [
    "# api = wandb.Api()\n",
    "# runs = api.runs('ipis-mjkim/eeg-analysis')\n",
    "\n",
    "# for run in runs:\n",
    "#     print(run)\n",
    "#     debug_table_serial = run.summary['Test Debug Table/Serial']\n",
    "#     debug_table_edf = run.summary['Test Debug Table/EDF']\n",
    "#     debug_table_pred = run.summary['Test Debug Table/Pred']\n",
    "#     debug_table_gt = run.summary['Test Debug Table/GT']\n",
    "    \n",
    "#     fig = plt.figure(num=1, clear=True, figsize=(20.0, 4.0), constrained_layout=True)\n",
    "#     ax = fig.add_subplot(1, 1, 1)\n",
    "\n",
    "#     total_error, total_count = (0, 0)\n",
    "\n",
    "#     for edf in np.unique(debug_table_edf):\n",
    "#         indices = [i for i, x in enumerate(debug_table_edf) if x == edf]\n",
    "\n",
    "#         err, cnt = (0, 0)\n",
    "#         for i in indices:\n",
    "#             cnt += sum(debug_table_pred[i])\n",
    "#             err += sum(debug_table_pred[i]) - debug_table_pred[i][debug_table_gt[i]]\n",
    "\n",
    "#         total_error += err\n",
    "#         total_count += cnt\n",
    "\n",
    "#         ax.bar(edf, err / cnt, color=['g', 'b', 'r'][debug_table_gt[i]])\n",
    "\n",
    "#     ax.set_title(f'Test Debug Table (Acc. {1.0 - total_error / total_count: .2f}%)', fontsize=18)\n",
    "#     ax.set_ylim(0.0, 1.0)\n",
    "#     plt.setp(ax.get_xticklabels(), rotation=90, ha=\"right\", fontsize=9, visible=True)\n",
    "\n",
    "#     # run.summary['Test Debug Table (Image)'] = wandb.Image(plt)\n",
    "#     # run.summary.update()\n",
    "#     print(type(wandb.Image(plt)))\n",
    "#     run.summary.update({'Test Debug Table (Image)': wandb.Image(plt)})\n",
    "#     fig.clear()\n",
    "#     plt.close(fig)"
   ]
  },
  {
   "cell_type": "code",
   "execution_count": null,
   "id": "ee764777-e413-4e21-82ae-1f1645a36808",
   "metadata": {
    "pycharm": {
     "name": "#%%\n"
    }
   },
   "outputs": [],
   "source": [
    "# api = wandb.Api()\n",
    "# run = api.run(\"ipis-mjkim/eeg-analysis/1nhn425l\")\n",
    "# print(run)\n",
    "\n",
    "# run.summary.update()"
   ]
  },
  {
   "cell_type": "code",
   "execution_count": null,
   "id": "4a0bb5af-2350-4f9a-aada-802ce6f2cbd2",
   "metadata": {
    "pycharm": {
     "name": "#%%\n"
    }
   },
   "outputs": [],
   "source": [
    "# api = wandb.Api()\n",
    "# runs = api.runs('ipis-mjkim/eeg-analysis')\n",
    "\n",
    "# for run in runs:\n",
    "#     print(run)\n",
    "#     if 'Age' in run.config:\n",
    "#         del run.config['Age']\n",
    "#         run.config.update()\n",
    "#         run.update()        \n",
    "    \n",
    "#     if 'no-age' not in run.config['model']:\n",
    "#         run.config['use_age'] = 'fc'\n",
    "#         run.config.update()\n",
    "#         run.update()\n",
    "#     else:\n",
    "#         run.config['use_age'] = None\n",
    "#         run.config.update()\n",
    "#         run.update()        "
   ]
  },
  {
   "cell_type": "code",
   "execution_count": null,
   "id": "86f940f7-594d-44a0-9405-7a77060ac3d9",
   "metadata": {
    "pycharm": {
     "name": "#%%\n"
    }
   },
   "outputs": [],
   "source": [
    "# api = wandb.Api()\n",
    "# runs = api.runs('ipis-mjkim/eeg-analysis')\n",
    "\n",
    "# for run in runs:\n",
    "#     print(run)\n",
    "#     debug_table_serial = run.summary['Test Debug Table/Serial']\n",
    "#     debug_table_edf = run.summary['Test Debug Table/EDF']\n",
    "#     debug_table_pred = run.summary['Test Debug Table/Pred']\n",
    "#     debug_table_gt = run.summary['Test Debug Table/GT']\n",
    "    \n",
    "#     fig = plt.figure(num=1, clear=True, figsize=(20.0, 4.0), constrained_layout=True)\n",
    "#     ax = fig.add_subplot(1, 1, 1)\n",
    "\n",
    "#     total_error, total_count = (0, 0)\n",
    "\n",
    "#     for edf in np.unique(debug_table_edf):\n",
    "#         indices = [i for i, x in enumerate(debug_table_edf) if x == edf]\n",
    "\n",
    "#         err, cnt = (0, 0)\n",
    "#         for i in indices:\n",
    "#             cnt += sum(debug_table_pred[i])\n",
    "#             err += sum(debug_table_pred[i]) - debug_table_pred[i][debug_table_gt[i]]\n",
    "\n",
    "#         total_error += err\n",
    "#         total_count += cnt\n",
    "\n",
    "#         ax.bar(edf, err / cnt, color=['g', 'b', 'r'][debug_table_gt[i]])\n",
    "\n",
    "#     ax.set_title(f'Test Debug Table (Acc. {1.0 - total_error / total_count: .2f}%)', fontsize=18)\n",
    "#     ax.set_ylim(0.0, 1.0)\n",
    "#     plt.setp(ax.get_xticklabels(), rotation=90, ha=\"right\", fontsize=9, visible=True)\n",
    "\n",
    "#     # run.summary['Test Debug Table (Image)'] = wandb.Image(plt)\n",
    "#     # run.summary.update()\n",
    "#     print(type(wandb.Image(plt)))\n",
    "#     run.summary.update({'Test Debug Table (Image)': wandb.Image(plt)})\n",
    "#     fig.clear()\n",
    "#     plt.close(fig)"
   ]
  },
  {
   "cell_type": "code",
   "execution_count": null,
   "id": "530dd5b8-ff88-4a0e-8fd6-b5bfed22c569",
   "metadata": {
    "pycharm": {
     "name": "#%%\n"
    }
   },
   "outputs": [],
   "source": []
  }
 ],
 "metadata": {
  "kernelspec": {
   "display_name": "Python 3 (ipykernel)",
   "language": "python",
   "name": "python3"
  },
  "language_info": {
   "codemirror_mode": {
    "name": "ipython",
    "version": 3
   },
   "file_extension": ".py",
   "mimetype": "text/x-python",
   "name": "python",
   "nbconvert_exporter": "python",
   "pygments_lexer": "ipython3",
   "version": "3.9.12"
  }
 },
 "nbformat": 4,
 "nbformat_minor": 5
}
