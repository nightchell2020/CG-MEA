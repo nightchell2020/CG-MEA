{
 "cells": [
  {
   "cell_type": "markdown",
   "metadata": {
    "pycharm": {
     "name": "#%% md\n"
    }
   },
   "source": [
    "# Train Channel Reduction\n",
    "\n",
    "- Train deep classifiers for the EEG-based diagnostic classification with channel reduction.\n",
    "    - CAUEEG-Dementia benchmark: Classification of **Normal**, **MCI**, and **Dementia** symptoms\n",
    "    - CAUEEG-Abnormal benchmark: Classification of **Normal** and **Abnormal** symptoms    "
   ]
  },
  {
   "cell_type": "markdown",
   "metadata": {
    "pycharm": {
     "name": "#%% md\n"
    }
   },
   "source": [
    "-----\n",
    "\n",
    "## Load Packages"
   ]
  },
  {
   "cell_type": "code",
   "execution_count": 1,
   "metadata": {
    "pycharm": {
     "name": "#%%\n"
    }
   },
   "outputs": [
    {
     "name": "stdout",
     "output_type": "stream",
     "text": [
      "/home/night/Mycode/eeg_analysis\n"
     ]
    }
   ],
   "source": [
    "# for auto-reloading external modules\n",
    "# see http://stackoverflow.com/questions/1907993/autoreload-of-modules-in-ipython\n",
    "%load_ext autoreload\n",
    "%autoreload 2\n",
    "%cd .."
   ]
  },
  {
   "cell_type": "code",
   "execution_count": 2,
   "metadata": {
    "pycharm": {
     "name": "#%%\n"
    },
    "tags": []
   },
   "outputs": [],
   "source": [
    "# Load some packages\n",
    "import hydra\n",
    "from omegaconf import OmegaConf\n",
    "import wandb\n",
    "import pprint\n",
    "from copy import deepcopy\n",
    "import itertools\n",
    "from tqdm.auto import tqdm\n",
    "\n",
    "# custom package\n",
    "from run_train import check_device_env\n",
    "from run_train import prepare_and_run_train"
   ]
  },
  {
   "cell_type": "markdown",
   "metadata": {
    "pycharm": {
     "name": "#%% md\n"
    }
   },
   "source": [
    "---\n",
    "\n",
    "## Specify the dataset, model, and train setting"
   ]
  },
  {
   "cell_type": "code",
   "execution_count": 3,
   "metadata": {
    "collapsed": false,
    "jupyter": {
     "outputs_hidden": false
    },
    "pycharm": {
     "name": "#%%\n"
    }
   },
   "outputs": [
    {
     "name": "stdout",
     "output_type": "stream",
     "text": [
      "data=caueeg-dementia data.EKG=O data.awgn=0 data.awgn_age=0 data.mgn=0 data.photic=O data.seq_length=2000 model=1D-ResNet-18 model.activation=gelu model.dropout=0.3 model.fc_stages=3 model.use_age=conv train.criterion=multi-bce train.lr_scheduler_type=cosine_decay_with_warmup_half train.mixup=0.2 train.weight_decay=0.04394746639552375\n"
     ]
    }
   ],
   "source": [
    "script = \"data=caueeg-dementia data.EKG=O data.awgn=0 data.awgn_age=0 data.mgn=0 data.photic=O data.seq_length=2000 model=1D-ResNet-18 model.activation=gelu model.dropout=0.3 model.fc_stages=3 model.use_age=conv train.criterion=multi-bce train.lr_scheduler_type=cosine_decay_with_warmup_half train.mixup=0.2 train.weight_decay=0.04394746639552375\"\n",
    "print(script)"
   ]
  },
  {
   "cell_type": "code",
   "execution_count": 4,
   "metadata": {
    "tags": []
   },
   "outputs": [
    {
     "name": "stdout",
     "output_type": "stream",
     "text": [
      "['data=caueeg-dementia',\n",
      " '++data.EKG=O',\n",
      " '++data.awgn=0',\n",
      " '++data.awgn_age=0',\n",
      " '++data.mgn=0',\n",
      " '++data.photic=O',\n",
      " '++data.seq_length=2000',\n",
      " 'model=1D-ResNet-18',\n",
      " '++model.activation=gelu',\n",
      " '++model.dropout=0.3',\n",
      " '++model.fc_stages=3',\n",
      " '++model.use_age=conv',\n",
      " '++train.criterion=multi-bce',\n",
      " '++train.lr_scheduler_type=cosine_decay_with_warmup_half',\n",
      " '++train.mixup=0.2',\n",
      " '++train.weight_decay=0.04394746639552375',\n",
      " '++train.project=caueeg-dementia-channel-reduction',\n",
      " 'train=distillation-score',\n",
      " '++train.distil_teacher_score=local/ensemble-dementia-class-score.pt']\n"
     ]
    }
   ],
   "source": [
    "add_configs_base = []\n",
    "\n",
    "for seg in script.split(\" \"):\n",
    "    if 'train.project' in seg:\n",
    "        continue\n",
    "    elif \".\" in seg and \"++\" not in seg:\n",
    "        seg = \"++\" + seg\n",
    "    add_configs_base.append(seg)\n",
    "\n",
    "# add_configs_base.append(\"++model.base_model=2s1700lg\")\n",
    "add_configs_base.append(\"++train.project=caueeg-dementia-channel-reduction\")\n",
    "# add_configs_base.append(\"++train.device=cuda:3\")\n",
    "add_configs_base.append(\"train=distillation-score\")\n",
    "add_configs_base.append(\"++train.distil_teacher_score=local/ensemble-dementia-class-score.pt\")\n",
    "\n",
    "pprint.pprint(add_configs_base)"
   ]
  },
  {
   "cell_type": "markdown",
   "metadata": {
    "collapsed": false,
    "jupyter": {
     "outputs_hidden": false
    },
    "pycharm": {
     "name": "#%%\n"
    }
   },
   "source": [
    "---\n",
    "\n",
    "## Initializing configurations using Hydra and Train"
   ]
  },
  {
   "cell_type": "code",
   "execution_count": 5,
   "metadata": {
    "collapsed": false,
    "jupyter": {
     "outputs_hidden": false
    },
    "pycharm": {
     "name": "#%%\n"
    }
   },
   "outputs": [],
   "source": [
    "signal_header = [\"Fp1-AVG\", \"F3-AVG\", \"C3-AVG\", \"P3-AVG\", \"O1-AVG\",\n",
    "                 \"Fp2-AVG\", \"F4-AVG\", \"C4-AVG\", \"P4-AVG\", \"O2-AVG\", \n",
    "                 \"F7-AVG\", \"T3-AVG\", \"T5-AVG\",\"F8-AVG\", \"T4-AVG\", \n",
    "                 \"T6-AVG\", \"FZ-AVG\", \"CZ-AVG\", \"PZ-AVG\", \"EKG\", \"Photic\"]"
   ]
  },
  {
   "cell_type": "code",
   "execution_count": 6,
   "metadata": {},
   "outputs": [],
   "source": [
    "# channel_nums = range(19)\n",
    "# for channel_reduction_list in tqdm(list(itertools.combinations(channel_nums, 18))):\n",
    "#     add_configs = deepcopy(add_configs_base)\n",
    "\n",
    "#     with hydra.initialize(config_path=\"../config\"):\n",
    "#         cfg = hydra.compose(config_name=\"default\", overrides=add_configs)\n",
    "\n",
    "#     config = {\n",
    "#         **OmegaConf.to_container(cfg.data),\n",
    "#         **OmegaConf.to_container(cfg.train),\n",
    "#         **OmegaConf.to_container(cfg.model),\n",
    "#     }\n",
    "#     config['channel_reduction_list'] = [*channel_reduction_list]\n",
    "#     config['EKG'] = \"X\"\n",
    "#     config['photic'] = \"X\"\n",
    "#     config['channel_survive'] = [signal_header[i] for i in channel_nums if i not in channel_reduction_list]\n",
    "    \n",
    "\n",
    "#     check_device_env(config)\n",
    "#     # pprint.pprint(config)\n",
    "#     prepare_and_run_train(rank=None, world_size=None, config=config)"
   ]
  },
  {
   "cell_type": "code",
   "execution_count": 7,
   "metadata": {},
   "outputs": [],
   "source": [
    "# channel_nums = range(19)\n",
    "# for channel_difference in tqdm(list(itertools.combinations(channel_nums, 2))):\n",
    "#     add_configs = deepcopy(add_configs_base)\n",
    "\n",
    "#     with hydra.initialize(config_path=\"../config\", version_base=\"1.1\"):\n",
    "#         cfg = hydra.compose(config_name=\"default\", overrides=add_configs)\n",
    "\n",
    "#     config = {\n",
    "#         **OmegaConf.to_container(cfg.data),\n",
    "#         **OmegaConf.to_container(cfg.train),\n",
    "#         **OmegaConf.to_container(cfg.model),\n",
    "#     }\n",
    "#     config['channel_difference'] = [*channel_difference]\n",
    "#     config['EKG'] = \"X\"\n",
    "#     config['photic'] = \"X\"\n",
    "#     config['montage'] = ' - '.join([signal_header[i].split('-')[0] for i in channel_difference])\n",
    "#     config['device'] = 'cuda:3'\n",
    "\n",
    "#     check_device_env(config)\n",
    "#     # pprint.pprint(config)\n",
    "#     prepare_and_run_train(rank=None, world_size=None, config=config)"
   ]
  },
  {
   "cell_type": "code",
   "execution_count": 11,
   "metadata": {
    "tags": []
   },
   "outputs": [
    {
     "name": "stdout",
     "output_type": "stream",
     "text": [
      "Rank 0: Initializing process group\n",
      "Rank 0: Process group initialized\n"
     ]
    },
    {
     "ename": "MissingMandatoryValue",
     "evalue": "Missing mandatory value: distil_teacher_logit\n    full_key: distil_teacher_logit\n    object_type=dict",
     "output_type": "error",
     "traceback": [
      "\u001b[0;31m---------------------------------------------------------------------------\u001b[0m",
      "\u001b[0;31mMissingMandatoryValue\u001b[0m                     Traceback (most recent call last)",
      "Cell \u001b[0;32mIn[11], line 20\u001b[0m\n\u001b[1;32m     18\u001b[0m check_device_env(config)\n\u001b[1;32m     19\u001b[0m \u001b[38;5;66;03m# pprint.pprint(config)\u001b[39;00m\n\u001b[0;32m---> 20\u001b[0m \u001b[43mprepare_and_run_train\u001b[49m\u001b[43m(\u001b[49m\u001b[43mrank\u001b[49m\u001b[38;5;241;43m=\u001b[39;49m\u001b[38;5;241;43m0\u001b[39;49m\u001b[43m,\u001b[49m\u001b[43m \u001b[49m\u001b[43mworld_size\u001b[49m\u001b[38;5;241;43m=\u001b[39;49m\u001b[38;5;241;43m1\u001b[39;49m\u001b[43m,\u001b[49m\u001b[43m \u001b[49m\u001b[43mconfig\u001b[49m\u001b[38;5;241;43m=\u001b[39;49m\u001b[43mconfig\u001b[49m\u001b[43m)\u001b[49m\n",
      "File \u001b[0;32m~/Mycode/eeg_analysis/run_train.py:241\u001b[0m, in \u001b[0;36mprepare_and_run_train\u001b[0;34m(rank, world_size, config)\u001b[0m\n\u001b[1;32m    238\u001b[0m train_loader, val_loader, test_loader, multicrop_test_loader \u001b[38;5;241m=\u001b[39m compose_dataset(config)\n\u001b[1;32m    240\u001b[0m \u001b[38;5;66;03m# generate the model and update some configurations\u001b[39;00m\n\u001b[0;32m--> 241\u001b[0m model \u001b[38;5;241m=\u001b[39m \u001b[43mgenerate_model\u001b[49m\u001b[43m(\u001b[49m\u001b[43mconfig\u001b[49m\u001b[43m)\u001b[49m\n\u001b[1;32m    243\u001b[0m \u001b[38;5;66;03m# load pretrained model if needed\u001b[39;00m\n\u001b[1;32m    244\u001b[0m \u001b[38;5;28;01mif\u001b[39;00m \u001b[38;5;124m\"\u001b[39m\u001b[38;5;124mload_pretrained\u001b[39m\u001b[38;5;124m\"\u001b[39m \u001b[38;5;129;01min\u001b[39;00m config\u001b[38;5;241m.\u001b[39mkeys():\n",
      "File \u001b[0;32m~/Mycode/eeg_analysis/run_train.py:93\u001b[0m, in \u001b[0;36mgenerate_model\u001b[0;34m(config)\u001b[0m\n\u001b[1;32m     92\u001b[0m \u001b[38;5;28;01mdef\u001b[39;00m\u001b[38;5;250m \u001b[39m\u001b[38;5;21mgenerate_model\u001b[39m(config):\n\u001b[0;32m---> 93\u001b[0m     model \u001b[38;5;241m=\u001b[39m \u001b[43mhydra\u001b[49m\u001b[38;5;241;43m.\u001b[39;49m\u001b[43mutils\u001b[49m\u001b[38;5;241;43m.\u001b[39;49m\u001b[43minstantiate\u001b[49m\u001b[43m(\u001b[49m\u001b[43mconfig\u001b[49m\u001b[43m)\u001b[49m\n\u001b[1;32m     94\u001b[0m     \u001b[38;5;28mprint\u001b[39m(\u001b[38;5;124m\"\u001b[39m\u001b[38;5;124m------------------------------------------------------------------\u001b[39m\u001b[38;5;124m\"\u001b[39m)\n\u001b[1;32m     95\u001b[0m     \u001b[38;5;28mprint\u001b[39m(\u001b[38;5;124m\"\u001b[39m\u001b[38;5;124m------------------------------------------------------------------\u001b[39m\u001b[38;5;124m\"\u001b[39m)\n",
      "File \u001b[0;32m~/anaconda3/envs/eeg/lib/python3.9/site-packages/hydra/_internal/instantiate/_instantiate2.py:180\u001b[0m, in \u001b[0;36minstantiate\u001b[0;34m(config, *args, **kwargs)\u001b[0m\n\u001b[1;32m    177\u001b[0m     _recursive_ \u001b[38;5;241m=\u001b[39m config\u001b[38;5;241m.\u001b[39mpop(_Keys\u001b[38;5;241m.\u001b[39mRECURSIVE, \u001b[38;5;28;01mTrue\u001b[39;00m)\n\u001b[1;32m    178\u001b[0m     _convert_ \u001b[38;5;241m=\u001b[39m config\u001b[38;5;241m.\u001b[39mpop(_Keys\u001b[38;5;241m.\u001b[39mCONVERT, ConvertMode\u001b[38;5;241m.\u001b[39mNONE)\n\u001b[0;32m--> 180\u001b[0m     \u001b[38;5;28;01mreturn\u001b[39;00m \u001b[43minstantiate_node\u001b[49m\u001b[43m(\u001b[49m\u001b[43mconfig\u001b[49m\u001b[43m,\u001b[49m\u001b[43m \u001b[49m\u001b[38;5;241;43m*\u001b[39;49m\u001b[43margs\u001b[49m\u001b[43m,\u001b[49m\u001b[43m \u001b[49m\u001b[43mrecursive\u001b[49m\u001b[38;5;241;43m=\u001b[39;49m\u001b[43m_recursive_\u001b[49m\u001b[43m,\u001b[49m\u001b[43m \u001b[49m\u001b[43mconvert\u001b[49m\u001b[38;5;241;43m=\u001b[39;49m\u001b[43m_convert_\u001b[49m\u001b[43m)\u001b[49m\n\u001b[1;32m    181\u001b[0m \u001b[38;5;28;01melse\u001b[39;00m:\n\u001b[1;32m    182\u001b[0m     \u001b[38;5;28;01mraise\u001b[39;00m InstantiationException(\n\u001b[1;32m    183\u001b[0m         \u001b[38;5;124m\"\u001b[39m\u001b[38;5;124mTop level config has to be OmegaConf DictConfig, plain dict, or a Structured Config class or instance\u001b[39m\u001b[38;5;124m\"\u001b[39m\n\u001b[1;32m    184\u001b[0m     )\n",
      "File \u001b[0;32m~/anaconda3/envs/eeg/lib/python3.9/site-packages/hydra/_internal/instantiate/_instantiate2.py:242\u001b[0m, in \u001b[0;36minstantiate_node\u001b[0;34m(node, convert, recursive, *args)\u001b[0m\n\u001b[1;32m    240\u001b[0m target \u001b[38;5;241m=\u001b[39m _resolve_target(node\u001b[38;5;241m.\u001b[39mget(_Keys\u001b[38;5;241m.\u001b[39mTARGET))\n\u001b[1;32m    241\u001b[0m kwargs \u001b[38;5;241m=\u001b[39m {}\n\u001b[0;32m--> 242\u001b[0m \u001b[38;5;28;01mfor\u001b[39;00m key, value \u001b[38;5;129;01min\u001b[39;00m \u001b[43mnode\u001b[49m\u001b[38;5;241;43m.\u001b[39;49m\u001b[43mitems\u001b[49m\u001b[43m(\u001b[49m\u001b[43m)\u001b[49m:\n\u001b[1;32m    243\u001b[0m     \u001b[38;5;28;01mif\u001b[39;00m key \u001b[38;5;129;01mnot\u001b[39;00m \u001b[38;5;129;01min\u001b[39;00m exclude_keys:\n\u001b[1;32m    244\u001b[0m         \u001b[38;5;28;01mif\u001b[39;00m recursive:\n",
      "File \u001b[0;32m~/anaconda3/envs/eeg/lib/python3.9/site-packages/omegaconf/dictconfig.py:550\u001b[0m, in \u001b[0;36mDictConfig.items\u001b[0;34m(self)\u001b[0m\n\u001b[1;32m    549\u001b[0m \u001b[38;5;28;01mdef\u001b[39;00m\u001b[38;5;250m \u001b[39m\u001b[38;5;21mitems\u001b[39m(\u001b[38;5;28mself\u001b[39m) \u001b[38;5;241m-\u001b[39m\u001b[38;5;241m>\u001b[39m AbstractSet[Tuple[DictKeyType, Any]]:\n\u001b[0;32m--> 550\u001b[0m     \u001b[38;5;28;01mreturn\u001b[39;00m \u001b[38;5;28;43mself\u001b[39;49m\u001b[38;5;241;43m.\u001b[39;49m\u001b[43mitems_ex\u001b[49m\u001b[43m(\u001b[49m\u001b[43mresolve\u001b[49m\u001b[38;5;241;43m=\u001b[39;49m\u001b[38;5;28;43;01mTrue\u001b[39;49;00m\u001b[43m,\u001b[49m\u001b[43m \u001b[49m\u001b[43mkeys\u001b[49m\u001b[38;5;241;43m=\u001b[39;49m\u001b[38;5;28;43;01mNone\u001b[39;49;00m\u001b[43m)\u001b[49m\n",
      "File \u001b[0;32m~/anaconda3/envs/eeg/lib/python3.9/site-packages/omegaconf/dictconfig.py:576\u001b[0m, in \u001b[0;36mDictConfig.items_ex\u001b[0;34m(self, resolve, keys)\u001b[0m\n\u001b[1;32m    574\u001b[0m \u001b[38;5;28;01mfor\u001b[39;00m key \u001b[38;5;129;01min\u001b[39;00m \u001b[38;5;28mself\u001b[39m\u001b[38;5;241m.\u001b[39mkeys():\n\u001b[1;32m    575\u001b[0m     \u001b[38;5;28;01mif\u001b[39;00m resolve:\n\u001b[0;32m--> 576\u001b[0m         value \u001b[38;5;241m=\u001b[39m \u001b[38;5;28;43mself\u001b[39;49m\u001b[43m[\u001b[49m\u001b[43mkey\u001b[49m\u001b[43m]\u001b[49m\n\u001b[1;32m    577\u001b[0m     \u001b[38;5;28;01melse\u001b[39;00m:\n\u001b[1;32m    578\u001b[0m         value \u001b[38;5;241m=\u001b[39m \u001b[38;5;28mself\u001b[39m\u001b[38;5;241m.\u001b[39m\u001b[38;5;18m__dict__\u001b[39m[\u001b[38;5;124m\"\u001b[39m\u001b[38;5;124m_content\u001b[39m\u001b[38;5;124m\"\u001b[39m][key]\n",
      "File \u001b[0;32m~/anaconda3/envs/eeg/lib/python3.9/site-packages/omegaconf/dictconfig.py:373\u001b[0m, in \u001b[0;36mDictConfig.__getitem__\u001b[0;34m(self, key)\u001b[0m\n\u001b[1;32m    369\u001b[0m     \u001b[38;5;28mself\u001b[39m\u001b[38;5;241m.\u001b[39m_format_and_raise(\n\u001b[1;32m    370\u001b[0m         key\u001b[38;5;241m=\u001b[39mkey, value\u001b[38;5;241m=\u001b[39m\u001b[38;5;28;01mNone\u001b[39;00m, cause\u001b[38;5;241m=\u001b[39me, type_override\u001b[38;5;241m=\u001b[39mConfigKeyError\n\u001b[1;32m    371\u001b[0m     )\n\u001b[1;32m    372\u001b[0m \u001b[38;5;28;01mexcept\u001b[39;00m \u001b[38;5;167;01mException\u001b[39;00m \u001b[38;5;28;01mas\u001b[39;00m e:\n\u001b[0;32m--> 373\u001b[0m     \u001b[38;5;28;43mself\u001b[39;49m\u001b[38;5;241;43m.\u001b[39;49m\u001b[43m_format_and_raise\u001b[49m\u001b[43m(\u001b[49m\u001b[43mkey\u001b[49m\u001b[38;5;241;43m=\u001b[39;49m\u001b[43mkey\u001b[49m\u001b[43m,\u001b[49m\u001b[43m \u001b[49m\u001b[43mvalue\u001b[49m\u001b[38;5;241;43m=\u001b[39;49m\u001b[38;5;28;43;01mNone\u001b[39;49;00m\u001b[43m,\u001b[49m\u001b[43m \u001b[49m\u001b[43mcause\u001b[49m\u001b[38;5;241;43m=\u001b[39;49m\u001b[43me\u001b[49m\u001b[43m)\u001b[49m\n",
      "File \u001b[0;32m~/anaconda3/envs/eeg/lib/python3.9/site-packages/omegaconf/base.py:190\u001b[0m, in \u001b[0;36mNode._format_and_raise\u001b[0;34m(self, key, value, cause, type_override)\u001b[0m\n\u001b[1;32m    187\u001b[0m \u001b[38;5;28;01mdef\u001b[39;00m\u001b[38;5;250m \u001b[39m\u001b[38;5;21m_format_and_raise\u001b[39m(\n\u001b[1;32m    188\u001b[0m     \u001b[38;5;28mself\u001b[39m, key: Any, value: Any, cause: \u001b[38;5;167;01mException\u001b[39;00m, type_override: Any \u001b[38;5;241m=\u001b[39m \u001b[38;5;28;01mNone\u001b[39;00m\n\u001b[1;32m    189\u001b[0m ) \u001b[38;5;241m-\u001b[39m\u001b[38;5;241m>\u001b[39m \u001b[38;5;28;01mNone\u001b[39;00m:\n\u001b[0;32m--> 190\u001b[0m     \u001b[43mformat_and_raise\u001b[49m\u001b[43m(\u001b[49m\n\u001b[1;32m    191\u001b[0m \u001b[43m        \u001b[49m\u001b[43mnode\u001b[49m\u001b[38;5;241;43m=\u001b[39;49m\u001b[38;5;28;43mself\u001b[39;49m\u001b[43m,\u001b[49m\n\u001b[1;32m    192\u001b[0m \u001b[43m        \u001b[49m\u001b[43mkey\u001b[49m\u001b[38;5;241;43m=\u001b[39;49m\u001b[43mkey\u001b[49m\u001b[43m,\u001b[49m\n\u001b[1;32m    193\u001b[0m \u001b[43m        \u001b[49m\u001b[43mvalue\u001b[49m\u001b[38;5;241;43m=\u001b[39;49m\u001b[43mvalue\u001b[49m\u001b[43m,\u001b[49m\n\u001b[1;32m    194\u001b[0m \u001b[43m        \u001b[49m\u001b[43mmsg\u001b[49m\u001b[38;5;241;43m=\u001b[39;49m\u001b[38;5;28;43mstr\u001b[39;49m\u001b[43m(\u001b[49m\u001b[43mcause\u001b[49m\u001b[43m)\u001b[49m\u001b[43m,\u001b[49m\n\u001b[1;32m    195\u001b[0m \u001b[43m        \u001b[49m\u001b[43mcause\u001b[49m\u001b[38;5;241;43m=\u001b[39;49m\u001b[43mcause\u001b[49m\u001b[43m,\u001b[49m\n\u001b[1;32m    196\u001b[0m \u001b[43m        \u001b[49m\u001b[43mtype_override\u001b[49m\u001b[38;5;241;43m=\u001b[39;49m\u001b[43mtype_override\u001b[49m\u001b[43m,\u001b[49m\n\u001b[1;32m    197\u001b[0m \u001b[43m    \u001b[49m\u001b[43m)\u001b[49m\n\u001b[1;32m    198\u001b[0m     \u001b[38;5;28;01massert\u001b[39;00m \u001b[38;5;28;01mFalse\u001b[39;00m\n",
      "File \u001b[0;32m~/anaconda3/envs/eeg/lib/python3.9/site-packages/omegaconf/_utils.py:818\u001b[0m, in \u001b[0;36mformat_and_raise\u001b[0;34m(node, key, value, msg, cause, type_override)\u001b[0m\n\u001b[1;32m    815\u001b[0m     ex\u001b[38;5;241m.\u001b[39mref_type \u001b[38;5;241m=\u001b[39m ref_type\n\u001b[1;32m    816\u001b[0m     ex\u001b[38;5;241m.\u001b[39mref_type_str \u001b[38;5;241m=\u001b[39m ref_type_str\n\u001b[0;32m--> 818\u001b[0m \u001b[43m_raise\u001b[49m\u001b[43m(\u001b[49m\u001b[43mex\u001b[49m\u001b[43m,\u001b[49m\u001b[43m \u001b[49m\u001b[43mcause\u001b[49m\u001b[43m)\u001b[49m\n",
      "File \u001b[0;32m~/anaconda3/envs/eeg/lib/python3.9/site-packages/omegaconf/_utils.py:716\u001b[0m, in \u001b[0;36m_raise\u001b[0;34m(ex, cause)\u001b[0m\n\u001b[1;32m    714\u001b[0m \u001b[38;5;28;01melse\u001b[39;00m:\n\u001b[1;32m    715\u001b[0m     ex\u001b[38;5;241m.\u001b[39m__cause__ \u001b[38;5;241m=\u001b[39m \u001b[38;5;28;01mNone\u001b[39;00m\n\u001b[0;32m--> 716\u001b[0m \u001b[38;5;28;01mraise\u001b[39;00m ex\u001b[38;5;241m.\u001b[39mwith_traceback(sys\u001b[38;5;241m.\u001b[39mexc_info()[\u001b[38;5;241m2\u001b[39m])\n",
      "File \u001b[0;32m~/anaconda3/envs/eeg/lib/python3.9/site-packages/omegaconf/dictconfig.py:367\u001b[0m, in \u001b[0;36mDictConfig.__getitem__\u001b[0;34m(self, key)\u001b[0m\n\u001b[1;32m    360\u001b[0m \u001b[38;5;250m\u001b[39m\u001b[38;5;124;03m\"\"\"\u001b[39;00m\n\u001b[1;32m    361\u001b[0m \u001b[38;5;124;03mAllow map style access\u001b[39;00m\n\u001b[1;32m    362\u001b[0m \u001b[38;5;124;03m:param key:\u001b[39;00m\n\u001b[1;32m    363\u001b[0m \u001b[38;5;124;03m:return:\u001b[39;00m\n\u001b[1;32m    364\u001b[0m \u001b[38;5;124;03m\"\"\"\u001b[39;00m\n\u001b[1;32m    366\u001b[0m \u001b[38;5;28;01mtry\u001b[39;00m:\n\u001b[0;32m--> 367\u001b[0m     \u001b[38;5;28;01mreturn\u001b[39;00m \u001b[38;5;28;43mself\u001b[39;49m\u001b[38;5;241;43m.\u001b[39;49m\u001b[43m_get_impl\u001b[49m\u001b[43m(\u001b[49m\u001b[43mkey\u001b[49m\u001b[38;5;241;43m=\u001b[39;49m\u001b[43mkey\u001b[49m\u001b[43m,\u001b[49m\u001b[43m \u001b[49m\u001b[43mdefault_value\u001b[49m\u001b[38;5;241;43m=\u001b[39;49m\u001b[43m_DEFAULT_MARKER_\u001b[49m\u001b[43m)\u001b[49m\n\u001b[1;32m    368\u001b[0m \u001b[38;5;28;01mexcept\u001b[39;00m \u001b[38;5;167;01mAttributeError\u001b[39;00m \u001b[38;5;28;01mas\u001b[39;00m e:\n\u001b[1;32m    369\u001b[0m     \u001b[38;5;28mself\u001b[39m\u001b[38;5;241m.\u001b[39m_format_and_raise(\n\u001b[1;32m    370\u001b[0m         key\u001b[38;5;241m=\u001b[39mkey, value\u001b[38;5;241m=\u001b[39m\u001b[38;5;28;01mNone\u001b[39;00m, cause\u001b[38;5;241m=\u001b[39me, type_override\u001b[38;5;241m=\u001b[39mConfigKeyError\n\u001b[1;32m    371\u001b[0m     )\n",
      "File \u001b[0;32m~/anaconda3/envs/eeg/lib/python3.9/site-packages/omegaconf/dictconfig.py:445\u001b[0m, in \u001b[0;36mDictConfig._get_impl\u001b[0;34m(self, key, default_value)\u001b[0m\n\u001b[1;32m    443\u001b[0m         \u001b[38;5;28;01mraise\u001b[39;00m\n\u001b[1;32m    444\u001b[0m \u001b[38;5;28;01massert\u001b[39;00m \u001b[38;5;28misinstance\u001b[39m(node, Node)\n\u001b[0;32m--> 445\u001b[0m \u001b[38;5;28;01mreturn\u001b[39;00m \u001b[38;5;28;43mself\u001b[39;49m\u001b[38;5;241;43m.\u001b[39;49m\u001b[43m_resolve_with_default\u001b[49m\u001b[43m(\u001b[49m\n\u001b[1;32m    446\u001b[0m \u001b[43m    \u001b[49m\u001b[43mkey\u001b[49m\u001b[38;5;241;43m=\u001b[39;49m\u001b[43mkey\u001b[49m\u001b[43m,\u001b[49m\u001b[43m \u001b[49m\u001b[43mvalue\u001b[49m\u001b[38;5;241;43m=\u001b[39;49m\u001b[43mnode\u001b[49m\u001b[43m,\u001b[49m\u001b[43m \u001b[49m\u001b[43mdefault_value\u001b[49m\u001b[38;5;241;43m=\u001b[39;49m\u001b[43mdefault_value\u001b[49m\n\u001b[1;32m    447\u001b[0m \u001b[43m\u001b[49m\u001b[43m)\u001b[49m\n",
      "File \u001b[0;32m~/anaconda3/envs/eeg/lib/python3.9/site-packages/omegaconf/basecontainer.py:63\u001b[0m, in \u001b[0;36mBaseContainer._resolve_with_default\u001b[0;34m(self, key, value, default_value)\u001b[0m\n\u001b[1;32m     61\u001b[0m     \u001b[38;5;28;01mif\u001b[39;00m default_value \u001b[38;5;129;01mis\u001b[39;00m \u001b[38;5;129;01mnot\u001b[39;00m _DEFAULT_MARKER_:\n\u001b[1;32m     62\u001b[0m         \u001b[38;5;28;01mreturn\u001b[39;00m default_value\n\u001b[0;32m---> 63\u001b[0m     \u001b[38;5;28;01mraise\u001b[39;00m MissingMandatoryValue(\u001b[38;5;124m\"\u001b[39m\u001b[38;5;124mMissing mandatory value: $FULL_KEY\u001b[39m\u001b[38;5;124m\"\u001b[39m)\n\u001b[1;32m     65\u001b[0m resolved_node \u001b[38;5;241m=\u001b[39m \u001b[38;5;28mself\u001b[39m\u001b[38;5;241m.\u001b[39m_maybe_resolve_interpolation(\n\u001b[1;32m     66\u001b[0m     parent\u001b[38;5;241m=\u001b[39m\u001b[38;5;28mself\u001b[39m,\n\u001b[1;32m     67\u001b[0m     key\u001b[38;5;241m=\u001b[39mkey,\n\u001b[1;32m     68\u001b[0m     value\u001b[38;5;241m=\u001b[39mvalue,\n\u001b[1;32m     69\u001b[0m     throw_on_resolution_failure\u001b[38;5;241m=\u001b[39m\u001b[38;5;28;01mTrue\u001b[39;00m,\n\u001b[1;32m     70\u001b[0m )\n\u001b[1;32m     72\u001b[0m \u001b[38;5;28;01mreturn\u001b[39;00m _get_value(resolved_node)\n",
      "\u001b[0;31mMissingMandatoryValue\u001b[0m: Missing mandatory value: distil_teacher_logit\n    full_key: distil_teacher_logit\n    object_type=dict"
     ]
    }
   ],
   "source": [
    "channel_difference = [0, 18]\n",
    "add_configs = deepcopy(add_configs_base)\n",
    "\n",
    "with hydra.initialize(config_path=\"../config\"): #, version_base=\"1.1\"\n",
    "    cfg = hydra.compose(config_name=\"default\", overrides=add_configs)\n",
    "\n",
    "config = {\n",
    "    **OmegaConf.to_container(cfg.data),\n",
    "    **OmegaConf.to_container(cfg.train),\n",
    "    **OmegaConf.to_container(cfg.model),\n",
    "}\n",
    "config['channel_difference'] = [*channel_difference]\n",
    "config['EKG'] = \"X\"\n",
    "config['photic'] = \"X\"\n",
    "config['montage'] = ' - '.join([signal_header[i].split('-')[0] for i in channel_difference])\n",
    "config['device'] = 'cuda:0'\n",
    "\n",
    "check_device_env(config)\n",
    "# pprint.pprint(config)\n",
    "prepare_and_run_train(rank=None, world_size=None, config=config)"
   ]
  },
  {
   "cell_type": "markdown",
   "metadata": {},
   "source": [
    "## Parse Results"
   ]
  },
  {
   "cell_type": "code",
   "execution_count": null,
   "metadata": {},
   "outputs": [],
   "source": [
    "import csv\n",
    "import numpy as np\n",
    "\n",
    "performance_list = [] \n",
    "\n",
    "with open(r\"local/wandb_save.csv\") as fp:\n",
    "    rdr = csv.reader(fp)\n",
    "    for i, line in enumerate(rdr):\n",
    "        if i == 0:\n",
    "            continue\n",
    "        mont1, mont2 = line[13].split(\" - \")\n",
    "        test_acc = line[16]\n",
    "        multi_test_acc = line[17]\n",
    "        performance_list.append({\n",
    "            'Mont1': mont1,\n",
    "            'Mont2': mont2,\n",
    "            'Test': test_acc,\n",
    "            'TTA': multi_test_acc,\n",
    "        })\n",
    "        \n",
    "# print(performance_list)"
   ]
  },
  {
   "cell_type": "code",
   "execution_count": null,
   "metadata": {},
   "outputs": [],
   "source": [
    "idx_to_mont = [mont.split('-')[0] for mont in signal_header if mont.lower() not in ['ekg', 'photic']]\n",
    "mont_to_idx = {mont: i for i, mont in enumerate(idx_to_mont)}\n",
    "\n",
    "test = np.zeros((19, 19))\n",
    "mtest = np.zeros((19, 19))\n",
    "\n",
    "for perf in performance_list:\n",
    "    test[mont_to_idx[perf['Mont1']], mont_to_idx[perf['Mont2']]] = perf['Test']\n",
    "    # test[mont_to_idx[perf['Mont2']], mont_to_idx[perf['Mont1']]] = perf['Test']\n",
    "\n",
    "    mtest[mont_to_idx[perf['Mont1']], mont_to_idx[perf['Mont2']]] = perf['TTA']\n",
    "    # mtest[mont_to_idx[perf['Mont2']], mont_to_idx[perf['Mont1']]] = perf['TTA']"
   ]
  },
  {
   "cell_type": "code",
   "execution_count": null,
   "metadata": {},
   "outputs": [],
   "source": [
    "import matplotlib.pyplot as plt\n",
    "plt.rcParams['image.cmap'] = 'jet' # nipy_spectral, jet\n",
    "\n",
    "fig, ax = plt.subplots(num=1, clear=True, figsize=(10.0, 10.0))\n",
    "\n",
    "im = ax.imshow(test)\n",
    "ax.set_xticks(np.arange(len(idx_to_mont)), labels=idx_to_mont)\n",
    "ax.set_yticks(np.arange(len(idx_to_mont)), labels=idx_to_mont)\n",
    "for i in range(len(idx_to_mont)):\n",
    "    for j in range(len(idx_to_mont)):\n",
    "        text = ax.text(j, i, round(test[i, j] * 100) / 100,\n",
    "                       ha=\"center\", va=\"center\", color=\"w\")\n",
    "fig.tight_layout()\n",
    "plt.show()"
   ]
  },
  {
   "cell_type": "code",
   "execution_count": null,
   "metadata": {},
   "outputs": [],
   "source": [
    "fig, ax = plt.subplots(num=1, clear=True, figsize=(10.0, 10.0))\n",
    "\n",
    "im = ax.imshow(mtest)\n",
    "ax.set_xticks(np.arange(len(idx_to_mont)), labels=idx_to_mont)\n",
    "ax.set_yticks(np.arange(len(idx_to_mont)), labels=idx_to_mont)\n",
    "for i in range(len(idx_to_mont)):\n",
    "    for j in range(len(idx_to_mont)):\n",
    "        text = ax.text(j, i, round(mtest[i, j] * 100) / 100,\n",
    "                       ha=\"center\", va=\"center\", color=\"w\")\n",
    "fig.tight_layout()\n",
    "plt.show()"
   ]
  },
  {
   "cell_type": "code",
   "execution_count": null,
   "metadata": {},
   "outputs": [],
   "source": []
  }
 ],
 "metadata": {
  "kernelspec": {
   "display_name": "Python3_eeg",
   "language": "python",
   "name": "myenv"
  },
  "language_info": {
   "codemirror_mode": {
    "name": "ipython",
    "version": 3
   },
   "file_extension": ".py",
   "mimetype": "text/x-python",
   "name": "python",
   "nbconvert_exporter": "python",
   "pygments_lexer": "ipython3",
   "version": "3.9.21"
  }
 },
 "nbformat": 4,
 "nbformat_minor": 4
}
