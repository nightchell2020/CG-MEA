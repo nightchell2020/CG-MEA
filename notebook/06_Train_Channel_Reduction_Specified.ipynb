{
 "cells": [
  {
   "cell_type": "markdown",
   "metadata": {
    "pycharm": {
     "name": "#%% md\n"
    }
   },
   "source": [
    "# Train Channel Reduction\n",
    "\n",
    "- Train deep classifiers for the EEG-based diagnostic classification with channel reduction.\n",
    "    - CAUEEG-Dementia benchmark: Classification of **Normal**, **MCI**, and **Dementia** symptoms\n",
    "    - CAUEEG-Abnormal benchmark: Classification of **Normal** and **Abnormal** symptoms    "
   ]
  },
  {
   "cell_type": "markdown",
   "metadata": {
    "pycharm": {
     "name": "#%% md\n"
    }
   },
   "source": [
    "-----\n",
    "\n",
    "## Load Packages"
   ]
  },
  {
   "cell_type": "code",
   "execution_count": 1,
   "metadata": {
    "pycharm": {
     "name": "#%%\n"
    }
   },
   "outputs": [
    {
     "name": "stdout",
     "output_type": "stream",
     "text": [
      "C:\\Users\\Minjae\\Desktop\\EEG_Project\n"
     ]
    }
   ],
   "source": [
    "# for auto-reloading external modules\n",
    "# see http://stackoverflow.com/questions/1907993/autoreload-of-modules-in-ipython\n",
    "%load_ext autoreload\n",
    "%autoreload 2\n",
    "%cd .."
   ]
  },
  {
   "cell_type": "code",
   "execution_count": 2,
   "metadata": {
    "pycharm": {
     "name": "#%%\n"
    },
    "tags": []
   },
   "outputs": [
    {
     "name": "stderr",
     "output_type": "stream",
     "text": [
      "C:\\Users\\Minjae\\Desktop\\EEG_Project\\run_train.py:243: UserWarning:\n",
      "\n",
      "\n",
      "The version_base parameter is not specified.\n",
      "Please specify a compatability version level, or None.\n",
      "Will assume defaults for version 1.1\n",
      "\n"
     ]
    }
   ],
   "source": [
    "# Load some packages\n",
    "import hydra\n",
    "from omegaconf import OmegaConf\n",
    "import wandb\n",
    "import pprint\n",
    "from copy import deepcopy\n",
    "import itertools\n",
    "from tqdm.auto import tqdm\n",
    "\n",
    "# custom package\n",
    "from run_train import check_device_env\n",
    "from run_train import prepare_and_run_train"
   ]
  },
  {
   "cell_type": "markdown",
   "metadata": {
    "pycharm": {
     "name": "#%% md\n"
    }
   },
   "source": [
    "---\n",
    "\n",
    "## Specify the dataset, model, and train setting"
   ]
  },
  {
   "cell_type": "code",
   "execution_count": 21,
   "metadata": {
    "collapsed": false,
    "jupyter": {
     "outputs_hidden": false
    },
    "pycharm": {
     "name": "#%%\n"
    }
   },
   "outputs": [
    {
     "name": "stdout",
     "output_type": "stream",
     "text": [
      "data=caueeg-dementia data.EKG=O data.awgn=0 data.awgn_age=0 data.mgn=0 data.photic=O data.seq_length=2000 model=1D-ResNet-18 model.activation=gelu model.dropout=0.3 model.fc_stages=3 model.use_age=conv train.criterion=multi-bce train.lr_scheduler_type=cosine_decay_with_warmup_half train.mixup=0.2 train.weight_decay=0.04394746639552375\n"
     ]
    }
   ],
   "source": [
    "script = \"data=caueeg-dementia data.EKG=O data.awgn=0 data.awgn_age=0 data.mgn=0 data.photic=O data.seq_length=2000 model=1D-ResNet-18 model.activation=gelu model.dropout=0.3 model.fc_stages=3 model.use_age=conv train.criterion=multi-bce train.lr_scheduler_type=cosine_decay_with_warmup_half train.mixup=0.2 train.weight_decay=0.04394746639552375\"\n",
    "print(script)"
   ]
  },
  {
   "cell_type": "code",
   "execution_count": 37,
   "metadata": {
    "tags": []
   },
   "outputs": [
    {
     "name": "stdout",
     "output_type": "stream",
     "text": [
      "['data=caueeg-dementia',\n",
      " '++data.EKG=O',\n",
      " '++data.awgn=0',\n",
      " '++data.awgn_age=0',\n",
      " '++data.mgn=0',\n",
      " '++data.photic=O',\n",
      " '++data.seq_length=2000',\n",
      " 'model=1D-ResNet-18',\n",
      " '++model.activation=gelu',\n",
      " '++model.dropout=0.3',\n",
      " '++model.fc_stages=3',\n",
      " '++model.use_age=conv',\n",
      " '++train.criterion=multi-bce',\n",
      " '++train.lr_scheduler_type=cosine_decay_with_warmup_half',\n",
      " '++train.mixup=0.2',\n",
      " '++train.weight_decay=0.04394746639552375',\n",
      " '++train.project=caueeg-dementia-channel-reduction',\n",
      " 'train=distillation-score',\n",
      " '++train.distil_teacher_score=local/ensemble-dementia-class-score.pt']\n"
     ]
    }
   ],
   "source": [
    "add_configs_base = []\n",
    "\n",
    "for seg in script.split(\" \"):\n",
    "    if 'train.project' in seg:\n",
    "        continue\n",
    "    elif \".\" in seg and \"++\" not in seg:\n",
    "        seg = \"++\" + seg\n",
    "    add_configs_base.append(seg)\n",
    "\n",
    "# add_configs_base.append(\"++model.base_model=2s1700lg\")\n",
    "add_configs_base.append(\"++train.project=caueeg-dementia-channel-reduction\")\n",
    "# add_configs_base.append(\"++train.device=cuda:3\")\n",
    "add_configs_base.append(\"train=distillation-score\")\n",
    "add_configs_base.append(\"++train.distil_teacher_score=local/ensemble-dementia-class-score.pt\")\n",
    "\n",
    "pprint.pprint(add_configs_base)"
   ]
  },
  {
   "cell_type": "markdown",
   "metadata": {
    "jupyter": {
     "outputs_hidden": false
    },
    "pycharm": {
     "name": "#%%\n"
    }
   },
   "source": [
    "---\n",
    "\n",
    "## Initializing configurations using Hydra and Train"
   ]
  },
  {
   "cell_type": "code",
   "execution_count": 38,
   "metadata": {
    "collapsed": false,
    "jupyter": {
     "outputs_hidden": false
    },
    "pycharm": {
     "name": "#%%\n"
    }
   },
   "outputs": [],
   "source": [
    "signal_header = [\"Fp1-AVG\", \"F3-AVG\", \"C3-AVG\", \"P3-AVG\", \"O1-AVG\",\n",
    "                 \"Fp2-AVG\", \"F4-AVG\", \"C4-AVG\", \"P4-AVG\", \"O2-AVG\", \n",
    "                 \"F7-AVG\", \"T3-AVG\", \"T5-AVG\",\"F8-AVG\", \"T4-AVG\", \n",
    "                 \"T6-AVG\", \"FZ-AVG\", \"CZ-AVG\", \"PZ-AVG\", \"EKG\", \"Photic\"]"
   ]
  },
  {
   "cell_type": "code",
   "execution_count": 39,
   "metadata": {},
   "outputs": [],
   "source": [
    "# channel_nums = range(19)\n",
    "# for channel_reduction_list in tqdm(list(itertools.combinations(channel_nums, 18))):\n",
    "#     add_configs = deepcopy(add_configs_base)\n",
    "\n",
    "#     with hydra.initialize(config_path=\"../config\"):\n",
    "#         cfg = hydra.compose(config_name=\"default\", overrides=add_configs)\n",
    "\n",
    "#     config = {\n",
    "#         **OmegaConf.to_container(cfg.data),\n",
    "#         **OmegaConf.to_container(cfg.train),\n",
    "#         **OmegaConf.to_container(cfg.model),\n",
    "#     }\n",
    "#     config['channel_reduction_list'] = [*channel_reduction_list]\n",
    "#     config['EKG'] = \"X\"\n",
    "#     config['photic'] = \"X\"\n",
    "#     config['channel_survive'] = [signal_header[i] for i in channel_nums if i not in channel_reduction_list]\n",
    "    \n",
    "\n",
    "#     check_device_env(config)\n",
    "#     # pprint.pprint(config)\n",
    "#     prepare_and_run_train(rank=None, world_size=None, config=config)"
   ]
  },
  {
   "cell_type": "code",
   "execution_count": 40,
   "metadata": {},
   "outputs": [],
   "source": [
    "# channel_nums = range(19)\n",
    "# for channel_difference in tqdm(list(itertools.combinations(channel_nums, 2))):\n",
    "#     add_configs = deepcopy(add_configs_base)\n",
    "\n",
    "#     with hydra.initialize(config_path=\"../config\", version_base=\"1.1\"):\n",
    "#         cfg = hydra.compose(config_name=\"default\", overrides=add_configs)\n",
    "\n",
    "#     config = {\n",
    "#         **OmegaConf.to_container(cfg.data),\n",
    "#         **OmegaConf.to_container(cfg.train),\n",
    "#         **OmegaConf.to_container(cfg.model),\n",
    "#     }\n",
    "#     config['channel_difference'] = [*channel_difference]\n",
    "#     config['EKG'] = \"X\"\n",
    "#     config['photic'] = \"X\"\n",
    "#     config['montage'] = ' - '.join([signal_header[i].split('-')[0] for i in channel_difference])\n",
    "#     config['device'] = 'cuda:3'\n",
    "\n",
    "#     check_device_env(config)\n",
    "#     # pprint.pprint(config)\n",
    "#     prepare_and_run_train(rank=None, world_size=None, config=config)"
   ]
  },
  {
   "cell_type": "code",
   "execution_count": 41,
   "metadata": {
    "tags": []
   },
   "outputs": [
    {
     "name": "stdout",
     "output_type": "stream",
     "text": [
      "\n",
      "******************************    Configurations for Train    ******************************\n",
      "\n",
      "{'EKG': 'X',\n",
      " '_target_': 'models.resnet_1d.ResNet1D',\n",
      " 'activation': 'gelu',\n",
      " 'age_mean': tensor([71.1417]),\n",
      " 'age_std': tensor([9.7840]),\n",
      " 'awgn': 0,\n",
      " 'awgn_age': 0,\n",
      " 'base_channels': 64,\n",
      " 'base_lr': 0.0001,\n",
      " 'block': 'basic',\n",
      " 'channel_difference': [0, 18],\n",
      " 'class_label_to_name': ['Normal', 'MCI', 'Dementia'],\n",
      " 'class_name_to_label': {'Dementia': 2, 'MCI': 1, 'Normal': 0},\n",
      " 'conv_layers': [2, 2, 2, 2],\n",
      " 'criterion': 'multi-bce',\n",
      " 'crop_multiple': 4,\n",
      " 'crop_timing_analysis': False,\n",
      " 'dataset_name': 'CAUEEG dataset',\n",
      " 'dataset_path': 'local/dataset/caueeg-dataset/',\n",
      " 'ddp': False,\n",
      " 'device': device(type='cuda', index=0),\n",
      " 'distil_alpha': 0.1,\n",
      " 'distil_tau': 3.0,\n",
      " 'distil_teacher': 'score',\n",
      " 'distil_teacher_score': tensor([[ 0.0000,  0.0000,  0.0000],\n",
      "        [ 0.0000,  0.0000,  0.0000],\n",
      "        [ 4.4546, -2.6231, -3.3622],\n",
      "        ...,\n",
      "        [-1.7782, -2.1832,  3.3826],\n",
      "        [-2.4056, -1.8465,  3.2377],\n",
      "        [-2.3053, -1.8745,  3.5382]], device='cuda:0'),\n",
      " 'distil_type': 'soft',\n",
      " 'draw_result': True,\n",
      " 'dropout': 0.3,\n",
      " 'fc_stages': 3,\n",
      " 'file_format': 'memmap',\n",
      " 'in_channels': 1,\n",
      " 'input_norm': 'dataset',\n",
      " 'latency': 2000,\n",
      " 'load_event': False,\n",
      " 'lr_scheduler_type': 'cosine_decay_with_warmup_half',\n",
      " 'mgn': 0,\n",
      " 'minibatch': 512,\n",
      " 'minibatch_3090': 512,\n",
      " 'mixup': 0.2,\n",
      " 'model': '1D-ResNet-18',\n",
      " 'montage': 'Fp1 - PZ',\n",
      " 'multi_batch_size': 64,\n",
      " 'num_history': 500,\n",
      " 'num_params': 11341571,\n",
      " 'out_dims': 3,\n",
      " 'output_length': 8,\n",
      " 'photic': 'X',\n",
      " 'preprocess_test': Sequential(\n",
      "  (0): EegToDevice(device=device(type='cuda', index=0))\n",
      "  (1): EegNormalizeAge(mean=tensor([71.1417]), std=tensor([9.7840]), eps=1e-08, std_eps=tensor([9.7840]))\n",
      "  (2): EegNormalizeMeanStd(mean=tensor([[[0.0493]]]), std=tensor([[[49.3209]]]), eps=1e-08, std_eps=tensor([[[49.3209]]]))\n",
      "),\n",
      " 'preprocess_train': Sequential(\n",
      "  (0): EegToDevice(device=device(type='cuda', index=0))\n",
      "  (1): EegNormalizeAge(mean=tensor([71.1417], device='cuda:0'), std=tensor([9.7840]), eps=1e-08, std_eps=tensor([9.7840], device='cuda:0'))\n",
      "  (2): EegNormalizeMeanStd(mean=tensor([[[0.0493]]], device='cuda:0'), std=tensor([[[49.3209]]]), eps=1e-08, std_eps=tensor([[[49.3209]]], device='cuda:0'))\n",
      "),\n",
      " 'project': 'caueeg-dementia-channel-reduction',\n",
      " 'run_mode': 'train',\n",
      " 'save_model': True,\n",
      " 'search_lr': True,\n",
      " 'search_multiplier': 1.0,\n",
      " 'seed': 0,\n",
      " 'seq_length': 2000,\n",
      " 'signal_header': ['Fp1-AVG',\n",
      "                   'F3-AVG',\n",
      "                   'C3-AVG',\n",
      "                   'P3-AVG',\n",
      "                   'O1-AVG',\n",
      "                   'Fp2-AVG',\n",
      "                   'F4-AVG',\n",
      "                   'C4-AVG',\n",
      "                   'P4-AVG',\n",
      "                   'O2-AVG',\n",
      "                   'F7-AVG',\n",
      "                   'T3-AVG',\n",
      "                   'T5-AVG',\n",
      "                   'F8-AVG',\n",
      "                   'T4-AVG',\n",
      "                   'T6-AVG',\n",
      "                   'FZ-AVG',\n",
      "                   'CZ-AVG',\n",
      "                   'PZ-AVG',\n",
      "                   'EKG',\n",
      "                   'Photic'],\n",
      " 'signal_length_limit': 10000000,\n",
      " 'signal_mean': tensor([[[0.0493]]]),\n",
      " 'signal_std': tensor([[[49.3209]]]),\n",
      " 'task': 'dementia',\n",
      " 'task_description': 'Classification of [Normal], [MCI], and [Dementia] symptoms.',\n",
      " 'task_name': 'CAUEEG-Dementia benchmark',\n",
      " 'test_crop_multiple': 8,\n",
      " 'total_samples': 100000000.0,\n",
      " 'transform': Compose(\n",
      "    EegRandomCrop(crop_length=2000, length_limit=10000000, multiple=4, latency=2000, segment_simulation=False, return_timing=False, reject_events=False)\n",
      "    EegChannelDifference(ch1=0, ch2=18)\n",
      "    EegToTensor()\n",
      "),\n",
      " 'transform_multicrop': Compose(\n",
      "    EegRandomCrop(crop_length=2000, length_limit=10000000, multiple=8, latency=2000, segment_simulation=False, return_timing=False, reject_events=False)\n",
      "    EegChannelDifference(ch1=0, ch2=18)\n",
      "    EegToTensor()\n",
      "),\n",
      " 'use_age': 'conv',\n",
      " 'use_wandb': True,\n",
      " 'warmup_min': 3000,\n",
      " 'warmup_ratio': 0.05,\n",
      " 'watch_model': False,\n",
      " 'weight_decay': 0.04394746639552375}\n",
      "\n",
      "********************************************************************************************\n",
      "\n"
     ]
    },
    {
     "data": {
      "text/html": [
       "Tracking run with wandb version 0.15.4"
      ],
      "text/plain": [
       "<IPython.core.display.HTML object>"
      ]
     },
     "metadata": {},
     "output_type": "display_data"
    },
    {
     "data": {
      "text/html": [
       "Run data is saved locally in <code>C:\\Users\\Minjae\\Desktop\\EEG_Project\\wandb\\run-20230702_125723-1ncioxh8</code>"
      ],
      "text/plain": [
       "<IPython.core.display.HTML object>"
      ]
     },
     "metadata": {},
     "output_type": "display_data"
    },
    {
     "data": {
      "text/html": [
       "Syncing run <strong><a href='https://wandb.ai/ipis-mjkim/caueeg-dementia-channel-reduction/runs/1ncioxh8' target=\"_blank\">feasible-haze-214</a></strong> to <a href='https://wandb.ai/ipis-mjkim/caueeg-dementia-channel-reduction' target=\"_blank\">Weights & Biases</a> (<a href='https://wandb.me/run' target=\"_blank\">docs</a>)<br/>"
      ],
      "text/plain": [
       "<IPython.core.display.HTML object>"
      ]
     },
     "metadata": {},
     "output_type": "display_data"
    },
    {
     "data": {
      "text/html": [
       " View project at <a href='https://wandb.ai/ipis-mjkim/caueeg-dementia-channel-reduction' target=\"_blank\">https://wandb.ai/ipis-mjkim/caueeg-dementia-channel-reduction</a>"
      ],
      "text/plain": [
       "<IPython.core.display.HTML object>"
      ]
     },
     "metadata": {},
     "output_type": "display_data"
    },
    {
     "data": {
      "text/html": [
       " View run at <a href='https://wandb.ai/ipis-mjkim/caueeg-dementia-channel-reduction/runs/1ncioxh8' target=\"_blank\">https://wandb.ai/ipis-mjkim/caueeg-dementia-channel-reduction/runs/1ncioxh8</a>"
      ],
      "text/plain": [
       "<IPython.core.display.HTML object>"
      ]
     },
     "metadata": {},
     "output_type": "display_data"
    },
    {
     "name": "stderr",
     "output_type": "stream",
     "text": [
      "C:\\Users\\Minjae\\anaconda3\\envs\\eeg\\lib\\site-packages\\wandb\\sdk\\lib\\ipython.py:70: DeprecationWarning:\n",
      "\n",
      "Importing display from IPython.core.display is deprecated since IPython 7.14, please import from IPython display\n",
      "\n"
     ]
    },
    {
     "data": {
      "text/html": [
       "Waiting for W&B process to finish... <strong style=\"color:green\">(success).</strong>"
      ],
      "text/plain": [
       "<IPython.core.display.HTML object>"
      ]
     },
     "metadata": {},
     "output_type": "display_data"
    },
    {
     "name": "stderr",
     "output_type": "stream",
     "text": [
      "C:\\Users\\Minjae\\anaconda3\\envs\\eeg\\lib\\site-packages\\wandb\\sdk\\lib\\ipython.py:82: DeprecationWarning:\n",
      "\n",
      "Importing display from IPython.core.display is deprecated since IPython 7.14, please import from IPython display\n",
      "\n"
     ]
    },
    {
     "data": {
      "application/vnd.jupyter.widget-view+json": {
       "model_id": "3253aef4cdd54fa08e10ee358a3e5bdb",
       "version_major": 2,
       "version_minor": 0
      },
      "text/plain": [
       "VBox(children=(Label(value='0.271 MB of 0.324 MB uploaded (0.000 MB deduped)\\r'), FloatProgress(value=0.836482…"
      ]
     },
     "metadata": {},
     "output_type": "display_data"
    },
    {
     "data": {
      "text/html": [
       "<style>\n",
       "    table.wandb td:nth-child(1) { padding: 0 10px; text-align: left ; width: auto;} td:nth-child(2) {text-align: left ; width: 100%}\n",
       "    .wandb-row { display: flex; flex-direction: row; flex-wrap: wrap; justify-content: flex-start; width: 100% }\n",
       "    .wandb-col { display: flex; flex-direction: column; flex-basis: 100%; flex: 1; padding: 10px; }\n",
       "    </style>\n",
       "<div class=\"wandb-row\"><div class=\"wandb-col\"><h3>Run history:</h3><br/><table class=\"wandb\"><tr><td>Learning Rate</td><td>▂▅███████▇▇▇▇▇▆▆▆▅▅▅▅▄▄▄▃▃▃▃▂▂▂▂▂▁▁▁▁▁▁▁</td></tr><tr><td>Loss</td><td>█▇▅▃▃▂▂▂▂▂▂▂▁▁▂▂▂▁▂▁▁▂▁▁▁▁▁▁▁▁▁▁▁▁▁▁▁▁▁▁</td></tr><tr><td>Multi-Crop Test Accuracy</td><td>▁</td></tr><tr><td>Test Accuracy</td><td>▁</td></tr><tr><td>Train Accuracy</td><td>▁▃▄▆▆▇▇▇▇▇▇███▇█▇█▇██▇██████████████████</td></tr><tr><td>Validation Accuracy</td><td>█▁▅▄▄▅▅▃▆▃▆▇▃▄▅▃▃▅▅▂▄▄▆▃▆▄▆▇▆▃▄▅▆▆▆▅▆▅▆▅</td></tr></table><br/></div><div class=\"wandb-col\"><h3>Run summary:</h3><br/><table class=\"wandb\"><tr><td>Learning Rate</td><td>0.0</td></tr><tr><td>Loss</td><td>0.71377</td></tr><tr><td>Multi-Crop Test Accuracy</td><td>59.77401</td></tr><tr><td>Test Accuracy</td><td>56.95621</td></tr><tr><td>Train Accuracy</td><td>90.21659</td></tr><tr><td>Validation Accuracy</td><td>54.07563</td></tr></table><br/></div></div>"
      ],
      "text/plain": [
       "<IPython.core.display.HTML object>"
      ]
     },
     "metadata": {},
     "output_type": "display_data"
    },
    {
     "data": {
      "text/html": [
       " View run <strong style=\"color:#cdcd00\">feasible-haze-214</strong> at: <a href='https://wandb.ai/ipis-mjkim/caueeg-dementia-channel-reduction/runs/1ncioxh8' target=\"_blank\">https://wandb.ai/ipis-mjkim/caueeg-dementia-channel-reduction/runs/1ncioxh8</a><br/>Synced 6 W&B file(s), 3 media file(s), 0 artifact file(s) and 1 other file(s)"
      ],
      "text/plain": [
       "<IPython.core.display.HTML object>"
      ]
     },
     "metadata": {},
     "output_type": "display_data"
    },
    {
     "data": {
      "text/html": [
       "Find logs at: <code>.\\wandb\\run-20230702_125723-1ncioxh8\\logs</code>"
      ],
      "text/plain": [
       "<IPython.core.display.HTML object>"
      ]
     },
     "metadata": {},
     "output_type": "display_data"
    }
   ],
   "source": [
    "channel_difference = [0, 18]\n",
    "add_configs = deepcopy(add_configs_base)\n",
    "\n",
    "with hydra.initialize(config_path=\"../config\", version_base=\"1.1\"):\n",
    "    cfg = hydra.compose(config_name=\"default\", overrides=add_configs)\n",
    "\n",
    "config = {\n",
    "    **OmegaConf.to_container(cfg.data),\n",
    "    **OmegaConf.to_container(cfg.train),\n",
    "    **OmegaConf.to_container(cfg.model),\n",
    "}\n",
    "config['channel_difference'] = [*channel_difference]\n",
    "config['EKG'] = \"X\"\n",
    "config['photic'] = \"X\"\n",
    "config['montage'] = ' - '.join([signal_header[i].split('-')[0] for i in channel_difference])\n",
    "config['device'] = 'cuda:0'\n",
    "\n",
    "check_device_env(config)\n",
    "# pprint.pprint(config)\n",
    "prepare_and_run_train(rank=None, world_size=None, config=config)"
   ]
  },
  {
   "cell_type": "markdown",
   "metadata": {},
   "source": [
    "## Parse Results"
   ]
  },
  {
   "cell_type": "code",
   "execution_count": null,
   "metadata": {},
   "outputs": [],
   "source": [
    "import csv\n",
    "import numpy as np\n",
    "\n",
    "performance_list = [] \n",
    "\n",
    "with open(r\"local/wandb_save.csv\") as fp:\n",
    "    rdr = csv.reader(fp)\n",
    "    for i, line in enumerate(rdr):\n",
    "        if i == 0:\n",
    "            continue\n",
    "        mont1, mont2 = line[13].split(\" - \")\n",
    "        test_acc = line[16]\n",
    "        multi_test_acc = line[17]\n",
    "        performance_list.append({\n",
    "            'Mont1': mont1,\n",
    "            'Mont2': mont2,\n",
    "            'Test': test_acc,\n",
    "            'TTA': multi_test_acc,\n",
    "        })\n",
    "        \n",
    "# print(performance_list)"
   ]
  },
  {
   "cell_type": "code",
   "execution_count": null,
   "metadata": {},
   "outputs": [],
   "source": [
    "idx_to_mont = [mont.split('-')[0] for mont in signal_header if mont.lower() not in ['ekg', 'photic']]\n",
    "mont_to_idx = {mont: i for i, mont in enumerate(idx_to_mont)}\n",
    "\n",
    "test = np.zeros((19, 19))\n",
    "mtest = np.zeros((19, 19))\n",
    "\n",
    "for perf in performance_list:\n",
    "    test[mont_to_idx[perf['Mont1']], mont_to_idx[perf['Mont2']]] = perf['Test']\n",
    "    # test[mont_to_idx[perf['Mont2']], mont_to_idx[perf['Mont1']]] = perf['Test']\n",
    "\n",
    "    mtest[mont_to_idx[perf['Mont1']], mont_to_idx[perf['Mont2']]] = perf['TTA']\n",
    "    # mtest[mont_to_idx[perf['Mont2']], mont_to_idx[perf['Mont1']]] = perf['TTA']"
   ]
  },
  {
   "cell_type": "code",
   "execution_count": null,
   "metadata": {},
   "outputs": [],
   "source": [
    "import matplotlib.pyplot as plt\n",
    "plt.rcParams['image.cmap'] = 'jet' # nipy_spectral, jet\n",
    "\n",
    "fig, ax = plt.subplots(num=1, clear=True, figsize=(10.0, 10.0))\n",
    "\n",
    "im = ax.imshow(test)\n",
    "ax.set_xticks(np.arange(len(idx_to_mont)), labels=idx_to_mont)\n",
    "ax.set_yticks(np.arange(len(idx_to_mont)), labels=idx_to_mont)\n",
    "for i in range(len(idx_to_mont)):\n",
    "    for j in range(len(idx_to_mont)):\n",
    "        text = ax.text(j, i, round(test[i, j] * 100) / 100,\n",
    "                       ha=\"center\", va=\"center\", color=\"w\")\n",
    "fig.tight_layout()\n",
    "plt.show()"
   ]
  },
  {
   "cell_type": "code",
   "execution_count": null,
   "metadata": {},
   "outputs": [],
   "source": [
    "fig, ax = plt.subplots(num=1, clear=True, figsize=(10.0, 10.0))\n",
    "\n",
    "im = ax.imshow(mtest)\n",
    "ax.set_xticks(np.arange(len(idx_to_mont)), labels=idx_to_mont)\n",
    "ax.set_yticks(np.arange(len(idx_to_mont)), labels=idx_to_mont)\n",
    "for i in range(len(idx_to_mont)):\n",
    "    for j in range(len(idx_to_mont)):\n",
    "        text = ax.text(j, i, round(mtest[i, j] * 100) / 100,\n",
    "                       ha=\"center\", va=\"center\", color=\"w\")\n",
    "fig.tight_layout()\n",
    "plt.show()"
   ]
  },
  {
   "cell_type": "code",
   "execution_count": null,
   "metadata": {},
   "outputs": [],
   "source": []
  }
 ],
 "metadata": {
  "kernelspec": {
   "display_name": "Python 3 (ipykernel)",
   "language": "python",
   "name": "python3"
  },
  "language_info": {
   "codemirror_mode": {
    "name": "ipython",
    "version": 3
   },
   "file_extension": ".py",
   "mimetype": "text/x-python",
   "name": "python",
   "nbconvert_exporter": "python",
   "pygments_lexer": "ipython3",
   "version": "3.9.12"
  }
 },
 "nbformat": 4,
 "nbformat_minor": 4
}
