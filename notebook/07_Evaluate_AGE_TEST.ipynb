{
 "cells": [
  {
   "cell_type": "markdown",
   "id": "d74515d5-5f25-477b-9a97-ed1f9b6d4c51",
   "metadata": {
    "pycharm": {
     "name": "#%% md\n"
    }
   },
   "source": [
    "# Evaluate\n",
    "\n",
    "The network trained by `05_Train_Sweep.ipynb` is evaluated in this notebook."
   ]
  },
  {
   "cell_type": "markdown",
   "id": "b8a2666f-6b4b-4748-9dca-2884347a1f0f",
   "metadata": {
    "pycharm": {
     "name": "#%% md\n"
    }
   },
   "source": [
    "-----\n",
    "\n",
    "## Load Packages"
   ]
  },
  {
   "cell_type": "code",
   "execution_count": 1,
   "id": "df587e38-b1a9-42c8-9b50-680200a9bec7",
   "metadata": {
    "pycharm": {
     "name": "#%%\n"
    }
   },
   "outputs": [],
   "source": [
    "# for auto-reloading external modules\n",
    "# see http://stackoverflow.com/questions/1907993/autoreload-of-modules-in-ipython\n",
    "%load_ext autoreload\n",
    "%autoreload 2\n",
    "%cd .."
   ]
  },
  {
   "cell_type": "code",
   "execution_count": 2,
   "id": "8fb41bf8-1713-4228-b799-0e1c87545a16",
   "metadata": {
    "pycharm": {
     "name": "#%%\n"
    }
   },
   "outputs": [],
   "source": [
    "# Load some packages\n",
    "import os\n",
    "import json\n",
    "import yaml\n",
    "from copy import deepcopy\n",
    "\n",
    "import math\n",
    "import numpy as np\n",
    "import torch\n",
    "import torch.nn as nn\n",
    "import torch.nn.functional as F\n",
    "import torch.optim as optim\n",
    "\n",
    "import pprint\n",
    "import matplotlib.pyplot as plt\n",
    "\n",
    "# custom package\n",
    "from datasets.cau_eeg_dataset import *\n",
    "from datasets.cau_eeg_script import *\n",
    "import models\n",
    "from train import *"
   ]
  },
  {
   "cell_type": "code",
   "execution_count": 3,
   "id": "d10e3f39-ed55-422c-b47f-376691cbeed6",
   "metadata": {
    "pycharm": {
     "name": "#%%\n"
    }
   },
   "outputs": [
    {
     "name": "stdout",
     "output_type": "stream",
     "text": [
      "PyTorch version: 1.11.0+cu113\n",
      "cuda is available.\n"
     ]
    }
   ],
   "source": [
    "print('PyTorch version:', torch.__version__)\n",
    "device = torch.device('cuda' if torch.cuda.is_available() else 'cpu')\n",
    "\n",
    "if torch.cuda.is_available(): print('cuda is available.')\n",
    "else: print('cuda is unavailable.') "
   ]
  },
  {
   "cell_type": "markdown",
   "id": "d2a62fa4-aa53-49d5-8ab4-2e2aaf7b65d1",
   "metadata": {
    "tags": [],
    "pycharm": {
     "name": "#%% md\n"
    }
   },
   "source": [
    "## Load the configuration which used during train phase"
   ]
  },
  {
   "cell_type": "code",
   "execution_count": 4,
   "id": "8b47a679-474c-4849-9655-32fcf69a8eb9",
   "metadata": {
    "pycharm": {
     "name": "#%%\n"
    }
   },
   "outputs": [],
   "source": [
    "model_name = 'zlypije8'\n",
    "model_path = os.path.join('local/checkpoint', model_name)"
   ]
  },
  {
   "cell_type": "code",
   "execution_count": 5,
   "id": "90952e30-a7ca-4f36-b493-cf668cb1fbf7",
   "metadata": {
    "pycharm": {
     "name": "#%%\n"
    }
   },
   "outputs": [
    {
     "name": "stdout",
     "output_type": "stream",
     "text": [
      "{'EKG': 'X',\n",
      " 'LR': 0.00028586537399823023,\n",
      " 'activation': 'gelu',\n",
      " 'age_mean': 69.92779783393502,\n",
      " 'age_std': 9.817569889945597,\n",
      " 'awgn': 0.09612556281067966,\n",
      " 'awgn_age': 0.232644717265596,\n",
      " 'base_channels': 64,\n",
      " 'base_stride': 3,\n",
      " 'block': 'models.resnet_1d.BottleneckBlock1D',\n",
      " 'conv_layers': [3, 4, 6, 3],\n",
      " 'criterion': 'multi-bce',\n",
      " 'crop_length': 2000,\n",
      " 'crop_multiple': 2,\n",
      " 'data_path': 'dataset/02_Curated_Data/',\n",
      " 'dataset': 'CAUHS',\n",
      " 'device': 'cuda',\n",
      " 'draw_result': True,\n",
      " 'dropout': 0.4741286361591117,\n",
      " 'fc_stages': 3,\n",
      " 'final_pool': 'average',\n",
      " 'final_shape': [64, 2048, 12],\n",
      " 'first_dilation': 3,\n",
      " 'generator': 'models.resnet_1d.ResNet1D',\n",
      " 'groups': 32,\n",
      " 'history_interval': 200,\n",
      " 'in_channels': 20,\n",
      " 'input_norm': 'dataset',\n",
      " 'iterations': 200000,\n",
      " 'longer_crop_length': 20000,\n",
      " 'lr_decay_gamma': 0.1721164909561929,\n",
      " 'lr_decay_step': 150000,\n",
      " 'meta_path': 'dataset/02_Curated_Data/metadata_debug.json',\n",
      " 'minibatch': 64,\n",
      " 'mixup': 0.3,\n",
      " 'model': '1D-ResNeXt-5x',\n",
      " 'model_index': 2,\n",
      " 'num_params': 15327491,\n",
      " 'out_dims': 3,\n",
      " 'photic': 'O',\n",
      " 'save_model': True,\n",
      " 'save_temporary': False,\n",
      " 'seed': 0,\n",
      " 'segment': 'no',\n",
      " 'signal_mean': [[-0.07516978681087494],\n",
      "                 [-0.15209835767745972],\n",
      "                 [0.008842908777296543],\n",
      "                 [0.033724453300237656],\n",
      "                 [0.2394041270017624],\n",
      "                 [-0.022895846515893936],\n",
      "                 [-0.06601200252771378],\n",
      "                 [-0.024672718718647957],\n",
      "                 [-0.00868013221770525],\n",
      "                 [0.0532282218337059],\n",
      "                 [0.002027827315032482],\n",
      "                 [0.09287900477647781],\n",
      "                 [0.03314078226685524],\n",
      "                 [-0.05887924134731293],\n",
      "                 [-0.18876706063747406],\n",
      "                 [0.07901395112276077],\n",
      "                 [-0.10550178587436676],\n",
      "                 [-0.01585826277732849],\n",
      "                 [0.030693620443344116],\n",
      "                 [-0.010559933260083199],\n",
      "                 [-0.015625998377799988]],\n",
      " 'signal_std': [[44.718570709228516],\n",
      "                [20.076601028442383],\n",
      "                [11.276522636413574],\n",
      "                [10.777416229248047],\n",
      "                [14.738368034362793],\n",
      "                [49.383705139160156],\n",
      "                [19.442602157592773],\n",
      "                [10.17593002319336],\n",
      "                [11.114855766296387],\n",
      "                [14.871912956237793],\n",
      "                [20.5390625],\n",
      "                [14.521451950073242],\n",
      "                [13.345361709594727],\n",
      "                [21.17331314086914],\n",
      "                [17.495250701904297],\n",
      "                [13.809678077697754],\n",
      "                [20.05814552307129],\n",
      "                [10.955811500549316],\n",
      "                [11.119888305664062],\n",
      "                [94.29718017578125],\n",
      "                [64.9755859375]],\n",
      " 'target_task': 'Normal, MCI, Dementia',\n",
      " 'use_age': 'fc',\n",
      " 'vascular': 'X',\n",
      " 'watch_model': False,\n",
      " 'weight_decay': 0.0037721466319473288}\n"
     ]
    }
   ],
   "source": [
    "with open(os.path.join(model_path, 'config.yaml'), 'r') as f:\n",
    "    wandb_config = yaml.load(f, Loader=yaml.FullLoader)\n",
    "    \n",
    "config = {}\n",
    "for k, v in wandb_config.items():\n",
    "    if type(k) is str and (k.startswith('wandb') or k.startswith('_wandb')):\n",
    "        continue\n",
    "    config[k] = v['value']\n",
    "\n",
    "pprint.pprint(config)"
   ]
  },
  {
   "cell_type": "code",
   "execution_count": 6,
   "id": "f462ff26-00a2-48a5-aad0-e0845795a727",
   "metadata": {
    "pycharm": {
     "name": "#%%\n"
    }
   },
   "outputs": [],
   "source": [
    "# preprocessing procedure was changed.. (norm, channel drop) --> (channel drop, norm)\n",
    "config['signal_mean'] = np.delete(np.array(config['signal_mean']), 19, 0)\n",
    "config['signal_std'] = np.delete(np.array(config['signal_std']), 19, 0)"
   ]
  },
  {
   "cell_type": "markdown",
   "id": "d806de84-9e2a-4344-96b4-976d65f98bce",
   "metadata": {
    "pycharm": {
     "name": "#%% md\n"
    }
   },
   "source": [
    "-----\n",
    "\n",
    "## Build the dataset"
   ]
  },
  {
   "cell_type": "code",
   "execution_count": 7,
   "id": "72743928-5752-4ca0-ada8-bc60784d138b",
   "metadata": {
    "pycharm": {
     "name": "#%%\n"
    }
   },
   "outputs": [],
   "source": [
    "config['data_path'] = r'local\\dataset\\02_Cuated_TEMP'\n",
    "config['meta_path'] = r'local/dataset/02_Cuated_TEMP/annotations.json'\n",
    "config['file_format'] = 'edf'\n",
    "config['minibatch'] = 2\n",
    "config['crop_multiple'] = 1\n",
    "config['crop_timing_analysis'] = True\n",
    "config['evaluation_phase'] = True\n",
    "config['latency'] = 200 * 10  # 10 seconds\n",
    "# config['longer_crop_length'] = 20000 * 2\n",
    "config['device'] = device\n",
    "repeat = round(50 / config['crop_multiple'])"
   ]
  },
  {
   "cell_type": "code",
   "execution_count": 8,
   "id": "753d1b97-b0e5-49d5-830a-dd67709518c3",
   "metadata": {
    "pycharm": {
     "name": "#%%\n"
    }
   },
   "outputs": [],
   "source": [
    "with open(config['meta_path'], 'r') as json_file:\n",
    "    metadata = json.load(json_file)"
   ]
  },
  {
   "cell_type": "code",
   "execution_count": 9,
   "id": "351dd3a1-bc7b-4d93-8a7f-56f8a94bae48",
   "metadata": {
    "pycharm": {
     "name": "#%%\n"
    }
   },
   "outputs": [
    {
     "name": "stdout",
     "output_type": "stream",
     "text": [
      "class_label_to_name: ['Normal', 'Non-vascular MCI', 'Non-vascular dementia']\n",
      "\n",
      "----------------------------------------------------------------------------------------------------\n",
      "\n"
     ]
    }
   ],
   "source": [
    "diagnosis_filter, class_label_to_name = define_target_task(config, verbose=True)\n",
    "config['diagnosis_filter'] = diagnosis_filter\n",
    "config['class_label_to_name'] = class_label_to_name\n",
    "\n",
    "def generate_class_label(label):\n",
    "    for c, f in enumerate(diagnosis_filter):\n",
    "        inc = set(f['include']) & set(label) == set(f['include'])\n",
    "        # inc = len(set(f['include']) & set(label)) > 0\n",
    "        exc = len(set(f['exclude']) & set(label)) == 0\n",
    "        if inc and exc:\n",
    "            return c, f['type']\n",
    "    return -1, 'The others'\n",
    "\n",
    "splitted_metadata = [[] for _ in diagnosis_filter]\n",
    "\n",
    "for m in metadata:\n",
    "    c, n = generate_class_label(m['label'])\n",
    "    if c >= 0:\n",
    "        m['class_type'] = n\n",
    "        m['class_label'] = c\n",
    "        splitted_metadata[c].append(m)"
   ]
  },
  {
   "cell_type": "code",
   "execution_count": 10,
   "id": "833007bb-42fb-44df-8f7b-287c2bd91ed8",
   "metadata": {
    "pycharm": {
     "name": "#%%\n"
    }
   },
   "outputs": [
    {
     "name": "stdout",
     "output_type": "stream",
     "text": [
      "[{'serial': '00001', 'age': 23, 'label': ['normal', 'smi'], 'class_type': 'Normal', 'class_label': 0}]\n"
     ]
    }
   ],
   "source": [
    "metadata = [splitted_metadata[0][0]]\n",
    "print(metadata)"
   ]
  },
  {
   "cell_type": "code",
   "execution_count": 11,
   "id": "6c7f7bab-467f-4a1f-9c3a-1d6c50811b0a",
   "metadata": {
    "pycharm": {
     "name": "#%%\n"
    }
   },
   "outputs": [
    {
     "name": "stdout",
     "output_type": "stream",
     "text": [
      "composed_train: Compose(\n",
      "    EegDropEKGChannel()\n",
      "    EegRandomCrop(crop_length=2000, multiple=1, latency=2000, return_timing=True)\n",
      "    EegToTensor()\n",
      ")\n",
      "\n",
      "----------------------------------------------------------------------------------------------------\n",
      "\n",
      "composed_test: Compose(\n",
      "    EegDropEKGChannel()\n",
      "    EegRandomCrop(crop_length=2000, multiple=1, latency=2000, return_timing=True)\n",
      "    EegToTensor()\n",
      ")\n",
      "\n",
      "----------------------------------------------------------------------------------------------------\n",
      "\n",
      "longer_composed_test: Compose(\n",
      "    EegDropEKGChannel()\n",
      "    EegRandomCrop(crop_length=20000, multiple=1, latency=2000, return_timing=True)\n",
      "    EegToTensor()\n",
      ")\n",
      "\n",
      "----------------------------------------------------------------------------------------------------\n",
      "\n",
      "\n"
     ]
    }
   ],
   "source": [
    "composed_train, composed_test, composed_test_longer = compose_transforms(config, verbose=True)"
   ]
  },
  {
   "cell_type": "code",
   "execution_count": 12,
   "id": "815ced8a-b635-4f1c-ba9a-0f700f9394ed",
   "metadata": {
    "pycharm": {
     "name": "#%%\n"
    }
   },
   "outputs": [],
   "source": [
    "test_dataset = CauEegDataset(config['data_path'],\n",
    "                             metadata,\n",
    "                             config.get('load_event', False),\n",
    "                             config.get('file_format', 'feather'),\n",
    "                             composed_test)\n",
    "test_dataset_longer = CauEegDataset(config['data_path'],\n",
    "                                    metadata,\n",
    "                                    config.get('load_event', False),\n",
    "                                    config.get('file_format', 'feather'),\n",
    "                                    composed_test_longer)   "
   ]
  },
  {
   "cell_type": "code",
   "execution_count": 13,
   "id": "c678ac5b-2290-44b8-8e5f-e4e8107a59f1",
   "metadata": {
    "pycharm": {
     "name": "#%%\n"
    }
   },
   "outputs": [],
   "source": [
    "if config['device'].type == 'cuda':\n",
    "    num_workers = 0  # A number other than 0 causes an error\n",
    "    pin_memory = True\n",
    "else:\n",
    "    num_workers = 0\n",
    "    pin_memory = False\n",
    "    \n",
    "batch_size = config['minibatch'] // config.get('crop_multiple', 1)\n",
    "\n",
    "\n",
    "\n",
    "test_loader = DataLoader(test_dataset,\n",
    "                         batch_size=batch_size,\n",
    "                         shuffle=False,\n",
    "                         drop_last=False,\n",
    "                         num_workers=num_workers,\n",
    "                         pin_memory=pin_memory,\n",
    "                         collate_fn=eeg_collate_fn)\n",
    "\n",
    "test_loader_longer = DataLoader(test_dataset_longer,\n",
    "                                batch_size=batch_size // 2,  # to save the memory capacity\n",
    "                                shuffle=False,\n",
    "                                drop_last=False,\n",
    "                                num_workers=num_workers,\n",
    "                                pin_memory=pin_memory,\n",
    "                                collate_fn=eeg_collate_fn)\n",
    "\n",
    "preprocess_test = []\n",
    "preprocess_test += [EegToDevice(device=config['device'])]\n",
    "preprocess_test += [EegNormalizeMeanStd(mean=config['signal_mean'], std=config['signal_std'])]\n",
    "preprocess_test += [EegNormalizeAge(mean=config['age_mean'], std=config['age_std'])]\n",
    "preprocess_test = transforms.Compose(preprocess_test)\n",
    "preprocess_test = torch.nn.Sequential(*preprocess_test.transforms)"
   ]
  },
  {
   "cell_type": "code",
   "execution_count": 14,
   "id": "515ae9cd-b30a-434f-8884-a2e164727362",
   "metadata": {
    "pycharm": {
     "name": "#%%\n"
    }
   },
   "outputs": [
    {
     "name": "stdout",
     "output_type": "stream",
     "text": [
      "torch.Size([1, 20, 2000])\n",
      "torch.Size([1, 20, 20000])\n"
     ]
    }
   ],
   "source": [
    "for sample in test_loader:\n",
    "    print(sample['signal'].shape)\n",
    "\n",
    "for sample in test_loader_longer:\n",
    "    print(sample['signal'].shape)"
   ]
  },
  {
   "cell_type": "markdown",
   "id": "0c85edd9-772b-4525-8acc-095850716b4e",
   "metadata": {
    "pycharm": {
     "name": "#%% md\n"
    }
   },
   "source": [
    "-----\n",
    "\n",
    "## Load the target model"
   ]
  },
  {
   "cell_type": "code",
   "execution_count": 15,
   "id": "d88946aa-6d3c-4b14-869e-b558783b8148",
   "metadata": {
    "pycharm": {
     "name": "#%%\n"
    }
   },
   "outputs": [
    {
     "data": {
      "text/plain": [
       "<All keys matched successfully>"
      ]
     },
     "execution_count": 15,
     "metadata": {},
     "output_type": "execute_result"
    }
   ],
   "source": [
    "config['generator'] = getattr(models, config['generator'].split('.')[-1])\n",
    "\n",
    "if 'block' in config:\n",
    "    config['block'] = getattr(models, config['block'].split('.')[-1])\n",
    "\n",
    "model = config['generator'](**config).to(device)\n",
    "model_state = torch.load(os.path.join(model_path, config['model']))\n",
    "model.load_state_dict(model_state)"
   ]
  },
  {
   "cell_type": "markdown",
   "id": "68e5d21d-f620-4980-95b0-fb8d274f5d95",
   "metadata": {
    "pycharm": {
     "name": "#%% md\n"
    }
   },
   "source": [
    "-----\n",
    "\n",
    "## Evaluate the model"
   ]
  },
  {
   "cell_type": "markdown",
   "id": "6b0423d5-d26b-4a02-84a9-b4577b81cf82",
   "metadata": {
    "pycharm": {
     "name": "#%% md\n"
    }
   },
   "source": [
    "### Test set"
   ]
  },
  {
   "cell_type": "code",
   "execution_count": 19,
   "id": "7572abf6-6c8d-429b-b18b-9eafbbe2b5b1",
   "metadata": {
    "pycharm": {
     "name": "#%%\n"
    }
   },
   "outputs": [
    {
     "name": "stdout",
     "output_type": "stream",
     "text": [
      "100.0\n"
     ]
    }
   ],
   "source": [
    "test_acc = check_accuracy(model, test_loader, preprocess_test, config, repeat=50)\n",
    "print(test_acc)"
   ]
  },
  {
   "cell_type": "markdown",
   "id": "9d1d240c-1264-478a-88c3-5481ac520cd1",
   "metadata": {
    "pycharm": {
     "name": "#%% md\n"
    }
   },
   "source": [
    "### Test set (with test-time augmentation)"
   ]
  },
  {
   "cell_type": "code",
   "execution_count": 20,
   "id": "643e8af7-e6cb-4b25-89b0-c115296be5e9",
   "metadata": {
    "pycharm": {
     "name": "#%%\n"
    }
   },
   "outputs": [
    {
     "name": "stdout",
     "output_type": "stream",
     "text": [
      "100.0\n"
     ]
    }
   ],
   "source": [
    "test_longer_acc = check_accuracy(model, test_loader_longer, preprocess_test, config, repeat=50)\n",
    "print(test_longer_acc)"
   ]
  },
  {
   "cell_type": "code",
   "execution_count": null,
   "id": "4d191a74-1568-47ba-bce2-6991e22b0512",
   "metadata": {
    "pycharm": {
     "name": "#%%\n"
    }
   },
   "outputs": [],
   "source": []
  }
 ],
 "metadata": {
  "kernelspec": {
   "display_name": "Python 3 (ipykernel)",
   "language": "python",
   "name": "python3"
  },
  "language_info": {
   "codemirror_mode": {
    "name": "ipython",
    "version": 3
   },
   "file_extension": ".py",
   "mimetype": "text/x-python",
   "name": "python",
   "nbconvert_exporter": "python",
   "pygments_lexer": "ipython3",
   "version": "3.9.12"
  }
 },
 "nbformat": 4,
 "nbformat_minor": 5
}