{
 "cells": [
  {
   "cell_type": "markdown",
   "id": "d74515d5-5f25-477b-9a97-ed1f9b6d4c51",
   "metadata": {
    "pycharm": {
     "name": "#%% md\n"
    }
   },
   "source": [
    "# Evaluate\n",
    "\n",
    "This notebook evaluates the network trained previous notebooks and analyzes the results."
   ]
  },
  {
   "cell_type": "markdown",
   "id": "b8a2666f-6b4b-4748-9dca-2884347a1f0f",
   "metadata": {
    "pycharm": {
     "name": "#%% md\n"
    }
   },
   "source": [
    "-----\n",
    "\n",
    "## Load Packages"
   ]
  },
  {
   "cell_type": "code",
   "execution_count": 1,
   "id": "df587e38-b1a9-42c8-9b50-680200a9bec7",
   "metadata": {
    "pycharm": {
     "name": "#%%\n"
    }
   },
   "outputs": [
    {
     "name": "stdout",
     "output_type": "stream",
     "text": [
      "C:\\Users\\Minjae\\Desktop\\EEG_Project\n"
     ]
    }
   ],
   "source": [
    "# for auto-reloading external modules\n",
    "# see http://stackoverflow.com/questions/1907993/autoreload-of-modules-in-ipython\n",
    "%cd ..\n",
    "%load_ext autoreload\n",
    "%autoreload 2"
   ]
  },
  {
   "cell_type": "code",
   "execution_count": 2,
   "id": "8fb41bf8-1713-4228-b799-0e1c87545a16",
   "metadata": {
    "pycharm": {
     "name": "#%%\n"
    }
   },
   "outputs": [],
   "source": [
    "# Load some packages\n",
    "import os\n",
    "from copy import deepcopy\n",
    "import hydra\n",
    "from omegaconf import OmegaConf\n",
    "from collections import OrderedDict\n",
    "\n",
    "import numpy as np\n",
    "from sklearn.metrics import classification_report\n",
    "import torch\n",
    "import torch.nn as nn\n",
    "import torch.nn.functional as F\n",
    "import torch.optim as optim\n",
    "\n",
    "import pprint\n",
    "import matplotlib\n",
    "import matplotlib.pyplot as plt\n",
    "\n",
    "# custom package\n",
    "from datasets.caueeg_script import build_dataset_for_train\n",
    "import models\n",
    "from train.evaluate import check_accuracy\n",
    "from train.evaluate import check_accuracy_extended\n",
    "from train.evaluate import check_accuracy_extended_debug\n",
    "from train.evaluate import check_accuracy_multicrop\n",
    "from train.evaluate import check_accuracy_multicrop_extended\n",
    "from train.visualize import draw_roc_curve\n",
    "from train.visualize import draw_confusion\n",
    "from train.visualize import draw_class_wise_metrics\n",
    "from train.visualize import draw_error_table\n",
    "from train.visualize import annotate_heatmap"
   ]
  },
  {
   "cell_type": "code",
   "execution_count": 3,
   "id": "d10e3f39-ed55-422c-b47f-376691cbeed6",
   "metadata": {
    "pycharm": {
     "name": "#%%\n"
    }
   },
   "outputs": [
    {
     "name": "stdout",
     "output_type": "stream",
     "text": [
      "PyTorch version: 1.11.0+cu113\n",
      "cuda is available.\n"
     ]
    }
   ],
   "source": [
    "print('PyTorch version:', torch.__version__)\n",
    "device = torch.device('cuda' if torch.cuda.is_available() else 'cpu')\n",
    "\n",
    "if torch.cuda.is_available(): print('cuda is available.')\n",
    "else: print('cuda is unavailable.') "
   ]
  },
  {
   "cell_type": "markdown",
   "id": "d2a62fa4-aa53-49d5-8ab4-2e2aaf7b65d1",
   "metadata": {
    "pycharm": {
     "name": "#%% md\n"
    },
    "tags": []
   },
   "source": [
    "-----\n",
    "\n",
    "## Load the configuration used during the train phase"
   ]
  },
  {
   "cell_type": "code",
   "execution_count": 4,
   "id": "bee4f853-3cad-4b01-8ee8-44ac9e49adbe",
   "metadata": {
    "pycharm": {
     "name": "#%%\n"
    }
   },
   "outputs": [
    {
     "name": "stdout",
     "output_type": "stream",
     "text": [
      "dict_keys(['model_state', 'config', 'optimizer_state', 'scheduler_state'])\n"
     ]
    }
   ],
   "source": [
    "model_name = 'lo88puq7'\n",
    "model_path = os.path.join(r'E:\\CAUEEG\\checkpoint', model_name, 'checkpoint.pt')\n",
    "\n",
    "ckpt = torch.load(model_path, map_location=device)\n",
    "print(ckpt.keys())"
   ]
  },
  {
   "cell_type": "code",
   "execution_count": 5,
   "id": "ab204c6e-25bc-4bb2-b83d-ffbab6dfd4d6",
   "metadata": {
    "pycharm": {
     "name": "#%%\n"
    }
   },
   "outputs": [],
   "source": [
    "model_state = ckpt['model_state']\n",
    "config = ckpt['config']\n",
    "optimizer = ckpt['optimizer_state']\n",
    "scheduler = ckpt['scheduler_state']"
   ]
  },
  {
   "cell_type": "code",
   "execution_count": 6,
   "id": "d6a582ce-495b-4f2e-9376-6d5591019f46",
   "metadata": {
    "pycharm": {
     "name": "#%%\n"
    }
   },
   "outputs": [
    {
     "name": "stdout",
     "output_type": "stream",
     "text": [
      "{'EKG': 'O',\n",
      " '_target_': 'models.vgg_2d.VGG2D',\n",
      " 'activation': 'gelu',\n",
      " 'age_mean': tensor([71.2425], device='cuda:0'),\n",
      " 'age_std': tensor([9.5208], device='cuda:0'),\n",
      " 'awgn': 0.0479404157791391,\n",
      " 'awgn_age': 0.031086177931273194,\n",
      " 'base_lr': 8.479608095398431e-05,\n",
      " 'batch_norm': True,\n",
      " 'class_label_to_name': ['Normal', 'MCI', 'Dementia'],\n",
      " 'class_name_to_label': {'Dementia': 2, 'MCI': 1, 'Normal': 0},\n",
      " 'criterion': 'multi-bce',\n",
      " 'crop_multiple': 4,\n",
      " 'crop_timing_analysis': False,\n",
      " 'cwd': '/home/minjae/Desktop/eeg_analysis',\n",
      " 'dataset_name': 'CAUEEG dataset',\n",
      " 'dataset_path': 'local/dataset/02_Curated_Data_220419/',\n",
      " 'ddp': False,\n",
      " 'device': device(type='cuda'),\n",
      " 'draw_result': True,\n",
      " 'dropout': 0.20149124331753415,\n",
      " 'fc_stages': 2,\n",
      " 'file_format': 'memmap',\n",
      " 'in_channels': 40,\n",
      " 'input_norm': 'dataset',\n",
      " 'iterations': 781250,\n",
      " 'latency': 2000,\n",
      " 'load_event': False,\n",
      " 'lr_scheduler_type': 'constant_with_decay',\n",
      " 'mgn': 0.003676528367854981,\n",
      " 'minibatch': 128,\n",
      " 'mixup': 0.3,\n",
      " 'model': '2D-VGG-19',\n",
      " 'multi_batch_size': 16,\n",
      " 'num_history': 500,\n",
      " 'num_params': 20184131,\n",
      " 'out_dims': 3,\n",
      " 'output_length': 5,\n",
      " 'photic': 'X',\n",
      " 'preprocess_test': Sequential(\n",
      "  (0): EegToDevice(device=cuda)\n",
      "  (1): EegNormalizeAge(mean=tensor([71.2425], device='cuda:0'),std=tensor([9.5208], device='cuda:0'),eps=1e-08)\n",
      "  (2): EegNormalizeMeanStd(mean=tensor([ 0.0794, -0.0131, -0.0121, -0.0244,  0.0004,  0.0295,  0.0506,  0.0152,\n",
      "          -0.0003,  0.0337, -0.0050, -0.0096, -0.0336,  0.0111,  0.0077,  0.0076,\n",
      "           0.0110,  0.0071, -0.0213,  0.0056], device='cuda:0'),std=tensor([49.7625, 21.7403, 12.5883, 12.5998, 17.0438, 53.6425, 21.1902, 11.1606,\n",
      "          12.5307, 16.9399, 21.8603, 15.2040, 14.7430, 23.0870, 18.4153, 15.7697,\n",
      "          20.6772, 12.2012, 12.5872, 94.9068], device='cuda:0'),eps=1e-08)\n",
      "  (3): EegSpectrogram(n_fft=179, complex_mode=as_real, stft_kwargs={'hop_length': 45})\n",
      "  (4): EegNormalizeMeanStd(mean=tensor([[ 8.8867e-02, -5.7190e-03, -1.6277e-03,  ...,  2.6429e-04,\n",
      "           -6.7322e-04, -3.5536e-04],\n",
      "          [ 1.6543e-01, -4.2610e-03, -1.3435e-03,  ...,  1.1995e-04,\n",
      "           -7.5047e-04, -5.0288e-04],\n",
      "          [ 3.1017e-01, -5.0789e-03,  5.7958e-04,  ..., -1.4441e-03,\n",
      "           -3.9227e-04, -6.9917e-04],\n",
      "          ...,\n",
      "          [ 0.0000e+00,  3.6909e-02,  1.9252e-02,  ...,  9.5797e-05,\n",
      "           -3.3087e-06, -6.3128e-05],\n",
      "          [ 0.0000e+00,  2.7598e-02,  1.4468e-02,  ..., -5.3788e-05,\n",
      "            1.3961e-04,  5.5767e-05],\n",
      "          [ 0.0000e+00, -2.4867e-03, -7.6243e-03,  ...,  6.0732e-04,\n",
      "           -2.7412e-04, -5.0179e-05]], device='cuda:0'),std=tensor([[145.3382,  26.7999,  13.3822,  ...,   0.7959,   0.7957,   0.7995],\n",
      "          [143.4889,  23.3764,  11.8724,  ...,   0.7910,   0.7902,   0.7958],\n",
      "          [139.0950,  20.1886,  10.9955,  ...,   0.8211,   0.8198,   0.8245],\n",
      "          ...,\n",
      "          [  0.0000,  34.1715,  18.9551,  ...,   0.5108,   0.5090,   0.5146],\n",
      "          [  0.0000,  35.6781,  19.4519,  ...,   0.5075,   0.5058,   0.5110],\n",
      "          [  0.0000,  22.4555,  21.9978,  ...,   0.4598,   0.4571,   0.4618]],\n",
      "         device='cuda:0'),eps=1e-08)\n",
      "),\n",
      " 'preprocess_train': Sequential(\n",
      "  (0): EegToDevice(device=cuda)\n",
      "  (1): EegNormalizeAge(mean=tensor([71.2425], device='cuda:0'),std=tensor([9.5208], device='cuda:0'),eps=1e-08)\n",
      "  (2): EegAddGaussianNoiseAge(mean=0.0,std=0.031086177931273194)\n",
      "  (3): EegNormalizeMeanStd(mean=tensor([ 0.0794, -0.0131, -0.0121, -0.0244,  0.0004,  0.0295,  0.0506,  0.0152,\n",
      "          -0.0003,  0.0337, -0.0050, -0.0096, -0.0336,  0.0111,  0.0077,  0.0076,\n",
      "           0.0110,  0.0071, -0.0213,  0.0056], device='cuda:0'),std=tensor([49.7625, 21.7403, 12.5883, 12.5998, 17.0438, 53.6425, 21.1902, 11.1606,\n",
      "          12.5307, 16.9399, 21.8603, 15.2040, 14.7430, 23.0870, 18.4153, 15.7697,\n",
      "          20.6772, 12.2012, 12.5872, 94.9068], device='cuda:0'),eps=1e-08)\n",
      "  (4): EegMultiplicativeGaussianNoise(mean=0.0,std=0.003676528367854981)\n",
      "  (5): EegAdditiveGaussianNoise(mean=0.0,std=0.0479404157791391)\n",
      "  (6): EegSpectrogram(n_fft=179, complex_mode=as_real, stft_kwargs={'hop_length': 45})\n",
      "  (7): EegNormalizeMeanStd(mean=tensor([[ 8.8867e-02, -5.7190e-03, -1.6277e-03,  ...,  2.6429e-04,\n",
      "           -6.7322e-04, -3.5536e-04],\n",
      "          [ 1.6543e-01, -4.2610e-03, -1.3435e-03,  ...,  1.1995e-04,\n",
      "           -7.5047e-04, -5.0288e-04],\n",
      "          [ 3.1017e-01, -5.0789e-03,  5.7958e-04,  ..., -1.4441e-03,\n",
      "           -3.9227e-04, -6.9917e-04],\n",
      "          ...,\n",
      "          [ 0.0000e+00,  3.6909e-02,  1.9252e-02,  ...,  9.5797e-05,\n",
      "           -3.3087e-06, -6.3128e-05],\n",
      "          [ 0.0000e+00,  2.7598e-02,  1.4468e-02,  ..., -5.3788e-05,\n",
      "            1.3961e-04,  5.5767e-05],\n",
      "          [ 0.0000e+00, -2.4867e-03, -7.6243e-03,  ...,  6.0732e-04,\n",
      "           -2.7412e-04, -5.0179e-05]], device='cuda:0'),std=tensor([[145.3382,  26.7999,  13.3822,  ...,   0.7959,   0.7957,   0.7995],\n",
      "          [143.4889,  23.3764,  11.8724,  ...,   0.7910,   0.7902,   0.7958],\n",
      "          [139.0950,  20.1886,  10.9955,  ...,   0.8211,   0.8198,   0.8245],\n",
      "          ...,\n",
      "          [  0.0000,  34.1715,  18.9551,  ...,   0.5108,   0.5090,   0.5146],\n",
      "          [  0.0000,  35.6781,  19.4519,  ...,   0.5075,   0.5058,   0.5110],\n",
      "          [  0.0000,  22.4555,  21.9978,  ...,   0.4598,   0.4571,   0.4618]],\n",
      "         device='cuda:0'),eps=1e-08)\n",
      "),\n",
      " 'run_mode': 'train',\n",
      " 'save_model': True,\n",
      " 'search_lr': True,\n",
      " 'search_multiplier': 1.0,\n",
      " 'seed': 0,\n",
      " 'seq_len_2d': (90, 89),\n",
      " 'seq_length': 4000,\n",
      " 'signal_2d_mean': tensor([[[[ 8.8867e-02],\n",
      "          [-5.7190e-03],\n",
      "          [-1.6277e-03],\n",
      "          ...,\n",
      "          [ 2.6429e-04],\n",
      "          [-6.7322e-04],\n",
      "          [-3.5536e-04]],\n",
      "\n",
      "         [[ 1.6543e-01],\n",
      "          [-4.2610e-03],\n",
      "          [-1.3435e-03],\n",
      "          ...,\n",
      "          [ 1.1995e-04],\n",
      "          [-7.5047e-04],\n",
      "          [-5.0288e-04]],\n",
      "\n",
      "         [[ 3.1017e-01],\n",
      "          [-5.0789e-03],\n",
      "          [ 5.7958e-04],\n",
      "          ...,\n",
      "          [-1.4441e-03],\n",
      "          [-3.9227e-04],\n",
      "          [-6.9917e-04]],\n",
      "\n",
      "         ...,\n",
      "\n",
      "         [[ 0.0000e+00],\n",
      "          [ 3.6909e-02],\n",
      "          [ 1.9252e-02],\n",
      "          ...,\n",
      "          [ 9.5797e-05],\n",
      "          [-3.3087e-06],\n",
      "          [-6.3128e-05]],\n",
      "\n",
      "         [[ 0.0000e+00],\n",
      "          [ 2.7598e-02],\n",
      "          [ 1.4468e-02],\n",
      "          ...,\n",
      "          [-5.3788e-05],\n",
      "          [ 1.3961e-04],\n",
      "          [ 5.5767e-05]],\n",
      "\n",
      "         [[ 0.0000e+00],\n",
      "          [-2.4867e-03],\n",
      "          [-7.6243e-03],\n",
      "          ...,\n",
      "          [ 6.0732e-04],\n",
      "          [-2.7412e-04],\n",
      "          [-5.0179e-05]]]], device='cuda:0'),\n",
      " 'signal_2d_std': tensor([[[[145.3382],\n",
      "          [ 26.7999],\n",
      "          [ 13.3822],\n",
      "          ...,\n",
      "          [  0.7959],\n",
      "          [  0.7957],\n",
      "          [  0.7995]],\n",
      "\n",
      "         [[143.4889],\n",
      "          [ 23.3764],\n",
      "          [ 11.8724],\n",
      "          ...,\n",
      "          [  0.7910],\n",
      "          [  0.7902],\n",
      "          [  0.7958]],\n",
      "\n",
      "         [[139.0950],\n",
      "          [ 20.1886],\n",
      "          [ 10.9955],\n",
      "          ...,\n",
      "          [  0.8211],\n",
      "          [  0.8198],\n",
      "          [  0.8245]],\n",
      "\n",
      "         ...,\n",
      "\n",
      "         [[  0.0000],\n",
      "          [ 34.1715],\n",
      "          [ 18.9551],\n",
      "          ...,\n",
      "          [  0.5108],\n",
      "          [  0.5090],\n",
      "          [  0.5146]],\n",
      "\n",
      "         [[  0.0000],\n",
      "          [ 35.6781],\n",
      "          [ 19.4519],\n",
      "          ...,\n",
      "          [  0.5075],\n",
      "          [  0.5058],\n",
      "          [  0.5110]],\n",
      "\n",
      "         [[  0.0000],\n",
      "          [ 22.4555],\n",
      "          [ 21.9978],\n",
      "          ...,\n",
      "          [  0.4598],\n",
      "          [  0.4571],\n",
      "          [  0.4618]]]], device='cuda:0'),\n",
      " 'signal_header': ['Fp1-AVG', 'F3-AVG', 'C3-AVG', 'P3-AVG', 'O1-AVG', 'Fp2-AVG', 'F4-AVG', 'C4-AVG', 'P4-AVG', 'O2-AVG', 'F7-AVG', 'T3-AVG', 'T5-AVG', 'F8-AVG', 'T4-AVG', 'T6-AVG', 'FZ-AVG', 'CZ-AVG', 'PZ-AVG', 'EKG', 'Photic'],\n",
      " 'signal_length_limit': 10000000,\n",
      " 'signal_mean': tensor([[[ 0.0794],\n",
      "         [-0.0131],\n",
      "         [-0.0121],\n",
      "         [-0.0244],\n",
      "         [ 0.0004],\n",
      "         [ 0.0295],\n",
      "         [ 0.0506],\n",
      "         [ 0.0152],\n",
      "         [-0.0003],\n",
      "         [ 0.0337],\n",
      "         [-0.0050],\n",
      "         [-0.0096],\n",
      "         [-0.0336],\n",
      "         [ 0.0111],\n",
      "         [ 0.0077],\n",
      "         [ 0.0076],\n",
      "         [ 0.0110],\n",
      "         [ 0.0071],\n",
      "         [-0.0213],\n",
      "         [ 0.0056]]], device='cuda:0'),\n",
      " 'signal_std': tensor([[[49.7625],\n",
      "         [21.7403],\n",
      "         [12.5883],\n",
      "         [12.5998],\n",
      "         [17.0438],\n",
      "         [53.6425],\n",
      "         [21.1902],\n",
      "         [11.1606],\n",
      "         [12.5307],\n",
      "         [16.9399],\n",
      "         [21.8603],\n",
      "         [15.2040],\n",
      "         [14.7430],\n",
      "         [23.0870],\n",
      "         [18.4153],\n",
      "         [15.7697],\n",
      "         [20.6772],\n",
      "         [12.2012],\n",
      "         [12.5872],\n",
      "         [94.9068]]], device='cuda:0'),\n",
      " 'stft_params': {'hop_length': 45, 'n_fft': 179},\n",
      " 'task': 'task2',\n",
      " 'task_description': 'Classification of [Normal], [MCI], and [Dementia] symptoms.',\n",
      " 'task_name': 'CAUEEG-task2 benchmark',\n",
      " 'test_crop_multiple': 8,\n",
      " 'total_samples': 100000000.0,\n",
      " 'transform': Compose(\n",
      "    EegRandomCrop(crop_length=4000, length_limit=10000000, multiple=4, latency=2000, return_timing=False)\n",
      "    EegDropChannels(drop_index=[20])\n",
      "    EegToTensor()\n",
      "),\n",
      " 'transform_multicrop': Compose(\n",
      "    EegRandomCrop(crop_length=4000, length_limit=10000000, multiple=8, latency=2000, return_timing=False)\n",
      "    EegDropChannels(drop_index=[20])\n",
      "    EegToTensor()\n",
      "),\n",
      " 'use_age': 'conv',\n",
      " 'use_wandb': True,\n",
      " 'warmup_min': 3000,\n",
      " 'warmup_ratio': 0.05,\n",
      " 'warmup_steps': 39062,\n",
      " 'watch_model': False,\n",
      " 'weight_decay': 0.012528558998673434}\n"
     ]
    }
   ],
   "source": [
    "pprint.pprint(config, width=250)"
   ]
  },
  {
   "cell_type": "markdown",
   "id": "0c85edd9-772b-4525-8acc-095850716b4e",
   "metadata": {
    "pycharm": {
     "name": "#%% md\n"
    }
   },
   "source": [
    "-----\n",
    "\n",
    "## Load the target model"
   ]
  },
  {
   "cell_type": "code",
   "execution_count": 7,
   "id": "d88946aa-6d3c-4b14-869e-b558783b8148",
   "metadata": {
    "pycharm": {
     "name": "#%%\n"
    }
   },
   "outputs": [
    {
     "data": {
      "text/plain": [
       "<All keys matched successfully>"
      ]
     },
     "execution_count": 7,
     "metadata": {},
     "output_type": "execute_result"
    }
   ],
   "source": [
    "# model = config['generator'](**config).to(device)\n",
    "model = hydra.utils.instantiate(config).to(device)\n",
    "\n",
    "if config.get('ddp', False):\n",
    "    model_state_ddp = deepcopy(model_state)\n",
    "    model_state = OrderedDict()\n",
    "    for k, v in model_state_ddp.items():\n",
    "        name = k[7:] # remove 'module.' of DataParallel/DistributedDataParallel\n",
    "        model_state[name] = v\n",
    "        \n",
    "model.load_state_dict(model_state)"
   ]
  },
  {
   "cell_type": "markdown",
   "id": "a751ab89-fe12-4e98-94e1-9a616ba08670",
   "metadata": {
    "pycharm": {
     "name": "#%% md\n"
    }
   },
   "source": [
    "-----\n",
    "\n",
    "## Evaluate the model and analyze the performance by the crop timing"
   ]
  },
  {
   "cell_type": "markdown",
   "id": "a76b02db-da4e-4e65-830b-ba4214ff1bd7",
   "metadata": {
    "pycharm": {
     "name": "#%% md\n"
    }
   },
   "source": [
    "### Configurations"
   ]
  },
  {
   "cell_type": "code",
   "execution_count": 8,
   "id": "89fa65ab-c9ce-4182-97c7-1adb2ca651d3",
   "metadata": {
    "pycharm": {
     "name": "#%%\n"
    }
   },
   "outputs": [
    {
     "name": "stdout",
     "output_type": "stream",
     "text": [
      "4\n"
     ]
    }
   ],
   "source": [
    "config = ckpt['config']\n",
    "\n",
    "config.pop('cwd', 0)\n",
    "config['ddp'] = False\n",
    "config['crop_timing_analysis'] = True\n",
    "config['eval'] = True\n",
    "config['device'] = device\n",
    "\n",
    "# config['seq_length'] = 16000 # TODO\n",
    "# config['test_crop_multiple'] = 32 # TODO\n",
    "config['crop_multiple'] = 128 # TODO\n",
    "config['mgn'] = 0\n",
    "config['awgn'] = 0\n",
    "\n",
    "repeat = round(512 / config['crop_multiple'])\n",
    "print(repeat)"
   ]
  },
  {
   "cell_type": "markdown",
   "id": "61bc5f3a-1321-406c-ad0f-d8cb6f587bd1",
   "metadata": {
    "pycharm": {
     "name": "#%% md\n"
    }
   },
   "source": [
    "### Build Dataset"
   ]
  },
  {
   "cell_type": "code",
   "execution_count": 9,
   "id": "316ce735-4ffd-49a6-a9d1-51584df94390",
   "metadata": {
    "pycharm": {
     "name": "#%%\n"
    }
   },
   "outputs": [
    {
     "name": "stdout",
     "output_type": "stream",
     "text": [
      "transform: Compose(\n",
      "    EegRandomCrop(crop_length=4000, length_limit=10000000, multiple=128, latency=2000, return_timing=True)\n",
      "    EegDropChannels(drop_index=[20])\n",
      "    EegToTensor()\n",
      ")\n",
      "\n",
      "----------------------------------------------------------------------------------------------------\n",
      "\n",
      "transform_multicrop: Compose(\n",
      "    EegRandomCrop(crop_length=4000, length_limit=10000000, multiple=8, latency=2000, return_timing=True)\n",
      "    EegDropChannels(drop_index=[20])\n",
      "    EegToTensor()\n",
      ")\n",
      "\n",
      "----------------------------------------------------------------------------------------------------\n",
      "\n",
      "\n",
      "task config:\n",
      "{'class_label_to_name': ['Normal', 'MCI', 'Dementia'],\n",
      " 'class_name_to_label': {'Dementia': 2, 'MCI': 1, 'Normal': 0},\n",
      " 'task_description': 'Classification of [Normal], [MCI], and [Dementia] '\n",
      "                     'symptoms.',\n",
      " 'task_name': 'CAUEEG-Dementia benchmark'}\n",
      "\n",
      " ---------------------------------------------------------------------------------------------------- \n",
      "\n",
      "train_dataset[0].keys():\n",
      "dict_keys(['serial', 'age', 'symptom', 'class_name', 'class_label', 'signal', 'crop_timing'])\n",
      "train signal shape: torch.Size([20, 4000])\n",
      "\n",
      "\n",
      "----------------------------------------------------------------------------------------------------\n",
      "\n",
      "val_dataset[0].keys():\n",
      "dict_keys(['serial', 'age', 'symptom', 'class_name', 'class_label', 'signal', 'crop_timing'])\n",
      "\n",
      "----------------------------------------------------------------------------------------------------\n",
      "\n",
      "test_dataset[0].keys():\n",
      "dict_keys(['serial', 'age', 'symptom', 'class_name', 'class_label', 'signal', 'crop_timing'])\n",
      "\n",
      "----------------------------------------------------------------------------------------------------\n",
      "\n",
      "test_dataset[0].keys():\n",
      "dict_keys(['serial', 'age', 'symptom', 'class_name', 'class_label', 'signal', 'crop_timing'])\n",
      "test signal shape: torch.Size([20, 4000])\n",
      "\n",
      "----------------------------------------------------------------------------------------------------\n",
      "\n",
      "preprocess_train: Sequential(\n",
      "  (0): EegToDevice(device=cuda)\n",
      "  (1): EegNormalizeAge(mean=tensor([71.2425], device='cuda:0'),std=tensor([9.5208], device='cuda:0'),eps=1e-08)\n",
      "  (2): EegAddGaussianNoiseAge(mean=0.0,std=0.031086177931273194)\n",
      "  (3): EegNormalizeMeanStd(mean=tensor([ 0.0794, -0.0131, -0.0121, -0.0244,  0.0004,  0.0295,  0.0506,  0.0152,\n",
      "          -0.0003,  0.0337, -0.0050, -0.0096, -0.0336,  0.0111,  0.0077,  0.0076,\n",
      "           0.0110,  0.0071, -0.0213,  0.0056], device='cuda:0'),std=tensor([49.7625, 21.7403, 12.5883, 12.5998, 17.0438, 53.6425, 21.1902, 11.1606,\n",
      "          12.5307, 16.9399, 21.8603, 15.2040, 14.7430, 23.0870, 18.4153, 15.7697,\n",
      "          20.6772, 12.2012, 12.5872, 94.9068], device='cuda:0'),eps=1e-08)\n",
      "  (4): EegSpectrogram(n_fft=179, complex_mode=as_real, stft_kwargs={'hop_length': 45})\n",
      "  (5): EegNormalizeMeanStd(mean=tensor([[ 8.8867e-02, -5.7190e-03, -1.6277e-03,  ...,  2.6429e-04,\n",
      "           -6.7322e-04, -3.5536e-04],\n",
      "          [ 1.6543e-01, -4.2610e-03, -1.3435e-03,  ...,  1.1995e-04,\n",
      "           -7.5047e-04, -5.0288e-04],\n",
      "          [ 3.1017e-01, -5.0789e-03,  5.7958e-04,  ..., -1.4441e-03,\n",
      "           -3.9227e-04, -6.9917e-04],\n",
      "          ...,\n",
      "          [ 0.0000e+00,  3.6909e-02,  1.9252e-02,  ...,  9.5797e-05,\n",
      "           -3.3087e-06, -6.3128e-05],\n",
      "          [ 0.0000e+00,  2.7598e-02,  1.4468e-02,  ..., -5.3788e-05,\n",
      "            1.3961e-04,  5.5767e-05],\n",
      "          [ 0.0000e+00, -2.4867e-03, -7.6243e-03,  ...,  6.0732e-04,\n",
      "           -2.7412e-04, -5.0179e-05]], device='cuda:0'),std=tensor([[145.3382,  26.7999,  13.3822,  ...,   0.7959,   0.7957,   0.7995],\n",
      "          [143.4889,  23.3764,  11.8724,  ...,   0.7910,   0.7902,   0.7958],\n",
      "          [139.0950,  20.1886,  10.9955,  ...,   0.8211,   0.8198,   0.8245],\n",
      "          ...,\n",
      "          [  0.0000,  34.1715,  18.9551,  ...,   0.5108,   0.5090,   0.5146],\n",
      "          [  0.0000,  35.6781,  19.4519,  ...,   0.5075,   0.5058,   0.5110],\n",
      "          [  0.0000,  22.4555,  21.9978,  ...,   0.4598,   0.4571,   0.4618]],\n",
      "         device='cuda:0'),eps=1e-08)\n",
      ")\n",
      "\n",
      "----------------------------------------------------------------------------------------------------\n",
      "\n",
      "preprocess_test: Sequential(\n",
      "  (0): EegToDevice(device=cuda)\n",
      "  (1): EegNormalizeAge(mean=tensor([71.2425], device='cuda:0'),std=tensor([9.5208], device='cuda:0'),eps=1e-08)\n",
      "  (2): EegNormalizeMeanStd(mean=tensor([ 0.0794, -0.0131, -0.0121, -0.0244,  0.0004,  0.0295,  0.0506,  0.0152,\n",
      "          -0.0003,  0.0337, -0.0050, -0.0096, -0.0336,  0.0111,  0.0077,  0.0076,\n",
      "           0.0110,  0.0071, -0.0213,  0.0056], device='cuda:0'),std=tensor([49.7625, 21.7403, 12.5883, 12.5998, 17.0438, 53.6425, 21.1902, 11.1606,\n",
      "          12.5307, 16.9399, 21.8603, 15.2040, 14.7430, 23.0870, 18.4153, 15.7697,\n",
      "          20.6772, 12.2012, 12.5872, 94.9068], device='cuda:0'),eps=1e-08)\n",
      "  (3): EegSpectrogram(n_fft=179, complex_mode=as_real, stft_kwargs={'hop_length': 45})\n",
      "  (4): EegNormalizeMeanStd(mean=tensor([[ 8.8867e-02, -5.7190e-03, -1.6277e-03,  ...,  2.6429e-04,\n",
      "           -6.7322e-04, -3.5536e-04],\n",
      "          [ 1.6543e-01, -4.2610e-03, -1.3435e-03,  ...,  1.1995e-04,\n",
      "           -7.5047e-04, -5.0288e-04],\n",
      "          [ 3.1017e-01, -5.0789e-03,  5.7958e-04,  ..., -1.4441e-03,\n",
      "           -3.9227e-04, -6.9917e-04],\n",
      "          ...,\n",
      "          [ 0.0000e+00,  3.6909e-02,  1.9252e-02,  ...,  9.5797e-05,\n",
      "           -3.3087e-06, -6.3128e-05],\n",
      "          [ 0.0000e+00,  2.7598e-02,  1.4468e-02,  ..., -5.3788e-05,\n",
      "            1.3961e-04,  5.5767e-05],\n",
      "          [ 0.0000e+00, -2.4867e-03, -7.6243e-03,  ...,  6.0732e-04,\n",
      "           -2.7412e-04, -5.0179e-05]], device='cuda:0'),std=tensor([[145.3382,  26.7999,  13.3822,  ...,   0.7959,   0.7957,   0.7995],\n",
      "          [143.4889,  23.3764,  11.8724,  ...,   0.7910,   0.7902,   0.7958],\n",
      "          [139.0950,  20.1886,  10.9955,  ...,   0.8211,   0.8198,   0.8245],\n",
      "          ...,\n",
      "          [  0.0000,  34.1715,  18.9551,  ...,   0.5108,   0.5090,   0.5146],\n",
      "          [  0.0000,  35.6781,  19.4519,  ...,   0.5075,   0.5058,   0.5110],\n",
      "          [  0.0000,  22.4555,  21.9978,  ...,   0.4598,   0.4571,   0.4618]],\n",
      "         device='cuda:0'),eps=1e-08)\n",
      ")\n",
      "\n",
      "----------------------------------------------------------------------------------------------------\n",
      "\n",
      "0 torch.Size([128, 40, 90, 89]) torch.Size([128]) torch.Size([128])\n",
      "1 torch.Size([128, 40, 90, 89]) torch.Size([128]) torch.Size([128])\n",
      "2 torch.Size([128, 40, 90, 89]) torch.Size([128]) torch.Size([128])\n",
      "3 torch.Size([128, 40, 90, 89]) torch.Size([128]) torch.Size([128])\n",
      "4 torch.Size([128, 40, 90, 89]) torch.Size([128]) torch.Size([128])\n",
      "\n",
      "----------------------------------------------------------------------------------------------------\n",
      "\n"
     ]
    }
   ],
   "source": [
    "train_loader, val_loader, test_loader, multicrop_test_loader = build_dataset_for_train(config, verbose=True)"
   ]
  },
  {
   "cell_type": "code",
   "execution_count": 10,
   "id": "26346557-7e73-450b-9cc3-8607dcd26832",
   "metadata": {},
   "outputs": [
    {
     "name": "stdout",
     "output_type": "stream",
     "text": [
      "Sequential(\n",
      "  (0): EegAgeBias(bias=-5.0)\n",
      "  (1): EegToDevice(device=cuda)\n",
      "  (2): EegNormalizeAge(mean=tensor([71.2425], device='cuda:0'),std=tensor([9.5208], device='cuda:0'),eps=1e-08)\n",
      "  (3): EegNormalizeMeanStd(mean=tensor([ 0.0794, -0.0131, -0.0121, -0.0244,  0.0004,  0.0295,  0.0506,  0.0152,\n",
      "          -0.0003,  0.0337, -0.0050, -0.0096, -0.0336,  0.0111,  0.0077,  0.0076,\n",
      "           0.0110,  0.0071, -0.0213,  0.0056], device='cuda:0'),std=tensor([49.7625, 21.7403, 12.5883, 12.5998, 17.0438, 53.6425, 21.1902, 11.1606,\n",
      "          12.5307, 16.9399, 21.8603, 15.2040, 14.7430, 23.0870, 18.4153, 15.7697,\n",
      "          20.6772, 12.2012, 12.5872, 94.9068], device='cuda:0'),eps=1e-08)\n",
      "  (4): EegSpectrogram(n_fft=179, complex_mode=as_real, stft_kwargs={'hop_length': 45})\n",
      "  (5): EegNormalizeMeanStd(mean=tensor([[ 8.8867e-02, -5.7190e-03, -1.6277e-03,  ...,  2.6429e-04,\n",
      "           -6.7322e-04, -3.5536e-04],\n",
      "          [ 1.6543e-01, -4.2610e-03, -1.3435e-03,  ...,  1.1995e-04,\n",
      "           -7.5047e-04, -5.0288e-04],\n",
      "          [ 3.1017e-01, -5.0789e-03,  5.7958e-04,  ..., -1.4441e-03,\n",
      "           -3.9227e-04, -6.9917e-04],\n",
      "          ...,\n",
      "          [ 0.0000e+00,  3.6909e-02,  1.9252e-02,  ...,  9.5797e-05,\n",
      "           -3.3087e-06, -6.3128e-05],\n",
      "          [ 0.0000e+00,  2.7598e-02,  1.4468e-02,  ..., -5.3788e-05,\n",
      "            1.3961e-04,  5.5767e-05],\n",
      "          [ 0.0000e+00, -2.4867e-03, -7.6243e-03,  ...,  6.0732e-04,\n",
      "           -2.7412e-04, -5.0179e-05]], device='cuda:0'),std=tensor([[145.3382,  26.7999,  13.3822,  ...,   0.7959,   0.7957,   0.7995],\n",
      "          [143.4889,  23.3764,  11.8724,  ...,   0.7910,   0.7902,   0.7958],\n",
      "          [139.0950,  20.1886,  10.9955,  ...,   0.8211,   0.8198,   0.8245],\n",
      "          ...,\n",
      "          [  0.0000,  34.1715,  18.9551,  ...,   0.5108,   0.5090,   0.5146],\n",
      "          [  0.0000,  35.6781,  19.4519,  ...,   0.5075,   0.5058,   0.5110],\n",
      "          [  0.0000,  22.4555,  21.9978,  ...,   0.4598,   0.4571,   0.4618]],\n",
      "         device='cuda:0'),eps=1e-08)\n",
      ")\n"
     ]
    }
   ],
   "source": [
    "from datasets.pipeline import EegAgeBias\n",
    "preprocess_test_age_bias = torch.nn.Sequential(*[EegAgeBias(-5.0), *config['preprocess_test']])\n",
    "print(preprocess_test_age_bias)"
   ]
  },
  {
   "cell_type": "code",
   "execution_count": 11,
   "id": "55e625b6-0258-454b-91cf-8680035eeece",
   "metadata": {},
   "outputs": [
    {
     "name": "stdout",
     "output_type": "stream",
     "text": [
      "tensor([62., 62., 62., 62., 62., 62., 62., 62., 62., 62., 62., 62., 62., 62.,\n",
      "        62., 62., 62., 62., 62., 62., 62., 62., 62., 62., 62., 62., 62., 62.,\n",
      "        62., 62., 62., 62., 62., 62., 62., 62., 62., 62., 62., 62., 62., 62.,\n",
      "        62., 62., 62., 62., 62., 62., 62., 62., 62., 62., 62., 62., 62., 62.,\n",
      "        62., 62., 62., 62., 62., 62., 62., 62., 62., 62., 62., 62., 62., 62.,\n",
      "        62., 62., 62., 62., 62., 62., 62., 62., 62., 62., 62., 62., 62., 62.,\n",
      "        62., 62., 62., 62., 62., 62., 62., 62., 62., 62., 62., 62., 62., 62.,\n",
      "        62., 62., 62., 62., 62., 62., 62., 62., 62., 62., 62., 62., 62., 62.,\n",
      "        62., 62., 62., 62., 62., 62., 62., 62., 62., 62., 62., 62., 62., 62.,\n",
      "        62., 62.])\n",
      "tensor([-1.4959, -1.4959, -1.4959, -1.4959, -1.4959, -1.4959, -1.4959, -1.4959,\n",
      "        -1.4959, -1.4959, -1.4959, -1.4959, -1.4959, -1.4959, -1.4959, -1.4959,\n",
      "        -1.4959, -1.4959, -1.4959, -1.4959, -1.4959, -1.4959, -1.4959, -1.4959,\n",
      "        -1.4959, -1.4959, -1.4959, -1.4959, -1.4959, -1.4959, -1.4959, -1.4959,\n",
      "        -1.4959, -1.4959, -1.4959, -1.4959, -1.4959, -1.4959, -1.4959, -1.4959,\n",
      "        -1.4959, -1.4959, -1.4959, -1.4959, -1.4959, -1.4959, -1.4959, -1.4959,\n",
      "        -1.4959, -1.4959, -1.4959, -1.4959, -1.4959, -1.4959, -1.4959, -1.4959,\n",
      "        -1.4959, -1.4959, -1.4959, -1.4959, -1.4959, -1.4959, -1.4959, -1.4959,\n",
      "        -1.4959, -1.4959, -1.4959, -1.4959, -1.4959, -1.4959, -1.4959, -1.4959,\n",
      "        -1.4959, -1.4959, -1.4959, -1.4959, -1.4959, -1.4959, -1.4959, -1.4959,\n",
      "        -1.4959, -1.4959, -1.4959, -1.4959, -1.4959, -1.4959, -1.4959, -1.4959,\n",
      "        -1.4959, -1.4959, -1.4959, -1.4959, -1.4959, -1.4959, -1.4959, -1.4959,\n",
      "        -1.4959, -1.4959, -1.4959, -1.4959, -1.4959, -1.4959, -1.4959, -1.4959,\n",
      "        -1.4959, -1.4959, -1.4959, -1.4959, -1.4959, -1.4959, -1.4959, -1.4959,\n",
      "        -1.4959, -1.4959, -1.4959, -1.4959, -1.4959, -1.4959, -1.4959, -1.4959,\n",
      "        -1.4959, -1.4959, -1.4959, -1.4959, -1.4959, -1.4959, -1.4959, -1.4959],\n",
      "       device='cuda:0')\n",
      "-----\n",
      "tensor([62., 62., 62., 62., 62., 62., 62., 62., 62., 62., 62., 62., 62., 62.,\n",
      "        62., 62., 62., 62., 62., 62., 62., 62., 62., 62., 62., 62., 62., 62.,\n",
      "        62., 62., 62., 62., 62., 62., 62., 62., 62., 62., 62., 62., 62., 62.,\n",
      "        62., 62., 62., 62., 62., 62., 62., 62., 62., 62., 62., 62., 62., 62.,\n",
      "        62., 62., 62., 62., 62., 62., 62., 62., 62., 62., 62., 62., 62., 62.,\n",
      "        62., 62., 62., 62., 62., 62., 62., 62., 62., 62., 62., 62., 62., 62.,\n",
      "        62., 62., 62., 62., 62., 62., 62., 62., 62., 62., 62., 62., 62., 62.,\n",
      "        62., 62., 62., 62., 62., 62., 62., 62., 62., 62., 62., 62., 62., 62.,\n",
      "        62., 62., 62., 62., 62., 62., 62., 62., 62., 62., 62., 62., 62., 62.,\n",
      "        62., 62.])\n",
      "tensor([-0.9708, -0.9708, -0.9708, -0.9708, -0.9708, -0.9708, -0.9708, -0.9708,\n",
      "        -0.9708, -0.9708, -0.9708, -0.9708, -0.9708, -0.9708, -0.9708, -0.9708,\n",
      "        -0.9708, -0.9708, -0.9708, -0.9708, -0.9708, -0.9708, -0.9708, -0.9708,\n",
      "        -0.9708, -0.9708, -0.9708, -0.9708, -0.9708, -0.9708, -0.9708, -0.9708,\n",
      "        -0.9708, -0.9708, -0.9708, -0.9708, -0.9708, -0.9708, -0.9708, -0.9708,\n",
      "        -0.9708, -0.9708, -0.9708, -0.9708, -0.9708, -0.9708, -0.9708, -0.9708,\n",
      "        -0.9708, -0.9708, -0.9708, -0.9708, -0.9708, -0.9708, -0.9708, -0.9708,\n",
      "        -0.9708, -0.9708, -0.9708, -0.9708, -0.9708, -0.9708, -0.9708, -0.9708,\n",
      "        -0.9708, -0.9708, -0.9708, -0.9708, -0.9708, -0.9708, -0.9708, -0.9708,\n",
      "        -0.9708, -0.9708, -0.9708, -0.9708, -0.9708, -0.9708, -0.9708, -0.9708,\n",
      "        -0.9708, -0.9708, -0.9708, -0.9708, -0.9708, -0.9708, -0.9708, -0.9708,\n",
      "        -0.9708, -0.9708, -0.9708, -0.9708, -0.9708, -0.9708, -0.9708, -0.9708,\n",
      "        -0.9708, -0.9708, -0.9708, -0.9708, -0.9708, -0.9708, -0.9708, -0.9708,\n",
      "        -0.9708, -0.9708, -0.9708, -0.9708, -0.9708, -0.9708, -0.9708, -0.9708,\n",
      "        -0.9708, -0.9708, -0.9708, -0.9708, -0.9708, -0.9708, -0.9708, -0.9708,\n",
      "        -0.9708, -0.9708, -0.9708, -0.9708, -0.9708, -0.9708, -0.9708, -0.9708],\n",
      "       device='cuda:0')\n"
     ]
    }
   ],
   "source": [
    "for sample_batched in test_loader:\n",
    "    print(sample_batched['age'])\n",
    "    preprocess_test_age_bias(sample_batched)\n",
    "    print(sample_batched['age'])\n",
    "    break\n",
    "print('-----')    \n",
    "for sample_batched in test_loader:\n",
    "    print(sample_batched['age'])\n",
    "    config['preprocess_test'](sample_batched)\n",
    "    print(sample_batched['age'])\n",
    "    break"
   ]
  },
  {
   "cell_type": "code",
   "execution_count": 12,
   "id": "29eceb64-7f6f-45c5-afad-b9dfea5e6200",
   "metadata": {},
   "outputs": [
    {
     "name": "stdout",
     "output_type": "stream",
     "text": [
      "Sequential(\n",
      "  (0): EegToDevice(device=cuda)\n",
      "  (1): EegNormalizeAge(mean=tensor([71.2425], device='cuda:0'),std=tensor([9.5208], device='cuda:0'),eps=1e-08)\n",
      "  (2): EegNormalizeMeanStd(mean=tensor([ 0.0794, -0.0131, -0.0121, -0.0244,  0.0004,  0.0295,  0.0506,  0.0152,\n",
      "          -0.0003,  0.0337, -0.0050, -0.0096, -0.0336,  0.0111,  0.0077,  0.0076,\n",
      "           0.0110,  0.0071, -0.0213,  0.0056], device='cuda:0'),std=tensor([49.7625, 21.7403, 12.5883, 12.5998, 17.0438, 53.6425, 21.1902, 11.1606,\n",
      "          12.5307, 16.9399, 21.8603, 15.2040, 14.7430, 23.0870, 18.4153, 15.7697,\n",
      "          20.6772, 12.2012, 12.5872, 94.9068], device='cuda:0'),eps=1e-08)\n",
      "  (3): EegSpectrogram(n_fft=179, complex_mode=as_real, stft_kwargs={'hop_length': 45})\n",
      "  (4): EegNormalizeMeanStd(mean=tensor([[ 8.8867e-02, -5.7190e-03, -1.6277e-03,  ...,  2.6429e-04,\n",
      "           -6.7322e-04, -3.5536e-04],\n",
      "          [ 1.6543e-01, -4.2610e-03, -1.3435e-03,  ...,  1.1995e-04,\n",
      "           -7.5047e-04, -5.0288e-04],\n",
      "          [ 3.1017e-01, -5.0789e-03,  5.7958e-04,  ..., -1.4441e-03,\n",
      "           -3.9227e-04, -6.9917e-04],\n",
      "          ...,\n",
      "          [ 0.0000e+00,  3.6909e-02,  1.9252e-02,  ...,  9.5797e-05,\n",
      "           -3.3087e-06, -6.3128e-05],\n",
      "          [ 0.0000e+00,  2.7598e-02,  1.4468e-02,  ..., -5.3788e-05,\n",
      "            1.3961e-04,  5.5767e-05],\n",
      "          [ 0.0000e+00, -2.4867e-03, -7.6243e-03,  ...,  6.0732e-04,\n",
      "           -2.7412e-04, -5.0179e-05]], device='cuda:0'),std=tensor([[145.3382,  26.7999,  13.3822,  ...,   0.7959,   0.7957,   0.7995],\n",
      "          [143.4889,  23.3764,  11.8724,  ...,   0.7910,   0.7902,   0.7958],\n",
      "          [139.0950,  20.1886,  10.9955,  ...,   0.8211,   0.8198,   0.8245],\n",
      "          ...,\n",
      "          [  0.0000,  34.1715,  18.9551,  ...,   0.5108,   0.5090,   0.5146],\n",
      "          [  0.0000,  35.6781,  19.4519,  ...,   0.5075,   0.5058,   0.5110],\n",
      "          [  0.0000,  22.4555,  21.9978,  ...,   0.4598,   0.4571,   0.4618]],\n",
      "         device='cuda:0'),eps=1e-08)\n",
      "  (5): EegAgeZero(bias=-1.0)\n",
      ")\n"
     ]
    }
   ],
   "source": [
    "from datasets.pipeline import EegAgeZero\n",
    "preprocess_test_age_zero = torch.nn.Sequential(*[*config['preprocess_test'], EegAgeZero(-1.0)])\n",
    "print(preprocess_test_age_zero)"
   ]
  },
  {
   "cell_type": "code",
   "execution_count": 13,
   "id": "1630a864-deeb-4d31-bcf4-57d3d3949f3b",
   "metadata": {},
   "outputs": [
    {
     "name": "stdout",
     "output_type": "stream",
     "text": [
      "tensor([62., 62., 62., 62., 62., 62., 62., 62., 62., 62., 62., 62., 62., 62.,\n",
      "        62., 62., 62., 62., 62., 62., 62., 62., 62., 62., 62., 62., 62., 62.,\n",
      "        62., 62., 62., 62., 62., 62., 62., 62., 62., 62., 62., 62., 62., 62.,\n",
      "        62., 62., 62., 62., 62., 62., 62., 62., 62., 62., 62., 62., 62., 62.,\n",
      "        62., 62., 62., 62., 62., 62., 62., 62., 62., 62., 62., 62., 62., 62.,\n",
      "        62., 62., 62., 62., 62., 62., 62., 62., 62., 62., 62., 62., 62., 62.,\n",
      "        62., 62., 62., 62., 62., 62., 62., 62., 62., 62., 62., 62., 62., 62.,\n",
      "        62., 62., 62., 62., 62., 62., 62., 62., 62., 62., 62., 62., 62., 62.,\n",
      "        62., 62., 62., 62., 62., 62., 62., 62., 62., 62., 62., 62., 62., 62.,\n",
      "        62., 62.])\n",
      "tensor([-1., -1., -1., -1., -1., -1., -1., -1., -1., -1., -1., -1., -1., -1.,\n",
      "        -1., -1., -1., -1., -1., -1., -1., -1., -1., -1., -1., -1., -1., -1.,\n",
      "        -1., -1., -1., -1., -1., -1., -1., -1., -1., -1., -1., -1., -1., -1.,\n",
      "        -1., -1., -1., -1., -1., -1., -1., -1., -1., -1., -1., -1., -1., -1.,\n",
      "        -1., -1., -1., -1., -1., -1., -1., -1., -1., -1., -1., -1., -1., -1.,\n",
      "        -1., -1., -1., -1., -1., -1., -1., -1., -1., -1., -1., -1., -1., -1.,\n",
      "        -1., -1., -1., -1., -1., -1., -1., -1., -1., -1., -1., -1., -1., -1.,\n",
      "        -1., -1., -1., -1., -1., -1., -1., -1., -1., -1., -1., -1., -1., -1.,\n",
      "        -1., -1., -1., -1., -1., -1., -1., -1., -1., -1., -1., -1., -1., -1.,\n",
      "        -1., -1.], device='cuda:0')\n",
      "-----\n",
      "tensor([62., 62., 62., 62., 62., 62., 62., 62., 62., 62., 62., 62., 62., 62.,\n",
      "        62., 62., 62., 62., 62., 62., 62., 62., 62., 62., 62., 62., 62., 62.,\n",
      "        62., 62., 62., 62., 62., 62., 62., 62., 62., 62., 62., 62., 62., 62.,\n",
      "        62., 62., 62., 62., 62., 62., 62., 62., 62., 62., 62., 62., 62., 62.,\n",
      "        62., 62., 62., 62., 62., 62., 62., 62., 62., 62., 62., 62., 62., 62.,\n",
      "        62., 62., 62., 62., 62., 62., 62., 62., 62., 62., 62., 62., 62., 62.,\n",
      "        62., 62., 62., 62., 62., 62., 62., 62., 62., 62., 62., 62., 62., 62.,\n",
      "        62., 62., 62., 62., 62., 62., 62., 62., 62., 62., 62., 62., 62., 62.,\n",
      "        62., 62., 62., 62., 62., 62., 62., 62., 62., 62., 62., 62., 62., 62.,\n",
      "        62., 62.])\n",
      "tensor([-0.9708, -0.9708, -0.9708, -0.9708, -0.9708, -0.9708, -0.9708, -0.9708,\n",
      "        -0.9708, -0.9708, -0.9708, -0.9708, -0.9708, -0.9708, -0.9708, -0.9708,\n",
      "        -0.9708, -0.9708, -0.9708, -0.9708, -0.9708, -0.9708, -0.9708, -0.9708,\n",
      "        -0.9708, -0.9708, -0.9708, -0.9708, -0.9708, -0.9708, -0.9708, -0.9708,\n",
      "        -0.9708, -0.9708, -0.9708, -0.9708, -0.9708, -0.9708, -0.9708, -0.9708,\n",
      "        -0.9708, -0.9708, -0.9708, -0.9708, -0.9708, -0.9708, -0.9708, -0.9708,\n",
      "        -0.9708, -0.9708, -0.9708, -0.9708, -0.9708, -0.9708, -0.9708, -0.9708,\n",
      "        -0.9708, -0.9708, -0.9708, -0.9708, -0.9708, -0.9708, -0.9708, -0.9708,\n",
      "        -0.9708, -0.9708, -0.9708, -0.9708, -0.9708, -0.9708, -0.9708, -0.9708,\n",
      "        -0.9708, -0.9708, -0.9708, -0.9708, -0.9708, -0.9708, -0.9708, -0.9708,\n",
      "        -0.9708, -0.9708, -0.9708, -0.9708, -0.9708, -0.9708, -0.9708, -0.9708,\n",
      "        -0.9708, -0.9708, -0.9708, -0.9708, -0.9708, -0.9708, -0.9708, -0.9708,\n",
      "        -0.9708, -0.9708, -0.9708, -0.9708, -0.9708, -0.9708, -0.9708, -0.9708,\n",
      "        -0.9708, -0.9708, -0.9708, -0.9708, -0.9708, -0.9708, -0.9708, -0.9708,\n",
      "        -0.9708, -0.9708, -0.9708, -0.9708, -0.9708, -0.9708, -0.9708, -0.9708,\n",
      "        -0.9708, -0.9708, -0.9708, -0.9708, -0.9708, -0.9708, -0.9708, -0.9708],\n",
      "       device='cuda:0')\n"
     ]
    }
   ],
   "source": [
    "for sample_batched in test_loader:\n",
    "    print(sample_batched['age'])\n",
    "    preprocess_test_age_zero(sample_batched)\n",
    "    print(sample_batched['age'])\n",
    "    break\n",
    "print('-----')    \n",
    "for sample_batched in test_loader:\n",
    "    print(sample_batched['age'])\n",
    "    config['preprocess_test'](sample_batched)\n",
    "    print(sample_batched['age'])\n",
    "    break"
   ]
  },
  {
   "cell_type": "markdown",
   "id": "ee082c1d-f690-4fbe-86f9-2456b5557dc3",
   "metadata": {},
   "source": [
    "### Val set"
   ]
  },
  {
   "cell_type": "code",
   "execution_count": 14,
   "id": "c0a1d514-ab69-4c8f-9e57-e4331637fdb2",
   "metadata": {},
   "outputs": [
    {
     "name": "stdout",
     "output_type": "stream",
     "text": [
      "64.59755777310924\n"
     ]
    }
   ],
   "source": [
    "_ = check_accuracy_extended_debug(model, val_loader, \n",
    "                                  config['preprocess_test'], config, repeat=repeat)\n",
    "val_acc = _[0]\n",
    "val_score = _[1]\n",
    "val_target = _[2]\n",
    "val_confusion = _[3]\n",
    "val_error_table = _[4]\n",
    "val_crop_timing = _[5]\n",
    "\n",
    "print(val_acc)"
   ]
  },
  {
   "cell_type": "code",
   "execution_count": 15,
   "id": "c3d35697-e975-4261-9194-fecfa8d4120f",
   "metadata": {},
   "outputs": [
    {
     "name": "stdout",
     "output_type": "stream",
     "text": [
      "64.51549369747899\n"
     ]
    }
   ],
   "source": [
    "_ = check_accuracy_extended_debug(model, val_loader, \n",
    "                                  config['preprocess_train'], config, repeat=repeat)\n",
    "val_acc = _[0]\n",
    "val_score = _[1]\n",
    "val_target = _[2]\n",
    "val_confusion = _[3]\n",
    "val_error_table = _[4]\n",
    "val_crop_timing = _[5]\n",
    "\n",
    "print(val_acc)"
   ]
  },
  {
   "cell_type": "code",
   "execution_count": 16,
   "id": "a4c75c28-7feb-4322-8942-a87cbbc1e0a4",
   "metadata": {},
   "outputs": [
    {
     "name": "stdout",
     "output_type": "stream",
     "text": [
      "63.00715598739496\n"
     ]
    }
   ],
   "source": [
    "_ = check_accuracy_extended_debug(model, val_loader, \n",
    "                                  preprocess_test_age_bias, config, repeat=repeat)\n",
    "val_acc = _[0]\n",
    "val_score = _[1]\n",
    "val_target = _[2]\n",
    "val_confusion = _[3]\n",
    "val_error_table = _[4]\n",
    "val_crop_timing = _[5]\n",
    "\n",
    "print(val_acc)"
   ]
  },
  {
   "cell_type": "code",
   "execution_count": 17,
   "id": "a1b1c3a5-e411-49e1-b3cb-aed28633ed5c",
   "metadata": {},
   "outputs": [
    {
     "name": "stdout",
     "output_type": "stream",
     "text": [
      "54.41012342436975\n"
     ]
    }
   ],
   "source": [
    "_ = check_accuracy_extended_debug(model, val_loader, \n",
    "                                  preprocess_test_age_zero, config, repeat=repeat)\n",
    "val_acc = _[0]\n",
    "val_score = _[1]\n",
    "val_target = _[2]\n",
    "val_confusion = _[3]\n",
    "val_error_table = _[4]\n",
    "val_crop_timing = _[5]\n",
    "\n",
    "print(val_acc)"
   ]
  },
  {
   "cell_type": "markdown",
   "id": "6b0423d5-d26b-4a02-84a9-b4577b81cf82",
   "metadata": {
    "pycharm": {
     "name": "#%% md\n"
    }
   },
   "source": [
    "### Test set"
   ]
  },
  {
   "cell_type": "code",
   "execution_count": 18,
   "id": "7572abf6-6c8d-429b-b18b-9eafbbe2b5b1",
   "metadata": {
    "pycharm": {
     "name": "#%%\n"
    }
   },
   "outputs": [
    {
     "name": "stdout",
     "output_type": "stream",
     "text": [
      "68.06971663135593\n"
     ]
    }
   ],
   "source": [
    "_ = check_accuracy_extended_debug(model, test_loader, \n",
    "                                  config['preprocess_test'], config, repeat=repeat)\n",
    "test_acc = _[0]\n",
    "test_score = _[1]\n",
    "test_target = _[2]\n",
    "test_confusion = _[3]\n",
    "test_error_table = _[4]\n",
    "test_crop_timing = _[5]\n",
    "\n",
    "print(test_acc)"
   ]
  },
  {
   "cell_type": "code",
   "execution_count": 19,
   "id": "79707747",
   "metadata": {
    "pycharm": {
     "name": "#%%\n"
    }
   },
   "outputs": [
    {
     "name": "stdout",
     "output_type": "stream",
     "text": [
      "68.25178760593221\n"
     ]
    }
   ],
   "source": [
    "_ = check_accuracy_extended_debug(model, test_loader, \n",
    "                                  config['preprocess_train'], config, repeat=repeat)\n",
    "test_acc = _[0]\n",
    "test_score = _[1]\n",
    "test_target = _[2]\n",
    "test_confusion = _[3]\n",
    "test_error_table = _[4]\n",
    "test_crop_timing = _[5]\n",
    "\n",
    "print(test_acc)"
   ]
  },
  {
   "cell_type": "code",
   "execution_count": 20,
   "id": "1a379aac-23be-4ce7-9a7e-15fb9afb55e6",
   "metadata": {
    "pycharm": {
     "name": "#%%\n"
    }
   },
   "outputs": [
    {
     "name": "stdout",
     "output_type": "stream",
     "text": [
      "66.67604608050848\n"
     ]
    }
   ],
   "source": [
    "_ = check_accuracy_extended_debug(model, test_loader, \n",
    "                                  preprocess_test_age_bias, config, repeat=repeat)\n",
    "test_acc = _[0]\n",
    "test_score = _[1]\n",
    "test_target = _[2]\n",
    "test_confusion = _[3]\n",
    "test_error_table = _[4]\n",
    "test_crop_timing = _[5]\n",
    "\n",
    "print(test_acc)"
   ]
  },
  {
   "cell_type": "code",
   "execution_count": 21,
   "id": "436195b3-1261-46dd-a274-323b47b51e81",
   "metadata": {
    "pycharm": {
     "name": "#%%\n"
    }
   },
   "outputs": [
    {
     "name": "stdout",
     "output_type": "stream",
     "text": [
      "56.88559322033898\n"
     ]
    }
   ],
   "source": [
    "_ = check_accuracy_extended_debug(model, test_loader, \n",
    "                                  preprocess_test_age_zero, config, repeat=repeat)\n",
    "test_acc = _[0]\n",
    "test_score = _[1]\n",
    "test_target = _[2]\n",
    "test_confusion = _[3]\n",
    "test_error_table = _[4]\n",
    "test_crop_timing = _[5]\n",
    "\n",
    "print(test_acc)"
   ]
  },
  {
   "cell_type": "markdown",
   "id": "9d1d240c-1264-478a-88c3-5481ac520cd1",
   "metadata": {
    "pycharm": {
     "name": "#%% md\n"
    }
   },
   "source": [
    "### Test set (with test-time augmentation)"
   ]
  },
  {
   "cell_type": "code",
   "execution_count": 22,
   "id": "643e8af7-e6cb-4b25-89b0-c115296be5e9",
   "metadata": {
    "pycharm": {
     "name": "#%%\n"
    },
    "tags": []
   },
   "outputs": [
    {
     "name": "stdout",
     "output_type": "stream",
     "text": [
      "70.1320842161017\n"
     ]
    }
   ],
   "source": [
    "_ = check_accuracy_multicrop_extended(model, multicrop_test_loader, \n",
    "                                      config['preprocess_test'], config, repeat=round(repeat * config['crop_multiple']))\n",
    "multi_test_acc = _[0]\n",
    "multi_test_score = _[1]\n",
    "multi_test_target = _[2]\n",
    "multi_test_confusion = _[3]\n",
    "multi_test_error_table = _[4]\n",
    "\n",
    "print(multi_test_acc)"
   ]
  },
  {
   "cell_type": "code",
   "execution_count": 23,
   "id": "f8cf6e68-f61c-4bde-ab19-cad29be384ff",
   "metadata": {
    "pycharm": {
     "name": "#%%\n"
    },
    "tags": []
   },
   "outputs": [
    {
     "name": "stdout",
     "output_type": "stream",
     "text": [
      "69.95332362288136\n"
     ]
    }
   ],
   "source": [
    "_ = check_accuracy_multicrop_extended(model, multicrop_test_loader, \n",
    "                                      config['preprocess_train'], config, repeat=repeat * config['crop_multiple'])\n",
    "multi_test_acc = _[0]\n",
    "multi_test_score = _[1]\n",
    "multi_test_target = _[2]\n",
    "multi_test_confusion = _[3]\n",
    "multi_test_error_table = _[4]\n",
    "\n",
    "print(multi_test_acc)"
   ]
  },
  {
   "cell_type": "code",
   "execution_count": 24,
   "id": "19ad7ea4-3421-4fcd-ae7f-0c6045981bb0",
   "metadata": {
    "pycharm": {
     "name": "#%%\n"
    },
    "tags": []
   },
   "outputs": [
    {
     "name": "stdout",
     "output_type": "stream",
     "text": [
      "67.72543697033898\n"
     ]
    }
   ],
   "source": [
    "_ = check_accuracy_multicrop_extended(model, multicrop_test_loader, \n",
    "                                      preprocess_test_age_bias, config, repeat=round(repeat * config['crop_multiple']))\n",
    "multi_test_acc = _[0]\n",
    "multi_test_score = _[1]\n",
    "multi_test_target = _[2]\n",
    "multi_test_confusion = _[3]\n",
    "multi_test_error_table = _[4]\n",
    "\n",
    "print(multi_test_acc)"
   ]
  },
  {
   "cell_type": "code",
   "execution_count": 25,
   "id": "7967a5fb-bf4b-485e-bbf5-cd8abafbd7cc",
   "metadata": {
    "pycharm": {
     "name": "#%%\n"
    },
    "tags": []
   },
   "outputs": [
    {
     "name": "stdout",
     "output_type": "stream",
     "text": [
      "56.90545550847458\n"
     ]
    }
   ],
   "source": [
    "_ = check_accuracy_multicrop_extended(model, multicrop_test_loader, \n",
    "                                      preprocess_test_age_zero, config, repeat=round(repeat * config['crop_multiple']))\n",
    "multi_test_acc = _[0]\n",
    "multi_test_score = _[1]\n",
    "multi_test_target = _[2]\n",
    "multi_test_confusion = _[3]\n",
    "multi_test_error_table = _[4]\n",
    "\n",
    "print(multi_test_acc)"
   ]
  },
  {
   "cell_type": "code",
   "execution_count": null,
   "id": "ba376de3-a8c6-4bd7-ba7e-23d216974b14",
   "metadata": {},
   "outputs": [],
   "source": []
  }
 ],
 "metadata": {
  "kernelspec": {
   "display_name": "Python 3 (ipykernel)",
   "language": "python",
   "name": "python3"
  },
  "language_info": {
   "codemirror_mode": {
    "name": "ipython",
    "version": 3
   },
   "file_extension": ".py",
   "mimetype": "text/x-python",
   "name": "python",
   "nbconvert_exporter": "python",
   "pygments_lexer": "ipython3",
   "version": "3.9.12"
  }
 },
 "nbformat": 4,
 "nbformat_minor": 5
}
