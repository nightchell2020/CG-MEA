{
 "cells": [
  {
   "cell_type": "markdown",
   "metadata": {
    "pycharm": {
     "name": "#%% md\n"
    }
   },
   "source": [
    "# Train Networks\n",
    "\n",
    "- Train a deep classifier for the EEG-based diagnostic classification\n",
    "    - CAUEEG-abnormal benchmark: Classification of **Normal** and **Abnormal** symptoms\n",
    "    - CAUEEG-dementia benchmark: Classification of **Normal**, **MCI**, and **Dementia** symptoms"
   ]
  },
  {
   "cell_type": "markdown",
   "metadata": {
    "pycharm": {
     "name": "#%% md\n"
    }
   },
   "source": [
    "-----\n",
    "\n",
    "## Load Packages"
   ]
  },
  {
   "cell_type": "code",
   "execution_count": 1,
   "metadata": {
    "pycharm": {
     "name": "#%%\n"
    }
   },
   "outputs": [
    {
     "name": "stdout",
     "output_type": "stream",
     "text": [
      "C:\\Users\\Minjae\\Desktop\\EEG_Project\n"
     ]
    }
   ],
   "source": [
    "# for auto-reloading external modules\n",
    "# see http://stackoverflow.com/questions/1907993/autoreload-of-modules-in-ipython\n",
    "%load_ext autoreload\n",
    "%autoreload 2\n",
    "%cd .."
   ]
  },
  {
   "cell_type": "code",
   "execution_count": 2,
   "metadata": {
    "pycharm": {
     "name": "#%%\n"
    },
    "tags": []
   },
   "outputs": [],
   "source": [
    "# Load some packages\n",
    "import hydra\n",
    "from omegaconf import OmegaConf\n",
    "import wandb\n",
    "import pprint\n",
    "\n",
    "# custom package\n",
    "from run_train import check_device_env\n",
    "from run_train import prepare_and_run_train"
   ]
  },
  {
   "cell_type": "markdown",
   "metadata": {
    "pycharm": {
     "name": "#%% md\n"
    }
   },
   "source": [
    "---\n",
    "\n",
    "## Specify the dataset, model, and train setting"
   ]
  },
  {
   "cell_type": "code",
   "execution_count": 4,
   "metadata": {
    "collapsed": false,
    "jupyter": {
     "outputs_hidden": false
    },
    "pycharm": {
     "name": "#%%\n"
    }
   },
   "outputs": [],
   "source": [
    "project = 'caueeg-dementia'\n",
    "data_cfg_file = 'caueeg-dementia'\n",
    "train_cfg_file = 'tiny-amp'\n",
    "model_cfg_file = '1D-DeiT-B-16'\n",
    "device = 'cuda:0'"
   ]
  },
  {
   "cell_type": "markdown",
   "metadata": {
    "jupyter": {
     "outputs_hidden": false
    },
    "pycharm": {
     "name": "#%%\n"
    }
   },
   "source": [
    "---\n",
    "\n",
    "## Initializing configurations using Hydra"
   ]
  },
  {
   "cell_type": "code",
   "execution_count": 16,
   "metadata": {
    "collapsed": false,
    "jupyter": {
     "outputs_hidden": false
    },
    "pycharm": {
     "name": "#%%\n"
    }
   },
   "outputs": [
    {
     "name": "stdout",
     "output_type": "stream",
     "text": [
      "{'EKG': 'O',\n",
      " '_target_': 'models.deit_1d.deit_b_16_1d',\n",
      " 'activation': 'gelu',\n",
      " 'attention_dropout': 0.1,\n",
      " 'awgn': 0.001,\n",
      " 'awgn_age': 0.001,\n",
      " 'base_lr': 0.0001,\n",
      " 'clip_grad_norm': 1.0,\n",
      " 'criterion': 'multi-bce',\n",
      " 'crop_multiple': 4,\n",
      " 'crop_timing_analysis': False,\n",
      " 'dataset_path': 'local/dataset/caueeg-dataset/',\n",
      " 'ddp': False,\n",
      " 'device': device(type='cuda', index=0),\n",
      " 'distil_alpha': 0.5,\n",
      " 'distil_tau': 1.0,\n",
      " 'distil_teacher': '1rn23vp7',\n",
      " 'distil_type': 'soft',\n",
      " 'draw_result': True,\n",
      " 'dropout': 0.1,\n",
      " 'fc_stages': 2,\n",
      " 'file_format': 'memmap',\n",
      " 'in_channels': '???',\n",
      " 'input_norm': 'dataset',\n",
      " 'latency': 2000,\n",
      " 'load_event': False,\n",
      " 'lr_scheduler_type': 'constant_with_decay',\n",
      " 'mgn': 0.001,\n",
      " 'minibatch': 48,\n",
      " 'minibatch_3090': 48,\n",
      " 'mixed_precision': True,\n",
      " 'mixup': 0.0,\n",
      " 'model': '1D-DeiT-B-16',\n",
      " 'num_history': 5,\n",
      " 'out_dims': '???',\n",
      " 'photic': 'X',\n",
      " 'project': 'caueeg-dementia',\n",
      " 'run_mode': 'train',\n",
      " 'save_model': False,\n",
      " 'search_lr': False,\n",
      " 'search_multiplier': 1.0,\n",
      " 'seed': 0,\n",
      " 'seq_length': 4000,\n",
      " 'signal_length_limit': 10000000,\n",
      " 'task': 'dementia',\n",
      " 'test_crop_multiple': 8,\n",
      " 'total_samples': 50000,\n",
      " 'use_age': 'conv',\n",
      " 'use_wandb': False,\n",
      " 'warmup_min': 3000,\n",
      " 'warmup_ratio': 0.05,\n",
      " 'watch_model': False,\n",
      " 'weight_decay': 0.01}\n"
     ]
    }
   ],
   "source": [
    "with hydra.initialize(config_path='../config'):\n",
    "    add_configs = [f\"data={data_cfg_file}\", \n",
    "                   f\"++data.seq_length=4000\",\n",
    "                   f\"train={train_cfg_file}\", \n",
    "                   f\"+train.device={device}\", \n",
    "                   f\"+train.project={project}\",\n",
    "                   f\"+train.distil_alpha=0.5\",\n",
    "                   f\"+train.distil_type=soft\",\n",
    "                   f\"+train.distil_tau=1.0\",\n",
    "                   f\"+train.distil_teacher=1rn23vp7\",\n",
    "                   f\"model={model_cfg_file}\",\n",
    "                   f\"++model.criterion=multi-bce\",]\n",
    "    \n",
    "    cfg = hydra.compose(config_name='default', overrides=add_configs)\n",
    "    \n",
    "config = {**OmegaConf.to_container(cfg.data), \n",
    "          **OmegaConf.to_container(cfg.train),\n",
    "          **OmegaConf.to_container(cfg.model)}\n",
    "\n",
    "check_device_env(config)\n",
    "pprint.pprint(config)"
   ]
  },
  {
   "cell_type": "markdown",
   "metadata": {
    "pycharm": {
     "name": "#%% md\n"
    }
   },
   "source": [
    "## Train"
   ]
  },
  {
   "cell_type": "code",
   "execution_count": 20,
   "metadata": {
    "collapsed": false,
    "jupyter": {
     "outputs_hidden": false
    },
    "pycharm": {
     "name": "#%%\n"
    }
   },
   "outputs": [
    {
     "name": "stdout",
     "output_type": "stream",
     "text": [
      "\n",
      "******************************    Configurations for Train    ******************************\n",
      "\n",
      "{'EKG': 'O',\n",
      " '_target_': 'models.deit_1d.deit_b_16_1d',\n",
      " 'activation': 'gelu',\n",
      " 'age_mean': tensor([71.2764]),\n",
      " 'age_std': tensor([9.2399]),\n",
      " 'attention_dropout': 0.1,\n",
      " 'awgn': 0.001,\n",
      " 'awgn_age': 0.001,\n",
      " 'base_lr': 0.0001,\n",
      " 'class_label_to_name': ['Normal', 'MCI', 'Dementia'],\n",
      " 'class_name_to_label': {'Dementia': 2, 'MCI': 1, 'Normal': 0},\n",
      " 'clip_grad_norm': 1.0,\n",
      " 'criterion': 'multi-bce',\n",
      " 'crop_multiple': 4,\n",
      " 'crop_timing_analysis': False,\n",
      " 'dataset_name': 'CAUEEG dataset',\n",
      " 'dataset_path': 'local/dataset/caueeg-dataset/',\n",
      " 'ddp': False,\n",
      " 'device': device(type='cuda', index=0),\n",
      " 'distil_alpha': 0.5,\n",
      " 'distil_tau': 1.0,\n",
      " 'distil_teacher': '1rn23vp7',\n",
      " 'distil_teacher_criterion': 'multi-bce',\n",
      " 'distil_teacher_model': VGG2D(\n",
      "  (conv_stage1): Sequential(\n",
      "    (0): Conv2d(41, 64, kernel_size=(3, 3), stride=(1, 1), padding=(1, 1), bias=False)\n",
      "    (1): BatchNorm2d(64, eps=1e-05, momentum=0.1, affine=True, track_running_stats=True)\n",
      "    (2): GELU(approximate=none)\n",
      "    (3): Conv2d(64, 64, kernel_size=(3, 3), stride=(1, 1), padding=(1, 1), bias=False)\n",
      "    (4): BatchNorm2d(64, eps=1e-05, momentum=0.1, affine=True, track_running_stats=True)\n",
      "    (5): GELU(approximate=none)\n",
      "  )\n",
      "  (conv_stage2): Sequential(\n",
      "    (0): MaxPool2d(kernel_size=2, stride=2, padding=0, dilation=1, ceil_mode=False)\n",
      "    (1): Conv2d(64, 128, kernel_size=(3, 3), stride=(1, 1), padding=(1, 1), bias=False)\n",
      "    (2): BatchNorm2d(128, eps=1e-05, momentum=0.1, affine=True, track_running_stats=True)\n",
      "    (3): GELU(approximate=none)\n",
      "    (4): Conv2d(128, 128, kernel_size=(3, 3), stride=(1, 1), padding=(1, 1), bias=False)\n",
      "    (5): BatchNorm2d(128, eps=1e-05, momentum=0.1, affine=True, track_running_stats=True)\n",
      "    (6): GELU(approximate=none)\n",
      "  )\n",
      "  (conv_stage3): Sequential(\n",
      "    (0): MaxPool2d(kernel_size=2, stride=2, padding=0, dilation=1, ceil_mode=False)\n",
      "    (1): Conv2d(128, 256, kernel_size=(3, 3), stride=(1, 1), padding=(1, 1), bias=False)\n",
      "    (2): BatchNorm2d(256, eps=1e-05, momentum=0.1, affine=True, track_running_stats=True)\n",
      "    (3): GELU(approximate=none)\n",
      "    (4): Conv2d(256, 256, kernel_size=(3, 3), stride=(1, 1), padding=(1, 1), bias=False)\n",
      "    (5): BatchNorm2d(256, eps=1e-05, momentum=0.1, affine=True, track_running_stats=True)\n",
      "    (6): GELU(approximate=none)\n",
      "    (7): Conv2d(256, 256, kernel_size=(3, 3), stride=(1, 1), padding=(1, 1), bias=False)\n",
      "    (8): BatchNorm2d(256, eps=1e-05, momentum=0.1, affine=True, track_running_stats=True)\n",
      "    (9): GELU(approximate=none)\n",
      "    (10): Conv2d(256, 256, kernel_size=(3, 3), stride=(1, 1), padding=(1, 1), bias=False)\n",
      "    (11): BatchNorm2d(256, eps=1e-05, momentum=0.1, affine=True, track_running_stats=True)\n",
      "    (12): GELU(approximate=none)\n",
      "  )\n",
      "  (conv_stage4): Sequential(\n",
      "    (0): MaxPool2d(kernel_size=2, stride=2, padding=0, dilation=1, ceil_mode=False)\n",
      "    (1): Conv2d(256, 512, kernel_size=(3, 3), stride=(1, 1), padding=(1, 1), bias=False)\n",
      "    (2): BatchNorm2d(512, eps=1e-05, momentum=0.1, affine=True, track_running_stats=True)\n",
      "    (3): GELU(approximate=none)\n",
      "    (4): Conv2d(512, 512, kernel_size=(3, 3), stride=(1, 1), padding=(1, 1), bias=False)\n",
      "    (5): BatchNorm2d(512, eps=1e-05, momentum=0.1, affine=True, track_running_stats=True)\n",
      "    (6): GELU(approximate=none)\n",
      "    (7): Conv2d(512, 512, kernel_size=(3, 3), stride=(1, 1), padding=(1, 1), bias=False)\n",
      "    (8): BatchNorm2d(512, eps=1e-05, momentum=0.1, affine=True, track_running_stats=True)\n",
      "    (9): GELU(approximate=none)\n",
      "    (10): Conv2d(512, 512, kernel_size=(3, 3), stride=(1, 1), padding=(1, 1), bias=False)\n",
      "    (11): BatchNorm2d(512, eps=1e-05, momentum=0.1, affine=True, track_running_stats=True)\n",
      "    (12): GELU(approximate=none)\n",
      "  )\n",
      "  (conv_stage5): Sequential(\n",
      "    (0): MaxPool2d(kernel_size=2, stride=2, padding=0, dilation=1, ceil_mode=False)\n",
      "    (1): Conv2d(512, 512, kernel_size=(3, 3), stride=(1, 1), padding=(1, 1), bias=False)\n",
      "    (2): BatchNorm2d(512, eps=1e-05, momentum=0.1, affine=True, track_running_stats=True)\n",
      "    (3): GELU(approximate=none)\n",
      "    (4): Conv2d(512, 512, kernel_size=(3, 3), stride=(1, 1), padding=(1, 1), bias=False)\n",
      "    (5): BatchNorm2d(512, eps=1e-05, momentum=0.1, affine=True, track_running_stats=True)\n",
      "    (6): GELU(approximate=none)\n",
      "    (7): Conv2d(512, 512, kernel_size=(3, 3), stride=(1, 1), padding=(1, 1), bias=False)\n",
      "    (8): BatchNorm2d(512, eps=1e-05, momentum=0.1, affine=True, track_running_stats=True)\n",
      "    (9): GELU(approximate=none)\n",
      "    (10): Conv2d(512, 512, kernel_size=(3, 3), stride=(1, 1), padding=(1, 1), bias=False)\n",
      "    (11): BatchNorm2d(512, eps=1e-05, momentum=0.1, affine=True, track_running_stats=True)\n",
      "    (12): GELU(approximate=none)\n",
      "  )\n",
      "  (final_pool): AdaptiveAvgPool2d(output_size=(1, 1))\n",
      "  (fc_stage): Sequential(\n",
      "    (0): Sequential(\n",
      "      (0): Linear(in_features=512, out_features=256, bias=False)\n",
      "      (1): Dropout(p=0.20149124331753415, inplace=False)\n",
      "      (2): BatchNorm1d(256, eps=1e-05, momentum=0.1, affine=True, track_running_stats=True)\n",
      "      (3): GELU(approximate=none)\n",
      "    )\n",
      "    (1): Linear(in_features=256, out_features=3, bias=True)\n",
      "  )\n",
      "),\n",
      " 'distil_teacher_preprocess': Sequential(\n",
      "  (0): EegToDevice(device=cuda)\n",
      "  (1): EegNormalizeAge(mean=tensor([71.2425], device='cuda:0'),std=tensor([9.5208], device='cuda:0'),eps=1e-08)\n",
      "  (2): EegNormalizeMeanStd(mean=tensor([ 0.0794, -0.0131, -0.0121, -0.0244,  0.0004,  0.0295,  0.0506,  0.0152,\n",
      "          -0.0003,  0.0337, -0.0050, -0.0096, -0.0336,  0.0111,  0.0077,  0.0076,\n",
      "           0.0110,  0.0071, -0.0213,  0.0056], device='cuda:0'),std=tensor([49.7625, 21.7403, 12.5883, 12.5998, 17.0438, 53.6425, 21.1902, 11.1606,\n",
      "          12.5307, 16.9399, 21.8603, 15.2040, 14.7430, 23.0870, 18.4153, 15.7697,\n",
      "          20.6772, 12.2012, 12.5872, 94.9068], device='cuda:0'),eps=1e-08)\n",
      "  (3): EegSpectrogram(n_fft=179, complex_mode=as_real, stft_kwargs={'hop_length': 45})\n",
      "  (4): EegNormalizeMeanStd(mean=tensor([[ 8.8281e-02, -5.7702e-03, -1.6394e-03,  ...,  3.3096e-05,\n",
      "           -7.8102e-05, -6.3770e-05],\n",
      "          [ 1.6637e-01, -4.2473e-03, -1.3292e-03,  ..., -3.6699e-04,\n",
      "           -2.3163e-04, -3.0811e-04],\n",
      "          [ 3.1101e-01, -5.0562e-03,  6.4075e-04,  ..., -1.2932e-03,\n",
      "           -2.4941e-04, -6.2930e-04],\n",
      "          ...,\n",
      "          [ 0.0000e+00,  3.7100e-02,  1.9312e-02,  ..., -1.8332e-04,\n",
      "            1.1381e-04, -1.3105e-05],\n",
      "          [ 0.0000e+00,  2.7615e-02,  1.4483e-02,  ...,  1.1170e-05,\n",
      "            7.1576e-05,  2.1038e-05],\n",
      "          [ 0.0000e+00, -2.4825e-03, -7.6354e-03,  ...,  1.4972e-04,\n",
      "            9.9928e-06,  1.7523e-05]], device='cuda:0'),std=tensor([[1.4533e+02, 2.6792e+01, 1.3368e+01,  ..., 6.0386e-01, 6.0369e-01,\n",
      "           6.0395e-01],\n",
      "          [1.4349e+02, 2.3371e+01, 1.1860e+01,  ..., 6.1675e-01, 6.1640e-01,\n",
      "           6.1704e-01],\n",
      "          [1.3909e+02, 2.0182e+01, 1.0984e+01,  ..., 6.5201e-01, 6.5184e-01,\n",
      "           6.5345e-01],\n",
      "          ...,\n",
      "          [0.0000e+00, 3.4167e+01, 1.8948e+01,  ..., 2.3286e-01, 2.3066e-01,\n",
      "           2.3239e-01],\n",
      "          [0.0000e+00, 3.5674e+01, 1.9445e+01,  ..., 2.2730e-01, 2.2463e-01,\n",
      "           2.2614e-01],\n",
      "          [0.0000e+00, 2.2435e+01, 2.1978e+01,  ..., 6.8453e-02, 5.8933e-02,\n",
      "           5.7163e-02]], device='cuda:0'),eps=1e-08)\n",
      "),\n",
      " 'distil_type': 'soft',\n",
      " 'draw_result': True,\n",
      " 'dropout': 0.1,\n",
      " 'fc_stages': 2,\n",
      " 'file_format': 'memmap',\n",
      " 'in_channels': 20,\n",
      " 'input_norm': 'dataset',\n",
      " 'iterations': 1042,\n",
      " 'latency': 2000,\n",
      " 'load_event': False,\n",
      " 'lr_scheduler_type': 'constant_with_decay',\n",
      " 'mgn': 0.001,\n",
      " 'minibatch': 48,\n",
      " 'minibatch_3090': 48,\n",
      " 'mixed_precision': True,\n",
      " 'mixup': 0.0,\n",
      " 'model': '1D-DeiT-B-16',\n",
      " 'multi_batch_size': 6,\n",
      " 'num_history': 5,\n",
      " 'num_params': 86102790,\n",
      " 'out_dims': 3,\n",
      " 'output_length': 252,\n",
      " 'photic': 'X',\n",
      " 'preprocess_test': Sequential(\n",
      "  (0): EegToDevice(device=cuda:0)\n",
      "  (1): EegNormalizeAge(mean=tensor([71.2764]),std=tensor([9.2399]),eps=1e-08)\n",
      "  (2): EegNormalizeMeanStd(mean=tensor([ 0.0005, -0.0189,  0.0082,  0.0080,  0.0004,  0.0111,  0.0025, -0.0004,\n",
      "          -0.0080,  0.0171, -0.0203, -0.0103,  0.0252,  0.0156,  0.0009, -0.0159,\n",
      "          -0.0167,  0.0082,  0.0009,  0.0014]),std=tensor([49.5963, 21.7178, 12.3748, 12.2860, 16.5734, 53.0644, 21.1729, 11.0486,\n",
      "          12.3247, 16.7747, 21.5309, 14.9678, 14.5601, 22.8394, 17.7131, 15.7070,\n",
      "          20.5585, 11.9337, 12.1592, 94.3417]),eps=1e-08)\n",
      "),\n",
      " 'preprocess_train': Sequential(\n",
      "  (0): EegToDevice(device=cuda:0)\n",
      "  (1): EegNormalizeAge(mean=tensor([71.2764], device='cuda:0'),std=tensor([9.2399]),eps=1e-08)\n",
      "  (2): EegAddGaussianNoiseAge(mean=0.0,std=0.001)\n",
      "  (3): EegNormalizeMeanStd(mean=tensor([ 0.0005, -0.0189,  0.0082,  0.0080,  0.0004,  0.0111,  0.0025, -0.0004,\n",
      "          -0.0080,  0.0171, -0.0203, -0.0103,  0.0252,  0.0156,  0.0009, -0.0159,\n",
      "          -0.0167,  0.0082,  0.0009,  0.0014], device='cuda:0'),std=tensor([49.5963, 21.7178, 12.3748, 12.2860, 16.5734, 53.0644, 21.1729, 11.0486,\n",
      "          12.3247, 16.7747, 21.5309, 14.9678, 14.5601, 22.8394, 17.7131, 15.7070,\n",
      "          20.5585, 11.9337, 12.1592, 94.3417]),eps=1e-08)\n",
      "  (4): EegMultiplicativeGaussianNoise(mean=0.0,std=0.001)\n",
      "  (5): EegAdditiveGaussianNoise(mean=0.0,std=0.001)\n",
      "),\n",
      " 'project': 'caueeg-dementia',\n",
      " 'run_mode': 'train',\n",
      " 'save_model': False,\n",
      " 'search_lr': False,\n",
      " 'search_multiplier': 1.0,\n",
      " 'seed': 0,\n",
      " 'seq_length': 4000,\n",
      " 'signal_header': ['Fp1-AVG',\n",
      "                   'F3-AVG',\n",
      "                   'C3-AVG',\n",
      "                   'P3-AVG',\n",
      "                   'O1-AVG',\n",
      "                   'Fp2-AVG',\n",
      "                   'F4-AVG',\n",
      "                   'C4-AVG',\n",
      "                   'P4-AVG',\n",
      "                   'O2-AVG',\n",
      "                   'F7-AVG',\n",
      "                   'T3-AVG',\n",
      "                   'T5-AVG',\n",
      "                   'F8-AVG',\n",
      "                   'T4-AVG',\n",
      "                   'T6-AVG',\n",
      "                   'FZ-AVG',\n",
      "                   'CZ-AVG',\n",
      "                   'PZ-AVG',\n",
      "                   'EKG',\n",
      "                   'Photic'],\n",
      " 'signal_length_limit': 10000000,\n",
      " 'signal_mean': tensor([[[ 0.0005],\n",
      "         [-0.0189],\n",
      "         [ 0.0082],\n",
      "         [ 0.0080],\n",
      "         [ 0.0004],\n",
      "         [ 0.0111],\n",
      "         [ 0.0025],\n",
      "         [-0.0004],\n",
      "         [-0.0080],\n",
      "         [ 0.0171],\n",
      "         [-0.0203],\n",
      "         [-0.0103],\n",
      "         [ 0.0252],\n",
      "         [ 0.0156],\n",
      "         [ 0.0009],\n",
      "         [-0.0159],\n",
      "         [-0.0167],\n",
      "         [ 0.0082],\n",
      "         [ 0.0009],\n",
      "         [ 0.0014]]]),\n",
      " 'signal_std': tensor([[[49.5963],\n",
      "         [21.7178],\n",
      "         [12.3748],\n",
      "         [12.2860],\n",
      "         [16.5734],\n",
      "         [53.0644],\n",
      "         [21.1729],\n",
      "         [11.0486],\n",
      "         [12.3247],\n",
      "         [16.7747],\n",
      "         [21.5309],\n",
      "         [14.9678],\n",
      "         [14.5601],\n",
      "         [22.8394],\n",
      "         [17.7131],\n",
      "         [15.7070],\n",
      "         [20.5585],\n",
      "         [11.9337],\n",
      "         [12.1592],\n",
      "         [94.3417]]]),\n",
      " 'task': 'dementia',\n",
      " 'task_description': 'Classification of [Normal], [MCI], and [Dementia] symptoms.',\n",
      " 'task_name': 'CAUEEG-Dementia benchmark',\n",
      " 'test_crop_multiple': 8,\n",
      " 'total_samples': 50000,\n",
      " 'transform': Compose(\n",
      "    EegRandomCrop(crop_length=4000, length_limit=10000000, multiple=4, latency=2000, return_timing=False)\n",
      "    EegDropChannels(drop_index=[20])\n",
      "    EegToTensor()\n",
      "),\n",
      " 'transform_multicrop': Compose(\n",
      "    EegRandomCrop(crop_length=4000, length_limit=10000000, multiple=8, latency=2000, return_timing=False)\n",
      "    EegDropChannels(drop_index=[20])\n",
      "    EegToTensor()\n",
      "),\n",
      " 'use_age': 'conv',\n",
      " 'use_wandb': False,\n",
      " 'warmup_min': 3000,\n",
      " 'warmup_ratio': 0.05,\n",
      " 'warmup_steps': 3000,\n",
      " 'watch_model': False,\n",
      " 'weight_decay': 0.01}\n",
      "\n",
      "********************************************************************************************\n",
      "\n",
      "208 /    1042 iter - Loss: 0.5893, Train Acc.: 50.83, Val. Acc.: 51.32\n",
      "416 /    1042 iter - Loss: 0.5723, Train Acc.: 52.31, Val. Acc.: 52.29\n",
      "624 /    1042 iter - Loss: 0.5675, Train Acc.: 52.14, Val. Acc.: 55.15\n",
      "832 /    1042 iter - Loss: 0.5502, Train Acc.: 54.85, Val. Acc.: 56.02\n",
      "1040 /    1042 iter - Loss: 0.5319, Train Acc.: 57.85, Val. Acc.: 57.61\n",
      "1248 /    1042 iter - Loss: 0.523, Train Acc.: 58.71, Val. Acc.: 58.19\n",
      "\n",
      "******************************         2022-1223-2024         ******************************\n",
      "\n",
      "{'(Best, Last) Test Accuracy': ('Best', 62.51, 62.27),\n",
      " 'Confusion Matrix (Array)': array([[4480,  851,  189],\n",
      "       [1422, 2277, 1221],\n",
      "       [ 382, 1243, 2095]]),\n",
      " 'Multi-Crop Test Accuracy': 65.53672316384181,\n",
      " 'Test Accuracy': 62.514124293785315}\n",
      "\n",
      "********************************************************************************************\n",
      "\n"
     ]
    },
    {
     "data": {
      "image/png": "[encoded data removed]",
      "text/plain": [
       "<Figure size 612x288 with 2 Axes>"
      ]
     },
     "metadata": {
      "needs_background": "light"
     },
     "output_type": "display_data"
    },
    {
     "data": {
      "image/png": "[encoded data removed]",
      "text/plain": [
       "<Figure size 350x350 with 1 Axes>"
      ]
     },
     "metadata": {},
     "output_type": "display_data"
    }
   ],
   "source": [
    "prepare_and_run_train(rank=None, world_size=None, config=config)"
   ]
  },
  {
   "cell_type": "code",
   "execution_count": null,
   "metadata": {},
   "outputs": [],
   "source": []
  }
 ],
 "metadata": {
  "kernelspec": {
   "display_name": "Python 3 (ipykernel)",
   "language": "python",
   "name": "python3"
  },
  "language_info": {
   "codemirror_mode": {
    "name": "ipython",
    "version": 3
   },
   "file_extension": ".py",
   "mimetype": "text/x-python",
   "name": "python",
   "nbconvert_exporter": "python",
   "pygments_lexer": "ipython3",
   "version": "3.9.12"
  }
 },
 "nbformat": 4,
 "nbformat_minor": 4
}
