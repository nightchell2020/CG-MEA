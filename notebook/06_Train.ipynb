{
 "cells": [
  {
   "cell_type": "markdown",
   "metadata": {
    "pycharm": {
     "name": "#%% md\n"
    }
   },
   "source": [
    "# Train Networks\n",
    "\n",
    "- Train SoftMax or Multi-BCE classifier for the EEG diagnosis classification\n",
    "    - CAUEEG-task1 benchmark: Classification of **Normal**, **MCI**, and **Dementia** symptoms\n",
    "    - CAUEEG-task2 benchmark: Classification of **Normal** and **Abnormal** symptoms"
   ]
  },
  {
   "cell_type": "markdown",
   "metadata": {
    "pycharm": {
     "name": "#%% md\n"
    }
   },
   "source": [
    "-----\n",
    "\n",
    "## Load Packages"
   ]
  },
  {
   "cell_type": "code",
   "execution_count": null,
   "metadata": {
    "pycharm": {
     "name": "#%%\n"
    }
   },
   "outputs": [],
   "source": [
    "# for auto-reloading external modules\n",
    "# see http://stackoverflow.com/questions/1907993/autoreload-of-modules-in-ipython\n",
    "%load_ext autoreload\n",
    "%autoreload 2\n",
    "%cd .."
   ]
  },
  {
   "cell_type": "code",
   "execution_count": null,
   "metadata": {
    "collapsed": false,
    "jupyter": {
     "outputs_hidden": false
    },
    "pycharm": {
     "name": "#%%\n"
    }
   },
   "outputs": [],
   "source": [
    "# Load some packages\n",
    "import os\n",
    "import json\n",
    "from copy import deepcopy\n",
    "\n",
    "import hydra\n",
    "from omegaconf import OmegaConf\n",
    "import wandb\n",
    "import pprint\n",
    "\n",
    "# custom package\n",
    "from run_train import check_device_env\n",
    "from run_train import prepare_and_run_train"
   ]
  },
  {
   "cell_type": "markdown",
   "metadata": {
    "pycharm": {
     "name": "#%% md\n"
    }
   },
   "source": [
    "---\n",
    "\n",
    "## Specify the dataset, model, and train setting"
   ]
  },
  {
   "cell_type": "code",
   "execution_count": null,
   "metadata": {
    "collapsed": false,
    "jupyter": {
     "outputs_hidden": false
    },
    "pycharm": {
     "name": "#%%\n"
    }
   },
   "outputs": [],
   "source": [
    "project = 'sweep-test'\n",
    "data_cfg_file = 'task1'\n",
    "train_cfg_file = 'base_train'\n",
    "model_cfg_file = '1D-ResNet-101'\n",
    "device = 'cuda:0'"
   ]
  },
  {
   "cell_type": "markdown",
   "metadata": {
    "jupyter": {
     "outputs_hidden": false
    },
    "pycharm": {
     "name": "#%%\n"
    }
   },
   "source": [
    "---\n",
    "\n",
    "## Initializing configurations using Hydra"
   ]
  },
  {
   "cell_type": "code",
   "execution_count": null,
   "metadata": {
    "collapsed": false,
    "jupyter": {
     "outputs_hidden": false
    },
    "pycharm": {
     "name": "#%%\n"
    }
   },
   "outputs": [],
   "source": [
    "with hydra.initialize(config_path='../config'):\n",
    "    add_configs = [f\"data={data_cfg_file}\", \n",
    "                   f\"train={train_cfg_file}\", \n",
    "                   f\"+train.device={device}\", \n",
    "                   f\"model={model_cfg_file}\",]\n",
    "#                   f\"++train.total_samples=200\", f\"++train.search_lr=false\", f\"++train.num_history=1\"]  # for test\n",
    "    \n",
    "    cfg = hydra.compose(config_name='default', overrides=add_configs)\n",
    "    \n",
    "cfg_default = {**OmegaConf.to_container(cfg.data), \n",
    "               **OmegaConf.to_container(cfg.train),\n",
    "               **OmegaConf.to_container(cfg.model)}\n",
    "\n",
    "check_device_env(cfg_default)\n",
    "pprint.pprint(cfg_default)"
   ]
  },
  {
   "cell_type": "markdown",
   "metadata": {
    "pycharm": {
     "name": "#%% md\n"
    }
   },
   "source": [
    "## Train"
   ]
  },
  {
   "cell_type": "code",
   "execution_count": null,
   "metadata": {
    "collapsed": false,
    "jupyter": {
     "outputs_hidden": false
    },
    "pycharm": {
     "name": "#%%\n"
    }
   },
   "outputs": [],
   "source": [
    "wandb_run = wandb.init(project=f\"{project}\")\n",
    "wandb.run.name = wandb.run.id\n",
    "\n",
    "with wandb_run:\n",
    "    config = {}\n",
    "\n",
    "    # load default configurations not selected by wandb.sweep\n",
    "    for k, v in cfg_default.items():\n",
    "        if k not in [wandb_key.split('.')[-1] for wandb_key in wandb.config.keys()]:\n",
    "            config[k] = v\n",
    "\n",
    "    # load the selected configurations from wandb sweep with preventing callables from type-conversion to str\n",
    "    for k, v in wandb.config.items():\n",
    "        k = k.split('.')[-1]\n",
    "        if k not in config:\n",
    "            config[k] = v\n",
    "\n",
    "    # build the dataset and train the model\n",
    "    if config.get('ddp', False):\n",
    "        mp.spawn(prepare_and_run_train,\n",
    "                 args=(config['ddp_size'], config,),\n",
    "                 nprocs=config['ddp_size'],\n",
    "                 join=True)\n",
    "    else:\n",
    "        prepare_and_run_train(rank=None, world_size=None, config=config)"
   ]
  }
 ],
 "metadata": {
  "kernelspec": {
   "display_name": "Python 3 (ipykernel)",
   "language": "python",
   "name": "python3"
  },
  "language_info": {
   "codemirror_mode": {
    "name": "ipython",
    "version": 3
   },
   "file_extension": ".py",
   "mimetype": "text/x-python",
   "name": "python",
   "nbconvert_exporter": "python",
   "pygments_lexer": "ipython3",
   "version": "3.9.12"
  }
 },
 "nbformat": 4,
 "nbformat_minor": 4
}