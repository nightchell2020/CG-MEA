{
 "cells": [
  {
   "cell_type": "markdown",
   "id": "e32df52f-7226-4197-8d6c-6a204a0ee37e",
   "metadata": {
    "pycharm": {
     "name": "#%% md\n"
    }
   },
   "source": [
    "# TUAB\n",
    "\n",
    "This notebook looks around the Temple University Hospital EEG Abnormal Corpus (`TUAB`) dataset and convert the file format from the `EDF` to `NumPy memmap` for the speed-up."
   ]
  },
  {
   "cell_type": "markdown",
   "id": "ee7f6701-3340-4f9d-9e96-bca33a6f5cfb",
   "metadata": {
    "pycharm": {
     "name": "#%% md\n"
    }
   },
   "source": [
    "-----\n",
    "\n",
    "## Configure environments"
   ]
  },
  {
   "cell_type": "code",
   "execution_count": null,
   "id": "7f0afeb3-ed95-4142-897e-4b816d02b2ed",
   "metadata": {
    "pycharm": {
     "name": "#%%\n"
    }
   },
   "outputs": [],
   "source": [
    "# for auto-reloading external modules\n",
    "# see http://stackoverflow.com/questions/1907993/autoreload-of-modules-in-ipython\n",
    "%load_ext autoreload\n",
    "%autoreload 2\n",
    "%cd .."
   ]
  },
  {
   "cell_type": "code",
   "execution_count": null,
   "id": "73402311-6b5a-4ca9-90e3-68655e1a9c59",
   "metadata": {
    "pycharm": {
     "name": "#%%\n"
    }
   },
   "outputs": [],
   "source": [
    "# Load some packages\n",
    "import os\n",
    "import glob\n",
    "\n",
    "import math\n",
    "import json\n",
    "import pyedflib\n",
    "import numpy as np\n",
    "\n",
    "import pprint\n",
    "from tqdm.auto import tqdm\n",
    "\n",
    "# custom package\n",
    "from datasets.temple_eeg_dataset import *\n",
    "from datasets.temple_eeg_script import build_dataset_for_tuab_train\n",
    "from datasets.pipeline import *"
   ]
  },
  {
   "cell_type": "markdown",
   "id": "77ae7fc8-09e4-40b0-9043-558e4a428f5e",
   "metadata": {},
   "source": [
    "---\n",
    "## `TUAB` dataset"
   ]
  },
  {
   "cell_type": "code",
   "execution_count": null,
   "id": "6b46fa14-9fe5-4f39-944f-705733f7a327",
   "metadata": {
    "pycharm": {
     "name": "#%%\n"
    }
   },
   "outputs": [],
   "source": [
    "# Data file path\n",
    "origin_path = r'H:\\Other_DB\\Temple_EEG\\tuh_eeg_abnormal\\v2.0.0\\edf'\n",
    "desired_path = r'local/dataset/tuab/'"
   ]
  },
  {
   "cell_type": "markdown",
   "id": "a46e5eb0-561c-4b37-b39a-2d7f71dffa1b",
   "metadata": {},
   "source": [
    "### Age"
   ]
  },
  {
   "cell_type": "code",
   "execution_count": null,
   "id": "b3123035-2cd4-4aad-9831-644d02395880",
   "metadata": {},
   "outputs": [],
   "source": [
    "count = 0\n",
    "text_files = glob.glob(os.path.join(origin_path, 'train/normal/01_tcp_ar/*/*/*/*.txt'))\n",
    "for filename in text_files:\n",
    "    with open(filename, 'rt', encoding='UTF-8') as f:\n",
    "        text_script = f.read()\n",
    "        if 'year' in text_script:\n",
    "            count += 1\n",
    "        else:\n",
    "            print(text_script)\n",
    "            print('-----' * 4)\n",
    "            \n",
    "print(count, len(text_files)) "
   ]
  },
  {
   "cell_type": "markdown",
   "id": "d5454839-40b7-4a2f-8062-1c916f476d0b",
   "metadata": {},
   "source": [
    "## File Conversion to MEMMAP"
   ]
  },
  {
   "cell_type": "code",
   "execution_count": null,
   "id": "54c8ca5d-ab05-4e61-a281-95751e12fc64",
   "metadata": {},
   "outputs": [],
   "source": [
    "ref_headers = ['EEG FP1-REF', 'EEG FP2-REF', 'EEG F3-REF', 'EEG F4-REF', \n",
    "               'EEG C3-REF', 'EEG C4-REF', 'EEG P3-REF', 'EEG P4-REF', \n",
    "               'EEG O1-REF', 'EEG O2-REF', 'EEG F7-REF', 'EEG F8-REF', \n",
    "               'EEG T3-REF', 'EEG T4-REF', 'EEG T5-REF', 'EEG T6-REF', \n",
    "               'EEG A1-REF', 'EEG A2-REF', 'EEG FZ-REF', 'EEG CZ-REF', \n",
    "               'EEG PZ-REF', 'EEG T1-REF', 'EEG T2-REF', 'EEG EKG1-REF']\n",
    "C = len(ref_headers)\n",
    "\n",
    "signal_labels_dict = dict()\n",
    "\n",
    "for i, edf_file in enumerate(tqdm(glob.glob(os.path.join(origin_path, '*/*/*/*/*/*/*.edf')))):\n",
    "    if os.path.basename(edf_file) in ['00006563_s010_t000.edf', \n",
    "                                      '00006904_s004_t000.edf', \n",
    "                                      '00006904_s005_t000.edf']:\n",
    "        continue\n",
    "        \n",
    "    signals, signal_headers, edf_header = pyedflib.highlevel.read_edf(edf_file)\n",
    "    \n",
    "    for sh in signal_headers:\n",
    "        signal_labels_dict[sh['label']] = signal_labels_dict.get(sh['label'], 0) + 1\n",
    "\n",
    "    signal_array = np.zeros((C, *signals[0].shape), dtype=np.float32)        \n",
    "    \n",
    "    for k, ch in enumerate(ref_headers):\n",
    "        idx = -1\n",
    "        for kk, sh in enumerate(signal_headers):\n",
    "            if ch == sh['label']:\n",
    "                idx = kk\n",
    "        \n",
    "        if idx < 0:\n",
    "            raise ValueError(f\"{edf_file} \\n\\t does not have {ch} label.\")\n",
    "        signal_array[k] = signals[idx]\n",
    "    signals = signal_array\n",
    "    \n",
    "    train_or_eval = edf_file.split('edf')[1].split('01_tcp_ar')[0].split('\\\\')[1]\n",
    "    pathology = edf_file.split('edf')[1].split('01_tcp_ar')[0].split('\\\\')[2]\n",
    "    memmap_file = os.path.join(desired_path, train_or_eval, pathology, os.path.basename(edf_file).split('.edf')[0] + '.dat')\n",
    "    os.makedirs(os.path.dirname(memmap_file), exist_ok=True)\n",
    "    fp = np.memmap(memmap_file, \n",
    "                   dtype='float32', mode='w+', shape=signals.shape)\n",
    "    fp[:] = signals[:]\n",
    "    fp.flush()\n",
    "\n",
    "print(signal_labels_dict)"
   ]
  },
  {
   "cell_type": "code",
   "execution_count": null,
   "id": "ab945fc6-028e-46a2-b23c-feb02a8eabaf",
   "metadata": {},
   "outputs": [],
   "source": [
    "np.memmap(r\"C:\\Users\\Minjae\\Desktop\\EEG_Project\\local\\dataset\\tuab\\eval\\abnormal\\00000768_s003_t000_00.dat\", \n",
    "          dtype=\"float32\", mode=\"r\")  == np.memmap(r\"C:\\Users\\Minjae\\Desktop\\EEG_Project\\local\\dataset\\tuab\\eval\\abnormal\\00000768_s003_t000.dat\", \n",
    "          dtype=\"float32\", mode=\"r\")"
   ]
  },
  {
   "cell_type": "code",
   "execution_count": null,
   "id": "0c415b03-3c07-4681-baae-341313b0bf07",
   "metadata": {},
   "outputs": [],
   "source": [
    "import os\n",
    "import glob\n",
    "import pyedflib\n",
    "import numpy as np\n",
    "from tqdm import tqdm\n",
    "\n",
    "ref_headers = ['EEG FP1-REF', 'EEG FP2-REF', 'EEG F3-REF', 'EEG F4-REF',\n",
    "               'EEG C3-REF', 'EEG C4-REF', 'EEG P3-REF', 'EEG P4-REF',\n",
    "               'EEG O1-REF', 'EEG O2-REF', 'EEG F7-REF', 'EEG F8-REF',\n",
    "               'EEG T3-REF', 'EEG T4-REF', 'EEG T5-REF', 'EEG T6-REF',\n",
    "               'EEG A1-REF', 'EEG A2-REF', 'EEG FZ-REF', 'EEG CZ-REF',\n",
    "               'EEG PZ-REF', 'EEG T1-REF', 'EEG T2-REF', 'EEG EKG1-REF']\n",
    "\n",
    "signal_labels_dict = {}\n",
    "\n",
    "for i, edf_file in enumerate(tqdm(glob.glob(os.path.join(origin_path, '*/*/*/*/*/*/*.edf')))):\n",
    "    if os.path.basename(edf_file) in ['00006563_s010_t000.edf',\n",
    "                                      '00006904_s004_t000.edf',\n",
    "                                      '00006904_s005_t000.edf']:\n",
    "        continue\n",
    "\n",
    "    signals, signal_headers, edf_header = pyedflib.highlevel.read_edf(edf_file)\n",
    "\n",
    "    for sh in signal_headers:\n",
    "        signal_labels_dict[sh['label']] = signal_labels_dict.get(sh['label'], 0) + 1\n",
    "\n",
    "    signal_array = np.zeros((len(ref_headers), *signals[0].shape), dtype=np.float32)\n",
    "    label_indices = {label: i for i, label in enumerate(ref_headers)}\n",
    "\n",
    "    for kk, sh in enumerate(signal_headers):\n",
    "        idx = label_indices.get(sh['label'], -1)\n",
    "        if idx >= 0:\n",
    "            signal_array[idx] = signals[kk]\n",
    "\n",
    "    train_or_eval, pathology, _ = edf_file.split('edf')[1].split('01_tcp_ar')[0].split('\\\\')[1:4]\n",
    "    memmap_file = os.path.join(desired_path, train_or_eval, pathology, os.path.basename(edf_file).split('.edf')[0] + '.dat')\n",
    "    os.makedirs(os.path.dirname(memmap_file), exist_ok=True)\n",
    "    signal_array.tofile(memmap_file)\n",
    "\n",
    "print(signal_labels_dict)\n"
   ]
  },
  {
   "cell_type": "markdown",
   "id": "e2611ddc-8bae-4491-9837-ace8c791fcaf",
   "metadata": {
    "pycharm": {
     "name": "#%% md\n"
    }
   },
   "source": [
    "---\n",
    "## Dataset and loader"
   ]
  },
  {
   "cell_type": "code",
   "execution_count": null,
   "id": "c33a7502-4531-48e5-aedf-d6e293dd6047",
   "metadata": {},
   "outputs": [],
   "source": [
    "config = {}\n",
    "config['dataset_path'] = './local/dataset/tuab/'\n",
    "config['file_format'] = 'memmap'\n",
    "config['seq_length'] = 2500\n",
    "config['EKG'] = 'O'\n",
    "config['device'] = 'cpu'\n",
    "config['minibatch'] = 256\n",
    "config['input_norm'] = 'dataset'\n",
    "config['use_age'] = 'no'\n",
    "train_loader, val_loader, test_loader, multicrop_test_loader = build_dataset_for_tuab_train(config, verbose=True)"
   ]
  },
  {
   "cell_type": "code",
   "execution_count": null,
   "id": "8ec16a40-683e-4b45-aa26-9442e7762cee",
   "metadata": {},
   "outputs": [],
   "source": [
    "print(len(train_loader.dataset), len(val_loader.dataset), len(test_loader.dataset))"
   ]
  },
  {
   "cell_type": "code",
   "execution_count": null,
   "id": "70413e5e-0753-49ac-b5dd-ebadcf207378",
   "metadata": {},
   "outputs": [],
   "source": [
    "train_loader.dataset[0]"
   ]
  },
  {
   "cell_type": "code",
   "execution_count": null,
   "id": "34aefd1e-af95-44c2-9ab1-65b93c76d4d2",
   "metadata": {},
   "outputs": [],
   "source": []
  }
 ],
 "metadata": {
  "kernelspec": {
   "display_name": "Python 3 (ipykernel)",
   "language": "python",
   "name": "python3"
  },
  "language_info": {
   "codemirror_mode": {
    "name": "ipython",
    "version": 3
   },
   "file_extension": ".py",
   "mimetype": "text/x-python",
   "name": "python",
   "nbconvert_exporter": "python",
   "pygments_lexer": "ipython3",
   "version": "3.9.12"
  }
 },
 "nbformat": 4,
 "nbformat_minor": 5
}
