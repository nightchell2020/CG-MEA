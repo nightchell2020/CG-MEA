{
 "cells": [
  {
   "cell_type": "markdown",
   "id": "e32df52f-7226-4197-8d6c-6a204a0ee37e",
   "metadata": {
    "pycharm": {
     "name": "#%% md\n"
    }
   },
   "source": [
    "# TUAB\n",
    "\n",
    "This notebook looks around the Temple University Hospital EEG Abnormal Corpus (`TUAB`) dataset and convert the file format from the `EDF` to `NumPy memmap` for the speed-up."
   ]
  },
  {
   "cell_type": "markdown",
   "id": "ee7f6701-3340-4f9d-9e96-bca33a6f5cfb",
   "metadata": {
    "pycharm": {
     "name": "#%% md\n"
    }
   },
   "source": [
    "-----\n",
    "\n",
    "## Configure environments"
   ]
  },
  {
   "cell_type": "code",
   "execution_count": 3,
   "id": "7f0afeb3-ed95-4142-897e-4b816d02b2ed",
   "metadata": {
    "pycharm": {
     "name": "#%%\n"
    }
   },
   "outputs": [
    {
     "name": "stdout",
     "output_type": "stream",
     "text": [
      "C:\\Users\\Minjae\\Desktop\\EEG_Project\n"
     ]
    }
   ],
   "source": [
    "# for auto-reloading external modules\n",
    "# see http://stackoverflow.com/questions/1907993/autoreload-of-modules-in-ipython\n",
    "%load_ext autoreload\n",
    "%autoreload 2\n",
    "%cd .."
   ]
  },
  {
   "cell_type": "code",
   "execution_count": 4,
   "id": "73402311-6b5a-4ca9-90e3-68655e1a9c59",
   "metadata": {
    "pycharm": {
     "name": "#%%\n"
    }
   },
   "outputs": [],
   "source": [
    "# Load some packages\n",
    "import os\n",
    "import glob\n",
    "\n",
    "import math\n",
    "import json\n",
    "import pyedflib\n",
    "import numpy as np\n",
    "\n",
    "import pprint\n",
    "from tqdm.auto import tqdm\n",
    "\n",
    "# custom package\n",
    "from datasets.temple_eeg_dataset import *\n",
    "from datasets.temple_eeg_script import build_dataset_for_tuab_train\n",
    "from datasets.pipeline import *"
   ]
  },
  {
   "cell_type": "markdown",
   "id": "77ae7fc8-09e4-40b0-9043-558e4a428f5e",
   "metadata": {},
   "source": [
    "---\n",
    "## `TUAB` dataset"
   ]
  },
  {
   "cell_type": "code",
   "execution_count": 3,
   "id": "6b46fa14-9fe5-4f39-944f-705733f7a327",
   "metadata": {
    "pycharm": {
     "name": "#%%\n"
    }
   },
   "outputs": [],
   "source": [
    "# Data file path\n",
    "origin_path = r'H:\\Other_DB\\Temple_EEG\\tuh_eeg_abnormal\\v2.0.0\\edf'\n",
    "desired_path = r'local/dataset/tuab/'"
   ]
  },
  {
   "cell_type": "markdown",
   "id": "a46e5eb0-561c-4b37-b39a-2d7f71dffa1b",
   "metadata": {},
   "source": [
    "### Age"
   ]
  },
  {
   "cell_type": "code",
   "execution_count": null,
   "id": "b3123035-2cd4-4aad-9831-644d02395880",
   "metadata": {},
   "outputs": [],
   "source": [
    "count = 0\n",
    "text_files = glob.glob(os.path.join(origin_path, 'train/normal/01_tcp_ar/*/*/*/*.txt'))\n",
    "for filename in text_files:\n",
    "    with open(filename, 'rt', encoding='UTF-8') as f:\n",
    "        text_script = f.read()\n",
    "        if 'year' in text_script:\n",
    "            count += 1\n",
    "        else:\n",
    "            print(text_script)\n",
    "            print('-----' * 4)\n",
    "            \n",
    "print(count, len(text_files)) "
   ]
  },
  {
   "cell_type": "markdown",
   "id": "d5454839-40b7-4a2f-8062-1c916f476d0b",
   "metadata": {},
   "source": [
    "## File Conversion to MEMMAP"
   ]
  },
  {
   "cell_type": "code",
   "execution_count": 4,
   "id": "54c8ca5d-ab05-4e61-a281-95751e12fc64",
   "metadata": {},
   "outputs": [
    {
     "data": {
      "application/json": {
       "ascii": false,
       "bar_format": null,
       "colour": null,
       "elapsed": 0.011000633239746094,
       "initial": 0,
       "n": 0,
       "ncols": null,
       "nrows": 17,
       "postfix": null,
       "prefix": "",
       "rate": null,
       "total": 2993,
       "unit": "it",
       "unit_divisor": 1000,
       "unit_scale": false
      },
      "application/vnd.jupyter.widget-view+json": {
       "model_id": "5a00d0c5032543a3bde812aa4f69619c",
       "version_major": 2,
       "version_minor": 0
      },
      "text/plain": [
       "  0%|          | 0/2993 [00:00<?, ?it/s]"
      ]
     },
     "metadata": {},
     "output_type": "display_data"
    },
    {
     "name": "stdout",
     "output_type": "stream",
     "text": [
      "{'EEG FP1-REF': 2990, 'EEG FP2-REF': 2990, 'EEG F3-REF': 2990, 'EEG F4-REF': 2990, 'EEG C3-REF': 2990, 'EEG C4-REF': 2990, 'EEG P3-REF': 2990, 'EEG P4-REF': 2990, 'EEG O1-REF': 2990, 'EEG O2-REF': 2990, 'EEG F7-REF': 2990, 'EEG F8-REF': 2990, 'EEG T3-REF': 2990, 'EEG T4-REF': 2990, 'EEG T5-REF': 2990, 'EEG T6-REF': 2990, 'EEG A1-REF': 2990, 'EEG A2-REF': 2990, 'EEG FZ-REF': 2990, 'EEG CZ-REF': 2990, 'EEG PZ-REF': 2990, 'EEG ROC-REF': 2786, 'EEG LOC-REF': 2786, 'EEG EKG1-REF': 2990, 'EEG T1-REF': 2990, 'EEG T2-REF': 2990, 'PHOTIC-REF': 2836, 'IBI': 2990, 'BURSTS': 2990, 'SUPPR': 2990, 'EMG-REF': 1814, 'EEG 26-REF': 1663, 'EEG 27-REF': 1638, 'EEG 28-REF': 1638, 'EEG 29-REF': 1638, 'EEG 30-REF': 1638, 'EEG 31-REF': 111, 'EEG 32-REF': 111, 'EEG C3P-REF': 111, 'EEG C4P-REF': 111, 'EEG SP1-REF': 105, 'EEG SP2-REF': 105, 'EEG PG1-REF': 2, 'EEG PG2-REF': 2}\n"
     ]
    }
   ],
   "source": [
    "ref_headers = ['EEG FP1-REF', 'EEG FP2-REF', 'EEG F3-REF', 'EEG F4-REF', \n",
    "               'EEG C3-REF', 'EEG C4-REF', 'EEG P3-REF', 'EEG P4-REF', \n",
    "               'EEG O1-REF', 'EEG O2-REF', 'EEG F7-REF', 'EEG F8-REF', \n",
    "               'EEG T3-REF', 'EEG T4-REF', 'EEG T5-REF', 'EEG T6-REF', \n",
    "               'EEG A1-REF', 'EEG A2-REF', 'EEG FZ-REF', 'EEG CZ-REF', \n",
    "               'EEG PZ-REF', 'EEG T1-REF', 'EEG T2-REF', 'EEG EKG1-REF']\n",
    "C = len(ref_headers)\n",
    "\n",
    "signal_labels_dict = dict()\n",
    "\n",
    "for i, edf_file in enumerate(tqdm(glob.glob(os.path.join(origin_path, '*/*/*/*/*/*/*.edf')))):\n",
    "    if os.path.basename(edf_file) in ['00006563_s010_t000.edf', \n",
    "                                      '00006904_s004_t000.edf', \n",
    "                                      '00006904_s005_t000.edf']:\n",
    "        continue\n",
    "        \n",
    "    signals, signal_headers, edf_header = pyedflib.highlevel.read_edf(edf_file)\n",
    "    \n",
    "    for sh in signal_headers:\n",
    "        signal_labels_dict[sh['label']] = signal_labels_dict.get(sh['label'], 0) + 1\n",
    "\n",
    "    signal_array = np.zeros((C, *signals[0].shape), dtype=np.float32)        \n",
    "    \n",
    "    for k, ch in enumerate(ref_headers):\n",
    "        idx = -1\n",
    "        for kk, sh in enumerate(signal_headers):\n",
    "            if ch == sh['label']:\n",
    "                idx = kk\n",
    "        \n",
    "        if idx < 0:\n",
    "            raise ValueError(f\"{edf_file} \\n\\t does not have {ch} label.\")\n",
    "        signal_array[k] = signals[idx]\n",
    "    signals = signal_array\n",
    "    \n",
    "    train_or_eval = edf_file.split('edf')[1].split('01_tcp_ar')[0].split('\\\\')[1]\n",
    "    pathology = edf_file.split('edf')[1].split('01_tcp_ar')[0].split('\\\\')[2]\n",
    "    memmap_file = os.path.join(desired_path, train_or_eval, pathology, os.path.basename(edf_file).split('.edf')[0] + '.dat')\n",
    "    os.makedirs(os.path.dirname(memmap_file), exist_ok=True)\n",
    "    fp = np.memmap(memmap_file, \n",
    "                   dtype='float32', mode='w+', shape=signals.shape)\n",
    "    fp[:] = signals[:]\n",
    "    fp.flush()\n",
    "\n",
    "print(signal_labels_dict)"
   ]
  },
  {
   "cell_type": "code",
   "execution_count": null,
   "id": "ab945fc6-028e-46a2-b23c-feb02a8eabaf",
   "metadata": {},
   "outputs": [],
   "source": [
    "np.memmap(r\"C:\\Users\\Minjae\\Desktop\\EEG_Project\\local\\dataset\\tuab\\eval\\abnormal\\00000768_s003_t000_00.dat\", \n",
    "          dtype=\"int32\", mode=\"r\")  == np.memmap(r\"C:\\Users\\Minjae\\Desktop\\EEG_Project\\local\\dataset\\tuab\\eval\\abnormal\\00000768_s003_t000.dat\", \n",
    "          dtype=\"int32\", mode=\"r\")"
   ]
  },
  {
   "cell_type": "code",
   "execution_count": null,
   "id": "0c415b03-3c07-4681-baae-341313b0bf07",
   "metadata": {},
   "outputs": [],
   "source": [
    "import os\n",
    "import glob\n",
    "import pyedflib\n",
    "import numpy as np\n",
    "from tqdm import tqdm\n",
    "\n",
    "ref_headers = ['EEG FP1-REF', 'EEG FP2-REF', 'EEG F3-REF', 'EEG F4-REF',\n",
    "               'EEG C3-REF', 'EEG C4-REF', 'EEG P3-REF', 'EEG P4-REF',\n",
    "               'EEG O1-REF', 'EEG O2-REF', 'EEG F7-REF', 'EEG F8-REF',\n",
    "               'EEG T3-REF', 'EEG T4-REF', 'EEG T5-REF', 'EEG T6-REF',\n",
    "               'EEG A1-REF', 'EEG A2-REF', 'EEG FZ-REF', 'EEG CZ-REF',\n",
    "               'EEG PZ-REF', 'EEG T1-REF', 'EEG T2-REF', 'EEG EKG1-REF']\n",
    "\n",
    "signal_labels_dict = {}\n",
    "\n",
    "for i, edf_file in enumerate(tqdm(glob.glob(os.path.join(origin_path, '*/*/*/*/*/*/*.edf')))):\n",
    "    if os.path.basename(edf_file) in ['00006563_s010_t000.edf',\n",
    "                                      '00006904_s004_t000.edf',\n",
    "                                      '00006904_s005_t000.edf']:\n",
    "        continue\n",
    "\n",
    "    signals, signal_headers, edf_header = pyedflib.highlevel.read_edf(edf_file)\n",
    "\n",
    "    for sh in signal_headers:\n",
    "        signal_labels_dict[sh['label']] = signal_labels_dict.get(sh['label'], 0) + 1\n",
    "\n",
    "    signal_array = np.zeros((len(ref_headers), *signals[0].shape), dtype=np.float32)\n",
    "    label_indices = {label: i for i, label in enumerate(ref_headers)}\n",
    "\n",
    "    for kk, sh in enumerate(signal_headers):\n",
    "        idx = label_indices.get(sh['label'], -1)\n",
    "        if idx >= 0:\n",
    "            signal_array[idx] = signals[kk]\n",
    "\n",
    "    train_or_eval, pathology, _ = edf_file.split('edf')[1].split('01_tcp_ar')[0].split('\\\\')[1:4]\n",
    "    memmap_file = os.path.join(desired_path, train_or_eval, pathology, os.path.basename(edf_file).split('.edf')[0] + '.dat')\n",
    "    os.makedirs(os.path.dirname(memmap_file), exist_ok=True)\n",
    "    signal_array.tofile(memmap_file)\n",
    "\n",
    "print(signal_labels_dict)\n"
   ]
  },
  {
   "cell_type": "markdown",
   "id": "e2611ddc-8bae-4491-9837-ace8c791fcaf",
   "metadata": {
    "pycharm": {
     "name": "#%% md\n"
    }
   },
   "source": [
    "---\n",
    "## Dataset and loader"
   ]
  },
  {
   "cell_type": "code",
   "execution_count": 5,
   "id": "c33a7502-4531-48e5-aedf-d6e293dd6047",
   "metadata": {},
   "outputs": [
    {
     "name": "stdout",
     "output_type": "stream",
     "text": [
      "\n",
      "================================================================================\n",
      "================================================================================\n",
      "\n",
      "WARNING: run_mode is not specified.\n",
      " \t==> run_mode is set to \"train\" automatically.\n",
      "\n",
      "================================================================================\n",
      "================================================================================\n",
      "\n",
      "transform: Compose(\n",
      "    EegRandomCrop(crop_length=2500, length_limit=10000000, multiple=1, latency=0, segment_simulation=False, return_timing=False, reject_events=False)\n",
      "    EegToTensor()\n",
      ")\n",
      "\n",
      "----------------------------------------------------------------------------------------------------\n",
      "\n",
      "transform_multicrop: Compose(\n",
      "    EegRandomCrop(crop_length=2500, length_limit=10000000, multiple=8, latency=0, segment_simulation=False, return_timing=False, reject_events=False)\n",
      "    EegToTensor()\n",
      ")\n",
      "\n",
      "----------------------------------------------------------------------------------------------------\n",
      "\n",
      "\n",
      "task config:\n",
      "{'class_label_to_name': ['Normal', 'Abnormal'],\n",
      " 'class_name_to_label': {'Abnormal': 1, 'Normal': 0},\n",
      " 'signal_header': ['EEG FP1-REF', 'EEG FP2-REF', 'EEG F3-REF', 'EEG F4-REF',\n",
      "                   'EEG C3-REF', 'EEG C4-REF', 'EEG P3-REF', 'EEG P4-REF',\n",
      "                   'EEG O1-REF', 'EEG O2-REF', 'EEG F7-REF', 'EEG F8-REF',\n",
      "                   'EEG T3-REF', 'EEG T4-REF', 'EEG T5-REF', 'EEG T6-REF',\n",
      "                   'EEG A1-REF', 'EEG A2-REF', 'EEG FZ-REF', 'EEG CZ-REF',\n",
      "                   'EEG PZ-REF', 'EEG T1-REF', 'EEG T2-REF', 'EEG EKG1-REF'],\n",
      " 'task_description': 'Pathological classification of [Normal] and [Abnormal] '\n",
      "                     'EEG',\n",
      " 'task_name': 'Temple University Hospital Abnormal Corpus v2.0.0'}\n",
      "\n",
      " ---------------------------------------------------------------------------------------------------- \n",
      "\n",
      "train_dataset[0].keys():\n",
      "dict_keys(['serial', 'full_path', 'class_name', 'class_label', 'signal', 'age'])\n",
      "train signal shape: torch.Size([2500])\n",
      "\n",
      "----------------------------------------------------------------------------------------------------\n",
      "\n",
      "val_dataset[0].keys():\n",
      "dict_keys(['serial', 'full_path', 'class_name', 'class_label', 'signal', 'age'])\n",
      "\n",
      "----------------------------------------------------------------------------------------------------\n",
      "\n",
      "test_dataset[0].keys():\n",
      "dict_keys(['serial', 'full_path', 'class_name', 'class_label', 'signal', 'age'])\n",
      "\n",
      "----------------------------------------------------------------------------------------------------\n",
      "\n",
      "task config:\n",
      "{'class_label_to_name': ['Normal', 'Abnormal'],\n",
      " 'class_name_to_label': {'Abnormal': 1, 'Normal': 0},\n",
      " 'signal_header': ['EEG FP1-REF', 'EEG FP2-REF', 'EEG F3-REF', 'EEG F4-REF',\n",
      "                   'EEG C3-REF', 'EEG C4-REF', 'EEG P3-REF', 'EEG P4-REF',\n",
      "                   'EEG O1-REF', 'EEG O2-REF', 'EEG F7-REF', 'EEG F8-REF',\n",
      "                   'EEG T3-REF', 'EEG T4-REF', 'EEG T5-REF', 'EEG T6-REF',\n",
      "                   'EEG A1-REF', 'EEG A2-REF', 'EEG FZ-REF', 'EEG CZ-REF',\n",
      "                   'EEG PZ-REF', 'EEG T1-REF', 'EEG T2-REF', 'EEG EKG1-REF'],\n",
      " 'task_description': 'Pathological classification of [Normal] and [Abnormal] '\n",
      "                     'EEG',\n",
      " 'task_name': 'Temple University Hospital Abnormal Corpus v2.0.0'}\n",
      "\n",
      " ---------------------------------------------------------------------------------------------------- \n",
      "\n",
      "dataset[0].keys():\n",
      "dict_keys(['serial', 'full_path', 'class_name', 'class_label', 'signal', 'age'])\n",
      "signal shape: torch.Size([24, 2500])\n",
      "\n",
      "----------------------------------------------------------------------------------------------------\n",
      "\n",
      "preprocess_train: Sequential(\n",
      "  (0): EegToDevice(device='cpu')\n",
      "  (1): EegNormalizeAge(mean=tensor([0.]), std=tensor([0.]), eps=1e-08, std_eps=tensor([1.0000e-08]))\n",
      "  (2): EegNormalizeMeanStd(mean=tensor([[[-17461858.0000],\n",
      "           [-15547418.0000],\n",
      "           [-17620588.0000],\n",
      "           [-15600453.0000],\n",
      "           [-14851755.0000],\n",
      "           [-17158020.0000],\n",
      "           [-15584352.0000],\n",
      "           [-17869616.0000],\n",
      "           [-13152550.0000],\n",
      "           [ -6525356.0000],\n",
      "           [  -874462.6875],\n",
      "           [  4032538.5000],\n",
      "           [ -7822541.5000],\n",
      "           [ -1310064.6250],\n",
      "           [-18272238.0000],\n",
      "           [ -5628287.5000],\n",
      "           [  1866126.7500],\n",
      "           [ 26046140.0000],\n",
      "           [ -5423578.5000],\n",
      "           [-16698843.0000],\n",
      "           [  4111039.0000],\n",
      "           [ 18703494.0000],\n",
      "           [ 20073750.0000],\n",
      "           [-91947664.0000]]]), std=tensor([[[1.0060e+09],\n",
      "           [1.0108e+09],\n",
      "           [1.0065e+09],\n",
      "           [1.0144e+09],\n",
      "           [1.0055e+09],\n",
      "           [1.0100e+09],\n",
      "           [1.0064e+09],\n",
      "           [1.0066e+09],\n",
      "           [1.0177e+09],\n",
      "           [1.0253e+09],\n",
      "           [1.0186e+09],\n",
      "           [1.0264e+09],\n",
      "           [1.0145e+09],\n",
      "           [1.0255e+09],\n",
      "           [1.0134e+09],\n",
      "           [1.0247e+09],\n",
      "           [1.0102e+09],\n",
      "           [1.0227e+09],\n",
      "           [1.0021e+09],\n",
      "           [9.9983e+08],\n",
      "           [1.0074e+09],\n",
      "           [1.0174e+09],\n",
      "           [1.0225e+09],\n",
      "           [1.0197e+09]]]), eps=1e-08, std_eps=tensor([[[1.0060e+09],\n",
      "           [1.0108e+09],\n",
      "           [1.0065e+09],\n",
      "           [1.0144e+09],\n",
      "           [1.0055e+09],\n",
      "           [1.0100e+09],\n",
      "           [1.0064e+09],\n",
      "           [1.0066e+09],\n",
      "           [1.0177e+09],\n",
      "           [1.0253e+09],\n",
      "           [1.0186e+09],\n",
      "           [1.0264e+09],\n",
      "           [1.0145e+09],\n",
      "           [1.0255e+09],\n",
      "           [1.0134e+09],\n",
      "           [1.0247e+09],\n",
      "           [1.0102e+09],\n",
      "           [1.0227e+09],\n",
      "           [1.0021e+09],\n",
      "           [9.9983e+08],\n",
      "           [1.0074e+09],\n",
      "           [1.0174e+09],\n",
      "           [1.0225e+09],\n",
      "           [1.0197e+09]]]))\n",
      ")\n",
      "\n",
      "----------------------------------------------------------------------------------------------------\n",
      "\n",
      "preprocess_test: Sequential(\n",
      "  (0): EegToDevice(device='cpu')\n",
      "  (1): EegNormalizeAge(mean=tensor([0.]), std=tensor([0.]), eps=1e-08, std_eps=tensor([1.0000e-08]))\n",
      "  (2): EegNormalizeMeanStd(mean=tensor([[[-17461858.0000],\n",
      "           [-15547418.0000],\n",
      "           [-17620588.0000],\n",
      "           [-15600453.0000],\n",
      "           [-14851755.0000],\n",
      "           [-17158020.0000],\n",
      "           [-15584352.0000],\n",
      "           [-17869616.0000],\n",
      "           [-13152550.0000],\n",
      "           [ -6525356.0000],\n",
      "           [  -874462.6875],\n",
      "           [  4032538.5000],\n",
      "           [ -7822541.5000],\n",
      "           [ -1310064.6250],\n",
      "           [-18272238.0000],\n",
      "           [ -5628287.5000],\n",
      "           [  1866126.7500],\n",
      "           [ 26046140.0000],\n",
      "           [ -5423578.5000],\n",
      "           [-16698843.0000],\n",
      "           [  4111039.0000],\n",
      "           [ 18703494.0000],\n",
      "           [ 20073750.0000],\n",
      "           [-91947664.0000]]]), std=tensor([[[1.0060e+09],\n",
      "           [1.0108e+09],\n",
      "           [1.0065e+09],\n",
      "           [1.0144e+09],\n",
      "           [1.0055e+09],\n",
      "           [1.0100e+09],\n",
      "           [1.0064e+09],\n",
      "           [1.0066e+09],\n",
      "           [1.0177e+09],\n",
      "           [1.0253e+09],\n",
      "           [1.0186e+09],\n",
      "           [1.0264e+09],\n",
      "           [1.0145e+09],\n",
      "           [1.0255e+09],\n",
      "           [1.0134e+09],\n",
      "           [1.0247e+09],\n",
      "           [1.0102e+09],\n",
      "           [1.0227e+09],\n",
      "           [1.0021e+09],\n",
      "           [9.9983e+08],\n",
      "           [1.0074e+09],\n",
      "           [1.0174e+09],\n",
      "           [1.0225e+09],\n",
      "           [1.0197e+09]]]), eps=1e-08, std_eps=tensor([[[1.0060e+09],\n",
      "           [1.0108e+09],\n",
      "           [1.0065e+09],\n",
      "           [1.0144e+09],\n",
      "           [1.0055e+09],\n",
      "           [1.0100e+09],\n",
      "           [1.0064e+09],\n",
      "           [1.0066e+09],\n",
      "           [1.0177e+09],\n",
      "           [1.0253e+09],\n",
      "           [1.0186e+09],\n",
      "           [1.0264e+09],\n",
      "           [1.0145e+09],\n",
      "           [1.0255e+09],\n",
      "           [1.0134e+09],\n",
      "           [1.0247e+09],\n",
      "           [1.0102e+09],\n",
      "           [1.0227e+09],\n",
      "           [1.0021e+09],\n",
      "           [9.9983e+08],\n",
      "           [1.0074e+09],\n",
      "           [1.0174e+09],\n",
      "           [1.0225e+09],\n",
      "           [1.0197e+09]]]))\n",
      ")\n",
      "\n",
      "----------------------------------------------------------------------------------------------------\n",
      "\n",
      "0 torch.Size([256, 24, 2500]) torch.Size([256]) torch.Size([256])\n",
      "1 torch.Size([256, 24, 2500]) torch.Size([256]) torch.Size([256])\n",
      "2 torch.Size([256, 24, 2500]) torch.Size([256]) torch.Size([256])\n",
      "3 torch.Size([256, 24, 2500]) torch.Size([256]) torch.Size([256])\n",
      "4 torch.Size([256, 24, 2500]) torch.Size([256]) torch.Size([256])\n",
      "\n",
      "----------------------------------------------------------------------------------------------------\n",
      "\n"
     ]
    }
   ],
   "source": [
    "config = {}\n",
    "config['dataset_path'] = './local/dataset/tuab/'\n",
    "config['file_format'] = 'memmap'\n",
    "config['seq_length'] = 2500\n",
    "config['EKG'] = 'O'\n",
    "config['device'] = 'cpu'\n",
    "config['minibatch'] = 256\n",
    "config['input_norm'] = 'dataset'\n",
    "config['use_age'] = 'no'\n",
    "train_loader, val_loader, test_loader, multicrop_test_loader = build_dataset_for_tuab_train(config, verbose=True)"
   ]
  },
  {
   "cell_type": "code",
   "execution_count": 6,
   "id": "8ec16a40-683e-4b45-aa26-9442e7762cee",
   "metadata": {},
   "outputs": [
    {
     "name": "stdout",
     "output_type": "stream",
     "text": [
      "2441 273 276\n"
     ]
    }
   ],
   "source": [
    "print(len(train_loader.dataset), len(val_loader.dataset), len(test_loader.dataset))"
   ]
  },
  {
   "cell_type": "code",
   "execution_count": 7,
   "id": "70413e5e-0753-49ac-b5dd-ebadcf207378",
   "metadata": {},
   "outputs": [
    {
     "data": {
      "text/plain": [
       "{'serial': '00000016_s005_t001.dat',\n",
       " 'full_path': './local/dataset/tuab/train/abnormal\\\\00000016_s005_t001.dat',\n",
       " 'class_name': 'abnormal',\n",
       " 'class_label': tensor(1),\n",
       " 'signal': tensor([[-1.0486e+09, -1.0887e+09,  1.0948e+09,  ..., -1.0329e+09,\n",
       "          -1.0339e+09, -1.0313e+09],\n",
       "         [-1.0487e+09, -1.0455e+09, -1.0554e+09,  ..., -1.0356e+09,\n",
       "          -1.0309e+09, -1.0319e+09],\n",
       "         [-1.0508e+09, -1.0553e+09, -1.0609e+09,  ..., -1.0398e+09,\n",
       "          -1.0431e+09, -1.0441e+09],\n",
       "         ...,\n",
       "         [-1.0655e+09, -1.0641e+09,  1.0833e+09,  ..., -1.0498e+09,\n",
       "          -1.0524e+09, -1.0486e+09],\n",
       "         [-1.0648e+09, -1.0651e+09, -1.0719e+09,  ...,  1.0853e+09,\n",
       "           1.0762e+09,  1.0891e+09],\n",
       "         [-1.0569e+09,  1.0782e+09,  1.0505e+09,  ...,  1.1082e+09,\n",
       "           1.1049e+09,  1.1028e+09]]),\n",
       " 'age': tensor(0.)}"
      ]
     },
     "execution_count": 7,
     "metadata": {},
     "output_type": "execute_result"
    }
   ],
   "source": [
    "train_loader.dataset[0]"
   ]
  },
  {
   "cell_type": "code",
   "execution_count": null,
   "id": "21e38118-f8ad-4ea2-bab5-ee1732e96d0b",
   "metadata": {},
   "outputs": [],
   "source": []
  }
 ],
 "metadata": {
  "kernelspec": {
   "display_name": "Python 3 (ipykernel)",
   "language": "python",
   "name": "python3"
  },
  "language_info": {
   "codemirror_mode": {
    "name": "ipython",
    "version": 3
   },
   "file_extension": ".py",
   "mimetype": "text/x-python",
   "name": "python",
   "nbconvert_exporter": "python",
   "pygments_lexer": "ipython3",
   "version": "3.9.12"
  }
 },
 "nbformat": 4,
 "nbformat_minor": 5
}
