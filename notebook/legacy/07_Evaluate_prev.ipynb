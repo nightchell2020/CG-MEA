{
 "cells": [
  {
   "cell_type": "markdown",
   "id": "d74515d5-5f25-477b-9a97-ed1f9b6d4c51",
   "metadata": {
    "pycharm": {
     "name": "#%% md\n"
    }
   },
   "source": [
    "# Evaluate\n",
    "\n",
    "The network trained by `05_Train_Sweep.ipynb` is evaluated in this notebook."
   ]
  },
  {
   "cell_type": "markdown",
   "id": "b8a2666f-6b4b-4748-9dca-2884347a1f0f",
   "metadata": {
    "pycharm": {
     "name": "#%% md\n"
    }
   },
   "source": [
    "-----\n",
    "\n",
    "## Load Packages"
   ]
  },
  {
   "cell_type": "code",
   "execution_count": 1,
   "id": "df587e38-b1a9-42c8-9b50-680200a9bec7",
   "metadata": {
    "pycharm": {
     "name": "#%%\n"
    }
   },
   "outputs": [],
   "source": [
    "# for auto-reloading external modules\n",
    "# see http://stackoverflow.com/questions/1907993/autoreload-of-modules-in-ipython\n",
    "%load_ext autoreload\n",
    "%autoreload 2\n",
    "%cd .."
   ]
  },
  {
   "cell_type": "code",
   "execution_count": 3,
   "id": "8fb41bf8-1713-4228-b799-0e1c87545a16",
   "metadata": {
    "pycharm": {
     "name": "#%%\n"
    }
   },
   "outputs": [],
   "source": [
    "# Load some packages\n",
    "import os\n",
    "import json\n",
    "import yaml\n",
    "from copy import deepcopy\n",
    "\n",
    "import math\n",
    "import numpy as np\n",
    "import torch\n",
    "import torch.nn as nn\n",
    "import torch.nn.functional as F\n",
    "import torch.optim as optim\n",
    "\n",
    "import pprint\n",
    "import matplotlib.pyplot as plt\n",
    "\n",
    "# custom package\n",
    "from datasets.caueeg_dataset import *\n",
    "from datasets.caueeg_script import *\n",
    "import models\n",
    "from train import *"
   ]
  },
  {
   "cell_type": "code",
   "execution_count": 4,
   "id": "d10e3f39-ed55-422c-b47f-376691cbeed6",
   "metadata": {
    "pycharm": {
     "name": "#%%\n"
    }
   },
   "outputs": [
    {
     "name": "stdout",
     "output_type": "stream",
     "text": [
      "PyTorch version: 1.11.0+cu113\n",
      "cuda is available.\n"
     ]
    }
   ],
   "source": [
    "print('PyTorch version:', torch.__version__)\n",
    "device = torch.device('cuda' if torch.cuda.is_available() else 'cpu')\n",
    "\n",
    "if torch.cuda.is_available(): print('cuda is available.')\n",
    "else: print('cuda is unavailable.') "
   ]
  },
  {
   "cell_type": "markdown",
   "id": "d2a62fa4-aa53-49d5-8ab4-2e2aaf7b65d1",
   "metadata": {
    "tags": [],
    "pycharm": {
     "name": "#%% md\n"
    }
   },
   "source": [
    "-----\n",
    "\n",
    "## Load the configuration which used during train phase"
   ]
  },
  {
   "cell_type": "code",
   "execution_count": null,
   "id": "bee4f853-3cad-4b01-8ee8-44ac9e49adbe",
   "metadata": {
    "pycharm": {
     "name": "#%%\n"
    }
   },
   "outputs": [],
   "source": [
    "model_name = 'zlypije8'\n",
    "model_path = os.path.join('local/checkpoint', model_name)"
   ]
  },
  {
   "cell_type": "code",
   "execution_count": null,
   "id": "90952e30-a7ca-4f36-b493-cf668cb1fbf7",
   "metadata": {
    "pycharm": {
     "name": "#%%\n"
    }
   },
   "outputs": [],
   "source": [
    "with open(os.path.join(model_path, 'config.yaml'), 'r') as f:\n",
    "    wandb_config = yaml.load(f, Loader=yaml.FullLoader)\n",
    "    \n",
    "config = {}\n",
    "for k, v in wandb_config.items():\n",
    "    if type(k) is str and (k.startswith('wandb') or k.startswith('_wandb')):\n",
    "        continue\n",
    "    config[k] = v['value']\n",
    "\n",
    "pprint.pprint(config)"
   ]
  },
  {
   "cell_type": "code",
   "execution_count": null,
   "id": "8e6266de-52d2-4db3-bca9-e54092b2759a",
   "metadata": {
    "pycharm": {
     "name": "#%%\n"
    }
   },
   "outputs": [],
   "source": [
    "# preprocessing procedure was changed.. (norm, channel drop) --> (channel drop, norm)\n",
    "config['signal_mean'] = np.delete(np.array(config['signal_mean']), 19, 0)\n",
    "config['signal_std'] = np.delete(np.array(config['signal_std']), 19, 0)"
   ]
  },
  {
   "cell_type": "markdown",
   "id": "d806de84-9e2a-4344-96b4-976d65f98bce",
   "metadata": {
    "pycharm": {
     "name": "#%% md\n"
    }
   },
   "source": [
    "-----\n",
    "\n",
    "## Build the dataset"
   ]
  },
  {
   "cell_type": "code",
   "execution_count": null,
   "id": "72743928-5752-4ca0-ada8-bc60784d138b",
   "metadata": {
    "pycharm": {
     "name": "#%%\n"
    }
   },
   "outputs": [],
   "source": [
    "config['data_path'] = 'local/dataset/02_Curated_Data_210705/'\n",
    "config['meta_path'] = 'local/dataset/02_Curated_Data_210705/metadata_debug.json'\n",
    "config['file_format'] = 'feather'\n",
    "config['minibatch'] = 256\n",
    "config['crop_multiple'] = 5\n",
    "config['crop_timing_analysis'] = True\n",
    "config['evaluation_phase'] = True\n",
    "# config['latency'] = 200 * 10  # 10 seconds\n",
    "# config['longer_crop_length'] = 20000 * 2\n",
    "config['device'] = device\n",
    "repeat = round(50 / config['crop_multiple'])\n",
    "\n",
    "_ = build_dataset(config, verbose=True)\n",
    "train_loader = _[0]\n",
    "val_loader = _[1]\n",
    "test_loader = _[2]\n",
    "test_loader_longer = _[3]\n",
    "preprocess_train = _[4]\n",
    "preprocess_test = _[5]"
   ]
  },
  {
   "cell_type": "markdown",
   "id": "0c85edd9-772b-4525-8acc-095850716b4e",
   "metadata": {
    "pycharm": {
     "name": "#%% md\n"
    }
   },
   "source": [
    "-----\n",
    "\n",
    "## Load the target model"
   ]
  },
  {
   "cell_type": "code",
   "execution_count": null,
   "id": "d88946aa-6d3c-4b14-869e-b558783b8148",
   "metadata": {
    "pycharm": {
     "name": "#%%\n"
    }
   },
   "outputs": [],
   "source": [
    "config['generator'] = getattr(models, config['generator'].split('.')[-1])\n",
    "\n",
    "if 'block' in config:\n",
    "    config['block'] = getattr(models, config['block'].split('.')[-1])\n",
    "\n",
    "model = config['generator'](**config).to(device)\n",
    "model_state = torch.load(os.path.join(model_path, config['model']))\n",
    "model.load_state_dict(model_state)"
   ]
  },
  {
   "cell_type": "markdown",
   "id": "68e5d21d-f620-4980-95b0-fb8d274f5d95",
   "metadata": {
    "pycharm": {
     "name": "#%% md\n"
    }
   },
   "source": [
    "-----\n",
    "\n",
    "## Evaluate the model"
   ]
  },
  {
   "cell_type": "code",
   "execution_count": null,
   "id": "2f523cdf-dc37-4ad4-9f53-3cfa564dfa0b",
   "metadata": {
    "pycharm": {
     "name": "#%%\n"
    }
   },
   "outputs": [],
   "source": [
    "# # train\n",
    "# train_acc, *_ = check_accuracy(model, train_loader, config, repeat=3)\n",
    "# val_acc, *_ = check_accuracy(model, val_loader, config, repeat=10)\n",
    "# test_acc, *_ = check_accuracy(model, test_loader, config, repeat=10)\n",
    "# test_longer_acc, *_ = check_accuracy(model, test_loader_longer, config, repeat=10)\n",
    "\n",
    "# print(train_acc, val_acc, test_acc, test_longer_acc)"
   ]
  },
  {
   "cell_type": "code",
   "execution_count": null,
   "id": "eaab3cf0-6ca9-4ea5-83a0-7ba7f950a371",
   "metadata": {
    "pycharm": {
     "name": "#%%\n"
    }
   },
   "outputs": [],
   "source": [
    "@torch.no_grad()\n",
    "def check_accuracy_extended_debug(model, loader, preprocess, config, repeat=1):\n",
    "    model.eval()\n",
    "\n",
    "    # for accuracy\n",
    "    correct, total = (0, 0)\n",
    "\n",
    "    # for confusion matrix\n",
    "    C = config['out_dims']\n",
    "    confusion_matrix = np.zeros((C, C), dtype=np.int32)\n",
    "\n",
    "    # for error table\n",
    "    error_table = {data['metadata']['serial']: {'GT': data['class_label'].item(),\n",
    "                                                'Pred': [0] * C} for data in loader.dataset}\n",
    "\n",
    "    # for crop timing\n",
    "    crop_timing = dict()\n",
    "\n",
    "    # for ROC curve\n",
    "    score = None\n",
    "    target = None\n",
    "\n",
    "    with torch.no_grad():\n",
    "        for k in range(repeat):\n",
    "            for sample_batched in loader:\n",
    "                # preprocessing (this includes to-device operation)\n",
    "                preprocess(sample_batched)\n",
    "\n",
    "                # apply model on whole batch directly on device\n",
    "                x = sample_batched['signal']\n",
    "                age = sample_batched['age']\n",
    "                y = sample_batched['class_label']\n",
    "                output = model(x, age)\n",
    "\n",
    "                if config['criterion'] == 'cross-entropy':\n",
    "                    s = F.softmax(output, dim=1)\n",
    "                elif config['criterion'] == 'multi-bce':\n",
    "                    s = torch.sigmoid(output)\n",
    "\n",
    "                # calculate accuracy\n",
    "                pred = s.argmax(dim=-1)\n",
    "                correct += pred.squeeze().eq(y).sum().item()\n",
    "                total += pred.shape[0]\n",
    "\n",
    "                if score is None:\n",
    "                    score = s.detach().cpu().numpy()\n",
    "                    target = y.detach().cpu().numpy()\n",
    "                else:\n",
    "                    score = np.concatenate((score, s.detach().cpu().numpy()), axis=0)\n",
    "                    target = np.concatenate((target, y.detach().cpu().numpy()), axis=0)\n",
    "\n",
    "                # confusion matrix\n",
    "                confusion_matrix += calculate_confusion_matrix(pred, y, num_classes=config['out_dims'])\n",
    "\n",
    "                # error table\n",
    "                for n in range(pred.shape[0]):\n",
    "                    serial = sample_batched['metadata'][n]['serial']\n",
    "                    error_table[serial]['Pred'][pred[n].item()] += 1\n",
    "                        \n",
    "                # crop timing\n",
    "                for n in range(pred.shape[0]):\n",
    "                    if config['crop_multiple'] == 1:\n",
    "                        st = sample_batched['metadata'][n]['start_point']\n",
    "                        if st not in crop_timing.keys():\n",
    "                            crop_timing[st] = {}\n",
    "                        if pred[n] == y[n]:\n",
    "                            crop_timing[st]['pos'] = crop_timing[st].get('pos', 0) + 1\n",
    "                        else:\n",
    "                            crop_timing[st]['neg'] = crop_timing[st].get('neg', 0) + 1\n",
    "                    else:\n",
    "                        for st in sample_batched['metadata'][n]['start_point']:\n",
    "                            if st not in crop_timing.keys():\n",
    "                                crop_timing[st] = {}\n",
    "                            if pred[n] == y[n]:\n",
    "                                crop_timing[st]['pos'] = crop_timing[st].get('pos', 0) + 1\n",
    "                            else:\n",
    "                                crop_timing[st]['neg'] = crop_timing[st].get('neg', 0) + 1\n",
    "                        \n",
    "    # error table update\n",
    "    error_table_serial = []\n",
    "    error_table_pred = []\n",
    "    error_table_gt = []\n",
    "\n",
    "    for serial in sorted(error_table.keys()):\n",
    "        error_table_serial.append(serial)\n",
    "        error_table_pred.append(error_table[serial]['Pred'])\n",
    "        error_table_gt.append(error_table[serial]['GT'])\n",
    "\n",
    "    error_table = {'Serial': error_table_serial,\n",
    "                   'Pred': error_table_pred,\n",
    "                   'GT': error_table_gt}\n",
    "    \n",
    "    accuracy = 100.0 * correct / total\n",
    "    return accuracy, score, target, confusion_matrix, error_table, crop_timing"
   ]
  },
  {
   "cell_type": "markdown",
   "id": "f0116501-0a1b-4460-92a4-f1c632993366",
   "metadata": {
    "pycharm": {
     "name": "#%% md\n"
    }
   },
   "source": [
    "### Train set"
   ]
  },
  {
   "cell_type": "code",
   "execution_count": null,
   "id": "266a7e96-bc3e-413e-849a-ed63ae59e16a",
   "metadata": {
    "pycharm": {
     "name": "#%%\n"
    }
   },
   "outputs": [],
   "source": [
    "_ = check_accuracy_extended_debug(model, train_loader, preprocess_test, config, repeat=repeat)\n",
    "train_acc = _[0]\n",
    "train_score = _[1]\n",
    "train_target = _[2]\n",
    "train_confusion = _[3]\n",
    "train_error_table = _[4]\n",
    "train_crop_timing = _[5]\n",
    "\n",
    "print(train_acc)"
   ]
  },
  {
   "cell_type": "code",
   "execution_count": null,
   "id": "802da575-01f7-4046-b1fd-64321adb58ba",
   "metadata": {
    "pycharm": {
     "name": "#%%\n"
    }
   },
   "outputs": [],
   "source": [
    "draw_roc_curve(train_score, train_target, config['class_label_to_name'], use_wandb=False)\n",
    "draw_confusion(train_confusion, config['class_label_to_name'], use_wandb=False)\n",
    "draw_error_table(train_error_table, use_wandb=False, fig_size=(60.0, 4.0))"
   ]
  },
  {
   "cell_type": "markdown",
   "id": "34d83768-0b92-41f8-9276-08f444ae3006",
   "metadata": {
    "pycharm": {
     "name": "#%% md\n"
    }
   },
   "source": [
    "### Validation set"
   ]
  },
  {
   "cell_type": "code",
   "execution_count": null,
   "id": "9bcce1ba-ccb0-4b77-aebc-b6ee966ab28c",
   "metadata": {
    "pycharm": {
     "name": "#%%\n"
    }
   },
   "outputs": [],
   "source": [
    "_ = check_accuracy_extended_debug(model, val_loader, preprocess_test, config, repeat=50)\n",
    "val_acc = _[0]\n",
    "val_score = _[1]\n",
    "val_target = _[2]\n",
    "val_confusion = _[3]\n",
    "val_error_table = _[4]\n",
    "val_crop_timing = _[5]\n",
    "\n",
    "print(val_acc)"
   ]
  },
  {
   "cell_type": "code",
   "execution_count": null,
   "id": "ceb56c9a-31e2-4bf4-8d19-5aa918390e59",
   "metadata": {
    "pycharm": {
     "name": "#%%\n"
    }
   },
   "outputs": [],
   "source": [
    "draw_roc_curve(val_score, val_target, config['class_label_to_name'], use_wandb=False)\n",
    "draw_confusion(val_confusion, config['class_label_to_name'], use_wandb=False)\n",
    "draw_error_table(val_error_table, use_wandb=False)"
   ]
  },
  {
   "cell_type": "markdown",
   "id": "6b0423d5-d26b-4a02-84a9-b4577b81cf82",
   "metadata": {
    "pycharm": {
     "name": "#%% md\n"
    }
   },
   "source": [
    "### Test set"
   ]
  },
  {
   "cell_type": "code",
   "execution_count": null,
   "id": "7572abf6-6c8d-429b-b18b-9eafbbe2b5b1",
   "metadata": {
    "pycharm": {
     "name": "#%%\n"
    }
   },
   "outputs": [],
   "source": [
    "_ = check_accuracy_extended_debug(model, test_loader, preprocess_test, config, repeat=50)\n",
    "test_acc = _[0]\n",
    "test_score = _[1]\n",
    "test_target = _[2]\n",
    "test_confusion = _[3]\n",
    "test_error_table = _[4]\n",
    "test_crop_timing = _[5]\n",
    "\n",
    "print(test_acc)"
   ]
  },
  {
   "cell_type": "code",
   "execution_count": null,
   "id": "153f97a7-1871-4f73-94e6-984a3c160e99",
   "metadata": {
    "pycharm": {
     "name": "#%%\n"
    }
   },
   "outputs": [],
   "source": [
    "draw_roc_curve(test_score, test_target, config['class_label_to_name'], use_wandb=False)\n",
    "draw_confusion(test_confusion, config['class_label_to_name'], use_wandb=False)\n",
    "draw_error_table(test_error_table, use_wandb=False)"
   ]
  },
  {
   "cell_type": "markdown",
   "id": "9d1d240c-1264-478a-88c3-5481ac520cd1",
   "metadata": {
    "pycharm": {
     "name": "#%% md\n"
    }
   },
   "source": [
    "### Test set (with test-time augmentation)"
   ]
  },
  {
   "cell_type": "code",
   "execution_count": null,
   "id": "643e8af7-e6cb-4b25-89b0-c115296be5e9",
   "metadata": {
    "pycharm": {
     "name": "#%%\n"
    }
   },
   "outputs": [],
   "source": [
    "_ = check_accuracy_extended_debug(model, test_loader_longer, preprocess_test, config, repeat=50)\n",
    "test_longer_acc = _[0]\n",
    "test_longer_score = _[1]\n",
    "test_longer_target = _[2]\n",
    "test_longer_confusion = _[3]\n",
    "test_longer_error_table = _[4]\n",
    "test_longer_crop_timing = _[5]\n",
    "\n",
    "print(test_longer_acc)"
   ]
  },
  {
   "cell_type": "code",
   "execution_count": null,
   "id": "e0d78977-2a2a-4a49-8802-3884c19aee07",
   "metadata": {
    "pycharm": {
     "name": "#%%\n"
    }
   },
   "outputs": [],
   "source": [
    "draw_roc_curve(test_longer_score, test_longer_target, config['class_label_to_name'], use_wandb=False)\n",
    "draw_confusion(test_longer_confusion, config['class_label_to_name'], use_wandb=False)\n",
    "draw_error_table(test_longer_error_table, use_wandb=False)"
   ]
  },
  {
   "cell_type": "markdown",
   "id": "a741cd35-65a8-458a-ad5e-a7cf9e66b43a",
   "metadata": {
    "pycharm": {
     "name": "#%% md\n"
    }
   },
   "source": [
    "-----\n",
    "\n",
    "## Examine whether the model has a bias related to the cropping starting time"
   ]
  },
  {
   "cell_type": "code",
   "execution_count": null,
   "id": "cd145cf6-1af1-4bed-9ee2-bf76a991a778",
   "metadata": {
    "pycharm": {
     "name": "#%%\n"
    }
   },
   "outputs": [],
   "source": [
    "train_pos = []\n",
    "train_neg = []\n",
    "\n",
    "for k, v in train_crop_timing.items():\n",
    "    for i in range(v.get('pos', 0)):\n",
    "        train_pos.append(k)\n",
    "    for i in range(v.get('neg', 0)):\n",
    "        train_neg.append(k)\n",
    "\n",
    "##\n",
    "\n",
    "val_pos = []\n",
    "val_neg = []\n",
    "\n",
    "for k, v in val_crop_timing.items():\n",
    "    for i in range(v.get('pos', 0)):\n",
    "        val_pos.append(k)\n",
    "    for i in range(v.get('neg', 0)):\n",
    "        val_neg.append(k)\n",
    "\n",
    "##\n",
    "\n",
    "test_pos = []\n",
    "test_neg = []\n",
    "\n",
    "for k, v in test_crop_timing.items():\n",
    "    for i in range(v.get('pos', 0)):\n",
    "        test_pos.append(k)\n",
    "    for i in range(v.get('neg', 0)):\n",
    "        test_neg.append(k)\n",
    "        \n",
    "##\n",
    "        \n",
    "test_longer_pos = []\n",
    "test_longer_neg = []\n",
    "\n",
    "for k, v in test_longer_crop_timing.items():\n",
    "    for i in range(v.get('pos', 0)):\n",
    "        test_longer_pos.append(k)\n",
    "    for i in range(v.get('neg', 0)):\n",
    "        test_longer_neg.append(k)"
   ]
  },
  {
   "cell_type": "code",
   "execution_count": null,
   "id": "8fd4b339-4d0c-4dc8-bafb-a75f89c8bbba",
   "metadata": {
    "pycharm": {
     "name": "#%%\n"
    }
   },
   "outputs": [],
   "source": [
    "fig = plt.figure(num=1, clear=True, figsize=(18, 10), constrained_layout=True)\n",
    "n_bins = 50\n",
    "density = False\n",
    "\n",
    "ax = fig.add_subplot(4, 1, 1)\n",
    "ax.hist(train_pos, bins=n_bins, color='g', alpha=0.7, density=density)\n",
    "ax.hist(train_neg, bins=n_bins, color='r', alpha=0.7, density=density)\n",
    "ax.set_title(f'Training Set: True/Neg Historgram by Random Crop Time')\n",
    "ax.set_xlabel('Random Crop Time')\n",
    "ax.set_ylabel('Count')\n",
    "\n",
    "ax = fig.add_subplot(4, 1, 2)\n",
    "ax.hist(val_pos, bins=n_bins, color='g', alpha=0.7, density=density)\n",
    "ax.hist(val_neg, bins=n_bins, color='r', alpha=0.7, density=density)\n",
    "ax.set_title(f'Validation Set: True/Neg Historgram by Random Crop Time')\n",
    "ax.set_xlabel('Random Crop Time')\n",
    "ax.set_ylabel('Count')\n",
    "\n",
    "ax = fig.add_subplot(4, 1, 3)\n",
    "ax.hist(test_pos, bins=n_bins, color='g', alpha=0.7, density=density)\n",
    "ax.hist(test_neg, bins=n_bins, color='r', alpha=0.7, density=density)\n",
    "ax.set_title(f'Test Set: True/Neg Historgram by Random Crop Time')\n",
    "ax.set_xlabel('Random Crop Time')\n",
    "ax.set_ylabel('Count')\n",
    "\n",
    "ax = fig.add_subplot(4, 1, 4)\n",
    "ax.hist(test_longer_pos, bins=n_bins, color='g', alpha=0.7, density=density)\n",
    "ax.hist(test_longer_neg, bins=n_bins, color='r', alpha=0.7, density=density)\n",
    "ax.set_title(f'Test Set with TTA: True/Neg Historgram by Random Crop Time')\n",
    "ax.set_xlabel('Random Crop Time')\n",
    "ax.set_ylabel('Count')\n",
    "\n",
    "plt.show()\n",
    "fig.clear()\n",
    "plt.close(fig)"
   ]
  },
  {
   "cell_type": "markdown",
   "id": "12e0ca82-cc3d-4303-bf31-7e4d7a375136",
   "metadata": {
    "pycharm": {
     "name": "#%% md\n"
    }
   },
   "source": [
    "-----\n",
    "\n",
    "## Evaluate the model with length limit"
   ]
  },
  {
   "cell_type": "code",
   "execution_count": null,
   "id": "ee2cea71-4ce8-44e8-85cb-3a6a1928ce8a",
   "metadata": {
    "pycharm": {
     "name": "#%%\n"
    }
   },
   "outputs": [],
   "source": [
    "with open(os.path.join(model_path, 'config.yaml'), 'r') as f:\n",
    "    wandb_config = yaml.load(f, Loader=yaml.FullLoader)\n",
    "    \n",
    "config = {}\n",
    "for k, v in wandb_config.items():\n",
    "    if type(k) is str and (k.startswith('wandb') or k.startswith('_wandb')):\n",
    "        continue\n",
    "    config[k] = v['value']"
   ]
  },
  {
   "cell_type": "code",
   "execution_count": null,
   "id": "663be353-3496-4674-8d3e-4206c5db55b7",
   "metadata": {
    "pycharm": {
     "name": "#%%\n"
    }
   },
   "outputs": [],
   "source": [
    "# preprocessing procedure was changed.. (norm, channel drop) --> (channel drop, norm)\n",
    "config['signal_mean'] = np.delete(np.array(config['signal_mean']), 19, 0)\n",
    "config['signal_std'] = np.delete(np.array(config['signal_std']), 19, 0)"
   ]
  },
  {
   "cell_type": "code",
   "execution_count": null,
   "id": "acd0cfc6-1ef3-4135-a5fb-5876ceb305ab",
   "metadata": {
    "pycharm": {
     "name": "#%%\n"
    }
   },
   "outputs": [],
   "source": [
    "config['data_path'] = 'local/dataset/02_Curated_Data_210705/'\n",
    "config['meta_path'] = 'local/dataset/02_Curated_Data_210705/metadata_debug.json'\n",
    "config['file_format'] = 'feather'\n",
    "config['minibatch'] = 256\n",
    "config['crop_multiple'] = 5\n",
    "# config['latency'] = 200 * 10  # 10 seconds\n",
    "config['evaluation_phase'] = True\n",
    "config['signal_length_limit'] = 200 * 60 * 7  # 7 minutes\n",
    "repeat = round(50 / config['crop_multiple'])\n",
    "config['device'] = device\n",
    "\n",
    "_ = build_dataset(config, verbose=True)\n",
    "train_loader = _[0]\n",
    "val_loader = _[1]\n",
    "test_loader = _[2]\n",
    "test_loader_longer = _[3]\n",
    "preprocess_train = _[4]\n",
    "preprocess_test = _[5]"
   ]
  },
  {
   "cell_type": "code",
   "execution_count": null,
   "id": "67152a06-610f-480d-9512-b3547ced808c",
   "metadata": {
    "pycharm": {
     "name": "#%%\n"
    }
   },
   "outputs": [],
   "source": [
    "# train\n",
    "train_acc = check_accuracy(model, train_loader, preprocess_test, config, repeat=repeat)\n",
    "val_acc = check_accuracy(model, val_loader, preprocess_test, config, repeat=repeat)\n",
    "test_acc = check_accuracy(model, test_loader, preprocess_test, config, repeat=repeat)\n",
    "test_longer_acc = check_accuracy(model, test_loader_longer, preprocess_test, config, repeat=repeat)\n",
    "\n",
    "print(train_acc, val_acc, test_acc, test_longer_acc)"
   ]
  },
  {
   "cell_type": "markdown",
   "id": "7b30742c-65ec-4052-bba6-4b40b7674928",
   "metadata": {
    "pycharm": {
     "name": "#%% md\n"
    }
   },
   "source": [
    "## Evaluate using random crop averaging"
   ]
  },
  {
   "cell_type": "code",
   "execution_count": null,
   "id": "bdc62f0d-03dd-4704-a4e0-b044e4e5f232",
   "metadata": {
    "pycharm": {
     "name": "#%%\n"
    }
   },
   "outputs": [],
   "source": [
    "with open(os.path.join(model_path, 'config.yaml'), 'r') as f:\n",
    "    wandb_config = yaml.load(f, Loader=yaml.FullLoader)\n",
    "    \n",
    "config = {}\n",
    "for k, v in wandb_config.items():\n",
    "    if type(k) is str and (k.startswith('wandb') or k.startswith('_wandb')):\n",
    "        continue\n",
    "    config[k] = v['value']"
   ]
  },
  {
   "cell_type": "code",
   "execution_count": null,
   "id": "24ddb992-920b-48cd-a136-1a9bbc0158f2",
   "metadata": {
    "pycharm": {
     "name": "#%%\n"
    }
   },
   "outputs": [],
   "source": [
    "# preprocessing procedure was changed.. (norm, channel drop) --> (channel drop, norm)\n",
    "config['signal_mean'] = np.delete(np.array(config['signal_mean']), 19, 0)\n",
    "config['signal_std'] = np.delete(np.array(config['signal_std']), 19, 0)"
   ]
  },
  {
   "cell_type": "code",
   "execution_count": null,
   "id": "76bf36d5-1e4e-4955-9bab-3614b8f673a2",
   "metadata": {
    "pycharm": {
     "name": "#%%\n"
    }
   },
   "outputs": [],
   "source": [
    "config['data_path'] = 'local/dataset/02_Curated_Data_210705/'\n",
    "config['meta_path'] = 'local/dataset/02_Curated_Data_210705/metadata_debug.json'\n",
    "config['file_format'] = 'feather'\n",
    "config['minibatch'] = 10\n",
    "config['crop_multiple'] = 10\n",
    "# config['latency'] = 200 * 10  # 10 seconds\n",
    "config['evaluation_phase'] = True\n",
    "# config['signal_length_limit'] = 200 * 60 * 7  # 7 minutes\n",
    "repeat = round(50 / config['crop_multiple'])\n",
    "config['device'] = device\n",
    "\n",
    "_ = build_dataset(config, verbose=True)\n",
    "train_loader = _[0]\n",
    "val_loader = _[1]\n",
    "test_loader = _[2]\n",
    "test_loader_longer = _[3]\n",
    "preprocess_train = _[4]\n",
    "preprocess_test = _[5]"
   ]
  },
  {
   "cell_type": "code",
   "execution_count": null,
   "id": "9afef863-96a2-4d04-8f62-e9bf37c03423",
   "metadata": {
    "pycharm": {
     "name": "#%%\n"
    }
   },
   "outputs": [],
   "source": [
    "@torch.no_grad()\n",
    "def check_accuracy_score_mean(model, loader, preprocess, config, repeat=1):\n",
    "    model.eval()\n",
    "\n",
    "    # for accuracy\n",
    "    correct, total = (0, 0)\n",
    "\n",
    "    with torch.no_grad():\n",
    "        for k in range(repeat):\n",
    "            for sample_batched in loader:\n",
    "                # preprocessing (this includes to-device operation)\n",
    "                preprocess(sample_batched)\n",
    "\n",
    "                # apply model on whole batch directly on device\n",
    "                x = sample_batched['signal']\n",
    "                age = sample_batched['age']\n",
    "                y = sample_batched['class_label']\n",
    "                output = model(x, age)\n",
    "\n",
    "                if config['criterion'] == 'cross-entropy':\n",
    "                    s = F.softmax(output, dim=1)\n",
    "                elif config['criterion'] == 'multi-bce':\n",
    "                    s = torch.sigmoid(output)\n",
    "                \n",
    "                s = torch.mean(s, dim=0, keepdims=True)\n",
    "                y = y[0]\n",
    "\n",
    "                # calculate accuracy\n",
    "                pred = s.argmax(dim=-1)\n",
    "                correct += pred.squeeze().eq(y).sum().item()\n",
    "                total += pred.shape[0]\n",
    "    \n",
    "    accuracy = 100.0 * correct / total\n",
    "    \n",
    "    return accuracy"
   ]
  },
  {
   "cell_type": "code",
   "execution_count": null,
   "id": "230b6b97-2065-4844-a8f8-08768af1747f",
   "metadata": {
    "pycharm": {
     "name": "#%%\n"
    }
   },
   "outputs": [],
   "source": [
    "# train\n",
    "train_acc = check_accuracy_score_mean(model, train_loader, preprocess_test, config, repeat=repeat)\n",
    "val_acc = check_accuracy_score_mean(model, val_loader, preprocess_test, config, repeat=repeat)\n",
    "test_acc = check_accuracy_score_mean(model, test_loader, preprocess_test, config, repeat=repeat)\n",
    "test_longer_acc = check_accuracy_score_mean(model, test_loader_longer, preprocess_test, config, repeat=repeat)\n",
    "\n",
    "print(train_acc, val_acc, test_acc, test_longer_acc)"
   ]
  },
  {
   "cell_type": "markdown",
   "id": "d47df86a-4499-4351-80cc-825f56bcc98b",
   "metadata": {
    "pycharm": {
     "name": "#%% md\n"
    }
   },
   "source": [
    "## Evaluate using random crop averaging and length limit"
   ]
  },
  {
   "cell_type": "code",
   "execution_count": null,
   "id": "d3c81633-3b6b-4e18-ba96-d4c2d6ba5cf7",
   "metadata": {
    "pycharm": {
     "name": "#%%\n"
    }
   },
   "outputs": [],
   "source": [
    "with open(os.path.join(model_path, 'config.yaml'), 'r') as f:\n",
    "    wandb_config = yaml.load(f, Loader=yaml.FullLoader)\n",
    "    \n",
    "config = {}\n",
    "for k, v in wandb_config.items():\n",
    "    if type(k) is str and (k.startswith('wandb') or k.startswith('_wandb')):\n",
    "        continue\n",
    "    config[k] = v['value']"
   ]
  },
  {
   "cell_type": "code",
   "execution_count": null,
   "id": "a3acc8b3-de77-4fcc-b9ab-9d01842f4765",
   "metadata": {
    "pycharm": {
     "name": "#%%\n"
    }
   },
   "outputs": [],
   "source": [
    "# preprocessing procedure was changed.. (norm, channel drop) --> (channel drop, norm)\n",
    "config['signal_mean'] = np.delete(np.array(config['signal_mean']), 19, 0)\n",
    "config['signal_std'] = np.delete(np.array(config['signal_std']), 19, 0)"
   ]
  },
  {
   "cell_type": "code",
   "execution_count": null,
   "id": "97a889dc-0e65-4438-a32d-16f2a059a3b8",
   "metadata": {
    "pycharm": {
     "name": "#%%\n"
    }
   },
   "outputs": [],
   "source": [
    "config['data_path'] = 'local/dataset/02_Curated_Data_210705/'\n",
    "config['meta_path'] = 'local/dataset/02_Curated_Data_210705/metadata_debug.json'\n",
    "config['file_format'] = 'feather'\n",
    "config['minibatch'] = 32\n",
    "config['crop_multiple'] = 32\n",
    "# config['latency'] = 200 * 10  # 10 seconds\n",
    "config['evaluation_phase'] = True\n",
    "config['signal_length_limit'] = 200 * 60 * 7  # 7 minutes\n",
    "repeat = round(50 / config['crop_multiple'])\n",
    "config['device'] = device\n",
    "\n",
    "_ = build_dataset(config, verbose=True)\n",
    "train_loader = _[0]\n",
    "val_loader = _[1]\n",
    "test_loader = _[2]\n",
    "test_loader_longer = _[3]\n",
    "preprocess_train = _[4]\n",
    "preprocess_test = _[5]"
   ]
  },
  {
   "cell_type": "code",
   "execution_count": null,
   "id": "548e9fdf-dd15-4fbb-a63e-4b8e717eac7f",
   "metadata": {
    "pycharm": {
     "name": "#%%\n"
    }
   },
   "outputs": [],
   "source": [
    "# train\n",
    "train_acc = check_accuracy_score_mean(model, train_loader, preprocess_test, config, repeat=repeat)\n",
    "val_acc = check_accuracy_score_mean(model, val_loader, preprocess_test, config, repeat=repeat)\n",
    "test_acc = check_accuracy_score_mean(model, test_loader, preprocess_test, config, repeat=repeat)\n",
    "test_longer_acc = check_accuracy_score_mean(model, test_loader_longer, preprocess_test, config, repeat=repeat)\n",
    "\n",
    "print(train_acc, val_acc, test_acc, test_longer_acc)"
   ]
  }
 ],
 "metadata": {
  "kernelspec": {
   "display_name": "Python 3 (ipykernel)",
   "language": "python",
   "name": "python3"
  },
  "language_info": {
   "codemirror_mode": {
    "name": "ipython",
    "version": 3
   },
   "file_extension": ".py",
   "mimetype": "text/x-python",
   "name": "python",
   "nbconvert_exporter": "python",
   "pygments_lexer": "ipython3",
   "version": "3.9.12"
  }
 },
 "nbformat": 4,
 "nbformat_minor": 5
}