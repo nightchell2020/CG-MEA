{
 "cells": [
  {
   "cell_type": "markdown",
   "id": "d74515d5-5f25-477b-9a97-ed1f9b6d4c51",
   "metadata": {
    "pycharm": {
     "name": "#%% md\n"
    }
   },
   "source": [
    "# Evaluate\n",
    "\n",
    "This notebook evaluates the network trained previous notebooks and analyzes the results."
   ]
  },
  {
   "cell_type": "markdown",
   "id": "b8a2666f-6b4b-4748-9dca-2884347a1f0f",
   "metadata": {
    "pycharm": {
     "name": "#%% md\n"
    }
   },
   "source": [
    "-----\n",
    "\n",
    "## Load Packages"
   ]
  },
  {
   "cell_type": "code",
   "execution_count": 1,
   "id": "df587e38-b1a9-42c8-9b50-680200a9bec7",
   "metadata": {
    "pycharm": {
     "name": "#%%\n"
    }
   },
   "outputs": [
    {
     "name": "stdout",
     "output_type": "stream",
     "text": [
      "C:\\Users\\Minjae\\Desktop\\EEG_Project\n"
     ]
    }
   ],
   "source": [
    "# for auto-reloading external modules\n",
    "# see http://stackoverflow.com/questions/1907993/autoreload-of-modules-in-ipython\n",
    "%cd ..\n",
    "%load_ext autoreload\n",
    "%autoreload 2"
   ]
  },
  {
   "cell_type": "code",
   "execution_count": 2,
   "id": "8fb41bf8-1713-4228-b799-0e1c87545a16",
   "metadata": {
    "pycharm": {
     "name": "#%%\n"
    }
   },
   "outputs": [],
   "source": [
    "# Load some packages\n",
    "import os\n",
    "from copy import deepcopy\n",
    "import hydra\n",
    "from omegaconf import OmegaConf\n",
    "from collections import OrderedDict\n",
    "\n",
    "import numpy as np\n",
    "from sklearn.metrics import classification_report\n",
    "import torch\n",
    "import torch.nn as nn\n",
    "import torch.nn.functional as F\n",
    "import torch.optim as optim\n",
    "\n",
    "import pprint\n",
    "import matplotlib\n",
    "import matplotlib.pyplot as plt\n",
    "\n",
    "# custom package\n",
    "from datasets.caueeg_script import build_dataset_for_train\n",
    "import models\n",
    "from train.evaluate import check_accuracy\n",
    "from train.evaluate import check_accuracy_extended\n",
    "from train.evaluate import check_accuracy_extended_debug\n",
    "from train.evaluate import check_accuracy_multicrop\n",
    "from train.evaluate import check_accuracy_multicrop_extended\n",
    "from train.visualize import draw_roc_curve\n",
    "from train.visualize import draw_confusion\n",
    "from train.visualize import draw_class_wise_metrics\n",
    "from train.visualize import draw_error_table\n",
    "from train.visualize import annotate_heatmap"
   ]
  },
  {
   "cell_type": "code",
   "execution_count": 3,
   "id": "d10e3f39-ed55-422c-b47f-376691cbeed6",
   "metadata": {
    "pycharm": {
     "name": "#%%\n"
    }
   },
   "outputs": [
    {
     "name": "stdout",
     "output_type": "stream",
     "text": [
      "PyTorch version: 1.12.1+cu113\n",
      "cuda is available.\n"
     ]
    }
   ],
   "source": [
    "print('PyTorch version:', torch.__version__)\n",
    "device = torch.device('cuda' if torch.cuda.is_available() else 'cpu')\n",
    "\n",
    "if torch.cuda.is_available(): print('cuda is available.')\n",
    "else: print('cuda is unavailable.') "
   ]
  },
  {
   "cell_type": "markdown",
   "id": "d2a62fa4-aa53-49d5-8ab4-2e2aaf7b65d1",
   "metadata": {
    "pycharm": {
     "name": "#%% md\n"
    },
    "tags": []
   },
   "source": [
    "-----\n",
    "\n",
    "## Load the configuration used during the train phase"
   ]
  },
  {
   "cell_type": "code",
   "execution_count": 4,
   "id": "bee4f853-3cad-4b01-8ee8-44ac9e49adbe",
   "metadata": {
    "pycharm": {
     "name": "#%%\n"
    }
   },
   "outputs": [
    {
     "name": "stdout",
     "output_type": "stream",
     "text": [
      "dict_keys(['model_state', 'config', 'optimizer_state', 'scheduler_state'])\n"
     ]
    }
   ],
   "source": [
    "model_name = 'sqkotpcb'\n",
    "model_path = os.path.join(r'E:\\CAUEEG\\checkpoint', model_name, 'checkpoint.pt')\n",
    "\n",
    "ckpt = torch.load(model_path, map_location=device)\n",
    "print(ckpt.keys())"
   ]
  },
  {
   "cell_type": "code",
   "execution_count": 5,
   "id": "ab204c6e-25bc-4bb2-b83d-ffbab6dfd4d6",
   "metadata": {
    "pycharm": {
     "name": "#%%\n"
    }
   },
   "outputs": [],
   "source": [
    "model_state = ckpt['model_state']\n",
    "config = ckpt['config']\n",
    "optimizer = ckpt['optimizer_state']\n",
    "scheduler = ckpt['scheduler_state']"
   ]
  },
  {
   "cell_type": "code",
   "execution_count": 6,
   "id": "d6a582ce-495b-4f2e-9376-6d5591019f46",
   "metadata": {
    "pycharm": {
     "name": "#%%\n"
    }
   },
   "outputs": [
    {
     "name": "stdout",
     "output_type": "stream",
     "text": [
      "{'EKG': 'O',\n",
      " '_target_': 'models.resnet_1d.ResNet1D',\n",
      " 'activation': 'mish',\n",
      " 'age_mean': tensor([71.1417], device='cuda:0'),\n",
      " 'age_std': tensor([9.7264], device='cuda:0'),\n",
      " 'awgn': 0.08281788109108952,\n",
      " 'awgn_age': 0.0521315835642613,\n",
      " 'base_channels': 64,\n",
      " 'base_lr': 0.0012990213913509773,\n",
      " 'block': 'bottleneck',\n",
      " 'class_label_to_name': ['Normal', 'MCI', 'Dementia'],\n",
      " 'class_name_to_label': {'Dementia': 2, 'MCI': 1, 'Normal': 0},\n",
      " 'conv_layers': [3, 4, 6, 3],\n",
      " 'criterion': 'cross-entropy',\n",
      " 'crop_multiple': 4,\n",
      " 'crop_timing_analysis': False,\n",
      " 'cwd': '/home/minjae/Desktop/eeg_analysis',\n",
      " 'dataset_name': 'CAUEEG dataset',\n",
      " 'dataset_path': 'local/dataset/02_Curated_Data_220419/',\n",
      " 'ddp': False,\n",
      " 'device': device(type='cuda'),\n",
      " 'draw_result': True,\n",
      " 'dropout': 0.2495673522766321,\n",
      " 'fc_stages': 4,\n",
      " 'file_format': 'memmap',\n",
      " 'groups': 32,\n",
      " 'in_channels': 21,\n",
      " 'input_norm': 'dataset',\n",
      " 'iterations': 390625,\n",
      " 'latency': 2000,\n",
      " 'load_event': False,\n",
      " 'lr_scheduler_type': 'linear_decay_with_warmup',\n",
      " 'mgn': 0.07060747002614974,\n",
      " 'minibatch': 256,\n",
      " 'mixup': 0.1,\n",
      " 'model': '1D-ResNeXt-50',\n",
      " 'multi_batch_size': 32,\n",
      " 'num_history': 500,\n",
      " 'num_params': 25785091,\n",
      " 'out_dims': 3,\n",
      " 'output_length': 5,\n",
      " 'photic': 'O',\n",
      " 'preprocess_test': Sequential(\n",
      "  (0): EegToDevice(device=device(type='cuda'))\n",
      "  (1): EegNormalizeAge(mean=tensor([71.1417], device='cuda:0'), std=tensor([9.7264], device='cuda:0'), eps=1e-08, std_eps=tensor([9.7264], device='cuda:0'))\n",
      "  (2): EegNormalizeMeanStd(mean=tensor([[[-5.6220e-03],\n",
      "           [-7.3968e-03],\n",
      "           [-4.0465e-03],\n",
      "           [ 2.1544e-03],\n",
      "           [-4.9374e-03],\n",
      "           [ 4.3733e-02],\n",
      "           [ 4.5844e-05],\n",
      "           [ 5.4145e-03],\n",
      "           [ 1.1773e-02],\n",
      "           [ 1.1740e-02],\n",
      "           [-1.8308e-03],\n",
      "           [-1.0648e-02],\n",
      "           [-2.1692e-02],\n",
      "           [ 1.8172e-02],\n",
      "           [ 1.3095e-03],\n",
      "           [-1.0489e-02],\n",
      "           [ 6.3224e-03],\n",
      "           [-7.4354e-03],\n",
      "           [ 6.7695e-03],\n",
      "           [-4.2913e-05],\n",
      "           [-1.1052e-02]]], device='cuda:0'), std=tensor([[[51.2612],\n",
      "           [22.1388],\n",
      "           [12.6143],\n",
      "           [12.7376],\n",
      "           [17.3938],\n",
      "           [55.3171],\n",
      "           [21.8166],\n",
      "           [11.3436],\n",
      "           [12.8909],\n",
      "           [17.4450],\n",
      "           [21.9494],\n",
      "           [15.3575],\n",
      "           [14.9977],\n",
      "           [23.2716],\n",
      "           [18.8214],\n",
      "           [16.3103],\n",
      "           [21.0885],\n",
      "           [12.1929],\n",
      "           [12.5676],\n",
      "           [95.0455],\n",
      "           [75.2115]]], device='cuda:0'), eps=1e-08, std_eps=tensor([[[51.2612],\n",
      "           [22.1388],\n",
      "           [12.6143],\n",
      "           [12.7376],\n",
      "           [17.3938],\n",
      "           [55.3171],\n",
      "           [21.8166],\n",
      "           [11.3436],\n",
      "           [12.8909],\n",
      "           [17.4450],\n",
      "           [21.9494],\n",
      "           [15.3575],\n",
      "           [14.9977],\n",
      "           [23.2716],\n",
      "           [18.8214],\n",
      "           [16.3103],\n",
      "           [21.0885],\n",
      "           [12.1929],\n",
      "           [12.5676],\n",
      "           [95.0455],\n",
      "           [75.2115]]], device='cuda:0'))\n",
      "),\n",
      " 'preprocess_train': Sequential(\n",
      "  (0): EegToDevice(device=device(type='cuda'))\n",
      "  (1): EegNormalizeAge(mean=tensor([71.1417], device='cuda:0'), std=tensor([9.7264], device='cuda:0'), eps=1e-08, std_eps=tensor([9.7264], device='cuda:0'))\n",
      "  (2): EegAddGaussianNoiseAge(mean=0.0, std=0.0521315835642613)\n",
      "  (3): EegNormalizeMeanStd(mean=tensor([[[-5.6220e-03],\n",
      "           [-7.3968e-03],\n",
      "           [-4.0465e-03],\n",
      "           [ 2.1544e-03],\n",
      "           [-4.9374e-03],\n",
      "           [ 4.3733e-02],\n",
      "           [ 4.5844e-05],\n",
      "           [ 5.4145e-03],\n",
      "           [ 1.1773e-02],\n",
      "           [ 1.1740e-02],\n",
      "           [-1.8308e-03],\n",
      "           [-1.0648e-02],\n",
      "           [-2.1692e-02],\n",
      "           [ 1.8172e-02],\n",
      "           [ 1.3095e-03],\n",
      "           [-1.0489e-02],\n",
      "           [ 6.3224e-03],\n",
      "           [-7.4354e-03],\n",
      "           [ 6.7695e-03],\n",
      "           [-4.2913e-05],\n",
      "           [-1.1052e-02]]], device='cuda:0'), std=tensor([[[51.2612],\n",
      "           [22.1388],\n",
      "           [12.6143],\n",
      "           [12.7376],\n",
      "           [17.3938],\n",
      "           [55.3171],\n",
      "           [21.8166],\n",
      "           [11.3436],\n",
      "           [12.8909],\n",
      "           [17.4450],\n",
      "           [21.9494],\n",
      "           [15.3575],\n",
      "           [14.9977],\n",
      "           [23.2716],\n",
      "           [18.8214],\n",
      "           [16.3103],\n",
      "           [21.0885],\n",
      "           [12.1929],\n",
      "           [12.5676],\n",
      "           [95.0455],\n",
      "           [75.2115]]], device='cuda:0'), eps=1e-08, std_eps=tensor([[[51.2612],\n",
      "           [22.1388],\n",
      "           [12.6143],\n",
      "           [12.7376],\n",
      "           [17.3938],\n",
      "           [55.3171],\n",
      "           [21.8166],\n",
      "           [11.3436],\n",
      "           [12.8909],\n",
      "           [17.4450],\n",
      "           [21.9494],\n",
      "           [15.3575],\n",
      "           [14.9977],\n",
      "           [23.2716],\n",
      "           [18.8214],\n",
      "           [16.3103],\n",
      "           [21.0885],\n",
      "           [12.1929],\n",
      "           [12.5676],\n",
      "           [95.0455],\n",
      "           [75.2115]]], device='cuda:0'))\n",
      "  (4): EegMultiplicativeGaussianNoise(mean=0.0, std=0.07060747002614974)\n",
      "  (5): EegAdditiveGaussianNoise(mean=0.0, std=0.08281788109108952)\n",
      "),\n",
      " 'run_mode': 'train',\n",
      " 'save_model': True,\n",
      " 'search_lr': True,\n",
      " 'search_multiplier': 1.0,\n",
      " 'seed': 0,\n",
      " 'seq_length': 6000,\n",
      " 'signal_header': ['Fp1-AVG', 'F3-AVG', 'C3-AVG', 'P3-AVG', 'O1-AVG', 'Fp2-AVG', 'F4-AVG', 'C4-AVG', 'P4-AVG', 'O2-AVG', 'F7-AVG', 'T3-AVG', 'T5-AVG', 'F8-AVG', 'T4-AVG', 'T6-AVG', 'FZ-AVG', 'CZ-AVG', 'PZ-AVG', 'EKG', 'Photic'],\n",
      " 'signal_length_limit': 10000000,\n",
      " 'signal_mean': tensor([[[-5.6220e-03],\n",
      "         [-7.3968e-03],\n",
      "         [-4.0465e-03],\n",
      "         [ 2.1544e-03],\n",
      "         [-4.9374e-03],\n",
      "         [ 4.3733e-02],\n",
      "         [ 4.5844e-05],\n",
      "         [ 5.4145e-03],\n",
      "         [ 1.1773e-02],\n",
      "         [ 1.1740e-02],\n",
      "         [-1.8308e-03],\n",
      "         [-1.0648e-02],\n",
      "         [-2.1692e-02],\n",
      "         [ 1.8172e-02],\n",
      "         [ 1.3095e-03],\n",
      "         [-1.0489e-02],\n",
      "         [ 6.3224e-03],\n",
      "         [-7.4354e-03],\n",
      "         [ 6.7695e-03],\n",
      "         [-4.2913e-05],\n",
      "         [-1.1052e-02]]], device='cuda:0'),\n",
      " 'signal_std': tensor([[[51.2612],\n",
      "         [22.1388],\n",
      "         [12.6143],\n",
      "         [12.7376],\n",
      "         [17.3938],\n",
      "         [55.3171],\n",
      "         [21.8166],\n",
      "         [11.3436],\n",
      "         [12.8909],\n",
      "         [17.4450],\n",
      "         [21.9494],\n",
      "         [15.3575],\n",
      "         [14.9977],\n",
      "         [23.2716],\n",
      "         [18.8214],\n",
      "         [16.3103],\n",
      "         [21.0885],\n",
      "         [12.1929],\n",
      "         [12.5676],\n",
      "         [95.0455],\n",
      "         [75.2115]]], device='cuda:0'),\n",
      " 'task': 'dementia',\n",
      " 'task_description': 'Classification of [Normal], [MCI], and [Dementia] symptoms.',\n",
      " 'task_name': 'CAUEEG-Dementia benchmark',\n",
      " 'test_crop_multiple': 8,\n",
      " 'total_samples': 100000000.0,\n",
      " 'transform': Compose(\n",
      "    EegRandomCrop(crop_length=6000, length_limit=10000000, multiple=4, latency=2000, segment_simulation=False, return_timing=False)\n",
      "    EegToTensor()\n",
      "),\n",
      " 'transform_multicrop': Compose(\n",
      "    EegRandomCrop(crop_length=6000, length_limit=10000000, multiple=8, latency=2000, segment_simulation=False, return_timing=False)\n",
      "    EegToTensor()\n",
      "),\n",
      " 'use_age': 'conv',\n",
      " 'use_wandb': True,\n",
      " 'warmup_min': 3000,\n",
      " 'warmup_ratio': 0.05,\n",
      " 'warmup_steps': 19531,\n",
      " 'watch_model': False,\n",
      " 'weight_decay': 0.05306314117844515,\n",
      " 'width_per_group': 4}\n"
     ]
    }
   ],
   "source": [
    "pprint.pprint(config, width=250)"
   ]
  },
  {
   "cell_type": "markdown",
   "id": "0c85edd9-772b-4525-8acc-095850716b4e",
   "metadata": {
    "pycharm": {
     "name": "#%% md\n"
    }
   },
   "source": [
    "-----\n",
    "\n",
    "## Load the target model"
   ]
  },
  {
   "cell_type": "code",
   "execution_count": 7,
   "id": "d88946aa-6d3c-4b14-869e-b558783b8148",
   "metadata": {
    "pycharm": {
     "name": "#%%\n"
    }
   },
   "outputs": [
    {
     "data": {
      "text/plain": [
       "<All keys matched successfully>"
      ]
     },
     "execution_count": 7,
     "metadata": {},
     "output_type": "execute_result"
    }
   ],
   "source": [
    "# model = config['generator'](**config).to(device)\n",
    "model = hydra.utils.instantiate(config).to(device)\n",
    "\n",
    "if config.get('ddp', False):\n",
    "    model_state_ddp = deepcopy(model_state)\n",
    "    model_state = OrderedDict()\n",
    "    for k, v in model_state_ddp.items():\n",
    "        name = k[7:] # remove 'module.' of DataParallel/DistributedDataParallel\n",
    "        model_state[name] = v\n",
    "        \n",
    "model.load_state_dict(model_state)"
   ]
  },
  {
   "cell_type": "markdown",
   "id": "a751ab89-fe12-4e98-94e1-9a616ba08670",
   "metadata": {
    "pycharm": {
     "name": "#%% md\n"
    }
   },
   "source": [
    "-----\n",
    "\n",
    "## Evaluate the model and analyze the performance by the crop timing"
   ]
  },
  {
   "cell_type": "markdown",
   "id": "a76b02db-da4e-4e65-830b-ba4214ff1bd7",
   "metadata": {
    "pycharm": {
     "name": "#%% md\n"
    }
   },
   "source": [
    "### Configurations"
   ]
  },
  {
   "cell_type": "code",
   "execution_count": 8,
   "id": "89fa65ab-c9ce-4182-97c7-1adb2ca651d3",
   "metadata": {
    "pycharm": {
     "name": "#%%\n"
    }
   },
   "outputs": [
    {
     "name": "stdout",
     "output_type": "stream",
     "text": [
      "125\n"
     ]
    }
   ],
   "source": [
    "config = ckpt['config']\n",
    "\n",
    "config.pop('cwd', 0)\n",
    "config['ddp'] = False\n",
    "config['crop_timing_analysis'] = True\n",
    "config['eval'] = True\n",
    "config['device'] = device\n",
    "\n",
    "# config['seq_length'] = 16000 # TODO\n",
    "# config['test_crop_multiple'] = 32 # TODO\n",
    "\n",
    "repeat = round(500 / config['crop_multiple'])  # 500\n",
    "print(repeat)"
   ]
  },
  {
   "cell_type": "markdown",
   "id": "61bc5f3a-1321-406c-ad0f-d8cb6f587bd1",
   "metadata": {
    "pycharm": {
     "name": "#%% md\n"
    }
   },
   "source": [
    "### Build Dataset"
   ]
  },
  {
   "cell_type": "code",
   "execution_count": 9,
   "id": "316ce735-4ffd-49a6-a9d1-51584df94390",
   "metadata": {
    "pycharm": {
     "name": "#%%\n"
    }
   },
   "outputs": [
    {
     "name": "stdout",
     "output_type": "stream",
     "text": [
      "ERROR: load_caueeg_config(dataset_path) encounters an error of [Errno 2] No such file or directory: 'local/dataset/02_Curated_Data_220419/annotation.json'. Make sure the dataset path is correct.\n"
     ]
    },
    {
     "ename": "FileNotFoundError",
     "evalue": "[Errno 2] No such file or directory: 'local/dataset/02_Curated_Data_220419/annotation.json'",
     "output_type": "error",
     "traceback": [
      "\u001b[1;31m---------------------------------------------------------------------------\u001b[0m",
      "\u001b[1;31mFileNotFoundError\u001b[0m                         Traceback (most recent call last)",
      "Input \u001b[1;32mIn [9]\u001b[0m, in \u001b[0;36m<cell line: 1>\u001b[1;34m()\u001b[0m\n\u001b[1;32m----> 1\u001b[0m train_loader, val_loader, test_loader, multicrop_test_loader \u001b[38;5;241m=\u001b[39m \u001b[43mbuild_dataset_for_train\u001b[49m\u001b[43m(\u001b[49m\u001b[43mconfig\u001b[49m\u001b[43m,\u001b[49m\u001b[43m \u001b[49m\u001b[43mverbose\u001b[49m\u001b[38;5;241;43m=\u001b[39;49m\u001b[38;5;28;43;01mTrue\u001b[39;49;00m\u001b[43m)\u001b[49m\n",
      "File \u001b[1;32m~\\Desktop\\EEG_Project\\datasets\\caueeg_script.py:592\u001b[0m, in \u001b[0;36mbuild_dataset_for_train\u001b[1;34m(config, verbose)\u001b[0m\n\u001b[0;32m    589\u001b[0m \u001b[38;5;28;01mif\u001b[39;00m \u001b[38;5;124m'\u001b[39m\u001b[38;5;124mcwd\u001b[39m\u001b[38;5;124m'\u001b[39m \u001b[38;5;129;01min\u001b[39;00m config:\n\u001b[0;32m    590\u001b[0m     dataset_path \u001b[38;5;241m=\u001b[39m os\u001b[38;5;241m.\u001b[39mpath\u001b[38;5;241m.\u001b[39mjoin(config[\u001b[38;5;124m'\u001b[39m\u001b[38;5;124mcwd\u001b[39m\u001b[38;5;124m'\u001b[39m], dataset_path)\n\u001b[1;32m--> 592\u001b[0m config_dataset \u001b[38;5;241m=\u001b[39m \u001b[43mload_caueeg_config\u001b[49m\u001b[43m(\u001b[49m\u001b[43mdataset_path\u001b[49m\u001b[43m)\u001b[49m\n\u001b[0;32m    593\u001b[0m config\u001b[38;5;241m.\u001b[39mupdate(\u001b[38;5;241m*\u001b[39m\u001b[38;5;241m*\u001b[39mconfig_dataset)\n\u001b[0;32m    595\u001b[0m \u001b[38;5;28;01mif\u001b[39;00m \u001b[38;5;124m'\u001b[39m\u001b[38;5;124mrun_mode\u001b[39m\u001b[38;5;124m'\u001b[39m \u001b[38;5;129;01mnot\u001b[39;00m \u001b[38;5;129;01min\u001b[39;00m config\u001b[38;5;241m.\u001b[39mkeys():\n",
      "File \u001b[1;32m~\\Desktop\\EEG_Project\\datasets\\caueeg_script.py:33\u001b[0m, in \u001b[0;36mload_caueeg_config\u001b[1;34m(dataset_path)\u001b[0m\n\u001b[0;32m     27\u001b[0m \u001b[38;5;124;03m\"\"\"Load the configuration of the CAUEEG dataset.\u001b[39;00m\n\u001b[0;32m     28\u001b[0m \n\u001b[0;32m     29\u001b[0m \u001b[38;5;124;03mArgs:\u001b[39;00m\n\u001b[0;32m     30\u001b[0m \u001b[38;5;124;03m    dataset_path (str): The file path where the dataset files are located.\u001b[39;00m\n\u001b[0;32m     31\u001b[0m \u001b[38;5;124;03m\"\"\"\u001b[39;00m\n\u001b[0;32m     32\u001b[0m \u001b[38;5;28;01mtry\u001b[39;00m:\n\u001b[1;32m---> 33\u001b[0m     \u001b[38;5;28;01mwith\u001b[39;00m \u001b[38;5;28;43mopen\u001b[39;49m\u001b[43m(\u001b[49m\u001b[43mos\u001b[49m\u001b[38;5;241;43m.\u001b[39;49m\u001b[43mpath\u001b[49m\u001b[38;5;241;43m.\u001b[39;49m\u001b[43mjoin\u001b[49m\u001b[43m(\u001b[49m\u001b[43mdataset_path\u001b[49m\u001b[43m,\u001b[49m\u001b[43m \u001b[49m\u001b[38;5;124;43m'\u001b[39;49m\u001b[38;5;124;43mannotation.json\u001b[39;49m\u001b[38;5;124;43m'\u001b[39;49m\u001b[43m)\u001b[49m\u001b[43m,\u001b[49m\u001b[43m \u001b[49m\u001b[38;5;124;43m'\u001b[39;49m\u001b[38;5;124;43mr\u001b[39;49m\u001b[38;5;124;43m'\u001b[39;49m\u001b[43m)\u001b[49m \u001b[38;5;28;01mas\u001b[39;00m json_file:\n\u001b[0;32m     34\u001b[0m         annotation \u001b[38;5;241m=\u001b[39m json\u001b[38;5;241m.\u001b[39mload(json_file)\n\u001b[0;32m     35\u001b[0m \u001b[38;5;28;01mexcept\u001b[39;00m \u001b[38;5;167;01mFileNotFoundError\u001b[39;00m \u001b[38;5;28;01mas\u001b[39;00m e:\n",
      "\u001b[1;31mFileNotFoundError\u001b[0m: [Errno 2] No such file or directory: 'local/dataset/02_Curated_Data_220419/annotation.json'"
     ]
    }
   ],
   "source": [
    "train_loader, val_loader, test_loader, multicrop_test_loader = build_dataset_for_train(config, verbose=True)"
   ]
  },
  {
   "cell_type": "markdown",
   "id": "f0116501-0a1b-4460-92a4-f1c632993366",
   "metadata": {
    "pycharm": {
     "name": "#%% md\n"
    }
   },
   "source": [
    "### Train set"
   ]
  },
  {
   "cell_type": "code",
   "execution_count": null,
   "id": "266a7e96-bc3e-413e-849a-ed63ae59e16a",
   "metadata": {
    "pycharm": {
     "name": "#%%\n"
    }
   },
   "outputs": [],
   "source": [
    "_ = check_accuracy_extended_debug(model, train_loader, \n",
    "                                  config['preprocess_test'], config, repeat=repeat)\n",
    "train_acc = _[0] \n",
    "train_score = _[1]\n",
    "train_target = _[2]\n",
    "train_confusion = _[3]\n",
    "train_error_table = _[4]\n",
    "train_crop_timing = _[5]\n",
    "\n",
    "print(train_acc)"
   ]
  },
  {
   "cell_type": "code",
   "execution_count": null,
   "id": "802da575-01f7-4046-b1fd-64321adb58ba",
   "metadata": {
    "pycharm": {
     "name": "#%%\n"
    }
   },
   "outputs": [],
   "source": [
    "draw_roc_curve(train_score, train_target, config['class_label_to_name'], use_wandb=False)\n",
    "draw_confusion(train_confusion, config['class_label_to_name'], use_wandb=False)\n",
    "draw_error_table(train_error_table, use_wandb=False, fig_size=(60.0, 4.0))"
   ]
  },
  {
   "cell_type": "markdown",
   "id": "34d83768-0b92-41f8-9276-08f444ae3006",
   "metadata": {
    "pycharm": {
     "name": "#%% md\n"
    }
   },
   "source": [
    "### Validation set"
   ]
  },
  {
   "cell_type": "code",
   "execution_count": null,
   "id": "9bcce1ba-ccb0-4b77-aebc-b6ee966ab28c",
   "metadata": {
    "pycharm": {
     "name": "#%%\n"
    }
   },
   "outputs": [],
   "source": [
    "_ = check_accuracy_extended_debug(model, val_loader, \n",
    "                                  config['preprocess_test'], config, repeat=repeat)\n",
    "val_acc = _[0]\n",
    "val_score = _[1]\n",
    "val_target = _[2]\n",
    "val_confusion = _[3]\n",
    "val_error_table = _[4]\n",
    "val_crop_timing = _[5]\n",
    "\n",
    "print(val_acc)"
   ]
  },
  {
   "cell_type": "code",
   "execution_count": null,
   "id": "ceb56c9a-31e2-4bf4-8d19-5aa918390e59",
   "metadata": {
    "pycharm": {
     "name": "#%%\n"
    }
   },
   "outputs": [],
   "source": [
    "draw_roc_curve(val_score, val_target, config['class_label_to_name'], use_wandb=False)\n",
    "draw_confusion(val_confusion, config['class_label_to_name'], normalize=True, use_wandb=False)\n",
    "draw_error_table(val_error_table, use_wandb=False)"
   ]
  },
  {
   "cell_type": "markdown",
   "id": "6b0423d5-d26b-4a02-84a9-b4577b81cf82",
   "metadata": {
    "pycharm": {
     "name": "#%% md\n"
    }
   },
   "source": [
    "### Test set"
   ]
  },
  {
   "cell_type": "code",
   "execution_count": null,
   "id": "7572abf6-6c8d-429b-b18b-9eafbbe2b5b1",
   "metadata": {
    "pycharm": {
     "name": "#%%\n"
    }
   },
   "outputs": [],
   "source": [
    "_ = check_accuracy_extended_debug(model, test_loader, \n",
    "                                  config['preprocess_test'], config, repeat=repeat)\n",
    "test_acc = _[0]\n",
    "test_score = _[1]\n",
    "test_target = _[2]\n",
    "test_confusion = _[3]\n",
    "test_error_table = _[4]\n",
    "test_crop_timing = _[5]\n",
    "\n",
    "print(test_acc)"
   ]
  },
  {
   "cell_type": "code",
   "execution_count": null,
   "id": "153f97a7-1871-4f73-94e6-984a3c160e99",
   "metadata": {
    "pycharm": {
     "name": "#%%\n"
    }
   },
   "outputs": [],
   "source": [
    "draw_roc_curve(test_score, test_target, config['class_label_to_name'], use_wandb=False)\n",
    "draw_confusion(test_confusion, config['class_label_to_name'], normalize=True, use_wandb=False)\n",
    "draw_class_wise_metrics(test_confusion, config['class_label_to_name'], use_wandb=False)\n",
    "draw_error_table(test_error_table, use_wandb=False)"
   ]
  },
  {
   "cell_type": "code",
   "execution_count": null,
   "id": "6313d640-f44f-4564-bd0c-cbd20f02ba8f",
   "metadata": {
    "pycharm": {
     "name": "#%%\n"
    },
    "tags": []
   },
   "outputs": [],
   "source": [
    "_ = check_accuracy_extended_debug(model, test_loader, \n",
    "                                  config['preprocess_test'], config, repeat=repeat)\n",
    "test_acc = _[0]\n",
    "test_score = _[1]\n",
    "test_target = _[2]\n",
    "test_confusion = _[3]\n",
    "test_error_table = _[4]\n",
    "\n",
    "print(test_acc)"
   ]
  },
  {
   "cell_type": "markdown",
   "id": "9d1d240c-1264-478a-88c3-5481ac520cd1",
   "metadata": {
    "pycharm": {
     "name": "#%% md\n"
    }
   },
   "source": [
    "### Test set (with test-time augmentation)"
   ]
  },
  {
   "cell_type": "code",
   "execution_count": null,
   "id": "643e8af7-e6cb-4b25-89b0-c115296be5e9",
   "metadata": {
    "pycharm": {
     "name": "#%%\n"
    },
    "tags": []
   },
   "outputs": [],
   "source": [
    "_ = check_accuracy_multicrop_extended(model, multicrop_test_loader, \n",
    "                                      config['preprocess_test'], config, repeat=repeat)\n",
    "multi_test_acc = _[0]\n",
    "multi_test_score = _[1]\n",
    "multi_test_target = _[2]\n",
    "multi_test_confusion = _[3]\n",
    "\n",
    "print(multi_test_acc)"
   ]
  },
  {
   "cell_type": "code",
   "execution_count": null,
   "id": "e0d78977-2a2a-4a49-8802-3884c19aee07",
   "metadata": {
    "pycharm": {
     "name": "#%%\n"
    }
   },
   "outputs": [],
   "source": [
    "draw_roc_curve(multi_test_score, multi_test_target, config['class_label_to_name'], use_wandb=False)\n",
    "draw_confusion(multi_test_confusion, config['class_label_to_name'], normalize=True, use_wandb=False)\n",
    "draw_class_wise_metrics(multi_test_confusion, config['class_label_to_name'], use_wandb=False)"
   ]
  },
  {
   "cell_type": "markdown",
   "id": "a741cd35-65a8-458a-ad5e-a7cf9e66b43a",
   "metadata": {
    "pycharm": {
     "name": "#%% md\n"
    }
   },
   "source": [
    "### Examine whether the model has a bias related to the cropping starting time"
   ]
  },
  {
   "cell_type": "code",
   "execution_count": null,
   "id": "cd145cf6-1af1-4bed-9ee2-bf76a991a778",
   "metadata": {
    "pycharm": {
     "name": "#%%\n"
    }
   },
   "outputs": [],
   "source": [
    "train_pos = []\n",
    "train_neg = []\n",
    "\n",
    "for k, v in train_crop_timing.items():\n",
    "    for i in range(v.get('correct', 0)):\n",
    "        train_pos.append(k)\n",
    "    for i in range(v.get('incorrect', 0)):\n",
    "        train_neg.append(k)\n",
    "\n",
    "##\n",
    "\n",
    "val_pos = []\n",
    "val_neg = []\n",
    "\n",
    "for k, v in val_crop_timing.items():\n",
    "    for i in range(v.get('correct', 0)):\n",
    "        val_pos.append(k)\n",
    "    for i in range(v.get('incorrect', 0)):\n",
    "        val_neg.append(k)\n",
    "\n",
    "##\n",
    "\n",
    "test_pos = []\n",
    "test_neg = []\n",
    "\n",
    "for k, v in test_crop_timing.items():\n",
    "    for i in range(v.get('correct', 0)):\n",
    "        test_pos.append(k)\n",
    "    for i in range(v.get('incorrect', 0)):\n",
    "        test_neg.append(k)"
   ]
  },
  {
   "cell_type": "code",
   "execution_count": null,
   "id": "8fd4b339-4d0c-4dc8-bafb-a75f89c8bbba",
   "metadata": {
    "pycharm": {
     "name": "#%%\n"
    }
   },
   "outputs": [],
   "source": [
    "fig = plt.figure(num=1, clear=True, figsize=(16, 10), constrained_layout=True)\n",
    "n_bins = 50\n",
    "density = False\n",
    "\n",
    "ax = fig.add_subplot(3, 1, 1)\n",
    "ax.hist(train_pos, bins=n_bins, color='g', alpha=0.7, density=density)\n",
    "ax.hist(train_neg, bins=n_bins, color='r', alpha=0.7, density=density)\n",
    "ax.set_title(f'Training Set: True/Neg Historgram by Random Crop Time')\n",
    "ax.set_xlabel('Random Crop Time')\n",
    "ax.set_ylabel('Count')\n",
    "\n",
    "ax = fig.add_subplot(3, 1, 2)\n",
    "ax.hist(val_pos, bins=n_bins, color='g', alpha=0.7, density=density)\n",
    "ax.hist(val_neg, bins=n_bins, color='r', alpha=0.7, density=density)\n",
    "ax.set_title(f'Validation Set: True/Neg Historgram by Random Crop Time')\n",
    "ax.set_xlabel('Random Crop Time')\n",
    "ax.set_ylabel('Count')\n",
    "\n",
    "ax = fig.add_subplot(3, 1, 3)\n",
    "ax.hist(test_pos, bins=n_bins, color='g', alpha=0.7, density=density)\n",
    "ax.hist(test_neg, bins=n_bins, color='r', alpha=0.7, density=density)\n",
    "ax.set_title(f'Test Set: True/Neg Historgram by Random Crop Time')\n",
    "ax.set_xlabel('Random Crop Time')\n",
    "ax.set_ylabel('Count')\n",
    "\n",
    "plt.show()\n",
    "fig.clear()\n",
    "plt.close(fig)"
   ]
  },
  {
   "cell_type": "markdown",
   "id": "12e0ca82-cc3d-4303-bf31-7e4d7a375136",
   "metadata": {
    "pycharm": {
     "name": "#%% md\n"
    }
   },
   "source": [
    "-----\n",
    "\n",
    "## Evaluate the model with length limit"
   ]
  },
  {
   "cell_type": "markdown",
   "id": "f7ab8480-5e29-4b5e-bdb2-4409e045e315",
   "metadata": {
    "pycharm": {
     "name": "#%% md\n"
    }
   },
   "source": [
    "### Configurations"
   ]
  },
  {
   "cell_type": "code",
   "execution_count": null,
   "id": "acd0cfc6-1ef3-4135-a5fb-5876ceb305ab",
   "metadata": {
    "pycharm": {
     "name": "#%%\n"
    }
   },
   "outputs": [],
   "source": [
    "config = ckpt['config']\n",
    "\n",
    "config['crop_timing_analysis'] = False\n",
    "config['signal_length_limit'] = 200 * 60 * 4  # 7 minutes\n",
    "config['eval'] = True\n",
    "config['device'] = device\n",
    "\n",
    "repeat = round(50 / config['crop_multiple'])\n",
    "\n",
    "train_loader, val_loader, test_loader, multi_test_loader = build_dataset_for_train(config, verbose=False)"
   ]
  },
  {
   "cell_type": "code",
   "execution_count": null,
   "id": "67152a06-610f-480d-9512-b3547ced808c",
   "metadata": {
    "pycharm": {
     "name": "#%%\n"
    }
   },
   "outputs": [],
   "source": [
    "# train\n",
    "train_acc = check_accuracy(model, train_loader, \n",
    "                           config['preprocess_test'], config, repeat=repeat)\n",
    "val_acc = check_accuracy(model, val_loader, \n",
    "                         config['preprocess_test'], config, repeat=repeat)\n",
    "test_acc = check_accuracy(model, test_loader, \n",
    "                          config['preprocess_test'], config, repeat=repeat)\n",
    "multi_test_acc = check_accuracy_multicrop(model, multi_test_loader, \n",
    "                                          config['preprocess_test'], config, repeat=repeat)\n",
    "\n",
    "print(train_acc, val_acc, test_acc, multi_test_acc)"
   ]
  },
  {
   "cell_type": "code",
   "execution_count": null,
   "id": "23811ac5-4a94-4d8a-b4fb-68161557a87d",
   "metadata": {
    "pycharm": {
     "name": "#%%\n"
    }
   },
   "outputs": [],
   "source": []
  },
  {
   "cell_type": "code",
   "execution_count": null,
   "id": "af8a472d-b5c9-498d-8e72-06799d31e486",
   "metadata": {},
   "outputs": [],
   "source": []
  }
 ],
 "metadata": {
  "kernelspec": {
   "display_name": "Python 3 (ipykernel)",
   "language": "python",
   "name": "python3"
  },
  "language_info": {
   "codemirror_mode": {
    "name": "ipython",
    "version": 3
   },
   "file_extension": ".py",
   "mimetype": "text/x-python",
   "name": "python",
   "nbconvert_exporter": "python",
   "pygments_lexer": "ipython3",
   "version": "3.9.12"
  }
 },
 "nbformat": 4,
 "nbformat_minor": 5
}
