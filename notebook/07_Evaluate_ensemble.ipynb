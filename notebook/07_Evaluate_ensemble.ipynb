{
 "cells": [
  {
   "cell_type": "markdown",
   "id": "d74515d5-5f25-477b-9a97-ed1f9b6d4c51",
   "metadata": {
    "pycharm": {
     "name": "#%% md\n"
    }
   },
   "source": [
    "# Evaluate Ensemble\n",
    "\n",
    "This notebook combines the classification results of some models via logit-ensembling way."
   ]
  },
  {
   "cell_type": "markdown",
   "id": "b8a2666f-6b4b-4748-9dca-2884347a1f0f",
   "metadata": {
    "pycharm": {
     "name": "#%% md\n"
    }
   },
   "source": [
    "-----\n",
    "\n",
    "## Load Packages"
   ]
  },
  {
   "cell_type": "code",
   "execution_count": 1,
   "id": "df587e38-b1a9-42c8-9b50-680200a9bec7",
   "metadata": {
    "pycharm": {
     "name": "#%%\n"
    }
   },
   "outputs": [
    {
     "name": "stdout",
     "output_type": "stream",
     "text": [
      "C:\\Users\\Minjae\\Desktop\\EEG_Project\n"
     ]
    }
   ],
   "source": [
    "# for auto-reloading external modules\n",
    "# see http://stackoverflow.com/questions/1907993/autoreload-of-modules-in-ipython\n",
    "%cd ..\n",
    "%load_ext autoreload\n",
    "%autoreload 2"
   ]
  },
  {
   "cell_type": "code",
   "execution_count": 2,
   "id": "8fb41bf8-1713-4228-b799-0e1c87545a16",
   "metadata": {
    "pycharm": {
     "name": "#%%\n"
    }
   },
   "outputs": [],
   "source": [
    "# Load some packages\n",
    "import os\n",
    "import sys\n",
    "import pickle\n",
    "from copy import deepcopy\n",
    "import hydra\n",
    "from omegaconf import OmegaConf\n",
    "from collections import OrderedDict\n",
    "\n",
    "import numpy as np\n",
    "from sklearn.metrics import classification_report\n",
    "import torch\n",
    "import torch.nn as nn\n",
    "import torch.nn.functional as F\n",
    "import torch.optim as optim\n",
    "import pandas as pd\n",
    "\n",
    "import pprint\n",
    "import wandb\n",
    "import matplotlib\n",
    "import matplotlib.pyplot as plt\n",
    "\n",
    "# custom package\n",
    "from datasets.caueeg_script import build_dataset_for_train\n",
    "import models\n",
    "from train.evaluate import check_accuracy\n",
    "from train.evaluate import check_accuracy_extended\n",
    "from train.evaluate import check_accuracy_extended_debug\n",
    "from train.evaluate import check_accuracy_multicrop\n",
    "from train.evaluate import check_accuracy_multicrop_extended\n",
    "from train.evaluate import calculate_confusion_matrix\n",
    "from train.evaluate import calculate_class_wise_metrics\n",
    "from train.visualize import draw_roc_curve\n",
    "from train.visualize import draw_confusion\n",
    "from train.visualize import draw_class_wise_metrics\n",
    "from train.visualize import draw_error_table\n",
    "from train.visualize import annotate_heatmap"
   ]
  },
  {
   "cell_type": "code",
   "execution_count": 3,
   "id": "d10e3f39-ed55-422c-b47f-376691cbeed6",
   "metadata": {
    "pycharm": {
     "name": "#%%\n"
    }
   },
   "outputs": [
    {
     "name": "stdout",
     "output_type": "stream",
     "text": [
      "PyTorch version: 1.11.0+cu113\n",
      "cuda is available.\n"
     ]
    }
   ],
   "source": [
    "print('PyTorch version:', torch.__version__)\n",
    "device = torch.device('cuda' if torch.cuda.is_available() else 'cpu')\n",
    "\n",
    "if torch.cuda.is_available(): print('cuda is available.')\n",
    "else: print('cuda is unavailable.') "
   ]
  },
  {
   "cell_type": "markdown",
   "id": "d2a62fa4-aa53-49d5-8ab4-2e2aaf7b65d1",
   "metadata": {
    "pycharm": {
     "name": "#%% md\n"
    },
    "tags": []
   },
   "source": [
    "-----\n",
    "\n",
    "## List up the models to check accuracy"
   ]
  },
  {
   "cell_type": "code",
   "execution_count": 4,
   "id": "06d3404e-be31-4a63-ac4b-214868fe0cd4",
   "metadata": {},
   "outputs": [
    {
     "name": "stdout",
     "output_type": "stream",
     "text": [
      "['tp7qn5hd',\n",
      " 'q1hhkmik',\n",
      " '0svudowu',\n",
      " 'ruqd8r7g',\n",
      " 'dn10a6bv',\n",
      " 'atbhqdgg',\n",
      " '4439k9pg',\n",
      " 'nemy8ikm',\n",
      " '1cdws3t5']\n"
     ]
    }
   ],
   "source": [
    "model_names = [\n",
    "    'tp7qn5hd',\n",
    "    'q1hhkmik',\n",
    "    '0svudowu',\n",
    "    'ruqd8r7g',\n",
    "    'dn10a6bv',\n",
    "    'atbhqdgg',\n",
    "    '4439k9pg',\n",
    "    'nemy8ikm',\n",
    "    '1cdws3t5',\n",
    "]\n",
    "\n",
    "model_pool = []\n",
    "\n",
    "for model_name in model_names:\n",
    "    path = os.path.join(r'E:\\CAUEEG\\checkpoint', model_name, 'checkpoint.pt')\n",
    "    try:\n",
    "        ckpt = torch.load(path, map_location=device)\n",
    "        model_pool.append({'name': model_name, 'path': path})\n",
    "    except Exception as e:\n",
    "        print(e)\n",
    "        print(f'- checkpoint cannot be opened: {path}')\n",
    "        \n",
    "pprint.pprint([model_dict['name'] for model_dict in model_pool])"
   ]
  },
  {
   "cell_type": "markdown",
   "id": "c00973b7-d2ba-4e54-a4ac-86879c1fe89f",
   "metadata": {},
   "source": [
    "---\n",
    "\n",
    "## Configurations"
   ]
  },
  {
   "cell_type": "code",
   "execution_count": 5,
   "id": "c7dfec22-3837-46a7-8b4d-4588300068bc",
   "metadata": {},
   "outputs": [],
   "source": [
    "base_repeat = 500\n",
    "crop_multiple = 8\n",
    "test_crop_multiple = 8\n",
    "verbose = False\n",
    "save_fig = True\n",
    "task = 'exp-abnormal'"
   ]
  },
  {
   "cell_type": "markdown",
   "id": "5e25ca9a-48ee-4c0d-8e06-616a84e59527",
   "metadata": {},
   "source": [
    "-----\n",
    "\n",
    "## Evaluate each model and accumulate the logits"
   ]
  },
  {
   "cell_type": "code",
   "execution_count": null,
   "id": "bee4f853-3cad-4b01-8ee8-44ac9e49adbe",
   "metadata": {
    "pycharm": {
     "name": "#%%\n"
    }
   },
   "outputs": [
    {
     "name": "stdout",
     "output_type": "stream",
     "text": [
      "- checking for tp7qn5hd 1D-ResNeXt-50 ...\n",
      "- checking for q1hhkmik 1D-ResNet-50 ...\n",
      "- checking for 0svudowu 2D-ResNeXt-50 ...\n",
      "- checking for ruqd8r7g 2D-VGG-19 ...\n",
      "- checking for dn10a6bv 2D-ResNet-18 ...\n"
     ]
    }
   ],
   "source": [
    "for model_dict in model_pool:\n",
    "    # load and parse the checkpoint\n",
    "    ckpt = torch.load(model_dict['path'], map_location=device)\n",
    "    model_state = ckpt['model_state']\n",
    "    config = ckpt['config']\n",
    "    \n",
    "    model_dict['model'] = config['model']\n",
    "    model_dict['num_params'] = config.get('num_params', '???')\n",
    "    model_dict['model size (MiB)'] = sys.getsizeof(pickle.dumps(model_state)) / (1024 * 1024)\n",
    "    # torch.save(model_state, 'temptemptemp.pt')\n",
    "    \n",
    "    model_dict['seq_length'] = config['seq_length']\n",
    "    model_dict['use_age'] = config['use_age']\n",
    "    model_dict['photic'] = config['photic']\n",
    "    model_dict['EKG'] = config['EKG']\n",
    "\n",
    "    model_dict['awgn'] = config.get('awgn', 0)\n",
    "    model_dict['awgn_age'] = config.get('awgn_age', 0)\n",
    "    model_dict['mgn'] = config.get('mgn', 0)\n",
    "    model_dict['mixup'] = config.get('mixup', 0)\n",
    "    model_dict['dropout'] = config.get('dropout', 0)\n",
    "    model_dict['weight_decay'] = config.get('weight_decay', '???')\n",
    "    model_dict['fc_stages'] = config.get('fc_stages', 1)\n",
    "    \n",
    "    model_dict['minibatch'] = round(config['minibatch'])\n",
    "    model_dict['total_samples'] = round(config.get('total_samples', config['iterations'] * config['minibatch']))\n",
    "    model_dict['base_lr'] = config.get('base_lr', config.get('LR', '???'))\n",
    "    model_dict['lr_scheduler_type'] = config.get('lr_scheduler_type', 'constant_with_decay')\n",
    "    model_dict['warmup_steps'] = config.get('warmup_steps', '???')\n",
    "    model_dict['seed'] = config.get('seed', '???')\n",
    "    \n",
    "    print('- checking for', model_dict['name'], config['model'], '...')\n",
    "    \n",
    "    # initiate the model\n",
    "    if '_target_' in config:\n",
    "        model = hydra.utils.instantiate(config).to(device)\n",
    "    elif type(config['generator']) is str:\n",
    "        config['generator'] = getattr(models, config['generator'].split('.')[-1])\n",
    "        if 'block' in config:\n",
    "            config['block'] = getattr(models, config['block'].split('.')[-1])\n",
    "        model = config['generator'](**config).to(device)\n",
    "    else:\n",
    "        if 'block' in config:\n",
    "            if config['block'] == models.resnet_1d.BottleneckBlock1D:\n",
    "                config['block'] = 'bottleneck'\n",
    "            elif config['block'] == models.resnet_2d.Bottleneck2D:\n",
    "                config['block'] = 'bottleneck'\n",
    "            elif config['block'] == models.resnet_1d.BasicBlock1D:\n",
    "                config['block'] = 'basic'\n",
    "            elif config['block'] == models.resnet_2d.BasicBlock2D:\n",
    "                config['block'] = 'basic'\n",
    "                \n",
    "        model = config['generator'](**config).to(device)\n",
    "    \n",
    "    if config.get('ddp', False):\n",
    "        model_state_ddp = deepcopy(model_state)\n",
    "        model_state = OrderedDict()\n",
    "        for k, v in model_state_ddp.items():\n",
    "            name = k[7:]  # remove 'module.' of DataParallel/DistributedDataParallel\n",
    "            model_state[name] = v\n",
    "    \n",
    "    model.load_state_dict(model_state)\n",
    "    \n",
    "    # reconfigure and update\n",
    "    config.pop('cwd', 0)\n",
    "    config['ddp'] = False\n",
    "    config['crop_multiple'] = crop_multiple\n",
    "    config['crop_timing_analysis'] = False\n",
    "    config['eval'] = True\n",
    "    config['device'] = device\n",
    "    \n",
    "    repeat = round(base_repeat / crop_multiple)\n",
    "    model_dict['repeat'] = repeat\n",
    "    model_dict['crop_multiple'] = crop_multiple\n",
    "    model_dict['test_crop_multiple'] = test_crop_multiple\n",
    "    \n",
    "    # build dataset\n",
    "    _ = build_dataset_for_train(config, verbose=verbose)\n",
    "    train_loader = _[0]\n",
    "    val_loader = _[1]\n",
    "    test_loader = _[2]\n",
    "    multicrop_test_loader = _[3]\n",
    "    \n",
    "    # train accuracy\n",
    "    train_acc = check_accuracy(model, train_loader, \n",
    "                               config['preprocess_test'], config, repeat=repeat)\n",
    "    model_dict['Train Accuracy'] = train_acc\n",
    "    \n",
    "    # val accuracy\n",
    "    val_acc = check_accuracy(model, val_loader, \n",
    "                             config['preprocess_test'], config, repeat=repeat)\n",
    "    model_dict['Validation Accuracy'] = val_acc\n",
    "    \n",
    "    # Test accuracy\n",
    "    _ = check_accuracy_extended(model, test_loader, \n",
    "                                config['preprocess_test'], config, repeat=repeat)\n",
    "    model_dict['Test Throughput'] = _[4]\n",
    "    model_dict['Test Accuracy'] = _[0]\n",
    "    model_dict['Test Score'] = _[1]\n",
    "    model_dict['Test Target'] = _[2]\n",
    "    test_confusion = _[3]\n",
    "    test_class_wise_metrics = calculate_class_wise_metrics(test_confusion)\n",
    "    \n",
    "    for k, v in test_class_wise_metrics.items():\n",
    "        for c in range(config['out_dims']):\n",
    "            c_name = config['class_label_to_name'][c]\n",
    "            model_dict[f'{k} ({c_name})'] = test_class_wise_metrics[k][c]\n",
    "            \n",
    "    if save_fig:\n",
    "        draw_roc_curve(model_dict['Test Score'], \n",
    "                       model_dict['Test Target'], \n",
    "                       config['class_label_to_name'], \n",
    "                       use_wandb=False, \n",
    "                       save_path=f'local/output/imgs/{model_dict[\"name\"]}-ROC.pdf')\n",
    "\n",
    "        draw_confusion(test_confusion, \n",
    "                       config['class_label_to_name'], \n",
    "                       use_wandb=False, \n",
    "                       save_path=f'local/output/imgs/{model_dict[\"name\"]}-confusion.pdf')\n",
    "\n",
    "        draw_class_wise_metrics(test_confusion, \n",
    "                                config['class_label_to_name'], \n",
    "                                use_wandb=False, \n",
    "                                save_path=f'local/output/imgs/{model_dict[\"name\"]}-class-wise.pdf')    \n",
    "    # Multi-crop test accuracy\n",
    "    _ = check_accuracy_multicrop_extended(model, multicrop_test_loader, \n",
    "                                          config['preprocess_test'], config, repeat=repeat)\n",
    "    model_dict['Multi-Crop Test Throughput'] = _[4]\n",
    "    model_dict['Multi-Crop Test Accuracy'] = _[0]\n",
    "    model_dict['Multi-Crop Test Score'] = _[1]\n",
    "    model_dict['Multi-Crop Test Target'] = _[2]\n",
    "    multi_test_confusion = _[3]\n",
    "    multi_test_class_wise_metrics = calculate_class_wise_metrics(multi_test_confusion)\n",
    "    \n",
    "    for k, v in multi_test_class_wise_metrics.items():\n",
    "        for c in range(config['out_dims']):\n",
    "            c_name = config['class_label_to_name'][c]\n",
    "            model_dict[f'Multi-Crop {k} ({c_name})'] = multi_test_class_wise_metrics[k][c]\n",
    "            \n",
    "    if save_fig:\n",
    "        draw_roc_curve(model_dict['Multi-Crop Test Score'], \n",
    "                       model_dict['Multi-Crop Test Target'], \n",
    "                       config['class_label_to_name'], \n",
    "                       use_wandb=False, \n",
    "                       save_path=f'local/output/imgs/{model_dict[\"name\"]}-roc-tta.pdf')\n",
    "\n",
    "        draw_confusion(multi_test_confusion, \n",
    "                       config['class_label_to_name'], \n",
    "                       use_wandb=False, \n",
    "                       save_path=f'local/output/imgs/{model_dict[\"name\"]}-confusion-tta.pdf')\n",
    "\n",
    "        draw_class_wise_metrics(multi_test_confusion, \n",
    "                                config['class_label_to_name'], \n",
    "                                use_wandb=False, \n",
    "                                save_path=f'local/output/imgs/{model_dict[\"name\"]}-class-wise-tta.pdf') \n",
    "            \n",
    "print('==== Finished ====')"
   ]
  },
  {
   "cell_type": "code",
   "execution_count": null,
   "id": "938742fe-926a-4547-9c64-c428df64e0b4",
   "metadata": {},
   "outputs": [],
   "source": []
  },
  {
   "cell_type": "markdown",
   "id": "36f20c63-6d13-47a3-b6d5-8cbf89b5b25e",
   "metadata": {},
   "source": [
    "## Conduct ensemble"
   ]
  },
  {
   "cell_type": "code",
   "execution_count": null,
   "id": "3343a302-6361-49db-b31e-68f5b43f98b9",
   "metadata": {},
   "outputs": [],
   "source": [
    "n_ensemble = len(model_pool)\n",
    "\n",
    "ensemble_test_score = np.zeros_like(model_pool[0]['Test Score'])\n",
    "ensemble_multi_test_score = np.zeros_like(model_pool[0]['Multi-Crop Test Score'])\n",
    "\n",
    "ensemble_test_latency = 0\n",
    "ensemble_multi_test_latency = 0\n",
    "\n",
    "ensemble_params = 0\n",
    "ensemble_model_size = 0\n",
    "\n",
    "for model_dict in model_pool:\n",
    "    ensemble_test_score += model_dict['Test Score'] / len(model_pool)\n",
    "    ensemble_multi_test_score += model_dict['Multi-Crop Test Score'] / len(model_pool)\n",
    "    \n",
    "    ensemble_test_latency += 1 / model_dict['Test Throughput']\n",
    "    ensemble_multi_test_latency += 1 / model_dict['Multi-Crop Test Throughput']\n",
    "    \n",
    "    ensemble_params += model_dict['num_params']\n",
    "    ensemble_model_size += model_dict['model size (MiB)']"
   ]
  },
  {
   "cell_type": "code",
   "execution_count": null,
   "id": "412e7fa3-c13f-4b40-bf4a-74c029c1a979",
   "metadata": {},
   "outputs": [],
   "source": [
    "# ensemble accuracy\n",
    "pred = ensemble_test_score.argmax(axis=-1)\n",
    "ensemble_test_acc = 100.0 * (pred.squeeze() == model_pool[0]['Test Target']).sum() / pred.shape[0]\n",
    "\n",
    "# class wise metrics\n",
    "ensemble_test_confusion = calculate_confusion_matrix(pred, model_pool[0]['Test Target'], \n",
    "                                                     num_classes=ensemble_test_score.shape[-1])\n",
    "ensembel_test_class_wise_metrics = calculate_class_wise_metrics(ensemble_test_confusion)"
   ]
  },
  {
   "cell_type": "code",
   "execution_count": null,
   "id": "849eb54a-909d-4261-99fc-49de781583f8",
   "metadata": {},
   "outputs": [],
   "source": [
    "# multi-crop accuracy\n",
    "pred = ensemble_multi_test_score.argmax(axis=-1)\n",
    "ensemble_multi_test_acc = 100.0 * (pred.squeeze() == model_pool[0]['Multi-Crop Test Target']).sum() / pred.shape[0]\n",
    "\n",
    "# class wise metrics\n",
    "ensemble_multi_test_confusion = calculate_confusion_matrix(pred, model_pool[0]['Multi-Crop Test Target'], \n",
    "                                                           num_classes=ensemble_multi_test_score.shape[-1])\n",
    "ensembel_multi_test_class_wise_metrics = calculate_class_wise_metrics(ensemble_multi_test_confusion)"
   ]
  },
  {
   "cell_type": "markdown",
   "id": "e8e5fc9c-d890-4050-a844-ecd2a0e7791e",
   "metadata": {},
   "source": [
    "## Visualize the ensemble results"
   ]
  },
  {
   "cell_type": "code",
   "execution_count": null,
   "id": "c046bc5e-8b28-4c2c-941a-490a809b57dd",
   "metadata": {},
   "outputs": [],
   "source": [
    "# draw\n",
    "save_path = f'local/output/imgs/{task}-ensemble-roc.pdf' if save_fig else None\n",
    "draw_roc_curve(ensemble_test_score, model_pool[0]['Test Target'], config['class_label_to_name'], \n",
    "               use_wandb=False, save_path=save_path)\n",
    "\n",
    "save_path = f'local/output/imgs/{task}-ensemble-confusion.pdf' if save_fig else None\n",
    "draw_confusion(ensemble_test_confusion, config['class_label_to_name'], \n",
    "               normalize=True, use_wandb=False, save_path=save_path)\n",
    "\n",
    "save_path = f'local/output/imgs/{task}-ensemble-class-wise.pdf' if save_fig else None\n",
    "draw_class_wise_metrics(ensemble_test_confusion, config['class_label_to_name'], \n",
    "                        use_wandb=False, save_path=save_path)"
   ]
  },
  {
   "cell_type": "code",
   "execution_count": null,
   "id": "c0289203-64f9-409f-83aa-d22327e1711b",
   "metadata": {},
   "outputs": [],
   "source": [
    "# draw\n",
    "save_path = f'local/output/imgs/{task}-ensemble-roc-tta.pdf' if save_fig else None\n",
    "draw_roc_curve(ensemble_multi_test_score, model_pool[0]['Multi-Crop Test Target'], config['class_label_to_name'], \n",
    "               use_wandb=False, save_path=save_path)\n",
    "\n",
    "save_path = f'local/output/imgs/{task}-ensemble-confusion-tta.pdf' if save_fig else None\n",
    "draw_confusion(ensemble_multi_test_confusion, config['class_label_to_name'], \n",
    "               normalize=True, use_wandb=False, save_path=save_path)\n",
    "\n",
    "save_path = f'local/output/imgs/{task}-ensemble-class-wise-tta.pdf' if save_fig else None\n",
    "draw_class_wise_metrics(ensemble_multi_test_confusion, config['class_label_to_name'], \n",
    "                        use_wandb=False, save_path=save_path)"
   ]
  },
  {
   "cell_type": "markdown",
   "id": "a82fdfdb-b237-409a-b896-12d8c5118159",
   "metadata": {},
   "source": [
    "## Summarize the ensemble results"
   ]
  },
  {
   "cell_type": "code",
   "execution_count": null,
   "id": "d045fb8c-2a4f-4c84-b3d5-a688e079fa44",
   "metadata": {},
   "outputs": [],
   "source": [
    "ensemble_dict = {}\n",
    "\n",
    "ensemble_dict['name'] = 'Ensemble'\n",
    "ensemble_dict['Test Throughput'] = 1 / ensemble_test_latency\n",
    "ensemble_dict['Test Accuracy'] = ensemble_test_acc\n",
    "ensemble_dict['Multi-Crop Test Throughput'] = 1 / ensemble_multi_test_latency\n",
    "ensemble_dict['Multi-Crop Test Accuracy'] = ensemble_multi_test_acc\n",
    "ensemble_dict['num_params'] = ensemble_params\n",
    "ensemble_dict['model size (MiB)'] = ensemble_model_size\n",
    "\n",
    "for k, v in ensembel_test_class_wise_metrics.items():\n",
    "    for c in range(config['out_dims']):\n",
    "        c_name = config['class_label_to_name'][c]\n",
    "        ensemble_dict[f'{k} ({c_name})'] = ensembel_test_class_wise_metrics[k][c]\n",
    "        \n",
    "for k, v in ensembel_multi_test_class_wise_metrics.items():\n",
    "    for c in range(config['out_dims']):\n",
    "        c_name = config['class_label_to_name'][c]\n",
    "        ensemble_dict[f'Multi-Crop {k} ({c_name})'] = ensembel_multi_test_class_wise_metrics[k][c]\n",
    "        \n",
    "model_pool.append(ensemble_dict)"
   ]
  },
  {
   "cell_type": "code",
   "execution_count": null,
   "id": "85f973f6-b799-4ba5-9258-9eee4f2f88ee",
   "metadata": {},
   "outputs": [],
   "source": [
    "for model_dict in model_pool:\n",
    "    model_dict.pop('Test Score', None)\n",
    "    model_dict.pop('Test Target', None)\n",
    "    model_dict.pop('Multi-Crop Test Score', None)\n",
    "    model_dict.pop('Multi-Crop Test Target', None)"
   ]
  },
  {
   "cell_type": "code",
   "execution_count": null,
   "id": "439ae7d8-ac60-42ad-b852-c38d3d52987c",
   "metadata": {},
   "outputs": [],
   "source": [
    "pd.DataFrame(model_pool)"
   ]
  },
  {
   "cell_type": "code",
   "execution_count": null,
   "id": "3bfabea6-e56f-4f29-8027-cb290a3d2d2a",
   "metadata": {},
   "outputs": [],
   "source": [
    "pd.DataFrame(model_pool).to_csv(f'local/output/{task}-ensemble.csv')"
   ]
  },
  {
   "cell_type": "markdown",
   "id": "b18fd432-14fc-4771-a203-3e705537685a",
   "metadata": {},
   "source": [
    "##### "
   ]
  }
 ],
 "metadata": {
  "kernelspec": {
   "display_name": "Python 3 (ipykernel)",
   "language": "python",
   "name": "python3"
  },
  "language_info": {
   "codemirror_mode": {
    "name": "ipython",
    "version": 3
   },
   "file_extension": ".py",
   "mimetype": "text/x-python",
   "name": "python",
   "nbconvert_exporter": "python",
   "pygments_lexer": "ipython3",
   "version": "3.9.12"
  }
 },
 "nbformat": 4,
 "nbformat_minor": 5
}
