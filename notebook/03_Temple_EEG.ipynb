{
 "cells": [
  {
   "cell_type": "markdown",
   "id": "e32df52f-7226-4197-8d6c-6a204a0ee37e",
   "metadata": {
    "pycharm": {
     "name": "#%% md\n"
    }
   },
   "source": [
    "# Temple EEG\n",
    "\n",
    "This notebook looks around the Temple University Hospital EEG Abnormal Corpus (`TUAB`) dataset and convert the file format from the `EDF` to `NumPy memmap` for the speed-up."
   ]
  },
  {
   "cell_type": "markdown",
   "id": "ee7f6701-3340-4f9d-9e96-bca33a6f5cfb",
   "metadata": {
    "pycharm": {
     "name": "#%% md\n"
    }
   },
   "source": [
    "-----\n",
    "\n",
    "## Configure environments"
   ]
  },
  {
   "cell_type": "code",
   "execution_count": 1,
   "id": "7f0afeb3-ed95-4142-897e-4b816d02b2ed",
   "metadata": {
    "pycharm": {
     "name": "#%%\n"
    }
   },
   "outputs": [
    {
     "name": "stdout",
     "output_type": "stream",
     "text": [
      "C:\\Users\\Minjae\\Desktop\\EEG_Project\n"
     ]
    }
   ],
   "source": [
    "# for auto-reloading external modules\n",
    "# see http://stackoverflow.com/questions/1907993/autoreload-of-modules-in-ipython\n",
    "%load_ext autoreload\n",
    "%autoreload 2\n",
    "%cd .."
   ]
  },
  {
   "cell_type": "code",
   "execution_count": 2,
   "id": "73402311-6b5a-4ca9-90e3-68655e1a9c59",
   "metadata": {
    "pycharm": {
     "name": "#%%\n"
    }
   },
   "outputs": [],
   "source": [
    "# Load some packages\n",
    "import os\n",
    "import glob\n",
    "\n",
    "import math\n",
    "import json\n",
    "import pyedflib\n",
    "import numpy as np\n",
    "\n",
    "import pprint\n",
    "from tqdm.auto import tqdm\n",
    "\n",
    "# custom package\n",
    "from datasets.temple_eeg_dataset import *\n",
    "from datasets.pipeline import *"
   ]
  },
  {
   "cell_type": "code",
   "execution_count": 3,
   "id": "6b46fa14-9fe5-4f39-944f-705733f7a327",
   "metadata": {
    "pycharm": {
     "name": "#%%\n"
    }
   },
   "outputs": [],
   "source": [
    "# Data file path\n",
    "origin_path = r'H:\\Other_DB\\Temple_EEG\\tuh_eeg_abnormal\\v2.0.0\\edf'\n",
    "desired_path = r'local/dataset/Temple_EEG/'"
   ]
  },
  {
   "cell_type": "markdown",
   "id": "77ae7fc8-09e4-40b0-9043-558e4a428f5e",
   "metadata": {},
   "source": [
    "---\n",
    "## `TUAB` dataset"
   ]
  },
  {
   "cell_type": "markdown",
   "id": "a46e5eb0-561c-4b37-b39a-2d7f71dffa1b",
   "metadata": {},
   "source": [
    "### Age"
   ]
  },
  {
   "cell_type": "code",
   "execution_count": null,
   "id": "b3123035-2cd4-4aad-9831-644d02395880",
   "metadata": {},
   "outputs": [],
   "source": [
    "count = 0\n",
    "text_files = glob.glob(os.path.join(origin_path, 'train/normal/01_tcp_ar/*/*/*/*.txt'))\n",
    "for filename in text_files:\n",
    "    with open(filename, 'rt', encoding='UTF-8') as f:\n",
    "        text_script = f.read()\n",
    "        if 'year' in text_script:\n",
    "            count += 1\n",
    "        else:\n",
    "            print(text_script)\n",
    "            print('-----' * 4)\n",
    "            \n",
    "print(count, len(text_files)) "
   ]
  },
  {
   "cell_type": "markdown",
   "id": "d5454839-40b7-4a2f-8062-1c916f476d0b",
   "metadata": {},
   "source": [
    "## File Conversion to MEMMAP"
   ]
  },
  {
   "cell_type": "code",
   "execution_count": null,
   "id": "54c8ca5d-ab05-4e61-a281-95751e12fc64",
   "metadata": {},
   "outputs": [
    {
     "data": {
      "application/vnd.jupyter.widget-view+json": {
       "model_id": "0d6b0d3698ba4da38702a44349e9e815",
       "version_major": 2,
       "version_minor": 0
      },
      "text/plain": [
       "  0%|          | 0/2993 [00:00<?, ?it/s]"
      ]
     },
     "metadata": {},
     "output_type": "display_data"
    }
   ],
   "source": [
    "ref_headers = ['EEG FP1-REF', 'EEG FP2-REF', 'EEG F3-REF', 'EEG F4-REF', \n",
    "               'EEG C3-REF', 'EEG C4-REF', 'EEG P3-REF', 'EEG P4-REF', \n",
    "               'EEG O1-REF', 'EEG O2-REF', 'EEG F7-REF', 'EEG F8-REF', \n",
    "               'EEG T3-REF', 'EEG T4-REF', 'EEG T5-REF', 'EEG T6-REF', \n",
    "               'EEG A1-REF', 'EEG A2-REF', 'EEG FZ-REF', 'EEG CZ-REF', \n",
    "               'EEG PZ-REF', 'EEG T1-REF', 'EEG T2-REF', 'EEG EKG1-REF']\n",
    "C = len(ref_headers)\n",
    "\n",
    "signal_labels_dict = dict()\n",
    "\n",
    "for i, edf_file in enumerate(tqdm(glob.glob(os.path.join(origin_path, '*/*/*/*/*/*/*.edf')))):\n",
    "    if i < 729:\n",
    "        continue\n",
    "        \n",
    "    signals, signal_headers, edf_header = pyedflib.highlevel.read_edf(edf_file)\n",
    "    \n",
    "    for sh in signal_headers:\n",
    "        signal_labels_dict[sh['label']] = signal_labels_dict.get(sh['label'], 0) + 1\n",
    "\n",
    "    signal_array = np.zeros((C, *signals[0].shape), dtype=np.float32)        \n",
    "    \n",
    "    for k, ch in enumerate(ref_headers):\n",
    "        idx = -1\n",
    "        for kk, sh in enumerate(signal_headers):\n",
    "            if ch == sh['label']:\n",
    "                idx = kk\n",
    "        \n",
    "        if idx < 0:\n",
    "            raise ValueError(f\"{edf_file} \\n\\t does not have {ch} label.\")\n",
    "        signal_array[k] = signals[idx]\n",
    "    signals = signal_array\n",
    "    \n",
    "    train_or_eval = edf_file.split('edf')[1].split('01_tcp_ar')[0].split('\\\\')[1]\n",
    "    pathology = edf_file.split('edf')[1].split('01_tcp_ar')[0].split('\\\\')[2]\n",
    "    memmap_file = os.path.join(desired_path, train_or_eval, pathology, os.path.basename(edf_file).split('.edf')[0] + '.dat')\n",
    "    os.makedirs(os.path.dirname(memmap_file), exist_ok=True)\n",
    "    fp = np.memmap(memmap_file, \n",
    "                   dtype='float32', mode='w+', shape=signals.shape)\n",
    "    fp[:] = signals[:]\n",
    "    fp.flush()\n",
    "\n",
    "print(signal_labels_dict)"
   ]
  },
  {
   "cell_type": "code",
   "execution_count": 7,
   "id": "97b423e7-c3a3-4550-9286-6eb895b37d25",
   "metadata": {},
   "outputs": [
    {
     "data": {
      "text/plain": [
       "[{'label': 'EEG FP1-REF',\n",
       "  'dimension': 'uV',\n",
       "  'sample_rate': 256.0,\n",
       "  'physical_max': 5482.288,\n",
       "  'physical_min': -5482.28,\n",
       "  'digital_max': 32767,\n",
       "  'digital_min': -32767,\n",
       "  'prefilter': 'HP:0.000 Hz LP:0.0 Hz N:0.0',\n",
       "  'transducer': 'Unknown'},\n",
       " {'label': 'EEG FP2-REF',\n",
       "  'dimension': 'uV',\n",
       "  'sample_rate': 256.0,\n",
       "  'physical_max': 5482.288,\n",
       "  'physical_min': -5482.28,\n",
       "  'digital_max': 32767,\n",
       "  'digital_min': -32767,\n",
       "  'prefilter': 'HP:0.000 Hz LP:0.0 Hz N:0.0',\n",
       "  'transducer': 'Unknown'},\n",
       " {'label': 'EEG F3-REF',\n",
       "  'dimension': 'uV',\n",
       "  'sample_rate': 256.0,\n",
       "  'physical_max': 5482.288,\n",
       "  'physical_min': -5482.28,\n",
       "  'digital_max': 32767,\n",
       "  'digital_min': -32767,\n",
       "  'prefilter': 'HP:0.000 Hz LP:0.0 Hz N:0.0',\n",
       "  'transducer': 'Unknown'},\n",
       " {'label': 'EEG F4-REF',\n",
       "  'dimension': 'uV',\n",
       "  'sample_rate': 256.0,\n",
       "  'physical_max': 5482.288,\n",
       "  'physical_min': -5482.28,\n",
       "  'digital_max': 32767,\n",
       "  'digital_min': -32767,\n",
       "  'prefilter': 'HP:0.000 Hz LP:0.0 Hz N:0.0',\n",
       "  'transducer': 'Unknown'},\n",
       " {'label': 'EEG C3-REF',\n",
       "  'dimension': 'uV',\n",
       "  'sample_rate': 256.0,\n",
       "  'physical_max': 5482.288,\n",
       "  'physical_min': -5482.28,\n",
       "  'digital_max': 32767,\n",
       "  'digital_min': -32767,\n",
       "  'prefilter': 'HP:0.000 Hz LP:0.0 Hz N:0.0',\n",
       "  'transducer': 'Unknown'},\n",
       " {'label': 'EEG C4-REF',\n",
       "  'dimension': 'uV',\n",
       "  'sample_rate': 256.0,\n",
       "  'physical_max': 5482.288,\n",
       "  'physical_min': -5482.28,\n",
       "  'digital_max': 32767,\n",
       "  'digital_min': -32767,\n",
       "  'prefilter': 'HP:0.000 Hz LP:0.0 Hz N:0.0',\n",
       "  'transducer': 'Unknown'},\n",
       " {'label': 'EEG P3-REF',\n",
       "  'dimension': 'uV',\n",
       "  'sample_rate': 256.0,\n",
       "  'physical_max': 5482.288,\n",
       "  'physical_min': -5482.28,\n",
       "  'digital_max': 32767,\n",
       "  'digital_min': -32767,\n",
       "  'prefilter': 'HP:0.000 Hz LP:0.0 Hz N:0.0',\n",
       "  'transducer': 'Unknown'},\n",
       " {'label': 'EEG P4-REF',\n",
       "  'dimension': 'uV',\n",
       "  'sample_rate': 256.0,\n",
       "  'physical_max': 5482.288,\n",
       "  'physical_min': -5482.28,\n",
       "  'digital_max': 32767,\n",
       "  'digital_min': -32767,\n",
       "  'prefilter': 'HP:0.000 Hz LP:0.0 Hz N:0.0',\n",
       "  'transducer': 'Unknown'},\n",
       " {'label': 'EEG O1-REF',\n",
       "  'dimension': 'uV',\n",
       "  'sample_rate': 256.0,\n",
       "  'physical_max': 5482.288,\n",
       "  'physical_min': -5482.28,\n",
       "  'digital_max': 32767,\n",
       "  'digital_min': -32767,\n",
       "  'prefilter': 'HP:0.000 Hz LP:0.0 Hz N:0.0',\n",
       "  'transducer': 'Unknown'},\n",
       " {'label': 'EEG O2-REF',\n",
       "  'dimension': 'uV',\n",
       "  'sample_rate': 256.0,\n",
       "  'physical_max': 5482.288,\n",
       "  'physical_min': -5482.28,\n",
       "  'digital_max': 32767,\n",
       "  'digital_min': -32767,\n",
       "  'prefilter': 'HP:0.000 Hz LP:0.0 Hz N:0.0',\n",
       "  'transducer': 'Unknown'},\n",
       " {'label': 'EEG F7-REF',\n",
       "  'dimension': 'uV',\n",
       "  'sample_rate': 256.0,\n",
       "  'physical_max': 5482.288,\n",
       "  'physical_min': -5482.28,\n",
       "  'digital_max': 32767,\n",
       "  'digital_min': -32767,\n",
       "  'prefilter': 'HP:0.000 Hz LP:0.0 Hz N:0.0',\n",
       "  'transducer': 'Unknown'},\n",
       " {'label': 'EEG F8-REF',\n",
       "  'dimension': 'uV',\n",
       "  'sample_rate': 256.0,\n",
       "  'physical_max': 5482.288,\n",
       "  'physical_min': -5482.28,\n",
       "  'digital_max': 32767,\n",
       "  'digital_min': -32767,\n",
       "  'prefilter': 'HP:0.000 Hz LP:0.0 Hz N:0.0',\n",
       "  'transducer': 'Unknown'},\n",
       " {'label': 'EEG T3-REF',\n",
       "  'dimension': 'uV',\n",
       "  'sample_rate': 256.0,\n",
       "  'physical_max': 5482.288,\n",
       "  'physical_min': -5482.28,\n",
       "  'digital_max': 32767,\n",
       "  'digital_min': -32767,\n",
       "  'prefilter': 'HP:0.000 Hz LP:0.0 Hz N:0.0',\n",
       "  'transducer': 'Unknown'},\n",
       " {'label': 'EEG T4-REF',\n",
       "  'dimension': 'uV',\n",
       "  'sample_rate': 256.0,\n",
       "  'physical_max': 5482.288,\n",
       "  'physical_min': -5482.28,\n",
       "  'digital_max': 32767,\n",
       "  'digital_min': -32767,\n",
       "  'prefilter': 'HP:0.000 Hz LP:0.0 Hz N:0.0',\n",
       "  'transducer': 'Unknown'},\n",
       " {'label': 'EEG T5-REF',\n",
       "  'dimension': 'uV',\n",
       "  'sample_rate': 256.0,\n",
       "  'physical_max': 5482.288,\n",
       "  'physical_min': -5482.28,\n",
       "  'digital_max': 32767,\n",
       "  'digital_min': -32767,\n",
       "  'prefilter': 'HP:0.000 Hz LP:0.0 Hz N:0.0',\n",
       "  'transducer': 'Unknown'},\n",
       " {'label': 'EEG T6-REF',\n",
       "  'dimension': 'uV',\n",
       "  'sample_rate': 256.0,\n",
       "  'physical_max': 5482.288,\n",
       "  'physical_min': -5482.28,\n",
       "  'digital_max': 32767,\n",
       "  'digital_min': -32767,\n",
       "  'prefilter': 'HP:0.000 Hz LP:0.0 Hz N:0.0',\n",
       "  'transducer': 'Unknown'},\n",
       " {'label': 'EEG A1-REF',\n",
       "  'dimension': 'uV',\n",
       "  'sample_rate': 256.0,\n",
       "  'physical_max': 5482.288,\n",
       "  'physical_min': -5482.28,\n",
       "  'digital_max': 32767,\n",
       "  'digital_min': -32767,\n",
       "  'prefilter': 'HP:0.000 Hz LP:0.0 Hz N:0.0',\n",
       "  'transducer': 'Unknown'},\n",
       " {'label': 'EEG A2-REF',\n",
       "  'dimension': 'uV',\n",
       "  'sample_rate': 256.0,\n",
       "  'physical_max': 5482.288,\n",
       "  'physical_min': -5482.28,\n",
       "  'digital_max': 32767,\n",
       "  'digital_min': -32767,\n",
       "  'prefilter': 'HP:0.000 Hz LP:0.0 Hz N:0.0',\n",
       "  'transducer': 'Unknown'},\n",
       " {'label': 'EEG FZ-REF',\n",
       "  'dimension': 'uV',\n",
       "  'sample_rate': 256.0,\n",
       "  'physical_max': 5482.288,\n",
       "  'physical_min': -5482.28,\n",
       "  'digital_max': 32767,\n",
       "  'digital_min': -32767,\n",
       "  'prefilter': 'HP:0.000 Hz LP:0.0 Hz N:0.0',\n",
       "  'transducer': 'Unknown'},\n",
       " {'label': 'EEG CZ-REF',\n",
       "  'dimension': 'uV',\n",
       "  'sample_rate': 256.0,\n",
       "  'physical_max': 5482.288,\n",
       "  'physical_min': -5482.28,\n",
       "  'digital_max': 32767,\n",
       "  'digital_min': -32767,\n",
       "  'prefilter': 'HP:0.000 Hz LP:0.0 Hz N:0.0',\n",
       "  'transducer': 'Unknown'},\n",
       " {'label': 'EEG PZ-REF',\n",
       "  'dimension': 'uV',\n",
       "  'sample_rate': 256.0,\n",
       "  'physical_max': 5482.288,\n",
       "  'physical_min': -5482.28,\n",
       "  'digital_max': 32767,\n",
       "  'digital_min': -32767,\n",
       "  'prefilter': 'HP:0.000 Hz LP:0.0 Hz N:0.0',\n",
       "  'transducer': 'Unknown'},\n",
       " {'label': 'EEG OZ-REF',\n",
       "  'dimension': 'uV',\n",
       "  'sample_rate': 256.0,\n",
       "  'physical_max': 5482.288,\n",
       "  'physical_min': -5482.28,\n",
       "  'digital_max': 32767,\n",
       "  'digital_min': -32767,\n",
       "  'prefilter': 'HP:0.000 Hz LP:0.0 Hz N:0.0',\n",
       "  'transducer': 'Unknown'},\n",
       " {'label': 'ECG EKG-REF',\n",
       "  'dimension': 'uV',\n",
       "  'sample_rate': 256.0,\n",
       "  'physical_max': 5482.288,\n",
       "  'physical_min': -5482.28,\n",
       "  'digital_max': 32767,\n",
       "  'digital_min': -32767,\n",
       "  'prefilter': 'HP:0.000 Hz LP:0.0 Hz N:0.0',\n",
       "  'transducer': 'Unknown'},\n",
       " {'label': 'PULSE RATE',\n",
       "  'dimension': 'bpm',\n",
       "  'sample_rate': 1.0,\n",
       "  'physical_max': 3276.7,\n",
       "  'physical_min': -3276.7,\n",
       "  'digital_max': 32767,\n",
       "  'digital_min': -32767,\n",
       "  'prefilter': 'HP:0.000 Hz LP:0.0 Hz N:0.0',\n",
       "  'transducer': ''},\n",
       " {'label': 'IBI',\n",
       "  'dimension': 'sec',\n",
       "  'sample_rate': 1.0,\n",
       "  'physical_max': 3276.7,\n",
       "  'physical_min': -3276.7,\n",
       "  'digital_max': 32767,\n",
       "  'digital_min': -32767,\n",
       "  'prefilter': 'HP:0.000 Hz LP:0.0 Hz N:0.0',\n",
       "  'transducer': ''},\n",
       " {'label': 'BURSTS',\n",
       "  'dimension': 'brst/min',\n",
       "  'sample_rate': 1.0,\n",
       "  'physical_max': 3276.7,\n",
       "  'physical_min': -3276.7,\n",
       "  'digital_max': 32767,\n",
       "  'digital_min': -32767,\n",
       "  'prefilter': 'HP:0.000 Hz LP:0.0 Hz N:0.0',\n",
       "  'transducer': ''},\n",
       " {'label': 'SUPPR',\n",
       "  'dimension': '%',\n",
       "  'sample_rate': 1.0,\n",
       "  'physical_max': 3276.7,\n",
       "  'physical_min': -3276.7,\n",
       "  'digital_max': 32767,\n",
       "  'digital_min': -32767,\n",
       "  'prefilter': 'HP:0.000 Hz LP:0.0 Hz N:0.0',\n",
       "  'transducer': ''}]"
      ]
     },
     "execution_count": 7,
     "metadata": {},
     "output_type": "execute_result"
    }
   ],
   "source": [
    "signal_headers"
   ]
  },
  {
   "cell_type": "code",
   "execution_count": 6,
   "id": "93fae8a7-b4af-44a3-8517-fa0e87e24acc",
   "metadata": {},
   "outputs": [
    {
     "data": {
      "text/plain": [
       "{'EEG FP1-REF': 647,\n",
       " 'EEG FP2-REF': 647,\n",
       " 'EEG F3-REF': 647,\n",
       " 'EEG F4-REF': 647,\n",
       " 'EEG C3-REF': 647,\n",
       " 'EEG C4-REF': 647,\n",
       " 'EEG P3-REF': 647,\n",
       " 'EEG P4-REF': 647,\n",
       " 'EEG O1-REF': 647,\n",
       " 'EEG O2-REF': 647,\n",
       " 'EEG F7-REF': 647,\n",
       " 'EEG F8-REF': 647,\n",
       " 'EEG T3-REF': 647,\n",
       " 'EEG T4-REF': 647,\n",
       " 'EEG T5-REF': 647,\n",
       " 'EEG T6-REF': 647,\n",
       " 'EEG A1-REF': 647,\n",
       " 'EEG A2-REF': 647,\n",
       " 'EEG FZ-REF': 647,\n",
       " 'EEG CZ-REF': 647,\n",
       " 'EEG PZ-REF': 647,\n",
       " 'EEG ROC-REF': 616,\n",
       " 'EEG LOC-REF': 616,\n",
       " 'EEG EKG1-REF': 646,\n",
       " 'EEG T1-REF': 646,\n",
       " 'EEG T2-REF': 646,\n",
       " 'PHOTIC-REF': 622,\n",
       " 'IBI': 647,\n",
       " 'BURSTS': 647,\n",
       " 'SUPPR': 647,\n",
       " 'EMG-REF': 466,\n",
       " 'EEG 26-REF': 442,\n",
       " 'EEG 27-REF': 438,\n",
       " 'EEG 28-REF': 438,\n",
       " 'EEG 29-REF': 438,\n",
       " 'EEG 30-REF': 438,\n",
       " 'EEG 31-REF': 17,\n",
       " 'EEG 32-REF': 17,\n",
       " 'EEG C3P-REF': 18,\n",
       " 'EEG C4P-REF': 18,\n",
       " 'EEG SP1-REF': 16,\n",
       " 'EEG SP2-REF': 16,\n",
       " 'EEG OZ-REF': 1,\n",
       " 'ECG EKG-REF': 1,\n",
       " 'PULSE RATE': 1}"
      ]
     },
     "execution_count": 6,
     "metadata": {},
     "output_type": "execute_result"
    }
   ],
   "source": [
    "signal_labels_dict"
   ]
  },
  {
   "cell_type": "markdown",
   "id": "e2611ddc-8bae-4491-9837-ace8c791fcaf",
   "metadata": {
    "pycharm": {
     "name": "#%% md\n"
    }
   },
   "source": [
    "---\n",
    "## Simple preprocessing with converting"
   ]
  },
  {
   "cell_type": "markdown",
   "id": "009f30e1-5842-495f-9542-d4c0994024cc",
   "metadata": {
    "pycharm": {
     "name": "#%% md\n"
    }
   },
   "source": [
    "#### Test trailing zero signals trimming"
   ]
  },
  {
   "cell_type": "code",
   "execution_count": null,
   "id": "1b5113a7-9f88-480d-adcb-2b935604e5c2",
   "metadata": {
    "pycharm": {
     "name": "#%%\n"
    }
   },
   "outputs": [],
   "source": [
    "for i, f in enumerate(glob.glob(os.path.join(curate_path, 'signal/*.edf'))):\n",
    "    signals, signal_headers, edf_header = pyedflib.highlevel.read_edf(f)\n",
    "    signals = trim_trailing_zeros(signals)  # trim garbage zeros\n",
    "    print(f, end='\\t\\t')\n",
    "    print(edf_header['startdate'], end='\\t')\n",
    "    print(edf_header['startdate'] + datetime.timedelta(seconds = signals.shape[1] / 200), end='\\t')\n",
    "    print()\n",
    "    \n",
    "    if i > 10:\n",
    "        break"
   ]
  },
  {
   "cell_type": "markdown",
   "id": "f7d5b6ae-499d-4ad3-8756-78cd6fb7a940",
   "metadata": {
    "pycharm": {
     "name": "#%% md\n"
    }
   },
   "source": [
    "---\n",
    "## Convert and Save"
   ]
  },
  {
   "cell_type": "code",
   "execution_count": null,
   "id": "d17cd411-9acf-4e4d-91af-19182ec449c6",
   "metadata": {
    "pycharm": {
     "name": "#%%\n"
    }
   },
   "outputs": [],
   "source": [
    "save_feather = True\n",
    "save_memmap = True"
   ]
  },
  {
   "cell_type": "code",
   "execution_count": null,
   "id": "633134fd-b47a-431c-9f90-1d4e227a52d9",
   "metadata": {
    "pycharm": {
     "name": "#%%\n"
    }
   },
   "outputs": [],
   "source": [
    "if save_feather:\n",
    "    os.makedirs(os.path.join(curate_path, 'signal/feather'), exist_ok=True)\n",
    "\n",
    "if save_memmap:\n",
    "    os.makedirs(os.path.join(curate_path, 'signal/memmap'), exist_ok=True)\n",
    "\n",
    "for f in tqdm(glob.glob(os.path.join(curate_path, 'signal/*.edf'))):\n",
    "    # file name\n",
    "    serial = f.split('.edf')[0][-5:]\n",
    "    \n",
    "    # load signal\n",
    "    signals, signal_headers, edf_header = pyedflib.highlevel.read_edf(f)\n",
    "    signals = trim_trailing_zeros(signals)\n",
    "    signals = signals.astype('int32')\n",
    "    \n",
    "    # save as feather\n",
    "    if save_feather:\n",
    "        df = pd.DataFrame(data=signals.T, columns=[s_h['label'] for s_h in signal_headers], dtype=np.int32)\n",
    "        feather.write_feather(df, os.path.join(curate_path, 'signal/feather', serial + '.feather'))\n",
    "\n",
    "    # save as numpy memmap\n",
    "    if save_memmap:\n",
    "        fp = np.memmap(os.path.join(curate_path, 'signal/memmap', serial + '.dat'), \n",
    "                       dtype='int32', mode='w+', shape=signals.shape)\n",
    "        fp[:] = signals[:]\n",
    "        fp.flush()"
   ]
  },
  {
   "cell_type": "code",
   "execution_count": null,
   "id": "f65be79c-219c-4a23-b382-27df644c0c16",
   "metadata": {
    "pycharm": {
     "name": "#%%\n"
    }
   },
   "outputs": [],
   "source": []
  }
 ],
 "metadata": {
  "kernelspec": {
   "display_name": "Python 3 (ipykernel)",
   "language": "python",
   "name": "python3"
  },
  "language_info": {
   "codemirror_mode": {
    "name": "ipython",
    "version": 3
   },
   "file_extension": ".py",
   "mimetype": "text/x-python",
   "name": "python",
   "nbconvert_exporter": "python",
   "pygments_lexer": "ipython3",
   "version": "3.9.12"
  }
 },
 "nbformat": 4,
 "nbformat_minor": 5
}
