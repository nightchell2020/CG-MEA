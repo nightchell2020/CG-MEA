{
 "cells": [
  {
   "cell_type": "markdown",
   "id": "e32df52f-7226-4197-8d6c-6a204a0ee37e",
   "metadata": {
    "pycharm": {
     "name": "#%% md\n"
    }
   },
   "source": [
    "# Temple EEG\n",
    "\n",
    "This notebook looks around the Temple University Hospital EEG Abnormal Corpus (`TUAB`) dataset and convert the file format from the `EDF` to `NumPy memmap` for the speed-up."
   ]
  },
  {
   "cell_type": "markdown",
   "id": "ee7f6701-3340-4f9d-9e96-bca33a6f5cfb",
   "metadata": {
    "pycharm": {
     "name": "#%% md\n"
    }
   },
   "source": [
    "-----\n",
    "\n",
    "## Configure environments"
   ]
  },
  {
   "cell_type": "code",
   "execution_count": 1,
   "id": "7f0afeb3-ed95-4142-897e-4b816d02b2ed",
   "metadata": {
    "pycharm": {
     "name": "#%%\n"
    }
   },
   "outputs": [
    {
     "name": "stdout",
     "output_type": "stream",
     "text": [
      "C:\\Users\\Minjae\\Desktop\\EEG_Project\n"
     ]
    }
   ],
   "source": [
    "# for auto-reloading external modules\n",
    "# see http://stackoverflow.com/questions/1907993/autoreload-of-modules-in-ipython\n",
    "%load_ext autoreload\n",
    "%autoreload 2\n",
    "%cd .."
   ]
  },
  {
   "cell_type": "code",
   "execution_count": 2,
   "id": "73402311-6b5a-4ca9-90e3-68655e1a9c59",
   "metadata": {
    "pycharm": {
     "name": "#%%\n"
    }
   },
   "outputs": [],
   "source": [
    "# Load some packages\n",
    "import os\n",
    "import glob\n",
    "\n",
    "import math\n",
    "import json\n",
    "import pyedflib\n",
    "import numpy as np\n",
    "\n",
    "import pprint\n",
    "from tqdm.auto import tqdm\n",
    "\n",
    "# custom package\n",
    "from datasets.utils import *\n",
    "from datasets.pipeline import *"
   ]
  },
  {
   "cell_type": "code",
   "execution_count": 4,
   "id": "6b46fa14-9fe5-4f39-944f-705733f7a327",
   "metadata": {
    "pycharm": {
     "name": "#%%\n"
    }
   },
   "outputs": [],
   "source": [
    "# Data file path\n",
    "origin_path = r'H:\\Other_DB\\Temple_EEG\\tuh_eeg_abnormal\\v2.0.0\\edf'\n",
    "desired_path = 'local/dataset/05_Temple_EEG/'"
   ]
  },
  {
   "cell_type": "markdown",
   "id": "77ae7fc8-09e4-40b0-9043-558e4a428f5e",
   "metadata": {},
   "source": [
    "---\n",
    "## `TUAB` dataset"
   ]
  },
  {
   "cell_type": "code",
   "execution_count": 29,
   "id": "b3123035-2cd4-4aad-9831-644d02395880",
   "metadata": {},
   "outputs": [
    {
     "name": "stdout",
     "output_type": "stream",
     "text": [
      "LENGTH OF THE RECORDING:  24 minutes.\n",
      "ACTIVATION PROCEDURES:  Hyperventilation and photic stimulation.\n",
      "CONDITIONS OF THE RECORDING:  The recording was done according to the standard 10-20 Hz system with additional T1 and T2 electrodes, and a single EKG lead.\n",
      "CLINICAL HISTORY:  The patient presents with concerns of short-term memory as well as tinnitus bilaterally status post a fall with loss of consciousness on 09/10/2012.  Additionally, the patient has been having episodes of slurred speech and headaches.\n",
      "MEDICATIONS:  Carbamazepine.\n",
      "INTRODUCTION:  Digital video EEG is performed in the lab/bedside using standard 10-20 system of electrode placement with one channel of EKG.  Hyperventilation and photic stimulation are performed.\n",
      "DESCRIPTION OF THE RECORDING:  During brief wakefulness the posterior dominant rhythm consists of a well-formed and modulated low to moderate amplitude 10.5 to 11 Hz alpha activity that attenuates with eyes opening.  There is an anterior to posterior frequency amplitude gradient.  The majority of the recording is during sleep.  Normal sleep architectural including vertex waves, POSTS (posterior occipital sharp transients of sleep), vertex waves, sleep spindles, and K-complexes are captured.  Hyperventilation does not produce significant change in the background and is performed with a fair effort.  Photic stimulation results in symmetric occipital driving at high frequencies.  A single EKG lead demonstrates a regular rhythm with heart rate occasionally less than 60 beats per minute during sleep.\n",
      "FINDINGS:\n",
      "Stage 2 sleep.\n",
      "No epileptiform discharges.\n",
      "IMPRESSION:  This is a normal briefly awake and most asleep 24 minute EEG.  The lack of epileptiform discharges on a routine EEG does not rule out a clinical diagnosis of epilepsy.  During sleep a heart rate of fewer than 60 beats per minute is captured on a single EKG lead.\n",
      "\n",
      "\n",
      "\n",
      "\n",
      "--------------------\n",
      "`\n",
      "\n",
      "\n",
      "CLINICAL HISTORY:  Childhood epilepsy, seizure during sleep \"December 2012\".\n",
      "MEDICATIONS:  Topiramate.\n",
      "INTRODUCTION:  Digital video EEG is performed in the lab using standard 10-20 system of electrode placement with 1 channel EKG.  Hyperventilation and photic stimulation are performed.  This is an awake and stage II sleep record.\n",
      "DESCRIPTION OF THE RECORD:  In wakefulness, there is an 11 Hz, 50 mV alpha rhythm which is symmetric and reactive to eye opening.  There is a small amount of low voltage, frontal central beta.  Stage II sleep is characterized by vertex waves, K-complexes, spindles, and POSTS.\n",
      "Photic stimulation elicits vigorous bilateral driving.\n",
      "Hyperventilation produces rhythmic slowing in the background.\n",
      "Heart rate:  66 BPM.\n",
      "IMPRESSION:  Normal EEG.\n",
      "CLINICAL CORRELATION:  No epileptiform features were identified.  A normal EEG does not exclude a diagnosis of epilepsy.  This patient's previous studies were not available for comparison.\n",
      "\n",
      "\n",
      "\n",
      "\n",
      "--------------------\n",
      "CLINICAL HISTORY: Rare CPS since 2007. Currently seizure free.\n",
      "MEDICATIONS:  Dilantin and others.\n",
      "INTRODUCTION:  Digital video EEG was performed in the lab using standard 10-20 system of electrode placement with 1 channel EKG.  Hyperventilation and photic stimulation were performed.  This is an awake and sleep record.\n",
      "DESCRIPTION OF THE RECORD:  In wakefulness, there is a 9.5 Hz alpha rhythm with a small amount of low voltage, frontal central beta.\n",
      "Hyperventilation elicits a small amount of theta with a very slight asymmetry with a bit more on the left.\n",
      "Photic stimulation elicited bilateral driving with supra harmonic driving.\n",
      "Heart rate:  60 BPM.\n",
      "IMPRESSION:  This EEG is at the limits of normal for an adult of this age.\n",
      "CLINICAL CORRELATION:  This is one of many EEGs for this adult with a spell in 2007.  Of note, of all the EEGs she has had, only the 12/12/2011 EEG identified left anterior temporal sharp waves. The subtle findings noted in hyperventilation are not outside of the acceptable limits of normal, but the theta on the left is ipsilateral the previously defined sharp waves.\n",
      "\n",
      "\n",
      "\n",
      "\n",
      "--------------------\n",
      "CLINICAL HISTORY:  Adult female with a history of epilepsy and seizure yesterday.  Patient unable to describe.\n",
      "MEDICATIONS:  Depakote, Risperdal, Celexa, metformin.\n",
      "INTRODUCTION:  Digital video EEG was performed in the lab using standard 10-20 system of electrode placement with one channel EKG.  Hyperventilation and photic stimulation were completed.  This is an awake and drowsy record.\n",
      "\n",
      "DESCRIPTION OF THE RECORD:  In wakefulness, there is a low voltage 11 Hz alpha rhythm with generous low voltage beta.  Rhythmic central theta is noted as the patient transitions to stage 1 sleep with vertex waves, POSTS and again generous beta.  The patient transitions in and out of sleep.\n",
      "Photic stimulation elicits vigorous driving with harmonic and supraharmonic driving.  Hyperventilation produces an increase in amplitude of the background.\n",
      "Heart rate 60 BPM.\n",
      "IMPRESSION:  This is a normal EEG.\n",
      "CLINICAL CORRELATION:  The beta activity described above can be due to this patient's medications.  No epileptiform features were noted.  If epilepsy is an important consideration, a repeat study may be of use.\n",
      "\n",
      "\n",
      "\n",
      "\n",
      "--------------------\n",
      "CLINICAL HISTORY: Left carotid stenosis.\n",
      "MEDICATIONS: Crestor, aspirin and others.\n",
      "INTRODUCTION: Digital video EEG is performed in the lab using standard 10-20 system of electrode placement with one channel of EKG. Photic stimulation are performed. This is an awake and drowsy record.\n",
      "DESCRIPTION OF THE RECORD: In wakefulness, there is a 10.5 hertz, 30 microvolt, posterior dominant rhythm. There is a small amount of low voltage, frontocentral beta activity. Drowsiness is characterized by an increase in theta in the background as well as slowing of the alpha rhythm. Photic stimulation elicits bilateral driving. Heart rate is 70BPM.\n",
      "IMPRESSION: Normal EEG in wakefulness and drowsiness.\n",
      "CLINICAL CORRELATION: There are no epileptiform features noted. There are no focal features noted. This study will be used for the patient's baseline carotid study.\n",
      "\n",
      "\n",
      "\n",
      "\n",
      "--------------------\n",
      "MEDICATIONS: Lovenox, Keppra, Zocor\n",
      "Digital video EEG was performed in lab using standard 10-20\n",
      "system of electrode placement with 1 channel of EKG. Hyperventilation and photic\n",
      "stimulation were deferred.\n",
      "OF THE RECORD: The patient seems to be relatively drowsy\n",
      "throughout the EEG. The overall background in drowsiness is a bit slow with a 6 hertz\n",
      "theta pattern. Arousals are characterized by some frontal10 hertz activity. In brief\n",
      "wakefulness, an alpha rhythm is identified which is 9.5 hertz, 50 microvolts. The patient\n",
      "transitions in and out of a drowsy state with an increase in beta, attenuation of the alpha\n",
      "rhythm and at some point, some increase in some frontal fast activity. Vertex waves,\n",
      "POSTS and brief spindles are noted in stage II sleep.\n",
      "HR: 50 bpm\n",
      "IMPRESSION: Normal EEG:\n",
      "CLINICAL No focal nor epileptiform features are identified in this\n",
      "record. If additional information is needed, a followup study with hyperventilation and\n",
      "photic stimulation can be obtained.\n",
      "\n",
      "\n",
      "\n",
      "\n",
      "--------------------\n",
      "CLINICAL HISTORY:  Scarlet fever with seizures at age 3 or 4, past history of testicular cancer and febrile convulsions.  Two seizures while falling asleep in March, perhaps associated with trazodone use.\n",
      "MEDICATIONS:  Keppra.\n",
      "INTRODUCTION:  Digital video EEG is performed in the lab using standard 10-20 system of electrode placement with one channel of EKG.  Hyperventilation and photic stimulation were performed.\n",
      "DESCRIPTION OF THE RECORD:  In wakefulness, there is an 11 Hz, 30 microvolt posterior dominant rhythm.  Drowsiness is characterized by anterior spread of the alpha rhythm followed by a small amount of frontocentral theta, POSTs and attenuation of the alpha.  Very brief stage 2 sleep includes vertex waves and spindles.\n",
      "Hyperventilation produces an increase in theta.  Photic stimulation elicits a driving response.  Heart rate 82 BPM.\n",
      "IMPRESSION:  Normal EEG.\n",
      "CLINICAL CORRELATION:  No epileptiform features were identified.  Normal EEG does not exclude a diagnosis of epilepsy.\n",
      "\n",
      "\n",
      "\n",
      "\n",
      "--------------------\n",
      "LENGTH OF RECORDING:  Twenty-two minutes.\n",
      "CONDITION OF THE RECORDING:  The recording was performed according to the standard 10-20 system with additional T1 and T2 electrodes and a single EKG lead.  Hyperventilation and photic stimulation were performed.\n",
      "DESCRIPTION OF THE RECORDING:  The posterior dominant rhythm consists of fast and slow alpha variants.  There is an anterior-to-posterior frequency amplitude gradient with faster frequencies at lower amplitudes anteriorly.  Excess beta is present.  During sleep, POSTS (posterior occipital sharp transience of sleep), sleep spindles and vertex waves are captured.  Hyperventilation produces no significant change in background.  Stepped photic stimulation results in symmetrical occipital driving at multiple flash frequencies.  EKG artifacts captured occasionally.\n",
      "FINDINGS:\n",
      "Staged sleep.\n",
      "No epileptiform discharges.\n",
      "Excess beta.\n",
      "IMPRESSION:  This is a normal awake and asleep, 22-minute study.  The lack of epileptiform discharges in the routine EEG does not preclude a clinical diagnosis of epilepsy.  Excess beta could be seen as a result of medication effect such as benzodiazepines or barbiturates.\n",
      "\n",
      "\n",
      "\n",
      "\n",
      "--------------------\n",
      "REASON FOR STUDY:  Seizures.\n",
      "INTRODUCTION:  A routine EEG was performed using the standard 10-20 electrode placement system with additional anterior temporal and single lead EKG electrode.  The patient was recorded during wakefulness, stage I, and stage II.  Activating procedures included hyperventilation and photic stimulation.  The patient was recorded for an hour.\n",
      "DESCRIPTION OF THE RECORD:  The record opens to a posterior dominant rhythm that reaches 9-10 Hz, which is reactive to eye opening.  There is normal frontal central beta.  The patient is recorded wakefulness in stage I and stage II sleep.  Activating procedures included photic stimulation and hyperventilation, which produced no abnormal discharges.\n",
      "ABNORMAL DISCHARGES:  None.\n",
      "SEIZURES:  None.\n",
      "Heart rate 60.\n",
      "IMPRESSION:  Normal awake and sleep EEG.  No seizures or epileptiform discharges were seen during this 1 hour\n",
      "\n",
      "\n",
      "\n",
      "\n",
      "--------------------\n",
      "CLINICAL HISTORY:  Evaluate for paresthesias and shaking.\n",
      "MEDICATIONS:  Depakote, Elavil, Ativan, others.\n",
      "INTRODUCTION:  Digital video EEG was performed in the lab using standard 10-20 system of electrode placement with one channel of EKG.  Hyperventilation and photic stimulation were completed.\n",
      "DESCRIPTION OF THE RECORD:  In wakefulness, the background EEG includes a well organized pattern with an 11 Hz, 60-70 microvolt alpha rhythm and a generous amount of low voltage, frontocentral theta.  Hyperventilation was performed early in the record producing an increasing amplitude of the background.  Drowsiness is characterized by brief attenuation of the alpha rhythm.  Drowsiness is characterized by brief attenuation of the alpha rhythm.\n",
      "Photic stimulation did not significantly activate the record.\n",
      "Heart rate:  70 beats per minute.\n",
      "IMPRESSION:  This is a normal EEG.\n",
      "CLINICAL CORRELATION:  The generous beta may be related to this patient's medications.  If epilepsy is an important consideration, a follow-up study capturing deeper stages of sleep may be of value.\n",
      "\n",
      "\n",
      "\n",
      "\n",
      "--------------------\n",
      "REASON FOR STUDY:  Episode of loss of consciousness.\n",
      "CLINICAL HISTORY: Seizure elevate CPK, alcohol withdrawal\n",
      "MEDICATIONS:  Unknown\n",
      "INTRODUCTION:  A routine EEG was performed using the standard 10-20 electrode placement system with the addition of anterior temporal and single lead EKG electrode.  The patient was recorded during wakefulness only.  Activating procedures include hyperventilation and photic stimulation.\n",
      "Heart rate 96.\n",
      "TECHNICAL DIFFICULTIES:  None.\n",
      "DESCRIPTION OF THE RECORD:  The record opens to a posterior dominant rhythm that reaches 8-8.5 Hz which is reactive to eye opening.  There is some frontocentral beta.  Activating procedures produced no abnormal discharges.  The patient was recorded during wakefulness only.\n",
      "ABNORMAL DISCHARGES:  None.\n",
      "SEIZURES:  None.\n",
      "IMPRESSION:  Normal awake EEG.\n",
      "CLINICAL CORRELATION:  This is a normal awake EEG.  No seizures or epileptiform discharges were seen.\n",
      "\n",
      "\n",
      "\n",
      "\n",
      "--------------------\n",
      "CLINICAL HISTORY:  An elderly man who had a seizure following dental work with lidocaine on the 5th, transferred to the hospital on a propofol drip.  After extubation, the patient was noted to have intermittent tremulousness.\n",
      "MEDICATIONS:  Keppra, Ativan\n",
      "INTRODUCTION:  Continuous video EEG monitoring was performed in the unit using standard 10-20 system of electrode placement with one channel of EKG.  The patient had 2 episodes of tremulousness, both of which seemed to occur when he was stimulated from sleep.\n",
      "DESCRIPTION OF THE RECORD:  Random wakefulness and sleep.  In wakefulness, the background EEG is well organized.  In sleep, there are normal features of stage I and stage II sleep.  No epileptiform features were observed.\n",
      "Description of record:  The patient seems to be falling out of bed at 12:02.  He is awake, leans backward.  He has titubation of the head and body.  When he is trying to get up, there is some rhythmic 5 Hz artifact, but when he stops moving, there is a normal awake pattern.\n",
      "He has some vocalizations but does not seem to be able to call the nurse.\n",
      "The nurse enters and provides 2 mg of Ativan at 12:14.  The patient drifts off to sleep.  The pattern after the Ativan is relatively low voltage and slow.  Features of sleep are noted, but spontaneous arousals are also noted by 3:00 a.m.\n",
      "The patient is resting comfortably.  With tactile stimulation, the patient alerts and has titubation of the head.  No epileptiform activity is accompanied by this behavior.\n",
      "Heart rate 115 bpm with frequent PVCs.\n",
      "IMPRESSION:  This is a normal 24-hour video EEG with 2 events without epileptiform signature.\n",
      "CLINICAL CORRELATION:  Titubation of the head or tremulousness was not associated with an epileptiform activity.  No epileptiform features were identified.  The behaviors described above had characteristics to suggest that they were not seizures including preserved interaction and purposeful movement.\n",
      "\n",
      "\n",
      "\n",
      "\n",
      "--------------------\n",
      "CLINICAL HISTORY:  Localization-related epilepsy, unilateral numbness, syncope, date of most recent seizure unknown.  Seizures variously described as panic attacks, the patient feels her feet become cold, shakes, has loss of consciousness for 2-3 minutes, may bite her tongue.  Occasional lightheadedness.\n",
      "MEDICATIONS:  Not recorded.\n",
      "INTRODUCTION:  Digital video EEG was performed in the lab using standard 10-20 system of electrode placement with one channel of EKG.  Hyperventilation and photic stimulation were completed.  This is an awake and asleep record.\n",
      "DESCRIPTION OF THE RECORD:  In wakefulness there is a 10 Hz alpha rhythm.  Vertex waves were noted in stage 1 sleep.  K complexes are noted as the patient transitions to stage 2 sleep.  Hyperventilation did not activate the record.  Photic stimulation elicited bilateral driving.\n",
      "This was a 1 hour EEG.\n",
      "Heart rate 84 bpm.\n",
      "IMPRESSION:  Normal EEG in wakefulness through stage 2 sleep.\n",
      "CLINICAL CORRELATION:  No focal or epileptiform features were identified in this record.  This is the second normal EEG for this adult.\n",
      "\n",
      "\n",
      "\n",
      "\n",
      "--------------------\n",
      "CLINICAL HISTORY:  Recurrent fainting spells, most recent March 13.  Patient feels sick, shaky and confused afterward.  Stress-related.  Also global migraine headaches since age 12.\n",
      "MEDICATIONS: None\n",
      "INTRODUCTION:  Digital video EEG was performed in the lab using standard 10-20 system of electrode placement with one channel of EKG.  Hyperventilation and photic stimulation were completed.\n",
      "DESCRIPTION OF THE RECORD:  In wakefulness, there is a 9.5 Hz alpha rhythm with a small amount of low voltage, frontocentral beta.  Drowsiness is characterized by rhythmic theta followed by an increase in beta.  The features of drowsiness include hypersynchronous rhythmic slowing and then POSTS in stage I sleep.\n",
      "Photic stimulation produced a driving response.  Hyperventilation produced a small amount of slowing.  Heart rate 72 bpm.\n",
      "IMPRESSION:  Normal EEG in wakefulness and drowsiness.\n",
      "CLINICAL CORRELATION:  No focal or epileptiform features were identified in this record.  If epilepsy is an important consideration, a followup study capturing deeper stages of sleep is suggested.  Alternatively, an EEG capturing one of her spells may be of value.\n",
      "\n",
      "\n",
      "\n",
      "\n",
      "--------------------\n",
      "CLINICAL HISTORY:  The patient is status post a motor vehicle accident with head trauma in April, 2012. She subsequently developed new-onset seizures in October, 2012 and has had recurrent episodes of confusion and change of mental status.\n",
      "MEDICATIONS:  Keppra.\n",
      "INTRODUCTION:  This is an EEG recorded with a standard 10-20 system of electrode placement.  One channel of EKG monitoring was used as well.  The record captured wakefulness through drowsiness.\n",
      "DESCRIPTION OF THE RECORD:  Recording time started at 8:53 a.m. and ended at 9:17 a.m.  As the record opens, there is a well-formed and symmetric 10-Hz posterior dominant rhythm that is reactive to eye opening. There is a small amount of frontocentral beta activity that was identified symmetrically distributed as well. Stage 1 sleep and drowsiness is heralded by slowing of the posterior dominant rhythm and appearance of theta-frequency activities throughout.  Hyperventilation was performed with good effort and did not activate the tracing significantly.  Photic stimulation was not performed. There were no ictal discharges. There were no electrographic seizures. There were no clinical seizures.\n",
      "IMPRESSION:  This is a normal EEG capturing wakefulness through drowsiness. A normal EEG does not rule out clinical diagnosis of epilepsy.  If clinically indicated, a repeat tracing capturing deeper stages of sleep may be indicated in this patient. In addition, more prolonged monitoring maybe indicated.\n",
      "\n",
      "\n",
      "\n",
      "\n",
      "--------------------\n",
      "CLINICAL HISTORY:  She has a history of right hip pain and then developed recurrent body jerking movements several weeks ago and there was a question whether or not she has seizures.\n",
      "MEDICATIONS:  Unknown.\n",
      "INTRODUCTION:  Digital video EEG is performed in the lab/bedside using standard 10-20 system of electrode placement with one channel of EKG.  Hyperventilation and photic stimulation are performed.\n",
      "DESCRIPTION OF THE RECORD:  Recording started at 9:53 a.m. and ended at 10:18 a.m.  This is a bedside routine EEG performed using the standard 10-20 system electrode placement capturing wakefulness through drowsiness.  There is one channel of EKG monitoring.  As the record opened, there is a symmetric 8.5 to 9 Hz posterior dominant rhythm that is reactive to eye opening.  There is a small amount of frontal central beta activity identified that is also symmetrically distributed.  Drowsiness is characterized by slowing of the posterior dominant rhythm, the appearance of slow rolling eye movements and decrease in eye blinks.  Activation procedures including hyperventilation and photic stimulation were performed, and these did not significantly activate the tracing.  There were no interictal discharges, no spikes or sharp waves detected.  There were no ictal discharges.  There were no electrographic seizures.  There were no clinical events identified by the patient.\n",
      "IMPRESSION:  This is a normal EEG capturing wakefulness through drowsiness.\n",
      "CLINICAL CORRELATION:  Normal EEG does not rule out the clinical diagnosis of epilepsy.  If clinically indicated, a repeat tracing capturing deeper stages of sleep may be helpful in this patient.\n",
      "\n",
      "\n",
      "\n",
      "\n",
      "--------------------\n",
      "CLINICAL HISTORY:  Will add.\n",
      "MEDICATIONS:  Neurontin, alprazolam, omeprazole,  Will add other medications.\n",
      "INTRODUCTION:  A routine EEG was performed using the standard 10-20 system of electrode placement with anterior temporal and single lead EKG electrode.  The patient was recorded during wakefulness.  Activating procedures included hyperventilation and photic stimulation.\n",
      "DESCRIPTION OF THE RECORD:  The record opens to a well defined posterior dominant rhythm that reaches 9-10 Hz which is reactive to eye opening.  The patient is recorded in direct wakefulness only.  Activating procedures including hyperventilation and photic stimulation produced no abnormal discharges.\n",
      "ABNORMAL DISCHARGES:  None.\n",
      "SEIZURES:  None.\n",
      "IMPRESSION:  Normal awake EEG.\n",
      "CLINICAL CORRELATION:  This is a normal awake EEG.  No seizures or epileptiform discharges were seen.  Please note that a normal EEG does not exclude the diagnosis of epilepsy.  A repeated recording with capturing deeper stages of sleep may aid in confirming the diagnosis.\n",
      "\n",
      "\n",
      "\n",
      "\n",
      "--------------------\n",
      "CLINICAL HISTORY:  Epilepsy since age 7 admitted with 3 seizures on 01/18/2013 with generalized shaking and/or right sided shaking lasting 1-2 minutes.\n",
      "MEDICATIONS:  Tegretol, phenobarbital, others.\n",
      "INTRODUCTION:  Digital video EEG was performed at the bedside at 9:54 a.m. using standard 10-20 system of electrode placement with 1 channel EKG.  The patient was somnolent and not entirely cooperative.\n",
      "DESCRIPTION OF THE RECORD:  The EEG transitions between stage 2 sleep with vertex waves and K-complexes, as well as a drowsy pattern.  In drowsiness there is an increase in alpha frequency activity.  In this bedside recording in this patient who persists on lying on his left side, there is some artifacts in the posterior scalp region.  The technologist attempts to obtain the patient's cooperation with little success.  Arousals produce eye opening.  The patient then drifts off to sleep.  On one or 2 occasions there is a suggestion of an 8 Hz alpha rhythm before he drifts off to sleep.  POSTS were noted in sleep.\n",
      "Heart rate:  84.\n",
      "IMPRESSION:  This is a technically challenging bedside EEG, but it is within normal limits, primarily in sleep.\n",
      "CLINICAL CORRELATION:  No epileptiform features were identified.  Subtle focal features could be overlooked given the patient's positioning.  The hypersomnolence is an anticipated finding after seizures and a repeat study when the patient is able to come to the lab may be helpful in characterizing epileptiform activity.\n",
      "\n",
      "\n",
      "\n",
      "\n",
      "--------------------\n",
      "REASON FOR STUDY:  Dizziness.\n",
      "CLINICAL HISTORY:\n",
      "MEDICATIONS:  Norvasc, Benicar, Hydrocodone\n",
      "INTRODUCTION:  At routine EEG was performed using the standard 10-20 electrode placement system with additional anterior temporal and single lead EKG electrode.  The patient was recorded in wakefulness and sleep.  Activating procedures included hyperventilation and photic stimulation.\n",
      "DESCRIPTION OF THE RECORD:  The record opens to a well-defined posterior dominant rhythm that reaches 9 Hz, which is reactive to eye opening.  There is normal frontal central beta.  The patient recorded during wakefulness and sleep.  Activating procedures including hyperventilation and photic stimulation produced no abnormal discharges.\n",
      "ABNORMAL DISCHARGES:  None.\n",
      "HEART RATE:  48.\n",
      "IMPRESSION:  Normal awake and asleep EEG.\n",
      "CLINICAL CORRELATION:  This is a normal awake and asleep EEG.  No seizures or epileptiform discharges were seen.\n",
      "__________________________\n",
      "\n",
      "\n",
      "\n",
      "\n",
      "--------------------\n",
      "CLINICAL HISTORY:  Migraine headaches, one associated with a tonic-clonic seizure, migraine headaches associated with confusion.\n",
      "MEDICATIONS:  Topamax.\n",
      "INTRODUCTION:  Digital video EEG was performed in the lab using standard 10-20 system of electrode placement with one channel of EKG.  Hyperventilation and photic stimulation were performed.  This is an awake and asleep record.\n",
      "TECHNICAL:  This is a technically satisfactory EEG.\n",
      "DESCRIPTION OF THE RECORD:  In wakefulness, there is a 9.5 Hz 55 mV alpha rhythm which is symmetric and reactive to eye opening.  Posterior slow waves of youth were noted.  Features of drowsiness include slow rolling eye movements and anterior spread of the alpha rhythm.\n",
      "Hyperventilation produces a small increase in amplitude of the background.  Photic stimulation elicits scant driving.\n",
      "Heart rate 72 BPM.\n",
      "IMPRESSION:  Normal electroencephalogram in wakefulness and drowsiness.\n",
      "CLINICAL CORRELATION:  No focal or epileptiform features were identified.  Normal EEG does not exclude a diagnosis of epilepsy.\n",
      "\n",
      "\n",
      "\n",
      "\n",
      "--------------------\n",
      "CLINICAL HISTORY: Pseudo seizures and severe psychiatric disorder.\n",
      "MEDICATIONS:  Keppra, Depakote, Haldol, Thorazine, Geodon and Benadryl.\n",
      "INTRODUCTION:  Digital video EEG is performed in the lab using standard 10-20 system of electrode placement with one channel of EKG.  Hyperventilation and photic stimulation are performed.\n",
      "DESCRIPTION OF THE RECORD:  In wakefulness, there is a 10 Hz alpha rhythm.  Drowsiness is characterized by a prominent increase in beta.  In stage II sleep, there is prominent beta spindles and posts.  K complexes were also noted.\n",
      "Hyperventilation did not significantly activate the record.  Photic stimulation was performed while the patient was in stage II sleep and did not alert the patient.\n",
      "Heart rate 90 BMP.\n",
      "IMPRESSION:  This EEG is remarkable for generous beta, but is otherwise normal in wakefulness through stage II sleep.\n",
      "Clinical correlation:  No focal or epileptiform features were identified in this record.  The generous beta may be due to this patient's medications.  In comparison with this patient's previous EEG recordings which were utilized to make a diagnosis of nonepileptic seizures may be of value.\n",
      "\n",
      "\n",
      "\n",
      "\n",
      "--------------------\n",
      "CLINICAL HISTORY:  A 28-day-old female infant, born at 29 weeks' gestation by C-section due to placenta previa.  History of respiratory distress.  Maternal hepatitis C, herpes simplex virus, opioid, methadone, and marijuana abuse.  The baby is now jittery with multiple episodes of desaturation.\n",
      "MEDICATIONS:  Vancomycin, gentamicin, caffeine.\n",
      "INTRODUCTION:  Digital video EEG was performed in the ICU using the neonatal montage.  This was a 1-hour EEG, capturing wakefulness and sleep.\n",
      "DESCRIPTION OF THE RECORD:  The appropriate developmental milestones for an infant of this age were identified, and the EEG captured wakefulness and sleep.  When the infant is awake, the infant is moving about with significant muscle and movement artifact, but there is a continuous pattern with mixed frequencies noted, particularly theta.  Suck artifact was noted.  In sleep, delta brushes were noted.  Trace alternans was identified.\n",
      "Although there are some artifacts, there are rare, simple, right temporal sharp waves.\n",
      "Appropriate eye movement and other muscle artifacts and suck artifact were identified.\n",
      "Heart rate 150 bpm.\n",
      "IMPRESSION:  This EEG was within normal limits for an infant of this age.\n",
      "CLINICAL CORRELATION:  Delta brushes and trace alternans are appropriate developmental findings at this age.  The infrequent right temporal sharp waves are not considered pathological.  This individual was noted to be a bit jittery during the EEG, but no seizures were identified.\n",
      "\n",
      "\n",
      "\n",
      "\n",
      "--------------------\n",
      "CLINICAL HISTORY:  Episodes of left eye twitching, stiffness of the right arm lasting hours, multiple normal MRIs and normal neurological examination.\n",
      "MEDICATIONS:  Celexa, lisinopril, others.\n",
      "INTRODUCTION:  Digital video EEG was performed in the lab using standard 10-20 system of electrode placement with 1 channel of EKG.  Hyperventilation and photic stimulation were performed.  Technical considerations were within limits, although T1 and T2 impedances were slightly above 5 kilohms.\n",
      "DESCRIPTION OF THE RECORD:  In wakefulness there is a 10 Hz 40 mV posterior dominant rhythm with a small amount of low voltage frontal central beta.  Features in drowsiness include an increase in beta, as well as slow rolling eye movements.\n",
      "Hyperventilation produced an increase in amplitude of the background.\n",
      "Photic stimulation was remarkable for muscle artifact and photic electric artifact with scant driving.\n",
      "Heart rate:  66 BPM\n",
      "IMPRESSION:  Normal EEG in wakefulness and drowsiness.\n",
      "CLINICAL CORRELATION:  No focal or epileptiform features were identified in the EEG.\n",
      "\n",
      "\n",
      "\n",
      "\n",
      "--------------------\n",
      "CLINICAL HISTORY:  Syncope with blurry vision, and impaired vision in the left eye, seizure.\n",
      "MEDICATIONS:  Gabapentin, verapamil, Flomax, others.\n",
      "INTRODUCTION:  Digital video EEG was performed in the lab using standard 10-20 system of electrode placement with one channel EKG.  This is a routine awake and sleep EEG with acceptable impedances aside from the T2 electrode.  In addition, eye movements are slightly asymmetric.\n",
      "DESCRIPTION OF THE RECORD:  In wakefulness, the background EEG includes a 12 Hz alpha rhythm with a small amount of low voltage, frontocentral beta.  Alpha squeak was identified.  Brief drowsiness is characterized by slow rolling eye movements and attenuation of the alpha rhythm.\n",
      "Hyperventilation did not significantly activate the record.  Photic stimulation elicited a low voltage driving response.\n",
      "Heart rate:  90 BPM.\n",
      "IMPRESSION:  This is a normal EEG in wakefulness and brief drowsiness.\n",
      "CLINICAL CORRELATION:  No focal or epileptiform features were identified in this individual with a question of seizure versus syncope.  If epilepsy is an important consideration, a repeat tracing capturing deeper stages of sleep is suggested.\n",
      "\n",
      "\n",
      "\n",
      "\n",
      "--------------------\n",
      "1347 1371\n"
     ]
    }
   ],
   "source": [
    "count = 0\n",
    "text_files = glob.glob(os.path.join(origin_path, 'train/normal/01_tcp_ar/*/*/*/*.txt'))\n",
    "for filename in text_files:\n",
    "    with open(filename, 'rt', encoding='UTF-8') as f:\n",
    "        text_script = f.read()\n",
    "        if 'year' in text_script:\n",
    "            count += 1\n",
    "        else:\n",
    "            print(text_script)\n",
    "            print('-----' * 4)\n",
    "            \n",
    "print(count, len(text_files)) "
   ]
  },
  {
   "cell_type": "code",
   "execution_count": null,
   "id": "54c8ca5d-ab05-4e61-a281-95751e12fc64",
   "metadata": {},
   "outputs": [],
   "source": []
  },
  {
   "cell_type": "code",
   "execution_count": null,
   "id": "bd527662-4cfd-4082-8204-873d53e1d3b7",
   "metadata": {},
   "outputs": [],
   "source": []
  },
  {
   "cell_type": "markdown",
   "id": "e2611ddc-8bae-4491-9837-ace8c791fcaf",
   "metadata": {
    "pycharm": {
     "name": "#%% md\n"
    }
   },
   "source": [
    "---\n",
    "## Simple preprocessing with converting"
   ]
  },
  {
   "cell_type": "markdown",
   "id": "009f30e1-5842-495f-9542-d4c0994024cc",
   "metadata": {
    "pycharm": {
     "name": "#%% md\n"
    }
   },
   "source": [
    "#### Test trailing zero signals trimming"
   ]
  },
  {
   "cell_type": "code",
   "execution_count": null,
   "id": "1b5113a7-9f88-480d-adcb-2b935604e5c2",
   "metadata": {
    "pycharm": {
     "name": "#%%\n"
    }
   },
   "outputs": [],
   "source": [
    "for i, f in enumerate(glob.glob(os.path.join(curate_path, 'signal/*.edf'))):\n",
    "    signals, signal_headers, edf_header = pyedflib.highlevel.read_edf(f)\n",
    "    signals = trim_trailing_zeros(signals)  # trim garbage zeros\n",
    "    print(f, end='\\t\\t')\n",
    "    print(edf_header['startdate'], end='\\t')\n",
    "    print(edf_header['startdate'] + datetime.timedelta(seconds = signals.shape[1] / 200), end='\\t')\n",
    "    print()\n",
    "    \n",
    "    if i > 10:\n",
    "        break"
   ]
  },
  {
   "cell_type": "markdown",
   "id": "f7d5b6ae-499d-4ad3-8756-78cd6fb7a940",
   "metadata": {
    "pycharm": {
     "name": "#%% md\n"
    }
   },
   "source": [
    "---\n",
    "## Convert and Save"
   ]
  },
  {
   "cell_type": "code",
   "execution_count": null,
   "id": "d17cd411-9acf-4e4d-91af-19182ec449c6",
   "metadata": {
    "pycharm": {
     "name": "#%%\n"
    }
   },
   "outputs": [],
   "source": [
    "save_feather = True\n",
    "save_memmap = True"
   ]
  },
  {
   "cell_type": "code",
   "execution_count": null,
   "id": "633134fd-b47a-431c-9f90-1d4e227a52d9",
   "metadata": {
    "pycharm": {
     "name": "#%%\n"
    }
   },
   "outputs": [],
   "source": [
    "if save_feather:\n",
    "    os.makedirs(os.path.join(curate_path, 'signal/feather'), exist_ok=True)\n",
    "\n",
    "if save_memmap:\n",
    "    os.makedirs(os.path.join(curate_path, 'signal/memmap'), exist_ok=True)\n",
    "\n",
    "for f in tqdm(glob.glob(os.path.join(curate_path, 'signal/*.edf'))):\n",
    "    # file name\n",
    "    serial = f.split('.edf')[0][-5:]\n",
    "    \n",
    "    # load signal\n",
    "    signals, signal_headers, edf_header = pyedflib.highlevel.read_edf(f)\n",
    "    signals = trim_trailing_zeros(signals)\n",
    "    signals = signals.astype('int32')\n",
    "    \n",
    "    # save as feather\n",
    "    if save_feather:\n",
    "        df = pd.DataFrame(data=signals.T, columns=[s_h['label'] for s_h in signal_headers], dtype=np.int32)\n",
    "        feather.write_feather(df, os.path.join(curate_path, 'signal/feather', serial + '.feather'))\n",
    "\n",
    "    # save as numpy memmap\n",
    "    if save_memmap:\n",
    "        fp = np.memmap(os.path.join(curate_path, 'signal/memmap', serial + '.dat'), \n",
    "                       dtype='int32', mode='w+', shape=signals.shape)\n",
    "        fp[:] = signals[:]\n",
    "        fp.flush()"
   ]
  },
  {
   "cell_type": "code",
   "execution_count": null,
   "id": "f65be79c-219c-4a23-b382-27df644c0c16",
   "metadata": {
    "pycharm": {
     "name": "#%%\n"
    }
   },
   "outputs": [],
   "source": []
  }
 ],
 "metadata": {
  "kernelspec": {
   "display_name": "Python 3 (ipykernel)",
   "language": "python",
   "name": "python3"
  },
  "language_info": {
   "codemirror_mode": {
    "name": "ipython",
    "version": 3
   },
   "file_extension": ".py",
   "mimetype": "text/x-python",
   "name": "python",
   "nbconvert_exporter": "python",
   "pygments_lexer": "ipython3",
   "version": "3.9.12"
  }
 },
 "nbformat": 4,
 "nbformat_minor": 5
}
