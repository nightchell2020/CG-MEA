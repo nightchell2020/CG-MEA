{
 "cells": [
  {
   "cell_type": "markdown",
   "metadata": {
    "pycharm": {
     "name": "#%% md\n"
    }
   },
   "source": [
    "# EEG Data Statistics\n",
    "\n",
    "`01_Data_Curation1`과 `02_Data_Curation2`에서 저장한 EEG 데이터의 분포를 전반적으로 살펴보는 노트북."
   ]
  },
  {
   "cell_type": "markdown",
   "metadata": {
    "pycharm": {
     "name": "#%% md\n"
    }
   },
   "source": [
    "-----\n",
    "\n",
    "## 환경 구성"
   ]
  },
  {
   "cell_type": "code",
   "execution_count": 1,
   "metadata": {
    "pycharm": {
     "name": "#%%\n"
    },
    "tags": []
   },
   "outputs": [
    {
     "name": "stdout",
     "output_type": "stream",
     "text": [
      "D:\\GitHub\\eeg_analysis\n"
     ]
    }
   ],
   "source": [
    "# for auto-reloading external modules\n",
    "# see http://stackoverflow.com/questions/1907993/autoreload-of-modules-in-ipython\n",
    "%load_ext autoreload\n",
    "%autoreload 2\n",
    "%cd .."
   ]
  },
  {
   "cell_type": "code",
   "execution_count": 2,
   "metadata": {
    "pycharm": {
     "name": "#%%\n"
    },
    "tags": []
   },
   "outputs": [],
   "source": [
    "# Load some packages\n",
    "import os\n",
    "import glob\n",
    "import json\n",
    "import datetime\n",
    "import string\n",
    "\n",
    "import matplotlib.pyplot as plt\n",
    "import matplotlib.transforms as mtransforms\n",
    "from matplotlib.patches import FancyBboxPatch\n",
    "import scienceplots\n",
    "import statistics\n",
    "\n",
    "import pprint\n",
    "from tqdm.auto import tqdm\n",
    "\n",
    "import numpy as np\n",
    "import torch\n",
    "\n",
    "# custom package\n",
    "from datasets.caueeg_dataset import CauEegDataset\n",
    "from datasets.caueeg_data_curation import MultiEegLabel"
   ]
  },
  {
   "cell_type": "code",
   "execution_count": 2,
   "metadata": {
    "pycharm": {
     "name": "#%%\n"
    },
    "tags": []
   },
   "outputs": [],
   "source": [
    "# Other settings\n",
    "%matplotlib inline\n",
    "%config InlineBackend.figure_format = 'retina' # cleaner text\n",
    "\n",
    "plt.style.use('default') \n",
    "# ['Solarize_Light2', '_classic_test_patch', 'bmh', 'classic', 'dark_background', 'fast', \n",
    "#  'fivethirtyeight', 'ggplot', 'grayscale', 'seaborn', 'seaborn-bright', 'seaborn-colorblind', \n",
    "#  'seaborn-dark', 'seaborn-dark-palette', 'seaborn-darkgrid', 'seaborn-deep', 'seaborn-muted', \n",
    "#  'seaborn-notebook', 'seaborn-paper', 'seaborn-pastel', 'seaborn-poster', 'seaborn-talk', \n",
    "#  'seaborn-ticks', 'seaborn-white', 'seaborn-whitegrid', 'tableau-colorblind10']\n",
    "\n",
    "plt.rcParams['image.interpolation'] = 'bicubic'\n",
    "plt.rcParams[\"font.family\"] = 'Helvetica' # 'NanumGothic' # for Hangul in Windows"
   ]
  },
  {
   "cell_type": "code",
   "execution_count": 3,
   "metadata": {
    "pycharm": {
     "name": "#%%\n"
    },
    "tags": []
   },
   "outputs": [
    {
     "name": "stdout",
     "output_type": "stream",
     "text": [
      "2.1.2+cu118\n",
      "cuda is available.\n"
     ]
    }
   ],
   "source": [
    "print(torch.__version__)\n",
    "device = torch.device(\"cuda\" if torch.cuda.is_available() else \"cpu\")\n",
    "\n",
    "if torch.cuda.is_available(): print('cuda is available.')\n",
    "else: print('cuda is unavailable.')"
   ]
  },
  {
   "cell_type": "markdown",
   "metadata": {
    "pycharm": {
     "name": "#%% md\n"
    }
   },
   "source": [
    "-----\n",
    "\n",
    "## Curated Data 불러오기"
   ]
  },
  {
   "cell_type": "code",
   "execution_count": 4,
   "metadata": {
    "pycharm": {
     "name": "#%%\n"
    },
    "tags": []
   },
   "outputs": [],
   "source": [
    "# Data file path\n",
    "curate_folder = r'local/dataset/caueeg-dataset'\n",
    "output_folder = r'local/output/imgs'\n",
    "\n",
    "os.makedirs(output_folder, exist_ok=True)"
   ]
  },
  {
   "cell_type": "code",
   "execution_count": 5,
   "metadata": {
    "pycharm": {
     "name": "#%%\n"
    },
    "tags": []
   },
   "outputs": [
    {
     "name": "stdout",
     "output_type": "stream",
     "text": [
      "{'data': [{'age': 78, 'birth': '1940-06-02', 'dx1': 'mci_rf', 'edfname': '00001809_261018', 'record': '2018-10-26T15:46:26', 'serial': '00001', 'symptom': ['mci', 'mci_amnestic', 'mci_amnestic_rf']},\n",
      "          {'age': 56, 'birth': '1960-12-04', 'dx1': 'smi', 'edfname': '00029426_020817', 'record': '2017-08-02T16:14:56', 'serial': '00002', 'symptom': ['normal', 'smi']},\n",
      "          {'age': 93, 'birth': '1924-10-19', 'dx1': 'vascular mci', 'edfname': '00047327_090718', 'record': '2018-07-09T15:29:10', 'serial': '00003', 'symptom': ['mci', 'mci_vascular']},\n",
      "          {'age': 78, 'birth': '1941-03-16', 'dx1': 'load', 'edfname': '00048377_070819', 'record': '2019-08-07T13:55:25', 'serial': '00004', 'symptom': ['dementia', 'ad', 'load']},\n",
      "          {'age': 75, 'birth': '1941-03-16', 'dx1': 'mci (ef) multi-domain', 'edfname': '00048377_070916', 'record': '2016-09-07T10:36:01', 'serial': '00005', 'symptom': ['mci', 'mci_amnestic', 'mci_amnestic_ef', 'mci_multi_domain']}],\n",
      " 'dataset_name': 'CAUEEG dataset',\n",
      " 'signal_header': ['Fp1-AVG', 'F3-AVG', 'C3-AVG', 'P3-AVG', 'O1-AVG', 'Fp2-AVG', 'F4-AVG', 'C4-AVG', 'P4-AVG', 'O2-AVG', 'F7-AVG', 'T3-AVG', 'T5-AVG', 'F8-AVG', 'T4-AVG', 'T6-AVG', 'FZ-AVG', 'CZ-AVG', 'PZ-AVG', 'EKG', 'Photic']}\n"
     ]
    }
   ],
   "source": [
    "with open(os.path.join(curate_folder, 'annotation_debug.json'), 'r') as json_file:\n",
    "# with open(os.path.join(curate_folder, 'annotation.json'), 'r') as json_file:\n",
    "    annotation = json.load(json_file)\n",
    "\n",
    "pprint.pprint({k: (v if k != 'data' else v[:5]) for (k, v) in annotation.items()}, width=250)"
   ]
  },
  {
   "cell_type": "code",
   "execution_count": 6,
   "metadata": {},
   "outputs": [
    {
     "name": "stdout",
     "output_type": "stream",
     "text": [
      "1187\n",
      "976\n"
     ]
    }
   ],
   "source": [
    "with open(os.path.join(curate_folder, 'annotation_debug.json'), 'r') as json_file:\n",
    "# with open(os.path.join(curate_folder, 'annotation.json'), 'r') as json_file:\n",
    "    annotation = json.load(json_file)\n",
    "\n",
    "with open(os.path.join(curate_folder, 'dementia.json'), 'r') as json_file:\n",
    "    dementia = json.load(json_file)\n",
    "\n",
    "subject_set = []\n",
    "counter = 0\n",
    "for split in ['train_split', 'validation_split', 'test_split']:\n",
    "    for task_data in dementia[split]:\n",
    "        for data in annotation['data']:\n",
    "            if data['serial'] == task_data['serial']:\n",
    "                subject_set.append(data['edfname'].split('_')[0])\n",
    "                break\n",
    "print(len(subject_set))\n",
    "print(len(set(subject_set)))"
   ]
  },
  {
   "cell_type": "markdown",
   "metadata": {},
   "source": [
    "-----\n",
    "\n",
    "## 샘플 신호열 시각화"
   ]
  },
  {
   "cell_type": "code",
   "execution_count": 7,
   "metadata": {
    "pycharm": {
     "name": "#%%\n"
    },
    "scrolled": true,
    "tags": []
   },
   "outputs": [
    {
     "name": "stdout",
     "output_type": "stream",
     "text": [
      "1379\n",
      "\n",
      "{'age': 78,\n",
      " 'birth': '1940-06-02',\n",
      " 'dx1': 'mci_rf',\n",
      " 'edfname': '00001809_261018',\n",
      " 'record': '2018-10-26T15:46:26',\n",
      " 'serial': '00001',\n",
      " 'symptom': ['mci', 'mci_amnestic', 'mci_amnestic_rf']}\n",
      "\n",
      "(21, 145000)\n"
     ]
    }
   ],
   "source": [
    "print(len(annotation[\"data\"]))\n",
    "print()\n",
    "\n",
    "pprint.pprint(annotation[\"data\"][0])\n",
    "print()\n",
    "\n",
    "fname = os.path.join(curate_folder, 'signal/memmap', annotation[\"data\"][0]['serial'] + '.dat')\n",
    "signal = np.memmap(fname, dtype='int32', mode='r').reshape(21, -1)\n",
    "print(signal.shape)"
   ]
  },
  {
   "cell_type": "code",
   "execution_count": 8,
   "metadata": {
    "tags": []
   },
   "outputs": [
    {
     "data": {
      "text/plain": [
       "array([ -4, -10, -10, ...,  -4,   0,  -4])"
      ]
     },
     "execution_count": 8,
     "metadata": {},
     "output_type": "execute_result"
    }
   ],
   "source": [
    "np.array(signal)[:19].sum(axis=0)"
   ]
  },
  {
   "cell_type": "code",
   "execution_count": null,
   "metadata": {
    "tags": []
   },
   "outputs": [],
   "source": [
    "plt.style.use('classic') \n",
    "plt.style.use('default') \n",
    "plt.style.use('fivethirtyeight') # default, ggplot, fivethirtyeight, bmh, dark_background, classic\n",
    "plt.rcParams.update({'font.size': 14})\n",
    "plt.rcParams.update({'font.family': 'Roboto'})\n",
    "plt.rcParams[\"savefig.dpi\"] = 1200\n",
    "\n",
    "duration = 2000\n",
    "start = 115000 - 1000\n",
    "end = start + duration\n",
    "\n",
    "fig = plt.figure(num=1, clear=True, figsize=(10.0, 12.0))\n",
    "fig.subplots_adjust(hspace=0)\n",
    "\n",
    "for i, channel in enumerate(annotation['signal_header']):\n",
    "    if channel in ['Photic', 'EKG']:\n",
    "        continue\n",
    "    ax = fig.add_subplot(len(annotation['signal_header']), 1, i + 1)\n",
    "    ax.plot(signal[i, start:end], lw=1, c='tab:blue')\n",
    "    ax.set_xlim(0, end - start)\n",
    "\n",
    "    ax.set_ylabel(channel.split('-')[0])\n",
    "    \n",
    "    ax.set_xticks(np.arange(round(duration / 200) + 1) * 200)\n",
    "    ax.set_xticklabels([])\n",
    "    # ax.tick_params(axis='x', width=0.1, length=0.1)\n",
    "    ax.set_yticks([0])\n",
    "    ax.set_yticklabels([])\n",
    "\n",
    "ax.set_xticks(np.arange(round(duration / 200) + 1) * 200)\n",
    "ax.set_xticklabels(np.arange(round(duration / 200) + 1))\n",
    "\n",
    "\n",
    "# ax.set_title('Diagnoses in DB')\n",
    "ax.set_xlabel('Time (s)')\n",
    "# ax.set_ylabel('The number of recordings')\n",
    "\n",
    "fig.savefig(os.path.join(output_folder, 'signal_example.pdf'), transparent=True)\n",
    "plt.show()\n",
    "fig.clear()\n",
    "plt.close(fig)\n",
    "\n",
    "print(signal[:, start:end])"
   ]
  },
  {
   "cell_type": "code",
   "execution_count": null,
   "metadata": {
    "tags": []
   },
   "outputs": [],
   "source": [
    "plt.style.use('classic') \n",
    "plt.style.use('default') \n",
    "plt.style.use('bmh') # default, ggplot, fivethirtyeight, bmh, dark_background, classic\n",
    "plt.rcParams.update({'font.size': 14})\n",
    "plt.rcParams.update({'font.family': 'Roboto Slab'})\n",
    "plt.rcParams[\"savefig.dpi\"] = 1200\n",
    "\n",
    "duration = 2000\n",
    "start = 115000 - 1000\n",
    "end = start + duration\n",
    "\n",
    "fig, axs = plt.subplots(19, 1, sharex=True, figsize=(10.0, 14.0))\n",
    "fig.tight_layout(rect=[0, 0.03, 1, 1])\n",
    "fig.subplots_adjust(hspace=0)\n",
    "\n",
    "for i, channel in enumerate(annotation['signal_header']):\n",
    "    if channel in ['Photic', 'EKG']:\n",
    "        continue\n",
    "    axs[i].plot(signal[i, start:end], lw=0.8, c='tab:blue')\n",
    "    axs[i].set_xlim(0, end - start)\n",
    "\n",
    "    axs[i].set_ylabel(channel.split('-')[0])\n",
    "    \n",
    "    axs[i].tick_params(axis='x', width=0.0, length=0.0)\n",
    "    axs[i].tick_params(axis='y', width=0.0, length=0.0)\n",
    "    axs[i].set_xticks(np.arange(round(duration / 200) + 1) * 200)\n",
    "    axs[i].set_xticklabels(np.arange(round(duration / 200) + 1))\n",
    "    axs[i].xaxis.grid(visible=False)\n",
    "    axs[i].set_yticks([0])\n",
    "    axs[i].set_yticklabels([])\n",
    "\n",
    "axs[-1].set_xticks(np.arange(round(duration / 200) + 1) * 200)\n",
    "axs[-1].set_xticklabels(np.arange(round(duration / 200) + 1))\n",
    "\n",
    "# ax.set_title('Diagnoses in DB')\n",
    "axs[-1].set_xlabel('Time (s)')\n",
    "# ax.set_ylabel('The number of recordings')\n",
    "\n",
    "fig.savefig(os.path.join(output_folder, 'signal_example.pdf'), transparent=True)\n",
    "fig.savefig(os.path.join(output_folder, 'signal_example.svg'), transparent=True)\n",
    "plt.show()\n",
    "fig.clear()\n",
    "plt.close(fig)\n",
    "\n",
    "print(signal[:, start:end])"
   ]
  },
  {
   "cell_type": "markdown",
   "metadata": {
    "pycharm": {
     "name": "#%% md\n"
    }
   },
   "source": [
    "-----\n",
    "\n",
    "## 총 환자수"
   ]
  },
  {
   "cell_type": "code",
   "execution_count": null,
   "metadata": {
    "pycharm": {
     "name": "#%%\n"
    },
    "tags": []
   },
   "outputs": [],
   "source": [
    "a = set()\n",
    "for m in annotation[\"data\"]:\n",
    "    a.add(m['edfname'].split('_')[0])\n",
    "\n",
    "print(len(a))"
   ]
  },
  {
   "cell_type": "markdown",
   "metadata": {},
   "source": [
    "-----\n",
    "\n",
    "## 기간"
   ]
  },
  {
   "cell_type": "code",
   "execution_count": null,
   "metadata": {
    "tags": []
   },
   "outputs": [],
   "source": [
    "a = []\n",
    "for m in annotation[\"data\"]:\n",
    "    a.append(m['record'])\n",
    "\n",
    "print(len(a))\n",
    "pprint.pprint(sorted(a)[0])\n",
    "pprint.pprint(sorted(a)[-1])"
   ]
  },
  {
   "cell_type": "markdown",
   "metadata": {
    "pycharm": {
     "name": "#%% md\n"
    }
   },
   "source": [
    "-----\n",
    "\n",
    "## 데이터 통계\n",
    "\n",
    "- Signal dynamic range\n",
    "- Signal mean and variance\n",
    "- Signal length\n",
    "- Age\n",
    "- Diagnosis"
   ]
  },
  {
   "cell_type": "code",
   "execution_count": null,
   "metadata": {
    "pycharm": {
     "name": "#%%\n"
    },
    "tags": []
   },
   "outputs": [],
   "source": [
    "hist_min = []\n",
    "hist_max = []\n",
    "hist_mean = []\n",
    "hist_var = []\n",
    "\n",
    "hist_length = []\n",
    "hist_age = []\n",
    "dict_diagnosis = {}\n",
    "\n",
    "for (k, m) in enumerate(tqdm(annotation[\"data\"])):\n",
    "    fname = os.path.join(curate_folder, 'signal/memmap', m['serial'] + '.dat')\n",
    "    signal = np.memmap(fname, dtype='int32', mode='r').reshape(21, -1)\n",
    "    \n",
    "    hist_min.append(np.amin(signal, axis=1))\n",
    "    hist_max.append(np.amax(signal, axis=1))\n",
    "    hist_mean.append(np.mean(signal, axis=1))\n",
    "    hist_var.append(np.var(signal, axis=1))\n",
    "    \n",
    "    hist_length.append(signal.shape[1])\n",
    "    hist_age.append(m['age'])\n",
    "    \n",
    "    # d = MultiLabel(**{k: True for k in m['symptom']})\n",
    "    for l in m['symptom']:\n",
    "        dict_diagnosis[l] = dict_diagnosis.get(l, 0) + 1\n",
    "    \n",
    "hist_min = np.array(hist_min).T\n",
    "hist_max = np.array(hist_max).T\n",
    "hist_mean = np.array(hist_mean).T\n",
    "hist_var = np.array(hist_var).T\n",
    "\n",
    "hist_length = np.array(hist_length)\n",
    "hist_age = np.array(hist_age)\n",
    "\n",
    "print('Done.')"
   ]
  },
  {
   "cell_type": "markdown",
   "metadata": {
    "pycharm": {
     "name": "#%% md\n"
    }
   },
   "source": [
    "#### Signal min, max, mean, and var"
   ]
  },
  {
   "cell_type": "code",
   "execution_count": null,
   "metadata": {
    "pycharm": {
     "name": "#%%\n"
    },
    "tags": []
   },
   "outputs": [],
   "source": [
    "plt.style.use('default') \n",
    "\n",
    "ind = np.argsort(np.sum(hist_max - hist_min, axis=0))\n",
    "\n",
    "for i in tqdm(range(len(annotation[\"signal_header\"]))):\n",
    "    fig = plt.figure(num=1, clear=True, \n",
    "                 figsize=(60.0, 40.0), constrained_layout=True)\n",
    "\n",
    "    ax = fig.add_subplot(1, 1, 1)\n",
    "    ax.plot(hist_min[i, ind], 'b--', linewidth=1.2, label='min')\n",
    "    ax.plot(hist_max[i, ind], 'c--', linewidth=1.2, label='max')\n",
    "    ax.plot(hist_mean[i, ind], 'r-', linewidth=1.2, label='mean')\n",
    "    ax.fill_between(np.arange(hist_mean[i].shape[0]),\n",
    "                    hist_mean[i, ind] - hist_var[i, ind] / 20, \n",
    "                    hist_mean[i, ind] + hist_var[i, ind] / 20, \n",
    "                    color='m', alpha=0.4, label='var')\n",
    "\n",
    "    ax.set_title(annotation[\"signal_header\"][i], fontsize=70)\n",
    "    plt.legend(loc='upper center', shadow=True, fontsize=70).get_frame().set_facecolor('white')\n",
    "\n",
    "    fig.savefig(os.path.join(output_folder, f'signal_statistics_c{i + 1:02}.png'))\n",
    "\n",
    "    fig.clear()\n",
    "    plt.close(fig)\n",
    "    \n",
    "print('Done.')"
   ]
  },
  {
   "cell_type": "markdown",
   "metadata": {
    "pycharm": {
     "name": "#%% md\n"
    }
   },
   "source": [
    "#### Signal length"
   ]
  },
  {
   "cell_type": "code",
   "execution_count": null,
   "metadata": {
    "pycharm": {
     "name": "#%%\n"
    },
    "tags": []
   },
   "outputs": [],
   "source": [
    "plt.style.use('classic')\n",
    "plt.style.use('bmh') # default, ggplot, fivethirtyeight, classic\n",
    "plt.rcParams.update({'font.size': 28})\n",
    "plt.rcParams.update({'font.family': 'Roboto Slab'})\n",
    "plt.rcParams[\"savefig.dpi\"] = 1200\n",
    "\n",
    "fig = plt.figure(num=1, clear=True, \n",
    "                 figsize=(18.0, 7.0), constrained_layout=True)\n",
    "\n",
    "ax = fig.add_subplot(1, 1, 1)\n",
    "# ax.hist(hist_length / (60 * 200), histtype='stepfilled', color='k', bins=50)\n",
    "ax.hist(hist_length / (60 * 200), bins=60, color='tab:blue')\n",
    "ax.vlines(np.mean(hist_length) / (60 * 200), 0, 1, transform=ax.get_xaxis_transform(), colors='r')\n",
    "# ax.set_title('Signal Length Distribution')\n",
    "ax.set_xlabel('Signal length (min)')\n",
    "ax.set_ylabel('Number of recordings')\n",
    "\n",
    "fig.savefig(os.path.join(output_folder, 'signal_length_distribution.pdf'), transparent=True)\n",
    "\n",
    "plt.show()\n",
    "fig.clear()\n",
    "plt.close(fig)\n",
    "\n",
    "print(min(hist_length) / 200 / 60)\n",
    "print(max(hist_length) / 200 / 60)\n",
    "print(np.mean(hist_length) / 200 / 60)\n",
    "print(np.std(hist_length) / 200 / 60)"
   ]
  },
  {
   "cell_type": "markdown",
   "metadata": {
    "pycharm": {
     "name": "#%% md\n"
    }
   },
   "source": [
    "#### Age"
   ]
  },
  {
   "cell_type": "code",
   "execution_count": null,
   "metadata": {
    "pycharm": {
     "name": "#%%\n"
    },
    "tags": []
   },
   "outputs": [],
   "source": [
    "plt.style.use('classic')\n",
    "plt.style.use('bmh') # default, ggplot, fivethirtyeight, classic\n",
    "plt.rcParams.update({'font.size': 28})\n",
    "plt.rcParams.update({'font.family': 'Roboto Slab'})\n",
    "plt.rcParams[\"savefig.dpi\"] = 1200\n",
    "\n",
    "fig = plt.figure(num=1, clear=True, \n",
    "                 figsize=(18.0, 7.0), constrained_layout=True)\n",
    "\n",
    "ax = fig.add_subplot(1, 1, 1)\n",
    "ax.hist(hist_age, bins=60, color='tab:blue')\n",
    "ax.vlines(np.mean(hist_age), 0, 1, transform=ax.get_xaxis_transform(), colors='r')\n",
    "# ax.set_title('Age distribution')\n",
    "ax.set_xlabel('Age')\n",
    "ax.set_ylabel('Number of recordings')\n",
    "\n",
    "fig.savefig(os.path.join(output_folder, 'age_distribution.pdf'), transparent=True)\n",
    "\n",
    "plt.show()\n",
    "fig.clear()\n",
    "plt.close(fig)\n",
    "\n",
    "print(min(hist_age))\n",
    "print(max(hist_age))\n",
    "print(np.mean(hist_age))\n",
    "print(np.std(hist_age))"
   ]
  },
  {
   "cell_type": "markdown",
   "metadata": {
    "pycharm": {
     "name": "#%% md\n"
    }
   },
   "source": [
    "#### Diagnosis"
   ]
  },
  {
   "cell_type": "code",
   "execution_count": null,
   "metadata": {
    "pycharm": {
     "name": "#%%\n"
    },
    "tags": []
   },
   "outputs": [],
   "source": [
    "plt.style.use('default') \n",
    "plt.style.use('fivethirtyeight') # default, ggplot, fivethirtyeight, classic\n",
    "plt.rcParams.update({'font.size': 42})\n",
    "plt.rcParams.update({'font.family': 'Arial'})\n",
    "plt.rcParams[\"savefig.dpi\"] = 1200\n",
    "\n",
    "from cycler import cycler\n",
    "cc = cycler(color=['tab:blue', 'tab:orange', 'tab:green', 'tab:red', 'tab:purple',\n",
    "                   'tab:brown', 'tab:pink', 'tab:gray', 'tab:olive', 'tab:cyan'])\n",
    "\n",
    "fig = plt.figure(num=1, clear=True,\n",
    "                 figsize=(32.0, 14.0), constrained_layout=True)\n",
    "\n",
    "ax = fig.add_subplot(1, 1, 1)\n",
    "\n",
    "non_zero_labels = []\n",
    "for d in dict_diagnosis.keys():\n",
    "    if dict_diagnosis.get(d, 0) > 0:\n",
    "        non_zero_labels.append(d)\n",
    "\n",
    "for d, c in zip(non_zero_labels, cc()):\n",
    "    # rect = ax.bar(d, dict_diagnosis.get(d, 0), **c, alpha=0.8)\n",
    "    rect = ax.bar(d, dict_diagnosis.get(d, 0))\n",
    "    ax.bar_label(rect, padding=3)\n",
    "    \n",
    "# rect = ax.bar(*zip(*dict_diagnosis.items()))\n",
    "# ax.bar_label(rect, padding=3)\n",
    "plt.setp(ax.get_xticklabels(), rotation=60, ha=\"right\")\n",
    "# ax.set_title('Diagnoses in DB')\n",
    "ax.set_xlabel('Diagnosis')\n",
    "ax.set_ylabel('The number of recordings')\n",
    "\n",
    "fig.savefig(os.path.join(output_folder, 'diagnosis_distribution.pdf'), transparent=True)\n",
    "\n",
    "plt.show()\n",
    "fig.clear()\n",
    "plt.close(fig)"
   ]
  },
  {
   "cell_type": "code",
   "execution_count": null,
   "metadata": {
    "tags": []
   },
   "outputs": [],
   "source": [
    "plt.style.use('default') \n",
    "plt.style.use('fivethirtyeight') # default, ggplot, fivethirtyeight, bmh, dark_background, classic\n",
    "plt.rcParams.update({'font.size': 42})\n",
    "plt.rcParams.update({'font.family': 'Arial'})\n",
    "plt.rcParams[\"savefig.dpi\"] = 1200\n",
    "\n",
    "from cycler import cycler\n",
    "cc = cycler(color=['tab:red', 'tab:orange', 'tab:green', 'tab:blue', 'tab:purple',\n",
    "                   'tab:brown', 'tab:olive', 'tab:gray', 'tab:olive', 'tab:cyan'])\n",
    "\n",
    "reorder = [['dementia', 'ad', 'load', 'eoad', 'vd', 'sivd', 'ad-vd-mixed'], \n",
    "           ['mci', 'mci-ad',  'mci-amnestic', 'mci-amnestic-ef', 'mci-amnestic-rf', 'mci-non-amnestic', 'mci-multi-domain', 'mci-vascular'], \n",
    "           [ 'normal', 'cb-normal', 'smi', 'hc-normal'],\n",
    "           ['ftd', 'bvftd', 'semantic-aphasia', 'non-fluent-aphasia'], \n",
    "           ['parkinson-synd', 'parkinson-disease', 'parkinson-dementia'], ['nph'], ['tga'],]\n",
    "\n",
    "fig = plt.figure(num=1, clear=True,\n",
    "                 figsize=(35.0, 15.0), constrained_layout=True)\n",
    "ax = fig.add_subplot(1, 1, 1)\n",
    "\n",
    "non_zero_labels = []\n",
    "for dd in reorder:\n",
    "    nzl = []\n",
    "    for d in dd:\n",
    "        d = d.replace('-', '_')\n",
    "        if dict_diagnosis.get(d, 0) > 0:\n",
    "            nzl.append(d)\n",
    "    non_zero_labels.append(nzl)\n",
    "\n",
    "cnt = 0\n",
    "margin = 0.46\n",
    "for c, nzl in zip(cc(), non_zero_labels):\n",
    "    bb = mtransforms.Bbox([[cnt - margin, 0], [cnt + len(nzl) + margin - 1, 500.0]])\n",
    "    fancy = FancyBboxPatch(bb.p0, bb.width, bb.height, boxstyle=\"square,pad=0\")\n",
    "    fancy.set(edgecolor=\"k\", facecolor=c['color'], zorder=1, alpha=0.2)\n",
    "    ax.add_patch(fancy)\n",
    "    \n",
    "    if nzl[0] in ['dementia', 'mci', 'normal']:\n",
    "        ax.text(cnt + len(nzl) - 0.7, 465, nzl[0], \n",
    "                size=\"large\", color=c['color'], \n",
    "                style='italic', family='serif',\n",
    "                horizontalalignment=\"right\", verticalalignment=\"center\")\n",
    "        ax.text(cnt + len(nzl) - 0.7, 465, nzl[0], \n",
    "                size=\"large\", color='k', \n",
    "                style='italic', family='serif', \n",
    "                horizontalalignment=\"right\", verticalalignment=\"center\", alpha=0.4)\n",
    "    \n",
    "    for k, d in enumerate(nzl):\n",
    "        rect = ax.bar(d.replace('_', '-'), dict_diagnosis.get(d, 0), \n",
    "                      width=0.68, color=c['color'])\n",
    "        ax.bar_label(rect, padding=3)\n",
    "    \n",
    "    cnt += len(nzl)\n",
    "\n",
    "plt.setp(ax.get_xticklabels(), rotation=60, ha=\"right\")\n",
    "ax.set_xlabel('Diagnosis')\n",
    "ax.set_ylabel('The number of recordings')\n",
    "\n",
    "fig.savefig(os.path.join(output_folder, 'diagnosis_distribution.pdf'), transparent=True)\n",
    "\n",
    "plt.show()\n",
    "fig.clear()\n",
    "plt.close(fig)"
   ]
  },
  {
   "cell_type": "code",
   "execution_count": null,
   "metadata": {
    "tags": []
   },
   "outputs": [],
   "source": [
    "plt.style.use('default') \n",
    "plt.style.use('fivethirtyeight')  # default, ggplot, fivethirtyeight, bmh, dark_background, classic\n",
    "plt.rcParams.update({'font.size': 32})\n",
    "plt.rcParams.update({'font.family': 'Roboto Slab'})  # Arial, Roboto\n",
    "plt.rcParams[\"savefig.dpi\"] = 1200\n",
    "\n",
    "reverse_list_of_lists = lambda lst: [reverse_list_of_lists(sublist) if isinstance(sublist, list) else sublist for sublist in reversed(lst)]\n",
    "\n",
    "from cycler import cycler\n",
    "cc = cycler(color=reverse_list_of_lists([\n",
    "    'tab:green', 'tab:orange', 'tab:red', 'tab:blue', 'tab:purple',\n",
    "    'tab:brown', 'tab:olive']))\n",
    "\n",
    "reorder = reverse_list_of_lists([\n",
    "    ['normal', 'cb-normal', 'smi', 'hc-normal'],\n",
    "    ['mci', 'mci-ad',  'mci-amnestic', 'mci-amnestic-ef', 'mci-amnestic-rf', 'mci-non-amnestic', 'mci-multi-domain', 'mci-vascular'], \n",
    "    ['dementia', 'ad', 'load', 'eoad', 'vd', 'sivd', 'ad-vd-mixed'], \n",
    "    ['ftd', 'bvftd', 'semantic-aphasia', 'non-fluent-aphasia'], \n",
    "    ['parkinson-synd', 'parkinson-disease', 'parkinson-dementia'], \n",
    "    ['nph'], \n",
    "    ['tga'],\n",
    "])\n",
    "\n",
    "fig = plt.figure(num=1, clear=True,\n",
    "                 figsize=(20.0, 27.0), constrained_layout=True)\n",
    "ax = fig.add_subplot(1, 1, 1)\n",
    "non_zero_labels = []\n",
    "for dd in reorder:\n",
    "    nzl = []\n",
    "    for d in dd:\n",
    "        d = d.replace('-', '_')\n",
    "        if dict_diagnosis.get(d, 0) > 0:\n",
    "            nzl.append(d)\n",
    "    non_zero_labels.append(nzl)\n",
    "\n",
    "cnt = 0\n",
    "margin = 0.46\n",
    "for c, nzl in zip(cc(), non_zero_labels):\n",
    "    bb = mtransforms.Bbox([[0, cnt - margin], [490.0, cnt + len(nzl) + margin - 1]])\n",
    "    fancy = FancyBboxPatch(bb.p0, bb.width, bb.height, boxstyle=\"square,pad=0\")\n",
    "    fancy.set(edgecolor=\"k\", facecolor=c['color'], zorder=1, alpha=0.2)\n",
    "    ax.add_patch(fancy)\n",
    "    \n",
    "    if nzl[-1] in ['dementia', 'mci', 'normal', 'ftd', 'parkinson_synd']:\n",
    "        if nzl[-1] == 'dementia':\n",
    "            note = 'Dementia'\n",
    "        elif nzl[-1] == 'mci':\n",
    "            note = 'MCI'\n",
    "        elif nzl[-1] == 'normal':\n",
    "            note = 'Normal'\n",
    "        elif nzl[-1] == 'ftd':\n",
    "            note = 'FTD'\n",
    "        elif nzl[-1] == 'parkinson_synd':\n",
    "            note = 'Parkinson'\n",
    "        \n",
    "        ax.text(480, cnt + 0.3, note, \n",
    "                size=45, color=c['color'], \n",
    "                style='italic', family='serif',\n",
    "                horizontalalignment=\"right\", verticalalignment=\"center\")\n",
    "        ax.text(480, cnt + 0.3, note, \n",
    "                size=45, color='k', \n",
    "                style='italic', family='serif', \n",
    "                horizontalalignment=\"right\", verticalalignment=\"center\", alpha=0.4)\n",
    "    \n",
    "    for k, d in enumerate(nzl):\n",
    "        rect = ax.barh(d.replace('_', '-'), dict_diagnosis.get(d, 0), \n",
    "                      height=0.65, color=c['color'])\n",
    "        ax.bar_label(rect, padding=3)\n",
    "    \n",
    "    cnt += len(nzl)\n",
    "    \n",
    "ax.set_ylim(-0.7, cnt)\n",
    "ax.set_xlabel('Number of EEG recordings')\n",
    "ax.set_ylabel('Diagnosis')\n",
    "ax.xaxis.grid(visible=False)\n",
    "ax.yaxis.grid(visible=False)\n",
    "# ax.set_xticks([])\n",
    "\n",
    "fig.savefig(os.path.join(output_folder, 'diagnosis_distribution_rotated.pdf'), transparent=True)\n",
    "\n",
    "plt.show()\n",
    "fig.clear()\n",
    "plt.close(fig)"
   ]
  },
  {
   "cell_type": "markdown",
   "metadata": {
    "pycharm": {
     "name": "#%% md\n"
    }
   },
   "source": [
    "-----\n",
    "\n",
    "## 전처리 방법 모색하기"
   ]
  },
  {
   "cell_type": "markdown",
   "metadata": {
    "pycharm": {
     "name": "#%% md\n"
    },
    "tags": []
   },
   "source": [
    "#### Signal min, max, mean, and var after per-signal mean-std normalization"
   ]
  },
  {
   "cell_type": "code",
   "execution_count": null,
   "metadata": {
    "pycharm": {
     "name": "#%%\n"
    }
   },
   "outputs": [],
   "source": [
    "hist_min_norm = []\n",
    "hist_max_norm = []\n",
    "hist_mean_norm = []\n",
    "hist_var_norm = []\n",
    "\n",
    "for (k, m) in enumerate(tqdm(annotation[\"data\"])):\n",
    "    fname = os.path.join(curate_folder, 'signal/memmap', m['serial'] + '.dat')\n",
    "    signal = np.memmap(fname, dtype='int32', mode='r').reshape(21, -1)\n",
    "    \n",
    "    m = np.mean(signal, axis=1, keepdims=True)\n",
    "    std = np.std(signal, axis=1, keepdims=True)\n",
    "    signal = (signal - m) / (std + 1e-8)\n",
    "    \n",
    "    hist_min_norm.append(np.amin(signal, axis=1))\n",
    "    hist_max_norm.append(np.amax(signal, axis=1))\n",
    "    hist_mean_norm.append(np.mean(signal, axis=1))\n",
    "    hist_var_norm.append(np.var(signal, axis=1))\n",
    "    \n",
    "hist_min_norm = np.array(hist_min_norm).T\n",
    "hist_max_norm = np.array(hist_max_norm).T\n",
    "hist_mean_norm = np.array(hist_mean_norm).T\n",
    "hist_var_norm = np.array(hist_var_norm).T\n",
    "\n",
    "print('Done.')"
   ]
  },
  {
   "cell_type": "code",
   "execution_count": null,
   "metadata": {
    "pycharm": {
     "name": "#%%\n"
    }
   },
   "outputs": [],
   "source": [
    "plt.style.use('default') \n",
    "\n",
    "# ind = np.argsort(np.sum(hist_max_norm - hist_min_norm, axis=0))\n",
    "ind = np.argsort(np.sum(hist_max - hist_min, axis=0))\n",
    "\n",
    "for i in tqdm(range(len(annotation[\"signal_header\"]))):\n",
    "    fig = plt.figure(num=1, clear=True, \n",
    "                 figsize=(60.0, 40.0), constrained_layout=True)\n",
    "\n",
    "    ax = fig.add_subplot(1, 1, 1)\n",
    "    ax.plot(hist_min_norm[i, ind], 'b--', linewidth=1.2, label='min')\n",
    "    ax.plot(hist_max_norm[i, ind], 'c--', linewidth=1.2, label='max')\n",
    "    ax.plot(hist_mean_norm[i, ind], 'r-', linewidth=1.2, label='mean')\n",
    "    ax.fill_between(np.arange(hist_mean_norm[i].shape[0]),\n",
    "                    hist_mean_norm[i, ind] - hist_var_norm[i, ind], \n",
    "                    hist_mean_norm[i, ind] + hist_var_norm[i, ind], \n",
    "                    color='m', alpha=0.4, label='var')\n",
    "\n",
    "    ax.set_title(annotation[\"signal_header\"][i] + ' after per-signal mean-std normalization', fontsize=70)\n",
    "    plt.legend(loc='upper center', shadow=True, fontsize=70).get_frame().set_facecolor('white')\n",
    "\n",
    "    fig.savefig(os.path.join(output_folder, f'signal_statistics_c{i + 1:02}_norm.png'))\n",
    "\n",
    "    fig.clear()\n",
    "    plt.close(fig)\n",
    "    \n",
    "print('Done.')"
   ]
  },
  {
   "cell_type": "markdown",
   "metadata": {
    "pycharm": {
     "name": "#%% md\n"
    }
   },
   "source": [
    "-----\n",
    "\n",
    "## 이벤트 종류 및 발생 빈도수"
   ]
  },
  {
   "cell_type": "code",
   "execution_count": null,
   "metadata": {
    "pycharm": {
     "name": "#%%\n"
    }
   },
   "outputs": [],
   "source": [
    "event_dict = dict()\n",
    "\n",
    "for m in annotation[\"data\"]:\n",
    "    fname = os.path.join(curate_folder, 'event', m['serial'] + '.json')\n",
    "    with open(fname, 'r') as json_file:\n",
    "        event = json.load(json_file)\n",
    "    \n",
    "    for (t, e) in event:\n",
    "        event_dict[e] = event_dict.get(e, 0) + 1\n",
    "        \n",
    "pprint.pprint(sorted(event_dict.items(), key=lambda x: x[1], reverse=True))"
   ]
  },
  {
   "cell_type": "code",
   "execution_count": null,
   "metadata": {},
   "outputs": [],
   "source": [
    "pprint.pprint([*event_dict.keys()])"
   ]
  },
  {
   "cell_type": "markdown",
   "metadata": {
    "pycharm": {
     "name": "#%% md\n"
    }
   },
   "source": [
    "-----\n",
    "\n",
    "## 이벤트 전후의 신호열 시각화"
   ]
  },
  {
   "cell_type": "code",
   "execution_count": null,
   "metadata": {
    "pycharm": {
     "name": "#%%\n"
    }
   },
   "outputs": [],
   "source": [
    "for m in tqdm(annotation[\"data\"]):\n",
    "    \n",
    "    path = os.path.join(output_folder, m[\"serial\"])\n",
    "    os.makedirs(path, exist_ok=True)\n",
    "    \n",
    "    fname = os.path.join(curate_folder, 'signal/memmap', m['serial'] + '.dat')\n",
    "    signal = np.memmap(fname, dtype='int32', mode='r').reshape(21, -1)\n",
    "    \n",
    "    fname = os.path.join(curate_folder, 'event', m['serial'] + '.json')\n",
    "    with open(fname, 'r') as json_file:\n",
    "        event = json.load(json_file)\n",
    "    \n",
    "    for i, (t, e) in enumerate(event):\n",
    "        fig = plt.figure(num=1, clear=True, \n",
    "                         figsize=(14.0, 5), constrained_layout=True)\n",
    "        ax = fig.add_subplot(1, 1, 1)\n",
    "\n",
    "        width = 400\n",
    "        st, et = t - width, t + width\n",
    "        if st < 0: \n",
    "            st, et = 0, width*2\n",
    "        elif signal.shape[1] < et: \n",
    "            st, et = signal.shape[1] - width*2, signal.shape[1]\n",
    "\n",
    "        for (k, h) in enumerate(annotation[\"signal_header\"]):\n",
    "            ax.plot(np.arange(st, et) / 200, signal[k, st:et], label=h)\n",
    "            ax.vlines([t / 200], 0, 1, transform=ax.get_xaxis_transform(), colors='r')\n",
    "\n",
    "        ax.legend(loc='center left', bbox_to_anchor=(1, 0.5))\n",
    "        ax.set_title(e)\n",
    "\n",
    "        fname = f'{str(i+1):>03}_{e}.jpg'\n",
    "        safechars = string.ascii_lowercase + string.ascii_uppercase + string.digits + '.-_'\n",
    "        fname = ''.join([c for c in fname if c in safechars])\n",
    "\n",
    "        fig.savefig(os.path.join(path, fname))\n",
    "        fig.clear()\n",
    "        plt.close(fig)\n",
    "        \n",
    "print('Done.')"
   ]
  },
  {
   "cell_type": "markdown",
   "metadata": {
    "pycharm": {
     "name": "#%% md\n"
    }
   },
   "source": [
    "-----\n",
    "\n",
    "## Eye open 과 Eye closed 이벤트 사이의 시간 간격 시각화"
   ]
  },
  {
   "cell_type": "code",
   "execution_count": null,
   "metadata": {
    "pycharm": {
     "name": "#%%\n"
    },
    "tags": []
   },
   "outputs": [],
   "source": [
    "for m in annotation[\"data\"]:\n",
    "    started = True\n",
    "    opened = False\n",
    "    t = 0\n",
    "    intervals = []\n",
    "    warns = []\n",
    "    \n",
    "    fname = os.path.join(curate_folder, 'event', m['serial'] + '.json')\n",
    "    with open(fname, 'r') as json_file:\n",
    "        event = json.load(json_file)\n",
    "    \n",
    "    for e in event:\n",
    "        if e[1].lower() == 'eyes open':\n",
    "            if started:\n",
    "                started = False\n",
    "                t = e[0]\n",
    "                opened = True\n",
    "            elif opened:\n",
    "                t = e[0]\n",
    "                warns.append(f'open-open: {e}')\n",
    "            else:\n",
    "                t = e[0]\n",
    "                opened = True\n",
    "        elif e[1].lower() == 'eyes closed':\n",
    "            if started:\n",
    "                started = False\n",
    "                opened = False\n",
    "            elif opened:\n",
    "                opened = False\n",
    "                intervals.append(e[0] - t)\n",
    "            else:\n",
    "                warns.append(f'close-close: {e}')\n",
    "\n",
    "    print(m['serial'], warns, intervals)"
   ]
  },
  {
   "cell_type": "code",
   "execution_count": null,
   "metadata": {
    "pycharm": {
     "name": "#%%\n"
    },
    "tags": []
   },
   "outputs": [],
   "source": [
    "for m in annotation[\"data\"]:\n",
    "    started = True\n",
    "    opened = False\n",
    "    t = 0\n",
    "    intervals = []\n",
    "    warns = []\n",
    "    \n",
    "    fname = os.path.join(curate_folder, 'event', m['serial'] + '.json')\n",
    "    with open(fname, 'r') as json_file:\n",
    "        event = json.load(json_file)\n",
    "    \n",
    "    for e in event:\n",
    "        if e[1].lower() == 'eyes open':\n",
    "            if started:\n",
    "                started = False\n",
    "                opened = True\n",
    "            elif opened:\n",
    "                warns.append(f'open-open: {e}')\n",
    "            else:\n",
    "                intervals.append(e[0] - t)\n",
    "                opened = True\n",
    "        elif e[1].lower() == 'eyes closed':\n",
    "            if started:\n",
    "                started = False\n",
    "                opened = False\n",
    "                t = e[0]\n",
    "            elif opened:\n",
    "                opened = False\n",
    "                t = e[0]\n",
    "            else:\n",
    "                t = e[0]\n",
    "                warns.append(f'close-close: {e}')\n",
    "\n",
    "    print(m['serial'], warns, intervals)"
   ]
  },
  {
   "cell_type": "markdown",
   "metadata": {
    "pycharm": {
     "name": "#%% md\n"
    }
   },
   "source": [
    "-----\n",
    "\n",
    "## Spectrogram 생김새 확인"
   ]
  },
  {
   "cell_type": "markdown",
   "metadata": {
    "pycharm": {
     "name": "#%% md\n"
    }
   },
   "source": [
    "#### PyTorch stft function"
   ]
  },
  {
   "cell_type": "code",
   "execution_count": null,
   "metadata": {},
   "outputs": [],
   "source": [
    "from matplotlib.colors import Normalize\n",
    "from mpl_toolkits.axes_grid1.inset_locator import inset_axes\n",
    "def draw_stft(signal_f, seq_length, signal_header, index=0, log_scale=False, occlusion=None, save_fig=None):\n",
    "    signal_f = signal_f.numpy()\n",
    "    \n",
    "    # always do not consider EKG and Photic channels\n",
    "    C = 19 # signal_f.shape[0]\n",
    "    _, H, W = signal_f.shape\n",
    "    \n",
    "    columns = 5\n",
    "    rows = round(np.ceil(C / columns))\n",
    "    \n",
    "    fig, ax = plt.subplots(rows, columns, \n",
    "                           figsize=(16.0, 12.0), constrained_layout=True)\n",
    "    normalizer = Normalize()\n",
    "    \n",
    "    for k in range(columns * rows):\n",
    "        r = k // columns\n",
    "        c = k % columns\n",
    "        \n",
    "        if k < C:\n",
    "            im = ax[r, c].imshow(np.log(signal_f[k, ::-1] + 1) if log_scale else signal_f[k, ::-1],\n",
    "                                 interpolation='nearest',\n",
    "                                 extent=[0, seq_length/200.0, 0, 200/2.0], \n",
    "                                 aspect=(seq_length/200.0) / (200/2.0), norm=normalizer)\n",
    "            ax[r, c].set_title(signal_header[k].split('-')[0], \n",
    "                               fontsize=18, fontweight='bold', color='darkred')\n",
    "            # ax[r, c].set_xlabel('Time (s)', fontsize=13)\n",
    "            # ax[r, c].set_ylabel('Frequency (Hz)', fontsize=13)\n",
    "            # ax[r, c].invert_yaxis()\n",
    "            \n",
    "            if occlusion and occlusion['c'] == k:\n",
    "                bb = mtransforms.Bbox([[occlusion['x'] / W * seq_length/200.0, \n",
    "                                        occlusion['y'] / H * 200/2.0], \n",
    "                                       [(occlusion['x'] + occlusion['w']) / W * seq_length/200.0, \n",
    "                                        (occlusion['y'] + occlusion['h']) / H * 200/2.0]])\n",
    "                fancy = FancyBboxPatch(bb.p0, bb.width, bb.height, boxstyle=\"square,pad=0\")\n",
    "                fancy.set(edgecolor=\"none\", facecolor=\"gray\", zorder=10)\n",
    "                ax[r, c].add_patch(fancy)\n",
    "            \n",
    "        elif k == C:\n",
    "            ax[r, c].axis('off')\n",
    "            axins = ax[r, c]\n",
    "        else:\n",
    "            ax[r, c].axis('off')\n",
    "        \n",
    "    fig.supxlabel('Time (s)', fontsize=18)\n",
    "    fig.supylabel('Frequency (Hz)', fontsize=18)\n",
    "    fig.suptitle('Time-Frequency Representation', fontsize=20, fontweight='semibold')\n",
    "    cax = inset_axes(axins,\n",
    "                     width=\"10%\",  # width = 10% of parent_bbox width\n",
    "                     height=\"90%\",  # height : 50%\n",
    "                     loc='center',\n",
    "                     bbox_to_anchor=(0., 0., 1, 1),\n",
    "                     bbox_transform=axins.transAxes,\n",
    "                     borderpad=0,\n",
    "                     )\n",
    "    cbar = fig.colorbar(im, ax=ax.ravel().tolist(), cax=cax)\n",
    "    cbar.ax.set_xlabel('Magnitude in log-scale' if log_scale else 'Magnitude', fontsize=13) \n",
    "    if save_fig:\n",
    "        fig.savefig(os.path.join(output_folder, 'signal_example_stft.pdf'), transparent=True)\n",
    "        fig.savefig(os.path.join(output_folder, 'signal_example_stft.svg'), transparent=True)\n",
    "    else:\n",
    "        plt.show()\n",
    "    fig.clear()\n",
    "    plt.close(fig)\n",
    "\n",
    "%config InlineBackend.figure_format = 'retina' # cleaner text\n",
    "\n",
    "plt.style.use('classic') \n",
    "plt.style.use('default') \n",
    "plt.style.use('bmh') # default, ggplot, fivethirtyeight, bmh, dark_background, classic\n",
    "plt.rcParams.update({'font.size': 14})\n",
    "plt.rcParams.update({'font.family': 'Roboto Slab'})\n",
    "plt.rcParams[\"savefig.dpi\"] = 1200\n",
    "plt.rcParams['image.interpolation'] = 'nearest'\n",
    "plt.rcParams['image.cmap'] = 'jet' # 'nipy_spectral'\n",
    "\n",
    "duration = 2000\n",
    "start = 115000\n",
    "end = start + duration\n",
    "\n",
    "fig, axs = plt.subplots(19, 1, sharex=True, figsize=(10.0, 14.0))\n",
    "fig.tight_layout(rect=[0, 0.03, 1, 1])\n",
    "fig.subplots_adjust(hspace=0)\n",
    "\n",
    "for i, channel in enumerate(annotation['signal_header']):\n",
    "    if channel in ['Photic', 'EKG']:\n",
    "        continue\n",
    "    axs[i].plot(signal[i, start:end], lw=0.8, c='tab:blue')\n",
    "    axs[i].set_xlim(0, end - start)\n",
    "\n",
    "    axs[i].set_ylabel(channel.split('-')[0])\n",
    "    \n",
    "    axs[i].tick_params(axis='x', width=0.0, length=0.0)\n",
    "    axs[i].tick_params(axis='y', width=0.0, length=0.0)\n",
    "    axs[i].set_xticks(np.arange(round(duration / 200) + 1) * 200)\n",
    "    axs[i].set_xticklabels(np.arange(round(duration / 200) + 1))\n",
    "    axs[i].xaxis.grid(visible=False)\n",
    "    axs[i].set_yticks([0])\n",
    "    axs[i].set_yticklabels([])\n",
    "\n",
    "axs[-1].set_xticks(np.arange(round(duration / 200) + 1) * 200)\n",
    "axs[-1].set_xticklabels(np.arange(round(duration / 200) + 1))\n",
    "\n",
    "# ax.set_title('Diagnoses in DB')\n",
    "axs[-1].set_xlabel('Time (s)')\n",
    "# ax.set_ylabel('The number of recordings')\n",
    "\n",
    "fig.savefig(os.path.join(output_folder, 'signal_example.pdf'), transparent=True)\n",
    "fig.savefig(os.path.join(output_folder, 'signal_example.svg'), transparent=True)\n",
    "plt.show()\n",
    "fig.clear()\n",
    "plt.close(fig)\n",
    "\n",
    "signal_t = torch.from_numpy(signal[:, start:end]).to(dtype=torch.float32)\n",
    "signal_f = torch.stft(signal_t, n_fft=int(np.floor(2*np.sqrt(2*duration) + 0.5)), \n",
    "                      center=True, return_complex=True).abs()\n",
    "\n",
    "# Signiture: (input, n_fft, hop_length=None, \n",
    "#             win_length=None, window=None, center=True, \n",
    "#             pad_mode='reflect', normalized=False, \n",
    "#             onesided=None, return_complex=None)    \n",
    "\n",
    "draw_stft(signal_f, duration, annotation['signal_header'], log_scale=True, save_fig=True)"
   ]
  },
  {
   "cell_type": "code",
   "execution_count": null,
   "metadata": {
    "pycharm": {
     "name": "#%%\n"
    }
   },
   "outputs": [],
   "source": [
    "# plt.style.use('ggplot')\n",
    "# plt.rcParams['figure.figsize'] = (8, 4) # set default size of plots\n",
    "plt.rcParams['image.interpolation'] = 'nearest'\n",
    "plt.rcParams['image.cmap'] = 'jet' # 'nipy_spectral'\n",
    "\n",
    "for m in tqdm(annotation[\"data\"][:2]):\n",
    "    fname = os.path.join(curate_folder, 'signal/memmap', m['serial'] + '.dat')\n",
    "    signal = np.memmap(fname, dtype='int32', mode='r').reshape(21, -1)\n",
    "    signal = torch.from_numpy(signal).to(dtype=torch.float32)\n",
    "    signal_f = torch.stft(signal, n_fft=200, center=True, return_complex=True).abs()\n",
    "    \n",
    "    # Signiture: (input, n_fft, hop_length=None, \n",
    "    #             win_length=None, window=None, center=True, \n",
    "    #             pad_mode='reflect', normalized=False, \n",
    "    #             onesided=None, return_complex=None)    \n",
    "    \n",
    "    print(signal.shape, signal_f.shape, signal.shape[1] / (200 / 4) + 1)\n",
    "    \n",
    "    channels = signal_f.shape[0]\n",
    "    \n",
    "    fig = plt.figure(num=1, clear=True, figsize=(30.0, 30.0), \n",
    "                     constrained_layout=True)\n",
    "    \n",
    "    for k in range(channels):\n",
    "        ax = fig.add_subplot(channels // 7, 7, k + 1)\n",
    "        ax.imshow(signal_f[k], interpolation='nearest')\n",
    "        ax.set_title(annotation[\"signal_header\"][k], fontsize=14)\n",
    "        ax.invert_yaxis()\n",
    "    fig.suptitle('Time-Frequency Representation: ({}, {})'.format(m['serial'], m['dx1']), fontsize=23)\n",
    "    fig.supxlabel('Time (s)', fontsize=20)\n",
    "    fig.supylabel('Frequency (Hz)', fontsize=20)\n",
    "    plt.savefig(os.path.join(output_folder, f'{m[\"serial\"]}.png'))\n",
    "    \n",
    "    fig.clear()\n",
    "    plt.close(fig)\n",
    "    \n",
    "print('Done.')"
   ]
  },
  {
   "cell_type": "markdown",
   "metadata": {
    "pycharm": {
     "name": "#%% md\n"
    }
   },
   "source": [
    "#### MatPlotLib specgram function"
   ]
  },
  {
   "cell_type": "code",
   "execution_count": null,
   "metadata": {
    "pycharm": {
     "name": "#%%\n"
    }
   },
   "outputs": [],
   "source": [
    "for m in tqdm(annotation[\"data\"][:2]):\n",
    "    fname = os.path.join(curate_folder, 'signal/memmap', m['serial'] + '.dat')\n",
    "    signal = np.memmap(fname, dtype='int32', mode='r').reshape(21, -1)\n",
    "    \n",
    "    fig, ax = plt.subplots(3, 7, figsize=(30.0, 10.0),\n",
    "                           constrained_layout=True)\n",
    "    for k in range(21):\n",
    "        Pxx, freqs, bins, im = ax[k // 7, k % 7].specgram(signal[k, :12000], 200, 200)\n",
    "        ax[k // 7, k % 7].set_title(annotation[\"signal_header\"][k], fontsize=14)\n",
    "        ax[k // 7, k % 7].invert_yaxis()\n",
    "        # ax[k // 7, k % 7].set_xlabel('Time (s)')\n",
    "        # ax[k // 7, k % 7].set_ylabel('')\n",
    "        \n",
    "    fig.suptitle('Spectrograms: ({}, {})'.format(m['serial'], m['dx1']), fontsize=23)\n",
    "    fig.supxlabel('Time (s)', fontsize=20)\n",
    "    fig.supylabel('Frequency (Hz)', fontsize=20)\n",
    "    plt.savefig(os.path.join(output_folder, f'{m[\"serial\"]}.png'))\n",
    "    plt.close('all')\n",
    "    \n",
    "print('Done.')"
   ]
  },
  {
   "cell_type": "markdown",
   "metadata": {
    "pycharm": {
     "name": "#%% md\n"
    }
   },
   "source": [
    "#### Real vs Complex"
   ]
  },
  {
   "cell_type": "code",
   "execution_count": null,
   "metadata": {
    "pycharm": {
     "name": "#%%\n"
    }
   },
   "outputs": [],
   "source": [
    "for m in tqdm(annotation[\"data\"][:2]):\n",
    "    fname = os.path.join(curate_folder, 'signal/memmap', m['serial'] + '.dat')\n",
    "    signal = np.memmap(fname, dtype='int32', mode='r').reshape(21, -1)\n",
    "    signal = torch.from_numpy(signal).to(dtype=torch.float32)\n",
    "    signal_f = torch.stft(signal, n_fft=200, center=True, return_complex=True)\n",
    "    \n",
    "    # Signiture: (input, n_fft, hop_length=None, \n",
    "    #             win_length=None, window=None, center=True, \n",
    "    #             pad_mode='reflect', normalized=False, \n",
    "    #             onesided=None, return_complex=None)    \n",
    "    \n",
    "    print(signal.shape, signal_f.shape, signal.shape[1] / (200 / 4) + 1)\n",
    "    \n",
    "    signal_f = torch.view_as_real(signal_f)\n",
    "    signal_f_real = signal_f[..., 0]\n",
    "    signal_f_complex = torch.flip(-signal_f[..., 1], dims=[0])\n",
    "    \n",
    "print('Done.')"
   ]
  },
  {
   "cell_type": "markdown",
   "metadata": {},
   "source": [
    "## AWGN and MWGN 모양새 확인"
   ]
  },
  {
   "cell_type": "code",
   "execution_count": null,
   "metadata": {},
   "outputs": [],
   "source": [
    "from datasets.pipeline import *\n",
    "plt.style.use('default') \n",
    "plt.style.use('bmh') # default, ggplot, fivethirtyeight, bmh, dark_background, classic\n",
    "plt.rcParams.update({'font.size': 14})\n",
    "plt.rcParams.update({'font.family': 'Roboto Slab'})\n",
    "plt.rcParams[\"savefig.dpi\"] = 1200\n",
    "\n",
    "a = torch.sin(1 / 2000 * 3.14159 * 4 * torch.arange(2000).reshape(1, 1, -1))\n",
    "\n",
    "fig = plt.figure(num=1, clear=True, figsize=(10.0, 5.0))\n",
    "ax = fig.add_subplot(1, 1, 1)\n",
    "ax.plot(a.reshape(-1).numpy(), lw=1.5)\n",
    "plt.ylim([-1.3, 1.3])\n",
    "ax.set_yticklabels([])\n",
    "ax.set_xticklabels([])\n",
    "# ax.set_title(\"Original Signal\", fontsize=14)\n",
    "plt.tight_layout()\n",
    "plt.show()\n",
    "fig.savefig(os.path.join(output_folder, 'sine.pdf'), transparent=True)\n",
    "fig.clear()\n",
    "plt.close(fig)\n",
    "\n",
    "awgn = EegAdditiveGaussianNoise(0, 0.1)\n",
    "awgn_result = awgn({'signal': a})['signal']\n",
    "awgn_diff = awgn_result - a\n",
    "\n",
    "fig = plt.figure(num=1, clear=True, figsize=(10.0, 5.0))\n",
    "ax = fig.add_subplot(1, 1, 1)\n",
    "ax.plot(awgn_diff.reshape(-1).numpy(), lw=1.5)\n",
    "plt.ylim([-1.3, 1.3])\n",
    "ax.set_yticklabels([])\n",
    "ax.set_xticklabels([])\n",
    "# ax.set_title(\"AWGN\", fontsize=14)\n",
    "plt.tight_layout()\n",
    "plt.show()\n",
    "fig.savefig(os.path.join(output_folder, 'awgn.pdf'), transparent=True)\n",
    "fig.clear()\n",
    "plt.close(fig)\n",
    "\n",
    "fig = plt.figure(num=1, clear=True, figsize=(10.0, 5.0))\n",
    "ax = fig.add_subplot(1, 1, 1)\n",
    "ax.plot(awgn_result.reshape(-1).numpy(), lw=1.5)\n",
    "plt.ylim([-1.3, 1.3])\n",
    "ax.set_yticklabels([])\n",
    "ax.set_xticklabels([])\n",
    "# ax.set_title(\"Signal + AWGN\", fontsize=14)\n",
    "plt.tight_layout()\n",
    "plt.show()\n",
    "fig.savefig(os.path.join(output_folder, 'sine_awgn.pdf'), transparent=True)\n",
    "fig.clear()\n",
    "plt.close(fig)\n",
    "\n",
    "mgn = EegMultiplicativeGaussianNoise(0, 0.1)\n",
    "mgn_result = mgn({'signal': a})['signal']\n",
    "mgn_diff = mgn_result - a\n",
    "\n",
    "fig = plt.figure(num=1, clear=True, figsize=(10.0, 5.0))\n",
    "ax = fig.add_subplot(1, 1, 1)\n",
    "ax.plot(mgn_diff.reshape(-1).numpy(), lw=1.5)\n",
    "plt.ylim([-1.3, 1.3])\n",
    "ax.set_yticklabels([])\n",
    "ax.set_xticklabels([])\n",
    "# ax.set_title(\"MWGN\", fontsize=14)\n",
    "plt.tight_layout()\n",
    "fig.savefig(os.path.join(output_folder, 'mwgn.pdf'), transparent=True)\n",
    "plt.show()\n",
    "fig.clear()\n",
    "plt.close(fig)\n",
    "\n",
    "fig = plt.figure(num=1, clear=True, figsize=(10.0, 5.0))\n",
    "ax = fig.add_subplot(1, 1, 1)\n",
    "ax.plot(mgn_result.reshape(-1).numpy(), lw=1.5)\n",
    "plt.ylim([-1.3, 1.3])\n",
    "ax.set_yticklabels([])\n",
    "ax.set_xticklabels([])\n",
    "# ax.set_title(\"Signal + MWGN\", fontsize=14)\n",
    "plt.tight_layout()\n",
    "plt.show()\n",
    "fig.savefig(os.path.join(output_folder, 'sine_mwgn.pdf'), transparent=True)\n",
    "fig.clear()\n",
    "plt.close(fig)"
   ]
  },
  {
   "cell_type": "markdown",
   "metadata": {},
   "source": [
    "## Beta Distribution 모양 확인"
   ]
  },
  {
   "cell_type": "code",
   "execution_count": null,
   "metadata": {},
   "outputs": [],
   "source": [
    "# Parameters for the Beta distribution\n",
    "alpha = 0.3  # Shape parameter alpha\n",
    "beta = 0.3   # Shape parameter beta\n",
    "\n",
    "# Generate values from the Beta distribution\n",
    "x = np.linspace(0, 1, 1000)  # Values from 0 to 1\n",
    "y = np.random.beta(alpha, beta, size=10000)  # Sample from the Beta distribution\n",
    "\n",
    "# Plotting the Beta distribution\n",
    "with plt.style.context(['ieee', 'science', 'default']):  # science, ieee, default, fivethirtyeight\n",
    "    # plt.rcParams.update({\"text.usetex\": True})\n",
    "    plt.rcParams.update({'font.family': 'Roboto Slab'})\n",
    "    plt.rcParams.update({'font.size': 14})\n",
    "    fig, ax = plt.subplots(1, 1, figsize=(8, 5))\n",
    "\n",
    "    plt.hist(y, bins=30, density=True, alpha=0.7, label='Beta Distribution')\n",
    "    plt.plot(x, np.power(x, alpha-1) * np.power(1-x, beta-1), 'r-', lw=2, label='PDF')\n",
    "    plt.title(r'Beta Distribution for MixUp with a=0.3')\n",
    "    plt.xlabel('Value')\n",
    "    plt.ylabel('Density')\n",
    "    ax.set_xticklabels([])\n",
    "    ax.set_yticklabels([])\n",
    "    ax.grid(alpha=0.3)\n",
    "    plt.legend()\n",
    "    plt.grid(True)\n",
    "    fig.savefig(os.path.join('local/output', f'mixup-alpha.pdf'), transparent=True, bbox_inches='tight')\n",
    "    plt.show()"
   ]
  },
  {
   "cell_type": "markdown",
   "metadata": {},
   "source": [
    "## Average Montage 적용 전후 모양"
   ]
  },
  {
   "cell_type": "code",
   "execution_count": null,
   "metadata": {},
   "outputs": [],
   "source": [
    "from matplotlib.gridspec import GridSpec\n",
    "import scienceplots\n",
    "import mpl_interactions\n",
    "import mpl_interactions.ipyplot as iplt\n",
    "from mpl_interactions import interactive_axvline\n",
    "from mpl_interactions.controller import Controls\n",
    "from functools import partial\n",
    "\n",
    "%matplotlib ipympl\n",
    "duration = 2000\n",
    "sample_rate = 200\n",
    "num = 2\n",
    "\n",
    "def f1(signal, start, duration):\n",
    "    return signal[start: start + duration]\n",
    "\n",
    "def f2(signal, start, channel, duration):\n",
    "    x = signal[:, start: start + duration].copy()\n",
    "    x -= x.mean(axis=0, keepdims=True)\n",
    "    return x[channel]\n",
    "\n",
    "def f3(signal, start, duration):\n",
    "    x = signal[start: start + duration].copy()\n",
    "    x -= x.mean()\n",
    "    x /= (x.std() + 1e-8)\n",
    "    return x * 50\n",
    "\n",
    "def f4(start, duration):\n",
    "    t = start\n",
    "    start_time = f\"{int((t / sample_rate) // 60):02d}:{(t / sample_rate) % 60:02.1f}\"\n",
    "    t = start + duration\n",
    "    end_time = f\"{int((t / sample_rate) // 60):02d}:{(t / sample_rate) % 60:02.1f}\"\n",
    "    return start_time + \" - \" + end_time + \" s\"\n",
    "\n",
    "def f5(signal, start, channel, duration):\n",
    "    x = signal[:, start: start + duration].copy()\n",
    "    x -= x.mean(axis=0, keepdims=True)\n",
    "    x = x[channel]\n",
    "    x -= x.mean()\n",
    "    x /= (x.std() + 1e-8)\n",
    "    return x * 50\n",
    "\n",
    "with plt.style.context(['ieee', 'science', 'default']):  # science, ieee, default, fivethirtyeight\n",
    "    # plt.rcParams.update({'font.family': 'Roboto Slab'})\n",
    "\n",
    "    serial = annotation[\"data\"][num]['serial']\n",
    "    fname = os.path.join(curate_folder, 'signal/memmap', serial + '.dat')\n",
    "    signal = np.array(np.memmap(fname, dtype='int32', mode='r').reshape(21, -1)).astype('float')\n",
    "    C = 20\n",
    "    signal = signal[:C]\n",
    "    L = signal.shape[1]\n",
    "\n",
    "    fig = plt.figure(num=1, clear=True, figsize=(30, 30))\n",
    "    fig.subplots_adjust(hspace=0)\n",
    "    fig.tight_layout()\n",
    "    gs = GridSpec(nrows=C, ncols=4)\n",
    "    ctrls = Controls(start=np.arange(0, L - duration))\n",
    "    display(ctrls)\n",
    "\n",
    "    for c in range(C):\n",
    "        if c == 0:\n",
    "            ax = fig.add_subplot(gs[c, 0])\n",
    "            ax0 = ax\n",
    "        else:\n",
    "            ax = fig.add_subplot(gs[c, 0], sharey=ax0)\n",
    "\n",
    "        iplt.plot(partial(f1, signal=signal[c], duration=duration), \n",
    "                  ax=ax, controls=ctrls[\"start\"], lw=0.6)\n",
    "\n",
    "        ax.set_xlim(0, duration)\n",
    "        ax.set_ylabel(annotation['signal_header'][c].split('-')[0])\n",
    "        mpl_interactions.interactive_xlabel(xlabel=partial(f4, duration=duration),\n",
    "                                            controls=ctrls[\"start\"])\n",
    "        ax.set_xticks(np.arange(round(duration / sample_rate) + 1) * sample_rate)\n",
    "        ax.set_xticklabels([])\n",
    "        # ax.tick_params(axis='x', width=0.1, length=0.1)\n",
    "        ax.set_yticks([0])\n",
    "        ax.set_yticklabels([])\n",
    "\n",
    "    for c in range(C):\n",
    "        ax = fig.add_subplot(gs[c, 1], sharey=ax0)\n",
    "        iplt.plot(partial(f2, signal=signal, channel=c, duration=duration), \n",
    "                  ax=ax, controls=ctrls[\"start\"], lw=0.6)\n",
    "\n",
    "        ax.set_xlim(0, duration)\n",
    "        ax.set_ylabel(annotation['signal_header'][c].split('-')[0])\n",
    "        mpl_interactions.interactive_xlabel(xlabel=partial(f4, duration=duration),\n",
    "                                            controls=ctrls[\"start\"])\n",
    "        ax.set_xticks(np.arange(round(duration / sample_rate) + 1) * sample_rate)\n",
    "        ax.set_xticklabels([])\n",
    "        # ax.tick_params(axis='x', width=0.1, length=0.1)\n",
    "        ax.set_yticks([0])\n",
    "        ax.set_yticklabels([])\n",
    "\n",
    "    for c in range(C):\n",
    "        ax = fig.add_subplot(gs[c, 2], sharey=ax0)\n",
    "        iplt.plot(partial(f3, signal=signal[c], duration=duration), \n",
    "                  ax=ax, controls=ctrls[\"start\"], lw=0.6)\n",
    "\n",
    "        ax.set_xlim(0, duration)\n",
    "        ax.set_ylabel(annotation['signal_header'][c].split('-')[0])\n",
    "        mpl_interactions.interactive_xlabel(xlabel=partial(f4, duration=duration),\n",
    "                                            controls=ctrls[\"start\"])\n",
    "        ax.set_xticks(np.arange(round(duration / sample_rate) + 1) * sample_rate)\n",
    "        ax.set_xticklabels([])\n",
    "        # ax.tick_params(axis='x', width=0.1, length=0.1)\n",
    "        ax.set_yticks([0])\n",
    "        ax.set_yticklabels([])\n",
    "\n",
    "    for c in range(C):\n",
    "        ax = fig.add_subplot(gs[c, 3], sharey=ax0)\n",
    "        iplt.plot(partial(f5, signal=signal, channel=c, duration=duration), \n",
    "                  ax=ax, controls=ctrls[\"start\"], lw=0.6)\n",
    "\n",
    "        ax.set_xlim(0, duration)\n",
    "        ax.set_ylabel(annotation['signal_header'][c].split('-')[0])\n",
    "        mpl_interactions.interactive_xlabel(xlabel=partial(f4, duration=duration),\n",
    "                                            controls=ctrls[\"start\"])\n",
    "        ax.set_xticks(np.arange(round(duration / sample_rate) + 1) * sample_rate)\n",
    "        ax.set_xticklabels([])\n",
    "        # ax.tick_params(axis='x', width=0.1, length=0.1)\n",
    "        ax.set_yticks([0])\n",
    "        ax.set_yticklabels([])\n",
    "    \n",
    "    fig.suptitle(serial, fontsize=13, fontweight='semibold')\n",
    "\n",
    "    plt.show()"
   ]
  },
  {
   "cell_type": "code",
   "execution_count": null,
   "metadata": {},
   "outputs": [],
   "source": []
  }
 ],
 "metadata": {
  "kernelspec": {
   "display_name": "Python 3 (ipykernel)",
   "language": "python",
   "name": "python3"
  },
  "language_info": {
   "codemirror_mode": {
    "name": "ipython",
    "version": 3
   },
   "file_extension": ".py",
   "mimetype": "text/x-python",
   "name": "python",
   "nbconvert_exporter": "python",
   "pygments_lexer": "ipython3",
   "version": "3.9.12"
  },
  "toc-autonumbering": false,
  "toc-showcode": false,
  "toc-showmarkdowntxt": false
 },
 "nbformat": 4,
 "nbformat_minor": 4
}
