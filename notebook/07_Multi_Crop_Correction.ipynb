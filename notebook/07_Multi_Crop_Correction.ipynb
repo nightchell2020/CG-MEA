{
 "cells": [
  {
   "cell_type": "markdown",
   "id": "d74515d5-5f25-477b-9a97-ed1f9b6d4c51",
   "metadata": {
    "pycharm": {
     "name": "#%% md\n"
    }
   },
   "source": [
    "# Evaluate\n",
    "\n",
    "This notebook evaluates the network trained previous notebooks and analyzes the results."
   ]
  },
  {
   "cell_type": "markdown",
   "id": "b8a2666f-6b4b-4748-9dca-2884347a1f0f",
   "metadata": {
    "pycharm": {
     "name": "#%% md\n"
    }
   },
   "source": [
    "-----\n",
    "\n",
    "## Load Packages"
   ]
  },
  {
   "cell_type": "code",
   "execution_count": 1,
   "id": "df587e38-b1a9-42c8-9b50-680200a9bec7",
   "metadata": {
    "pycharm": {
     "name": "#%%\n"
    }
   },
   "outputs": [
    {
     "name": "stdout",
     "output_type": "stream",
     "text": [
      "/home/imkbsz/workspace/eeg_analysis\n"
     ]
    }
   ],
   "source": [
    "# for auto-reloading external modules\n",
    "# see http://stackoverflow.com/questions/1907993/autoreload-of-modules-in-ipython\n",
    "%cd ..\n",
    "%load_ext autoreload\n",
    "%autoreload 2"
   ]
  },
  {
   "cell_type": "code",
   "execution_count": 2,
   "id": "8fb41bf8-1713-4228-b799-0e1c87545a16",
   "metadata": {
    "pycharm": {
     "name": "#%%\n"
    }
   },
   "outputs": [],
   "source": [
    "# Load some packages\n",
    "import os\n",
    "from copy import deepcopy\n",
    "import hydra\n",
    "from omegaconf import OmegaConf\n",
    "from collections import OrderedDict\n",
    "import wandb\n",
    "\n",
    "import numpy as np\n",
    "import torch\n",
    "import torch.nn as nn\n",
    "import torch.nn.functional as F\n",
    "import torch.optim as optim\n",
    "\n",
    "import pprint\n",
    "import matplotlib.pyplot as plt\n",
    "\n",
    "# custom package\n",
    "from datasets.caueeg_script import build_dataset_for_train\n",
    "import models\n",
    "from train.evaluate import check_accuracy\n",
    "from train.evaluate import check_accuracy_extended\n",
    "from train.evaluate import check_accuracy_extended_debug\n",
    "from train.evaluate import check_accuracy_multicrop\n",
    "from train.evaluate import check_accuracy_multicrop_extended\n",
    "from train.visualize import draw_roc_curve\n",
    "from train.visualize import draw_confusion\n",
    "from train.visualize import draw_error_table"
   ]
  },
  {
   "cell_type": "code",
   "execution_count": 3,
   "id": "d10e3f39-ed55-422c-b47f-376691cbeed6",
   "metadata": {
    "pycharm": {
     "name": "#%%\n"
    }
   },
   "outputs": [
    {
     "name": "stdout",
     "output_type": "stream",
     "text": [
      "PyTorch version: 1.11.0\n",
      "cuda is available.\n"
     ]
    }
   ],
   "source": [
    "print('PyTorch version:', torch.__version__)\n",
    "device = torch.device('cuda' if torch.cuda.is_available() else 'cpu')\n",
    "\n",
    "if torch.cuda.is_available(): print('cuda is available.')\n",
    "else: print('cuda is unavailable.') "
   ]
  },
  {
   "cell_type": "markdown",
   "id": "d2a62fa4-aa53-49d5-8ab4-2e2aaf7b65d1",
   "metadata": {
    "pycharm": {
     "name": "#%% md\n"
    },
    "tags": []
   },
   "source": [
    "-----\n",
    "\n",
    "## Load the configuration used during the train phase"
   ]
  },
  {
   "cell_type": "code",
   "execution_count": 4,
   "id": "bee4f853-3cad-4b01-8ee8-44ac9e49adbe",
   "metadata": {
    "pycharm": {
     "name": "#%%\n"
    }
   },
   "outputs": [
    {
     "name": "stdout",
     "output_type": "stream",
     "text": [
      "dict_keys(['model_state', 'config', 'optimizer_state', 'scheduler_state'])\n"
     ]
    }
   ],
   "source": [
    "project = 'sweep-test'\n",
    "run_name = 'amzr0uzt'\n",
    "model_path = os.path.join('local/checkpoint_temp', run_name, 'best_checkpoint.pt')\n",
    "\n",
    "ckpt = torch.load(model_path)\n",
    "print(ckpt.keys())"
   ]
  },
  {
   "cell_type": "code",
   "execution_count": 5,
   "id": "ab204c6e-25bc-4bb2-b83d-ffbab6dfd4d6",
   "metadata": {
    "pycharm": {
     "name": "#%%\n"
    }
   },
   "outputs": [],
   "source": [
    "model_state = ckpt['model_state']\n",
    "config = ckpt['config']\n",
    "optimizer = ckpt['optimizer_state']\n",
    "scheduler = ckpt['scheduler_state']"
   ]
  },
  {
   "cell_type": "code",
   "execution_count": 6,
   "id": "d6a582ce-495b-4f2e-9376-6d5591019f46",
   "metadata": {
    "pycharm": {
     "name": "#%%\n"
    }
   },
   "outputs": [
    {
     "name": "stdout",
     "output_type": "stream",
     "text": [
      "{'EKG': 'X',\n",
      " '_target_': 'models.vit.vit_b_8',\n",
      " 'activation': 'gelu',\n",
      " 'age_mean': tensor([71.1771]),\n",
      " 'age_std': tensor([9.5998]),\n",
      " 'attention_dropout': 0.1,\n",
      " 'awgn': 0.028775714802475632,\n",
      " 'awgn_age': 0.2523992568434483,\n",
      " 'base_lr': 0.006000000000000003,\n",
      " 'class_label_to_name': ['Normal', 'MCI', 'Dementia'],\n",
      " 'class_name_to_label': {'Dementia': 2, 'MCI': 1, 'Normal': 0},\n",
      " 'criterion': 'cross-entropy',\n",
      " 'crop_multiple': 4,\n",
      " 'crop_timing_analysis': False,\n",
      " 'cwd': '/home/imkbsz/workspace/eeg_analysis',\n",
      " 'dataset_name': 'CAUEEG dataset',\n",
      " 'dataset_path': 'local/dataset/02_Curated_Data_220419/',\n",
      " 'ddp': True,\n",
      " 'ddp_size': 4,\n",
      " 'device': 0,\n",
      " 'draw_result': True,\n",
      " 'dropout': 0.2613980703327138,\n",
      " 'fc_stages': 3,\n",
      " 'file_format': 'memmap',\n",
      " 'in_channels': 38,\n",
      " 'input_norm': 'dataset',\n",
      " 'iterations': 91146,\n",
      " 'latency': 2000,\n",
      " 'load_event': False,\n",
      " 'lr_scheduler_type': 'cosine_decay_with_warmup_half',\n",
      " 'mgn': 0.05100786977754449,\n",
      " 'minibatch': 192,\n",
      " 'mixup': 0.2,\n",
      " 'model': '2D-ViT-B-8',\n",
      " 'num_history': 500,\n",
      " 'num_params': 86388867,\n",
      " 'out_dims': 3,\n",
      " 'output_length': 82,\n",
      " 'photic': 'X',\n",
      " 'preprocess_test': Sequential(\n",
      "  (0): EegToDevice(device=0)\n",
      "  (1): EegNormalizeAge(mean=tensor([71.1771], device='cuda:0'),std=tensor([9.5998]),eps=1e-08)\n",
      "  (2): EegNormalizeMeanStd(mean=tensor([-1.8574e-01, -1.8680e-01, -5.2159e-02, -3.1002e-02,  1.6758e-01,\n",
      "           1.0980e+00, -1.0237e-01,  9.5761e-02, -4.0369e-02, -3.3895e-03,\n",
      "           6.2906e-01, -1.0010e-03, -3.1466e-02,  6.4765e-02, -3.3725e-01,\n",
      "           5.3124e-02, -3.0358e-02,  8.7376e-02, -2.6239e-02], device='cuda:0'),std=tensor([37.6486, 17.9199, 10.6916, 10.8029, 14.4018, 41.9646, 17.1241,  9.7634,\n",
      "          10.7859, 15.0118, 19.5582, 14.1594, 13.1319, 20.1939, 16.7729, 13.5087,\n",
      "          17.9076, 10.6894, 11.1284]),eps=1e-08)\n",
      "  (3): EegSpectrogram(n_fft=89, complex_mode=as_real, stft_kwargs={'hop_length': 22})\n",
      "  (4): EegNormalizeMeanStd(mean=tensor([[ 7.4357e-01, -2.5849e-03,  2.6217e-03,  ...,  1.2433e-03,\n",
      "            1.0389e-03,  1.5106e-03],\n",
      "          [-6.7089e-01, -1.0264e-03,  3.5293e-03,  ...,  2.2555e-03,\n",
      "            2.5969e-03,  2.1197e-03],\n",
      "          [-3.7103e-01, -7.4444e-03,  4.6813e-03,  ...,  1.0546e-03,\n",
      "            7.9420e-04, -8.5595e-04],\n",
      "          ...,\n",
      "          [ 0.0000e+00,  1.0692e-02, -2.5257e-04,  ..., -7.9213e-05,\n",
      "           -3.0136e-04, -9.0930e-04],\n",
      "          [ 0.0000e+00, -3.8418e-02, -2.3325e-02,  ..., -1.1827e-04,\n",
      "            1.1853e-04,  2.6044e-04],\n",
      "          [ 0.0000e+00, -2.9729e-02, -1.8817e-02,  ..., -5.0803e-04,\n",
      "           -1.6856e-04, -1.2876e-03]], device='cuda:0'),std=tensor([[80.5936, 10.9289,  5.1821,  ...,  0.6832,  0.6831,  0.6762],\n",
      "          [77.6998,  9.9122,  5.8499,  ...,  0.6900,  0.6873,  0.6882],\n",
      "          [69.6645,  9.1647,  6.6801,  ...,  0.7118,  0.7050,  0.7051],\n",
      "          ...,\n",
      "          [ 0.0000, 15.4637,  8.7895,  ...,  0.4456,  0.4455,  0.4363],\n",
      "          [ 0.0000, 14.1451,  9.3075,  ...,  0.4670,  0.4715,  0.4564],\n",
      "          [ 0.0000, 14.7089,  8.7919,  ...,  0.4616,  0.4689,  0.4551]],\n",
      "         device='cuda:0'),eps=1e-08)\n",
      "),\n",
      " 'preprocess_train': Sequential(\n",
      "  (0): EegToDevice(device=0)\n",
      "  (1): EegNormalizeAge(mean=tensor([71.1771], device='cuda:0'),std=tensor([9.5998]),eps=1e-08)\n",
      "  (2): EegAddGaussianNoiseAge(mean=0.0,std=0.2523992568434483)\n",
      "  (3): EegNormalizeMeanStd(mean=tensor([-1.8574e-01, -1.8680e-01, -5.2159e-02, -3.1002e-02,  1.6758e-01,\n",
      "           1.0980e+00, -1.0237e-01,  9.5761e-02, -4.0369e-02, -3.3895e-03,\n",
      "           6.2906e-01, -1.0010e-03, -3.1466e-02,  6.4765e-02, -3.3725e-01,\n",
      "           5.3124e-02, -3.0358e-02,  8.7376e-02, -2.6239e-02], device='cuda:0'),std=tensor([37.6486, 17.9199, 10.6916, 10.8029, 14.4018, 41.9646, 17.1241,  9.7634,\n",
      "          10.7859, 15.0118, 19.5582, 14.1594, 13.1319, 20.1939, 16.7729, 13.5087,\n",
      "          17.9076, 10.6894, 11.1284]),eps=1e-08)\n",
      "  (4): EegAdditiveGaussianNoise(mean=0.0,std=0.028775714802475632)\n",
      "  (5): EegMultiplicativeGaussianNoise(mean=0.0,std=0.05100786977754449)\n",
      "  (6): EegSpectrogram(n_fft=89, complex_mode=as_real, stft_kwargs={'hop_length': 22})\n",
      "  (7): EegNormalizeMeanStd(mean=tensor([[ 7.4357e-01, -2.5849e-03,  2.6217e-03,  ...,  1.2433e-03,\n",
      "            1.0389e-03,  1.5106e-03],\n",
      "          [-6.7089e-01, -1.0264e-03,  3.5293e-03,  ...,  2.2555e-03,\n",
      "            2.5969e-03,  2.1197e-03],\n",
      "          [-3.7103e-01, -7.4444e-03,  4.6813e-03,  ...,  1.0546e-03,\n",
      "            7.9420e-04, -8.5595e-04],\n",
      "          ...,\n",
      "          [ 0.0000e+00,  1.0692e-02, -2.5257e-04,  ..., -7.9213e-05,\n",
      "           -3.0136e-04, -9.0930e-04],\n",
      "          [ 0.0000e+00, -3.8418e-02, -2.3325e-02,  ..., -1.1827e-04,\n",
      "            1.1853e-04,  2.6044e-04],\n",
      "          [ 0.0000e+00, -2.9729e-02, -1.8817e-02,  ..., -5.0803e-04,\n",
      "           -1.6856e-04, -1.2876e-03]], device='cuda:0'),std=tensor([[80.5936, 10.9289,  5.1821,  ...,  0.6832,  0.6831,  0.6762],\n",
      "          [77.6998,  9.9122,  5.8499,  ...,  0.6900,  0.6873,  0.6882],\n",
      "          [69.6645,  9.1647,  6.6801,  ...,  0.7118,  0.7050,  0.7051],\n",
      "          ...,\n",
      "          [ 0.0000, 15.4637,  8.7895,  ...,  0.4456,  0.4455,  0.4363],\n",
      "          [ 0.0000, 14.1451,  9.3075,  ...,  0.4670,  0.4715,  0.4564],\n",
      "          [ 0.0000, 14.7089,  8.7919,  ...,  0.4616,  0.4689,  0.4551]],\n",
      "         device='cuda:0'),eps=1e-08)\n",
      "),\n",
      " 'run_mode': 'train',\n",
      " 'save_model': True,\n",
      " 'search_lr': True,\n",
      " 'search_multiplier': 1.0,\n",
      " 'seed': 0,\n",
      " 'seq_len_2d': (45, 46),\n",
      " 'seq_length': 1000,\n",
      " 'signal_2d_mean': tensor([[[[ 7.4357e-01],\n",
      "          [-2.5849e-03],\n",
      "          [ 2.6217e-03],\n",
      "          ...,\n",
      "          [ 1.2433e-03],\n",
      "          [ 1.0389e-03],\n",
      "          [ 1.5106e-03]],\n",
      "\n",
      "         [[-6.7089e-01],\n",
      "          [-1.0264e-03],\n",
      "          [ 3.5293e-03],\n",
      "          ...,\n",
      "          [ 2.2555e-03],\n",
      "          [ 2.5969e-03],\n",
      "          [ 2.1197e-03]],\n",
      "\n",
      "         [[-3.7103e-01],\n",
      "          [-7.4444e-03],\n",
      "          [ 4.6813e-03],\n",
      "          ...,\n",
      "          [ 1.0546e-03],\n",
      "          [ 7.9420e-04],\n",
      "          [-8.5595e-04]],\n",
      "\n",
      "         ...,\n",
      "\n",
      "         [[ 0.0000e+00],\n",
      "          [ 1.0692e-02],\n",
      "          [-2.5257e-04],\n",
      "          ...,\n",
      "          [-7.9213e-05],\n",
      "          [-3.0136e-04],\n",
      "          [-9.0930e-04]],\n",
      "\n",
      "         [[ 0.0000e+00],\n",
      "          [-3.8418e-02],\n",
      "          [-2.3325e-02],\n",
      "          ...,\n",
      "          [-1.1827e-04],\n",
      "          [ 1.1853e-04],\n",
      "          [ 2.6044e-04]],\n",
      "\n",
      "         [[ 0.0000e+00],\n",
      "          [-2.9729e-02],\n",
      "          [-1.8817e-02],\n",
      "          ...,\n",
      "          [-5.0803e-04],\n",
      "          [-1.6856e-04],\n",
      "          [-1.2876e-03]]]], device='cuda:0'),\n",
      " 'signal_2d_std': tensor([[[[80.5936],\n",
      "          [10.9289],\n",
      "          [ 5.1821],\n",
      "          ...,\n",
      "          [ 0.6832],\n",
      "          [ 0.6831],\n",
      "          [ 0.6762]],\n",
      "\n",
      "         [[77.6998],\n",
      "          [ 9.9122],\n",
      "          [ 5.8499],\n",
      "          ...,\n",
      "          [ 0.6900],\n",
      "          [ 0.6873],\n",
      "          [ 0.6882]],\n",
      "\n",
      "         [[69.6645],\n",
      "          [ 9.1647],\n",
      "          [ 6.6801],\n",
      "          ...,\n",
      "          [ 0.7118],\n",
      "          [ 0.7050],\n",
      "          [ 0.7051]],\n",
      "\n",
      "         ...,\n",
      "\n",
      "         [[ 0.0000],\n",
      "          [15.4637],\n",
      "          [ 8.7895],\n",
      "          ...,\n",
      "          [ 0.4456],\n",
      "          [ 0.4455],\n",
      "          [ 0.4363]],\n",
      "\n",
      "         [[ 0.0000],\n",
      "          [14.1451],\n",
      "          [ 9.3075],\n",
      "          ...,\n",
      "          [ 0.4670],\n",
      "          [ 0.4715],\n",
      "          [ 0.4564]],\n",
      "\n",
      "         [[ 0.0000],\n",
      "          [14.7089],\n",
      "          [ 8.7919],\n",
      "          ...,\n",
      "          [ 0.4616],\n",
      "          [ 0.4689],\n",
      "          [ 0.4551]]]], device='cuda:0'),\n",
      " 'signal_header': ['Fp1-AVG', 'F3-AVG', 'C3-AVG', 'P3-AVG', 'O1-AVG', 'Fp2-AVG', 'F4-AVG', 'C4-AVG', 'P4-AVG', 'O2-AVG', 'F7-AVG', 'T3-AVG', 'T5-AVG', 'F8-AVG', 'T4-AVG', 'T6-AVG', 'FZ-AVG', 'CZ-AVG', 'PZ-AVG', 'EKG', 'Photic'],\n",
      " 'signal_length_limit': 10000000,\n",
      " 'signal_mean': tensor([[[-1.8574e-01],\n",
      "         [-1.8680e-01],\n",
      "         [-5.2159e-02],\n",
      "         [-3.1002e-02],\n",
      "         [ 1.6758e-01],\n",
      "         [ 1.0980e+00],\n",
      "         [-1.0237e-01],\n",
      "         [ 9.5761e-02],\n",
      "         [-4.0369e-02],\n",
      "         [-3.3895e-03],\n",
      "         [ 6.2906e-01],\n",
      "         [-1.0010e-03],\n",
      "         [-3.1466e-02],\n",
      "         [ 6.4765e-02],\n",
      "         [-3.3725e-01],\n",
      "         [ 5.3124e-02],\n",
      "         [-3.0358e-02],\n",
      "         [ 8.7376e-02],\n",
      "         [-2.6239e-02]]]),\n",
      " 'signal_std': tensor([[[37.6486],\n",
      "         [17.9199],\n",
      "         [10.6916],\n",
      "         [10.8029],\n",
      "         [14.4018],\n",
      "         [41.9646],\n",
      "         [17.1241],\n",
      "         [ 9.7634],\n",
      "         [10.7859],\n",
      "         [15.0118],\n",
      "         [19.5582],\n",
      "         [14.1594],\n",
      "         [13.1319],\n",
      "         [20.1939],\n",
      "         [16.7729],\n",
      "         [13.5087],\n",
      "         [17.9076],\n",
      "         [10.6894],\n",
      "         [11.1284]]]),\n",
      " 'stft_params': {'hop_length': 22, 'n_fft': 89},\n",
      " 'task': 'task2',\n",
      " 'task_description': 'Classification of [Normal], [MCI], and [Dementia] symptoms.',\n",
      " 'task_name': 'CAUEEG-task2 benchmark',\n",
      " 'test_crop_multiple': 8,\n",
      " 'total_samples': 70000000.0,\n",
      " 'transform': Compose(\n",
      "    EegRandomCrop(crop_length=1000, length_limit=10000000, multiple=4, latency=2000, return_timing=False)\n",
      "    EegDropChannels(drop_index=[19, 20])\n",
      "    EegToTensor()\n",
      "),\n",
      " 'transform_multicrop': Compose(\n",
      "    EegRandomCrop(crop_length=1000, length_limit=10000000, multiple=8, latency=2000, return_timing=False)\n",
      "    EegDropChannels(drop_index=[19, 20])\n",
      "    EegToTensor()\n",
      "),\n",
      " 'use_age': 'conv',\n",
      " 'use_wandb': True,\n",
      " 'warmup_min': 3000,\n",
      " 'warmup_ratio': 0.05,\n",
      " 'warmup_steps': 4557,\n",
      " 'watch_model': False,\n",
      " 'weight_decay': 0.03644858544201374}\n"
     ]
    }
   ],
   "source": [
    "pprint.pprint(config, width=250)"
   ]
  },
  {
   "cell_type": "markdown",
   "id": "0c85edd9-772b-4525-8acc-095850716b4e",
   "metadata": {
    "pycharm": {
     "name": "#%% md\n"
    }
   },
   "source": [
    "-----\n",
    "\n",
    "## Load the target model"
   ]
  },
  {
   "cell_type": "code",
   "execution_count": 7,
   "id": "d88946aa-6d3c-4b14-869e-b558783b8148",
   "metadata": {
    "pycharm": {
     "name": "#%%\n"
    }
   },
   "outputs": [],
   "source": [
    "# model = config['generator'](**config).to(device)\n",
    "model = hydra.utils.instantiate(config).to(device)\n",
    "\n",
    "if config.get('ddp', False):\n",
    "    model_state_ddp = deepcopy(model_state)\n",
    "    model_state = OrderedDict()\n",
    "    for k, v in model_state_ddp.items():\n",
    "        name = k[7:] # remove 'module.' of DataParallel/DistributedDataParallel\n",
    "        model_state[name] = v\n",
    "    model.load_state_dict(model_state)\n",
    "else:\n",
    "    model.load_state_dict(model_state)"
   ]
  },
  {
   "cell_type": "markdown",
   "id": "a751ab89-fe12-4e98-94e1-9a616ba08670",
   "metadata": {
    "pycharm": {
     "name": "#%% md\n"
    }
   },
   "source": [
    "-----\n",
    "\n",
    "## Evaluate the model and analyze the performance by the crop timing"
   ]
  },
  {
   "cell_type": "markdown",
   "id": "a76b02db-da4e-4e65-830b-ba4214ff1bd7",
   "metadata": {
    "pycharm": {
     "name": "#%% md\n"
    }
   },
   "source": [
    "### Configurations"
   ]
  },
  {
   "cell_type": "code",
   "execution_count": 8,
   "id": "89fa65ab-c9ce-4182-97c7-1adb2ca651d3",
   "metadata": {
    "pycharm": {
     "name": "#%%\n"
    }
   },
   "outputs": [
    {
     "name": "stdout",
     "output_type": "stream",
     "text": [
      "50\n"
     ]
    }
   ],
   "source": [
    "config = ckpt['config']\n",
    "\n",
    "config['ddp'] = False\n",
    "config['crop_timing_analysis'] = True\n",
    "config['eval'] = True\n",
    "config['device'] = device\n",
    "# config['test_crop_multiple'] = 32\n",
    "\n",
    "repeat = round(200 / config['crop_multiple'])\n",
    "print(repeat)"
   ]
  },
  {
   "cell_type": "markdown",
   "id": "61bc5f3a-1321-406c-ad0f-d8cb6f587bd1",
   "metadata": {},
   "source": [
    "### Build Dataset"
   ]
  },
  {
   "cell_type": "code",
   "execution_count": 9,
   "id": "316ce735-4ffd-49a6-a9d1-51584df94390",
   "metadata": {},
   "outputs": [
    {
     "name": "stdout",
     "output_type": "stream",
     "text": [
      "transform: Compose(\n",
      "    EegRandomCrop(crop_length=1000, length_limit=10000000, multiple=4, latency=2000, return_timing=True)\n",
      "    EegDropChannels(drop_index=[19, 20])\n",
      "    EegToTensor()\n",
      ")\n",
      "\n",
      "----------------------------------------------------------------------------------------------------\n",
      "\n",
      "transform_multicrop: Compose(\n",
      "    EegRandomCrop(crop_length=1000, length_limit=10000000, multiple=8, latency=2000, return_timing=True)\n",
      "    EegDropChannels(drop_index=[19, 20])\n",
      "    EegToTensor()\n",
      ")\n",
      "\n",
      "----------------------------------------------------------------------------------------------------\n",
      "\n",
      "\n",
      "task config:\n",
      "{'class_label_to_name': ['Normal', 'MCI', 'Dementia'],\n",
      " 'class_name_to_label': {'Dementia': 2, 'MCI': 1, 'Normal': 0},\n",
      " 'task_description': 'Classification of [Normal], [MCI], and [Dementia] '\n",
      "                     'symptoms.',\n",
      " 'task_name': 'CAUEEG-task2 benchmark'}\n",
      "\n",
      " ---------------------------------------------------------------------------------------------------- \n",
      "\n",
      "train_dataset[0].keys():\n",
      "dict_keys(['serial', 'age', 'symptom', 'class_name', 'class_label', 'signal', 'crop_timing'])\n",
      "train signal shape: torch.Size([19, 1000])\n",
      "\n",
      "\n",
      "----------------------------------------------------------------------------------------------------\n",
      "\n",
      "val_dataset[0].keys():\n",
      "dict_keys(['serial', 'age', 'symptom', 'class_name', 'class_label', 'signal', 'crop_timing'])\n",
      "\n",
      "----------------------------------------------------------------------------------------------------\n",
      "\n",
      "test_dataset[0].keys():\n",
      "dict_keys(['serial', 'age', 'symptom', 'class_name', 'class_label', 'signal', 'crop_timing'])\n",
      "\n",
      "----------------------------------------------------------------------------------------------------\n",
      "\n",
      "test_dataset[0].keys():\n",
      "dict_keys(['serial', 'age', 'symptom', 'class_name', 'class_label', 'signal', 'crop_timing'])\n",
      "test signal shape: torch.Size([19, 1000])\n",
      "\n",
      "----------------------------------------------------------------------------------------------------\n",
      "\n",
      "preprocess_train: Sequential(\n",
      "  (0): EegToDevice(device=cuda)\n",
      "  (1): EegNormalizeAge(mean=tensor([71.1771]),std=tensor([9.5998]),eps=1e-08)\n",
      "  (2): EegAddGaussianNoiseAge(mean=0.0,std=0.2523992568434483)\n",
      "  (3): EegNormalizeMeanStd(mean=tensor([-1.8574e-01, -1.8680e-01, -5.2159e-02, -3.1002e-02,  1.6758e-01,\n",
      "           1.0980e+00, -1.0237e-01,  9.5761e-02, -4.0369e-02, -3.3895e-03,\n",
      "           6.2906e-01, -1.0010e-03, -3.1466e-02,  6.4765e-02, -3.3725e-01,\n",
      "           5.3124e-02, -3.0358e-02,  8.7376e-02, -2.6239e-02]),std=tensor([37.6486, 17.9199, 10.6916, 10.8029, 14.4018, 41.9646, 17.1241,  9.7634,\n",
      "          10.7859, 15.0118, 19.5582, 14.1594, 13.1319, 20.1939, 16.7729, 13.5087,\n",
      "          17.9076, 10.6894, 11.1284]),eps=1e-08)\n",
      "  (4): EegAdditiveGaussianNoise(mean=0.0,std=0.028775714802475632)\n",
      "  (5): EegMultiplicativeGaussianNoise(mean=0.0,std=0.05100786977754449)\n",
      "  (6): EegSpectrogram(n_fft=89, complex_mode=as_real, stft_kwargs={'hop_length': 22})\n",
      "  (7): EegNormalizeMeanStd(mean=tensor([[ 7.4357e-01, -2.5849e-03,  2.6217e-03,  ...,  1.2433e-03,\n",
      "            1.0389e-03,  1.5106e-03],\n",
      "          [-6.7089e-01, -1.0264e-03,  3.5293e-03,  ...,  2.2555e-03,\n",
      "            2.5969e-03,  2.1197e-03],\n",
      "          [-3.7103e-01, -7.4444e-03,  4.6813e-03,  ...,  1.0546e-03,\n",
      "            7.9420e-04, -8.5595e-04],\n",
      "          ...,\n",
      "          [ 0.0000e+00,  1.0692e-02, -2.5257e-04,  ..., -7.9213e-05,\n",
      "           -3.0136e-04, -9.0930e-04],\n",
      "          [ 0.0000e+00, -3.8418e-02, -2.3325e-02,  ..., -1.1827e-04,\n",
      "            1.1853e-04,  2.6044e-04],\n",
      "          [ 0.0000e+00, -2.9729e-02, -1.8817e-02,  ..., -5.0803e-04,\n",
      "           -1.6856e-04, -1.2876e-03]], device='cuda:0'),std=tensor([[80.5936, 10.9289,  5.1821,  ...,  0.6832,  0.6831,  0.6762],\n",
      "          [77.6998,  9.9122,  5.8499,  ...,  0.6900,  0.6873,  0.6882],\n",
      "          [69.6645,  9.1647,  6.6801,  ...,  0.7118,  0.7050,  0.7051],\n",
      "          ...,\n",
      "          [ 0.0000, 15.4637,  8.7895,  ...,  0.4456,  0.4455,  0.4363],\n",
      "          [ 0.0000, 14.1451,  9.3075,  ...,  0.4670,  0.4715,  0.4564],\n",
      "          [ 0.0000, 14.7089,  8.7919,  ...,  0.4616,  0.4689,  0.4551]],\n",
      "         device='cuda:0'),eps=1e-08)\n",
      ")\n",
      "\n",
      "----------------------------------------------------------------------------------------------------\n",
      "\n",
      "preprocess_test: Sequential(\n",
      "  (0): EegToDevice(device=cuda)\n",
      "  (1): EegNormalizeAge(mean=tensor([71.1771]),std=tensor([9.5998]),eps=1e-08)\n",
      "  (2): EegNormalizeMeanStd(mean=tensor([-1.8574e-01, -1.8680e-01, -5.2159e-02, -3.1002e-02,  1.6758e-01,\n",
      "           1.0980e+00, -1.0237e-01,  9.5761e-02, -4.0369e-02, -3.3895e-03,\n",
      "           6.2906e-01, -1.0010e-03, -3.1466e-02,  6.4765e-02, -3.3725e-01,\n",
      "           5.3124e-02, -3.0358e-02,  8.7376e-02, -2.6239e-02]),std=tensor([37.6486, 17.9199, 10.6916, 10.8029, 14.4018, 41.9646, 17.1241,  9.7634,\n",
      "          10.7859, 15.0118, 19.5582, 14.1594, 13.1319, 20.1939, 16.7729, 13.5087,\n",
      "          17.9076, 10.6894, 11.1284]),eps=1e-08)\n",
      "  (3): EegSpectrogram(n_fft=89, complex_mode=as_real, stft_kwargs={'hop_length': 22})\n",
      "  (4): EegNormalizeMeanStd(mean=tensor([[ 7.4357e-01, -2.5849e-03,  2.6217e-03,  ...,  1.2433e-03,\n",
      "            1.0389e-03,  1.5106e-03],\n",
      "          [-6.7089e-01, -1.0264e-03,  3.5293e-03,  ...,  2.2555e-03,\n",
      "            2.5969e-03,  2.1197e-03],\n",
      "          [-3.7103e-01, -7.4444e-03,  4.6813e-03,  ...,  1.0546e-03,\n",
      "            7.9420e-04, -8.5595e-04],\n",
      "          ...,\n",
      "          [ 0.0000e+00,  1.0692e-02, -2.5257e-04,  ..., -7.9213e-05,\n",
      "           -3.0136e-04, -9.0930e-04],\n",
      "          [ 0.0000e+00, -3.8418e-02, -2.3325e-02,  ..., -1.1827e-04,\n",
      "            1.1853e-04,  2.6044e-04],\n",
      "          [ 0.0000e+00, -2.9729e-02, -1.8817e-02,  ..., -5.0803e-04,\n",
      "           -1.6856e-04, -1.2876e-03]], device='cuda:0'),std=tensor([[80.5936, 10.9289,  5.1821,  ...,  0.6832,  0.6831,  0.6762],\n",
      "          [77.6998,  9.9122,  5.8499,  ...,  0.6900,  0.6873,  0.6882],\n",
      "          [69.6645,  9.1647,  6.6801,  ...,  0.7118,  0.7050,  0.7051],\n",
      "          ...,\n",
      "          [ 0.0000, 15.4637,  8.7895,  ...,  0.4456,  0.4455,  0.4363],\n",
      "          [ 0.0000, 14.1451,  9.3075,  ...,  0.4670,  0.4715,  0.4564],\n",
      "          [ 0.0000, 14.7089,  8.7919,  ...,  0.4616,  0.4689,  0.4551]],\n",
      "         device='cuda:0'),eps=1e-08)\n",
      ")\n",
      "\n",
      "----------------------------------------------------------------------------------------------------\n",
      "\n",
      "0 torch.Size([192, 38, 45, 46]) torch.Size([192]) torch.Size([192])\n",
      "1 torch.Size([192, 38, 45, 46]) torch.Size([192]) torch.Size([192])\n",
      "2 torch.Size([192, 38, 45, 46]) torch.Size([192]) torch.Size([192])\n",
      "3 torch.Size([192, 38, 45, 46]) torch.Size([192]) torch.Size([192])\n",
      "4 torch.Size([192, 38, 45, 46]) torch.Size([192]) torch.Size([192])\n",
      "\n",
      "----------------------------------------------------------------------------------------------------\n",
      "\n"
     ]
    }
   ],
   "source": [
    "train_loader, val_loader, test_loader, multicrop_test_loader = build_dataset_for_train(config, verbose=True)"
   ]
  },
  {
   "cell_type": "markdown",
   "id": "f0116501-0a1b-4460-92a4-f1c632993366",
   "metadata": {
    "pycharm": {
     "name": "#%% md\n"
    }
   },
   "source": [
    "### Train set"
   ]
  },
  {
   "cell_type": "code",
   "execution_count": 10,
   "id": "266a7e96-bc3e-413e-849a-ed63ae59e16a",
   "metadata": {
    "pycharm": {
     "name": "#%%\n"
    }
   },
   "outputs": [],
   "source": [
    "# _ = check_accuracy_extended_debug(model, train_loader, \n",
    "#                                   config['preprocess_test'], config, repeat=repeat)\n",
    "# train_acc = _[0]\n",
    "# train_score = _[1]\n",
    "# train_target = _[2]\n",
    "# train_confusion = _[3]\n",
    "# train_error_table = _[4]\n",
    "# train_crop_timing = _[5]\n",
    "\n",
    "# print(train_acc)"
   ]
  },
  {
   "cell_type": "code",
   "execution_count": 11,
   "id": "802da575-01f7-4046-b1fd-64321adb58ba",
   "metadata": {
    "pycharm": {
     "name": "#%%\n"
    }
   },
   "outputs": [],
   "source": [
    "# draw_roc_curve(train_score, train_target, config['class_label_to_name'], use_wandb=False)\n",
    "# draw_confusion(train_confusion, config['class_label_to_name'], use_wandb=False)\n",
    "# draw_error_table(train_error_table, use_wandb=False, fig_size=(60.0, 4.0))"
   ]
  },
  {
   "cell_type": "markdown",
   "id": "34d83768-0b92-41f8-9276-08f444ae3006",
   "metadata": {
    "pycharm": {
     "name": "#%% md\n"
    }
   },
   "source": [
    "### Validation set"
   ]
  },
  {
   "cell_type": "code",
   "execution_count": 12,
   "id": "9bcce1ba-ccb0-4b77-aebc-b6ee966ab28c",
   "metadata": {
    "pycharm": {
     "name": "#%%\n"
    }
   },
   "outputs": [],
   "source": [
    "# _ = check_accuracy_extended_debug(model, val_loader, \n",
    "#                                   config['preprocess_test'], config, repeat=repeat)\n",
    "# val_acc = _[0]\n",
    "# val_score = _[1]\n",
    "# val_target = _[2]\n",
    "# val_confusion = _[3]\n",
    "# val_error_table = _[4]\n",
    "# val_crop_timing = _[5]\n",
    "\n",
    "# print(val_acc)"
   ]
  },
  {
   "cell_type": "code",
   "execution_count": 13,
   "id": "ceb56c9a-31e2-4bf4-8d19-5aa918390e59",
   "metadata": {
    "pycharm": {
     "name": "#%%\n"
    }
   },
   "outputs": [],
   "source": [
    "# draw_roc_curve(val_score, val_target, config['class_label_to_name'], use_wandb=False)\n",
    "# draw_confusion(val_confusion, config['class_label_to_name'], use_wandb=False)\n",
    "# draw_error_table(val_error_table, use_wandb=False)"
   ]
  },
  {
   "cell_type": "markdown",
   "id": "6b0423d5-d26b-4a02-84a9-b4577b81cf82",
   "metadata": {
    "pycharm": {
     "name": "#%% md\n"
    }
   },
   "source": [
    "### Test set"
   ]
  },
  {
   "cell_type": "code",
   "execution_count": 14,
   "id": "7572abf6-6c8d-429b-b18b-9eafbbe2b5b1",
   "metadata": {
    "pycharm": {
     "name": "#%%\n"
    }
   },
   "outputs": [
    {
     "name": "stdout",
     "output_type": "stream",
     "text": [
      "56.46610169491525\n"
     ]
    }
   ],
   "source": [
    "_ = check_accuracy_extended_debug(model, test_loader, \n",
    "                                  config['preprocess_test'], config, repeat=repeat)\n",
    "test_acc = _[0]\n",
    "test_score = _[1]\n",
    "test_target = _[2]\n",
    "test_confusion = _[3]\n",
    "test_error_table = _[4]\n",
    "test_crop_timing = _[5]\n",
    "\n",
    "print(test_acc)"
   ]
  },
  {
   "cell_type": "code",
   "execution_count": 15,
   "id": "153f97a7-1871-4f73-94e6-984a3c160e99",
   "metadata": {
    "pycharm": {
     "name": "#%%\n"
    }
   },
   "outputs": [],
   "source": [
    "# draw_roc_curve(test_score, test_target, config['class_label_to_name'], use_wandb=False)\n",
    "# draw_confusion(test_confusion, config['class_label_to_name'], use_wandb=False)\n",
    "# draw_error_table(test_error_table, use_wandb=False)"
   ]
  },
  {
   "cell_type": "markdown",
   "id": "9d1d240c-1264-478a-88c3-5481ac520cd1",
   "metadata": {
    "pycharm": {
     "name": "#%% md\n"
    }
   },
   "source": [
    "### Test set (with test-time augmentation)"
   ]
  },
  {
   "cell_type": "code",
   "execution_count": 16,
   "id": "643e8af7-e6cb-4b25-89b0-c115296be5e9",
   "metadata": {
    "pycharm": {
     "name": "#%%\n"
    },
    "tags": []
   },
   "outputs": [
    {
     "name": "stdout",
     "output_type": "stream",
     "text": [
      "61.79661016949152\n"
     ]
    }
   ],
   "source": [
    "_ = check_accuracy_multicrop_extended(model, multicrop_test_loader, \n",
    "                                      config['preprocess_test'], config, repeat=repeat)\n",
    "multi_test_acc = _[0]\n",
    "multi_test_score = _[1]\n",
    "multi_test_target = _[2]\n",
    "multi_test_confusion = _[3]\n",
    "multi_test_error_table = _[4]\n",
    "\n",
    "print(multi_test_acc)"
   ]
  },
  {
   "cell_type": "code",
   "execution_count": 17,
   "id": "e0d78977-2a2a-4a49-8802-3884c19aee07",
   "metadata": {
    "pycharm": {
     "name": "#%%\n"
    }
   },
   "outputs": [],
   "source": [
    "# draw_roc_curve(multi_test_score, multi_test_target, config['class_label_to_name'], use_wandb=False)\n",
    "# draw_confusion(multi_test_confusion, config['class_label_to_name'], use_wandb=False)\n",
    "# draw_error_table(multi_test_error_table, use_wandb=False)"
   ]
  },
  {
   "cell_type": "markdown",
   "id": "0e6c9f09-9383-4abb-b1d9-1b8651aebba4",
   "metadata": {},
   "source": [
    "## Update `WANDB` thing"
   ]
  },
  {
   "cell_type": "code",
   "execution_count": 18,
   "id": "889480b4-2412-4d99-a0f3-37f5009da60c",
   "metadata": {},
   "outputs": [
    {
     "name": "stdout",
     "output_type": "stream",
     "text": [
      "<Run ipis-mjkim/sweep-test/amzr0uzt (finished)>\n",
      "60.666666666666664\n",
      "61.79661016949152\n"
     ]
    }
   ],
   "source": [
    "api = wandb.Api()\n",
    "run = api.run(f\"ipis-mjkim/{project}/{run_name}\")\n",
    "\n",
    "print(run)\n",
    "print(run.summary['Multi-Crop Test Accuracy'])\n",
    "run.summary['Multi-Crop Test Accuracy'] = multi_test_acc\n",
    "run.summary.update()\n",
    "print(run.summary['Multi-Crop Test Accuracy'])"
   ]
  },
  {
   "cell_type": "code",
   "execution_count": null,
   "id": "f9de4690-166f-491f-a297-4ff30ef229f8",
   "metadata": {},
   "outputs": [],
   "source": [
    "api = wandb.Api()\n",
    "run = api.run(f\"ipis-mjkim/{project}/{run_name}\")\n",
    "\n",
    "print(run)\n",
    "print(run.summary['Multi-Crop Test Accuracy'])\n",
    "run.summary['Multi-Crop Test Accuracy'] = multi_test_acc\n",
    "run.summary.update()\n",
    "print(run.summary['Multi-Crop Test Accuracy'])"
   ]
  }
 ],
 "metadata": {
  "kernelspec": {
   "display_name": "Python 3 (ipykernel)",
   "language": "python",
   "name": "python3"
  },
  "language_info": {
   "codemirror_mode": {
    "name": "ipython",
    "version": 3
   },
   "file_extension": ".py",
   "mimetype": "text/x-python",
   "name": "python",
   "nbconvert_exporter": "python",
   "pygments_lexer": "ipython3",
   "version": "3.9.12"
  }
 },
 "nbformat": 4,
 "nbformat_minor": 5
}
