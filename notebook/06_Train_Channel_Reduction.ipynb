{
 "cells": [
  {
   "cell_type": "markdown",
   "metadata": {
    "pycharm": {
     "name": "#%% md\n"
    }
   },
   "source": [
    "# Train Channel Reduction\n",
    "\n",
    "- Train deep classifiers for the EEG-based diagnostic classification with channel reduction.\n",
    "    - CAUEEG-Dementia benchmark: Classification of **Normal**, **MCI**, and **Dementia** symptoms\n",
    "    - CAUEEG-Abnormal benchmark: Classification of **Normal** and **Abnormal** symptoms    "
   ]
  },
  {
   "cell_type": "markdown",
   "metadata": {
    "pycharm": {
     "name": "#%% md\n"
    }
   },
   "source": [
    "-----\n",
    "\n",
    "## Load Packages"
   ]
  },
  {
   "cell_type": "code",
   "execution_count": null,
   "metadata": {
    "pycharm": {
     "name": "#%%\n"
    }
   },
   "outputs": [],
   "source": [
    "# for auto-reloading external modules\n",
    "# see http://stackoverflow.com/questions/1907993/autoreload-of-modules-in-ipython\n",
    "%load_ext autoreload\n",
    "%autoreload 2\n",
    "%cd .."
   ]
  },
  {
   "cell_type": "code",
   "execution_count": null,
   "metadata": {
    "pycharm": {
     "name": "#%%\n"
    },
    "tags": []
   },
   "outputs": [],
   "source": [
    "# Load some packages\n",
    "import hydra\n",
    "from omegaconf import OmegaConf\n",
    "import wandb\n",
    "import pprint\n",
    "from copy import deepcopy\n",
    "import itertools\n",
    "from tqdm.auto import tqdm\n",
    "\n",
    "# custom package\n",
    "from run_train import check_device_env\n",
    "from run_train import prepare_and_run_train"
   ]
  },
  {
   "cell_type": "markdown",
   "metadata": {
    "pycharm": {
     "name": "#%% md\n"
    }
   },
   "source": [
    "---\n",
    "\n",
    "## Specify the dataset, model, and train setting"
   ]
  },
  {
   "cell_type": "code",
   "execution_count": null,
   "metadata": {
    "collapsed": false,
    "jupyter": {
     "outputs_hidden": false
    },
    "pycharm": {
     "name": "#%%\n"
    }
   },
   "outputs": [],
   "source": [
    "script = \"data=caueeg-dementia data.EKG=O data.awgn=0 data.awgn_age=0 data.mgn=0 data.photic=O data.seq_length=2000 model=1D-ResNet-18 model.activation=gelu model.dropout=0.3 model.fc_stages=3 model.use_age=conv train.criterion=multi-bce train.lr_scheduler_type=cosine_decay_with_warmup_half train.mixup=0.2 train.weight_decay=0.04394746639552375 ++train.project=caueeg-task2-ablation ++train.base_lr=0.00046936536527944847 ++train.search_lr=False\"\n",
    "print(script)"
   ]
  },
  {
   "cell_type": "code",
   "execution_count": null,
   "metadata": {
    "tags": []
   },
   "outputs": [],
   "source": [
    "add_configs_base = []\n",
    "\n",
    "for seg in script.split(\" \"):\n",
    "    if 'train.project' in seg:\n",
    "        continue\n",
    "    elif \".\" in seg and \"++\" not in seg:\n",
    "        seg = \"++\" + seg\n",
    "    add_configs_base.append(seg)\n",
    "\n",
    "add_configs_base.append(\"++model.base_model=2s1700lg\")\n",
    "add_configs_base.append(\"++train.project=caueeg-dementia-channel-reduction\")\n",
    "add_configs_base.append(\"++train.device=cuda:3\")\n",
    "add_configs_base.append(\"++train.total_samples=1.0e+7\")\n",
    "\n",
    "pprint.pprint(add_configs_base)"
   ]
  },
  {
   "cell_type": "markdown",
   "metadata": {
    "collapsed": false,
    "jupyter": {
     "outputs_hidden": false
    },
    "pycharm": {
     "name": "#%%\n"
    }
   },
   "source": [
    "---\n",
    "\n",
    "## Initializing configurations using Hydra and Train"
   ]
  },
  {
   "cell_type": "code",
   "execution_count": null,
   "metadata": {
    "collapsed": false,
    "jupyter": {
     "outputs_hidden": false
    },
    "pycharm": {
     "name": "#%%\n"
    }
   },
   "outputs": [],
   "source": [
    "signal_header = [\"Fp1-AVG\", \"F3-AVG\", \"C3-AVG\", \"P3-AVG\", \"O1-AVG\",\n",
    "                 \"Fp2-AVG\", \"F4-AVG\", \"C4-AVG\", \"P4-AVG\", \"O2-AVG\", \n",
    "                 \"F7-AVG\", \"T3-AVG\", \"T5-AVG\",\"F8-AVG\", \"T4-AVG\", \n",
    "                 \"T6-AVG\", \"FZ-AVG\", \"CZ-AVG\", \"PZ-AVG\", \"EKG\", \"Photic\"]"
   ]
  },
  {
   "cell_type": "code",
   "execution_count": null,
   "metadata": {},
   "outputs": [],
   "source": [
    "# channel_nums = range(19)\n",
    "# for channel_reduction_list in tqdm(list(itertools.combinations(channel_nums, 18))):\n",
    "#     add_configs = deepcopy(add_configs_base)\n",
    "\n",
    "#     with hydra.initialize(config_path=\"../config\"):\n",
    "#         cfg = hydra.compose(config_name=\"default\", overrides=add_configs)\n",
    "\n",
    "#     config = {\n",
    "#         **OmegaConf.to_container(cfg.data),\n",
    "#         **OmegaConf.to_container(cfg.train),\n",
    "#         **OmegaConf.to_container(cfg.model),\n",
    "#     }\n",
    "#     config['channel_reduction_list'] = [*channel_reduction_list]\n",
    "#     config['EKG'] = \"X\"\n",
    "#     config['photic'] = \"X\"\n",
    "#     config['channel_survive'] = [signal_header[i] for i in channel_nums if i not in channel_reduction_list]\n",
    "    \n",
    "\n",
    "#     check_device_env(config)\n",
    "#     # pprint.pprint(config)\n",
    "#     prepare_and_run_train(rank=None, world_size=None, config=config)"
   ]
  },
  {
   "cell_type": "code",
   "execution_count": null,
   "metadata": {},
   "outputs": [],
   "source": [
    "channel_nums = range(19)\n",
    "for channel_difference in tqdm(list(itertools.combinations(channel_nums, 2))):\n",
    "    add_configs = deepcopy(add_configs_base)\n",
    "\n",
    "    with hydra.initialize(config_path=\"../config\"):\n",
    "        cfg = hydra.compose(config_name=\"default\", overrides=add_configs)\n",
    "\n",
    "    config = {\n",
    "        **OmegaConf.to_container(cfg.data),\n",
    "        **OmegaConf.to_container(cfg.train),\n",
    "        **OmegaConf.to_container(cfg.model),\n",
    "    }\n",
    "    config['channel_difference'] = [*channel_difference]\n",
    "    config['EKG'] = \"X\"\n",
    "    config['photic'] = \"X\"\n",
    "    config['montage'] = ' - '.join([signal_header[i].split('-')[0] for i in channel_difference])\n",
    "    config['device'] = 'cuda:3'\n",
    "\n",
    "    check_device_env(config)\n",
    "    # pprint.pprint(config)\n",
    "    prepare_and_run_train(rank=None, world_size=None, config=config)"
   ]
  },
  {
   "cell_type": "markdown",
   "metadata": {},
   "source": [
    "## Parse Results"
   ]
  },
  {
   "cell_type": "code",
   "execution_count": null,
   "metadata": {},
   "outputs": [],
   "source": [
    "import csv\n",
    "import numpy as np\n",
    "\n",
    "performance_list = [] \n",
    "\n",
    "with open(r\"local/wandb_save.csv\") as fp:\n",
    "    rdr = csv.reader(fp)\n",
    "    for i, line in enumerate(rdr):\n",
    "        if i == 0:\n",
    "            continue\n",
    "        mont1, mont2 = line[13].split(\" - \")\n",
    "        test_acc = line[16]\n",
    "        multi_test_acc = line[17]\n",
    "        performance_list.append({\n",
    "            'Mont1': mont1,\n",
    "            'Mont2': mont2,\n",
    "            'Test': test_acc,\n",
    "            'TTA': multi_test_acc,\n",
    "        })\n",
    "        \n",
    "# print(performance_list)"
   ]
  },
  {
   "cell_type": "code",
   "execution_count": null,
   "metadata": {},
   "outputs": [],
   "source": [
    "idx_to_mont = [mont.split('-')[0] for mont in signal_header if mont.lower() not in ['ekg', 'photic']]\n",
    "mont_to_idx = {mont: i for i, mont in enumerate(idx_to_mont)}\n",
    "\n",
    "test = np.zeros((19, 19))\n",
    "mtest = np.zeros((19, 19))\n",
    "\n",
    "for perf in performance_list:\n",
    "    test[mont_to_idx[perf['Mont1']], mont_to_idx[perf['Mont2']]] = perf['Test']\n",
    "    # test[mont_to_idx[perf['Mont2']], mont_to_idx[perf['Mont1']]] = perf['Test']\n",
    "\n",
    "    mtest[mont_to_idx[perf['Mont1']], mont_to_idx[perf['Mont2']]] = perf['TTA']\n",
    "    # mtest[mont_to_idx[perf['Mont2']], mont_to_idx[perf['Mont1']]] = perf['TTA']"
   ]
  },
  {
   "cell_type": "code",
   "execution_count": null,
   "metadata": {},
   "outputs": [],
   "source": [
    "import matplotlib.pyplot as plt\n",
    "plt.rcParams['image.cmap'] = 'jet' # nipy_spectral, jet\n",
    "\n",
    "fig, ax = plt.subplots(num=1, clear=True, figsize=(10.0, 10.0))\n",
    "\n",
    "im = ax.imshow(test)\n",
    "ax.set_xticks(np.arange(len(idx_to_mont)), labels=idx_to_mont)\n",
    "ax.set_yticks(np.arange(len(idx_to_mont)), labels=idx_to_mont)\n",
    "for i in range(len(idx_to_mont)):\n",
    "    for j in range(len(idx_to_mont)):\n",
    "        text = ax.text(j, i, round(test[i, j] * 100) / 100,\n",
    "                       ha=\"center\", va=\"center\", color=\"w\")\n",
    "fig.tight_layout()\n",
    "plt.show()"
   ]
  },
  {
   "cell_type": "code",
   "execution_count": null,
   "metadata": {},
   "outputs": [],
   "source": [
    "fig, ax = plt.subplots(num=1, clear=True, figsize=(10.0, 10.0))\n",
    "\n",
    "im = ax.imshow(mtest)\n",
    "ax.set_xticks(np.arange(len(idx_to_mont)), labels=idx_to_mont)\n",
    "ax.set_yticks(np.arange(len(idx_to_mont)), labels=idx_to_mont)\n",
    "for i in range(len(idx_to_mont)):\n",
    "    for j in range(len(idx_to_mont)):\n",
    "        text = ax.text(j, i, round(mtest[i, j] * 100) / 100,\n",
    "                       ha=\"center\", va=\"center\", color=\"w\")\n",
    "fig.tight_layout()\n",
    "plt.show()"
   ]
  },
  {
   "cell_type": "code",
   "execution_count": null,
   "metadata": {},
   "outputs": [],
   "source": []
  }
 ],
 "metadata": {
  "kernelspec": {
   "display_name": "Python 3 (ipykernel)",
   "language": "python",
   "name": "python3"
  },
  "language_info": {
   "codemirror_mode": {
    "name": "ipython",
    "version": 3
   },
   "file_extension": ".py",
   "mimetype": "text/x-python",
   "name": "python",
   "nbconvert_exporter": "python",
   "pygments_lexer": "ipython3",
   "version": "3.9.12"
  }
 },
 "nbformat": 4,
 "nbformat_minor": 4
}
