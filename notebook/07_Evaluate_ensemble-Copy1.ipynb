{
 "cells": [
  {
   "cell_type": "markdown",
   "id": "d74515d5-5f25-477b-9a97-ed1f9b6d4c51",
   "metadata": {
    "pycharm": {
     "name": "#%% md\n"
    }
   },
   "source": [
    "# Evaluate Ensemble\n",
    "\n",
    "This notebook combines the classification results of some models via logit-ensembling way."
   ]
  },
  {
   "cell_type": "markdown",
   "id": "b8a2666f-6b4b-4748-9dca-2884347a1f0f",
   "metadata": {
    "pycharm": {
     "name": "#%% md\n"
    }
   },
   "source": [
    "-----\n",
    "\n",
    "## Load Packages"
   ]
  },
  {
   "cell_type": "code",
   "execution_count": 1,
   "id": "df587e38-b1a9-42c8-9b50-680200a9bec7",
   "metadata": {
    "pycharm": {
     "name": "#%%\n"
    }
   },
   "outputs": [
    {
     "name": "stdout",
     "output_type": "stream",
     "text": [
      "C:\\Users\\Minjae\\Desktop\\EEG_Project\n"
     ]
    }
   ],
   "source": [
    "# for auto-reloading external modules\n",
    "# see http://stackoverflow.com/questions/1907993/autoreload-of-modules-in-ipython\n",
    "%cd ..\n",
    "%load_ext autoreload\n",
    "%autoreload 2"
   ]
  },
  {
   "cell_type": "code",
   "execution_count": 2,
   "id": "8fb41bf8-1713-4228-b799-0e1c87545a16",
   "metadata": {
    "pycharm": {
     "name": "#%%\n"
    }
   },
   "outputs": [],
   "source": [
    "# Load some packages\n",
    "import os\n",
    "import sys\n",
    "import pickle\n",
    "from copy import deepcopy\n",
    "import hydra\n",
    "from omegaconf import OmegaConf\n",
    "from collections import OrderedDict\n",
    "\n",
    "import numpy as np\n",
    "from sklearn.metrics import classification_report\n",
    "import torch\n",
    "import torch.nn as nn\n",
    "import torch.nn.functional as F\n",
    "import torch.optim as optim\n",
    "import pandas as pd\n",
    "\n",
    "import pprint\n",
    "import wandb\n",
    "import matplotlib\n",
    "import matplotlib.pyplot as plt\n",
    "\n",
    "# custom package\n",
    "from datasets.caueeg_script import build_dataset_for_train\n",
    "import models\n",
    "from train.evaluate import check_accuracy\n",
    "from train.evaluate import check_accuracy_extended\n",
    "from train.evaluate import check_accuracy_extended_debug\n",
    "from train.evaluate import check_accuracy_multicrop\n",
    "from train.evaluate import check_accuracy_multicrop_extended\n",
    "from train.evaluate import calculate_confusion_matrix\n",
    "from train.evaluate import calculate_class_wise_metrics\n",
    "from train.visualize import draw_roc_curve\n",
    "from train.visualize import draw_confusion\n",
    "from train.visualize import draw_class_wise_metrics\n",
    "from train.visualize import draw_error_table\n",
    "from train.visualize import annotate_heatmap"
   ]
  },
  {
   "cell_type": "code",
   "execution_count": 3,
   "id": "d10e3f39-ed55-422c-b47f-376691cbeed6",
   "metadata": {
    "pycharm": {
     "name": "#%%\n"
    }
   },
   "outputs": [
    {
     "name": "stdout",
     "output_type": "stream",
     "text": [
      "PyTorch version: 1.12.1+cu113\n",
      "cuda is available.\n"
     ]
    }
   ],
   "source": [
    "print('PyTorch version:', torch.__version__)\n",
    "device = torch.device('cuda' if torch.cuda.is_available() else 'cpu')\n",
    "\n",
    "if torch.cuda.is_available(): print('cuda is available.')\n",
    "else: print('cuda is unavailable.') "
   ]
  },
  {
   "cell_type": "markdown",
   "id": "d2a62fa4-aa53-49d5-8ab4-2e2aaf7b65d1",
   "metadata": {
    "pycharm": {
     "name": "#%% md\n"
    },
    "tags": []
   },
   "source": [
    "-----\n",
    "\n",
    "## List up the models to check accuracy"
   ]
  },
  {
   "cell_type": "code",
   "execution_count": 4,
   "id": "06d3404e-be31-4a63-ac4b-214868fe0cd4",
   "metadata": {},
   "outputs": [
    {
     "name": "stdout",
     "output_type": "stream",
     "text": [
      "['tp7qn5hd',\n",
      " 'q1hhkmik',\n",
      " '0svudowu',\n",
      " 'ruqd8r7g',\n",
      " 'dn10a6bv',\n",
      " 'atbhqdgg',\n",
      " '4439k9pg',\n",
      " 'nemy8ikm',\n",
      " '1cdws3t5']\n"
     ]
    }
   ],
   "source": [
    "# model_names = [\n",
    "#     'lo88puq7',\n",
    "#     '2s1700lg',\n",
    "#     'v301o425',\n",
    "#     '1sl7ipca',\n",
    "#     'gvqyvmrj',\n",
    "#     'gjkysllw',\n",
    "#     'xci5svkl',\n",
    "#     '1vc80n1f',\n",
    "#     'syrx7bmk',\n",
    "# ]\n",
    "\n",
    "model_names = [\n",
    "    'tp7qn5hd',\n",
    "    'q1hhkmik',\n",
    "    '0svudowu',\n",
    "    'ruqd8r7g',\n",
    "    'dn10a6bv',\n",
    "    'atbhqdgg',\n",
    "    '4439k9pg',\n",
    "    'nemy8ikm',\n",
    "    '1cdws3t5',\n",
    "]\n",
    "\n",
    "model_pool = []\n",
    "\n",
    "for model_name in model_names:\n",
    "    path = os.path.join(r'E:\\CAUEEG\\checkpoint', model_name, 'checkpoint.pt')\n",
    "    try:\n",
    "        ckpt = torch.load(path, map_location=device)\n",
    "        model_pool.append({'name': model_name, 'path': path})\n",
    "    except Exception as e:\n",
    "        print(e)\n",
    "        print(f'- checkpoint cannot be opened: {path}')\n",
    "        \n",
    "pprint.pprint([model_dict['name'] for model_dict in model_pool])"
   ]
  },
  {
   "cell_type": "markdown",
   "id": "5e25ca9a-48ee-4c0d-8e06-616a84e59527",
   "metadata": {},
   "source": [
    "-----\n",
    "\n",
    "## Redraw the metrics"
   ]
  },
  {
   "cell_type": "code",
   "execution_count": 5,
   "id": "0bac2f8b-e14d-4059-abbe-eb989f45fb37",
   "metadata": {},
   "outputs": [],
   "source": [
    "task = 'exp-abnormal'\n",
    "config = ckpt['config']\n",
    "save_fig = True\n",
    "\n",
    "# ensemble_multi_test_confusion = np.array([[5577, 162, 11], [1410, 3028, 687], [97, 1371, 2407]])\n",
    "ensemble_multi_test_confusion = np.array([[3262, 2442], [1072, 10088]])\n",
    "\n",
    "output_path = f\"local/output/imgs/ensemble_test/\"\n",
    "os.makedirs(output_path, exist_ok=True)\n",
    "\n",
    "ensembel_multi_test_class_wise_metrics = calculate_class_wise_metrics(ensemble_multi_test_confusion)     \n",
    "\n",
    "save_path = os.path.join(output_path, f'{task}-ensemble-confusion-tta.pdf') if save_fig else None\n",
    "draw_confusion(ensemble_multi_test_confusion, config['class_label_to_name'], \n",
    "               normalize=True, use_wandb=False, save_path=save_path)\n",
    "\n",
    "save_path = os.path.join(output_path, f'{task}-ensemble-class-wise-tta.pdf') if save_fig else None\n",
    "draw_class_wise_metrics(ensemble_multi_test_confusion, config['class_label_to_name'], \n",
    "                        use_wandb=False, save_path=save_path)"
   ]
  },
  {
   "cell_type": "code",
   "execution_count": null,
   "id": "d7308c6c-729d-4c5f-8ebd-bd9b198e570c",
   "metadata": {},
   "outputs": [],
   "source": []
  }
 ],
 "metadata": {
  "kernelspec": {
   "display_name": "Python 3 (ipykernel)",
   "language": "python",
   "name": "python3"
  },
  "language_info": {
   "codemirror_mode": {
    "name": "ipython",
    "version": 3
   },
   "file_extension": ".py",
   "mimetype": "text/x-python",
   "name": "python",
   "nbconvert_exporter": "python",
   "pygments_lexer": "ipython3",
   "version": "3.9.12"
  }
 },
 "nbformat": 4,
 "nbformat_minor": 5
}
