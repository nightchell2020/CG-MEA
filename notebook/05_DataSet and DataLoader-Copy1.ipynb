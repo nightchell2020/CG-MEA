{
 "cells": [
  {
   "cell_type": "markdown",
   "metadata": {
    "pycharm": {
     "name": "#%% md\n"
    }
   },
   "source": [
    "# Dataset and DataLoader\n",
    "\n",
    "This notebook loads the `CAUEEG` dataset, tests some useful preprocessing, and makes up the PyTorch DataLoader instances for the training."
   ]
  },
  {
   "cell_type": "markdown",
   "metadata": {
    "pycharm": {
     "name": "#%% md\n"
    }
   },
   "source": [
    "-----\n",
    "\n",
    "## Configurations"
   ]
  },
  {
   "cell_type": "code",
   "execution_count": 1,
   "metadata": {
    "pycharm": {
     "name": "#%%\n"
    }
   },
   "outputs": [
    {
     "name": "stdout",
     "output_type": "stream",
     "text": [
      "C:\\Users\\Minjae\\Desktop\\EEG_Project\n"
     ]
    }
   ],
   "source": [
    "# for auto-reloading external modules\n",
    "# see http://stackoverflow.com/questions/1907993/autoreload-of-modules-in-ipython\n",
    "%load_ext autoreload\n",
    "%autoreload 2\n",
    "%cd .."
   ]
  },
  {
   "cell_type": "code",
   "execution_count": 2,
   "metadata": {
    "pycharm": {
     "name": "#%%\n"
    }
   },
   "outputs": [],
   "source": [
    "# Load some packages\n",
    "import os\n",
    "import glob\n",
    "import json\n",
    "import pprint\n",
    "\n",
    "import numpy as np\n",
    "import random\n",
    "import torch\n",
    "import torch.optim as optim\n",
    "from torch.utils.data import DataLoader\n",
    "from torchvision import transforms\n",
    "\n",
    "# custom package\n",
    "from datasets.caueeg_dataset import *\n",
    "from datasets.caueeg_script import *\n",
    "from datasets.pipeline import *"
   ]
  },
  {
   "cell_type": "code",
   "execution_count": 3,
   "metadata": {
    "pycharm": {
     "name": "#%%\n"
    }
   },
   "outputs": [
    {
     "name": "stdout",
     "output_type": "stream",
     "text": [
      "PyTorch version: 1.11.0+cu113\n",
      "cuda is available.\n"
     ]
    }
   ],
   "source": [
    "print('PyTorch version:', torch.__version__)\n",
    "device = torch.device('cuda' if torch.cuda.is_available() else 'cpu')\n",
    "\n",
    "if torch.cuda.is_available(): print('cuda is available.')\n",
    "else: print('cuda is unavailable.')"
   ]
  },
  {
   "cell_type": "code",
   "execution_count": 4,
   "metadata": {
    "pycharm": {
     "name": "#%%\n"
    }
   },
   "outputs": [],
   "source": [
    "# Data file path\n",
    "data_path = r'local/dataset/02_Curated_Data_220419/'"
   ]
  },
  {
   "cell_type": "code",
   "execution_count": 5,
   "metadata": {},
   "outputs": [
    {
     "name": "stdout",
     "output_type": "stream",
     "text": [
      "{\n",
      "\tdataset_name:\n",
      "\t\tCAUEEG dataset\n",
      "\n",
      "\tsignal_header:\n",
      "\t\tFp1-AVG\n",
      "\t\tF3-AVG\n",
      "\t\tC3-AVG\n",
      "\t\t.\n",
      "\t\t.\n",
      "\t\t.\n",
      "\t\tPhotic\n",
      "\n",
      "\tdata:\n",
      "\t\t{'serial': '00001', 'age': 78, 'symptom': ['mci', 'mci_amnestic', 'mci_amnestic_rf']}\n",
      "\t\t{'serial': '00002', 'age': 56, 'symptom': ['normal', 'smi']}\n",
      "\t\t{'serial': '00003', 'age': 93, 'symptom': ['mci', 'mci_vascular']}\n",
      "\t\t.\n",
      "\t\t.\n",
      "\t\t.\n",
      "\t\t{'serial': '01388', 'age': 73, 'symptom': ['mci', 'mci_amnestic', 'mci_amnestic_ef']}\n",
      "\n",
      "}\n",
      "{\n",
      "\ttask_name:\n",
      "\t\tCAUEEG-Abnormal benchmark\n",
      "\n",
      "\ttask_description:\n",
      "\t\tClassification of [Normal] and [Abnormal] symptoms\n",
      "\n",
      "\tclass_label_to_name:\n",
      "\t\t['Normal', 'Abnormal']\n",
      "\n",
      "\tclass_name_to_label:\n",
      "\t\t{'Normal': 0, 'Abnormal': 1}\n",
      "\n",
      "\ttrain_split:\n",
      "\t\t{'serial': '01258', 'age': 77, 'symptom': ['dementia', 'vd', 'sivd'], 'class_name': 'Abnormal', 'class_label': 1}\n",
      "\t\t{'serial': '00836', 'age': 80, 'symptom': ['normal', 'smi'], 'class_name': 'Normal', 'class_label': 0}\n",
      "\t\t{'serial': '00761', 'age': 75, 'symptom': ['dementia', 'ad', 'load'], 'class_name': 'Abnormal', 'class_label': 1}\n",
      "\t\t.\n",
      "\t\t.\n",
      "\t\t.\n",
      "\t\t{'serial': '00105', 'age': 71, 'symptom': ['normal', 'smi'], 'class_name': 'Normal', 'class_label': 0}\n",
      "\n",
      "\tvalidation_split:\n",
      "\t\t{'serial': '00152', 'age': 81, 'symptom': ['dementia', 'ad', 'load'], 'class_name': 'Abnormal', 'class_label': 1}\n",
      "\t\t{'serial': '01034', 'age': 81, 'symptom': ['mci', 'mci_amnestic', 'mci_amnestic_ef'], 'class_name': 'Abnormal', 'class_label': 1}\n",
      "\t\t{'serial': '00296', 'age': 71, 'symptom': ['tga'], 'class_name': 'Abnormal', 'class_label': 1}\n",
      "\t\t.\n",
      "\t\t.\n",
      "\t\t.\n",
      "\t\t{'serial': '00684', 'age': 65, 'symptom': ['normal', 'cb_normal'], 'class_name': 'Normal', 'class_label': 0}\n",
      "\n",
      "\ttest_split:\n",
      "\t\t{'serial': '00560', 'age': 57, 'symptom': ['normal', 'cb_normal'], 'class_name': 'Normal', 'class_label': 0}\n",
      "\t\t{'serial': '01156', 'age': 62, 'symptom': ['mci', 'mci_amnestic', 'mci_amnestic_rf'], 'class_name': 'Abnormal', 'class_label': 1}\n",
      "\t\t{'serial': '00098', 'age': 62, 'symptom': ['normal', 'smi'], 'class_name': 'Normal', 'class_label': 0}\n",
      "\t\t.\n",
      "\t\t.\n",
      "\t\t.\n",
      "\t\t{'serial': '00888', 'age': 52, 'symptom': ['normal', 'cb_normal'], 'class_name': 'Normal', 'class_label': 0}\n",
      "\n",
      "}\n",
      "{\n",
      "\ttask_name:\n",
      "\t\tCAUEEG-Dementia benchmark\n",
      "\n",
      "\ttask_description:\n",
      "\t\tClassification of [Normal], [MCI], and [Dementia] symptoms.\n",
      "\n",
      "\tclass_label_to_name:\n",
      "\t\t['Normal', 'MCI', 'Dementia']\n",
      "\n",
      "\tclass_name_to_label:\n",
      "\t\t{'Normal': 0, 'MCI': 1, 'Dementia': 2}\n",
      "\n",
      "\ttrain_split:\n",
      "\t\t{'serial': '00587', 'age': 53, 'symptom': ['normal', 'cb_normal'], 'class_name': 'Normal', 'class_label': 0}\n",
      "\t\t{'serial': '01301', 'age': 88, 'symptom': ['dementia', 'ad', 'load'], 'class_name': 'Dementia', 'class_label': 2}\n",
      "\t\t{'serial': '00781', 'age': 68, 'symptom': ['mci', 'mci_amnestic', 'mci_amnestic_rf'], 'class_name': 'MCI', 'class_label': 1}\n",
      "\t\t.\n",
      "\t\t.\n",
      "\t\t.\n",
      "\t\t{'serial': '00153', 'age': 64, 'symptom': ['mci', 'mci_non_amnestic'], 'class_name': 'MCI', 'class_label': 1}\n",
      "\n",
      "\tvalidation_split:\n",
      "\t\t{'serial': '00341', 'age': 80, 'symptom': ['dementia', 'ad', 'load'], 'class_name': 'Dementia', 'class_label': 2}\n",
      "\t\t{'serial': '00510', 'age': 82, 'symptom': ['dementia', 'vd', 'sivd'], 'class_name': 'Dementia', 'class_label': 2}\n",
      "\t\t{'serial': '00172', 'age': 86, 'symptom': ['mci', 'mci_amnestic'], 'class_name': 'MCI', 'class_label': 1}\n",
      "\t\t.\n",
      "\t\t.\n",
      "\t\t.\n",
      "\t\t{'serial': '01303', 'age': 52, 'symptom': ['normal', 'smi'], 'class_name': 'Normal', 'class_label': 0}\n",
      "\n",
      "\ttest_split:\n",
      "\t\t{'serial': '00789', 'age': 62, 'symptom': ['normal', 'cb_normal'], 'class_name': 'Normal', 'class_label': 0}\n",
      "\t\t{'serial': '00934', 'age': 61, 'symptom': ['normal', 'cb_normal'], 'class_name': 'Normal', 'class_label': 0}\n",
      "\t\t{'serial': '00142', 'age': 70, 'symptom': ['normal', 'cb_normal'], 'class_name': 'Normal', 'class_label': 0}\n",
      "\t\t.\n",
      "\t\t.\n",
      "\t\t.\n",
      "\t\t{'serial': '00520', 'age': 55, 'symptom': ['normal', 'smi'], 'class_name': 'Normal', 'class_label': 0}\n",
      "\n",
      "}\n"
     ]
    }
   ],
   "source": [
    "for task in ['annotation.json', 'abnormal.json', 'dementia.json']:\n",
    "    task_path = os.path.join(data_path, task)\n",
    "    with open(task_path, 'r') as json_file:\n",
    "        task_dict = json.load(json_file)\n",
    "        \n",
    "    print('{')\n",
    "    for k, v in task_dict.items():\n",
    "        print(f'\\t{k}:')\n",
    "        if isinstance(v, list) and len(v) > 3:\n",
    "            print(f'\\t\\t{v[0]}')\n",
    "            print(f'\\t\\t{v[1]}')\n",
    "            print(f'\\t\\t{v[2]}')\n",
    "            print(f'\\t\\t.')\n",
    "            print(f'\\t\\t.')\n",
    "            print(f'\\t\\t.')\n",
    "            print(f'\\t\\t{v[-1]}')\n",
    "        else:\n",
    "            print(f'\\t\\t{v}')\n",
    "        print()\n",
    "    print('}')"
   ]
  },
  {
   "cell_type": "code",
   "execution_count": 13,
   "metadata": {},
   "outputs": [],
   "source": [
    "import shutil\n",
    "\n",
    "output_path = r'c:\\Users/Minjae/Desktop/caueeg-dataset-test'\n",
    "\n",
    "for task in ['abnormal.json', 'dementia.json']:\n",
    "    task_path = os.path.join(data_path, task)\n",
    "    with open(task_path, 'r') as json_file:\n",
    "        task_dict = json.load(json_file)\n",
    "    \n",
    "    for data in task_dict['test_split']:\n",
    "        for ext in [('edf', 'edf'), ('feather', 'feather'), ('memmap', 'dat')]:\n",
    "            shutil.copyfile(os.path.join(data_path, f\"signal/{ext[0]}/{data['serial']}.{ext[1]}\"), \n",
    "                            os.path.join(output_path, f\"signal/{ext[0]}/{data['serial']}.{ext[1]}\")) \n",
    "\n",
    "    for data in task_dict['test_split']:\n",
    "        shutil.copyfile(os.path.join(data_path, f\"event/{data['serial']}.json\"), \n",
    "                        os.path.join(output_path, f\"event/{data['serial']}.json\"))"
   ]
  },
  {
   "cell_type": "code",
   "execution_count": 14,
   "metadata": {},
   "outputs": [
    {
     "name": "stdout",
     "output_type": "stream",
     "text": [
      "136\n",
      "118\n"
     ]
    }
   ],
   "source": [
    "for task in ['abnormal.json', 'dementia.json']:\n",
    "    task_path = os.path.join(data_path, task)\n",
    "    with open(task_path, 'r') as json_file:\n",
    "        task_dict = json.load(json_file)\n",
    "    \n",
    "    print(len(task_dict['test_split']))"
   ]
  },
  {
   "cell_type": "code",
   "execution_count": null,
   "metadata": {},
   "outputs": [],
   "source": []
  },
  {
   "cell_type": "code",
   "execution_count": null,
   "metadata": {},
   "outputs": [],
   "source": []
  },
  {
   "cell_type": "code",
   "execution_count": null,
   "metadata": {},
   "outputs": [],
   "source": []
  },
  {
   "cell_type": "code",
   "execution_count": null,
   "metadata": {},
   "outputs": [],
   "source": []
  },
  {
   "cell_type": "code",
   "execution_count": null,
   "metadata": {},
   "outputs": [],
   "source": []
  },
  {
   "cell_type": "markdown",
   "metadata": {
    "pycharm": {
     "name": "#%% md\n"
    }
   },
   "source": [
    "-----\n",
    "\n",
    "## Load the CAUEEG dataset"
   ]
  },
  {
   "cell_type": "markdown",
   "metadata": {
    "pycharm": {
     "name": "#%% md\n"
    }
   },
   "source": [
    "### Load the whole CAUEEG data as a PyTorch dataset instance without considering the target task (no train/val/test sets and no class label)."
   ]
  },
  {
   "cell_type": "code",
   "execution_count": 6,
   "metadata": {
    "pycharm": {
     "name": "#%%\n"
    }
   },
   "outputs": [
    {
     "name": "stdout",
     "output_type": "stream",
     "text": [
      "{'dataset_name': 'CAUEEG dataset',\n",
      " 'signal_header': ['Fp1-AVG', 'F3-AVG', 'C3-AVG', 'P3-AVG', 'O1-AVG', 'Fp2-AVG', 'F4-AVG', 'C4-AVG', 'P4-AVG', 'O2-AVG', 'F7-AVG', 'T3-AVG', 'T5-AVG', 'F8-AVG', 'T4-AVG', 'T6-AVG', 'FZ-AVG', 'CZ-AVG', 'PZ-AVG', 'EKG', 'Photic']}\n",
      "\n",
      " ---------------------------------------------------------------------------------------------------- \n",
      "\n",
      "{'age': 78,\n",
      " 'serial': '00001',\n",
      " 'signal': array([[  0., -11., -13., ...,   0.,   0.,   0.],\n",
      "       [ 29.,  33.,  34., ...,   0.,   0.,   0.],\n",
      "       [ -3.,  -6.,  -3., ...,   0.,   0.,   0.],\n",
      "       ...,\n",
      "       [ -4.,  -2.,   1., ...,   0.,   0.,   0.],\n",
      "       [112.,  67.,  76., ...,   0.,   0.,   0.],\n",
      "       [ -1.,  -1.,  -1., ...,   0.,   0.,   0.]]),\n",
      " 'symptom': ['mci', 'mci_amnestic', 'mci_amnestic_rf']}\n",
      "\n",
      " ---------------------------------------------------------------------------------------------------- \n",
      "\n",
      "{'age': 56,\n",
      " 'serial': '00002',\n",
      " 'signal': array([[  39.,   58.,   72., ...,    0.,    0.,    0.],\n",
      "       [   4.,   12.,   13., ...,    0.,    0.,    0.],\n",
      "       [   1.,   -2.,   -3., ...,    0.,    0.,    0.],\n",
      "       ...,\n",
      "       [   2.,    1.,    1., ...,    0.,    0.,    0.],\n",
      "       [ -22., -173., -175., ...,    0.,    0.,    0.],\n",
      "       [   2.,    0.,    0., ...,    0.,    0.,    0.]]),\n",
      " 'symptom': ['normal', 'smi']}\n",
      "\n",
      " ---------------------------------------------------------------------------------------------------- \n",
      "\n"
     ]
    }
   ],
   "source": [
    "config_data, full_eeg_dataset = load_caueeg_full_dataset(dataset_path=data_path, \n",
    "                                                         load_event=False, \n",
    "                                                         file_format='edf',\n",
    "                                                         transform=None)\n",
    "\n",
    "pprint.pprint(config_data, width=250)\n",
    "print('\\n', '-' * 100, '\\n')\n",
    "\n",
    "pprint.pprint(full_eeg_dataset[0])\n",
    "print('\\n', '-' * 100, '\\n')\n",
    "\n",
    "pprint.pprint(full_eeg_dataset[1])\n",
    "print('\\n', '-' * 100, '\\n')"
   ]
  },
  {
   "cell_type": "markdown",
   "metadata": {
    "pycharm": {
     "name": "#%% md\n"
    }
   },
   "source": [
    "### Load the CAUEEG task1 datasets as the PyTorch dataset instances."
   ]
  },
  {
   "cell_type": "code",
   "execution_count": 7,
   "metadata": {
    "pycharm": {
     "name": "#%%\n"
    }
   },
   "outputs": [
    {
     "name": "stdout",
     "output_type": "stream",
     "text": [
      "{'class_label_to_name': ['Normal', 'Abnormal'],\n",
      " 'class_name_to_label': {'Abnormal': 1, 'Normal': 0},\n",
      " 'task_description': 'Classification of [Normal] and [Abnormal] symptoms',\n",
      " 'task_name': 'CAUEEG-Abnormal benchmark'}\n",
      "\n",
      " ---------------------------------------------------------------------------------------------------- \n",
      "\n",
      "{'age': 77,\n",
      " 'class_label': 1,\n",
      " 'class_name': 'Abnormal',\n",
      " 'serial': '01258',\n",
      " 'signal': array([[ 3., -1., -5., ...,  0.,  0.,  0.],\n",
      "       [ 7., 15.,  9., ...,  0.,  0.,  0.],\n",
      "       [-6., -5., -3., ...,  0.,  0.,  0.],\n",
      "       ...,\n",
      "       [ 4.,  6.,  5., ...,  0.,  0.,  0.],\n",
      "       [62., 54., 53., ...,  0.,  0.,  0.],\n",
      "       [ 0.,  0.,  1., ...,  0.,  0.,  0.]]),\n",
      " 'symptom': ['dementia', 'vd', 'sivd']}\n",
      "\n",
      " ---------------------------------------------------------------------------------------------------- \n",
      "\n",
      "{'age': 81,\n",
      " 'class_label': 1,\n",
      " 'class_name': 'Abnormal',\n",
      " 'serial': '00152',\n",
      " 'signal': array([[ 14.,  10.,   2., ...,   0.,   0.,   0.],\n",
      "       [  8.,   6.,   0., ...,   0.,   0.,   0.],\n",
      "       [  9.,  10.,   2., ...,   0.,   0.,   0.],\n",
      "       ...,\n",
      "       [  8.,  10.,   1., ...,   0.,   0.,   0.],\n",
      "       [166., 505., 512., ...,   0.,   0.,   0.],\n",
      "       [ -1.,   0.,   0., ...,   0.,   0.,   0.]]),\n",
      " 'symptom': ['dementia', 'ad', 'load']}\n",
      "\n",
      " ---------------------------------------------------------------------------------------------------- \n",
      "\n",
      "{'age': 57,\n",
      " 'class_label': 0,\n",
      " 'class_name': 'Normal',\n",
      " 'serial': '00560',\n",
      " 'signal': array([[  7.,  41.,  49., ...,   0.,   0.,   0.],\n",
      "       [ 23.,  26.,  27., ...,   0.,   0.,   0.],\n",
      "       [-16., -20., -18., ...,   0.,   0.,   0.],\n",
      "       ...,\n",
      "       [ 32.,  31.,  31., ...,   0.,   0.,   0.],\n",
      "       [177., 228., 142., ...,   0.,   0.,   0.],\n",
      "       [  0.,  -1.,   0., ...,   0.,   0.,   0.]]),\n",
      " 'symptom': ['normal', 'cb_normal']}\n"
     ]
    }
   ],
   "source": [
    "config_data, train_dataset, val_dataset, test_dataset = load_caueeg_task_datasets(dataset_path=data_path, \n",
    "                                                                                  task='abnormal',\n",
    "                                                                                  load_event=False, \n",
    "                                                                                  file_format='edf', \n",
    "                                                                                  transform=None)\n",
    "pprint.pprint(config_data)\n",
    "print('\\n', '-' * 100, '\\n')\n",
    "\n",
    "pprint.pprint(train_dataset[0])\n",
    "print('\\n', '-' * 100, '\\n')\n",
    "\n",
    "pprint.pprint(val_dataset[0])\n",
    "print('\\n', '-' * 100, '\\n')\n",
    "\n",
    "pprint.pprint(test_dataset[0])"
   ]
  },
  {
   "cell_type": "markdown",
   "metadata": {
    "pycharm": {
     "name": "#%% md\n"
    }
   },
   "source": [
    "### Load the CAUEEG task2 datasets as the PyTorch dataset instances."
   ]
  },
  {
   "cell_type": "code",
   "execution_count": 8,
   "metadata": {
    "pycharm": {
     "name": "#%%\n"
    }
   },
   "outputs": [
    {
     "name": "stdout",
     "output_type": "stream",
     "text": [
      "{'class_label_to_name': ['Normal', 'MCI', 'Dementia'],\n",
      " 'class_name_to_label': {'Dementia': 2, 'MCI': 1, 'Normal': 0},\n",
      " 'task_description': 'Classification of [Normal], [MCI], and [Dementia] '\n",
      "                     'symptoms.',\n",
      " 'task_name': 'CAUEEG-Dementia benchmark'}\n",
      "\n",
      " ---------------------------------------------------------------------------------------------------- \n",
      "\n",
      "{'age': 53,\n",
      " 'class_label': 0,\n",
      " 'class_name': 'Normal',\n",
      " 'serial': '00587',\n",
      " 'signal': array([[30., 15., 18., ...,  0.,  0.,  0.],\n",
      "       [-3.,  4.,  5., ...,  0.,  0.,  0.],\n",
      "       [-2.,  7.,  8., ...,  0.,  0.,  0.],\n",
      "       ...,\n",
      "       [ 0.,  5.,  7., ...,  0.,  0.,  0.],\n",
      "       [27., 27., 34., ...,  0.,  0.,  0.],\n",
      "       [ 0.,  0., -1., ...,  0.,  0.,  0.]]),\n",
      " 'symptom': ['normal', 'cb_normal']}\n",
      "\n",
      " ---------------------------------------------------------------------------------------------------- \n",
      "\n",
      "{'age': 80,\n",
      " 'class_label': 2,\n",
      " 'class_name': 'Dementia',\n",
      " 'serial': '00341',\n",
      " 'signal': array([[ -9.,  -2.,  -3., ...,   0.,   0.,   0.],\n",
      "       [ -4.,  -7.,  -6., ...,   0.,   0.,   0.],\n",
      "       [ -2., -10., -11., ...,   0.,   0.,   0.],\n",
      "       ...,\n",
      "       [-27., -30., -30., ...,   0.,   0.,   0.],\n",
      "       [-14.,   3., -14., ...,   0.,   0.,   0.],\n",
      "       [  0.,  -2.,  -3., ...,   0.,   0.,   0.]]),\n",
      " 'symptom': ['dementia', 'ad', 'load']}\n",
      "\n",
      " ---------------------------------------------------------------------------------------------------- \n",
      "\n",
      "{'age': 62,\n",
      " 'class_label': 0,\n",
      " 'class_name': 'Normal',\n",
      " 'serial': '00789',\n",
      " 'signal': array([[-87., -69., -70., ...,   0.,   0.,   0.],\n",
      "       [-25., -18., -19., ...,   0.,   0.,   0.],\n",
      "       [ -6.,   1.,   0., ...,   0.,   0.,   0.],\n",
      "       ...,\n",
      "       [  0.,  -5.,  -4., ...,   0.,   0.,   0.],\n",
      "       [-31.,  -8.,  -7., ...,   0.,   0.,   0.],\n",
      "       [  0.,   1.,  -1., ...,   0.,   0.,   0.]]),\n",
      " 'symptom': ['normal', 'cb_normal']}\n"
     ]
    }
   ],
   "source": [
    "config_data, train_dataset, val_dataset, test_dataset = load_caueeg_task_datasets(dataset_path=data_path, \n",
    "                                                                                  task='dementia',\n",
    "                                                                                  load_event=False, \n",
    "                                                                                  file_format='edf', \n",
    "                                                                                  transform=None)\n",
    "pprint.pprint(config_data)\n",
    "print('\\n', '-' * 100, '\\n')\n",
    "\n",
    "pprint.pprint(train_dataset[0])\n",
    "print('\\n', '-' * 100, '\\n')\n",
    "\n",
    "pprint.pprint(val_dataset[0])\n",
    "print('\\n', '-' * 100, '\\n')\n",
    "\n",
    "pprint.pprint(test_dataset[0])"
   ]
  },
  {
   "cell_type": "code",
   "execution_count": 9,
   "metadata": {},
   "outputs": [
    {
     "name": "stdout",
     "output_type": "stream",
     "text": [
      "train [367, 740] 1107\n",
      "val [46, 90] 136\n",
      "test [46, 90] 136\n",
      "\n",
      "total [459, 920] 1379\n"
     ]
    }
   ],
   "source": [
    "config_data, train_dataset, val_dataset, test_dataset = load_caueeg_task_datasets(dataset_path=data_path, \n",
    "                                                                                  task='abnormal',\n",
    "                                                                                  load_event=False, \n",
    "                                                                                  file_format='memmap', \n",
    "                                                                                  transform=None)\n",
    "\n",
    "num_train = [0, 0]\n",
    "for d in train_dataset:\n",
    "    num_train[d['class_label']] += 1\n",
    "print('train', num_train, sum(num_train))\n",
    "\n",
    "num_val = [0, 0]\n",
    "for d in val_dataset:\n",
    "    num_val[d['class_label']] += 1\n",
    "print('val', num_val, sum(num_val))\n",
    "        \n",
    "num_test = [0, 0]\n",
    "for d in test_dataset:\n",
    "    num_test[d['class_label']] += 1\n",
    "print('test', num_test, sum(num_test))\n",
    "           \n",
    "print()\n",
    "print('total', [num1 + num2 + num3 for num1, num2, num3 in zip(num_train, num_val, num_test)], sum(num_train + num_val + num_test))"
   ]
  },
  {
   "cell_type": "code",
   "execution_count": 10,
   "metadata": {
    "tags": []
   },
   "outputs": [
    {
     "name": "stdout",
     "output_type": "stream",
     "text": [
      "train [367, 334, 249] 950\n",
      "val [46, 42, 31] 119\n",
      "test [46, 41, 31] 118\n",
      "\n",
      "total [459, 417, 311] 1187\n"
     ]
    }
   ],
   "source": [
    "config_data, train_dataset, val_dataset, test_dataset = load_caueeg_task_datasets(dataset_path=data_path, \n",
    "                                                                                  task='dementia',\n",
    "                                                                                  load_event=False, \n",
    "                                                                                  file_format='memmap', \n",
    "                                                                                  transform=None)\n",
    "\n",
    "num_train = [0, 0, 0]\n",
    "for d in train_dataset:\n",
    "    num_train[d['class_label']] += 1\n",
    "print('train', num_train, sum(num_train))\n",
    "\n",
    "num_val = [0, 0, 0]\n",
    "for d in val_dataset:\n",
    "    num_val[d['class_label']] += 1\n",
    "print('val', num_val, sum(num_val))\n",
    "        \n",
    "num_test = [0, 0, 0]\n",
    "for d in test_dataset:\n",
    "    num_test[d['class_label']] += 1\n",
    "print('test', num_test, sum(num_test))\n",
    "           \n",
    "print()\n",
    "print('total', [num1 + num2 + num3 for num1, num2, num3 in zip(num_train, num_val, num_test)], sum(num_train + num_val + num_test))"
   ]
  },
  {
   "cell_type": "markdown",
   "metadata": {
    "pycharm": {
     "name": "#%% md\n"
    }
   },
   "source": [
    "### Event information"
   ]
  },
  {
   "cell_type": "code",
   "execution_count": 11,
   "metadata": {
    "pycharm": {
     "name": "#%%\n"
    }
   },
   "outputs": [
    {
     "name": "stdout",
     "output_type": "stream",
     "text": [
      "{'age': 77,\n",
      " 'class_label': 1,\n",
      " 'class_name': 'Abnormal',\n",
      " 'event': [[0, 'Start Recording'],\n",
      "           [0, 'New Montage - Montage 002'],\n",
      "           [1358, 'Eyes Open'],\n",
      "           [6146, 'Eyes Closed'],\n",
      "           [11984, 'Eyes Open'],\n",
      "           [22232, 'Eyes Closed'],\n",
      "           [27650, 'Eyes Open'],\n",
      "           [30170, 'Eyes Closed'],\n",
      "           [36218, 'Eyes Open'],\n",
      "           [42098, 'Eyes Closed'],\n",
      "           [48692, 'Eyes Open'],\n",
      "           [54236, 'Eyes Closed'],\n",
      "           [65324, 'Eyes Open'],\n",
      "           [66668, 'Eyes Closed'],\n",
      "           [72548, 'Eyes Open'],\n",
      "           [77408, 'Move'],\n",
      "           [78848, 'Eyes Closed'],\n",
      "           [84056, 'Eyes Open'],\n",
      "           [90272, 'Eyes Closed'],\n",
      "           [96782, 'Eyes Open'],\n",
      "           [102326, 'Eyes Closed'],\n",
      "           [108583, 'Eyes Open'],\n",
      "           [114170, 'Eyes Closed'],\n",
      "           [121438, 'Photic On - 3.0 Hz'],\n",
      "           [123454, 'Photic Off'],\n",
      "           [125511, 'Photic On - 6.0 Hz'],\n",
      "           [127528, 'Photic Off'],\n",
      "           [127820, 'Eyes Open'],\n",
      "           [129122, 'Eyes Closed'],\n",
      "           [129585, 'Photic On - 9.0 Hz'],\n",
      "           [131602, 'Photic Off'],\n",
      "           [131936, 'Eyes Open'],\n",
      "           [133154, 'Eyes Closed'],\n",
      "           [133618, 'Photic On - 12.0 Hz'],\n",
      "           [135636, 'Photic Off'],\n",
      "           [137694, 'Photic On - 15.0 Hz'],\n",
      "           [139710, 'Photic Off'],\n",
      "           [141768, 'Photic On - 18.0 Hz'],\n",
      "           [143784, 'Photic Off'],\n",
      "           [144288, 'Eyes Open'],\n",
      "           [145380, 'Eyes Closed'],\n",
      "           [145800, 'Photic On - 21.0 Hz'],\n",
      "           [147858, 'Photic Off'],\n",
      "           [149874, 'Photic On - 24.0 Hz'],\n",
      "           [151890, 'Photic Off'],\n",
      "           [153948, 'Photic On - 27.0 Hz'],\n",
      "           [155964, 'Photic Off'],\n",
      "           [158022, 'Photic On - 30.0 Hz'],\n",
      "           [160038, 'Photic Off'],\n",
      "           [163314, 'Eyes Open'],\n",
      "           [164448, 'Eyes Closed'],\n",
      "           [183200, 'Paused']],\n",
      " 'serial': '01258',\n",
      " 'signal': array([[ 3., -1., -5., ...,  0.,  0.,  0.],\n",
      "       [ 7., 15.,  9., ...,  0.,  0.,  0.],\n",
      "       [-6., -5., -3., ...,  0.,  0.,  0.],\n",
      "       ...,\n",
      "       [ 4.,  6.,  5., ...,  0.,  0.,  0.],\n",
      "       [62., 54., 53., ...,  0.,  0.,  0.],\n",
      "       [ 0.,  0.,  1., ...,  0.,  0.,  0.]]),\n",
      " 'symptom': ['dementia', 'vd', 'sivd']}\n"
     ]
    }
   ],
   "source": [
    "config_data, train_dataset, val_dataset, test_dataset = load_caueeg_task_datasets(dataset_path=data_path, \n",
    "                                                                                  task='abnormal',\n",
    "                                                                                  load_event=True, \n",
    "                                                                                  file_format='edf', \n",
    "                                                                                  transform=None)\n",
    "pprint.pprint(train_dataset[0])"
   ]
  },
  {
   "cell_type": "markdown",
   "metadata": {
    "pycharm": {
     "name": "#%% md\n"
    }
   },
   "source": [
    "### Data Format: `EDF`"
   ]
  },
  {
   "cell_type": "code",
   "execution_count": 12,
   "metadata": {
    "pycharm": {
     "name": "#%%\n"
    }
   },
   "outputs": [
    {
     "name": "stdout",
     "output_type": "stream",
     "text": [
      "{'serial': '00587', 'age': 53, 'symptom': ['normal', 'cb_normal'], 'class_name': 'Normal', 'class_label': 0, 'signal': array([[30., 15., 18., ...,  0.,  0.,  0.],\n",
      "       [-3.,  4.,  5., ...,  0.,  0.,  0.],\n",
      "       [-2.,  7.,  8., ...,  0.,  0.,  0.],\n",
      "       ...,\n",
      "       [ 0.,  5.,  7., ...,  0.,  0.,  0.],\n",
      "       [27., 27., 34., ...,  0.,  0.,  0.],\n",
      "       [ 0.,  0., -1., ...,  0.,  0.,  0.]])}\n",
      "{'serial': '01301', 'age': 88, 'symptom': ['dementia', 'ad', 'load'], 'class_name': 'Dementia', 'class_label': 2, 'signal': array([[ 18.,  15.,  13., ...,   0.,   0.,   0.],\n",
      "       [ -2.,   1.,   1., ...,   0.,   0.,   0.],\n",
      "       [  5.,   0.,  -1., ...,   0.,   0.,   0.],\n",
      "       ...,\n",
      "       [  2.,  -3.,  -3., ...,   0.,   0.,   0.],\n",
      "       [ 51., 115., 103., ...,   0.,   0.,   0.],\n",
      "       [  0.,  -1.,  -1., ...,   0.,   0.,   0.]])}\n",
      "CPU times: total: 156 ms\n",
      "Wall time: 145 ms\n"
     ]
    }
   ],
   "source": [
    "%%time\n",
    "config_data, train_dataset, val_dataset, test_dataset = load_caueeg_task_datasets(dataset_path=data_path, \n",
    "                                                                                  task='dementia',\n",
    "                                                                                  load_event=False, \n",
    "                                                                                  file_format='edf', \n",
    "                                                                                  transform=None)\n",
    "\n",
    "print(train_dataset[0])\n",
    "print(train_dataset[1])"
   ]
  },
  {
   "cell_type": "markdown",
   "metadata": {
    "pycharm": {
     "name": "#%% md\n"
    }
   },
   "source": [
    "### Data Format: `NumPy Memmap`"
   ]
  },
  {
   "cell_type": "code",
   "execution_count": 13,
   "metadata": {
    "pycharm": {
     "name": "#%%\n"
    }
   },
   "outputs": [
    {
     "name": "stdout",
     "output_type": "stream",
     "text": [
      "{'serial': '00587', 'age': 53, 'symptom': ['normal', 'cb_normal'], 'class_name': 'Normal', 'class_label': 0, 'signal': memmap([[ 30,  15,  18, ..., -42, -40, -38],\n",
      "        [ -3,   4,   5, ..., -16, -14, -13],\n",
      "        [ -2,   7,   8, ...,  -3,  -7,  -9],\n",
      "        ...,\n",
      "        [  0,   5,   7, ..., -10, -12, -12],\n",
      "        [ 27,  27,  34, ..., -25, -27, -27],\n",
      "        [  0,   0,  -1, ...,   1,   1,  -1]])}\n",
      "{'serial': '01301', 'age': 88, 'symptom': ['dementia', 'ad', 'load'], 'class_name': 'Dementia', 'class_label': 2, 'signal': memmap([[ 18,  15,  13, ...,  36,  37,  39],\n",
      "        [ -2,   1,   1, ...,  20,  19,  13],\n",
      "        [  5,   0,  -1, ...,  -5,  -3,   1],\n",
      "        ...,\n",
      "        [  2,  -3,  -3, ...,   9,   9,  11],\n",
      "        [ 51, 115, 103, ...,  -6, -14,  -8],\n",
      "        [  0,  -1,  -1, ...,  -1,   0,  -1]])}\n",
      "CPU times: total: 0 ns\n",
      "Wall time: 4 ms\n"
     ]
    }
   ],
   "source": [
    "%%time\n",
    "config_data, train_dataset, val_dataset, test_dataset = load_caueeg_task_datasets(dataset_path=data_path, \n",
    "                                                                                  task='dementia',\n",
    "                                                                                  load_event=False, \n",
    "                                                                                  file_format='memmap', \n",
    "                                                                                  transform=None)\n",
    "\n",
    "print(train_dataset[0])\n",
    "print(train_dataset[1])"
   ]
  },
  {
   "cell_type": "markdown",
   "metadata": {
    "pycharm": {
     "name": "#%% md\n"
    }
   },
   "source": [
    "---\n",
    "\n",
    "## PyTorch Transforms"
   ]
  },
  {
   "cell_type": "markdown",
   "metadata": {
    "pycharm": {
     "name": "#%% md\n"
    }
   },
   "source": [
    "### Random crop"
   ]
  },
  {
   "cell_type": "code",
   "execution_count": 14,
   "metadata": {
    "pycharm": {
     "name": "#%%\n"
    }
   },
   "outputs": [
    {
     "name": "stdout",
     "output_type": "stream",
     "text": [
      "{'age': 53,\n",
      " 'class_label': 0,\n",
      " 'class_name': 'Normal',\n",
      " 'serial': '00587',\n",
      " 'signal': memmap([[-111, -111, -112, ...,  -80,  -83,  -90],\n",
      "        [   1,   -2,   -5, ...,    1,   -2,   -5],\n",
      "        [   4,    4,    4, ...,    5,    5,    5],\n",
      "        ...,\n",
      "        [   0,    1,    5, ...,    3,    5,    7],\n",
      "        [ -28,  -28,  -28, ...,   95,   97,   89],\n",
      "        [   0,    0,    1, ...,   -1,    0,    0]]),\n",
      " 'symptom': ['normal', 'cb_normal']}\n",
      "\n",
      ">>> signal shape: (21, 100)\n",
      "\n",
      " ---------------------------------------------------------------------------------------------------- \n",
      "\n",
      "{'age': 53,\n",
      " 'class_label': 0,\n",
      " 'class_name': 'Normal',\n",
      " 'serial': '00587',\n",
      " 'signal': memmap([[ 40,  46,  51, ...,  17,  18,  22],\n",
      "        [  3,  10,  14, ..., -11, -10,  -9],\n",
      "        [  2,   4,   8, ...,  -4,  -3,  -2],\n",
      "        ...,\n",
      "        [  1,  -2,  -1, ...,   8,   5,   4],\n",
      "        [ 72,  66,  62, ...,  -6,  -7, -10],\n",
      "        [ -1,  -1,  -1, ...,   0,   0,   0]]),\n",
      " 'symptom': ['normal', 'cb_normal']}\n",
      "\n",
      ">>> signal shape: (21, 100)\n",
      "\n",
      " ---------------------------------------------------------------------------------------------------- \n",
      "\n"
     ]
    }
   ],
   "source": [
    "transform = EegRandomCrop(crop_length=100)\n",
    "\n",
    "config_data, train_dataset, val_dataset, test_dataset = load_caueeg_task_datasets(dataset_path=data_path,\n",
    "                                                                                  task='dementia',\n",
    "                                                                                  load_event=False, \n",
    "                                                                                  file_format='memmap',\n",
    "                                                                                  transform=transform)\n",
    "for i in range(2):\n",
    "    d = train_dataset[0]\n",
    "    pprint.pprint(d)\n",
    "    print()\n",
    "    print('>>> signal shape:', d['signal'].shape)\n",
    "    print('\\n', '-' * 100, '\\n')"
   ]
  },
  {
   "cell_type": "markdown",
   "metadata": {
    "pycharm": {
     "name": "#%% md\n"
    },
    "tags": []
   },
   "source": [
    "### Random crop with multiple cropping"
   ]
  },
  {
   "cell_type": "code",
   "execution_count": 15,
   "metadata": {
    "pycharm": {
     "name": "#%%\n"
    }
   },
   "outputs": [
    {
     "name": "stdout",
     "output_type": "stream",
     "text": [
      "{'age': 53,\n",
      " 'class_label': 0,\n",
      " 'class_name': 'Normal',\n",
      " 'serial': '00587',\n",
      " 'signal': [memmap([[-102, -100, -100, ...,  -26,  -26,  -23],\n",
      "        [   0,    3,    5, ...,   13,   16,   19],\n",
      "        [   4,    3,    3, ...,    0,    3,    6],\n",
      "        ...,\n",
      "        [   5,    3,    1, ...,  -10,  -12,  -13],\n",
      "        [  11,    8,    5, ...,   33,   29,   26],\n",
      "        [  -1,   -1,    2, ...,    1,    0,    0]]),\n",
      "            memmap([[  5,   2,  -6, ..., -84, -84, -85],\n",
      "        [ -6, -10, -14, ...,  -7, -10, -10],\n",
      "        [ -8,  -7,  -4, ...,   4,   0,  -2],\n",
      "        ...,\n",
      "        [ -4,  -2,   1, ...,  -2,  -4,  -6],\n",
      "        [ 84,  82,  75, ...,   4,  17,  31],\n",
      "        [  0,   0,   1, ...,   3,   3,  -1]])],\n",
      " 'symptom': ['normal', 'cb_normal']}\n",
      "\n",
      ">>> signal shape: [(21, 200), (21, 200)]\n",
      "\n",
      " ---------------------------------------------------------------------------------------------------- \n",
      "\n",
      "{'age': 53,\n",
      " 'class_label': 0,\n",
      " 'class_name': 'Normal',\n",
      " 'serial': '00587',\n",
      " 'signal': [memmap([[-38, -40, -44, ..., -48, -46, -47],\n",
      "        [ -3,  -5,  -8, ...,   5,   8,   9],\n",
      "        [ -2,  -3,  -5, ...,   4,   3,   2],\n",
      "        ...,\n",
      "        [ -7,  -4,   0, ...,   3,  -1,  -4],\n",
      "        [-22, -22, -24, ...,  55,  48,  44],\n",
      "        [  0,   0,   0, ...,  -1,   0,   0]]),\n",
      "            memmap([[ -9,  -8,  -4, ...,  94,  93,  90],\n",
      "        [ -9,  -9,  -9, ...,   9,   9,  10],\n",
      "        [  2,   2,   2, ...,   5,   4,   4],\n",
      "        ...,\n",
      "        [ -7,  -6,  -5, ...,  -7,  -4,  -2],\n",
      "        [-23, -23, -24, ..., -23, -22, -22],\n",
      "        [ -1,   0,  -1, ...,   0,   0,   0]])],\n",
      " 'symptom': ['normal', 'cb_normal']}\n",
      "\n",
      ">>> signal shape: [(21, 200), (21, 200)]\n",
      "\n",
      " ---------------------------------------------------------------------------------------------------- \n",
      "\n"
     ]
    }
   ],
   "source": [
    "transform = EegRandomCrop(crop_length=200, multiple=2)\n",
    "\n",
    "config_data, train_dataset, val_dataset, test_dataset = load_caueeg_task_datasets(dataset_path=data_path, \n",
    "                                                                                  task='dementia',\n",
    "                                                                                  load_event=False, \n",
    "                                                                                  file_format='memmap',\n",
    "                                                                                  transform=transform)\n",
    "for i in range(2):\n",
    "    d = train_dataset[0]\n",
    "    pprint.pprint(d)\n",
    "    print()\n",
    "    print('>>> signal shape:', [signal.shape for signal in d['signal']])\n",
    "    print('\\n', '-' * 100, '\\n')"
   ]
  },
  {
   "cell_type": "markdown",
   "metadata": {
    "pycharm": {
     "name": "#%% md\n"
    }
   },
   "source": [
    "### Random crop with multiple cropping and latency"
   ]
  },
  {
   "cell_type": "code",
   "execution_count": 16,
   "metadata": {
    "pycharm": {
     "name": "#%%\n"
    }
   },
   "outputs": [
    {
     "name": "stdout",
     "output_type": "stream",
     "text": [
      "{'age': 53,\n",
      " 'class_label': 0,\n",
      " 'class_name': 'Normal',\n",
      " 'crop_timing': [81946, 65630, 86176],\n",
      " 'serial': '00587',\n",
      " 'signal': [memmap([[-30, -33, -29, ..., -15, -17, -17],\n",
      "        [ -4,  -5,  -5, ...,   7,   3,  -1],\n",
      "        [  0,   1,   0, ...,   4,   4,   2],\n",
      "        ...,\n",
      "        [  3,   4,   3, ...,   2,   1,  -2],\n",
      "        [ 63,  61,  59, ...,  -8,  -9, -10],\n",
      "        [  2,   0,  -1, ...,   1,  -1,   0]]),\n",
      "            memmap([[-18, -19, -20, ...,  99,  98,  96],\n",
      "        [ -3,  -3,  -3, ...,  20,  19,  16],\n",
      "        [ -7,  -5,  -4, ...,  -5,  -5,  -6],\n",
      "        ...,\n",
      "        [ -6,  -4,  -4, ..., -13, -11, -11],\n",
      "        [-37, -38, -36, ...,  14,   8,   4],\n",
      "        [ -1,   3,   3, ...,  -1,   3,   3]]),\n",
      "            memmap([[230, 212, 201, ..., 112, 111, 105],\n",
      "        [ 44,  41,  37, ...,   7,  10,  11],\n",
      "        [  0,   0,   0, ...,  -6,  -7,  -5],\n",
      "        ...,\n",
      "        [ -7,  -6,  -6, ...,  -6,  -6,  -5],\n",
      "        [ 12,   9,   6, ..., -22, -24, -25],\n",
      "        [ -1,  -1,   0, ...,  -1,  -1,   0]])],\n",
      " 'symptom': ['normal', 'cb_normal']}\n",
      "\n",
      ">>> signal shape: [(21, 300), (21, 300), (21, 300)]\n",
      "\n",
      " ---------------------------------------------------------------------------------------------------- \n",
      "\n",
      "{'age': 53,\n",
      " 'class_label': 0,\n",
      " 'class_name': 'Normal',\n",
      " 'crop_timing': [52693, 69100, 51304],\n",
      " 'serial': '00587',\n",
      " 'signal': [memmap([[ -3,   1,   4, ..., 131, 128, 123],\n",
      "        [  1,  -2,  -5, ...,  18,  20,  20],\n",
      "        [  0,   0,  -1, ...,   5,   4,   4],\n",
      "        ...,\n",
      "        [  4,   3,   2, ...,   4,   2,  -2],\n",
      "        [-35, -42, -42, ...,   2,  -2,  -5],\n",
      "        [  0,   0,   0, ...,   0,   0,   0]]),\n",
      "            memmap([[-65, -66, -68, ...,  17,  17,  18],\n",
      "        [ -7,  -9, -11, ...,  15,  14,  14],\n",
      "        [ -5,  -9, -10, ...,  16,  17,  19],\n",
      "        ...,\n",
      "        [ -2,  -2,  -2, ...,   1,   2,   3],\n",
      "        [ -6,  -8,  -9, ...,  23,  20,  18],\n",
      "        [  0,   0,   0, ...,   0,  -1,  -1]]),\n",
      "            memmap([[-27, -33, -32, ..., -12, -11,  -7],\n",
      "        [ -2,  -3,  -5, ...,   2,   2,   4],\n",
      "        [ -1,   0,   1, ...,   3,   3,   4],\n",
      "        ...,\n",
      "        [ -3,  -1,   0, ...,  -3,  -3,  -3],\n",
      "        [-98, -75, -48, ..., -26, -27, -25],\n",
      "        [ -1,  -1,   1, ...,  -1,  -1,   2]])],\n",
      " 'symptom': ['normal', 'cb_normal']}\n",
      "\n",
      ">>> signal shape: [(21, 300), (21, 300), (21, 300)]\n",
      "\n",
      " ---------------------------------------------------------------------------------------------------- \n",
      "\n"
     ]
    }
   ],
   "source": [
    "transform = EegRandomCrop(crop_length=300, multiple=3, latency=50000, return_timing=True)\n",
    "\n",
    "config_data, train_dataset, val_dataset, test_dataset = load_caueeg_task_datasets(dataset_path=data_path, \n",
    "                                                                                  task='dementia',\n",
    "                                                                                  load_event=False, \n",
    "                                                                                  file_format='memmap',\n",
    "                                                                                  transform=transform)\n",
    "for i in range(2): \n",
    "    d = train_dataset[0]\n",
    "    pprint.pprint(d)\n",
    "    print()\n",
    "    print('>>> signal shape:', [signal.shape for signal in d['signal']])\n",
    "    print('\\n', '-' * 100, '\\n')"
   ]
  },
  {
   "cell_type": "markdown",
   "metadata": {
    "pycharm": {
     "name": "#%% md\n"
    },
    "tags": []
   },
   "source": [
    "### Random crop with multiple cropping, latency, and max length limit"
   ]
  },
  {
   "cell_type": "code",
   "execution_count": 17,
   "metadata": {
    "pycharm": {
     "name": "#%%\n"
    }
   },
   "outputs": [
    {
     "name": "stdout",
     "output_type": "stream",
     "text": [
      "{'age': 77,\n",
      " 'class_label': 1,\n",
      " 'class_name': 'Abnormal',\n",
      " 'crop_timing': [50049, 50078, 50083],\n",
      " 'serial': '01258',\n",
      " 'signal': [memmap([[103,  96,  89, ..., -13,  -1,   1],\n",
      "        [ 58,  68,  75, ...,   4,  16,   9],\n",
      "        [-25, -30, -29, ..., -42, -43, -40],\n",
      "        ...,\n",
      "        [-13, -16, -13, ...,  -3,  -3,  -4],\n",
      "        [ 25,  15,   4, ..., -22, -27, -37],\n",
      "        [  0,   0,   0, ...,  -1,  -1,  -1]]),\n",
      "            memmap([[ 11,  13,   7, ...,  -7,   2,   3],\n",
      "        [ 42,  19,  16, ...,  16,  24,  21],\n",
      "        [-27, -23, -28, ..., -43, -44, -40],\n",
      "        ...,\n",
      "        [  0,   2,   1, ...,   7,   4,   3],\n",
      "        [-37, -36, -39, ..., 107, 106, 100],\n",
      "        [  0,   0,  -1, ...,   0,   0,  -1]]),\n",
      "            memmap([[ -7, -13, -15, ...,  -1,  -7,  -4],\n",
      "        [ 27,  13,  22, ...,  14,  -4,  -7],\n",
      "        [-30, -31, -33, ..., -29, -29, -30],\n",
      "        ...,\n",
      "        [  2,   2,   1, ...,   9,  10,  10],\n",
      "        [-68, -75, -83, ...,  89,  68,  72],\n",
      "        [  3,  -1,   0, ...,   1,   2,   0]])],\n",
      " 'symptom': ['dementia', 'vd', 'sivd']}\n",
      "\n",
      ">>> signal shape: [(21, 200), (21, 200), (21, 200)]\n",
      "\n",
      " ---------------------------------------------------------------------------------------------------- \n",
      "\n",
      "{'age': 77,\n",
      " 'class_label': 1,\n",
      " 'class_name': 'Abnormal',\n",
      " 'crop_timing': [50042, 50005, 50001],\n",
      " 'serial': '01258',\n",
      " 'signal': [memmap([[126, 121, 108, ...,  12,   8,   6],\n",
      "        [ 36,  48,  72, ...,  23,   8,   3],\n",
      "        [-25, -27, -31, ..., -36, -38, -40],\n",
      "        ...,\n",
      "        [ -6, -12, -18, ...,  -3,  -5,  -5],\n",
      "        [ 58,  64,  45, ..., -21, -45, -50],\n",
      "        [  0,   0,  -1, ...,   0,   0,   0]]),\n",
      "            memmap([[  13,    6,   10, ...,   13,   12,    7],\n",
      "        [  17,   25,   50, ...,   15,   15,   10],\n",
      "        [ -17,  -15,  -19, ...,  -43,  -43,  -41],\n",
      "        ...,\n",
      "        [  -4,   -5,   -6, ...,    2,    3,    3],\n",
      "        [ -41,  -22,  -10, ...,   13,  -52, -160],\n",
      "        [  -1,   -1,    0, ...,    0,    0,   -1]]),\n",
      "            memmap([[  6,   3,   9, ...,   0,   2,   5],\n",
      "        [ 44,  38,  40, ...,  21,  21,  34],\n",
      "        [-18, -19, -21, ..., -43, -41, -44],\n",
      "        ...,\n",
      "        [ -5,  -5,  -5, ...,  -4,  -7,  -8],\n",
      "        [-15, -13, -22, ...,   4,   5,  21],\n",
      "        [  3,   2,  -1, ...,  -1,   2,   2]])],\n",
      " 'symptom': ['dementia', 'vd', 'sivd']}\n",
      "\n",
      ">>> signal shape: [(21, 200), (21, 200), (21, 200)]\n",
      "\n",
      " ---------------------------------------------------------------------------------------------------- \n",
      "\n"
     ]
    }
   ],
   "source": [
    "transform = transforms.Compose([\n",
    "    EegRandomCrop(crop_length=200, \n",
    "                  length_limit=50300,\n",
    "                  multiple=3, \n",
    "                  latency=50000, \n",
    "                  return_timing=True)\n",
    "])\n",
    "\n",
    "config_data, train_dataset, val_dataset, test_dataset = load_caueeg_task_datasets(dataset_path=data_path, \n",
    "                                                                                  task='abnormal',\n",
    "                                                                                  load_event=False, \n",
    "                                                                                  file_format='memmap',\n",
    "                                                                                  transform=transform)\n",
    "for i in range(2):\n",
    "    d = train_dataset[0]\n",
    "    pprint.pprint(d)\n",
    "    print()\n",
    "    print('>>> signal shape:', [signal.shape for signal in d['signal']])\n",
    "    print('\\n', '-' * 100, '\\n')"
   ]
  },
  {
   "cell_type": "markdown",
   "metadata": {
    "pycharm": {
     "name": "#%% md\n"
    },
    "tags": []
   },
   "source": [
    "### Drop channel(s)"
   ]
  },
  {
   "cell_type": "code",
   "execution_count": 18,
   "metadata": {
    "pycharm": {
     "name": "#%%\n"
    }
   },
   "outputs": [
    {
     "name": "stdout",
     "output_type": "stream",
     "text": [
      "['Fp1-AVG', 'F3-AVG', 'C3-AVG', 'P3-AVG', 'O1-AVG', 'Fp2-AVG', 'F4-AVG', 'C4-AVG', 'P4-AVG', 'O2-AVG', 'F7-AVG', 'T3-AVG', 'T5-AVG', 'F8-AVG', 'T4-AVG', 'T6-AVG', 'FZ-AVG', 'CZ-AVG', 'PZ-AVG', 'EKG', 'Photic']\n",
      "channel_ekg:  19\n",
      "channel_photic:  20\n"
     ]
    }
   ],
   "source": [
    "anno_path = os.path.join(data_path, 'annotation.json')\n",
    "with open(anno_path, 'r') as json_file:\n",
    "    annotation = json.load(json_file)\n",
    "signal_headers = annotation['signal_header']\n",
    "del annotation\n",
    "print(signal_headers)\n",
    "\n",
    "channel_ekg = signal_headers.index('EKG')\n",
    "print('channel_ekg: ', channel_ekg)\n",
    "\n",
    "channel_photic = signal_headers.index('Photic')\n",
    "print('channel_photic: ', channel_photic)"
   ]
  },
  {
   "cell_type": "code",
   "execution_count": 19,
   "metadata": {
    "pycharm": {
     "name": "#%%\n"
    }
   },
   "outputs": [
    {
     "name": "stdout",
     "output_type": "stream",
     "text": [
      "before: (21, 183200)\n",
      "[[   3   -1   -5 ...   -5   -2   -9]\n",
      " [   7   15    9 ...    8  -10  -15]\n",
      " [  -6   -5   -3 ...   -2    0    3]\n",
      " ...\n",
      " [   4    6    5 ...    2    6    8]\n",
      " [  62   54   53 ...  -22 -137 -282]\n",
      " [   0    0    1 ...    0   -1    0]]\n",
      "\n",
      "----------------------------------------------------------------------------------------------------\n",
      "\n",
      "after: (20, 183200)\n",
      "[[  3  -1  -5 ...  -5  -2  -9]\n",
      " [  7  15   9 ...   8 -10 -15]\n",
      " [ -6  -5  -3 ...  -2   0   3]\n",
      " ...\n",
      " [  0   6   3 ...  10   7   5]\n",
      " [  4   6   5 ...   2   6   8]\n",
      " [  0   0   1 ...   0  -1   0]]\n"
     ]
    }
   ],
   "source": [
    "config_data, train_dataset, val_dataset, test_dataset = load_caueeg_task_datasets(dataset_path=data_path, \n",
    "                                                                                  task='abnormal',\n",
    "                                                                                  load_event=False, \n",
    "                                                                                  file_format='memmap', \n",
    "                                                                                  transform=None)\n",
    "print('before:', train_dataset[0]['signal'].shape)\n",
    "print(train_dataset[0]['signal'])\n",
    "\n",
    "print()\n",
    "print('-' * 100)\n",
    "print()\n",
    "config_data, train_dataset, val_dataset, test_dataset = load_caueeg_task_datasets(dataset_path=data_path, \n",
    "                                                                                  task='abnormal',\n",
    "                                                                                  load_event=False, \n",
    "                                                                                  file_format='memmap', \n",
    "                                                                                  transform=EegDropChannels(channel_ekg))\n",
    "print('after:', train_dataset[0]['signal'].shape)\n",
    "print(train_dataset[0]['signal'])"
   ]
  },
  {
   "cell_type": "code",
   "execution_count": 20,
   "metadata": {
    "pycharm": {
     "name": "#%%\n"
    }
   },
   "outputs": [
    {
     "name": "stdout",
     "output_type": "stream",
     "text": [
      "before: (21, 183200)\n",
      "[[   3   -1   -5 ...   -5   -2   -9]\n",
      " [   7   15    9 ...    8  -10  -15]\n",
      " [  -6   -5   -3 ...   -2    0    3]\n",
      " ...\n",
      " [   4    6    5 ...    2    6    8]\n",
      " [  62   54   53 ...  -22 -137 -282]\n",
      " [   0    0    1 ...    0   -1    0]]\n",
      "\n",
      "----------------------------------------------------------------------------------------------------\n",
      "\n",
      "after: (20, 183200)\n",
      "[[   3   -1   -5 ...   -5   -2   -9]\n",
      " [   7   15    9 ...    8  -10  -15]\n",
      " [  -6   -5   -3 ...   -2    0    3]\n",
      " ...\n",
      " [   0    6    3 ...   10    7    5]\n",
      " [   4    6    5 ...    2    6    8]\n",
      " [  62   54   53 ...  -22 -137 -282]]\n"
     ]
    }
   ],
   "source": [
    "config_data, train_dataset, val_dataset, test_dataset = load_caueeg_task_datasets(dataset_path=data_path, \n",
    "                                                                                  task='abnormal',\n",
    "                                                                                  load_event=False, \n",
    "                                                                                  file_format='memmap',\n",
    "                                                                                  transform=None)\n",
    "print('before:', train_dataset[0]['signal'].shape)\n",
    "print(train_dataset[0]['signal'])\n",
    "\n",
    "print()\n",
    "print('-' * 100)\n",
    "print()\n",
    "config_data, train_dataset, val_dataset, test_dataset = load_caueeg_task_datasets(dataset_path=data_path, \n",
    "                                                                                  task='abnormal',\n",
    "                                                                                  load_event=False, \n",
    "                                                                                  file_format='memmap',\n",
    "                                                                                  transform=EegDropChannels(channel_photic))\n",
    "print('after:', train_dataset[0]['signal'].shape)\n",
    "print(train_dataset[0]['signal'])"
   ]
  },
  {
   "cell_type": "code",
   "execution_count": 21,
   "metadata": {
    "pycharm": {
     "name": "#%%\n"
    }
   },
   "outputs": [
    {
     "name": "stdout",
     "output_type": "stream",
     "text": [
      "before: (21, 183200)\n",
      "[[   3   -1   -5 ...   -5   -2   -9]\n",
      " [   7   15    9 ...    8  -10  -15]\n",
      " [  -6   -5   -3 ...   -2    0    3]\n",
      " ...\n",
      " [   4    6    5 ...    2    6    8]\n",
      " [  62   54   53 ...  -22 -137 -282]\n",
      " [   0    0    1 ...    0   -1    0]]\n",
      "\n",
      "----------------------------------------------------------------------------------------------------\n",
      "\n",
      "after: (19, 183200)\n",
      "[[  3  -1  -5 ...  -5  -2  -9]\n",
      " [  7  15   9 ...   8 -10 -15]\n",
      " [ -6  -5  -3 ...  -2   0   3]\n",
      " ...\n",
      " [-30 -27 -27 ...  22  18  14]\n",
      " [  0   6   3 ...  10   7   5]\n",
      " [  4   6   5 ...   2   6   8]]\n"
     ]
    }
   ],
   "source": [
    "config_data, train_dataset, val_dataset, test_dataset = load_caueeg_task_datasets(dataset_path=data_path, \n",
    "                                                                                  task='abnormal',\n",
    "                                                                                  load_event=False, \n",
    "                                                                                  file_format='memmap',\n",
    "                                                                                  transform=None)\n",
    "print('before:', train_dataset[0]['signal'].shape)\n",
    "print(train_dataset[0]['signal'])\n",
    "\n",
    "print()\n",
    "print('-' * 100)\n",
    "print()\n",
    "config_data, train_dataset, val_dataset, test_dataset = load_caueeg_task_datasets(dataset_path=data_path, \n",
    "                                                                                  task='abnormal',\n",
    "                                                                                  load_event=False, \n",
    "                                                                                  file_format='memmap',\n",
    "                                                                                  transform=EegDropChannels([channel_ekg, channel_photic]))\n",
    "print('after:', train_dataset[0]['signal'].shape)\n",
    "print(train_dataset[0]['signal'])"
   ]
  },
  {
   "cell_type": "markdown",
   "metadata": {
    "pycharm": {
     "name": "#%% md\n"
    }
   },
   "source": [
    "### To Tensor"
   ]
  },
  {
   "cell_type": "code",
   "execution_count": 22,
   "metadata": {
    "pycharm": {
     "name": "#%%\n"
    }
   },
   "outputs": [
    {
     "name": "stdout",
     "output_type": "stream",
     "text": [
      "Before:\n",
      "{'age': 78,\n",
      " 'serial': '00001',\n",
      " 'signal': memmap([[  0, -11, -13, ...,  18,  21,  22],\n",
      "        [ 29,  33,  34, ...,  -7,  -4,  -4],\n",
      "        [ -3,  -6,  -3, ...,  -1,   1,   2],\n",
      "        ...,\n",
      "        [ -4,  -2,   1, ...,   0,  -1,  -1],\n",
      "        [112,  67,  76, ..., -13, -15, -11],\n",
      "        [ -1,  -1,  -1, ...,  -1,  -1,  -1]]),\n",
      " 'symptom': ['mci', 'mci_amnestic', 'mci_amnestic_rf']}\n",
      "\n",
      "----------------------------------------------------------------------------------------------------\n",
      "\n",
      "After:\n",
      "{'age': tensor(78.),\n",
      " 'serial': '00001',\n",
      " 'signal': tensor([[  0., -11., -13.,  ...,  18.,  21.,  22.],\n",
      "        [ 29.,  33.,  34.,  ...,  -7.,  -4.,  -4.],\n",
      "        [ -3.,  -6.,  -3.,  ...,  -1.,   1.,   2.],\n",
      "        ...,\n",
      "        [ -4.,  -2.,   1.,  ...,   0.,  -1.,  -1.],\n",
      "        [112.,  67.,  76.,  ..., -13., -15., -11.],\n",
      "        [ -1.,  -1.,  -1.,  ...,  -1.,  -1.,  -1.]]),\n",
      " 'symptom': ['mci', 'mci_amnestic', 'mci_amnestic_rf']}\n"
     ]
    }
   ],
   "source": [
    "config_data, full_eeg_dataset = load_caueeg_full_dataset(dataset_path=data_path, \n",
    "                                                         load_event=False, \n",
    "                                                         file_format='memmap',\n",
    "                                                         transform=None)\n",
    "print('Before:')\n",
    "pprint.pprint(full_eeg_dataset[0])\n",
    "\n",
    "print()\n",
    "print('-' * 100)\n",
    "print()\n",
    "\n",
    "config_data, full_eeg_dataset = load_caueeg_full_dataset(dataset_path=data_path, \n",
    "                                                         load_event=False, \n",
    "                                                         file_format='memmap',\n",
    "                                                         transform=EegToTensor())\n",
    "print('After:')\n",
    "pprint.pprint(full_eeg_dataset[0])"
   ]
  },
  {
   "cell_type": "markdown",
   "metadata": {
    "pycharm": {
     "name": "#%% md\n"
    }
   },
   "source": [
    "### Compose the above all in one"
   ]
  },
  {
   "cell_type": "code",
   "execution_count": 23,
   "metadata": {
    "pycharm": {
     "name": "#%%\n"
    }
   },
   "outputs": [
    {
     "name": "stdout",
     "output_type": "stream",
     "text": [
      "{'age': tensor(77.),\n",
      " 'class_label': tensor(1),\n",
      " 'class_name': 'Abnormal',\n",
      " 'serial': '01258',\n",
      " 'signal': [tensor([[ 60.,  70.,  65.,  ...,  -8.,  -7.,   0.],\n",
      "        [ 19.,  35.,  38.,  ...,  25.,  12.,   1.],\n",
      "        [ 17.,  16.,  17.,  ..., -36., -34., -34.],\n",
      "        ...,\n",
      "        [ 18.,  17.,  16.,  ..., -10., -10., -12.],\n",
      "        [  0.,   0.,   1.,  ...,   0.,   2.,   3.],\n",
      "        [  3.,   5.,  11.,  ..., -51., -28., -25.]]),\n",
      "            tensor([[-307., -306., -306.,  ...,  -31.,  -26.,  -33.],\n",
      "        [ -16.,  -18.,  -26.,  ...,  -13.,   -2.,    1.],\n",
      "        [  -2.,   -4.,   -6.,  ...,   11.,   13.,   17.],\n",
      "        ...,\n",
      "        [  -2.,   -1.,    0.,  ...,    4.,    5.,    2.],\n",
      "        [  -2.,   -3.,   -4.,  ...,   12.,   13.,   14.],\n",
      "        [ -15.,  -17.,  -16.,  ...,   23.,   44.,   51.]]),\n",
      "            tensor([[ 18.,  21.,  24.,  ...,  12.,  13.,  14.],\n",
      "        [ 12.,   9.,   4.,  ...,   7.,  11.,  10.],\n",
      "        [-39., -37., -34.,  ...,  12.,  10.,  10.],\n",
      "        ...,\n",
      "        [  1.,   4.,   8.,  ..., -19., -17., -12.],\n",
      "        [ -4.,  -1.,   0.,  ..., -13., -14., -14.],\n",
      "        [ -5.,   6.,  15.,  ..., -79., -81., -76.]]),\n",
      "            tensor([[ 17.,  20.,  27.,  ..., -47., -53., -50.],\n",
      "        [-15., -18., -24.,  ..., -28., -36., -29.],\n",
      "        [  1.,   0.,   1.,  ...,  27.,  25.,  24.],\n",
      "        ...,\n",
      "        [-17., -13.,  -8.,  ..., -15., -13., -13.],\n",
      "        [ -4.,   1.,   6.,  ..., -16., -14., -12.],\n",
      "        [ 53.,  50.,  65.,  ...,  -5.,   3.,  -4.]])],\n",
      " 'symptom': ['dementia', 'vd', 'sivd']}\n"
     ]
    }
   ],
   "source": [
    "transform = transforms.Compose([\n",
    "    EegRandomCrop(crop_length=200*10,       # crop: 10s\n",
    "                  length_limit=200*60*10,   # length: 10m\n",
    "                  multiple=4, \n",
    "                  latency=200*10),          # latency: 10s\n",
    "    EegDropChannels(channel_photic), \n",
    "    EegToTensor()\n",
    "])\n",
    "\n",
    "config_data, train_dataset, val_dataset, test_dataset = load_caueeg_task_datasets(dataset_path=data_path, \n",
    "                                                                                  task='abnormal',\n",
    "                                                                                  load_event=False, \n",
    "                                                                                  file_format='memmap',\n",
    "                                                                                  transform=transform)\n",
    "\n",
    "pprint.pprint(train_dataset[0])"
   ]
  },
  {
   "cell_type": "markdown",
   "metadata": {
    "pycharm": {
     "name": "#%% md\n"
    }
   },
   "source": [
    "---\n",
    "\n",
    "## PyTorch DataLoader"
   ]
  },
  {
   "cell_type": "code",
   "execution_count": 24,
   "metadata": {
    "pycharm": {
     "name": "#%%\n"
    }
   },
   "outputs": [],
   "source": [
    "if device.type == 'cuda':\n",
    "    num_workers = 0  # A number other than 0 causes an error\n",
    "    pin_memory = True\n",
    "else:\n",
    "    num_workers = 0\n",
    "    pin_memory = False"
   ]
  },
  {
   "cell_type": "code",
   "execution_count": 25,
   "metadata": {
    "pycharm": {
     "name": "#%%\n"
    }
   },
   "outputs": [
    {
     "name": "stdout",
     "output_type": "stream",
     "text": [
      "{'age': tensor([77., 77., 63., 63., 82., 82., 77., 77.]),\n",
      " 'serial': ['00691',\n",
      "            '00691',\n",
      "            '00570',\n",
      "            '00570',\n",
      "            '00460',\n",
      "            '00460',\n",
      "            '00718',\n",
      "            '00718'],\n",
      " 'signal': tensor([[[ 251.,  247.,  231.,  ...,    5.,   23.,   18.],\n",
      "         [  35.,   34.,   43.,  ...,  -28.,  -29.,  -28.],\n",
      "         [   0.,    2.,    5.,  ...,   -4.,   -8.,  -12.],\n",
      "         ...,\n",
      "         [  10.,   12.,   15.,  ...,   -2.,   -1.,    0.],\n",
      "         [ -10.,   -9.,  -10.,  ...,   -3.,   -2.,   -1.],\n",
      "         [ -11.,  -21.,  -32.,  ...,  129.,  139.,  146.]],\n",
      "\n",
      "        [[  55.,   54.,   49.,  ...,  547.,  535.,  549.],\n",
      "         [  26.,   23.,   20.,  ...,   86.,   95.,   92.],\n",
      "         [  16.,   17.,   16.,  ...,  -40.,  -39.,  -43.],\n",
      "         ...,\n",
      "         [  15.,   14.,   12.,  ...,  -54.,  -52.,  -51.],\n",
      "         [   9.,    9.,    9.,  ...,  -40.,  -40.,  -41.],\n",
      "         [  86.,   90.,   93.,  ...,  237.,  239.,  234.]],\n",
      "\n",
      "        [[  37.,   38.,   33.,  ...,   21.,   21.,   15.],\n",
      "         [  23.,   21.,   13.,  ...,   29.,   20.,   17.],\n",
      "         [ -24.,  -21.,  -17.,  ...,    6.,    0.,   -7.],\n",
      "         ...,\n",
      "         [ -13.,   -8.,   -3.,  ...,  -14.,  -15.,  -15.],\n",
      "         [ -10.,   -4.,    2.,  ...,  -18.,  -17.,   -9.],\n",
      "         [ -27.,  -12.,   11.,  ...,   52.,    0., -136.]],\n",
      "\n",
      "        ...,\n",
      "\n",
      "        [[ 113.,  117.,  118.,  ...,   43.,   44.,   47.],\n",
      "         [  10.,   11.,   12.,  ...,   19.,   20.,   21.],\n",
      "         [   2.,    3.,    3.,  ...,   -1.,    0.,    2.],\n",
      "         ...,\n",
      "         [  -8.,   -7.,   -7.,  ...,   -3.,   -4.,   -4.],\n",
      "         [  -8.,   -8.,   -8.,  ...,  -14.,  -13.,  -13.],\n",
      "         [-690., -653., -408.,  ...,   86.,   44.,   53.]],\n",
      "\n",
      "        [[  -6.,   -1.,    0.,  ...,   75.,   77.,   79.],\n",
      "         [   0.,    0.,    2.,  ...,   13.,   13.,   11.],\n",
      "         [   2.,    0.,   -1.,  ...,    4.,    4.,    4.],\n",
      "         ...,\n",
      "         [ -18.,  -16.,  -13.,  ...,   14.,   15.,   16.],\n",
      "         [  -8.,   -8.,   -7.,  ...,    4.,    7.,    8.],\n",
      "         [  52.,   55.,   58.,  ...,    6.,   14.,   27.]],\n",
      "\n",
      "        [[ -49.,  -54.,  -59.,  ...,  -19.,  -23.,  -24.],\n",
      "         [ -18.,  -17.,  -15.,  ...,  -13.,  -16.,  -20.],\n",
      "         [  -3.,   -1.,    0.,  ...,    2.,    2.,    3.],\n",
      "         ...,\n",
      "         [   8.,   11.,   13.,  ...,   -1.,   -1.,   -2.],\n",
      "         [   9.,   11.,   12.,  ...,    2.,    3.,    3.],\n",
      "         [  16.,   10.,    7.,  ...,   -9.,  -11.,   -9.]]]),\n",
      " 'symptom': [['mci', 'mci_amnestic', 'mci_amnestic_rf'],\n",
      "             ['mci', 'mci_amnestic', 'mci_amnestic_rf'],\n",
      "             ['mci', 'mci_amnestic', 'mci_amnestic_ef'],\n",
      "             ['mci', 'mci_amnestic', 'mci_amnestic_ef'],\n",
      "             ['mci', 'mci_amnestic', 'mci_amnestic_rf'],\n",
      "             ['mci', 'mci_amnestic', 'mci_amnestic_rf'],\n",
      "             ['parkinson_synd', 'parkinson_disease'],\n",
      "             ['parkinson_synd', 'parkinson_disease']]}\n"
     ]
    }
   ],
   "source": [
    "transform = transforms.Compose([\n",
    "    EegRandomCrop(crop_length=200*10,       # crop: 10s\n",
    "                  length_limit=200*60*10,   # length: 10m\n",
    "                  multiple=2, \n",
    "                  latency=200*10),          # latency: 10s\n",
    "    EegDropChannels(channel_photic), \n",
    "    EegToTensor()\n",
    "])\n",
    "\n",
    "config_data, full_eeg_dataset = load_caueeg_full_dataset(dataset_path=data_path, \n",
    "                                                         load_event=False, \n",
    "                                                         file_format='memmap',\n",
    "                                                         transform=transform)\n",
    "\n",
    "full_loader = DataLoader(full_eeg_dataset,\n",
    "                         batch_size=4,\n",
    "                         shuffle=True,\n",
    "                         drop_last=True,\n",
    "                         num_workers=num_workers,\n",
    "                         pin_memory=pin_memory,\n",
    "                         collate_fn=eeg_collate_fn)\n",
    "\n",
    "for i_batch, sample_batched in enumerate(full_loader):\n",
    "    pprint.pprint(sample_batched)\n",
    "    break"
   ]
  },
  {
   "cell_type": "code",
   "execution_count": 26,
   "metadata": {
    "pycharm": {
     "name": "#%%\n"
    }
   },
   "outputs": [
    {
     "name": "stdout",
     "output_type": "stream",
     "text": [
      "{'age': tensor([66., 66., 83., 83., 60., 60., 54., 54., 55., 55., 81., 81., 72., 72.,\n",
      "        80., 80.]),\n",
      " 'class_label': tensor([0, 0, 1, 1, 0, 0, 0, 0, 0, 0, 0, 0, 1, 1, 1, 1]),\n",
      " 'class_name': ['Normal', 'Normal', 'Abnormal', 'Abnormal', 'Normal', 'Normal', 'Normal', 'Normal', 'Normal', 'Normal', 'Normal', 'Normal', 'Abnormal', 'Abnormal', 'Abnormal', 'Abnormal'],\n",
      " 'serial': ['00085', '00085', '01050', '01050', '01006', '01006', '01135', '01135', '00324', '00324', '00721', '00721', '00942', '00942', '00440', '00440'],\n",
      " 'signal': tensor([[[   9.,   10.,   13.,  ...,   11.,   13.,   13.],\n",
      "         [  32.,   32.,   34.,  ...,   48.,   49.,   50.],\n",
      "         [  11.,   12.,   15.,  ...,    3.,    4.,    5.],\n",
      "         ...,\n",
      "         [   3.,    3.,    2.,  ...,   19.,   16.,   15.],\n",
      "         [ -13.,  -12.,  -13.,  ...,   -9.,  -10.,   -9.],\n",
      "         [  -3.,   -1.,    9.,  ...,   -5.,    6.,    9.]],\n",
      "\n",
      "        [[ -15.,  -16.,  -19.,  ...,  -25.,  -26.,  -28.],\n",
      "         [  94.,   90.,   91.,  ...,   18.,   17.,   15.],\n",
      "         [   2.,    3.,    4.,  ...,    3.,    2.,    0.],\n",
      "         ...,\n",
      "         [  -8.,   -7.,   -7.,  ...,    1.,    0.,   -1.],\n",
      "         [  -6.,   -7.,   -9.,  ...,    2.,    2.,    2.],\n",
      "         [  -3.,    6.,    8.,  ...,   -1.,    8.,   -3.]],\n",
      "\n",
      "        [[ -69.,  -61.,  -55.,  ...,  -12.,  -11.,  -10.],\n",
      "         [  16.,   15.,   18.,  ...,   14.,   13.,   12.],\n",
      "         [   4.,    5.,    6.,  ...,    6.,    5.,    5.],\n",
      "         ...,\n",
      "         [   0.,    3.,    5.,  ...,    9.,    8.,    7.],\n",
      "         [  -1.,    0.,    1.,  ...,    4.,    3.,    4.],\n",
      "         [  17.,   13.,   11.,  ...,  -22.,   57.,  123.]],\n",
      "\n",
      "        ...,\n",
      "\n",
      "        [[-121., -122., -121.,  ...,   -8.,   -7.,   -7.],\n",
      "         [ -46.,  -45.,  -47.,  ...,   18.,   18.,   17.],\n",
      "         [ -12.,  -11.,  -11.,  ...,   -1.,    0.,    1.],\n",
      "         ...,\n",
      "         [  -8.,   -9.,   -9.,  ...,    5.,    5.,    5.],\n",
      "         [   0.,    0.,    0.,  ...,   -3.,   -2.,   -2.],\n",
      "         [  36.,   33.,   29.,  ...,  -30.,  -50.,  -62.]],\n",
      "\n",
      "        [[ -35.,  -39.,  -45.,  ...,   22.,   23.,   20.],\n",
      "         [   4.,    1.,   -4.,  ...,    9.,   14.,   16.],\n",
      "         [   7.,    6.,    2.,  ...,    9.,   12.,   14.],\n",
      "         ...,\n",
      "         [  26.,   19.,    7.,  ...,    9.,    6.,   -1.],\n",
      "         [   4.,   -1.,   -4.,  ...,    6.,    3.,   -1.],\n",
      "         [ -91.,  -46.,  -11.,  ...,   66.,   78.,   77.]],\n",
      "\n",
      "        [[  11.,   14.,   14.,  ...,  -16.,  -17.,   -7.],\n",
      "         [   2.,    2.,    5.,  ...,    5.,    3.,   -5.],\n",
      "         [ -10.,  -18.,  -19.,  ...,    4.,    2.,   -2.],\n",
      "         ...,\n",
      "         [   0.,    4.,    8.,  ...,    9.,    7.,    3.],\n",
      "         [  -2.,   -1.,    2.,  ...,   -2.,   -3.,   -4.],\n",
      "         [-155., -129.,  -96.,  ...,  -90.,  -37.,    6.]]]),\n",
      " 'symptom': [['normal', 'cb_normal'],\n",
      "             ['normal', 'cb_normal'],\n",
      "             ['mci', 'mci_amnestic', 'mci_amnestic_ef'],\n",
      "             ['mci', 'mci_amnestic', 'mci_amnestic_ef'],\n",
      "             ['normal', 'cb_normal'],\n",
      "             ['normal', 'cb_normal'],\n",
      "             ['normal', 'cb_normal'],\n",
      "             ['normal', 'cb_normal'],\n",
      "             ['normal', 'smi'],\n",
      "             ['normal', 'smi'],\n",
      "             ['normal', 'smi'],\n",
      "             ['normal', 'smi'],\n",
      "             ['mci', 'mci_vascular'],\n",
      "             ['mci', 'mci_vascular'],\n",
      "             ['mci', 'mci_amnestic', 'mci_amnestic_rf'],\n",
      "             ['mci', 'mci_amnestic', 'mci_amnestic_rf']]}\n"
     ]
    }
   ],
   "source": [
    "transform = transforms.Compose([\n",
    "    EegRandomCrop(crop_length=200*10,       # crop: 10s\n",
    "                  length_limit=200*60*10,   # length: 10m\n",
    "                  multiple=2, \n",
    "                  latency=200*10),          # latency: 10s\n",
    "    EegDropChannels(channel_photic), \n",
    "    EegToTensor()\n",
    "])\n",
    "\n",
    "config_data, train_dataset, val_dataset, test_dataset = load_caueeg_task_datasets(dataset_path=data_path, \n",
    "                                                                                  task='abnormal',\n",
    "                                                                                  load_event=False, \n",
    "                                                                                  file_format='memmap',\n",
    "                                                                                  transform=transform)\n",
    "\n",
    "train_loader = DataLoader(train_dataset,\n",
    "                          batch_size=8,\n",
    "                          shuffle=True,\n",
    "                          drop_last=True,\n",
    "                          num_workers=num_workers,\n",
    "                          pin_memory=pin_memory,\n",
    "                          collate_fn=eeg_collate_fn)\n",
    "\n",
    "for i_batch, sample_batched in enumerate(train_loader):\n",
    "    pprint.pprint(sample_batched, width=250)\n",
    "    break"
   ]
  },
  {
   "cell_type": "markdown",
   "metadata": {
    "pycharm": {
     "name": "#%% md\n"
    }
   },
   "source": [
    "---\n",
    "\n",
    "## Preprocessing steps run by the PyTorch Modules"
   ]
  },
  {
   "cell_type": "code",
   "execution_count": 27,
   "metadata": {
    "pycharm": {
     "name": "#%%\n"
    }
   },
   "outputs": [],
   "source": [
    "transform = transforms.Compose([\n",
    "    EegRandomCrop(crop_length=200*10,       # crop: 10s\n",
    "                  length_limit=200*60*10,   # length: 10m\n",
    "                  multiple=2, \n",
    "                  latency=200*10),          # latency: 10s\n",
    "    EegDropChannels(channel_photic), \n",
    "    EegToTensor()\n",
    "])\n",
    "\n",
    "config_data, train_dataset, val_dataset, test_dataset = load_caueeg_task_datasets(dataset_path=data_path, \n",
    "                                                                                  task='dementia',\n",
    "                                                                                  load_event=False, \n",
    "                                                                                  file_format='memmap',\n",
    "                                                                                  transform=transform)\n",
    "\n",
    "train_loader = DataLoader(train_dataset,\n",
    "                          batch_size=2,\n",
    "                          shuffle=True,\n",
    "                          drop_last=True,\n",
    "                          num_workers=num_workers,\n",
    "                          pin_memory=pin_memory,\n",
    "                          collate_fn=eeg_collate_fn)"
   ]
  },
  {
   "cell_type": "markdown",
   "metadata": {
    "pycharm": {
     "name": "#%% md\n"
    }
   },
   "source": [
    "### To GPU device if it is possible"
   ]
  },
  {
   "cell_type": "code",
   "execution_count": 28,
   "metadata": {
    "pycharm": {
     "name": "#%%\n"
    }
   },
   "outputs": [
    {
     "name": "stdout",
     "output_type": "stream",
     "text": [
      "device: cuda\n",
      "\n",
      "Sequential(\n",
      "  (0): EegToDevice(device=cuda)\n",
      ")\n",
      "- Before -\n",
      "{'age': tensor([57., 57., 70., 70.]),\n",
      " 'class_label': tensor([0, 0, 0, 0]),\n",
      " 'class_name': ['Normal', 'Normal', 'Normal', 'Normal'],\n",
      " 'serial': ['00497', '00497', '00103', '00103'],\n",
      " 'signal': tensor([[[   3.,    1.,   -4.,  ...,  -10.,   -7.,   -6.],\n",
      "         [  -3.,   -2.,   -1.,  ...,   -3.,   -1.,    0.],\n",
      "         [   1.,    4.,    3.,  ...,   -3.,   -3.,   -4.],\n",
      "         ...,\n",
      "         [  -5.,   -4.,   -7.,  ...,   -6.,   -5.,   -5.],\n",
      "         [  -5.,   -4.,   -5.,  ...,    3.,    5.,    3.],\n",
      "         [  44.,   81.,   98.,  ...,  -64.,  -28.,  -12.]],\n",
      "\n",
      "        [[ -44.,  -46.,  -48.,  ...,    1.,   -3.,   -3.],\n",
      "         [ -17.,  -17.,  -18.,  ...,   -2.,   -5.,   -5.],\n",
      "         [  -5.,   -5.,   -5.,  ...,    7.,    9.,    8.],\n",
      "         ...,\n",
      "         [  -5.,   -3.,   -3.,  ...,   -5.,   -3.,   -3.],\n",
      "         [   2.,    4.,    4.,  ...,   -9.,   -5.,   -4.],\n",
      "         [  63.,   77.,  102.,  ...,  -63.,  -38.,  -37.]],\n",
      "\n",
      "        [[  -2.,   -4.,   -4.,  ...,  -24.,  -21.,  -19.],\n",
      "         [  -4.,    0.,    4.,  ...,  -12.,  -10.,  -10.],\n",
      "         [   7.,   11.,   15.,  ...,    1.,    3.,    5.],\n",
      "         ...,\n",
      "         [   4.,    8.,   12.,  ...,    1.,    0.,    0.],\n",
      "         [   3.,    3.,    4.,  ...,    7.,    6.,    5.],\n",
      "         [-260.,  -19.,  124.,  ...,  -17.,  -21.,  -29.]],\n",
      "\n",
      "        [[  32.,   35.,   36.,  ...,   69.,   66.,   61.],\n",
      "         [   8.,    7.,    8.,  ...,    6.,    4.,    1.],\n",
      "         [   3.,    5.,    4.,  ...,    2.,    0.,   -3.],\n",
      "         ...,\n",
      "         [  -4.,   -3.,   -5.,  ...,    1.,   -1.,   -5.],\n",
      "         [  -4.,   -3.,   -4.,  ...,    2.,    1.,   -1.],\n",
      "         [  -1.,   -3.,   10.,  ...,  -28.,  -36.,  -52.]]]),\n",
      " 'symptom': [['normal', 'smi'],\n",
      "             ['normal', 'smi'],\n",
      "             ['normal', 'cb_normal'],\n",
      "             ['normal', 'cb_normal']]}\n",
      "\n",
      "----------------------------------------------------------------------------------------------------\n",
      "\n",
      "- After -\n",
      "{'age': tensor([57., 57., 70., 70.], device='cuda:0'),\n",
      " 'class_label': tensor([0, 0, 0, 0], device='cuda:0'),\n",
      " 'class_name': ['Normal', 'Normal', 'Normal', 'Normal'],\n",
      " 'serial': ['00497', '00497', '00103', '00103'],\n",
      " 'signal': tensor([[[   3.,    1.,   -4.,  ...,  -10.,   -7.,   -6.],\n",
      "         [  -3.,   -2.,   -1.,  ...,   -3.,   -1.,    0.],\n",
      "         [   1.,    4.,    3.,  ...,   -3.,   -3.,   -4.],\n",
      "         ...,\n",
      "         [  -5.,   -4.,   -7.,  ...,   -6.,   -5.,   -5.],\n",
      "         [  -5.,   -4.,   -5.,  ...,    3.,    5.,    3.],\n",
      "         [  44.,   81.,   98.,  ...,  -64.,  -28.,  -12.]],\n",
      "\n",
      "        [[ -44.,  -46.,  -48.,  ...,    1.,   -3.,   -3.],\n",
      "         [ -17.,  -17.,  -18.,  ...,   -2.,   -5.,   -5.],\n",
      "         [  -5.,   -5.,   -5.,  ...,    7.,    9.,    8.],\n",
      "         ...,\n",
      "         [  -5.,   -3.,   -3.,  ...,   -5.,   -3.,   -3.],\n",
      "         [   2.,    4.,    4.,  ...,   -9.,   -5.,   -4.],\n",
      "         [  63.,   77.,  102.,  ...,  -63.,  -38.,  -37.]],\n",
      "\n",
      "        [[  -2.,   -4.,   -4.,  ...,  -24.,  -21.,  -19.],\n",
      "         [  -4.,    0.,    4.,  ...,  -12.,  -10.,  -10.],\n",
      "         [   7.,   11.,   15.,  ...,    1.,    3.,    5.],\n",
      "         ...,\n",
      "         [   4.,    8.,   12.,  ...,    1.,    0.,    0.],\n",
      "         [   3.,    3.,    4.,  ...,    7.,    6.,    5.],\n",
      "         [-260.,  -19.,  124.,  ...,  -17.,  -21.,  -29.]],\n",
      "\n",
      "        [[  32.,   35.,   36.,  ...,   69.,   66.,   61.],\n",
      "         [   8.,    7.,    8.,  ...,    6.,    4.,    1.],\n",
      "         [   3.,    5.,    4.,  ...,    2.,    0.,   -3.],\n",
      "         ...,\n",
      "         [  -4.,   -3.,   -5.,  ...,    1.,   -1.,   -5.],\n",
      "         [  -4.,   -3.,   -4.,  ...,    2.,    1.,   -1.],\n",
      "         [  -1.,   -3.,   10.,  ...,  -28.,  -36.,  -52.]]], device='cuda:0'),\n",
      " 'symptom': [['normal', 'smi'],\n",
      "             ['normal', 'smi'],\n",
      "             ['normal', 'cb_normal'],\n",
      "             ['normal', 'cb_normal']]}\n"
     ]
    }
   ],
   "source": [
    "print('device:', device)\n",
    "print()\n",
    "\n",
    "preprocess_train = transforms.Compose([EegToDevice(device=device)])\n",
    "preprocess_train = torch.nn.Sequential(*preprocess_train.transforms).to(device)\n",
    "pprint.pprint(preprocess_train)\n",
    "\n",
    "for i_batch, sample_batched in enumerate(train_loader):\n",
    "    print('- Before -')\n",
    "    pprint.pprint(sample_batched)\n",
    "\n",
    "    print()\n",
    "    print('-' * 100)\n",
    "    print()\n",
    "    \n",
    "    preprocess_train(sample_batched)\n",
    "    \n",
    "    print('- After -')\n",
    "    pprint.pprint(sample_batched)\n",
    "    break"
   ]
  },
  {
   "cell_type": "markdown",
   "metadata": {
    "pycharm": {
     "name": "#%% md\n"
    }
   },
   "source": [
    "### Normalization per signal"
   ]
  },
  {
   "cell_type": "code",
   "execution_count": 29,
   "metadata": {
    "pycharm": {
     "name": "#%%\n"
    }
   },
   "outputs": [
    {
     "name": "stdout",
     "output_type": "stream",
     "text": [
      "Sequential(\n",
      "  (0): EegToDevice(device=cuda)\n",
      "  (1): EegNormalizePerSignal(eps=1e-08)\n",
      ")\n",
      "- Before -\n",
      "Mean: tensor([[ 4.0060,  0.6150,  0.7960,  1.3665,  0.3060,  0.4480, -1.6430, -0.5550,\n",
      "         -0.2125,  0.1675, -0.1275,  1.3010,  0.3540, -0.5905, -3.8095, -0.4695,\n",
      "          0.9610,  0.1305,  0.0095, -0.2920],\n",
      "        [ 0.7465,  0.3265, -0.4710, -0.3020, -0.5850, -1.3090, -0.9440, -0.7555,\n",
      "         -0.9220, -0.5595,  2.9785,  0.3035, -0.6420, -1.8255,  0.1035, -0.7305,\n",
      "         -0.2445,  0.7690,  0.8820,  0.3430],\n",
      "        [-4.2775, -1.3325,  0.6585, -0.0600, -1.0890, -1.2195,  1.1875, -1.2030,\n",
      "         -0.1740,  0.1605,  0.0220,  0.6605,  0.0855,  1.6840,  1.2235,  0.9715,\n",
      "         -3.1590, -0.1015,  0.4140, -0.0960],\n",
      "        [ 4.4520,  1.2520, -0.2580,  0.3045,  0.6555, -2.3015,  0.0335, -0.6465,\n",
      "          0.2775, -0.3430, -0.8940,  1.4865,  0.0755, -2.5560, -0.8160, -0.0795,\n",
      "          1.1965,  0.6850, -0.3305,  0.5715]])\n",
      "\n",
      "Std: tensor([[ 10.0899,   7.9725,   5.3464,   6.3704,   9.3541,  11.9216,  10.6342,\n",
      "           6.0773,   6.3521,   9.2126,  14.2523,   8.7721,  11.4283,  13.6565,\n",
      "          10.0668,  12.5662,   5.9647,   5.9672,   5.5109,  69.7833],\n",
      "        [ 18.0187,  10.4681,   3.6004,   5.6338,   5.0143,  20.2768,   8.8741,\n",
      "           4.3402,   5.1659,   5.5828,  13.8529,   6.1905,   7.4545,   8.0073,\n",
      "           7.0372,   7.1499,   5.3611,   6.5570,   9.5260,  70.4775],\n",
      "        [ 38.3386,  12.3287,   4.9378,   5.7875,   7.2063,  44.6343,  16.9524,\n",
      "           6.1202,   5.8539,   8.2837,  13.4322,   6.2100,   8.0806,  11.3030,\n",
      "           7.5251,   6.2827,  18.5203,   5.6869,   6.1988, 109.4430],\n",
      "        [ 43.0682,  24.4745,   3.8346,   7.4345,   6.3870,  30.3226,  18.7236,\n",
      "           4.5198,   5.8981,   6.3669,  13.4427,   4.1153,   6.0786,   8.9750,\n",
      "           8.5917,   6.9769,  39.6355,   5.7765,   6.5425, 109.4449]])\n",
      "\n",
      "----------------------------------------------------------------------------------------------------\n",
      "\n",
      "- After -\n",
      "Mean: tensor([[-2.2888e-08,  2.0981e-08,  0.0000e+00,  1.7166e-08,  1.8597e-08,\n",
      "         -1.9073e-09, -1.1444e-08,  3.8147e-09, -7.6294e-09,  1.9073e-08,\n",
      "          1.9073e-08,  2.3842e-09, -9.5367e-09, -6.6757e-09, -1.3351e-08,\n",
      "         -9.5367e-09, -9.5367e-09,  3.8147e-09,  1.1444e-08, -1.1444e-08],\n",
      "        [ 0.0000e+00,  9.5367e-09,  2.3842e-09,  3.8147e-09,  7.6294e-09,\n",
      "          7.6294e-09,  2.2888e-08,  1.1444e-08, -1.5259e-08,  7.6294e-09,\n",
      "         -1.1444e-08, -9.5367e-09,  1.1444e-08, -3.8147e-09, -7.6294e-09,\n",
      "          1.1444e-08,  3.0518e-08, -1.1444e-08,  0.0000e+00, -9.5367e-10],\n",
      "        [-3.8147e-09,  2.6703e-08, -7.6294e-09,  7.6294e-09,  1.1444e-08,\n",
      "          3.8147e-09,  0.0000e+00,  4.7684e-09, -2.0981e-08,  1.0490e-08,\n",
      "         -9.5367e-10,  1.5259e-08,  0.0000e+00,  5.7220e-09,  1.0490e-08,\n",
      "          0.0000e+00,  9.5367e-09, -1.9073e-09,  1.1444e-08, -7.6294e-09],\n",
      "        [-1.3351e-08,  2.8610e-09, -1.6212e-08,  5.7220e-09, -7.6294e-09,\n",
      "         -3.8147e-09, -8.5831e-09,  9.5367e-09, -1.0252e-08,  1.5259e-08,\n",
      "         -1.1444e-08, -6.4850e-08,  9.5367e-09, -2.2888e-08, -5.7220e-09,\n",
      "          1.0490e-08,  2.1696e-08, -3.8147e-09, -2.8610e-09, -2.2888e-08]],\n",
      "       device='cuda:0')\n",
      "\n",
      "Std: tensor([[1.0000, 1.0000, 1.0000, 1.0000, 1.0000, 1.0000, 1.0000, 1.0000, 1.0000,\n",
      "         1.0000, 1.0000, 1.0000, 1.0000, 1.0000, 1.0000, 1.0000, 1.0000, 1.0000,\n",
      "         1.0000, 1.0000],\n",
      "        [1.0000, 1.0000, 1.0000, 1.0000, 1.0000, 1.0000, 1.0000, 1.0000, 1.0000,\n",
      "         1.0000, 1.0000, 1.0000, 1.0000, 1.0000, 1.0000, 1.0000, 1.0000, 1.0000,\n",
      "         1.0000, 1.0000],\n",
      "        [1.0000, 1.0000, 1.0000, 1.0000, 1.0000, 1.0000, 1.0000, 1.0000, 1.0000,\n",
      "         1.0000, 1.0000, 1.0000, 1.0000, 1.0000, 1.0000, 1.0000, 1.0000, 1.0000,\n",
      "         1.0000, 1.0000],\n",
      "        [1.0000, 1.0000, 1.0000, 1.0000, 1.0000, 1.0000, 1.0000, 1.0000, 1.0000,\n",
      "         1.0000, 1.0000, 1.0000, 1.0000, 1.0000, 1.0000, 1.0000, 1.0000, 1.0000,\n",
      "         1.0000, 1.0000]], device='cuda:0')\n"
     ]
    }
   ],
   "source": [
    "preprocess_train = transforms.Compose([\n",
    "    EegToDevice(device=device), \n",
    "    EegNormalizePerSignal()\n",
    "])\n",
    "preprocess_train = torch.nn.Sequential(*preprocess_train.transforms).to(device)\n",
    "pprint.pprint(preprocess_train)\n",
    "\n",
    "for i_batch, sample_batched in enumerate(train_loader):\n",
    "    print('- Before -')\n",
    "    print('Mean:', torch.mean(sample_batched['signal'], axis=-1))\n",
    "    print()\n",
    "    print('Std:', torch.std(sample_batched['signal'], axis=-1))\n",
    "\n",
    "    print()\n",
    "    print('-' * 100)\n",
    "    print()\n",
    "    \n",
    "    preprocess_train(sample_batched)\n",
    "    \n",
    "    print('- After -')\n",
    "    print('Mean:', torch.mean(sample_batched['signal'], axis=-1))\n",
    "    print()\n",
    "    print('Std:', torch.std(sample_batched['signal'], axis=-1))\n",
    "    break"
   ]
  },
  {
   "cell_type": "markdown",
   "metadata": {
    "pycharm": {
     "name": "#%% md\n"
    }
   },
   "source": [
    "### Signal normalization using the specified mean and std values"
   ]
  },
  {
   "cell_type": "code",
   "execution_count": 30,
   "metadata": {
    "pycharm": {
     "name": "#%%\n"
    }
   },
   "outputs": [
    {
     "name": "stdout",
     "output_type": "stream",
     "text": [
      "Mean and standard deviation for signal:\n",
      "tensor([[[-0.0359],\n",
      "         [ 0.0304],\n",
      "         [-0.1009],\n",
      "         [ 0.0230],\n",
      "         [-0.0015],\n",
      "         [-0.0228],\n",
      "         [ 0.1051],\n",
      "         [-0.1024],\n",
      "         [-0.0823],\n",
      "         [ 0.1393],\n",
      "         [ 0.0105],\n",
      "         [ 0.1269],\n",
      "         [ 0.2591],\n",
      "         [ 0.0407],\n",
      "         [-0.0728],\n",
      "         [-0.0767],\n",
      "         [-0.2653],\n",
      "         [ 0.0130],\n",
      "         [-0.0072],\n",
      "         [ 0.0019]]])\n",
      "-\n",
      "tensor([[[44.5781],\n",
      "         [19.7245],\n",
      "         [11.6635],\n",
      "         [12.1446],\n",
      "         [14.6613],\n",
      "         [47.3535],\n",
      "         [19.4451],\n",
      "         [10.3273],\n",
      "         [11.5484],\n",
      "         [15.2525],\n",
      "         [19.9712],\n",
      "         [13.9477],\n",
      "         [13.4642],\n",
      "         [21.2484],\n",
      "         [17.3686],\n",
      "         [14.2186],\n",
      "         [19.4747],\n",
      "         [10.9813],\n",
      "         [11.1437],\n",
      "         [94.1633]]])\n",
      "\n",
      "----------------------------------------------------------------------------------------------------\n",
      "\n",
      "Sequential(\n",
      "  (0): EegToDevice(device=cuda)\n",
      "  (1): EegNormalizeMeanStd(mean=tensor([-0.0359,  0.0304, -0.1009,  0.0230, -0.0015, -0.0228,  0.1051, -0.1024,\n",
      "          -0.0823,  0.1393,  0.0105,  0.1269,  0.2591,  0.0407, -0.0728, -0.0767,\n",
      "          -0.2653,  0.0130, -0.0072,  0.0019]),std=tensor([44.5781, 19.7245, 11.6635, 12.1446, 14.6613, 47.3535, 19.4451, 10.3273,\n",
      "          11.5484, 15.2525, 19.9712, 13.9477, 13.4642, 21.2484, 17.3686, 14.2186,\n",
      "          19.4747, 10.9813, 11.1437, 94.1633]),eps=1e-08)\n",
      ")\n",
      "- Before -\n",
      "Mean: tensor([[-1.4930e+00, -1.6620e+00, -1.2375e+00,  4.3835e+00, -2.8180e+00,\n",
      "         -1.2450e+00, -2.1300e-01,  1.7425e+00,  9.0000e-01, -7.5500e-02,\n",
      "         -3.0250e-01, -6.7900e-01, -5.2300e-01,  1.8165e+00, -1.7925e+00,\n",
      "          9.0350e-01, -6.2600e-01, -1.9430e+00,  2.1055e+00, -1.6550e-01],\n",
      "        [ 1.6030e+00, -2.5065e+00,  8.5000e-02,  2.1085e+00,  1.6450e-01,\n",
      "         -1.9010e+00,  1.0370e+00, -2.5970e+00,  2.1575e+00,  1.0315e+00,\n",
      "         -2.2550e-01, -4.0000e-03,  1.0880e+00, -6.7550e-01,  4.8300e-01,\n",
      "          3.5325e+00, -1.3990e+00,  9.3500e-02, -4.3940e+00,  9.2500e-02],\n",
      "        [-8.2070e+00,  2.7675e+00,  1.2550e-01, -6.6550e-01, -5.2750e-01,\n",
      "         -7.3595e+00, -2.0430e+00, -1.1320e+00, -9.6750e-01, -8.4350e-01,\n",
      "          8.6500e-01,  3.1300e-01, -1.2495e+00,  1.4695e+00,  4.7070e+00,\n",
      "         -1.4395e+00,  3.0500e-01, -4.8900e-01, -1.2360e+00, -2.7000e-02],\n",
      "        [ 4.5470e+00,  2.2365e+00, -2.7700e-01,  7.6750e-01,  8.3300e-01,\n",
      "          4.6000e-02,  6.1700e-01,  6.5900e-01,  4.6800e-01,  8.6100e-01,\n",
      "         -1.0360e+00, -1.0950e+00, -1.1400e-01,  1.8795e+00, -5.4960e+00,\n",
      "          1.0465e+00, -1.6025e+00,  5.1600e-01, -2.6150e-01, -3.8050e-01]])\n",
      "\n",
      "Std: tensor([[ 10.4192,  14.3619,   9.7142,  10.0160,   6.4095,   9.5182,   9.0778,\n",
      "           5.8409,   8.9704,   8.3705,   6.5417,   8.3702,   5.8562,   8.9602,\n",
      "           8.0838,   8.9279,   7.9416,  14.8759,  10.3556, 177.5603],\n",
      "        [ 14.6312,  17.8618,   8.3735,  16.8903,   9.3023,   9.9108,   7.8793,\n",
      "           9.9807,  12.4141,   6.0702,   7.8656,   6.9402,   5.6923,   7.6159,\n",
      "           6.8753,   6.7957,  12.3691,  13.2779,   9.6444, 179.6421],\n",
      "        [ 21.2619,   7.5957,   6.8609,   5.9850,   7.0405,  51.4957,   7.9076,\n",
      "           6.4120,   6.8559,   6.8900,  19.9621,   6.9050,   6.2715,  30.6965,\n",
      "          64.0190,   6.8423,   8.3508,   5.8761,   6.7687, 170.2633],\n",
      "        [ 14.4399,  10.7207,   7.3462,   6.1996,   6.8567,  32.1643,  11.7132,\n",
      "           6.0926,   5.4817,   7.0574,  18.5551,  11.7092,   8.4510,  27.9830,\n",
      "          15.4858,   6.7383,   8.2014,   5.6702,   6.0182, 165.3896]])\n",
      "\n",
      "----------------------------------------------------------------------------------------------------\n",
      "\n",
      "- After -\n",
      "Mean: tensor([[-3.2687e-02, -8.5804e-02, -9.7448e-02,  3.5904e-01, -1.9211e-01,\n",
      "         -2.5810e-02, -1.6358e-02,  1.7864e-01,  8.5058e-02, -1.4084e-02,\n",
      "         -1.5673e-02, -5.7784e-02, -5.8087e-02,  8.3573e-02, -9.9014e-02,\n",
      "          6.8936e-02, -1.8520e-02, -1.7812e-01,  1.8959e-01, -1.7773e-03],\n",
      "        [ 3.6764e-02, -1.2862e-01,  1.5941e-02,  1.7172e-01,  1.1322e-02,\n",
      "         -3.9663e-02,  4.7925e-02, -2.4156e-01,  1.9395e-01,  5.8494e-02,\n",
      "         -1.1817e-02, -9.3886e-03,  6.1563e-02, -3.3706e-02,  3.1999e-02,\n",
      "          2.5383e-01, -5.8213e-02,  7.3292e-03, -3.9365e-01,  9.6264e-04],\n",
      "        [-1.8330e-01,  1.3876e-01,  1.9413e-02, -5.6695e-02, -3.5877e-02,\n",
      "         -1.5493e-01, -1.1047e-01, -9.9701e-02, -7.6654e-02, -6.4436e-02,\n",
      "          4.2786e-02,  1.3339e-02, -1.1205e-01,  6.7243e-02,  2.7520e-01,\n",
      "         -9.5848e-02,  2.9285e-02, -4.5715e-02, -1.1026e-01, -3.0643e-04],\n",
      "        [ 1.0281e-01,  1.1184e-01, -1.5096e-02,  6.1300e-02,  5.6919e-02,\n",
      "          1.4533e-03,  2.6326e-02,  7.3724e-02,  4.7650e-02,  4.7316e-02,\n",
      "         -5.2400e-02, -8.7609e-02, -2.7710e-02,  8.6538e-02, -3.1224e-01,\n",
      "          7.8993e-02, -6.8662e-02,  4.5804e-02, -2.2817e-02, -4.0606e-03]],\n",
      "       device='cuda:0')\n",
      "\n",
      "Std: tensor([[0.2337, 0.7281, 0.8329, 0.8247, 0.4372, 0.2010, 0.4668, 0.5656, 0.7768,\n",
      "         0.5488, 0.3276, 0.6001, 0.4349, 0.4217, 0.4654, 0.6279, 0.4078, 1.3547,\n",
      "         0.9293, 1.8857],\n",
      "        [0.3282, 0.9056, 0.7179, 1.3908, 0.6345, 0.2093, 0.4052, 0.9664, 1.0750,\n",
      "         0.3980, 0.3938, 0.4976, 0.4228, 0.3584, 0.3958, 0.4779, 0.6351, 1.2091,\n",
      "         0.8655, 1.9078],\n",
      "        [0.4770, 0.3851, 0.5882, 0.4928, 0.4802, 1.0875, 0.4067, 0.6209, 0.5937,\n",
      "         0.4517, 0.9995, 0.4951, 0.4658, 1.4446, 3.6859, 0.4812, 0.4288, 0.5351,\n",
      "         0.6074, 1.8082],\n",
      "        [0.3239, 0.5435, 0.6298, 0.5105, 0.4677, 0.6792, 0.6024, 0.5899, 0.4747,\n",
      "         0.4627, 0.9291, 0.8395, 0.6277, 1.3169, 0.8916, 0.4739, 0.4211, 0.5163,\n",
      "         0.5400, 1.7564]], device='cuda:0')\n"
     ]
    }
   ],
   "source": [
    "signal_mean, signal_std = calculate_signal_statistics(train_loader, repeats=1, verbose=True)\n",
    "\n",
    "preprocess_train = transforms.Compose([\n",
    "    EegToDevice(device=device), \n",
    "    EegNormalizeMeanStd(mean=signal_mean, std=signal_std)\n",
    "])\n",
    "preprocess_train = torch.nn.Sequential(*preprocess_train.transforms).to(device)\n",
    "pprint.pprint(preprocess_train)\n",
    "\n",
    "for i_batch, sample_batched in enumerate(train_loader):\n",
    "    print('- Before -')\n",
    "    print('Mean:', torch.mean(sample_batched['signal'], axis=-1))\n",
    "    print()\n",
    "    print('Std:', torch.std(sample_batched['signal'], axis=-1))\n",
    "\n",
    "    print()\n",
    "    print('-' * 100)\n",
    "    print()\n",
    "    \n",
    "    preprocess_train(sample_batched)\n",
    "    \n",
    "    print('- After -')\n",
    "    print('Mean:', torch.mean(sample_batched['signal'], axis=-1))\n",
    "    print()\n",
    "    print('Std:', torch.std(sample_batched['signal'], axis=-1))\n",
    "    break"
   ]
  },
  {
   "cell_type": "markdown",
   "metadata": {
    "pycharm": {
     "name": "#%% md\n"
    }
   },
   "source": [
    "### Age normalization"
   ]
  },
  {
   "cell_type": "code",
   "execution_count": 31,
   "metadata": {
    "pycharm": {
     "name": "#%%\n"
    }
   },
   "outputs": [
    {
     "name": "stdout",
     "output_type": "stream",
     "text": [
      "Age mean and standard deviation:\n",
      "tensor([71.2453]) tensor([6.2074])\n",
      "\n",
      "----------------------------------------------------------------------------------------------------\n",
      "\n",
      "Sequential(\n",
      "  (0): EegToDevice(device=cuda)\n",
      "  (1): EegNormalizeAge(mean=tensor([71.2453]),std=tensor([6.2074]),eps=1e-08)\n",
      ")\n",
      "- Before -\n",
      "tensor([63., 63., 76., 76.])\n",
      "\n",
      "----------------------------------------------------------------------------------------------------\n",
      "\n",
      "- After -\n",
      "tensor([-1.3283, -1.3283,  0.7660,  0.7660], device='cuda:0')\n"
     ]
    }
   ],
   "source": [
    "age_mean, age_std = calculate_age_statistics(train_loader, verbose=True)\n",
    "\n",
    "preprocess_train = transforms.Compose([\n",
    "    EegToDevice(device=device), \n",
    "    EegNormalizeAge(mean=age_mean, std=age_std)\n",
    "])\n",
    "preprocess_train = torch.nn.Sequential(*preprocess_train.transforms).to(device)\n",
    "pprint.pprint(preprocess_train)\n",
    "\n",
    "for i_batch, sample_batched in enumerate(train_loader):\n",
    "    print('- Before -')\n",
    "    pprint.pprint(sample_batched['age'])\n",
    "\n",
    "    print()\n",
    "    print('-' * 100)\n",
    "    print()\n",
    "    \n",
    "    preprocess_train(sample_batched)\n",
    "    \n",
    "    print('- After -')\n",
    "    pprint.pprint(sample_batched['age'])\n",
    "    break"
   ]
  },
  {
   "cell_type": "markdown",
   "metadata": {
    "pycharm": {
     "name": "#%% md\n"
    }
   },
   "source": [
    "### Short time Fourier transform (STFT or spectrogram)"
   ]
  },
  {
   "cell_type": "code",
   "execution_count": 32,
   "metadata": {
    "pycharm": {
     "name": "#%%\n"
    }
   },
   "outputs": [
    {
     "name": "stdout",
     "output_type": "stream",
     "text": [
      "Sequential(\n",
      "  (0): EegToDevice(device=cuda)\n",
      "  (1): EegSpectrogram(n_fft=200, complex_mode=as_real, stft_kwargs={})\n",
      ")\n",
      "- Before -\n",
      "torch.Size([4, 20, 2000])\n",
      "\n",
      "----------------------------------------------------------------------------------------------------\n",
      "\n",
      "- After -\n",
      "torch.Size([4, 40, 101, 41])\n"
     ]
    }
   ],
   "source": [
    "preprocess_train = transforms.Compose([\n",
    "    EegToDevice(device=device), \n",
    "    EegSpectrogram(n_fft=200, complex_mode='as_real')\n",
    "])\n",
    "preprocess_train = torch.nn.Sequential(*preprocess_train.transforms).to(device)\n",
    "pprint.pprint(preprocess_train)\n",
    "\n",
    "for i_batch, sample_batched in enumerate(train_loader):\n",
    "    print('- Before -')\n",
    "    pprint.pprint(sample_batched['signal'].shape)\n",
    "\n",
    "    print()\n",
    "    print('-' * 100)\n",
    "    print()\n",
    "    \n",
    "    preprocess_train(sample_batched)\n",
    "    \n",
    "    print('- After -')\n",
    "    pprint.pprint(sample_batched['signal'].shape)\n",
    "    break"
   ]
  },
  {
   "cell_type": "markdown",
   "metadata": {
    "pycharm": {
     "name": "#%% md\n"
    }
   },
   "source": [
    "### Signal normalization after STFT"
   ]
  },
  {
   "cell_type": "code",
   "execution_count": 33,
   "metadata": {
    "pycharm": {
     "name": "#%%\n"
    }
   },
   "outputs": [
    {
     "name": "stdout",
     "output_type": "stream",
     "text": [
      "Sequential(\n",
      "  (0): EegToDevice(device=cuda)\n",
      "  (1): EegSpectrogram(n_fft=200, complex_mode=as_real, stft_kwargs={})\n",
      ")\n",
      "Sequential(\n",
      "  (0): EegNormalizeMeanStd(mean=tensor([[ 1.9803e+01, -1.1851e-01, -6.5353e-02,  ...,  5.7606e-02,\n",
      "            6.0533e-02,  5.8555e-02],\n",
      "          [ 5.1859e+00, -9.6052e-02, -1.2185e-01,  ..., -2.4899e-03,\n",
      "           -3.4110e-03,  1.1990e-02],\n",
      "          [-1.8010e+00, -5.8296e-02, -3.1889e-01,  ...,  3.3537e-03,\n",
      "            2.3817e-03, -1.5474e-02],\n",
      "          ...,\n",
      "          [ 0.0000e+00,  3.1651e-01,  2.3858e-01,  ...,  1.4515e-03,\n",
      "            2.5028e-03, -4.6628e-09],\n",
      "          [ 0.0000e+00,  2.7054e-01,  2.6525e-01,  ..., -3.3427e-04,\n",
      "           -9.2521e-04, -1.5035e-08],\n",
      "          [ 0.0000e+00, -1.1111e+00, -2.6718e-01,  ..., -1.8196e-03,\n",
      "           -1.3766e-02,  1.4751e-07]], device='cuda:0'),std=tensor([[7.5293e+03, 1.5227e+03, 7.7860e+02,  ..., 2.9198e+01, 2.9174e+01,\n",
      "           2.9401e+01],\n",
      "          [3.3492e+03, 5.9845e+02, 3.0433e+02,  ..., 1.3521e+01, 1.3479e+01,\n",
      "           1.3849e+01],\n",
      "          [1.8365e+03, 2.9069e+02, 1.5825e+02,  ..., 8.2452e+00, 8.1927e+00,\n",
      "           8.7746e+00],\n",
      "          ...,\n",
      "          [0.0000e+00, 4.5751e+02, 2.4879e+02,  ..., 2.7927e+00, 2.8773e+00,\n",
      "           3.2719e-06],\n",
      "          [0.0000e+00, 4.8862e+02, 2.6449e+02,  ..., 2.7970e+00, 2.8809e+00,\n",
      "           3.2364e-06],\n",
      "          [0.0000e+00, 2.1171e+03, 1.9813e+03,  ..., 3.6561e+00, 4.7921e+00,\n",
      "           5.9524e-05]], device='cuda:0'),eps=1e-08)\n",
      ")\n",
      "- Before -\n",
      "Mean: tensor([[[ 6.0290e+03, -8.2796e+01, -2.8875e+01,  ..., -9.8768e+00,\n",
      "          -9.7073e+00, -8.4634e+00],\n",
      "         [ 9.1144e+02,  9.8720e+00, -2.6912e+00,  ..., -1.5642e+00,\n",
      "          -1.5814e+00, -1.2439e+00],\n",
      "         [ 5.8390e+01,  1.7362e+00,  1.0561e+00,  ..., -9.5758e-01,\n",
      "          -9.7428e-01, -2.4878e+00],\n",
      "         ...,\n",
      "         [ 0.0000e+00,  7.3088e+01,  4.1064e+01,  ...,  6.7662e-02,\n",
      "           1.0497e-01, -7.3117e-07],\n",
      "         [ 0.0000e+00, -2.4224e+01, -9.3813e+00,  ..., -5.1804e-02,\n",
      "           7.9603e-03,  8.4424e-07],\n",
      "         [ 0.0000e+00,  3.4089e+01,  1.8609e+01,  ...,  5.6124e-02,\n",
      "           1.1700e-01,  5.4362e-06]],\n",
      "\n",
      "        [[ 1.1807e+02, -2.6480e+01,  9.2665e+00,  ..., -2.8743e+00,\n",
      "          -2.8955e+00, -4.1707e+00],\n",
      "         [-3.3946e+02, -2.6313e+00,  8.1135e+00,  ...,  2.2980e-01,\n",
      "           1.6201e-01,  1.3659e+00],\n",
      "         [-1.0620e+02,  2.2303e+00,  3.2304e+00,  ..., -3.7468e-02,\n",
      "          -3.2252e-02, -1.1220e+00],\n",
      "         ...,\n",
      "         [ 0.0000e+00, -3.8231e+01, -2.2756e+01,  ...,  8.4778e-02,\n",
      "          -8.4847e-03,  8.4704e-07],\n",
      "         [ 0.0000e+00, -8.3660e+01, -3.8677e+01,  ...,  5.6346e-02,\n",
      "           1.6878e-01,  1.9697e-06],\n",
      "         [ 0.0000e+00,  1.1469e+02,  2.0148e+01,  ...,  1.2151e-01,\n",
      "           2.2156e-01, -4.4059e-06]],\n",
      "\n",
      "        [[ 1.6309e+03, -2.7344e+00, -3.8729e+00,  ...,  3.3962e-01,\n",
      "           3.3552e-01, -7.3170e-02],\n",
      "         [ 5.0673e+02, -3.8051e+00, -3.2187e+00,  ..., -2.3572e-01,\n",
      "          -1.7499e-01, -2.4390e-01],\n",
      "         [-4.8946e+02, -6.7802e+00, -7.2871e-01,  ...,  1.0030e-02,\n",
      "          -1.3595e-02, -1.7073e+00],\n",
      "         ...,\n",
      "         [ 0.0000e+00, -5.5201e+00, -2.9833e+00,  ..., -8.9113e-02,\n",
      "          -1.6129e-01,  1.4320e-06],\n",
      "         [ 0.0000e+00, -5.7582e+01, -2.7619e+01,  ...,  4.1048e-02,\n",
      "          -5.7698e-02,  9.0898e-07],\n",
      "         [ 0.0000e+00,  1.7454e+01,  1.4496e+01,  ...,  6.3457e-01,\n",
      "           3.5312e-01, -3.9067e-06]],\n",
      "\n",
      "        [[-8.6593e+02, -7.1807e+00, -1.6681e+01,  ..., -1.9454e+00,\n",
      "          -1.9198e+00, -8.5366e-01],\n",
      "         [-2.9732e+02,  5.9718e+00, -8.2425e+00,  ..., -1.1281e+00,\n",
      "          -1.0880e+00, -1.2195e+00],\n",
      "         [-1.9510e+02,  5.3716e+00,  3.8223e+00,  ..., -6.2320e-01,\n",
      "          -4.4418e-01, -7.0732e-01],\n",
      "         ...,\n",
      "         [ 0.0000e+00,  1.3569e+01,  1.2444e+01,  ..., -5.6824e-02,\n",
      "          -1.5758e-02,  4.0935e-07],\n",
      "         [ 0.0000e+00, -7.9978e+01, -3.4821e+01,  ..., -9.2241e-02,\n",
      "          -1.4356e-01,  4.0304e-07],\n",
      "         [ 0.0000e+00,  7.0701e+01, -6.8374e+01,  ...,  5.8111e-03,\n",
      "          -3.3093e-01, -1.6898e-05]]], device='cuda:0')\n",
      "\n",
      "Std: tensor([[[1.1324e+04, 2.1427e+03, 5.4899e+02,  ..., 3.9344e+01,\n",
      "          3.9245e+01, 4.0741e+01],\n",
      "         [4.8738e+03, 4.0874e+02, 1.3524e+02,  ..., 1.3140e+01,\n",
      "          1.2862e+01, 1.2488e+01],\n",
      "         [1.5375e+03, 1.5948e+02, 7.6655e+01,  ..., 7.0035e+00,\n",
      "          6.0696e+00, 6.1120e+00],\n",
      "         ...,\n",
      "         [0.0000e+00, 4.7977e+02, 2.5052e+02,  ..., 2.4753e+00,\n",
      "          2.5916e+00, 6.1814e-06],\n",
      "         [0.0000e+00, 4.4965e+02, 2.3816e+02,  ..., 3.2084e+00,\n",
      "          2.6742e+00, 3.0906e-06],\n",
      "         [0.0000e+00, 1.8464e+03, 1.7641e+03,  ..., 3.5239e+00,\n",
      "          4.4852e+00, 5.6452e-05]],\n",
      "\n",
      "        [[2.8749e+03, 4.7991e+02, 2.4505e+02,  ..., 1.0628e+01,\n",
      "          1.0295e+01, 1.1662e+01],\n",
      "         [2.2265e+03, 2.2600e+02, 1.6870e+02,  ..., 8.0083e+00,\n",
      "          8.1517e+00, 7.8414e+00],\n",
      "         [7.5040e+02, 1.5970e+02, 1.2458e+02,  ..., 3.7887e+00,\n",
      "          4.0128e+00, 4.6108e+00],\n",
      "         ...,\n",
      "         [0.0000e+00, 4.9708e+02, 3.5053e+02,  ..., 3.3470e+00,\n",
      "          2.9835e+00, 5.0205e-06],\n",
      "         [0.0000e+00, 4.6226e+02, 2.2490e+02,  ..., 3.4835e+00,\n",
      "          3.2628e+00, 2.3514e-06],\n",
      "         [0.0000e+00, 1.8557e+03, 1.6777e+03,  ..., 3.8348e+00,\n",
      "          3.3194e+00, 5.7601e-05]],\n",
      "\n",
      "        [[2.8872e+03, 4.0205e+02, 1.8663e+02,  ..., 1.1796e+01,\n",
      "          1.1379e+01, 1.0422e+01],\n",
      "         [9.0741e+02, 2.6796e+02, 1.4627e+02,  ..., 6.1334e+00,\n",
      "          6.8982e+00, 6.3355e+00],\n",
      "         [1.8380e+03, 2.1290e+02, 1.5055e+02,  ..., 6.5166e+00,\n",
      "          6.5878e+00, 5.7630e+00],\n",
      "         ...,\n",
      "         [0.0000e+00, 2.2260e+02, 1.8032e+02,  ..., 2.8295e+00,\n",
      "          2.7391e+00, 2.8007e-06],\n",
      "         [0.0000e+00, 4.3099e+02, 2.4089e+02,  ..., 3.1751e+00,\n",
      "          2.9067e+00, 3.8692e-06],\n",
      "         [0.0000e+00, 4.1793e+03, 2.3519e+03,  ..., 5.5466e+00,\n",
      "          3.7539e+00, 7.6223e-05]],\n",
      "\n",
      "        [[6.0866e+03, 7.4316e+02, 3.5134e+02,  ..., 2.0532e+01,\n",
      "          2.0466e+01, 2.0164e+01],\n",
      "         [1.6442e+03, 2.8541e+02, 1.9548e+02,  ..., 6.9688e+00,\n",
      "          7.2791e+00, 9.8095e+00],\n",
      "         [1.6141e+03, 2.0938e+02, 9.9380e+01,  ..., 6.4799e+00,\n",
      "          6.5293e+00, 6.4817e+00],\n",
      "         ...,\n",
      "         [0.0000e+00, 1.9854e+02, 1.4368e+02,  ..., 2.9366e+00,\n",
      "          3.1844e+00, 2.0017e-06],\n",
      "         [0.0000e+00, 5.1879e+02, 2.3165e+02,  ..., 1.9453e+00,\n",
      "          3.1261e+00, 4.3179e-06],\n",
      "         [0.0000e+00, 4.3631e+03, 2.7793e+03,  ..., 4.6936e+00,\n",
      "          4.2788e+00, 1.0202e-04]]], device='cuda:0')\n",
      "\n",
      "----------------------------------------------------------------------------------------------------\n",
      "\n",
      "- After -\n",
      "Mean: tensor([[[ 0.7981, -0.0543, -0.0370,  ..., -0.3402, -0.3348, -0.2899],\n",
      "         [ 0.2706,  0.0167, -0.0084,  ..., -0.1155, -0.1171, -0.0907],\n",
      "         [ 0.0328,  0.0062,  0.0087,  ..., -0.1165, -0.1192, -0.2818],\n",
      "         ...,\n",
      "         [ 0.0000,  0.1591,  0.1641,  ...,  0.0237,  0.0356, -0.2214],\n",
      "         [ 0.0000, -0.0501, -0.0365,  ..., -0.0184,  0.0031,  0.2647],\n",
      "         [ 0.0000,  0.0166,  0.0095,  ...,  0.0158,  0.0273,  0.0888]],\n",
      "\n",
      "        [[ 0.0131, -0.0173,  0.0120,  ..., -0.1004, -0.1013, -0.1438],\n",
      "         [-0.1029, -0.0042,  0.0271,  ...,  0.0172,  0.0123,  0.0978],\n",
      "         [-0.0568,  0.0079,  0.0224,  ..., -0.0050, -0.0042, -0.1261],\n",
      "         ...,\n",
      "         [ 0.0000, -0.0843, -0.0924,  ...,  0.0298, -0.0038,  0.2595],\n",
      "         [ 0.0000, -0.1718, -0.1472,  ...,  0.0203,  0.0589,  0.6114],\n",
      "         [ 0.0000,  0.0547,  0.0103,  ...,  0.0337,  0.0491, -0.0765]],\n",
      "\n",
      "        [[ 0.2140, -0.0017, -0.0049,  ...,  0.0097,  0.0094, -0.0045],\n",
      "         [ 0.1498, -0.0062, -0.0102,  ..., -0.0172, -0.0127, -0.0185],\n",
      "         [-0.2655, -0.0231, -0.0026,  ...,  0.0008, -0.0020, -0.1928],\n",
      "         ...,\n",
      "         [ 0.0000, -0.0128, -0.0130,  ..., -0.0324, -0.0569,  0.4378],\n",
      "         [ 0.0000, -0.1184, -0.1054,  ...,  0.0148, -0.0197,  0.2846],\n",
      "         [ 0.0000,  0.0088,  0.0075,  ...,  0.1741,  0.0766, -0.0681]],\n",
      "\n",
      "        [[-0.1176, -0.0046, -0.0213,  ..., -0.0686, -0.0679, -0.0310],\n",
      "         [-0.0903,  0.0101, -0.0267,  ..., -0.0832, -0.0805, -0.0889],\n",
      "         [-0.1053,  0.0187,  0.0262,  ..., -0.0760, -0.0545, -0.0788],\n",
      "         ...,\n",
      "         [ 0.0000,  0.0290,  0.0491,  ..., -0.0209, -0.0063,  0.1262],\n",
      "         [ 0.0000, -0.1642, -0.1327,  ..., -0.0329, -0.0495,  0.1288],\n",
      "         [ 0.0000,  0.0339, -0.0344,  ...,  0.0021, -0.0662, -0.2863]]],\n",
      "       device='cuda:0')\n",
      "\n",
      "Std: tensor([[[1.5040, 1.4072, 0.7051,  ..., 1.3475, 1.3452, 1.3857],\n",
      "         [1.4552, 0.6830, 0.4444,  ..., 0.9718, 0.9542, 0.9017],\n",
      "         [0.8372, 0.5486, 0.4844,  ..., 0.8494, 0.7408, 0.6966],\n",
      "         ...,\n",
      "         [0.0000, 1.0486, 1.0070,  ..., 0.8863, 0.9007, 1.8835],\n",
      "         [0.0000, 0.9203, 0.9005,  ..., 1.1471, 0.9283, 0.9520],\n",
      "         [0.0000, 0.8722, 0.8904,  ..., 0.9639, 0.9360, 0.9482]],\n",
      "\n",
      "        [[0.3818, 0.3152, 0.3147,  ..., 0.3640, 0.3529, 0.3966],\n",
      "         [0.6648, 0.3776, 0.5543,  ..., 0.5923, 0.6048, 0.5662],\n",
      "         [0.4086, 0.5494, 0.7872,  ..., 0.4595, 0.4898, 0.5255],\n",
      "         ...,\n",
      "         [0.0000, 1.0865, 1.4090,  ..., 1.1985, 1.0369, 1.5298],\n",
      "         [0.0000, 0.9461, 0.8503,  ..., 1.2455, 1.1325, 0.7243],\n",
      "         [0.0000, 0.8765, 0.8468,  ..., 1.0489, 0.6927, 0.9675]],\n",
      "\n",
      "        [[0.3835, 0.2640, 0.2397,  ..., 0.4040, 0.3900, 0.3545],\n",
      "         [0.2709, 0.4478, 0.4806,  ..., 0.4536, 0.5118, 0.4575],\n",
      "         [1.0008, 0.7324, 0.9514,  ..., 0.7903, 0.8041, 0.6568],\n",
      "         ...,\n",
      "         [0.0000, 0.4865, 0.7248,  ..., 1.0132, 0.9520, 0.8534],\n",
      "         [0.0000, 0.8821, 0.9108,  ..., 1.1352, 1.0090, 1.1919],\n",
      "         [0.0000, 1.9741, 1.1871,  ..., 1.5171, 0.7834, 1.2803]],\n",
      "\n",
      "        [[0.8084, 0.4881, 0.4512,  ..., 0.7032, 0.7015, 0.6858],\n",
      "         [0.4909, 0.4769, 0.6423,  ..., 0.5154, 0.5400, 0.7083],\n",
      "         [0.8789, 0.7203, 0.6280,  ..., 0.7859, 0.7970, 0.7387],\n",
      "         ...,\n",
      "         [0.0000, 0.4340, 0.5775,  ..., 1.0515, 1.1067, 0.6099],\n",
      "         [0.0000, 1.0618, 0.8758,  ..., 0.6955, 1.0851, 1.3301],\n",
      "         [0.0000, 2.0609, 1.4028,  ..., 1.2838, 0.8929, 1.7137]]],\n",
      "       device='cuda:0')\n"
     ]
    }
   ],
   "source": [
    "preprocess_train = transforms.Compose([\n",
    "    EegToDevice(device=device), \n",
    "    EegSpectrogram(n_fft=200, complex_mode='as_real')\n",
    "])\n",
    "preprocess_train = torch.nn.Sequential(*preprocess_train.transforms).to(device)\n",
    "\n",
    "signal_2d_mean, signal_2d_std = calculate_signal_statistics(train_loader, preprocess_train)\n",
    "\n",
    "preprocess_train2 = transforms.Compose([\n",
    "    EegNormalizeMeanStd(mean=signal_2d_mean, std=signal_2d_std)\n",
    "])\n",
    "preprocess_train2 = torch.nn.Sequential(*preprocess_train2.transforms).to(device)\n",
    "\n",
    "pprint.pprint(preprocess_train)\n",
    "pprint.pprint(preprocess_train2)\n",
    "\n",
    "for i_batch, sample_batched in enumerate(train_loader):\n",
    "    print('- Before -')\n",
    "    preprocess_train(sample_batched)   \n",
    "    \n",
    "    print('Mean:', torch.mean(sample_batched['signal'], axis=-1))\n",
    "    print()\n",
    "    print('Std:', torch.std(sample_batched['signal'], axis=-1))\n",
    "    \n",
    "    print()\n",
    "    print('-' * 100)\n",
    "    print()\n",
    "    \n",
    "    print('- After -')\n",
    "    preprocess_train2(sample_batched)\n",
    "    \n",
    "    print('Mean:', torch.mean(sample_batched['signal'], axis=-1))\n",
    "    print()\n",
    "    print('Std:', torch.std(sample_batched['signal'], axis=-1))\n",
    "    break"
   ]
  },
  {
   "cell_type": "markdown",
   "metadata": {
    "pycharm": {
     "name": "#%% md\n"
    },
    "tags": []
   },
   "source": [
    "---\n",
    "\n",
    "## Speed check without STFT"
   ]
  },
  {
   "cell_type": "code",
   "execution_count": 34,
   "metadata": {
    "pycharm": {
     "name": "#%%\n"
    }
   },
   "outputs": [],
   "source": [
    "crop_length = 200 * 10\n",
    "multiple = 4\n",
    "batch_size = 128"
   ]
  },
  {
   "cell_type": "markdown",
   "metadata": {
    "pycharm": {
     "name": "#%% md\n"
    }
   },
   "source": [
    "### `EDF`"
   ]
  },
  {
   "cell_type": "code",
   "execution_count": 35,
   "metadata": {
    "pycharm": {
     "name": "#%%\n"
    }
   },
   "outputs": [
    {
     "name": "stdout",
     "output_type": "stream",
     "text": [
      "Compose(\n",
      "    EegRandomCrop(crop_length=2000, length_limit=120000, multiple=4, latency=2000, return_timing=False)\n",
      "    EegDropChannels(drop_index=20)\n",
      "    EegToTensor()\n",
      ")\n",
      "Sequential(\n",
      "  (0): EegToDevice(device=cuda)\n",
      "  (1): EegNormalizeAge(mean=tensor([71.2453]),std=tensor([6.2074]),eps=1e-08)\n",
      "  (2): EegNormalizeMeanStd(mean=tensor([-0.0359,  0.0304, -0.1009,  0.0230, -0.0015, -0.0228,  0.1051, -0.1024,\n",
      "          -0.0823,  0.1393,  0.0105,  0.1269,  0.2591,  0.0407, -0.0728, -0.0767,\n",
      "          -0.2653,  0.0130, -0.0072,  0.0019]),std=tensor([44.5781, 19.7245, 11.6635, 12.1446, 14.6613, 47.3535, 19.4451, 10.3273,\n",
      "          11.5484, 15.2525, 19.9712, 13.9477, 13.4642, 21.2484, 17.3686, 14.2186,\n",
      "          19.4747, 10.9813, 11.1437, 94.1633]),eps=1e-08)\n",
      ")\n",
      "CPU times: total: 24min 2s\n",
      "Wall time: 2min 1s\n"
     ]
    }
   ],
   "source": [
    "%%time\n",
    "transform = transforms.Compose([\n",
    "    EegRandomCrop(crop_length=crop_length,\n",
    "                  length_limit=200*60*10,   # length: 10m\n",
    "                  multiple=multiple, \n",
    "                  latency=200*10),          # latency: 10s\n",
    "    EegDropChannels(channel_photic), \n",
    "    EegToTensor()\n",
    "])\n",
    "pprint.pprint(transform)\n",
    "\n",
    "config_data, train_dataset, val_dataset, test_dataset = load_caueeg_task_datasets(dataset_path=data_path, \n",
    "                                                                                  task='dementia',\n",
    "                                                                                  load_event=False, \n",
    "                                                                                  file_format='edf',\n",
    "                                                                                  transform=transform)\n",
    "\n",
    "train_loader = DataLoader(train_dataset,\n",
    "                          batch_size=batch_size,\n",
    "                          shuffle=True,\n",
    "                          drop_last=True,\n",
    "                          num_workers=num_workers,\n",
    "                          pin_memory=pin_memory,\n",
    "                          collate_fn=eeg_collate_fn)\n",
    "\n",
    "preprocess_train = transforms.Compose([\n",
    "    EegToDevice(device=device), \n",
    "    EegNormalizeAge(mean=age_mean, std=age_std), \n",
    "    EegNormalizeMeanStd(mean=signal_mean, std=signal_std)\n",
    "])\n",
    "preprocess_train = torch.nn.Sequential(*preprocess_train.transforms).to(device)\n",
    "pprint.pprint(preprocess_train)\n",
    "\n",
    "for i_batch, sample_batched in enumerate(train_loader):\n",
    "    preprocess_train(sample_batched)"
   ]
  },
  {
   "cell_type": "markdown",
   "metadata": {
    "pycharm": {
     "name": "#%% md\n"
    }
   },
   "source": [
    "### `memmap`"
   ]
  },
  {
   "cell_type": "code",
   "execution_count": 36,
   "metadata": {
    "pycharm": {
     "name": "#%%\n"
    }
   },
   "outputs": [
    {
     "name": "stdout",
     "output_type": "stream",
     "text": [
      "Compose(\n",
      "    EegRandomCrop(crop_length=2000, length_limit=120000, multiple=4, latency=2000, return_timing=False)\n",
      "    EegDropChannels(drop_index=20)\n",
      "    EegToTensor()\n",
      ")\n",
      "Sequential(\n",
      "  (0): EegToDevice(device=cuda)\n",
      "  (1): EegNormalizeAge(mean=tensor([71.2453]),std=tensor([6.2074]),eps=1e-08)\n",
      "  (2): EegNormalizeMeanStd(mean=tensor([-0.0359,  0.0304, -0.1009,  0.0230, -0.0015, -0.0228,  0.1051, -0.1024,\n",
      "          -0.0823,  0.1393,  0.0105,  0.1269,  0.2591,  0.0407, -0.0728, -0.0767,\n",
      "          -0.2653,  0.0130, -0.0072,  0.0019]),std=tensor([44.5781, 19.7245, 11.6635, 12.1446, 14.6613, 47.3535, 19.4451, 10.3273,\n",
      "          11.5484, 15.2525, 19.9712, 13.9477, 13.4642, 21.2484, 17.3686, 14.2186,\n",
      "          19.4747, 10.9813, 11.1437, 94.1633]),eps=1e-08)\n",
      ")\n",
      "CPU times: total: 15.4 s\n",
      "Wall time: 1.27 s\n"
     ]
    }
   ],
   "source": [
    "%%time\n",
    "\n",
    "transform = transforms.Compose([\n",
    "    EegRandomCrop(crop_length=crop_length,\n",
    "                  length_limit=200*60*10,   # length: 10m\n",
    "                  multiple=multiple, \n",
    "                  latency=200*10),          # latency: 10s\n",
    "    EegDropChannels(channel_photic), \n",
    "    EegToTensor()\n",
    "])\n",
    "pprint.pprint(transform)\n",
    "\n",
    "config_data, train_dataset, val_dataset, test_dataset = load_caueeg_task_datasets(dataset_path=data_path, \n",
    "                                                                                  task='dementia',\n",
    "                                                                                  load_event=False, \n",
    "                                                                                  file_format='memmap',\n",
    "                                                                                  transform=transform)\n",
    " \n",
    "train_loader = DataLoader(train_dataset,\n",
    "                          batch_size=batch_size,\n",
    "                          shuffle=True,\n",
    "                          drop_last=True,\n",
    "                          num_workers=num_workers,\n",
    "                          pin_memory=pin_memory,\n",
    "                          collate_fn=eeg_collate_fn)\n",
    "\n",
    "preprocess_train = transforms.Compose([\n",
    "    EegToDevice(device=device), \n",
    "    EegNormalizeAge(mean=age_mean, std=age_std), \n",
    "    EegNormalizeMeanStd(mean=signal_mean, std=signal_std)\n",
    "])\n",
    "preprocess_train = torch.nn.Sequential(*preprocess_train.transforms).to(device)\n",
    "pprint.pprint(preprocess_train)\n",
    "\n",
    "for i_batch, sample_batched in enumerate(train_loader):\n",
    "    preprocess_train(sample_batched)"
   ]
  },
  {
   "cell_type": "markdown",
   "metadata": {
    "pycharm": {
     "name": "#%% md\n"
    }
   },
   "source": [
    "### `memmap` (Drop → Crop)"
   ]
  },
  {
   "cell_type": "code",
   "execution_count": 37,
   "metadata": {
    "pycharm": {
     "name": "#%%\n"
    }
   },
   "outputs": [
    {
     "name": "stdout",
     "output_type": "stream",
     "text": [
      "Compose(\n",
      "    EegDropChannels(drop_index=20)\n",
      "    EegRandomCrop(crop_length=2000, length_limit=120000, multiple=4, latency=2000, return_timing=False)\n",
      "    EegToTensor()\n",
      ")\n",
      "Sequential(\n",
      "  (0): EegToDevice(device=cuda)\n",
      "  (1): EegNormalizeAge(mean=tensor([71.2453]),std=tensor([6.2074]),eps=1e-08)\n",
      "  (2): EegNormalizeMeanStd(mean=tensor([-0.0359,  0.0304, -0.1009,  0.0230, -0.0015, -0.0228,  0.1051, -0.1024,\n",
      "          -0.0823,  0.1393,  0.0105,  0.1269,  0.2591,  0.0407, -0.0728, -0.0767,\n",
      "          -0.2653,  0.0130, -0.0072,  0.0019]),std=tensor([44.5781, 19.7245, 11.6635, 12.1446, 14.6613, 47.3535, 19.4451, 10.3273,\n",
      "          11.5484, 15.2525, 19.9712, 13.9477, 13.4642, 21.2484, 17.3686, 14.2186,\n",
      "          19.4747, 10.9813, 11.1437, 94.1633]),eps=1e-08)\n",
      ")\n",
      "CPU times: total: 1min 14s\n",
      "Wall time: 6.22 s\n"
     ]
    }
   ],
   "source": [
    "%%time\n",
    "\n",
    "transform = transforms.Compose([\n",
    "    EegDropChannels(channel_photic), \n",
    "    EegRandomCrop(crop_length=crop_length,\n",
    "                  length_limit=200*60*10,   # length: 10m\n",
    "                  multiple=multiple, \n",
    "                  latency=200*10),          # latency: 10s\n",
    "    EegToTensor()\n",
    "])\n",
    "pprint.pprint(transform)\n",
    "\n",
    "config_data, train_dataset, val_dataset, test_dataset = load_caueeg_task_datasets(dataset_path=data_path, \n",
    "                                                                                  task='dementia',\n",
    "                                                                                  load_event=False, \n",
    "                                                                                  file_format='memmap',\n",
    "                                                                                  transform=transform)\n",
    " \n",
    "train_loader = DataLoader(train_dataset,\n",
    "                          batch_size=batch_size,\n",
    "                          shuffle=True,\n",
    "                          drop_last=True,\n",
    "                          num_workers=num_workers,\n",
    "                          pin_memory=pin_memory,\n",
    "                          collate_fn=eeg_collate_fn)\n",
    "\n",
    "preprocess_train = transforms.Compose([\n",
    "    EegToDevice(device=device), \n",
    "    EegNormalizeAge(mean=age_mean, std=age_std), \n",
    "    EegNormalizeMeanStd(mean=signal_mean, std=signal_std)\n",
    "])\n",
    "preprocess_train = torch.nn.Sequential(*preprocess_train.transforms).to(device)\n",
    "pprint.pprint(preprocess_train)\n",
    "\n",
    "for i_batch, sample_batched in enumerate(train_loader):\n",
    "    preprocess_train(sample_batched)"
   ]
  },
  {
   "cell_type": "markdown",
   "metadata": {
    "pycharm": {
     "name": "#%% md\n"
    },
    "tags": []
   },
   "source": [
    "---\n",
    "\n",
    "## Speed check with STFT"
   ]
  },
  {
   "cell_type": "code",
   "execution_count": 38,
   "metadata": {
    "pycharm": {
     "name": "#%%\n"
    }
   },
   "outputs": [
    {
     "name": "stdout",
     "output_type": "stream",
     "text": [
      "Input sequence length: (3000) would become (78, 77) after the STFT with n_fft (155) and hop_length (39).\n",
      "\n",
      "----------------------------------------------------------------------------------------------------\n",
      "\n"
     ]
    }
   ],
   "source": [
    "crop_length = 300 * 10\n",
    "n_fft, hop_length, seq_len_2d = calculate_stft_params(seq_length=crop_length, verbose=True)\n",
    "multiple = 2\n",
    "batch_size = 128\n",
    "\n",
    "preprocess_train = transforms.Compose([\n",
    "    EegToDevice(device=device), \n",
    "    EegSpectrogram(n_fft=n_fft, hop_length=hop_length, complex_mode='as_real')\n",
    "])\n",
    "preprocess_train = torch.nn.Sequential(*preprocess_train.transforms).to(device)\n",
    "signal_2d_mean, signal_2d_std = calculate_signal_statistics(train_loader, preprocess_train)"
   ]
  },
  {
   "cell_type": "markdown",
   "metadata": {
    "pycharm": {
     "name": "#%% md\n"
    }
   },
   "source": [
    "### `EDF`"
   ]
  },
  {
   "cell_type": "code",
   "execution_count": 39,
   "metadata": {
    "pycharm": {
     "name": "#%%\n"
    }
   },
   "outputs": [
    {
     "name": "stdout",
     "output_type": "stream",
     "text": [
      "Compose(\n",
      "    EegRandomCrop(crop_length=3000, length_limit=120000, multiple=2, latency=2000, return_timing=False)\n",
      "    EegDropChannels(drop_index=20)\n",
      "    EegToTensor()\n",
      ")\n",
      "Sequential(\n",
      "  (0): EegToDevice(device=cuda)\n",
      "  (1): EegNormalizeAge(mean=tensor([71.2453]),std=tensor([6.2074]),eps=1e-08)\n",
      "  (2): EegSpectrogram(n_fft=155, complex_mode=as_real, stft_kwargs={'hop_length': 39})\n",
      "  (3): EegNormalizeMeanStd(mean=tensor([[-1.2195e+01, -5.3448e-02, -1.5063e-01,  ..., -4.7347e-02,\n",
      "           -4.8993e-02, -4.8371e-02],\n",
      "          [-5.4980e+00,  4.6251e-02, -1.8641e-02,  ..., -1.0346e-03,\n",
      "            1.4972e-02,  1.0688e-02],\n",
      "          [ 5.0655e+00,  5.3347e-03, -6.6118e-02,  ...,  1.2595e-02,\n",
      "            1.2875e-02,  1.2540e-02],\n",
      "          ...,\n",
      "          [ 0.0000e+00, -2.5794e-02,  1.0741e-02,  ..., -2.9688e-03,\n",
      "            1.2981e-03,  4.6372e-04],\n",
      "          [ 0.0000e+00, -5.5231e-01, -2.4670e-01,  ..., -2.3832e-03,\n",
      "            1.2946e-04,  1.5863e-04],\n",
      "          [ 0.0000e+00,  1.1617e+00, -2.2013e-02,  ...,  9.5898e-03,\n",
      "           -1.4114e-02,  2.2976e-03]], device='cuda:0'),std=tensor([[6.0882e+03, 1.0583e+03, 5.3056e+02,  ..., 2.7025e+01, 2.7004e+01,\n",
      "           2.7020e+01],\n",
      "          [2.6847e+03, 4.0867e+02, 2.0999e+02,  ..., 1.2322e+01, 1.2282e+01,\n",
      "           1.2312e+01],\n",
      "          [1.4519e+03, 1.9747e+02, 1.1390e+02,  ..., 7.4005e+00, 7.3540e+00,\n",
      "           7.3919e+00],\n",
      "          ...,\n",
      "          [0.0000e+00, 3.1938e+02, 1.8070e+02,  ..., 2.5678e+00, 2.6004e+00,\n",
      "           2.6144e+00],\n",
      "          [0.0000e+00, 3.4307e+02, 1.8928e+02,  ..., 2.5729e+00, 2.5951e+00,\n",
      "           2.6151e+00],\n",
      "          [0.0000e+00, 1.9164e+03, 2.0422e+03,  ..., 5.6738e+00, 5.3242e+00,\n",
      "           4.5989e+00]], device='cuda:0'),eps=1e-08)\n",
      ")\n",
      "torch.Size([256, 40, 78, 77])\n",
      "CPU times: total: 17min 30s\n",
      "Wall time: 3min 33s\n"
     ]
    }
   ],
   "source": [
    "%%time\n",
    "\n",
    "transform = transforms.Compose([\n",
    "    EegRandomCrop(crop_length=crop_length,\n",
    "                  length_limit=200*60*10,   # length: 10m\n",
    "                  multiple=multiple, \n",
    "                  latency=200*10),          # latency: 10s\n",
    "    EegDropChannels(channel_photic), \n",
    "    EegToTensor()\n",
    "])\n",
    "pprint.pprint(transform)\n",
    "\n",
    "config_data, train_dataset, val_dataset, test_dataset = load_caueeg_task_datasets(dataset_path=data_path, \n",
    "                                                                                  task='dementia',\n",
    "                                                                                  load_event=False, \n",
    "                                                                                  file_format='edf',\n",
    "                                                                                  transform=transform)\n",
    " \n",
    "train_loader = DataLoader(train_dataset,\n",
    "                          batch_size=batch_size,\n",
    "                          shuffle=True,\n",
    "                          drop_last=True,\n",
    "                          num_workers=num_workers,\n",
    "                          pin_memory=pin_memory,\n",
    "                          collate_fn=eeg_collate_fn)\n",
    "\n",
    "preprocess_train = transforms.Compose([\n",
    "    EegToDevice(device=device), \n",
    "    EegNormalizeAge(mean=age_mean, std=age_std), \n",
    "    EegSpectrogram(n_fft=n_fft, hop_length=hop_length, complex_mode='as_real'),\n",
    "    EegNormalizeMeanStd(mean=signal_2d_mean, std=signal_2d_std),\n",
    "])\n",
    "preprocess_train = torch.nn.Sequential(*preprocess_train.transforms).to(device)\n",
    "pprint.pprint(preprocess_train)\n",
    "\n",
    "for i_batch, sample_batched in enumerate(train_loader):\n",
    "    preprocess_train(sample_batched)\n",
    "    size = sample_batched['signal'].size()\n",
    "    \n",
    "print(size)"
   ]
  },
  {
   "cell_type": "markdown",
   "metadata": {
    "pycharm": {
     "name": "#%% md\n"
    }
   },
   "source": [
    "### `memmap`"
   ]
  },
  {
   "cell_type": "code",
   "execution_count": 40,
   "metadata": {
    "pycharm": {
     "name": "#%%\n"
    }
   },
   "outputs": [
    {
     "name": "stdout",
     "output_type": "stream",
     "text": [
      "Compose(\n",
      "    EegRandomCrop(crop_length=3000, length_limit=120000, multiple=2, latency=2000, return_timing=False)\n",
      "    EegDropChannels(drop_index=20)\n",
      "    EegToTensor()\n",
      ")\n",
      "Sequential(\n",
      "  (0): EegToDevice(device=cuda)\n",
      "  (1): EegNormalizeAge(mean=tensor([71.2453]),std=tensor([6.2074]),eps=1e-08)\n",
      "  (2): EegSpectrogram(n_fft=155, complex_mode=as_real, stft_kwargs={'hop_length': 39})\n",
      "  (3): EegNormalizeMeanStd(mean=tensor([[-1.2195e+01, -5.3448e-02, -1.5063e-01,  ..., -4.7347e-02,\n",
      "           -4.8993e-02, -4.8371e-02],\n",
      "          [-5.4980e+00,  4.6251e-02, -1.8641e-02,  ..., -1.0346e-03,\n",
      "            1.4972e-02,  1.0688e-02],\n",
      "          [ 5.0655e+00,  5.3347e-03, -6.6118e-02,  ...,  1.2595e-02,\n",
      "            1.2875e-02,  1.2540e-02],\n",
      "          ...,\n",
      "          [ 0.0000e+00, -2.5794e-02,  1.0741e-02,  ..., -2.9688e-03,\n",
      "            1.2981e-03,  4.6372e-04],\n",
      "          [ 0.0000e+00, -5.5231e-01, -2.4670e-01,  ..., -2.3832e-03,\n",
      "            1.2946e-04,  1.5863e-04],\n",
      "          [ 0.0000e+00,  1.1617e+00, -2.2013e-02,  ...,  9.5898e-03,\n",
      "           -1.4114e-02,  2.2976e-03]], device='cuda:0'),std=tensor([[6.0882e+03, 1.0583e+03, 5.3056e+02,  ..., 2.7025e+01, 2.7004e+01,\n",
      "           2.7020e+01],\n",
      "          [2.6847e+03, 4.0867e+02, 2.0999e+02,  ..., 1.2322e+01, 1.2282e+01,\n",
      "           1.2312e+01],\n",
      "          [1.4519e+03, 1.9747e+02, 1.1390e+02,  ..., 7.4005e+00, 7.3540e+00,\n",
      "           7.3919e+00],\n",
      "          ...,\n",
      "          [0.0000e+00, 3.1938e+02, 1.8070e+02,  ..., 2.5678e+00, 2.6004e+00,\n",
      "           2.6144e+00],\n",
      "          [0.0000e+00, 3.4307e+02, 1.8928e+02,  ..., 2.5729e+00, 2.5951e+00,\n",
      "           2.6151e+00],\n",
      "          [0.0000e+00, 1.9164e+03, 2.0422e+03,  ..., 5.6738e+00, 5.3242e+00,\n",
      "           4.5989e+00]], device='cuda:0'),eps=1e-08)\n",
      ")\n",
      "torch.Size([256, 40, 78, 77])\n",
      "CPU times: total: 2min 24s\n",
      "Wall time: 33.2 s\n"
     ]
    }
   ],
   "source": [
    "%%time\n",
    "\n",
    "transform = transforms.Compose([\n",
    "    EegRandomCrop(crop_length=crop_length,\n",
    "                  length_limit=200*60*10,   # length: 10m\n",
    "                  multiple=multiple, \n",
    "                  latency=200*10),          # latency: 10s\n",
    "    EegDropChannels(channel_photic), \n",
    "    EegToTensor()\n",
    "])\n",
    "pprint.pprint(transform)\n",
    "\n",
    "config_data, train_dataset, val_dataset, test_dataset = load_caueeg_task_datasets(dataset_path=data_path, \n",
    "                                                                                  task='dementia',\n",
    "                                                                                  load_event=False, \n",
    "                                                                                  file_format='memmap',\n",
    "                                                                                  transform=transform)\n",
    "\n",
    "train_loader = DataLoader(train_dataset,\n",
    "                          batch_size=batch_size,\n",
    "                          shuffle=True,\n",
    "                          drop_last=True,\n",
    "                          num_workers=num_workers,\n",
    "                          pin_memory=pin_memory,\n",
    "                          collate_fn=eeg_collate_fn)\n",
    "\n",
    "preprocess_train = transforms.Compose([\n",
    "    EegToDevice(device=device), \n",
    "    EegNormalizeAge(mean=age_mean, std=age_std), \n",
    "    EegSpectrogram(n_fft=n_fft, hop_length=hop_length, complex_mode='as_real'),\n",
    "    EegNormalizeMeanStd(mean=signal_2d_mean, std=signal_2d_std),\n",
    "])\n",
    "preprocess_train = torch.nn.Sequential(*preprocess_train.transforms).to(device)\n",
    "pprint.pprint(preprocess_train)\n",
    "\n",
    "for i_batch, sample_batched in enumerate(train_loader):\n",
    "    preprocess_train(sample_batched)\n",
    "    size = sample_batched['signal'].size()\n",
    "    \n",
    "print(size)"
   ]
  },
  {
   "cell_type": "markdown",
   "metadata": {
    "pycharm": {
     "name": "#%% md\n"
    }
   },
   "source": [
    "---\n",
    "\n",
    "## Test on longer sequence"
   ]
  },
  {
   "cell_type": "code",
   "execution_count": 41,
   "metadata": {
    "pycharm": {
     "name": "#%%\n"
    }
   },
   "outputs": [
    {
     "name": "stdout",
     "output_type": "stream",
     "text": [
      "Compose(\n",
      "    EegRandomCrop(crop_length=12000, length_limit=120000, multiple=2, latency=2000, return_timing=False)\n",
      "    EegDropChannels(drop_index=20)\n",
      "    EegToTensor()\n",
      ")\n",
      "Sequential(\n",
      "  (0): EegToDevice(device=cuda)\n",
      "  (1): EegNormalizeMeanStd(mean=tensor([-0.0359,  0.0304, -0.1009,  0.0230, -0.0015, -0.0228,  0.1051, -0.1024,\n",
      "          -0.0823,  0.1393,  0.0105,  0.1269,  0.2591,  0.0407, -0.0728, -0.0767,\n",
      "          -0.2653,  0.0130, -0.0072,  0.0019]),std=tensor([44.5781, 19.7245, 11.6635, 12.1446, 14.6613, 47.3535, 19.4451, 10.3273,\n",
      "          11.5484, 15.2525, 19.9712, 13.9477, 13.4642, 21.2484, 17.3686, 14.2186,\n",
      "          19.4747, 10.9813, 11.1437, 94.1633]),eps=1e-08)\n",
      "  (2): EegNormalizeAge(mean=tensor([71.2453]),std=tensor([6.2074]),eps=1e-08)\n",
      ")\n",
      "CPU times: total: 1min 4s\n",
      "Wall time: 12.5 s\n"
     ]
    }
   ],
   "source": [
    "%%time\n",
    "longer_transform = transforms.Compose([\n",
    "    EegRandomCrop(crop_length=200*10*6,     # crop: 1m\n",
    "                  length_limit=200*60*10,   # length: 10m\n",
    "                  multiple=2, \n",
    "                  latency=200*10),          # latency: 10s\n",
    "    EegDropChannels(channel_photic), \n",
    "    EegToTensor()\n",
    "])\n",
    "pprint.pprint(longer_transform)\n",
    "\n",
    "config_data, longer_test_dataset = load_caueeg_task_split(dataset_path=data_path, \n",
    "                                                          task='dementia', \n",
    "                                                          split='test',\n",
    "                                                          load_event=False,\n",
    "                                                          file_format='memmap', \n",
    "                                                          transform=longer_transform)\n",
    "\n",
    "longer_test_loader = DataLoader(longer_test_dataset,\n",
    "                                batch_size=32,\n",
    "                                shuffle=True,\n",
    "                                drop_last=False,\n",
    "                                num_workers=num_workers,\n",
    "                                pin_memory=pin_memory,\n",
    "                                collate_fn=eeg_collate_fn)\n",
    " \n",
    "preprocess_test = transforms.Compose([\n",
    "    EegToDevice(device=device), \n",
    "    EegNormalizeMeanStd(mean=signal_mean, std=signal_std),\n",
    "    EegNormalizeAge(mean=age_mean, std=age_std),\n",
    "])\n",
    "preprocess_test = torch.nn.Sequential(*preprocess_test.transforms).to(device)\n",
    "pprint.pprint(preprocess_test)\n",
    "\n",
    "for i_batch, sample_batched in enumerate(train_loader):\n",
    "    preprocess_test(sample_batched)"
   ]
  },
  {
   "cell_type": "code",
   "execution_count": null,
   "metadata": {
    "pycharm": {
     "name": "#%%\n"
    }
   },
   "outputs": [],
   "source": []
  }
 ],
 "metadata": {
  "kernelspec": {
   "display_name": "Python 3 (ipykernel)",
   "language": "python",
   "name": "python3"
  },
  "language_info": {
   "codemirror_mode": {
    "name": "ipython",
    "version": 3
   },
   "file_extension": ".py",
   "mimetype": "text/x-python",
   "name": "python",
   "nbconvert_exporter": "python",
   "pygments_lexer": "ipython3",
   "version": "3.9.12"
  }
 },
 "nbformat": 4,
 "nbformat_minor": 4
}
