{
 "cells": [
  {
   "cell_type": "markdown",
   "metadata": {
    "pycharm": {
     "name": "#%% md\n"
    }
   },
   "source": [
    "# Train Networks\n",
    "\n",
    "- Train SoftMax or Multi-BCE classifier for the EEG diagnosis classification\n",
    "    - CAUEEG-Dementia benchmark: Classification of **Normal**, **MCI**, and **Dementia** symptoms\n",
    "    - CAUEEG-Abnormal benchmark: Classification of **Normal** and **Abnormal** symptoms"
   ]
  },
  {
   "cell_type": "markdown",
   "metadata": {
    "pycharm": {
     "name": "#%% md\n"
    }
   },
   "source": [
    "-----\n",
    "\n",
    "## Load Packages"
   ]
  },
  {
   "cell_type": "code",
   "execution_count": 1,
   "metadata": {
    "pycharm": {
     "name": "#%%\n"
    }
   },
   "outputs": [
    {
     "name": "stdout",
     "output_type": "stream",
     "text": [
      "C:\\Users\\Minjae\\Desktop\\EEG_Project\n"
     ]
    }
   ],
   "source": [
    "# for auto-reloading external modules\n",
    "# see http://stackoverflow.com/questions/1907993/autoreload-of-modules-in-ipython\n",
    "%load_ext autoreload\n",
    "%autoreload 2\n",
    "%cd .."
   ]
  },
  {
   "cell_type": "code",
   "execution_count": 2,
   "metadata": {
    "pycharm": {
     "name": "#%%\n"
    },
    "tags": []
   },
   "outputs": [],
   "source": [
    "# Load some packages\n",
    "import hydra\n",
    "from omegaconf import OmegaConf\n",
    "import wandb\n",
    "import pprint\n",
    "\n",
    "# custom package\n",
    "from run_train import check_device_env\n",
    "from run_train import prepare_and_run_train"
   ]
  },
  {
   "cell_type": "markdown",
   "metadata": {
    "pycharm": {
     "name": "#%% md\n"
    }
   },
   "source": [
    "---\n",
    "\n",
    "## Specify the dataset, model, and train setting"
   ]
  },
  {
   "cell_type": "code",
   "execution_count": 3,
   "metadata": {
    "collapsed": false,
    "jupyter": {
     "outputs_hidden": false
    },
    "pycharm": {
     "name": "#%%\n"
    }
   },
   "outputs": [],
   "source": [
    "project = 'sweep-test'\n",
    "data_cfg_file = 'caueeg-dementia'\n",
    "train_cfg_file = 'base_train'\n",
    "model_cfg_file = '2D-ResNeXt-50'\n",
    "device = 'cuda:0'"
   ]
  },
  {
   "cell_type": "markdown",
   "metadata": {
    "collapsed": false,
    "jupyter": {
     "outputs_hidden": false
    },
    "pycharm": {
     "name": "#%%\n"
    }
   },
   "source": [
    "---\n",
    "\n",
    "## Initializing configurations using Hydra"
   ]
  },
  {
   "cell_type": "code",
   "execution_count": 4,
   "metadata": {
    "collapsed": false,
    "jupyter": {
     "outputs_hidden": false
    },
    "pycharm": {
     "name": "#%%\n"
    }
   },
   "outputs": [],
   "source": [
    "# with hydra.initialize(config_path='../config'):\n",
    "#     add_configs = [f\"data={data_cfg_file}\", \n",
    "#                    f\"train={train_cfg_file}\", \n",
    "#                    f\"+train.device={device}\", \n",
    "#                    f\"+train.project={project}\",\n",
    "#                    f\"model={model_cfg_file}\",]\n",
    "    \n",
    "#     cfg = hydra.compose(config_name='default', overrides=add_configs)\n",
    "    \n",
    "# config = {**OmegaConf.to_container(cfg.data), \n",
    "#           **OmegaConf.to_container(cfg.train),\n",
    "#           **OmegaConf.to_container(cfg.model)}\n",
    "\n",
    "# check_device_env(config)\n",
    "# pprint.pprint(config)"
   ]
  },
  {
   "cell_type": "code",
   "execution_count": 5,
   "metadata": {},
   "outputs": [],
   "source": [
    "# with hydra.initialize(config_path='../config'):\n",
    "#     add_configs = [f\"data={data_cfg_file}\", \n",
    "#                    f\"train={train_cfg_file}\", \n",
    "#                    f\"+train.device={device}\", \n",
    "#                    f\"+train.project={project}\",\n",
    "#                    f\"++train.init_from=1sl7ipca\",\n",
    "#                    f\"model=2D-ResNeXt-50\",\n",
    "#                    f\"++model.activation=mish\",                   \n",
    "#                    f\"++model.criterion=cross-entropy\",\n",
    "#                    f\"++model.fc_stages=5\",\n",
    "#                    f\"++model.dropout=0.04197529259802718\",\n",
    "#                    f\"++train.mixup=0\",\n",
    "#                    f\"++train.seq_length=4000\",\n",
    "#                    f\"++train.awgn=0.10394966750385833\",\n",
    "#                    f\"++train.awgn_age=0.01804953928628786\",\n",
    "#                    f\"++train.mgn=0.056254713649316834\",\n",
    "#                    f\"++train.age_mean=71.35855\",\n",
    "#                    f\"++train.age_std=9.637834\",\n",
    "#                    f\"++train.lr_scheduler_type=constant_with_twice_decay\",\n",
    "#                    f\"++data.file_format=memmap\",\n",
    "#                    f\"++data.photic=O\",\n",
    "#                    f\"++data.EKG=X\",\n",
    "#                    f\"++data.file_format=memmap\",\n",
    "#                   ]\n",
    "    \n",
    "#     cfg = hydra.compose(config_name='default', overrides=add_configs)\n",
    "    \n",
    "# config = {**OmegaConf.to_container(cfg.data), \n",
    "#           **OmegaConf.to_container(cfg.train),\n",
    "#           **OmegaConf.to_container(cfg.model)}\n",
    "\n",
    "# check_device_env(config)\n",
    "# pprint.pprint(config)"
   ]
  },
  {
   "cell_type": "code",
   "execution_count": 6,
   "metadata": {},
   "outputs": [
    {
     "name": "stdout",
     "output_type": "stream",
     "text": [
      "{'EKG': 'X',\n",
      " '_target_': 'models.resnet_2d.ResNet2D',\n",
      " 'activation': 'mish',\n",
      " 'age_mean': 71.35855,\n",
      " 'age_std': 9.637834,\n",
      " 'awgn': 0.10394966750385833,\n",
      " 'awgn_age': 0.01804953928628786,\n",
      " 'base_channels': 64,\n",
      " 'base_lr': 0.0001,\n",
      " 'block': 'bottleneck',\n",
      " 'conv_layers': [3, 4, 6, 3],\n",
      " 'criterion': 'cross-entropy',\n",
      " 'crop_multiple': 4,\n",
      " 'crop_timing_analysis': False,\n",
      " 'dataset_path': 'local/dataset/02_Curated_Data_220419/',\n",
      " 'ddp': False,\n",
      " 'device': device(type='cuda', index=0),\n",
      " 'draw_result': True,\n",
      " 'dropout': 0.04197529259802718,\n",
      " 'fc_stages': 5,\n",
      " 'file_format': 'memmap',\n",
      " 'groups': 32,\n",
      " 'in_channels': '???',\n",
      " 'input_norm': 'dataset',\n",
      " 'latency': 2000,\n",
      " 'load_event': False,\n",
      " 'lr_scheduler_type': 'constant_with_twice_decay',\n",
      " 'mgn': 0.056254713649316834,\n",
      " 'minibatch': 128,\n",
      " 'mixup': 0,\n",
      " 'model': '2D-ResNeXt-50',\n",
      " 'num_history': 500,\n",
      " 'out_dims': '???',\n",
      " 'photic': 'O',\n",
      " 'project': 'sweep-test',\n",
      " 'resume': '35i3jb9v',\n",
      " 'run_mode': 'train',\n",
      " 'save_model': True,\n",
      " 'search_lr': True,\n",
      " 'search_multiplier': 1.0,\n",
      " 'seed': 0,\n",
      " 'seq_len_2d': '???',\n",
      " 'seq_length': 4000,\n",
      " 'signal_length_limit': 10000000,\n",
      " 'task': 'task2',\n",
      " 'test_crop_multiple': 8,\n",
      " 'total_samples': 100000000.0,\n",
      " 'use_age': 'fc',\n",
      " 'use_wandb': True,\n",
      " 'warmup_min': 3000,\n",
      " 'warmup_ratio': 0.05,\n",
      " 'watch_model': False,\n",
      " 'weight_decay': 0.01,\n",
      " 'width_per_group': 4}\n"
     ]
    }
   ],
   "source": [
    "with hydra.initialize(config_path='../config'):\n",
    "    add_configs = [f\"data={data_cfg_file}\", \n",
    "                   f\"train={train_cfg_file}\", \n",
    "                   f\"+train.device={device}\", \n",
    "                   f\"+train.project={project}\",\n",
    "#                   f\"++train.init_from=1sl7ipca\",\n",
    "                   f\"++train.resume=35i3jb9v\",\n",
    "                   f\"model=2D-ResNeXt-50\",\n",
    "                   f\"++model.activation=mish\",                   \n",
    "                   f\"++model.criterion=cross-entropy\",\n",
    "                   f\"++model.fc_stages=5\",\n",
    "                   f\"++model.dropout=0.04197529259802718\",\n",
    "                   f\"++train.mixup=0\",\n",
    "                   f\"++train.seq_length=4000\",\n",
    "                   f\"++train.awgn=0.10394966750385833\",\n",
    "                   f\"++train.awgn_age=0.01804953928628786\",\n",
    "                   f\"++train.mgn=0.056254713649316834\",\n",
    "                   f\"++train.age_mean=71.35855\",\n",
    "                   f\"++train.age_std=9.637834\",\n",
    "                   f\"++train.lr_scheduler_type=constant_with_twice_decay\",\n",
    "                   f\"++data.file_format=memmap\",\n",
    "                   f\"++data.photic=O\",\n",
    "                   f\"++data.EKG=X\",\n",
    "                   f\"++data.file_format=memmap\",\n",
    "                  ]\n",
    "    \n",
    "    cfg = hydra.compose(config_name='default', overrides=add_configs)\n",
    "    \n",
    "config = {**OmegaConf.to_container(cfg.data), \n",
    "          **OmegaConf.to_container(cfg.train),\n",
    "          **OmegaConf.to_container(cfg.model)}\n",
    "\n",
    "check_device_env(config)\n",
    "pprint.pprint(config)"
   ]
  },
  {
   "cell_type": "markdown",
   "metadata": {
    "pycharm": {
     "name": "#%% md\n"
    }
   },
   "source": [
    "## Train"
   ]
  },
  {
   "cell_type": "code",
   "execution_count": 7,
   "metadata": {
    "collapsed": false,
    "jupyter": {
     "outputs_hidden": false
    },
    "pycharm": {
     "name": "#%%\n"
    }
   },
   "outputs": [
    {
     "name": "stderr",
     "output_type": "stream",
     "text": [
      "Failed to detect the name of this notebook, you can set it manually with the WANDB_NOTEBOOK_NAME environment variable to enable code saving.\n",
      "\u001b[34m\u001b[1mwandb\u001b[0m: Currently logged in as: \u001b[33mipis-mjkim\u001b[0m. Use \u001b[1m`wandb login --relogin`\u001b[0m to force relogin\n"
     ]
    },
    {
     "data": {
      "text/html": [
       "Tracking run with wandb version 0.12.21"
      ],
      "text/plain": [
       "<IPython.core.display.HTML object>"
      ]
     },
     "metadata": {},
     "output_type": "display_data"
    },
    {
     "data": {
      "text/html": [
       "Run data is saved locally in <code>C:\\Users\\Minjae\\Desktop\\EEG_Project\\wandb\\run-20220801_161631-35i3jb9v</code>"
      ],
      "text/plain": [
       "<IPython.core.display.HTML object>"
      ]
     },
     "metadata": {},
     "output_type": "display_data"
    },
    {
     "data": {
      "text/html": [
       "Resuming run <strong><a href=\"https://wandb.ai/ipis-mjkim/sweep-test/runs/35i3jb9v\" target=\"_blank\">35i3jb9v</a></strong> to <a href=\"https://wandb.ai/ipis-mjkim/sweep-test\" target=\"_blank\">Weights & Biases</a> (<a href=\"https://wandb.me/run\" target=\"_blank\">docs</a>)<br/>"
      ],
      "text/plain": [
       "<IPython.core.display.HTML object>"
      ]
     },
     "metadata": {},
     "output_type": "display_data"
    },
    {
     "name": "stdout",
     "output_type": "stream",
     "text": [
      "'Training resumes from 35i3jb9v'\n",
      "{'EKG': 'X',\n",
      " '_target_': 'models.resnet_2d.ResNet2D',\n",
      " 'activation': 'mish',\n",
      " 'age_mean': 71.35855,\n",
      " 'age_std': 9.637834,\n",
      " 'awgn': 0.10394966750385833,\n",
      " 'awgn_age': 0.01804953928628786,\n",
      " 'base_channels': 64,\n",
      " 'base_lr': 4.30168830445025e-05,\n",
      " 'block': 'bottleneck',\n",
      " 'class_label_to_name': ['Normal', 'MCI', 'Dementia'],\n",
      " 'class_name_to_label': {'Dementia': 2, 'MCI': 1, 'Normal': 0},\n",
      " 'conv_layers': [3, 4, 6, 3],\n",
      " 'criterion': 'cross-entropy',\n",
      " 'crop_multiple': 4,\n",
      " 'crop_timing_analysis': False,\n",
      " 'dataset_name': 'CAUEEG dataset',\n",
      " 'dataset_path': 'local/dataset/02_Curated_Data_220419/',\n",
      " 'ddp': False,\n",
      " 'device': device(type='cuda', index=0),\n",
      " 'draw_result': True,\n",
      " 'dropout': 0.04197529259802718,\n",
      " 'fc_stages': 5,\n",
      " 'file_format': 'memmap',\n",
      " 'groups': 32,\n",
      " 'in_channels': 40,\n",
      " 'init_from': '1sl7ipca',\n",
      " 'input_norm': 'dataset',\n",
      " 'iterations': 781250,\n",
      " 'latency': 2000,\n",
      " 'load_event': False,\n",
      " 'lr_scheduler_type': 'constant_with_twice_decay',\n",
      " 'mgn': 0.056254713649316834,\n",
      " 'minibatch': 128,\n",
      " 'mixup': 0,\n",
      " 'model': '2D-ResNeXt-50',\n",
      " 'multi_batch_size': 16,\n",
      " 'num_history': 500,\n",
      " 'num_params': 25886467,\n",
      " 'out_dims': 3,\n",
      " 'output_length': 6,\n",
      " 'photic': 'O',\n",
      " 'preprocess_test': Sequential(\n",
      "  (0): EegToDevice(device=cuda:0)\n",
      "  (1): EegNormalizeAge(mean=71.35855102539062,std=9.637834,eps=1e-08)\n",
      "  (2): EegNormalizeMeanStd(mean=tensor([ 0.1054, -0.0138, -0.0189, -0.0009,  0.0231,  0.0560,  0.0525, -0.0023,\n",
      "          -0.0081,  0.0500, -0.0089, -0.0173, -0.0319,  0.0050, -0.0391,  0.0196,\n",
      "           0.0205, -0.0033, -0.0215, -0.0123], device='cuda:0'),std=tensor([49.8863, 21.8240, 12.5566, 12.5296, 16.8090, 53.8090, 21.3267, 11.2155,\n",
      "          12.4702, 17.0327, 21.8280, 15.1929, 14.6577, 23.0735, 18.4624, 15.7213,\n",
      "          20.7203, 12.2132, 12.5452, 74.2791], device='cuda:0'),eps=1e-08)\n",
      "  (3): EegSpectrogram(n_fft=179, complex_mode=as_real, stft_kwargs={'hop_length': 45})\n",
      "  (4): EegNormalizeMeanStd(mean=tensor([[-2.1848e-01, -2.0106e-03, -1.8038e-03,  ...,  1.7342e-03,\n",
      "           -2.4591e-03, -1.1979e-03],\n",
      "          [ 5.8058e-02, -1.0724e-03, -1.5259e-03,  ..., -1.6329e-03,\n",
      "            1.0959e-03,  2.5318e-04],\n",
      "          [ 4.0034e-01, -5.0489e-03, -1.6661e-03,  ..., -3.8780e-04,\n",
      "           -1.4896e-03, -1.3080e-03],\n",
      "          ...,\n",
      "          [ 0.0000e+00,  2.9987e-02,  1.3348e-02,  ..., -1.1639e-03,\n",
      "            7.5945e-04,  1.3774e-05],\n",
      "          [ 0.0000e+00,  3.7005e-02,  1.8460e-02,  ...,  2.4825e-03,\n",
      "           -1.9656e-03, -4.5951e-04],\n",
      "          [ 0.0000e+00, -1.3158e-03,  4.4391e-04,  ...,  1.4583e-04,\n",
      "           -5.0023e-04,  1.1856e-04]], device='cuda:0'),std=tensor([[143.8551,  26.6534,  13.4027,  ...,   1.3285,   1.3310,   1.3454],\n",
      "          [142.7049,  23.2466,  11.8896,  ...,   1.3211,   1.3157,   1.3340],\n",
      "          [139.3234,  20.3611,  11.1926,  ...,   1.3578,   1.3509,   1.3678],\n",
      "          ...,\n",
      "          [  0.0000,  34.0265,  18.9259,  ...,   1.1980,   1.1966,   1.2095],\n",
      "          [  0.0000,  35.7948,  19.5513,  ...,   1.2058,   1.2040,   1.2205],\n",
      "          [  0.0000,   6.4046,   5.6155,  ...,   1.3578,   1.3512,   1.3673]],\n",
      "         device='cuda:0'),eps=1e-08)\n",
      "),\n",
      " 'preprocess_train': Sequential(\n",
      "  (0): EegToDevice(device=cuda:0)\n",
      "  (1): EegNormalizeAge(mean=71.35855102539062,std=9.637834,eps=1e-08)\n",
      "  (2): EegAddGaussianNoiseAge(mean=0.0,std=0.01804953928628786)\n",
      "  (3): EegNormalizeMeanStd(mean=tensor([ 0.1054, -0.0138, -0.0189, -0.0009,  0.0231,  0.0560,  0.0525, -0.0023,\n",
      "          -0.0081,  0.0500, -0.0089, -0.0173, -0.0319,  0.0050, -0.0391,  0.0196,\n",
      "           0.0205, -0.0033, -0.0215, -0.0123], device='cuda:0'),std=tensor([49.8863, 21.8240, 12.5566, 12.5296, 16.8090, 53.8090, 21.3267, 11.2155,\n",
      "          12.4702, 17.0327, 21.8280, 15.1929, 14.6577, 23.0735, 18.4624, 15.7213,\n",
      "          20.7203, 12.2132, 12.5452, 74.2791], device='cuda:0'),eps=1e-08)\n",
      "  (4): EegMultiplicativeGaussianNoise(mean=0.0,std=0.056254713649316834)\n",
      "  (5): EegAdditiveGaussianNoise(mean=0.0,std=0.10394966750385833)\n",
      "  (6): EegSpectrogram(n_fft=179, complex_mode=as_real, stft_kwargs={'hop_length': 45})\n",
      "  (7): EegNormalizeMeanStd(mean=tensor([[-2.1848e-01, -2.0106e-03, -1.8038e-03,  ...,  1.7342e-03,\n",
      "           -2.4591e-03, -1.1979e-03],\n",
      "          [ 5.8058e-02, -1.0724e-03, -1.5259e-03,  ..., -1.6329e-03,\n",
      "            1.0959e-03,  2.5318e-04],\n",
      "          [ 4.0034e-01, -5.0489e-03, -1.6661e-03,  ..., -3.8780e-04,\n",
      "           -1.4896e-03, -1.3080e-03],\n",
      "          ...,\n",
      "          [ 0.0000e+00,  2.9987e-02,  1.3348e-02,  ..., -1.1639e-03,\n",
      "            7.5945e-04,  1.3774e-05],\n",
      "          [ 0.0000e+00,  3.7005e-02,  1.8460e-02,  ...,  2.4825e-03,\n",
      "           -1.9656e-03, -4.5951e-04],\n",
      "          [ 0.0000e+00, -1.3158e-03,  4.4391e-04,  ...,  1.4583e-04,\n",
      "           -5.0023e-04,  1.1856e-04]], device='cuda:0'),std=tensor([[143.8551,  26.6534,  13.4027,  ...,   1.3285,   1.3310,   1.3454],\n",
      "          [142.7049,  23.2466,  11.8896,  ...,   1.3211,   1.3157,   1.3340],\n",
      "          [139.3234,  20.3611,  11.1926,  ...,   1.3578,   1.3509,   1.3678],\n",
      "          ...,\n",
      "          [  0.0000,  34.0265,  18.9259,  ...,   1.1980,   1.1966,   1.2095],\n",
      "          [  0.0000,  35.7948,  19.5513,  ...,   1.2058,   1.2040,   1.2205],\n",
      "          [  0.0000,   6.4046,   5.6155,  ...,   1.3578,   1.3512,   1.3673]],\n",
      "         device='cuda:0'),eps=1e-08)\n",
      "),\n",
      " 'project': 'sweep-test',\n",
      " 'run_mode': 'train',\n",
      " 'save_model': True,\n",
      " 'search_lr': True,\n",
      " 'search_multiplier': 1.0,\n",
      " 'seed': 0,\n",
      " 'seq_len_2d': (90, 89),\n",
      " 'seq_length': 4000,\n",
      " 'signal_2d_mean': tensor([[[[-2.1848e-01],\n",
      "          [-2.0106e-03],\n",
      "          [-1.8038e-03],\n",
      "          ...,\n",
      "          [ 1.7342e-03],\n",
      "          [-2.4591e-03],\n",
      "          [-1.1979e-03]],\n",
      "\n",
      "         [[ 5.8058e-02],\n",
      "          [-1.0724e-03],\n",
      "          [-1.5259e-03],\n",
      "          ...,\n",
      "          [-1.6329e-03],\n",
      "          [ 1.0959e-03],\n",
      "          [ 2.5318e-04]],\n",
      "\n",
      "         [[ 4.0034e-01],\n",
      "          [-5.0489e-03],\n",
      "          [-1.6661e-03],\n",
      "          ...,\n",
      "          [-3.8780e-04],\n",
      "          [-1.4896e-03],\n",
      "          [-1.3080e-03]],\n",
      "\n",
      "         ...,\n",
      "\n",
      "         [[ 0.0000e+00],\n",
      "          [ 2.9987e-02],\n",
      "          [ 1.3348e-02],\n",
      "          ...,\n",
      "          [-1.1639e-03],\n",
      "          [ 7.5945e-04],\n",
      "          [ 1.3774e-05]],\n",
      "\n",
      "         [[ 0.0000e+00],\n",
      "          [ 3.7005e-02],\n",
      "          [ 1.8460e-02],\n",
      "          ...,\n",
      "          [ 2.4825e-03],\n",
      "          [-1.9656e-03],\n",
      "          [-4.5951e-04]],\n",
      "\n",
      "         [[ 0.0000e+00],\n",
      "          [-1.3158e-03],\n",
      "          [ 4.4391e-04],\n",
      "          ...,\n",
      "          [ 1.4583e-04],\n",
      "          [-5.0023e-04],\n",
      "          [ 1.1856e-04]]]], device='cuda:0'),\n",
      " 'signal_2d_std': tensor([[[[143.8551],\n",
      "          [ 26.6534],\n",
      "          [ 13.4027],\n",
      "          ...,\n",
      "          [  1.3285],\n",
      "          [  1.3310],\n",
      "          [  1.3454]],\n",
      "\n",
      "         [[142.7049],\n",
      "          [ 23.2466],\n",
      "          [ 11.8896],\n",
      "          ...,\n",
      "          [  1.3211],\n",
      "          [  1.3157],\n",
      "          [  1.3340]],\n",
      "\n",
      "         [[139.3234],\n",
      "          [ 20.3611],\n",
      "          [ 11.1926],\n",
      "          ...,\n",
      "          [  1.3578],\n",
      "          [  1.3509],\n",
      "          [  1.3678]],\n",
      "\n",
      "         ...,\n",
      "\n",
      "         [[  0.0000],\n",
      "          [ 34.0265],\n",
      "          [ 18.9259],\n",
      "          ...,\n",
      "          [  1.1980],\n",
      "          [  1.1966],\n",
      "          [  1.2095]],\n",
      "\n",
      "         [[  0.0000],\n",
      "          [ 35.7948],\n",
      "          [ 19.5513],\n",
      "          ...,\n",
      "          [  1.2058],\n",
      "          [  1.2040],\n",
      "          [  1.2205]],\n",
      "\n",
      "         [[  0.0000],\n",
      "          [  6.4046],\n",
      "          [  5.6155],\n",
      "          ...,\n",
      "          [  1.3578],\n",
      "          [  1.3512],\n",
      "          [  1.3673]]]], device='cuda:0'),\n",
      " 'signal_header': ['Fp1-AVG',\n",
      "                   'F3-AVG',\n",
      "                   'C3-AVG',\n",
      "                   'P3-AVG',\n",
      "                   'O1-AVG',\n",
      "                   'Fp2-AVG',\n",
      "                   'F4-AVG',\n",
      "                   'C4-AVG',\n",
      "                   'P4-AVG',\n",
      "                   'O2-AVG',\n",
      "                   'F7-AVG',\n",
      "                   'T3-AVG',\n",
      "                   'T5-AVG',\n",
      "                   'F8-AVG',\n",
      "                   'T4-AVG',\n",
      "                   'T6-AVG',\n",
      "                   'FZ-AVG',\n",
      "                   'CZ-AVG',\n",
      "                   'PZ-AVG',\n",
      "                   'EKG',\n",
      "                   'Photic'],\n",
      " 'signal_length_limit': 10000000,\n",
      " 'signal_mean': tensor([[[ 0.1054],\n",
      "         [-0.0138],\n",
      "         [-0.0189],\n",
      "         [-0.0009],\n",
      "         [ 0.0231],\n",
      "         [ 0.0560],\n",
      "         [ 0.0525],\n",
      "         [-0.0023],\n",
      "         [-0.0081],\n",
      "         [ 0.0500],\n",
      "         [-0.0089],\n",
      "         [-0.0173],\n",
      "         [-0.0319],\n",
      "         [ 0.0050],\n",
      "         [-0.0391],\n",
      "         [ 0.0196],\n",
      "         [ 0.0205],\n",
      "         [-0.0033],\n",
      "         [-0.0215],\n",
      "         [-0.0123]]], device='cuda:0'),\n",
      " 'signal_std': tensor([[[49.8863],\n",
      "         [21.8240],\n",
      "         [12.5566],\n",
      "         [12.5296],\n",
      "         [16.8090],\n",
      "         [53.8090],\n",
      "         [21.3267],\n",
      "         [11.2155],\n",
      "         [12.4702],\n",
      "         [17.0327],\n",
      "         [21.8280],\n",
      "         [15.1929],\n",
      "         [14.6577],\n",
      "         [23.0735],\n",
      "         [18.4624],\n",
      "         [15.7213],\n",
      "         [20.7203],\n",
      "         [12.2132],\n",
      "         [12.5452],\n",
      "         [74.2791]]], device='cuda:0'),\n",
      " 'stft_params': {'hop_length': 45, 'n_fft': 179},\n",
      " 'task': 'task2',\n",
      " 'task_description': 'Classification of [Normal], [MCI], and [Dementia] symptoms.',\n",
      " 'task_name': 'CAUEEG-Dementia benchmark',\n",
      " 'test_crop_multiple': 8,\n",
      " 'total_samples': 100000000.0,\n",
      " 'transform': Compose(\n",
      "    EegRandomCrop(crop_length=4000, length_limit=10000000, multiple=4, latency=2000, return_timing=False)\n",
      "    EegDropChannels(drop_index=[19])\n",
      "    EegToTensor()\n",
      "),\n",
      " 'transform_multicrop': Compose(\n",
      "    EegRandomCrop(crop_length=4000, length_limit=10000000, multiple=8, latency=2000, return_timing=False)\n",
      "    EegDropChannels(drop_index=[19])\n",
      "    EegToTensor()\n",
      "),\n",
      " 'use_age': 'fc',\n",
      " 'use_wandb': True,\n",
      " 'warmup_min': 3000,\n",
      " 'warmup_ratio': 0.05,\n",
      " 'warmup_steps': 39062,\n",
      " 'watch_model': False,\n",
      " 'weight_decay': 0.01,\n",
      " 'width_per_group': 4}\n"
     ]
    },
    {
     "data": {
      "text/html": [
       "Waiting for W&B process to finish... <strong style=\"color:green\">(success).</strong>"
      ],
      "text/plain": [
       "<IPython.core.display.HTML object>"
      ]
     },
     "metadata": {},
     "output_type": "display_data"
    },
    {
     "data": {
      "application/vnd.jupyter.widget-view+json": {
       "model_id": "",
       "version_major": 2,
       "version_minor": 0
      },
      "text/plain": [
       "VBox(children=(Label(value='0.129 MB of 0.129 MB uploaded (0.000 MB deduped)\\r'), FloatProgress(value=1.0, max…"
      ]
     },
     "metadata": {},
     "output_type": "display_data"
    },
    {
     "data": {
      "text/html": [
       "<style>\n",
       "    table.wandb td:nth-child(1) { padding: 0 10px; text-align: left ; width: auto;} td:nth-child(2) {text-align: left ; width: 100%}\n",
       "    .wandb-row { display: flex; flex-direction: row; flex-wrap: wrap; justify-content: flex-start; width: 100% }\n",
       "    .wandb-col { display: flex; flex-direction: column; flex-basis: 100%; flex: 1; padding: 10px; }\n",
       "    </style>\n",
       "<div class=\"wandb-row\"><div class=\"wandb-col\"><h3>Run history:</h3><br/><table class=\"wandb\"><tr><td>Learning Rate</td><td>██████████████████████▁▁▁▁▁▁▁▁▁▁▁▁▁▁▁▁▁▁</td></tr><tr><td>Loss</td><td>▁▁▁▂▁▁▁▁▁▁▁▁▁▁▁▁▂▁▁▁▁▁█▁▁▁▁▁▁▁▁▁▁▁▂▁▁▁▁▁</td></tr><tr><td>Multi-Crop Test Accuracy</td><td>▁</td></tr><tr><td>Test Accuracy</td><td>▁</td></tr><tr><td>Train Accuracy</td><td>█▇█▇▇█▇▇██████▇█▅█████▁██████▇████▇▇████</td></tr><tr><td>Validation Accuracy</td><td>▆▅▄▇▆▄▅▄▇▅▆▄▅▅▄▄▃▇▇▅█▃▅▆▅▄▅▁▄▅▅▆█▂▁▄▁▂▆▃</td></tr></table><br/></div><div class=\"wandb-col\"><h3>Run summary:</h3><br/><table class=\"wandb\"><tr><td>Learning Rate</td><td>0.0</td></tr><tr><td>Loss</td><td>0.0</td></tr><tr><td>Multi-Crop Test Accuracy</td><td>67.65537</td></tr><tr><td>Test Accuracy</td><td>66.10169</td></tr><tr><td>Train Accuracy</td><td>100.0</td></tr><tr><td>Validation Accuracy</td><td>63.9916</td></tr></table><br/></div></div>"
      ],
      "text/plain": [
       "<IPython.core.display.HTML object>"
      ]
     },
     "metadata": {},
     "output_type": "display_data"
    },
    {
     "data": {
      "text/html": [
       "Synced <strong style=\"color:#cdcd00\">35i3jb9v</strong>: <a href=\"https://wandb.ai/ipis-mjkim/sweep-test/runs/35i3jb9v\" target=\"_blank\">https://wandb.ai/ipis-mjkim/sweep-test/runs/35i3jb9v</a><br/>Synced 3 W&B file(s), 3 media file(s), 0 artifact file(s) and 1 other file(s)"
      ],
      "text/plain": [
       "<IPython.core.display.HTML object>"
      ]
     },
     "metadata": {},
     "output_type": "display_data"
    },
    {
     "data": {
      "text/html": [
       "Find logs at: <code>.\\wandb\\run-20220801_161631-35i3jb9v\\logs</code>"
      ],
      "text/plain": [
       "<IPython.core.display.HTML object>"
      ]
     },
     "metadata": {},
     "output_type": "display_data"
    }
   ],
   "source": [
    "prepare_and_run_train(rank=None, world_size=None, config=config)"
   ]
  },
  {
   "cell_type": "code",
   "execution_count": null,
   "metadata": {},
   "outputs": [],
   "source": []
  }
 ],
 "metadata": {
  "kernelspec": {
   "display_name": "Python 3 (ipykernel)",
   "language": "python",
   "name": "python3"
  },
  "language_info": {
   "codemirror_mode": {
    "name": "ipython",
    "version": 3
   },
   "file_extension": ".py",
   "mimetype": "text/x-python",
   "name": "python",
   "nbconvert_exporter": "python",
   "pygments_lexer": "ipython3",
   "version": "3.12.4"
  }
 },
 "nbformat": 4,
 "nbformat_minor": 4
}
