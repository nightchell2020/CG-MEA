{
 "cells": [
  {
   "cell_type": "markdown",
   "id": "d74515d5-5f25-477b-9a97-ed1f9b6d4c51",
   "metadata": {
    "pycharm": {
     "name": "#%% md\n"
    }
   },
   "source": [
    "# Evaluate\n",
    "\n",
    "This notebook evaluates the network trained previous notebooks and analyzes the results."
   ]
  },
  {
   "cell_type": "markdown",
   "id": "b8a2666f-6b4b-4748-9dca-2884347a1f0f",
   "metadata": {
    "pycharm": {
     "name": "#%% md\n"
    }
   },
   "source": [
    "-----\n",
    "\n",
    "## Load Packages"
   ]
  },
  {
   "cell_type": "code",
   "execution_count": 1,
   "id": "df587e38-b1a9-42c8-9b50-680200a9bec7",
   "metadata": {
    "pycharm": {
     "name": "#%%\n"
    }
   },
   "outputs": [
    {
     "name": "stdout",
     "output_type": "stream",
     "text": [
      "C:\\Users\\Minjae\\Desktop\\EEG_Project\n"
     ]
    }
   ],
   "source": [
    "# for auto-reloading external modules\n",
    "# see http://stackoverflow.com/questions/1907993/autoreload-of-modules-in-ipython\n",
    "%cd ..\n",
    "%load_ext autoreload\n",
    "%autoreload 2"
   ]
  },
  {
   "cell_type": "code",
   "execution_count": 2,
   "id": "8fb41bf8-1713-4228-b799-0e1c87545a16",
   "metadata": {
    "pycharm": {
     "name": "#%%\n"
    }
   },
   "outputs": [],
   "source": [
    "# Load some packages\n",
    "import os\n",
    "import glob\n",
    "import wandb\n",
    "import pprint"
   ]
  },
  {
   "cell_type": "markdown",
   "id": "d2a62fa4-aa53-49d5-8ab4-2e2aaf7b65d1",
   "metadata": {
    "pycharm": {
     "name": "#%% md\n"
    },
    "tags": []
   },
   "source": [
    "-----\n",
    "\n",
    "## Check File Directory"
   ]
  },
  {
   "cell_type": "code",
   "execution_count": null,
   "id": "322f4762-69bc-46fc-ab7b-6983bf04ddfd",
   "metadata": {},
   "outputs": [],
   "source": [
    "ckt_folders = []\n",
    "for full_path in glob.glob('local/checkpoint_temp/*'):\n",
    "    ckt_folders.append(os.path.basename(full_path))\n",
    "    \n",
    "pprint.pprint(ckt_folders)"
   ]
  },
  {
   "cell_type": "code",
   "execution_count": null,
   "id": "0c335405-e7dc-4299-b73a-e314d47209d2",
   "metadata": {},
   "outputs": [],
   "source": [
    "project_names = ['caueeg-task1', 'caueeg-task2', 'sweep-test', 'eeg-analysis-2', 'sweep_task1_ddp']\n",
    "\n",
    "api = wandb.Api()\n",
    "for project in project_names:\n",
    "    runs = api.runs(f\"ipis-mjkim/{project}\")\n",
    "\n",
    "    for run in runs:\n",
    "        if run.name in ckt_folders:\n",
    "            print(run)\n",
    "            ckt_folders.remove(run.name)\n",
    "        else:\n",
    "            print('NO:', run)"
   ]
  },
  {
   "cell_type": "code",
   "execution_count": null,
   "id": "ce80b9bd-7ed0-4b06-9fad-166ce649e8aa",
   "metadata": {},
   "outputs": [],
   "source": [
    "# import shutil\n",
    "# for folder in ckt_folders:\n",
    "#     shutil.rmtree(os.path.join('local/checkpoint_temp/', folder), ignore_errors=False, onerror=None)"
   ]
  },
  {
   "cell_type": "code",
   "execution_count": null,
   "id": "49b37810-7ba3-4036-a4a0-25125dae8dd5",
   "metadata": {},
   "outputs": [],
   "source": []
  },
  {
   "cell_type": "code",
   "execution_count": null,
   "id": "b2410683-42bf-434c-a9dd-c386902be972",
   "metadata": {},
   "outputs": [
    {
     "name": "stdout",
     "output_type": "stream",
     "text": [
      "['0ggr5qhq',\n",
      " '0svudowu',\n",
      " '1062my8w',\n",
      " '18lkfaaw',\n",
      " '1c8fc6sm',\n",
      " '1ffszpm4',\n",
      " '1giwk8zt',\n",
      " '1lkk6af2',\n",
      " '1mr9qo9a',\n",
      " '1sl7ipca',\n",
      " '1tdyketc',\n",
      " '1ugijqkz',\n",
      " '1wdwg79a',\n",
      " '21ezd61h',\n",
      " '25evht9o',\n",
      " '261dq5me',\n",
      " '2d7hh1d1',\n",
      " '2hoetgzz',\n",
      " '2o93ceuj',\n",
      " '2s070mu0',\n",
      " '2svr4k2h',\n",
      " '2tk0hoft',\n",
      " '2wdvanp5',\n",
      " '2ytgdt65',\n",
      " '33qol7k6',\n",
      " '3kr02n5w',\n",
      " '3ngty53a',\n",
      " '43p94q9e',\n",
      " '4439k9pg',\n",
      " '46111j6d',\n",
      " '4ncdd1w1',\n",
      " '4tqv22h2',\n",
      " '63cxselw',\n",
      " '6rcq11k1',\n",
      " '81wtsv8z',\n",
      " '84lxwwe9',\n",
      " '8c2a57a0',\n",
      " '8j0p6gu2',\n",
      " '8x7u80ss',\n",
      " '90vf6klf',\n",
      " '9htp3msy',\n",
      " 'afcb5kv3',\n",
      " 'amzr0uzt',\n",
      " 'arn6s5v2',\n",
      " 'biggl0no',\n",
      " 'bluf54lu',\n",
      " 'bocotv1e',\n",
      " 'cflv6qxe',\n",
      " 'cgszsx9e',\n",
      " 'chhm8p9x',\n",
      " 'coge5ofz',\n",
      " 'csgwbf00',\n",
      " 'd07ab3g0',\n",
      " 'dixqs4j7',\n",
      " 'dn10a6bv',\n",
      " 'du081bf7',\n",
      " 'e0c04y1h',\n",
      " 'erjxbgi7',\n",
      " 'eyg8nror',\n",
      " 'fbpzp2jk',\n",
      " 'fd84s9bp',\n",
      " 'fq3sat1x',\n",
      " 'g16kn72o',\n",
      " 'gefkh07l',\n",
      " 'gghnq1eb',\n",
      " 'glem9euv',\n",
      " 'gvqyvmrj',\n",
      " 'hbae1luo',\n",
      " 'hd8fh8mm',\n",
      " 'he9wcy6b',\n",
      " 'hqvas11u',\n",
      " 'j42o2ohm',\n",
      " 'j64ltsy3',\n",
      " 'jjk1coy8',\n",
      " 'k18je5vr',\n",
      " 'k4myndud',\n",
      " 'k80aa9ck',\n",
      " 'kp500s1y',\n",
      " 'kwa7qavy',\n",
      " 'lm6j0kiz',\n",
      " 'lo88puq7',\n",
      " 'meo7bmtd',\n",
      " 'n8ygkhhn',\n",
      " 'nda0w7ib',\n",
      " 'nemy8ikm',\n",
      " 'nm75k0vq',\n",
      " 'nrw9nlm5',\n",
      " 'nswgsypv',\n",
      " 'nymygq8h',\n",
      " 'ovvcnv2z',\n",
      " 'q0tqyqxf',\n",
      " 'q1hhkmik',\n",
      " 'q1ue5sma',\n",
      " 'qdvcw3lq',\n",
      " 'qud2zord',\n",
      " 'rcekm083',\n",
      " 'ruqd8r7g',\n",
      " 's7ob5r6a',\n",
      " 'seo4vyps',\n",
      " 'skif7eyo',\n",
      " 'sp4gnhl6',\n",
      " 'suyg4ec9',\n",
      " 't70b1x4o',\n",
      " 'tie5jlb4',\n",
      " 'tmxlmto3',\n",
      " 'tp7qn5hd',\n",
      " 'tua2e9ub',\n",
      " 'usi0jekd',\n",
      " 'v301o425',\n",
      " 'vcrxojhg',\n",
      " 'vgoxhm4a',\n",
      " 'vowr0lgg',\n",
      " 'vtqwqc5z',\n",
      " 'wl8u9vkp',\n",
      " 'wna34ps1',\n",
      " 'wnuhcmh1',\n",
      " 'wo21qj77',\n",
      " 'x79nqwm4',\n",
      " 'xci5svkl',\n",
      " 'xmprhtdt',\n",
      " 'xzajtaog',\n",
      " 'yir9g4lz',\n",
      " 'yqptphma',\n",
      " 'ytb1raqf',\n",
      " 'zjftq8a4',\n",
      " 'zlypije8',\n",
      " '_others']\n"
     ]
    }
   ],
   "source": [
    "ckt_folders = []\n",
    "for full_path in glob.glob(r'E:\\CAUEEG\\checkpoint/*'):\n",
    "    ckt_folders.append(os.path.basename(full_path))\n",
    "    \n",
    "pprint.pprint(ckt_folders)"
   ]
  },
  {
   "cell_type": "code",
   "execution_count": null,
   "id": "4a3b6c8c-39ca-4ada-9e1c-04615a42de3a",
   "metadata": {},
   "outputs": [],
   "source": []
  }
 ],
 "metadata": {
  "kernelspec": {
   "display_name": "Python 3 (ipykernel)",
   "language": "python",
   "name": "python3"
  },
  "language_info": {
   "codemirror_mode": {
    "name": "ipython",
    "version": 3
   },
   "file_extension": ".py",
   "mimetype": "text/x-python",
   "name": "python",
   "nbconvert_exporter": "python",
   "pygments_lexer": "ipython3",
   "version": "3.9.12"
  }
 },
 "nbformat": 4,
 "nbformat_minor": 5
}
