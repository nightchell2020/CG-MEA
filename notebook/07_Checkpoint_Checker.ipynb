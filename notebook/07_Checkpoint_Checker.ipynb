{
 "cells": [
  {
   "cell_type": "markdown",
   "id": "d74515d5-5f25-477b-9a97-ed1f9b6d4c51",
   "metadata": {
    "pycharm": {
     "name": "#%% md\n"
    }
   },
   "source": [
    "# Evaluate\n",
    "\n",
    "This notebook evaluates the network trained previous notebooks and analyzes the results."
   ]
  },
  {
   "cell_type": "markdown",
   "id": "b8a2666f-6b4b-4748-9dca-2884347a1f0f",
   "metadata": {
    "pycharm": {
     "name": "#%% md\n"
    }
   },
   "source": [
    "-----\n",
    "\n",
    "## Load Packages"
   ]
  },
  {
   "cell_type": "code",
   "execution_count": 7,
   "id": "df587e38-b1a9-42c8-9b50-680200a9bec7",
   "metadata": {
    "pycharm": {
     "name": "#%%\n"
    }
   },
   "outputs": [
    {
     "name": "stdout",
     "output_type": "stream",
     "text": [
      "C:\\Users\\Minjae\\Desktop\n",
      "The autoreload extension is already loaded. To reload it, use:\n",
      "  %reload_ext autoreload\n"
     ]
    }
   ],
   "source": [
    "# for auto-reloading external modules\n",
    "# see http://stackoverflow.com/questions/1907993/autoreload-of-modules-in-ipython\n",
    "%cd ..\n",
    "%load_ext autoreload\n",
    "%autoreload 2"
   ]
  },
  {
   "cell_type": "code",
   "execution_count": 8,
   "id": "8fb41bf8-1713-4228-b799-0e1c87545a16",
   "metadata": {
    "pycharm": {
     "name": "#%%\n"
    }
   },
   "outputs": [],
   "source": [
    "# Load some packages\n",
    "import os\n",
    "import glob\n",
    "import wandb\n",
    "import pprint\n",
    "import torch"
   ]
  },
  {
   "cell_type": "markdown",
   "id": "d2a62fa4-aa53-49d5-8ab4-2e2aaf7b65d1",
   "metadata": {
    "pycharm": {
     "name": "#%% md\n"
    },
    "tags": []
   },
   "source": [
    "-----\n",
    "\n",
    "## Check File Directory"
   ]
  },
  {
   "cell_type": "code",
   "execution_count": 9,
   "id": "322f4762-69bc-46fc-ab7b-6983bf04ddfd",
   "metadata": {},
   "outputs": [
    {
     "name": "stdout",
     "output_type": "stream",
     "text": [
      "['1xhv4ae6',\n",
      " '38ws4ipr',\n",
      " '3asody5j',\n",
      " '3cy4eb97',\n",
      " '3jmkkwbc',\n",
      " '3t0s53ki',\n",
      " '3zerywji',\n",
      " '49rgf9i2',\n",
      " '86s3czvy',\n",
      " '8nwwmyse',\n",
      " '95jvt9sj',\n",
      " '9if9pe2b',\n",
      " 'a5802pae',\n",
      " 'bth4tuin',\n",
      " 'cntuty45',\n",
      " 'cygczhuk',\n",
      " 'd37sa3wb',\n",
      " 'diw1e87p',\n",
      " 'dv6c4nqs',\n",
      " 'ehh4f6gj',\n",
      " 'fbl6fvwa',\n",
      " 'fh2cxgfe',\n",
      " 'futwmhmy',\n",
      " 'gm7hugo0',\n",
      " 'h7ftz058',\n",
      " 'hmhw80kp',\n",
      " 'i8bx2s6r',\n",
      " 'ijlhxyje',\n",
      " 'ikik8fuj',\n",
      " 'j5woayy7',\n",
      " 'j5ybdq18',\n",
      " 'jw2roo3e',\n",
      " 'l8524nml',\n",
      " 'n8v8w9jw',\n",
      " 'nawfh27q',\n",
      " 'pczom48v',\n",
      " 'pt76ipio',\n",
      " 'q8yjiofj',\n",
      " 'r19uf838',\n",
      " 'sqkotpcb',\n",
      " 't0j6ipeb',\n",
      " 't1xzqrjh',\n",
      " 'vuk1myed',\n",
      " 'wvbwetbt',\n",
      " 'zd1rdp3a']\n"
     ]
    }
   ],
   "source": [
    "ckt_folders = []\n",
    "for full_path in glob.glob('E:/CAUEEG/checkpoint_temp/*'):\n",
    "    ckt_folders.append(os.path.basename(full_path))\n",
    "    \n",
    "    try:\n",
    "        ckpt = torch.load(os.path.join(full_path, 'checkpoint.pt'), map_location='cpu')\n",
    "    except Exception as e:\n",
    "        print(e)\n",
    "        print(f'- checkpoint cannot be opened: {full_path}')\n",
    "    \n",
    "pprint.pprint(ckt_folders)"
   ]
  },
  {
   "cell_type": "code",
   "execution_count": 10,
   "id": "0c335405-e7dc-4299-b73a-e314d47209d2",
   "metadata": {},
   "outputs": [
    {
     "name": "stdout",
     "output_type": "stream",
     "text": [
      "[]\n"
     ]
    }
   ],
   "source": [
    "project_names = ['caueeg-task1', 'caueeg-task2', 'sweep-test', 'caueeg-task2-segmented', 'caueeg-task2-ablation', 'noname']\n",
    "\n",
    "api = wandb.Api()\n",
    "for project in project_names:\n",
    "    runs = api.runs(f\"ipis-mjkim/{project}\")\n",
    "\n",
    "    for run in runs:\n",
    "        if run.name in ckt_folders:\n",
    "            ckt_folders.remove(run.name)\n",
    "\n",
    "print(ckt_folders)"
   ]
  },
  {
   "cell_type": "code",
   "execution_count": null,
   "id": "ce80b9bd-7ed0-4b06-9fad-166ce649e8aa",
   "metadata": {},
   "outputs": [],
   "source": [
    "# import shutil\n",
    "# for folder in ckt_folders:\n",
    "#     shutil.rmtree(os.path.join('local/checkpoint_temp/', folder), ignore_errors=False, onerror=None)"
   ]
  },
  {
   "cell_type": "code",
   "execution_count": null,
   "id": "b2410683-42bf-434c-a9dd-c386902be972",
   "metadata": {},
   "outputs": [],
   "source": [
    "# ckt_folders = []\n",
    "# for full_path in glob.glob(r'E:\\CAUEEG\\checkpoint/*'):\n",
    "#     ckt_folders.append(os.path.basename(full_path))\n",
    "    \n",
    "# pprint.pprint(ckt_folders)"
   ]
  },
  {
   "cell_type": "code",
   "execution_count": null,
   "id": "4a3b6c8c-39ca-4ada-9e1c-04615a42de3a",
   "metadata": {},
   "outputs": [],
   "source": []
  }
 ],
 "metadata": {
  "kernelspec": {
   "display_name": "Python 3 (ipykernel)",
   "language": "python",
   "name": "python3"
  },
  "language_info": {
   "codemirror_mode": {
    "name": "ipython",
    "version": 3
   },
   "file_extension": ".py",
   "mimetype": "text/x-python",
   "name": "python",
   "nbconvert_exporter": "python",
   "pygments_lexer": "ipython3",
   "version": "3.9.12"
  }
 },
 "nbformat": 4,
 "nbformat_minor": 5
}
