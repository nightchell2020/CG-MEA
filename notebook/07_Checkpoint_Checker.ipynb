{
 "cells": [
  {
   "cell_type": "markdown",
   "id": "d74515d5-5f25-477b-9a97-ed1f9b6d4c51",
   "metadata": {
    "pycharm": {
     "name": "#%% md\n"
    }
   },
   "source": [
    "# Evaluate\n",
    "\n",
    "This notebook evaluates the network trained previous notebooks and analyzes the results."
   ]
  },
  {
   "cell_type": "markdown",
   "id": "b8a2666f-6b4b-4748-9dca-2884347a1f0f",
   "metadata": {
    "pycharm": {
     "name": "#%% md\n"
    }
   },
   "source": [
    "-----\n",
    "\n",
    "## Load Packages"
   ]
  },
  {
   "cell_type": "code",
   "execution_count": 1,
   "id": "df587e38-b1a9-42c8-9b50-680200a9bec7",
   "metadata": {
    "pycharm": {
     "name": "#%%\n"
    }
   },
   "outputs": [
    {
     "name": "stdout",
     "output_type": "stream",
     "text": [
      "C:\\Users\\Minjae\\Desktop\\EEG_Project\n"
     ]
    }
   ],
   "source": [
    "# for auto-reloading external modules\n",
    "# see http://stackoverflow.com/questions/1907993/autoreload-of-modules-in-ipython\n",
    "%cd ..\n",
    "%load_ext autoreload\n",
    "%autoreload 2"
   ]
  },
  {
   "cell_type": "code",
   "execution_count": 2,
   "id": "8fb41bf8-1713-4228-b799-0e1c87545a16",
   "metadata": {
    "pycharm": {
     "name": "#%%\n"
    }
   },
   "outputs": [],
   "source": [
    "# Load some packages\n",
    "import os\n",
    "import glob\n",
    "import wandb\n",
    "import pprint"
   ]
  },
  {
   "cell_type": "markdown",
   "id": "d2a62fa4-aa53-49d5-8ab4-2e2aaf7b65d1",
   "metadata": {
    "pycharm": {
     "name": "#%% md\n"
    },
    "tags": []
   },
   "source": [
    "-----\n",
    "\n",
    "## Check File Directory"
   ]
  },
  {
   "cell_type": "code",
   "execution_count": 3,
   "id": "322f4762-69bc-46fc-ab7b-6983bf04ddfd",
   "metadata": {},
   "outputs": [
    {
     "name": "stdout",
     "output_type": "stream",
     "text": [
      "['0591bruh',\n",
      " '0ggr5qhq',\n",
      " '0hlrf5mr',\n",
      " '0q02wwpm',\n",
      " '1062my8w',\n",
      " '1giwk8zt',\n",
      " '1lkk6af2',\n",
      " '1sl7ipca',\n",
      " '1tdyketc',\n",
      " '1ugijqkz',\n",
      " '212u6i4s',\n",
      " '261dq5me',\n",
      " '2d7hh1d1',\n",
      " '2o93ceuj',\n",
      " '2svr4k2h',\n",
      " '2wfg3o05',\n",
      " '2x14weux',\n",
      " '3995jqpn',\n",
      " '3c3q9t9r',\n",
      " '3m5pvdeb',\n",
      " '43p94q9e',\n",
      " '4tqv22h2',\n",
      " '5prmq0ie',\n",
      " '6ec0xows',\n",
      " '6rcq11k1',\n",
      " '84lxwwe9',\n",
      " '8jfz3nfi',\n",
      " 'a8esjq26',\n",
      " 'amzr0uzt',\n",
      " 'appfl07a',\n",
      " 'arn6s5v2',\n",
      " 'bocotv1e',\n",
      " 'by8z95io',\n",
      " 'cflv6qxe',\n",
      " 'cgszsx9e',\n",
      " 'coge5ofz',\n",
      " 'csgwbf00',\n",
      " 'd07ab3g0',\n",
      " 'ehdl4gm8',\n",
      " 'erjxbgi7',\n",
      " 'fooqrj5v',\n",
      " 'gghnq1eb',\n",
      " 'glem9euv',\n",
      " 'gs5ba5o9',\n",
      " 'gvqyvmrj',\n",
      " 'hbae1luo',\n",
      " 'ho27zhme',\n",
      " 'k18je5vr',\n",
      " 'li7efe5s',\n",
      " 'lm6j0kiz',\n",
      " 'meo7bmtd',\n",
      " 'n8ygkhhn',\n",
      " 'nrw9nlm5',\n",
      " 'nymygq8h',\n",
      " 'orbse8rs',\n",
      " 'ovvcnv2z',\n",
      " 'q0tqyqxf',\n",
      " 'qud2zord',\n",
      " 's7ob5r6a',\n",
      " 'tua2e9ub',\n",
      " 'uog1y3t2',\n",
      " 'usi0jekd',\n",
      " 'vtqwqc5z',\n",
      " 'wna34ps1',\n",
      " 'wnuhcmh1',\n",
      " 'xci5svkl',\n",
      " 'xzajtaog',\n",
      " 'yir9g4lz',\n",
      " 'yqptphma',\n",
      " 'ytb1raqf',\n",
      " 'zjftq8a4']\n"
     ]
    }
   ],
   "source": [
    "ckt_folders = []\n",
    "for full_path in glob.glob('local/checkpoint_temp/*'):\n",
    "    ckt_folders.append(os.path.basename(full_path))\n",
    "    \n",
    "pprint.pprint(ckt_folders)"
   ]
  },
  {
   "cell_type": "code",
   "execution_count": 4,
   "id": "0c335405-e7dc-4299-b73a-e314d47209d2",
   "metadata": {},
   "outputs": [
    {
     "name": "stdout",
     "output_type": "stream",
     "text": [
      "<Run ipis-mjkim/caueeg-task1/vowr0lgg (running)>\n",
      "<Run ipis-mjkim/caueeg-task2/amzr0uzt (finished)>\n",
      "<Run ipis-mjkim/caueeg-task2/0ggr5qhq (finished)>\n",
      "<Run ipis-mjkim/caueeg-task2/coge5ofz (finished)>\n",
      "<Run ipis-mjkim/caueeg-task2/nymygq8h (finished)>\n",
      "<Run ipis-mjkim/caueeg-task2/k18je5vr (finished)>\n",
      "<Run ipis-mjkim/caueeg-task2/lm6j0kiz (finished)>\n",
      "<Run ipis-mjkim/caueeg-task2/4tqv22h2 (finished)>\n",
      "<Run ipis-mjkim/caueeg-task2/n8ygkhhn (finished)>\n",
      "<Run ipis-mjkim/caueeg-task2/arn6s5v2 (finished)>\n",
      "<Run ipis-mjkim/caueeg-task2/1giwk8zt (finished)>\n",
      "<Run ipis-mjkim/caueeg-task2/yir9g4lz (finished)>\n",
      "<Run ipis-mjkim/caueeg-task2/1lkk6af2 (finished)>\n",
      "<Run ipis-mjkim/caueeg-task2/6rcq11k1 (finished)>\n",
      "<Run ipis-mjkim/caueeg-task2/261dq5me (finished)>\n",
      "<Run ipis-mjkim/caueeg-task2/bocotv1e (finished)>\n",
      "<Run ipis-mjkim/caueeg-task2/ytb1raqf (finished)>\n",
      "<Run ipis-mjkim/caueeg-task2/1062my8w (finished)>\n",
      "<Run ipis-mjkim/caueeg-task2/zjftq8a4 (finished)>\n",
      "<Run ipis-mjkim/caueeg-task2/1sl7ipca (finished)>\n",
      "<Run ipis-mjkim/caueeg-task2/84lxwwe9 (finished)>\n",
      "<Run ipis-mjkim/caueeg-task2/wnuhcmh1 (finished)>\n",
      "<Run ipis-mjkim/caueeg-task2/gghnq1eb (finished)>\n",
      "<Run ipis-mjkim/caueeg-task2/cflv6qxe (finished)>\n",
      "<Run ipis-mjkim/caueeg-task2/qud2zord (finished)>\n",
      "<Run ipis-mjkim/caueeg-task2/ovvcnv2z (finished)>\n",
      "<Run ipis-mjkim/caueeg-task2/glem9euv (finished)>\n",
      "<Run ipis-mjkim/caueeg-task2/xzajtaog (finished)>\n",
      "<Run ipis-mjkim/caueeg-task2/gvqyvmrj (finished)>\n",
      "<Run ipis-mjkim/caueeg-task2/tua2e9ub (finished)>\n",
      "<Run ipis-mjkim/caueeg-task2/erjxbgi7 (finished)>\n",
      "<Run ipis-mjkim/caueeg-task2/2svr4k2h (finished)>\n",
      "<Run ipis-mjkim/caueeg-task2/xci5svkl (finished)>\n",
      "<Run ipis-mjkim/caueeg-task2/1tdyketc (finished)>\n",
      "<Run ipis-mjkim/caueeg-task2/vtqwqc5z (finished)>\n",
      "<Run ipis-mjkim/caueeg-task2/meo7bmtd (finished)>\n",
      "<Run ipis-mjkim/caueeg-task2/yqptphma (finished)>\n",
      "<Run ipis-mjkim/caueeg-task2/43p94q9e (finished)>\n",
      "<Run ipis-mjkim/caueeg-task2/hbae1luo (finished)>\n",
      "<Run ipis-mjkim/caueeg-task2/d07ab3g0 (finished)>\n",
      "<Run ipis-mjkim/caueeg-task2/s7ob5r6a (finished)>\n",
      "<Run ipis-mjkim/caueeg-task2/2d7hh1d1 (finished)>\n",
      "<Run ipis-mjkim/caueeg-task2/1ugijqkz (finished)>\n",
      "<Run ipis-mjkim/caueeg-task2/csgwbf00 (finished)>\n",
      "<Run ipis-mjkim/caueeg-task2/cgszsx9e (finished)>\n",
      "<Run ipis-mjkim/caueeg-task2/2o93ceuj (finished)>\n",
      "<Run ipis-mjkim/caueeg-task2/wna34ps1 (finished)>\n",
      "<Run ipis-mjkim/caueeg-task2/q0tqyqxf (finished)>\n",
      "<Run ipis-mjkim/caueeg-task2/nrw9nlm5 (finished)>\n",
      "<Run ipis-mjkim/caueeg-task2/usi0jekd (finished)>\n",
      "<Run ipis-mjkim/sweep-test/8x7u80ss (running)>\n",
      "<Run ipis-mjkim/eeg-analysis-2/dnywz7t3 (finished)>\n",
      "<Run ipis-mjkim/eeg-analysis-2/anfn8mdf (finished)>\n",
      "<Run ipis-mjkim/eeg-analysis-2/k9214027 (finished)>\n",
      "<Run ipis-mjkim/eeg-analysis-2/jp01lswr (finished)>\n",
      "<Run ipis-mjkim/eeg-analysis-2/f0fw3ifd (finished)>\n",
      "<Run ipis-mjkim/eeg-analysis-2/2f2m83x8 (finished)>\n",
      "<Run ipis-mjkim/eeg-analysis-2/rcofr0q2 (finished)>\n",
      "<Run ipis-mjkim/eeg-analysis-2/d5yrr72c (finished)>\n",
      "<Run ipis-mjkim/eeg-analysis-2/e1fcjpoj (finished)>\n",
      "<Run ipis-mjkim/eeg-analysis-2/ywh4h48o (finished)>\n",
      "<Run ipis-mjkim/eeg-analysis-2/1ygpfq74 (finished)>\n",
      "<Run ipis-mjkim/eeg-analysis-2/h2a2t1td (finished)>\n",
      "<Run ipis-mjkim/eeg-analysis-2/0pt94284 (finished)>\n",
      "<Run ipis-mjkim/eeg-analysis-2/888gcdh7 (finished)>\n",
      "<Run ipis-mjkim/eeg-analysis-2/3syfa04w (finished)>\n",
      "<Run ipis-mjkim/eeg-analysis-2/2hjhqfr7 (finished)>\n",
      "<Run ipis-mjkim/eeg-analysis-2/r7y3la2y (finished)>\n",
      "<Run ipis-mjkim/eeg-analysis-2/pfc8ldn5 (finished)>\n",
      "<Run ipis-mjkim/eeg-analysis-2/giigq9nx (finished)>\n",
      "<Run ipis-mjkim/eeg-analysis-2/qvh6oa6o (finished)>\n",
      "<Run ipis-mjkim/eeg-analysis-2/feuavviq (finished)>\n",
      "<Run ipis-mjkim/eeg-analysis-2/h8rft2cs (finished)>\n",
      "<Run ipis-mjkim/eeg-analysis-2/slgqpgpd (finished)>\n",
      "<Run ipis-mjkim/eeg-analysis-2/nlx0opvn (finished)>\n",
      "<Run ipis-mjkim/eeg-analysis-2/l3rzrkup (finished)>\n",
      "<Run ipis-mjkim/eeg-analysis-2/8j987ld2 (finished)>\n",
      "<Run ipis-mjkim/eeg-analysis-2/at4nw3t2 (finished)>\n",
      "<Run ipis-mjkim/eeg-analysis-2/9izi554z (finished)>\n",
      "<Run ipis-mjkim/eeg-analysis-2/d8ulpl2n (finished)>\n",
      "<Run ipis-mjkim/eeg-analysis-2/cvme0k63 (finished)>\n",
      "<Run ipis-mjkim/eeg-analysis-2/pm79dw7j (finished)>\n",
      "<Run ipis-mjkim/eeg-analysis-2/eazjmgkn (finished)>\n",
      "<Run ipis-mjkim/eeg-analysis-2/f7zyrxas (finished)>\n",
      "<Run ipis-mjkim/eeg-analysis-2/nv5sipsn (finished)>\n",
      "<Run ipis-mjkim/eeg-analysis-2/4mh76qo7 (finished)>\n",
      "<Run ipis-mjkim/eeg-analysis-2/eej83u4e (finished)>\n",
      "<Run ipis-mjkim/eeg-analysis-2/whun1zn3 (finished)>\n",
      "<Run ipis-mjkim/eeg-analysis-2/p4ktch7c (finished)>\n",
      "<Run ipis-mjkim/eeg-analysis-2/p77roe98 (finished)>\n",
      "<Run ipis-mjkim/eeg-analysis-2/o9sx3xtj (finished)>\n",
      "<Run ipis-mjkim/eeg-analysis-2/s7hbcs8e (finished)>\n",
      "<Run ipis-mjkim/eeg-analysis-2/u6mp1syi (finished)>\n",
      "<Run ipis-mjkim/eeg-analysis-2/hhpge7zw (finished)>\n",
      "<Run ipis-mjkim/eeg-analysis-2/5lwydu26 (finished)>\n",
      "<Run ipis-mjkim/eeg-analysis-2/kx3vzyhe (finished)>\n",
      "<Run ipis-mjkim/eeg-analysis-2/ntfffc9k (finished)>\n",
      "<Run ipis-mjkim/eeg-analysis-2/8q1epjmr (finished)>\n",
      "<Run ipis-mjkim/eeg-analysis-2/bcil5xvu (finished)>\n",
      "<Run ipis-mjkim/eeg-analysis-2/a9muxpe1 (finished)>\n",
      "<Run ipis-mjkim/eeg-analysis-2/hnztuwbf (finished)>\n",
      "<Run ipis-mjkim/eeg-analysis-2/za5eixg6 (finished)>\n",
      "<Run ipis-mjkim/eeg-analysis-2/c8fur4i9 (finished)>\n",
      "<Run ipis-mjkim/eeg-analysis-2/xne358t3 (finished)>\n",
      "<Run ipis-mjkim/eeg-analysis-2/y5exvham (finished)>\n",
      "<Run ipis-mjkim/eeg-analysis-2/xcx0xv5a (finished)>\n",
      "<Run ipis-mjkim/eeg-analysis-2/qkia87pv (finished)>\n",
      "<Run ipis-mjkim/eeg-analysis-2/vptp9ekk (finished)>\n",
      "<Run ipis-mjkim/eeg-analysis-2/0mnokq9p (finished)>\n",
      "<Run ipis-mjkim/eeg-analysis-2/wm1rnzps (finished)>\n",
      "<Run ipis-mjkim/eeg-analysis-2/0t4y2ow3 (finished)>\n",
      "<Run ipis-mjkim/eeg-analysis-2/co8wmdox (finished)>\n",
      "<Run ipis-mjkim/eeg-analysis-2/nulgr5fl (finished)>\n",
      "<Run ipis-mjkim/eeg-analysis-2/smyi0qf2 (finished)>\n",
      "<Run ipis-mjkim/eeg-analysis-2/5p65cpjr (finished)>\n",
      "<Run ipis-mjkim/eeg-analysis-2/8bwjxir6 (finished)>\n",
      "<Run ipis-mjkim/eeg-analysis-2/fv0o2bv1 (finished)>\n",
      "<Run ipis-mjkim/eeg-analysis-2/zenhw3de (finished)>\n",
      "<Run ipis-mjkim/eeg-analysis-2/p0lo0i0z (finished)>\n",
      "<Run ipis-mjkim/eeg-analysis-2/pz4tj1z6 (finished)>\n",
      "<Run ipis-mjkim/eeg-analysis-2/fwwxmiav (finished)>\n",
      "<Run ipis-mjkim/eeg-analysis-2/8qtq2952 (finished)>\n",
      "<Run ipis-mjkim/eeg-analysis-2/nl9hrabj (finished)>\n",
      "<Run ipis-mjkim/eeg-analysis-2/jn4rogag (finished)>\n",
      "<Run ipis-mjkim/eeg-analysis-2/d8kqu3bt (finished)>\n",
      "<Run ipis-mjkim/eeg-analysis-2/dbp5gmv8 (finished)>\n",
      "<Run ipis-mjkim/eeg-analysis-2/mm2b7the (finished)>\n"
     ]
    }
   ],
   "source": [
    "project_names = ['caueeg-task1', 'caueeg-task2', 'sweep-test', 'eeg-analysis-2']\n",
    "\n",
    "api = wandb.Api()\n",
    "for project in project_names:\n",
    "    runs = api.runs(f\"ipis-mjkim/{project}\")\n",
    "\n",
    "    for run in runs:\n",
    "        print(run)\n",
    "        if run.name in ckt_folders:\n",
    "            ckt_folders.remove(run.name)     "
   ]
  },
  {
   "cell_type": "code",
   "execution_count": 5,
   "id": "ce80b9bd-7ed0-4b06-9fad-166ce649e8aa",
   "metadata": {},
   "outputs": [
    {
     "name": "stdout",
     "output_type": "stream",
     "text": [
      "['0591bruh',\n",
      " '0hlrf5mr',\n",
      " '0q02wwpm',\n",
      " '212u6i4s',\n",
      " '2wfg3o05',\n",
      " '2x14weux',\n",
      " '3995jqpn',\n",
      " '3c3q9t9r',\n",
      " '3m5pvdeb',\n",
      " '5prmq0ie',\n",
      " '6ec0xows',\n",
      " '8jfz3nfi',\n",
      " 'a8esjq26',\n",
      " 'appfl07a',\n",
      " 'by8z95io',\n",
      " 'ehdl4gm8',\n",
      " 'fooqrj5v',\n",
      " 'gs5ba5o9',\n",
      " 'ho27zhme',\n",
      " 'li7efe5s',\n",
      " 'orbse8rs',\n",
      " 'uog1y3t2']\n"
     ]
    }
   ],
   "source": [
    "pprint.pprint(ckt_folders)"
   ]
  },
  {
   "cell_type": "code",
   "execution_count": null,
   "id": "c60ac342-f855-4f4a-8511-a1b712b13221",
   "metadata": {},
   "outputs": [],
   "source": []
  }
 ],
 "metadata": {
  "kernelspec": {
   "display_name": "Python 3 (ipykernel)",
   "language": "python",
   "name": "python3"
  },
  "language_info": {
   "codemirror_mode": {
    "name": "ipython",
    "version": 3
   },
   "file_extension": ".py",
   "mimetype": "text/x-python",
   "name": "python",
   "nbconvert_exporter": "python",
   "pygments_lexer": "ipython3",
   "version": "3.9.12"
  }
 },
 "nbformat": 4,
 "nbformat_minor": 5
}
