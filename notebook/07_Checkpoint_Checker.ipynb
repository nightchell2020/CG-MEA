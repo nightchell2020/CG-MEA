{
 "cells": [
  {
   "cell_type": "markdown",
   "id": "d74515d5-5f25-477b-9a97-ed1f9b6d4c51",
   "metadata": {
    "pycharm": {
     "name": "#%% md\n"
    }
   },
   "source": [
    "# Checkpoint Checker\n",
    "\n",
    "This notebook checks whether the checkpoint files in the specified directory are valid or not."
   ]
  },
  {
   "cell_type": "markdown",
   "id": "b8a2666f-6b4b-4748-9dca-2884347a1f0f",
   "metadata": {
    "pycharm": {
     "name": "#%% md\n"
    }
   },
   "source": [
    "-----\n",
    "\n",
    "## Load Packages"
   ]
  },
  {
   "cell_type": "code",
   "execution_count": 1,
   "id": "df587e38-b1a9-42c8-9b50-680200a9bec7",
   "metadata": {
    "pycharm": {
     "name": "#%%\n"
    }
   },
   "outputs": [
    {
     "name": "stdout",
     "output_type": "stream",
     "text": [
      "C:\\Users\\Minjae\\Desktop\\EEG_Project\n"
     ]
    }
   ],
   "source": [
    "# for auto-reloading external modules\n",
    "# see http://stackoverflow.com/questions/1907993/autoreload-of-modules-in-ipython\n",
    "%cd ..\n",
    "%load_ext autoreload\n",
    "%autoreload 2"
   ]
  },
  {
   "cell_type": "code",
   "execution_count": 2,
   "id": "8fb41bf8-1713-4228-b799-0e1c87545a16",
   "metadata": {
    "pycharm": {
     "name": "#%%\n"
    }
   },
   "outputs": [],
   "source": [
    "# Load some packages\n",
    "import os\n",
    "import glob\n",
    "import wandb\n",
    "import pprint\n",
    "import torch"
   ]
  },
  {
   "cell_type": "markdown",
   "id": "d2a62fa4-aa53-49d5-8ab4-2e2aaf7b65d1",
   "metadata": {
    "pycharm": {
     "name": "#%% md\n"
    },
    "tags": []
   },
   "source": [
    "-----\n",
    "\n",
    "## Check File Directory"
   ]
  },
  {
   "cell_type": "code",
   "execution_count": null,
   "id": "322f4762-69bc-46fc-ab7b-6983bf04ddfd",
   "metadata": {},
   "outputs": [
    {
     "name": "stdout",
     "output_type": "stream",
     "text": [
      "{'dataset_path': 'local/dataset/02_Curated_Data_220715_seg_30s/', 'file_format': 'memmap', 'crop_multiple': 4, 'test_crop_multiple': 8, 'crop_timing_analysis': False, 'load_event': False, 'seq_length': 2000, 'latency': 0, 'signal_length_limit': 10000000, 'EKG': 'O', 'photic': 'O', 'input_norm': 'dataset', 'awgn': 0.05, 'awgn_age': 0.05, 'mgn': 0.05, 'task': 'dementia', 'check_accuracy_repeat': 1, 'run_mode': 'train', 'seed': 0, 'base_lr': 0.0017975938362886667, 'search_lr': True, 'search_multiplier': 1.0, 'lr_scheduler_type': 'linear_decay_with_warmup', 'warmup_ratio': 0.05, 'warmup_min': 3000, 'total_samples': 100000000.0, 'criterion': 'multi-bce', 'weight_decay': 0.05, 'mixup': 0.1, 'num_history': 500, 'save_model': True, 'use_wandb': True, 'draw_result': True, 'watch_model': False, 'ddp': False, '_target_': 'models.resnet_2d.ResNet2D', 'model': '2D-ResNet-50', 'in_channels': 42, 'out_dims': 3, 'seq_len_2d': (64, 63), 'block': 'bottleneck', 'conv_layers': [3, 4, 6, 3], 'base_channels': 64, 'use_age': 'conv', 'fc_stages': 3, 'dropout': 0.3, 'activation': 'gelu', 'minibatch': 128, 'cwd': '/home/imkbsz/workspace/eeg_analysis', 'device': device(type='cuda'), 'dataset_name': 'CAUEEG dataset segmented', 'signal_header': ['Fp1-AVG', 'F3-AVG', 'C3-AVG', 'P3-AVG', 'O1-AVG', 'Fp2-AVG', 'F4-AVG', 'C4-AVG', 'P4-AVG', 'O2-AVG', 'F7-AVG', 'T3-AVG', 'T5-AVG', 'F8-AVG', 'T4-AVG', 'T6-AVG', 'FZ-AVG', 'CZ-AVG', 'PZ-AVG', 'EKG', 'Photic'], 'transform': Compose(\n",
      "    EegRandomCrop(crop_length=2000, length_limit=10000000, multiple=4, latency=0, return_timing=False)\n",
      "    EegToTensor()\n",
      "), 'transform_multicrop': Compose(\n",
      "    EegRandomCrop(crop_length=2000, length_limit=10000000, multiple=8, latency=0, return_timing=False)\n",
      "    EegToTensor()\n",
      "), 'task_name': 'CAUEEG-task2 benchmark', 'task_description': 'Classification of [Normal], [MCI], and [Dementia] symptoms.', 'class_label_to_name': ['Normal', 'MCI', 'Dementia'], 'class_name_to_label': {'Normal': 0, 'MCI': 1, 'Dementia': 2}, 'multi_batch_size': 16, 'age_mean': tensor([71.6617]), 'age_std': tensor([9.4586]), 'signal_mean': tensor([[[ 0.1151],\n",
      "         [ 0.0482],\n",
      "         [-0.0016],\n",
      "         [-0.0291],\n",
      "         [-0.0062],\n",
      "         [ 0.0850],\n",
      "         [ 0.0278],\n",
      "         [-0.0114],\n",
      "         [-0.0139],\n",
      "         [ 0.0038],\n",
      "         [ 0.0091],\n",
      "         [-0.0042],\n",
      "         [-0.0193],\n",
      "         [ 0.0093],\n",
      "         [-0.0156],\n",
      "         [-0.0025],\n",
      "         [ 0.0246],\n",
      "         [-0.0064],\n",
      "         [-0.0169],\n",
      "         [-0.0014],\n",
      "         [-0.0119]]]), 'signal_std': tensor([[[44.0067],\n",
      "         [20.0381],\n",
      "         [11.4286],\n",
      "         [11.4591],\n",
      "         [15.3656],\n",
      "         [46.9988],\n",
      "         [19.3445],\n",
      "         [10.2842],\n",
      "         [11.4662],\n",
      "         [15.5650],\n",
      "         [20.4284],\n",
      "         [14.0220],\n",
      "         [13.3938],\n",
      "         [21.3707],\n",
      "         [16.3518],\n",
      "         [14.5504],\n",
      "         [19.1064],\n",
      "         [10.9999],\n",
      "         [11.0951],\n",
      "         [96.8930],\n",
      "         [71.9699]]]), 'stft_params': {'n_fft': 126, 'hop_length': 32}, 'signal_2d_mean': tensor([[[[-9.8153e-03],\n",
      "          [-1.2792e-03],\n",
      "          [-4.4920e-04],\n",
      "          ...,\n",
      "          [-2.8246e-04],\n",
      "          [-3.1746e-04],\n",
      "          [ 7.4400e-05]],\n",
      "\n",
      "         [[-1.4814e-01],\n",
      "          [-6.6239e-04],\n",
      "          [-2.4453e-04],\n",
      "          ...,\n",
      "          [-1.1014e-04],\n",
      "          [-1.1941e-04],\n",
      "          [ 5.6094e-04]],\n",
      "\n",
      "         [[ 4.5501e-02],\n",
      "          [ 5.0551e-05],\n",
      "          [ 1.0326e-04],\n",
      "          ...,\n",
      "          [-3.5182e-05],\n",
      "          [-2.0945e-05],\n",
      "          [ 5.0896e-04]],\n",
      "\n",
      "         ...,\n",
      "\n",
      "         [[ 0.0000e+00],\n",
      "          [-5.8864e-03],\n",
      "          [-3.5242e-03],\n",
      "          ...,\n",
      "          [-1.6174e-05],\n",
      "          [-4.6889e-05],\n",
      "          [ 3.7940e-12]],\n",
      "\n",
      "         [[ 0.0000e+00],\n",
      "          [-5.3082e-04],\n",
      "          [ 3.7129e-05],\n",
      "          ...,\n",
      "          [-2.3223e-06],\n",
      "          [-3.4705e-05],\n",
      "          [-3.3747e-11]],\n",
      "\n",
      "         [[ 0.0000e+00],\n",
      "          [ 1.2147e-03],\n",
      "          [ 2.6440e-04],\n",
      "          ...,\n",
      "          [ 3.5474e-05],\n",
      "          [ 1.6586e-04],\n",
      "          [ 8.5414e-10]]]]), 'signal_2d_std': tensor([[[[1.0965e+02],\n",
      "          [1.6201e+01],\n",
      "          [7.9330e+00],\n",
      "          ...,\n",
      "          [8.2533e-01],\n",
      "          [8.2659e-01],\n",
      "          [1.0153e+00]],\n",
      "\n",
      "         [[1.0682e+02],\n",
      "          [1.4239e+01],\n",
      "          [7.6165e+00],\n",
      "          ...,\n",
      "          [8.2099e-01],\n",
      "          [8.2221e-01],\n",
      "          [1.0114e+00]],\n",
      "\n",
      "         [[1.0028e+02],\n",
      "          [1.2571e+01],\n",
      "          [7.8826e+00],\n",
      "          ...,\n",
      "          [8.4511e-01],\n",
      "          [8.4631e-01],\n",
      "          [1.0458e+00]],\n",
      "\n",
      "         ...,\n",
      "\n",
      "         [[0.0000e+00],\n",
      "          [2.2572e+01],\n",
      "          [1.2826e+01],\n",
      "          ...,\n",
      "          [6.3558e-01],\n",
      "          [6.3877e-01],\n",
      "          [9.2092e-08]],\n",
      "\n",
      "         [[0.0000e+00],\n",
      "          [1.8650e+01],\n",
      "          [2.1884e+01],\n",
      "          ...,\n",
      "          [5.7831e-01],\n",
      "          [5.8039e-01],\n",
      "          [1.7258e-07]],\n",
      "\n",
      "         [[0.0000e+00],\n",
      "          [5.1892e+00],\n",
      "          [5.3091e+00],\n",
      "          ...,\n",
      "          [7.3039e-01],\n",
      "          [7.3107e-01],\n",
      "          [4.8751e-07]]]]), 'preprocess_train': Sequential(\n",
      "  (0): EegToDevice(device=cuda)\n",
      "  (1): EegNormalizeAge(mean=tensor([71.6617]),std=tensor([9.4586]),eps=1e-08)\n",
      "  (2): EegAddGaussianNoiseAge(mean=0.0,std=0.05)\n",
      "  (3): EegNormalizeMeanStd(mean=tensor([ 0.1151,  0.0482, -0.0016, -0.0291, -0.0062,  0.0850,  0.0278, -0.0114,\n",
      "          -0.0139,  0.0038,  0.0091, -0.0042, -0.0193,  0.0093, -0.0156, -0.0025,\n",
      "           0.0246, -0.0064, -0.0169, -0.0014, -0.0119]),std=tensor([44.0067, 20.0381, 11.4286, 11.4591, 15.3656, 46.9988, 19.3445, 10.2842,\n",
      "          11.4662, 15.5650, 20.4284, 14.0220, 13.3938, 21.3707, 16.3518, 14.5504,\n",
      "          19.1064, 10.9999, 11.0951, 96.8930, 71.9699]),eps=1e-08)\n",
      "  (4): EegMultiplicativeGaussianNoise(mean=0.0,std=0.05)\n",
      "  (5): EegAdditiveGaussianNoise(mean=0.0,std=0.05)\n",
      "  (6): EegSpectrogram(n_fft=126, complex_mode=as_real, stft_kwargs={'hop_length': 32})\n",
      "  (7): EegNormalizeMeanStd(mean=tensor([[-9.8153e-03, -1.2792e-03, -4.4920e-04,  ..., -2.8246e-04,\n",
      "           -3.1746e-04,  7.4400e-05],\n",
      "          [-1.4814e-01, -6.6239e-04, -2.4453e-04,  ..., -1.1014e-04,\n",
      "           -1.1941e-04,  5.6094e-04],\n",
      "          [ 4.5501e-02,  5.0551e-05,  1.0326e-04,  ..., -3.5182e-05,\n",
      "           -2.0945e-05,  5.0896e-04],\n",
      "          ...,\n",
      "          [ 0.0000e+00, -5.8864e-03, -3.5242e-03,  ..., -1.6174e-05,\n",
      "           -4.6889e-05,  3.7940e-12],\n",
      "          [ 0.0000e+00, -5.3082e-04,  3.7129e-05,  ..., -2.3223e-06,\n",
      "           -3.4705e-05, -3.3747e-11],\n",
      "          [ 0.0000e+00,  1.2147e-03,  2.6440e-04,  ...,  3.5474e-05,\n",
      "            1.6586e-04,  8.5414e-10]]),std=tensor([[1.0965e+02, 1.6201e+01, 7.9330e+00,  ..., 8.2533e-01, 8.2659e-01,\n",
      "           1.0153e+00],\n",
      "          [1.0682e+02, 1.4239e+01, 7.6165e+00,  ..., 8.2099e-01, 8.2221e-01,\n",
      "           1.0114e+00],\n",
      "          [1.0028e+02, 1.2571e+01, 7.8826e+00,  ..., 8.4511e-01, 8.4631e-01,\n",
      "           1.0458e+00],\n",
      "          ...,\n",
      "          [0.0000e+00, 2.2572e+01, 1.2826e+01,  ..., 6.3558e-01, 6.3877e-01,\n",
      "           9.2092e-08],\n",
      "          [0.0000e+00, 1.8650e+01, 2.1884e+01,  ..., 5.7831e-01, 5.8039e-01,\n",
      "           1.7258e-07],\n",
      "          [0.0000e+00, 5.1892e+00, 5.3091e+00,  ..., 7.3039e-01, 7.3107e-01,\n",
      "           4.8751e-07]]),eps=1e-08)\n",
      "), 'preprocess_test': Sequential(\n",
      "  (0): EegToDevice(device=cuda)\n",
      "  (1): EegNormalizeAge(mean=tensor([71.6617]),std=tensor([9.4586]),eps=1e-08)\n",
      "  (2): EegNormalizeMeanStd(mean=tensor([ 0.1151,  0.0482, -0.0016, -0.0291, -0.0062,  0.0850,  0.0278, -0.0114,\n",
      "          -0.0139,  0.0038,  0.0091, -0.0042, -0.0193,  0.0093, -0.0156, -0.0025,\n",
      "           0.0246, -0.0064, -0.0169, -0.0014, -0.0119]),std=tensor([44.0067, 20.0381, 11.4286, 11.4591, 15.3656, 46.9988, 19.3445, 10.2842,\n",
      "          11.4662, 15.5650, 20.4284, 14.0220, 13.3938, 21.3707, 16.3518, 14.5504,\n",
      "          19.1064, 10.9999, 11.0951, 96.8930, 71.9699]),eps=1e-08)\n",
      "  (3): EegSpectrogram(n_fft=126, complex_mode=as_real, stft_kwargs={'hop_length': 32})\n",
      "  (4): EegNormalizeMeanStd(mean=tensor([[-9.8153e-03, -1.2792e-03, -4.4920e-04,  ..., -2.8246e-04,\n",
      "           -3.1746e-04,  7.4400e-05],\n",
      "          [-1.4814e-01, -6.6239e-04, -2.4453e-04,  ..., -1.1014e-04,\n",
      "           -1.1941e-04,  5.6094e-04],\n",
      "          [ 4.5501e-02,  5.0551e-05,  1.0326e-04,  ..., -3.5182e-05,\n",
      "           -2.0945e-05,  5.0896e-04],\n",
      "          ...,\n",
      "          [ 0.0000e+00, -5.8864e-03, -3.5242e-03,  ..., -1.6174e-05,\n",
      "           -4.6889e-05,  3.7940e-12],\n",
      "          [ 0.0000e+00, -5.3082e-04,  3.7129e-05,  ..., -2.3223e-06,\n",
      "           -3.4705e-05, -3.3747e-11],\n",
      "          [ 0.0000e+00,  1.2147e-03,  2.6440e-04,  ...,  3.5474e-05,\n",
      "            1.6586e-04,  8.5414e-10]]),std=tensor([[1.0965e+02, 1.6201e+01, 7.9330e+00,  ..., 8.2533e-01, 8.2659e-01,\n",
      "           1.0153e+00],\n",
      "          [1.0682e+02, 1.4239e+01, 7.6165e+00,  ..., 8.2099e-01, 8.2221e-01,\n",
      "           1.0114e+00],\n",
      "          [1.0028e+02, 1.2571e+01, 7.8826e+00,  ..., 8.4511e-01, 8.4631e-01,\n",
      "           1.0458e+00],\n",
      "          ...,\n",
      "          [0.0000e+00, 2.2572e+01, 1.2826e+01,  ..., 6.3558e-01, 6.3877e-01,\n",
      "           9.2092e-08],\n",
      "          [0.0000e+00, 1.8650e+01, 2.1884e+01,  ..., 5.7831e-01, 5.8039e-01,\n",
      "           1.7258e-07],\n",
      "          [0.0000e+00, 5.1892e+00, 5.3091e+00,  ..., 7.3039e-01, 7.3107e-01,\n",
      "           4.8751e-07]]),eps=1e-08)\n",
      "), 'output_length': 8, 'num_params': 26259523, 'iterations': 781250, 'warmup_steps': 39062}\n",
      "['03iz3rso']\n"
     ]
    }
   ],
   "source": [
    "ckt_folders = []\n",
    "for full_path in glob.glob('E:/CAUEEG/checkpoint_temp/*'):\n",
    "    ckt_folders.append(os.path.basename(full_path))\n",
    "    \n",
    "    try:\n",
    "        ckpt = torch.load(os.path.join(full_path, 'checkpoint.pt'), map_location='cpu')\n",
    "    except Exception as e:\n",
    "        print(e)\n",
    "        print(f'- checkpoint cannot be opened: {full_path}')\n",
    "    \n",
    "pprint.pprint(ckt_folders)"
   ]
  },
  {
   "cell_type": "code",
   "execution_count": 10,
   "id": "0c335405-e7dc-4299-b73a-e314d47209d2",
   "metadata": {},
   "outputs": [
    {
     "name": "stdout",
     "output_type": "stream",
     "text": [
      "[]\n"
     ]
    }
   ],
   "source": [
    "project_names = ['caueeg-task1', 'caueeg-task2', 'sweep-test', 'caueeg-task2-segmented', 'caueeg-task2-ablation', 'noname']\n",
    "\n",
    "api = wandb.Api()\n",
    "for project in project_names:\n",
    "    runs = api.runs(f\"ipis-mjkim/{project}\")\n",
    "\n",
    "    for run in runs:\n",
    "        if run.name in ckt_folders:\n",
    "            ckt_folders.remove(run.name)\n",
    "\n",
    "print(ckt_folders)"
   ]
  },
  {
   "cell_type": "code",
   "execution_count": null,
   "id": "ce80b9bd-7ed0-4b06-9fad-166ce649e8aa",
   "metadata": {},
   "outputs": [],
   "source": [
    "# import shutil\n",
    "# for folder in ckt_folders:\n",
    "#     shutil.rmtree(os.path.join('local/checkpoint_temp/', folder), ignore_errors=False, onerror=None)"
   ]
  },
  {
   "cell_type": "code",
   "execution_count": null,
   "id": "b2410683-42bf-434c-a9dd-c386902be972",
   "metadata": {},
   "outputs": [],
   "source": [
    "# ckt_folders = []\n",
    "# for full_path in glob.glob(r'E:\\CAUEEG\\checkpoint/*'):\n",
    "#     ckt_folders.append(os.path.basename(full_path))\n",
    "    \n",
    "# pprint.pprint(ckt_folders)"
   ]
  },
  {
   "cell_type": "code",
   "execution_count": 10,
   "id": "4a3b6c8c-39ca-4ada-9e1c-04615a42de3a",
   "metadata": {},
   "outputs": [
    {
     "name": "stdout",
     "output_type": "stream",
     "text": [
      "['2ivalo4y',\n",
      " '2jwjckl5',\n",
      " '39ufu5is',\n",
      " 'cjbgx2nt',\n",
      " 'h2vjpqsj',\n",
      " 'hw3p72jo',\n",
      " 'rs4cc0nw',\n",
      " 'syrx7bmk']\n"
     ]
    }
   ],
   "source": [
    "# ckt_folders = []\n",
    "# for full_path in glob.glob('E:/CAUEEG/checkpoint_temp/*'):\n",
    "#     ckt_folders.append(os.path.basename(full_path))\n",
    "    \n",
    "#     try:\n",
    "#         ckpt = torch.load(os.path.join(full_path, 'checkpoint.pt'), map_location='cuda:0')\n",
    "#         task = ckpt['config']['task']\n",
    "#         if task == 'task1':\n",
    "#             ckpt['config']['task'] = 'abnormal'\n",
    "#             torch.save(ckpt, os.path.join(full_path, 'checkpoint.pt'))\n",
    "#         elif task == 'task2':\n",
    "#             ckpt['config']['task'] = 'dementia'\n",
    "#             torch.save(ckpt, os.path.join(full_path, 'checkpoint.pt'))\n",
    "#         else:\n",
    "#             print(f'- task cannot be parsed: {task} // {full_path}')\n",
    "        \n",
    "#     except Exception as e:\n",
    "#         print(f'- checkpoint cannot be opened: {full_path} // error: {e}')\n",
    "            \n",
    "# pprint.pprint(ckt_folders)"
   ]
  },
  {
   "cell_type": "code",
   "execution_count": null,
   "id": "4ae94b68-c5b4-4eac-ae12-e436b982bd98",
   "metadata": {},
   "outputs": [],
   "source": []
  }
 ],
 "metadata": {
  "kernelspec": {
   "display_name": "Python 3 (ipykernel)",
   "language": "python",
   "name": "python3"
  },
  "language_info": {
   "codemirror_mode": {
    "name": "ipython",
    "version": 3
   },
   "file_extension": ".py",
   "mimetype": "text/x-python",
   "name": "python",
   "nbconvert_exporter": "python",
   "pygments_lexer": "ipython3",
   "version": "3.9.12"
  }
 },
 "nbformat": 4,
 "nbformat_minor": 5
}
