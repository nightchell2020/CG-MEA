{
 "cells": [
  {
   "cell_type": "markdown",
   "metadata": {
    "pycharm": {
     "name": "#%% md\n"
    }
   },
   "source": [
    "# Self-Supervision\n",
    "\n",
    "- Train a deep network using the self-supervised learning framework."
   ]
  },
  {
   "cell_type": "markdown",
   "metadata": {
    "pycharm": {
     "name": "#%% md\n"
    }
   },
   "source": [
    "-----\n",
    "\n",
    "## Load Packages"
   ]
  },
  {
   "cell_type": "code",
   "execution_count": null,
   "metadata": {
    "pycharm": {
     "name": "#%%\n"
    }
   },
   "outputs": [],
   "source": [
    "# for auto-reloading external modules\n",
    "# see http://stackoverflow.com/questions/1907993/autoreload-of-modules-in-ipython\n",
    "%load_ext autoreload\n",
    "%autoreload 2\n",
    "%cd .."
   ]
  },
  {
   "cell_type": "code",
   "execution_count": null,
   "metadata": {
    "pycharm": {
     "name": "#%%\n"
    },
    "tags": []
   },
   "outputs": [],
   "source": [
    "# Load some packages\n",
    "import hydra\n",
    "from omegaconf import OmegaConf\n",
    "import wandb\n",
    "import pprint\n",
    "\n",
    "# custom package\n",
    "from run_train import check_device_env\n",
    "from run_ssl_train import prepare_and_run_ssl_train"
   ]
  },
  {
   "cell_type": "markdown",
   "metadata": {
    "pycharm": {
     "name": "#%% md\n"
    }
   },
   "source": [
    "---\n",
    "\n",
    "## Specify the dataset, model, and train setting"
   ]
  },
  {
   "cell_type": "code",
   "execution_count": null,
   "metadata": {
    "collapsed": false,
    "jupyter": {
     "outputs_hidden": false
    },
    "pycharm": {
     "name": "#%%\n"
    }
   },
   "outputs": [],
   "source": [
    "project = 'caueeg-ssl'\n",
    "data_cfg_file = 'caueeg-dementia'\n",
    "train_cfg_file = 'base_train'\n",
    "ssl_cfg_file = 'byol'\n",
    "model_cfg_file = '2D-Conformer-9-512'\n",
    "device = 'cuda:0'"
   ]
  },
  {
   "cell_type": "markdown",
   "metadata": {
    "collapsed": false,
    "jupyter": {
     "outputs_hidden": false
    },
    "pycharm": {
     "name": "#%%\n"
    }
   },
   "source": [
    "---\n",
    "\n",
    "## Initializing configurations using Hydra"
   ]
  },
  {
   "cell_type": "code",
   "execution_count": null,
   "metadata": {
    "collapsed": false,
    "jupyter": {
     "outputs_hidden": false
    },
    "pycharm": {
     "name": "#%%\n"
    }
   },
   "outputs": [],
   "source": [
    "with hydra.initialize(config_path='../config'):\n",
    "    add_configs = [f\"data={data_cfg_file}\", \n",
    "                   f\"++data.seq_length=4000\",\n",
    "                   f\"++data.input_norm=datapoint\",\n",
    "                   f\"++data.awgn=0.05\",\n",
    "                   f\"++data.mgn=0.05\",\n",
    "                   f\"++data.dropout=0.3\",\n",
    "                   f\"++data.channel_dropout=0.2\",\n",
    "                   f\"++data.crop_multiple=2\",\n",
    "                   f\"model={model_cfg_file}\",\n",
    "                   # f\"++model.minibatch_3090=512\",\n",
    "                   f\"++model.criterion=multi-bce\",\n",
    "                   f\"train={train_cfg_file}\",\n",
    "                   f\"+train.device={device}\", \n",
    "                   f\"+train.project={project}\",\n",
    "                   f\"++train.lr_scheduler_type=cosine_decay_with_warmup_half\",\n",
    "                   f\"++train.total_samples=1e+8\",\n",
    "                   f\"++train.save_model=True\",\n",
    "                   f\"ssl={ssl_cfg_file}\",\n",
    "                  ]\n",
    "    \n",
    "    cfg = hydra.compose(config_name='default', overrides=add_configs)\n",
    "    \n",
    "config = {**OmegaConf.to_container(cfg.data), \n",
    "          **OmegaConf.to_container(cfg.train),\n",
    "          **OmegaConf.to_container(cfg.model),\n",
    "          **OmegaConf.to_container(cfg.ssl)}\n",
    "\n",
    "check_device_env(config)\n",
    "pprint.pprint(config)"
   ]
  },
  {
   "cell_type": "markdown",
   "metadata": {
    "pycharm": {
     "name": "#%% md\n"
    }
   },
   "source": [
    "## Train"
   ]
  },
  {
   "cell_type": "code",
   "execution_count": null,
   "metadata": {
    "collapsed": false,
    "jupyter": {
     "outputs_hidden": false
    },
    "pycharm": {
     "name": "#%%\n"
    }
   },
   "outputs": [],
   "source": [
    "%%time\n",
    "prepare_and_run_ssl_train(rank=None, world_size=None, config=config)"
   ]
  },
  {
   "cell_type": "code",
   "execution_count": null,
   "metadata": {},
   "outputs": [],
   "source": []
  }
 ],
 "metadata": {
  "kernelspec": {
   "display_name": "Python 3 (ipykernel)",
   "language": "python",
   "name": "python3"
  },
  "language_info": {
   "codemirror_mode": {
    "name": "ipython",
    "version": 3
   },
   "file_extension": ".py",
   "mimetype": "text/x-python",
   "name": "python",
   "nbconvert_exporter": "python",
   "pygments_lexer": "ipython3",
   "version": "3.9.12"
  }
 },
 "nbformat": 4,
 "nbformat_minor": 4
}
