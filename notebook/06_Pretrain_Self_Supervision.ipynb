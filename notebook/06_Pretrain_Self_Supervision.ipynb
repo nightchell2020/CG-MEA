{
 "cells": [
  {
   "cell_type": "markdown",
   "metadata": {
    "pycharm": {
     "name": "#%% md\n"
    }
   },
   "source": [
    "# Self-Supervision\n",
    "\n",
    "- Train a deep network using the self-supervised learning framework."
   ]
  },
  {
   "cell_type": "markdown",
   "metadata": {
    "pycharm": {
     "name": "#%% md\n"
    }
   },
   "source": [
    "-----\n",
    "\n",
    "## Load Packages"
   ]
  },
  {
   "cell_type": "code",
   "execution_count": null,
   "metadata": {
    "pycharm": {
     "name": "#%%\n"
    }
   },
   "outputs": [],
   "source": [
    "# for auto-reloading external modules\n",
    "# see http://stackoverflow.com/questions/1907993/autoreload-of-modules-in-ipython\n",
    "%load_ext autoreload\n",
    "%autoreload 2\n",
    "%cd .."
   ]
  },
  {
   "cell_type": "code",
   "execution_count": null,
   "metadata": {
    "pycharm": {
     "name": "#%%\n"
    },
    "tags": []
   },
   "outputs": [],
   "source": [
    "# Load some packages\n",
    "import hydra\n",
    "from omegaconf import OmegaConf\n",
    "import wandb\n",
    "import pprint\n",
    "\n",
    "# custom package\n",
    "from run_train import check_device_env\n",
    "from run_ssl_train import prepare_and_run_ssl_train"
   ]
  },
  {
   "cell_type": "markdown",
   "metadata": {
    "pycharm": {
     "name": "#%% md\n"
    }
   },
   "source": [
    "---\n",
    "\n",
    "## Specify the dataset, model, and train setting"
   ]
  },
  {
   "cell_type": "code",
   "execution_count": null,
   "metadata": {
    "collapsed": false,
    "jupyter": {
     "outputs_hidden": false
    },
    "pycharm": {
     "name": "#%%\n"
    }
   },
   "outputs": [],
   "source": [
    "project = 'caueeg-ssl'\n",
    "data_cfg_file = 'caueeg-dementia'\n",
    "train_cfg_file = 'base_train'\n",
    "ssl_cfg_file = 'byol'\n",
    "model_cfg_file = '2D-Conformer-9-512'\n",
    "device = 'cuda:0'"
   ]
  },
  {
   "cell_type": "markdown",
   "metadata": {
    "collapsed": false,
    "jupyter": {
     "outputs_hidden": false
    },
    "pycharm": {
     "name": "#%%\n"
    }
   },
   "source": [
    "---\n",
    "\n",
    "## Initializing configurations using Hydra"
   ]
  },
  {
   "cell_type": "code",
   "execution_count": null,
   "metadata": {
    "collapsed": false,
    "jupyter": {
     "outputs_hidden": false
    },
    "pycharm": {
     "name": "#%%\n"
    }
   },
   "outputs": [],
   "source": [
    "with hydra.initialize(config_path='../config'):\n",
    "    add_configs = [f\"data={data_cfg_file}\", \n",
    "                   f\"++data.seq_length=4000\",\n",
    "                   f\"++data.input_norm=datapoint\",\n",
    "                   f\"++data.awgn=0.05\",\n",
    "                   f\"++data.mgn=0.05\",\n",
    "                   f\"++data.dropout=0.3\",\n",
    "                   f\"++data.channel_dropout=0.2\",\n",
    "                   f\"++data.crop_multiple=2\",\n",
    "                   f\"model={model_cfg_file}\",\n",
    "                   # f\"++model.minibatch_3090=512\",\n",
    "                   f\"++model.criterion=multi-bce\",\n",
    "                   f\"train={train_cfg_file}\",\n",
    "                   f\"+train.device={device}\", \n",
    "                   f\"+train.project={project}\",\n",
    "                   f\"++train.lr_scheduler_type=cosine_decay_with_warmup_half\",\n",
    "                   f\"++train.total_samples=1e+8\",\n",
    "                   f\"++train.save_model=True\",\n",
    "                   f\"ssl={ssl_cfg_file}\",\n",
    "                  ]\n",
    "    \n",
    "    cfg = hydra.compose(config_name='default', overrides=add_configs)\n",
    "    \n",
    "config = {**OmegaConf.to_container(cfg.data), \n",
    "          **OmegaConf.to_container(cfg.train),\n",
    "          **OmegaConf.to_container(cfg.model),\n",
    "          **OmegaConf.to_container(cfg.ssl)}\n",
    "\n",
    "check_device_env(config)\n",
    "pprint.pprint(config)"
   ]
  },
  {
   "cell_type": "markdown",
   "metadata": {
    "pycharm": {
     "name": "#%% md\n"
    }
   },
   "source": [
    "## Train"
   ]
  },
  {
   "cell_type": "code",
   "execution_count": null,
   "metadata": {
    "collapsed": false,
    "jupyter": {
     "outputs_hidden": false
    },
    "pycharm": {
     "name": "#%%\n"
    }
   },
   "outputs": [],
   "source": [
    "%%time\n",
    "prepare_and_run_ssl_train(rank=None, world_size=None, config=config)"
   ]
  },
  {
   "cell_type": "code",
   "execution_count": null,
   "metadata": {},
   "outputs": [],
   "source": []
  },
  {
   "cell_type": "code",
   "execution_count": null,
   "metadata": {},
   "outputs": [],
   "source": []
  },
  {
   "cell_type": "code",
   "execution_count": null,
   "metadata": {},
   "outputs": [],
   "source": []
  },
  {
   "cell_type": "code",
   "execution_count": 1,
   "metadata": {},
   "outputs": [],
   "source": [
    "import torch"
   ]
  },
  {
   "cell_type": "code",
   "execution_count": 8,
   "metadata": {},
   "outputs": [],
   "source": [
    "def get_sine_cosine_positional_embedding(seq_len, dim, class_token=False):\n",
    "    if dim % 2 != 0:\n",
    "        raise ValueError(\"get_sine_cosine_positional_embedding(dim): dim is not multiple of 2.\")\n",
    "\n",
    "    omega = torch.arange(dim // 2, dtype=torch.float)\n",
    "    omega /= dim / 2.0\n",
    "    omega = 1.0 / 10000**omega\n",
    "\n",
    "    position = torch.arange(seq_len, dtype=torch.float)\n",
    "    product = torch.einsum(\"l,d->ld\", position, omega)\n",
    "\n",
    "    embedding_sine = torch.sin(product)\n",
    "    embedding_cosine = torch.cos(product)\n",
    "    embedding = torch.concatenate([embedding_sine, embedding_cosine], dim=1)\n",
    "\n",
    "    if class_token:\n",
    "        embedding = torch.concatenate([torch.zeros((1, dim)), embedding], dim=0)\n",
    "\n",
    "    return embedding"
   ]
  },
  {
   "cell_type": "code",
   "execution_count": 69,
   "metadata": {},
   "outputs": [],
   "source": [
    "N, C, L = 4, 5, 6\n",
    "mask_ratio = 0.5\n",
    "L_keep = round(L * (1 - mask_ratio))\n",
    "\n",
    "# random sampling and sorting for masking\n",
    "random_noise = torch.rand((N, 1, L))\n",
    "random_shuffle = torch.argsort(random_noise, dim=2)\n",
    "idx_origin = torch.argsort(random_shuffle, dim=2)\n",
    "idx_keep = random_shuffle[:, :, :L_keep]\n",
    "\n",
    "# masking\n",
    "x = torch.arange(4*5*6).reshape(4, 5, 6)\n",
    "x_masked = torch.gather(x, dim=2, index=idx_keep.repeat(1, C, 1))\n",
    "\n",
    "mask = torch.ones((N, C, L), device=x.device)\n",
    "mask[:, :, :L_keep] = 0\n",
    "mask = torch.gather(mask, dim=2, index=idx_origin.repeat(1, C, 1))"
   ]
  },
  {
   "cell_type": "code",
   "execution_count": 70,
   "metadata": {},
   "outputs": [
    {
     "data": {
      "text/plain": [
       "tensor([[[0.2052, 0.0371, 0.7387, 0.3624, 0.7959, 0.5146]],\n",
       "\n",
       "        [[0.6499, 0.6601, 0.0834, 0.4661, 0.7708, 0.2395]],\n",
       "\n",
       "        [[0.5109, 0.4014, 0.0619, 0.0332, 0.2876, 0.0418]],\n",
       "\n",
       "        [[0.9235, 0.4293, 0.3096, 0.3839, 0.9873, 0.7749]]])"
      ]
     },
     "execution_count": 70,
     "metadata": {},
     "output_type": "execute_result"
    }
   ],
   "source": [
    "random_noise"
   ]
  },
  {
   "cell_type": "code",
   "execution_count": 71,
   "metadata": {},
   "outputs": [
    {
     "data": {
      "text/plain": [
       "tensor([[[1, 0, 3, 5, 2, 4]],\n",
       "\n",
       "        [[2, 5, 3, 0, 1, 4]],\n",
       "\n",
       "        [[3, 5, 2, 4, 1, 0]],\n",
       "\n",
       "        [[2, 3, 1, 5, 0, 4]]])"
      ]
     },
     "execution_count": 71,
     "metadata": {},
     "output_type": "execute_result"
    }
   ],
   "source": [
    "random_shuffle"
   ]
  },
  {
   "cell_type": "code",
   "execution_count": 72,
   "metadata": {},
   "outputs": [
    {
     "data": {
      "text/plain": [
       "tensor([[[1, 0, 4, 2, 5, 3]],\n",
       "\n",
       "        [[3, 4, 0, 2, 5, 1]],\n",
       "\n",
       "        [[5, 4, 2, 0, 3, 1]],\n",
       "\n",
       "        [[4, 2, 0, 1, 5, 3]]])"
      ]
     },
     "execution_count": 72,
     "metadata": {},
     "output_type": "execute_result"
    }
   ],
   "source": [
    "idx_origin"
   ]
  },
  {
   "cell_type": "code",
   "execution_count": 73,
   "metadata": {},
   "outputs": [
    {
     "data": {
      "text/plain": [
       "tensor([[[1, 0, 3]],\n",
       "\n",
       "        [[2, 5, 3]],\n",
       "\n",
       "        [[3, 5, 2]],\n",
       "\n",
       "        [[2, 3, 1]]])"
      ]
     },
     "execution_count": 73,
     "metadata": {},
     "output_type": "execute_result"
    }
   ],
   "source": [
    "idx_keep"
   ]
  },
  {
   "cell_type": "code",
   "execution_count": 74,
   "metadata": {},
   "outputs": [
    {
     "data": {
      "text/plain": [
       "tensor([[[0., 0., 1., 0., 1., 1.],\n",
       "         [0., 0., 1., 0., 1., 1.],\n",
       "         [0., 0., 1., 0., 1., 1.],\n",
       "         [0., 0., 1., 0., 1., 1.],\n",
       "         [0., 0., 1., 0., 1., 1.]],\n",
       "\n",
       "        [[1., 1., 0., 0., 1., 0.],\n",
       "         [1., 1., 0., 0., 1., 0.],\n",
       "         [1., 1., 0., 0., 1., 0.],\n",
       "         [1., 1., 0., 0., 1., 0.],\n",
       "         [1., 1., 0., 0., 1., 0.]],\n",
       "\n",
       "        [[1., 1., 0., 0., 1., 0.],\n",
       "         [1., 1., 0., 0., 1., 0.],\n",
       "         [1., 1., 0., 0., 1., 0.],\n",
       "         [1., 1., 0., 0., 1., 0.],\n",
       "         [1., 1., 0., 0., 1., 0.]],\n",
       "\n",
       "        [[1., 0., 0., 0., 1., 1.],\n",
       "         [1., 0., 0., 0., 1., 1.],\n",
       "         [1., 0., 0., 0., 1., 1.],\n",
       "         [1., 0., 0., 0., 1., 1.],\n",
       "         [1., 0., 0., 0., 1., 1.]]])"
      ]
     },
     "execution_count": 74,
     "metadata": {},
     "output_type": "execute_result"
    }
   ],
   "source": [
    "mask"
   ]
  },
  {
   "cell_type": "code",
   "execution_count": null,
   "metadata": {},
   "outputs": [],
   "source": []
  }
 ],
 "metadata": {
  "kernelspec": {
   "display_name": "Python 3 (ipykernel)",
   "language": "python",
   "name": "python3"
  },
  "language_info": {
   "codemirror_mode": {
    "name": "ipython",
    "version": 3
   },
   "file_extension": ".py",
   "mimetype": "text/x-python",
   "name": "python",
   "nbconvert_exporter": "python",
   "pygments_lexer": "ipython3",
   "version": "3.9.12"
  }
 },
 "nbformat": 4,
 "nbformat_minor": 4
}
