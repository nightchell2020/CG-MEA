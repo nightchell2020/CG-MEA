{
 "cells": [
  {
   "cell_type": "markdown",
   "id": "d74515d5-5f25-477b-9a97-ed1f9b6d4c51",
   "metadata": {
    "pycharm": {
     "name": "#%% md\n"
    }
   },
   "source": [
    "# Evaluate\n",
    "\n",
    "This notebook evaluates the network trained previous notebooks and analyzes the results."
   ]
  },
  {
   "cell_type": "markdown",
   "id": "b8a2666f-6b4b-4748-9dca-2884347a1f0f",
   "metadata": {
    "pycharm": {
     "name": "#%% md\n"
    }
   },
   "source": [
    "-----\n",
    "\n",
    "## Load Packages"
   ]
  },
  {
   "cell_type": "code",
   "execution_count": 1,
   "id": "df587e38-b1a9-42c8-9b50-680200a9bec7",
   "metadata": {
    "pycharm": {
     "name": "#%%\n"
    }
   },
   "outputs": [
    {
     "name": "stdout",
     "output_type": "stream",
     "text": [
      "C:\\Users\\Minjae\\Desktop\\EEG_Project\n"
     ]
    }
   ],
   "source": [
    "# for auto-reloading external modules\n",
    "# see http://stackoverflow.com/questions/1907993/autoreload-of-modules-in-ipython\n",
    "%cd ..\n",
    "%load_ext autoreload\n",
    "%autoreload 2"
   ]
  },
  {
   "cell_type": "code",
   "execution_count": 2,
   "id": "8fb41bf8-1713-4228-b799-0e1c87545a16",
   "metadata": {
    "pycharm": {
     "name": "#%%\n"
    }
   },
   "outputs": [],
   "source": [
    "# Load some packages\n",
    "import os\n",
    "from copy import deepcopy\n",
    "import hydra\n",
    "from omegaconf import OmegaConf\n",
    "from collections import OrderedDict\n",
    "\n",
    "import numpy as np\n",
    "from sklearn.metrics import classification_report\n",
    "import torch\n",
    "import torch.nn as nn\n",
    "import torch.nn.functional as F\n",
    "import torch.optim as optim\n",
    "\n",
    "import pprint\n",
    "import matplotlib.pyplot as plt\n",
    "\n",
    "# custom package\n",
    "from datasets.caueeg_script import build_dataset_for_train\n",
    "import models\n",
    "from train.evaluate import check_accuracy\n",
    "from train.evaluate import check_accuracy_extended\n",
    "from train.evaluate import check_accuracy_extended_debug\n",
    "from train.evaluate import check_accuracy_multicrop\n",
    "from train.evaluate import check_accuracy_multicrop_extended\n",
    "from train.visualize import draw_roc_curve\n",
    "from train.visualize import draw_confusion\n",
    "from train.visualize import draw_error_table"
   ]
  },
  {
   "cell_type": "code",
   "execution_count": 3,
   "id": "d10e3f39-ed55-422c-b47f-376691cbeed6",
   "metadata": {
    "pycharm": {
     "name": "#%%\n"
    }
   },
   "outputs": [
    {
     "name": "stdout",
     "output_type": "stream",
     "text": [
      "PyTorch version: 1.11.0+cu113\n",
      "cuda is available.\n"
     ]
    }
   ],
   "source": [
    "print('PyTorch version:', torch.__version__)\n",
    "device = torch.device('cuda' if torch.cuda.is_available() else 'cpu')\n",
    "\n",
    "if torch.cuda.is_available(): print('cuda is available.')\n",
    "else: print('cuda is unavailable.') "
   ]
  },
  {
   "cell_type": "markdown",
   "id": "d2a62fa4-aa53-49d5-8ab4-2e2aaf7b65d1",
   "metadata": {
    "pycharm": {
     "name": "#%% md\n"
    },
    "tags": []
   },
   "source": [
    "-----\n",
    "\n",
    "## Load the configuration used during the train phase"
   ]
  },
  {
   "cell_type": "code",
   "execution_count": 4,
   "id": "bee4f853-3cad-4b01-8ee8-44ac9e49adbe",
   "metadata": {
    "pycharm": {
     "name": "#%%\n"
    }
   },
   "outputs": [
    {
     "name": "stdout",
     "output_type": "stream",
     "text": [
      "dict_keys(['model_state', 'config', 'optimizer_state', 'scheduler_state'])\n"
     ]
    }
   ],
   "source": [
    "model_name = '4tqv22h2'\n",
    "model_path = os.path.join('local/checkpoint_temp', model_name, 'last_checkpoint.pt')\n",
    "\n",
    "ckpt = torch.load(model_path, map_location=device)\n",
    "print(ckpt.keys())"
   ]
  },
  {
   "cell_type": "code",
   "execution_count": 5,
   "id": "ab204c6e-25bc-4bb2-b83d-ffbab6dfd4d6",
   "metadata": {
    "pycharm": {
     "name": "#%%\n"
    }
   },
   "outputs": [],
   "source": [
    "model_state = ckpt['model_state']\n",
    "config = ckpt['config']\n",
    "optimizer = ckpt['optimizer_state']\n",
    "scheduler = ckpt['scheduler_state']"
   ]
  },
  {
   "cell_type": "code",
   "execution_count": 6,
   "id": "d6a582ce-495b-4f2e-9376-6d5591019f46",
   "metadata": {
    "pycharm": {
     "name": "#%%\n"
    }
   },
   "outputs": [
    {
     "name": "stdout",
     "output_type": "stream",
     "text": [
      "{'EKG': 'X',\n",
      " '_target_': 'models.vgg_2d.VGG2D',\n",
      " 'activation': 'relu',\n",
      " 'age_mean': tensor([71.1643], device='cuda:0'),\n",
      " 'age_std': tensor([9.9056], device='cuda:0'),\n",
      " 'awgn': 0.0010567535080937109,\n",
      " 'awgn_age': 0.04905029424956587,\n",
      " 'base_lr': 0.0002811706625951745,\n",
      " 'batch_norm': True,\n",
      " 'class_label_to_name': ['Normal', 'MCI', 'Dementia'],\n",
      " 'class_name_to_label': {'Dementia': 2, 'MCI': 1, 'Normal': 0},\n",
      " 'criterion': 'cross-entropy',\n",
      " 'crop_multiple': 4,\n",
      " 'crop_timing_analysis': False,\n",
      " 'cwd': '/home/imkbsz/workspace/eeg_analysis',\n",
      " 'dataset_name': 'CAUEEG dataset',\n",
      " 'dataset_path': 'local/dataset/02_Curated_Data_220419/',\n",
      " 'ddp': True,\n",
      " 'ddp_size': 3,\n",
      " 'device': 0,\n",
      " 'draw_result': True,\n",
      " 'dropout': 0.20516529342464968,\n",
      " 'fc_stages': 2,\n",
      " 'file_format': 'memmap',\n",
      " 'in_channels': 40,\n",
      " 'input_norm': 'dataset',\n",
      " 'iterations': 72917,\n",
      " 'latency': 2000,\n",
      " 'load_event': False,\n",
      " 'lr_scheduler_type': 'cosine_decay_with_warmup_one_and_half',\n",
      " 'mgn': 0.0669700303853294,\n",
      " 'minibatch': 160,\n",
      " 'mixup': 0,\n",
      " 'model': '2D-VGG-16',\n",
      " 'num_history': 500,\n",
      " 'num_params': 14872835,\n",
      " 'out_dims': 3,\n",
      " 'output_length': 5,\n",
      " 'photic': 'O',\n",
      " 'preprocess_test': Sequential(\n",
      "  (0): EegToDevice(device=0)\n",
      "  (1): EegNormalizeAge(mean=tensor([71.1643], device='cuda:0'),std=tensor([9.9056], device='cuda:0'),eps=1e-08)\n",
      "  (2): EegNormalizeMeanStd(mean=tensor([ 0.0358, -0.0330, -0.0118,  0.0665,  0.0615, -0.0752, -0.0861,  0.0298,\n",
      "          -0.0302, -0.0509, -0.0025,  0.0182,  0.0740, -0.0139, -0.0772, -0.0164,\n",
      "          -0.0547,  0.0266,  0.0657, -0.0135], device='cuda:0'),std=tensor([48.6190, 21.5017, 12.3963, 12.4263, 16.0117, 52.9230, 20.9484, 11.6301,\n",
      "          12.2355, 16.9628, 20.9524, 16.3172, 14.6108, 22.7253, 16.4788, 15.6002,\n",
      "          20.4038, 11.9131, 12.9010, 76.4655], device='cuda:0'),eps=1e-08)\n",
      "  (3): EegSpectrogram(n_fft=179, complex_mode=as_real, stft_kwargs={'hop_length': 45})\n",
      "  (4): EegNormalizeMeanStd(mean=tensor([[-2.9803e-01, -4.3382e-03,  5.5309e-04,  ..., -4.6493e-04,\n",
      "            2.3558e-03,  1.2985e-03],\n",
      "          [-1.2079e-01, -3.7003e-03,  2.6945e-03,  ...,  4.3979e-03,\n",
      "           -2.2532e-03, -2.0579e-04],\n",
      "          [ 4.5851e-01,  6.7078e-03,  1.1794e-03,  ..., -2.5874e-03,\n",
      "           -1.9237e-03, -1.8935e-03],\n",
      "          ...,\n",
      "          [ 0.0000e+00,  4.7836e-02,  2.0694e-02,  ...,  2.3537e-03,\n",
      "           -1.6769e-03, -4.6670e-04],\n",
      "          [ 0.0000e+00,  4.0533e-02,  1.7943e-02,  ...,  2.6705e-03,\n",
      "           -1.5839e-03, -1.1409e-04],\n",
      "          [ 0.0000e+00, -7.2991e-04,  2.6455e-04,  ...,  3.1363e-03,\n",
      "           -3.3166e-03, -5.2750e-04]], device='cuda:0'),std=tensor([[143.5342,  27.2355,  13.6020,  ...,   0.8563,   0.8598,   0.8730],\n",
      "          [146.9230,  24.0011,  12.0466,  ...,   0.8988,   0.8909,   0.9035],\n",
      "          [143.4951,  20.1917,  10.9890,  ...,   0.9294,   0.9255,   0.9333],\n",
      "          ...,\n",
      "          [  0.0000,  37.3640,  20.4367,  ...,   0.7222,   0.7188,   0.7234],\n",
      "          [  0.0000,  37.3670,  19.9717,  ...,   0.6934,   0.6927,   0.6953],\n",
      "          [  0.0000,   5.9355,   5.1338,  ...,   0.6717,   0.6708,   0.6736]],\n",
      "         device='cuda:0'),eps=1e-08)\n",
      "),\n",
      " 'preprocess_train': Sequential(\n",
      "  (0): EegToDevice(device=0)\n",
      "  (1): EegNormalizeAge(mean=tensor([71.1643], device='cuda:0'),std=tensor([9.9056], device='cuda:0'),eps=1e-08)\n",
      "  (2): EegAddGaussianNoiseAge(mean=0.0,std=0.04905029424956587)\n",
      "  (3): EegNormalizeMeanStd(mean=tensor([ 0.0358, -0.0330, -0.0118,  0.0665,  0.0615, -0.0752, -0.0861,  0.0298,\n",
      "          -0.0302, -0.0509, -0.0025,  0.0182,  0.0740, -0.0139, -0.0772, -0.0164,\n",
      "          -0.0547,  0.0266,  0.0657, -0.0135], device='cuda:0'),std=tensor([48.6190, 21.5017, 12.3963, 12.4263, 16.0117, 52.9230, 20.9484, 11.6301,\n",
      "          12.2355, 16.9628, 20.9524, 16.3172, 14.6108, 22.7253, 16.4788, 15.6002,\n",
      "          20.4038, 11.9131, 12.9010, 76.4655], device='cuda:0'),eps=1e-08)\n",
      "  (4): EegAdditiveGaussianNoise(mean=0.0,std=0.0010567535080937109)\n",
      "  (5): EegMultiplicativeGaussianNoise(mean=0.0,std=0.0669700303853294)\n",
      "  (6): EegSpectrogram(n_fft=179, complex_mode=as_real, stft_kwargs={'hop_length': 45})\n",
      "  (7): EegNormalizeMeanStd(mean=tensor([[-2.9803e-01, -4.3382e-03,  5.5309e-04,  ..., -4.6493e-04,\n",
      "            2.3558e-03,  1.2985e-03],\n",
      "          [-1.2079e-01, -3.7003e-03,  2.6945e-03,  ...,  4.3979e-03,\n",
      "           -2.2532e-03, -2.0579e-04],\n",
      "          [ 4.5851e-01,  6.7078e-03,  1.1794e-03,  ..., -2.5874e-03,\n",
      "           -1.9237e-03, -1.8935e-03],\n",
      "          ...,\n",
      "          [ 0.0000e+00,  4.7836e-02,  2.0694e-02,  ...,  2.3537e-03,\n",
      "           -1.6769e-03, -4.6670e-04],\n",
      "          [ 0.0000e+00,  4.0533e-02,  1.7943e-02,  ...,  2.6705e-03,\n",
      "           -1.5839e-03, -1.1409e-04],\n",
      "          [ 0.0000e+00, -7.2991e-04,  2.6455e-04,  ...,  3.1363e-03,\n",
      "           -3.3166e-03, -5.2750e-04]], device='cuda:0'),std=tensor([[143.5342,  27.2355,  13.6020,  ...,   0.8563,   0.8598,   0.8730],\n",
      "          [146.9230,  24.0011,  12.0466,  ...,   0.8988,   0.8909,   0.9035],\n",
      "          [143.4951,  20.1917,  10.9890,  ...,   0.9294,   0.9255,   0.9333],\n",
      "          ...,\n",
      "          [  0.0000,  37.3640,  20.4367,  ...,   0.7222,   0.7188,   0.7234],\n",
      "          [  0.0000,  37.3670,  19.9717,  ...,   0.6934,   0.6927,   0.6953],\n",
      "          [  0.0000,   5.9355,   5.1338,  ...,   0.6717,   0.6708,   0.6736]],\n",
      "         device='cuda:0'),eps=1e-08)\n",
      "),\n",
      " 'run_mode': 'train',\n",
      " 'save_model': True,\n",
      " 'search_lr': True,\n",
      " 'search_multiplier': 1.0,\n",
      " 'seed': 0,\n",
      " 'seq_len_2d': (90, 89),\n",
      " 'seq_length': 4000,\n",
      " 'signal_2d_mean': tensor([[[[-2.9803e-01],\n",
      "          [-4.3382e-03],\n",
      "          [ 5.5309e-04],\n",
      "          ...,\n",
      "          [-4.6493e-04],\n",
      "          [ 2.3558e-03],\n",
      "          [ 1.2985e-03]],\n",
      "\n",
      "         [[-1.2079e-01],\n",
      "          [-3.7003e-03],\n",
      "          [ 2.6945e-03],\n",
      "          ...,\n",
      "          [ 4.3979e-03],\n",
      "          [-2.2532e-03],\n",
      "          [-2.0579e-04]],\n",
      "\n",
      "         [[ 4.5851e-01],\n",
      "          [ 6.7078e-03],\n",
      "          [ 1.1794e-03],\n",
      "          ...,\n",
      "          [-2.5874e-03],\n",
      "          [-1.9237e-03],\n",
      "          [-1.8935e-03]],\n",
      "\n",
      "         ...,\n",
      "\n",
      "         [[ 0.0000e+00],\n",
      "          [ 4.7836e-02],\n",
      "          [ 2.0694e-02],\n",
      "          ...,\n",
      "          [ 2.3537e-03],\n",
      "          [-1.6769e-03],\n",
      "          [-4.6670e-04]],\n",
      "\n",
      "         [[ 0.0000e+00],\n",
      "          [ 4.0533e-02],\n",
      "          [ 1.7943e-02],\n",
      "          ...,\n",
      "          [ 2.6705e-03],\n",
      "          [-1.5839e-03],\n",
      "          [-1.1409e-04]],\n",
      "\n",
      "         [[ 0.0000e+00],\n",
      "          [-7.2991e-04],\n",
      "          [ 2.6455e-04],\n",
      "          ...,\n",
      "          [ 3.1363e-03],\n",
      "          [-3.3166e-03],\n",
      "          [-5.2750e-04]]]], device='cuda:0'),\n",
      " 'signal_2d_std': tensor([[[[143.5342],\n",
      "          [ 27.2355],\n",
      "          [ 13.6020],\n",
      "          ...,\n",
      "          [  0.8563],\n",
      "          [  0.8598],\n",
      "          [  0.8730]],\n",
      "\n",
      "         [[146.9230],\n",
      "          [ 24.0011],\n",
      "          [ 12.0466],\n",
      "          ...,\n",
      "          [  0.8988],\n",
      "          [  0.8909],\n",
      "          [  0.9035]],\n",
      "\n",
      "         [[143.4951],\n",
      "          [ 20.1917],\n",
      "          [ 10.9890],\n",
      "          ...,\n",
      "          [  0.9294],\n",
      "          [  0.9255],\n",
      "          [  0.9333]],\n",
      "\n",
      "         ...,\n",
      "\n",
      "         [[  0.0000],\n",
      "          [ 37.3640],\n",
      "          [ 20.4367],\n",
      "          ...,\n",
      "          [  0.7222],\n",
      "          [  0.7188],\n",
      "          [  0.7234]],\n",
      "\n",
      "         [[  0.0000],\n",
      "          [ 37.3670],\n",
      "          [ 19.9717],\n",
      "          ...,\n",
      "          [  0.6934],\n",
      "          [  0.6927],\n",
      "          [  0.6953]],\n",
      "\n",
      "         [[  0.0000],\n",
      "          [  5.9355],\n",
      "          [  5.1338],\n",
      "          ...,\n",
      "          [  0.6717],\n",
      "          [  0.6708],\n",
      "          [  0.6736]]]], device='cuda:0'),\n",
      " 'signal_header': ['Fp1-AVG', 'F3-AVG', 'C3-AVG', 'P3-AVG', 'O1-AVG', 'Fp2-AVG', 'F4-AVG', 'C4-AVG', 'P4-AVG', 'O2-AVG', 'F7-AVG', 'T3-AVG', 'T5-AVG', 'F8-AVG', 'T4-AVG', 'T6-AVG', 'FZ-AVG', 'CZ-AVG', 'PZ-AVG', 'EKG', 'Photic'],\n",
      " 'signal_length_limit': 10000000,\n",
      " 'signal_mean': tensor([[[ 0.0358],\n",
      "         [-0.0330],\n",
      "         [-0.0118],\n",
      "         [ 0.0665],\n",
      "         [ 0.0615],\n",
      "         [-0.0752],\n",
      "         [-0.0861],\n",
      "         [ 0.0298],\n",
      "         [-0.0302],\n",
      "         [-0.0509],\n",
      "         [-0.0025],\n",
      "         [ 0.0182],\n",
      "         [ 0.0740],\n",
      "         [-0.0139],\n",
      "         [-0.0772],\n",
      "         [-0.0164],\n",
      "         [-0.0547],\n",
      "         [ 0.0266],\n",
      "         [ 0.0657],\n",
      "         [-0.0135]]], device='cuda:0'),\n",
      " 'signal_std': tensor([[[48.6190],\n",
      "         [21.5017],\n",
      "         [12.3963],\n",
      "         [12.4263],\n",
      "         [16.0117],\n",
      "         [52.9230],\n",
      "         [20.9484],\n",
      "         [11.6301],\n",
      "         [12.2355],\n",
      "         [16.9628],\n",
      "         [20.9524],\n",
      "         [16.3172],\n",
      "         [14.6108],\n",
      "         [22.7253],\n",
      "         [16.4788],\n",
      "         [15.6002],\n",
      "         [20.4038],\n",
      "         [11.9131],\n",
      "         [12.9010],\n",
      "         [76.4655]]], device='cuda:0'),\n",
      " 'stft_params': {'hop_length': 45, 'n_fft': 179},\n",
      " 'task': 'task2',\n",
      " 'task_description': 'Classification of [Normal], [MCI], and [Dementia] symptoms.',\n",
      " 'task_name': 'CAUEEG-task2 benchmark',\n",
      " 'test_crop_multiple': 8,\n",
      " 'total_samples': 35000000.0,\n",
      " 'transform': Compose(\n",
      "    EegRandomCrop(crop_length=4000, length_limit=10000000, multiple=4, latency=2000, return_timing=False)\n",
      "    EegDropChannels(drop_index=[19])\n",
      "    EegToTensor()\n",
      "),\n",
      " 'transform_multicrop': Compose(\n",
      "    EegRandomCrop(crop_length=4000, length_limit=10000000, multiple=8, latency=2000, return_timing=False)\n",
      "    EegDropChannels(drop_index=[19])\n",
      "    EegToTensor()\n",
      "),\n",
      " 'use_age': 'fc',\n",
      " 'use_wandb': True,\n",
      " 'warmup_min': 3000,\n",
      " 'warmup_ratio': 0.05,\n",
      " 'warmup_steps': 3646,\n",
      " 'watch_model': False,\n",
      " 'weight_decay': 0.0067691015126948705}\n"
     ]
    }
   ],
   "source": [
    "pprint.pprint(config, width=250)"
   ]
  },
  {
   "cell_type": "markdown",
   "id": "0c85edd9-772b-4525-8acc-095850716b4e",
   "metadata": {
    "pycharm": {
     "name": "#%% md\n"
    }
   },
   "source": [
    "-----\n",
    "\n",
    "## Load the target model"
   ]
  },
  {
   "cell_type": "code",
   "execution_count": 7,
   "id": "d88946aa-6d3c-4b14-869e-b558783b8148",
   "metadata": {
    "pycharm": {
     "name": "#%%\n"
    }
   },
   "outputs": [],
   "source": [
    "# model = config['generator'](**config).to(device)\n",
    "model = hydra.utils.instantiate(config).to(device)\n",
    "\n",
    "if config.get('ddp', False):\n",
    "    model_state_ddp = deepcopy(model_state)\n",
    "    model_state = OrderedDict()\n",
    "    for k, v in model_state_ddp.items():\n",
    "        name = k[7:] # remove 'module.' of DataParallel/DistributedDataParallel\n",
    "        model_state[name] = v\n",
    "    model.load_state_dict(model_state)\n",
    "else:\n",
    "    model.load_state_dict(model_state)"
   ]
  },
  {
   "cell_type": "markdown",
   "id": "a751ab89-fe12-4e98-94e1-9a616ba08670",
   "metadata": {
    "pycharm": {
     "name": "#%% md\n"
    }
   },
   "source": [
    "-----\n",
    "\n",
    "## Evaluate the model and analyze the performance by the crop timing"
   ]
  },
  {
   "cell_type": "markdown",
   "id": "a76b02db-da4e-4e65-830b-ba4214ff1bd7",
   "metadata": {
    "pycharm": {
     "name": "#%% md\n"
    }
   },
   "source": [
    "### Configurations"
   ]
  },
  {
   "cell_type": "code",
   "execution_count": 8,
   "id": "89fa65ab-c9ce-4182-97c7-1adb2ca651d3",
   "metadata": {
    "pycharm": {
     "name": "#%%\n"
    }
   },
   "outputs": [
    {
     "name": "stdout",
     "output_type": "stream",
     "text": [
      "50\n"
     ]
    }
   ],
   "source": [
    "config = ckpt['config']\n",
    "\n",
    "config.pop('cwd', 0)\n",
    "config['ddp'] = False\n",
    "config['crop_timing_analysis'] = True\n",
    "config['eval'] = True\n",
    "config['device'] = device\n",
    "\n",
    "repeat = round(200 / config['crop_multiple'])\n",
    "print(repeat)"
   ]
  },
  {
   "cell_type": "markdown",
   "id": "61bc5f3a-1321-406c-ad0f-d8cb6f587bd1",
   "metadata": {},
   "source": [
    "### Build Dataset"
   ]
  },
  {
   "cell_type": "code",
   "execution_count": 9,
   "id": "316ce735-4ffd-49a6-a9d1-51584df94390",
   "metadata": {},
   "outputs": [
    {
     "name": "stdout",
     "output_type": "stream",
     "text": [
      "transform: Compose(\n",
      "    EegRandomCrop(crop_length=4000, length_limit=10000000, multiple=4, latency=2000, return_timing=True)\n",
      "    EegDropChannels(drop_index=[19])\n",
      "    EegToTensor()\n",
      ")\n",
      "\n",
      "----------------------------------------------------------------------------------------------------\n",
      "\n",
      "transform_multicrop: Compose(\n",
      "    EegRandomCrop(crop_length=4000, length_limit=10000000, multiple=8, latency=2000, return_timing=True)\n",
      "    EegDropChannels(drop_index=[19])\n",
      "    EegToTensor()\n",
      ")\n",
      "\n",
      "----------------------------------------------------------------------------------------------------\n",
      "\n",
      "\n",
      "task config:\n",
      "{'class_label_to_name': ['Normal', 'MCI', 'Dementia'],\n",
      " 'class_name_to_label': {'Dementia': 2, 'MCI': 1, 'Normal': 0},\n",
      " 'task_description': 'Classification of [Normal], [MCI], and [Dementia] '\n",
      "                     'symptoms.',\n",
      " 'task_name': 'CAUEEG-Dementia benchmark'}\n",
      "\n",
      " ---------------------------------------------------------------------------------------------------- \n",
      "\n",
      "train_dataset[0].keys():\n",
      "dict_keys(['serial', 'age', 'symptom', 'class_name', 'class_label', 'signal', 'crop_timing'])\n",
      "train signal shape: torch.Size([20, 4000])\n",
      "\n",
      "\n",
      "----------------------------------------------------------------------------------------------------\n",
      "\n",
      "val_dataset[0].keys():\n",
      "dict_keys(['serial', 'age', 'symptom', 'class_name', 'class_label', 'signal', 'crop_timing'])\n",
      "\n",
      "----------------------------------------------------------------------------------------------------\n",
      "\n",
      "test_dataset[0].keys():\n",
      "dict_keys(['serial', 'age', 'symptom', 'class_name', 'class_label', 'signal', 'crop_timing'])\n",
      "\n",
      "----------------------------------------------------------------------------------------------------\n",
      "\n",
      "test_dataset[0].keys():\n",
      "dict_keys(['serial', 'age', 'symptom', 'class_name', 'class_label', 'signal', 'crop_timing'])\n",
      "test signal shape: torch.Size([20, 4000])\n",
      "\n",
      "----------------------------------------------------------------------------------------------------\n",
      "\n",
      "preprocess_train: Sequential(\n",
      "  (0): EegToDevice(device=cuda)\n",
      "  (1): EegNormalizeAge(mean=tensor([71.1643], device='cuda:0'),std=tensor([9.9056], device='cuda:0'),eps=1e-08)\n",
      "  (2): EegAddGaussianNoiseAge(mean=0.0,std=0.04905029424956587)\n",
      "  (3): EegNormalizeMeanStd(mean=tensor([ 0.0358, -0.0330, -0.0118,  0.0665,  0.0615, -0.0752, -0.0861,  0.0298,\n",
      "          -0.0302, -0.0509, -0.0025,  0.0182,  0.0740, -0.0139, -0.0772, -0.0164,\n",
      "          -0.0547,  0.0266,  0.0657, -0.0135], device='cuda:0'),std=tensor([48.6190, 21.5017, 12.3963, 12.4263, 16.0117, 52.9230, 20.9484, 11.6301,\n",
      "          12.2355, 16.9628, 20.9524, 16.3172, 14.6108, 22.7253, 16.4788, 15.6002,\n",
      "          20.4038, 11.9131, 12.9010, 76.4655], device='cuda:0'),eps=1e-08)\n",
      "  (4): EegMultiplicativeGaussianNoise(mean=0.0,std=0.0669700303853294)\n",
      "  (5): EegAdditiveGaussianNoise(mean=0.0,std=0.0010567535080937109)\n",
      "  (6): EegSpectrogram(n_fft=179, complex_mode=as_real, stft_kwargs={'hop_length': 45})\n",
      "  (7): EegNormalizeMeanStd(mean=tensor([[-2.9803e-01, -4.3382e-03,  5.5309e-04,  ..., -4.6493e-04,\n",
      "            2.3558e-03,  1.2985e-03],\n",
      "          [-1.2079e-01, -3.7003e-03,  2.6945e-03,  ...,  4.3979e-03,\n",
      "           -2.2532e-03, -2.0579e-04],\n",
      "          [ 4.5851e-01,  6.7078e-03,  1.1794e-03,  ..., -2.5874e-03,\n",
      "           -1.9237e-03, -1.8935e-03],\n",
      "          ...,\n",
      "          [ 0.0000e+00,  4.7836e-02,  2.0694e-02,  ...,  2.3537e-03,\n",
      "           -1.6769e-03, -4.6670e-04],\n",
      "          [ 0.0000e+00,  4.0533e-02,  1.7943e-02,  ...,  2.6705e-03,\n",
      "           -1.5839e-03, -1.1409e-04],\n",
      "          [ 0.0000e+00, -7.2991e-04,  2.6455e-04,  ...,  3.1363e-03,\n",
      "           -3.3166e-03, -5.2750e-04]], device='cuda:0'),std=tensor([[143.5342,  27.2355,  13.6020,  ...,   0.8563,   0.8598,   0.8730],\n",
      "          [146.9230,  24.0011,  12.0466,  ...,   0.8988,   0.8909,   0.9035],\n",
      "          [143.4951,  20.1917,  10.9890,  ...,   0.9294,   0.9255,   0.9333],\n",
      "          ...,\n",
      "          [  0.0000,  37.3640,  20.4367,  ...,   0.7222,   0.7188,   0.7234],\n",
      "          [  0.0000,  37.3670,  19.9717,  ...,   0.6934,   0.6927,   0.6953],\n",
      "          [  0.0000,   5.9355,   5.1338,  ...,   0.6717,   0.6708,   0.6736]],\n",
      "         device='cuda:0'),eps=1e-08)\n",
      ")\n",
      "\n",
      "----------------------------------------------------------------------------------------------------\n",
      "\n",
      "preprocess_test: Sequential(\n",
      "  (0): EegToDevice(device=cuda)\n",
      "  (1): EegNormalizeAge(mean=tensor([71.1643], device='cuda:0'),std=tensor([9.9056], device='cuda:0'),eps=1e-08)\n",
      "  (2): EegNormalizeMeanStd(mean=tensor([ 0.0358, -0.0330, -0.0118,  0.0665,  0.0615, -0.0752, -0.0861,  0.0298,\n",
      "          -0.0302, -0.0509, -0.0025,  0.0182,  0.0740, -0.0139, -0.0772, -0.0164,\n",
      "          -0.0547,  0.0266,  0.0657, -0.0135], device='cuda:0'),std=tensor([48.6190, 21.5017, 12.3963, 12.4263, 16.0117, 52.9230, 20.9484, 11.6301,\n",
      "          12.2355, 16.9628, 20.9524, 16.3172, 14.6108, 22.7253, 16.4788, 15.6002,\n",
      "          20.4038, 11.9131, 12.9010, 76.4655], device='cuda:0'),eps=1e-08)\n",
      "  (3): EegSpectrogram(n_fft=179, complex_mode=as_real, stft_kwargs={'hop_length': 45})\n",
      "  (4): EegNormalizeMeanStd(mean=tensor([[-2.9803e-01, -4.3382e-03,  5.5309e-04,  ..., -4.6493e-04,\n",
      "            2.3558e-03,  1.2985e-03],\n",
      "          [-1.2079e-01, -3.7003e-03,  2.6945e-03,  ...,  4.3979e-03,\n",
      "           -2.2532e-03, -2.0579e-04],\n",
      "          [ 4.5851e-01,  6.7078e-03,  1.1794e-03,  ..., -2.5874e-03,\n",
      "           -1.9237e-03, -1.8935e-03],\n",
      "          ...,\n",
      "          [ 0.0000e+00,  4.7836e-02,  2.0694e-02,  ...,  2.3537e-03,\n",
      "           -1.6769e-03, -4.6670e-04],\n",
      "          [ 0.0000e+00,  4.0533e-02,  1.7943e-02,  ...,  2.6705e-03,\n",
      "           -1.5839e-03, -1.1409e-04],\n",
      "          [ 0.0000e+00, -7.2991e-04,  2.6455e-04,  ...,  3.1363e-03,\n",
      "           -3.3166e-03, -5.2750e-04]], device='cuda:0'),std=tensor([[143.5342,  27.2355,  13.6020,  ...,   0.8563,   0.8598,   0.8730],\n",
      "          [146.9230,  24.0011,  12.0466,  ...,   0.8988,   0.8909,   0.9035],\n",
      "          [143.4951,  20.1917,  10.9890,  ...,   0.9294,   0.9255,   0.9333],\n",
      "          ...,\n",
      "          [  0.0000,  37.3640,  20.4367,  ...,   0.7222,   0.7188,   0.7234],\n",
      "          [  0.0000,  37.3670,  19.9717,  ...,   0.6934,   0.6927,   0.6953],\n",
      "          [  0.0000,   5.9355,   5.1338,  ...,   0.6717,   0.6708,   0.6736]],\n",
      "         device='cuda:0'),eps=1e-08)\n",
      ")\n",
      "\n",
      "----------------------------------------------------------------------------------------------------\n",
      "\n",
      "0 torch.Size([160, 40, 90, 89]) torch.Size([160]) torch.Size([160])\n",
      "1 torch.Size([160, 40, 90, 89]) torch.Size([160]) torch.Size([160])\n",
      "2 torch.Size([160, 40, 90, 89]) torch.Size([160]) torch.Size([160])\n",
      "3 torch.Size([160, 40, 90, 89]) torch.Size([160]) torch.Size([160])\n",
      "4 torch.Size([160, 40, 90, 89]) torch.Size([160]) torch.Size([160])\n",
      "\n",
      "----------------------------------------------------------------------------------------------------\n",
      "\n"
     ]
    }
   ],
   "source": [
    "train_loader, val_loader, test_loader, multicrop_test_loader = build_dataset_for_train(config, verbose=True)"
   ]
  },
  {
   "cell_type": "markdown",
   "id": "f0116501-0a1b-4460-92a4-f1c632993366",
   "metadata": {
    "pycharm": {
     "name": "#%% md\n"
    }
   },
   "source": [
    "### Train set"
   ]
  },
  {
   "cell_type": "code",
   "execution_count": null,
   "id": "266a7e96-bc3e-413e-849a-ed63ae59e16a",
   "metadata": {
    "pycharm": {
     "name": "#%%\n"
    }
   },
   "outputs": [],
   "source": [
    "_ = check_accuracy_extended_debug(model, train_loader, \n",
    "                                  config['preprocess_test'], config, repeat=repeat)\n",
    "train_acc = _[0] \n",
    "train_score = _[1]\n",
    "train_target = _[2]\n",
    "train_confusion = _[3]\n",
    "train_error_table = _[4]\n",
    "train_crop_timing = _[5]\n",
    "\n",
    "print(train_acc)"
   ]
  },
  {
   "cell_type": "code",
   "execution_count": null,
   "id": "802da575-01f7-4046-b1fd-64321adb58ba",
   "metadata": {
    "pycharm": {
     "name": "#%%\n"
    }
   },
   "outputs": [],
   "source": [
    "draw_roc_curve(train_score, train_target, config['class_label_to_name'], use_wandb=False)\n",
    "draw_confusion(train_confusion, config['class_label_to_name'], use_wandb=False)\n",
    "draw_error_table(train_error_table, use_wandb=False, fig_size=(60.0, 4.0))"
   ]
  },
  {
   "cell_type": "markdown",
   "id": "34d83768-0b92-41f8-9276-08f444ae3006",
   "metadata": {
    "pycharm": {
     "name": "#%% md\n"
    }
   },
   "source": [
    "### Validation set"
   ]
  },
  {
   "cell_type": "code",
   "execution_count": null,
   "id": "9bcce1ba-ccb0-4b77-aebc-b6ee966ab28c",
   "metadata": {
    "pycharm": {
     "name": "#%%\n"
    }
   },
   "outputs": [],
   "source": [
    "_ = check_accuracy_extended_debug(model, val_loader, \n",
    "                                  config['preprocess_test'], config, repeat=repeat)\n",
    "val_acc = _[0]\n",
    "val_score = _[1]\n",
    "val_target = _[2]\n",
    "val_confusion = _[3]\n",
    "val_error_table = _[4]\n",
    "val_crop_timing = _[5]\n",
    "\n",
    "print(val_acc)"
   ]
  },
  {
   "cell_type": "code",
   "execution_count": null,
   "id": "ceb56c9a-31e2-4bf4-8d19-5aa918390e59",
   "metadata": {
    "pycharm": {
     "name": "#%%\n"
    }
   },
   "outputs": [],
   "source": [
    "draw_roc_curve(val_score, val_target, config['class_label_to_name'], use_wandb=False)\n",
    "draw_confusion(val_confusion, config['class_label_to_name'], use_wandb=False)\n",
    "draw_error_table(val_error_table, use_wandb=False)"
   ]
  },
  {
   "cell_type": "markdown",
   "id": "6b0423d5-d26b-4a02-84a9-b4577b81cf82",
   "metadata": {
    "pycharm": {
     "name": "#%% md\n"
    }
   },
   "source": [
    "### Test set"
   ]
  },
  {
   "cell_type": "code",
   "execution_count": null,
   "id": "7572abf6-6c8d-429b-b18b-9eafbbe2b5b1",
   "metadata": {
    "pycharm": {
     "name": "#%%\n"
    }
   },
   "outputs": [],
   "source": [
    "_ = check_accuracy_extended_debug(model, test_loader, \n",
    "                                  config['preprocess_test'], config, repeat=repeat)\n",
    "test_acc = _[0]\n",
    "test_score = _[1]\n",
    "test_target = _[2]\n",
    "test_confusion = _[3]\n",
    "test_error_table = _[4]\n",
    "test_crop_timing = _[5]\n",
    "\n",
    "print(test_acc)"
   ]
  },
  {
   "cell_type": "code",
   "execution_count": null,
   "id": "153f97a7-1871-4f73-94e6-984a3c160e99",
   "metadata": {
    "pycharm": {
     "name": "#%%\n"
    }
   },
   "outputs": [],
   "source": [
    "draw_roc_curve(test_score, test_target, config['class_label_to_name'], use_wandb=False)\n",
    "draw_confusion(test_confusion, config['class_label_to_name'], use_wandb=False)\n",
    "draw_error_table(test_error_table, use_wandb=False)"
   ]
  },
  {
   "cell_type": "code",
   "execution_count": null,
   "id": "6313d640-f44f-4564-bd0c-cbd20f02ba8f",
   "metadata": {
    "tags": []
   },
   "outputs": [],
   "source": [
    "_ = check_accuracy_extended(model, test_loader, \n",
    "                            config['preprocess_test'], config, repeat=repeat)\n",
    "test_acc = _[0]\n",
    "test_score = _[1]\n",
    "test_target = _[2]\n",
    "test_confusion = _[3]\n",
    "test_error_table = _[4]\n",
    "\n",
    "print(test_acc)"
   ]
  },
  {
   "cell_type": "markdown",
   "id": "9d1d240c-1264-478a-88c3-5481ac520cd1",
   "metadata": {
    "pycharm": {
     "name": "#%% md\n"
    }
   },
   "source": [
    "### Test set (with test-time augmentation)"
   ]
  },
  {
   "cell_type": "code",
   "execution_count": null,
   "id": "643e8af7-e6cb-4b25-89b0-c115296be5e9",
   "metadata": {
    "pycharm": {
     "name": "#%%\n"
    },
    "tags": []
   },
   "outputs": [],
   "source": [
    "_ = check_accuracy_multicrop_extended(model, multicrop_test_loader, \n",
    "                                      config['preprocess_test'], config, repeat=repeat)\n",
    "multi_test_acc = _[0]\n",
    "multi_test_score = _[1]\n",
    "multi_test_target = _[2]\n",
    "multi_test_confusion = _[3]\n",
    "multi_test_error_table = _[4]\n",
    "\n",
    "print(multi_test_acc)"
   ]
  },
  {
   "cell_type": "code",
   "execution_count": null,
   "id": "e0d78977-2a2a-4a49-8802-3884c19aee07",
   "metadata": {
    "pycharm": {
     "name": "#%%\n"
    }
   },
   "outputs": [],
   "source": [
    "draw_roc_curve(multi_test_score, multi_test_target, config['class_label_to_name'], use_wandb=False)\n",
    "draw_confusion(multi_test_confusion, config['class_label_to_name'], use_wandb=False)\n",
    "draw_error_table(multi_test_error_table, use_wandb=False)"
   ]
  },
  {
   "cell_type": "markdown",
   "id": "a741cd35-65a8-458a-ad5e-a7cf9e66b43a",
   "metadata": {
    "pycharm": {
     "name": "#%% md\n"
    }
   },
   "source": [
    "### Examine whether the model has a bias related to the cropping starting time"
   ]
  },
  {
   "cell_type": "code",
   "execution_count": null,
   "id": "cd145cf6-1af1-4bed-9ee2-bf76a991a778",
   "metadata": {
    "pycharm": {
     "name": "#%%\n"
    }
   },
   "outputs": [],
   "source": [
    "train_pos = []\n",
    "train_neg = []\n",
    "\n",
    "for k, v in train_crop_timing.items():\n",
    "    for i in range(v.get('correct', 0)):\n",
    "        train_pos.append(k)\n",
    "    for i in range(v.get('incorrect', 0)):\n",
    "        train_neg.append(k)\n",
    "\n",
    "##\n",
    "\n",
    "val_pos = []\n",
    "val_neg = []\n",
    "\n",
    "for k, v in val_crop_timing.items():\n",
    "    for i in range(v.get('correct', 0)):\n",
    "        val_pos.append(k)\n",
    "    for i in range(v.get('incorrect', 0)):\n",
    "        val_neg.append(k)\n",
    "\n",
    "##\n",
    "\n",
    "test_pos = []\n",
    "test_neg = []\n",
    "\n",
    "for k, v in test_crop_timing.items():\n",
    "    for i in range(v.get('correct', 0)):\n",
    "        test_pos.append(k)\n",
    "    for i in range(v.get('incorrect', 0)):\n",
    "        test_neg.append(k)"
   ]
  },
  {
   "cell_type": "code",
   "execution_count": null,
   "id": "8fd4b339-4d0c-4dc8-bafb-a75f89c8bbba",
   "metadata": {
    "pycharm": {
     "name": "#%%\n"
    }
   },
   "outputs": [],
   "source": [
    "fig = plt.figure(num=1, clear=True, figsize=(16, 10), constrained_layout=True)\n",
    "n_bins = 50\n",
    "density = False\n",
    "\n",
    "ax = fig.add_subplot(3, 1, 1)\n",
    "ax.hist(train_pos, bins=n_bins, color='g', alpha=0.7, density=density)\n",
    "ax.hist(train_neg, bins=n_bins, color='r', alpha=0.7, density=density)\n",
    "ax.set_title(f'Training Set: True/Neg Historgram by Random Crop Time')\n",
    "ax.set_xlabel('Random Crop Time')\n",
    "ax.set_ylabel('Count')\n",
    "\n",
    "ax = fig.add_subplot(3, 1, 2)\n",
    "ax.hist(val_pos, bins=n_bins, color='g', alpha=0.7, density=density)\n",
    "ax.hist(val_neg, bins=n_bins, color='r', alpha=0.7, density=density)\n",
    "ax.set_title(f'Validation Set: True/Neg Historgram by Random Crop Time')\n",
    "ax.set_xlabel('Random Crop Time')\n",
    "ax.set_ylabel('Count')\n",
    "\n",
    "ax = fig.add_subplot(3, 1, 3)\n",
    "ax.hist(test_pos, bins=n_bins, color='g', alpha=0.7, density=density)\n",
    "ax.hist(test_neg, bins=n_bins, color='r', alpha=0.7, density=density)\n",
    "ax.set_title(f'Test Set: True/Neg Historgram by Random Crop Time')\n",
    "ax.set_xlabel('Random Crop Time')\n",
    "ax.set_ylabel('Count')\n",
    "\n",
    "plt.show()\n",
    "fig.clear()\n",
    "plt.close(fig)"
   ]
  },
  {
   "cell_type": "markdown",
   "id": "12e0ca82-cc3d-4303-bf31-7e4d7a375136",
   "metadata": {
    "pycharm": {
     "name": "#%% md\n"
    }
   },
   "source": [
    "-----\n",
    "\n",
    "## Evaluate the model with length limit"
   ]
  },
  {
   "cell_type": "markdown",
   "id": "f7ab8480-5e29-4b5e-bdb2-4409e045e315",
   "metadata": {
    "pycharm": {
     "name": "#%% md\n"
    }
   },
   "source": [
    "### Configurations"
   ]
  },
  {
   "cell_type": "code",
   "execution_count": null,
   "id": "acd0cfc6-1ef3-4135-a5fb-5876ceb305ab",
   "metadata": {
    "pycharm": {
     "name": "#%%\n"
    }
   },
   "outputs": [],
   "source": [
    "config = ckpt['config']\n",
    "\n",
    "config['crop_timing_analysis'] = False\n",
    "config['signal_length_limit'] = 200 * 60 * 7  # 7 minutes\n",
    "config['eval'] = True\n",
    "config['device'] = device\n",
    "\n",
    "repeat = round(50 / config['crop_multiple'])\n",
    "\n",
    "train_loader, val_loader, test_loader, multi_test_loader = build_dataset_for_train(config, verbose=False)"
   ]
  },
  {
   "cell_type": "code",
   "execution_count": null,
   "id": "67152a06-610f-480d-9512-b3547ced808c",
   "metadata": {
    "pycharm": {
     "name": "#%%\n"
    }
   },
   "outputs": [],
   "source": [
    "# train\n",
    "train_acc = check_accuracy(model, train_loader, \n",
    "                           config['preprocess_test'], config, repeat=repeat)\n",
    "val_acc = check_accuracy(model, val_loader, \n",
    "                         config['preprocess_test'], config, repeat=repeat)\n",
    "test_acc = check_accuracy(model, test_loader, \n",
    "                          config['preprocess_test'], config, repeat=repeat)\n",
    "multi_test_acc = check_accuracy_multicrop(model, multi_test_loader, \n",
    "                                          config['preprocess_test'], config, repeat=repeat)\n",
    "\n",
    "print(train_acc, val_acc, test_acc, multi_test_acc)"
   ]
  },
  {
   "cell_type": "code",
   "execution_count": null,
   "id": "23811ac5-4a94-4d8a-b4fb-68161557a87d",
   "metadata": {},
   "outputs": [],
   "source": []
  }
 ],
 "metadata": {
  "kernelspec": {
   "display_name": "Python 3 (ipykernel)",
   "language": "python",
   "name": "python3"
  },
  "language_info": {
   "codemirror_mode": {
    "name": "ipython",
    "version": 3
   },
   "file_extension": ".py",
   "mimetype": "text/x-python",
   "name": "python",
   "nbconvert_exporter": "python",
   "pygments_lexer": "ipython3",
   "version": "3.9.12"
  }
 },
 "nbformat": 4,
 "nbformat_minor": 5
}
