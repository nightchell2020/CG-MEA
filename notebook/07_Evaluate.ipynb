{
 "cells": [
  {
   "cell_type": "markdown",
   "id": "d74515d5-5f25-477b-9a97-ed1f9b6d4c51",
   "metadata": {
    "pycharm": {
     "name": "#%% md\n"
    }
   },
   "source": [
    "# Evaluate\n",
    "\n",
    "This notebook evaluates the network trained previous notebooks and analyzes the results."
   ]
  },
  {
   "cell_type": "markdown",
   "id": "b8a2666f-6b4b-4748-9dca-2884347a1f0f",
   "metadata": {
    "pycharm": {
     "name": "#%% md\n"
    }
   },
   "source": [
    "-----\n",
    "\n",
    "## Load Packages"
   ]
  },
  {
   "cell_type": "code",
   "execution_count": 1,
   "id": "df587e38-b1a9-42c8-9b50-680200a9bec7",
   "metadata": {
    "pycharm": {
     "name": "#%%\n"
    }
   },
   "outputs": [
    {
     "name": "stdout",
     "output_type": "stream",
     "text": [
      "C:\\Users\\Minjae\\Desktop\\EEG_Project\n"
     ]
    }
   ],
   "source": [
    "# for auto-reloading external modules\n",
    "# see http://stackoverflow.com/questions/1907993/autoreload-of-modules-in-ipython\n",
    "%cd ..\n",
    "%load_ext autoreload\n",
    "%autoreload 2"
   ]
  },
  {
   "cell_type": "code",
   "execution_count": 2,
   "id": "8fb41bf8-1713-4228-b799-0e1c87545a16",
   "metadata": {
    "pycharm": {
     "name": "#%%\n"
    }
   },
   "outputs": [],
   "source": [
    "# Load some packages\n",
    "import os\n",
    "from copy import deepcopy\n",
    "import hydra\n",
    "from omegaconf import OmegaConf\n",
    "from collections import OrderedDict\n",
    "\n",
    "import numpy as np\n",
    "from sklearn.metrics import classification_report\n",
    "import torch\n",
    "import torch.nn as nn\n",
    "import torch.nn.functional as F\n",
    "import torch.optim as optim\n",
    "\n",
    "import pprint\n",
    "import matplotlib\n",
    "import matplotlib.pyplot as plt\n",
    "\n",
    "# custom package\n",
    "from datasets.caueeg_script import build_dataset_for_train\n",
    "import models\n",
    "from train.evaluate import check_accuracy\n",
    "from train.evaluate import check_accuracy_extended\n",
    "from train.evaluate import check_accuracy_extended_debug\n",
    "from train.evaluate import check_accuracy_multicrop\n",
    "from train.evaluate import check_accuracy_multicrop_extended\n",
    "from train.visualize import draw_roc_curve\n",
    "from train.visualize import draw_confusion\n",
    "from train.visualize import draw_class_wise_metrics\n",
    "from train.visualize import draw_error_table\n",
    "from train.visualize import annotate_heatmap"
   ]
  },
  {
   "cell_type": "code",
   "execution_count": 3,
   "id": "d10e3f39-ed55-422c-b47f-376691cbeed6",
   "metadata": {
    "pycharm": {
     "name": "#%%\n"
    }
   },
   "outputs": [
    {
     "name": "stdout",
     "output_type": "stream",
     "text": [
      "PyTorch version: 1.11.0+cu113\n",
      "cuda is available.\n"
     ]
    }
   ],
   "source": [
    "print('PyTorch version:', torch.__version__)\n",
    "device = torch.device('cuda' if torch.cuda.is_available() else 'cpu')\n",
    "\n",
    "if torch.cuda.is_available(): print('cuda is available.')\n",
    "else: print('cuda is unavailable.') "
   ]
  },
  {
   "cell_type": "markdown",
   "id": "d2a62fa4-aa53-49d5-8ab4-2e2aaf7b65d1",
   "metadata": {
    "pycharm": {
     "name": "#%% md\n"
    },
    "tags": []
   },
   "source": [
    "-----\n",
    "\n",
    "## Load the configuration used during the train phase"
   ]
  },
  {
   "cell_type": "code",
   "execution_count": 4,
   "id": "bee4f853-3cad-4b01-8ee8-44ac9e49adbe",
   "metadata": {
    "pycharm": {
     "name": "#%%\n"
    }
   },
   "outputs": [
    {
     "name": "stdout",
     "output_type": "stream",
     "text": [
      "dict_keys(['model_state', 'config', 'optimizer_state', 'scheduler_state'])\n"
     ]
    }
   ],
   "source": [
    "model_name = '1sl7ipca'\n",
    "model_path = os.path.join(r'E:\\CAUEEG\\checkpoint', model_name, 'checkpoint.pt')\n",
    "\n",
    "ckpt = torch.load(model_path, map_location=device)\n",
    "print(ckpt.keys())"
   ]
  },
  {
   "cell_type": "code",
   "execution_count": 5,
   "id": "ab204c6e-25bc-4bb2-b83d-ffbab6dfd4d6",
   "metadata": {
    "pycharm": {
     "name": "#%%\n"
    }
   },
   "outputs": [],
   "source": [
    "model_state = ckpt['model_state']\n",
    "config = ckpt['config']\n",
    "optimizer = ckpt['optimizer_state']\n",
    "scheduler = ckpt['scheduler_state']"
   ]
  },
  {
   "cell_type": "code",
   "execution_count": 6,
   "id": "d6a582ce-495b-4f2e-9376-6d5591019f46",
   "metadata": {
    "pycharm": {
     "name": "#%%\n"
    }
   },
   "outputs": [
    {
     "name": "stdout",
     "output_type": "stream",
     "text": [
      "{'EKG': 'X',\n",
      " 'LR': 0.0025301790205714946,\n",
      " 'activation': 'mish',\n",
      " 'age_mean': tensor([71.3586], device='cuda:0'),\n",
      " 'age_std': tensor([9.6378], device='cuda:0'),\n",
      " 'awgn': 0.10394966750385833,\n",
      " 'awgn_age': 0.01804953928628786,\n",
      " 'base_channels': 64,\n",
      " 'block': <class 'models.resnet_2d.Bottleneck2D'>,\n",
      " 'class_label_to_name': ['Normal', 'MCI', 'Dementia'],\n",
      " 'class_name_to_label': {'Dementia': 2, 'MCI': 1, 'Normal': 0},\n",
      " 'conv_layers': [3, 4, 6, 3],\n",
      " 'criterion': 'cross-entropy',\n",
      " 'crop_multiple': 4,\n",
      " 'dataset_name': 'CAUEEG dataset',\n",
      " 'dataset_path': 'local/dataset/02_Curated_Data_220419/',\n",
      " 'ddp': False,\n",
      " 'device': device(type='cuda'),\n",
      " 'draw_result': True,\n",
      " 'dropout': 0.04197529259802718,\n",
      " 'fc_stages': 5,\n",
      " 'file_format': 'memmap',\n",
      " 'final_pool': 'average',\n",
      " 'generator': <class 'models.resnet_2d.ResNet2D'>,\n",
      " 'groups': 32,\n",
      " 'history_interval': 333,\n",
      " 'in_channels': 40,\n",
      " 'input_norm': 'dataset',\n",
      " 'iterations': 166666,\n",
      " 'latency': 2000,\n",
      " 'load_event': False,\n",
      " 'lr_scheduler_type': 'constant_with_twice_decay',\n",
      " 'mgn': 0.056254713649316834,\n",
      " 'minibatch': 192,\n",
      " 'mixup': 0,\n",
      " 'model': '2D-ResNeXt-50',\n",
      " 'model_index': 8,\n",
      " 'num_history': 500,\n",
      " 'num_params': 25886467,\n",
      " 'out_dims': 3,\n",
      " 'output_length': 6,\n",
      " 'photic': 'O',\n",
      " 'preprocess_test': Sequential(\n",
      "  (0): EegToDevice(device=cuda)\n",
      "  (1): EegNormalizeAge(mean=tensor([71.3586], device='cuda:0'),std=tensor([9.6378], device='cuda:0'),eps=1e-08)\n",
      "  (2): EegNormalizeMeanStd(mean=tensor([-0.0058, -0.0163,  0.0159,  0.0245,  0.0401, -0.0109, -0.0545,  0.0165,\n",
      "           0.0344, -0.0189,  0.0119,  0.0014,  0.0075, -0.0318, -0.0406, -0.0213,\n",
      "           0.0026,  0.0051,  0.0129, -0.0104], device='cuda:0'),std=tensor([49.5262, 21.4476, 12.3300, 12.3627, 16.4083, 53.3233, 20.9793, 11.0619,\n",
      "          12.2690, 16.9759, 21.4432, 14.8710, 14.4590, 22.8656, 18.2587, 15.7209,\n",
      "          20.4844, 11.7383, 12.2213, 75.3568], device='cuda:0'),eps=1e-08)\n",
      "  (3): EegSpectrogram(n_fft=179, complex_mode=as_real, stft_kwargs={'hop_length': 45})\n",
      "  (4): EegNormalizeMeanStd(mean=tensor([[ 1.1651e-01,  5.1386e-03, -1.1793e-03,  ..., -8.7671e-05,\n",
      "           -1.0907e-03, -7.0307e-04],\n",
      "          [-6.2566e-02,  3.8119e-03, -4.5193e-04,  ...,  2.9515e-03,\n",
      "           -5.3197e-03, -2.8594e-03],\n",
      "          [-2.2606e-01,  6.6618e-03, -4.4794e-03,  ..., -1.9304e-03,\n",
      "            1.9261e-03,  9.9736e-04],\n",
      "          ...,\n",
      "          [ 0.0000e+00, -3.7618e-02, -2.1681e-02,  ...,  4.1697e-03,\n",
      "           -3.3276e-03, -7.1993e-04],\n",
      "          [ 0.0000e+00,  3.6623e-02,  1.4451e-02,  ..., -2.2418e-03,\n",
      "            1.9899e-03,  3.8798e-04],\n",
      "          [ 0.0000e+00,  1.1648e-03,  1.0907e-03,  ..., -4.7681e-04,\n",
      "            5.5939e-04,  6.2319e-05]], device='cuda:0'),std=tensor([[146.0278,  26.7032,  13.4705,  ...,   1.3391,   1.3347,   1.3524],\n",
      "          [145.6355,  23.7963,  12.1741,  ...,   1.3353,   1.3351,   1.3482],\n",
      "          [138.1404,  20.3508,  11.3053,  ...,   1.3531,   1.3486,   1.3633],\n",
      "          ...,\n",
      "          [  0.0000,  35.5365,  19.6909,  ...,   1.2117,   1.2071,   1.2227],\n",
      "          [  0.0000,  36.7782,  20.0599,  ...,   1.2152,   1.2123,   1.2251],\n",
      "          [  0.0000,   6.4415,   5.6528,  ...,   1.3624,   1.3568,   1.3689]],\n",
      "         device='cuda:0'),eps=1e-08)\n",
      "),\n",
      " 'preprocess_train': Sequential(\n",
      "  (0): EegToDevice(device=cuda)\n",
      "  (1): EegNormalizeAge(mean=tensor([71.3586], device='cuda:0'),std=tensor([9.6378], device='cuda:0'),eps=1e-08)\n",
      "  (2): EegAddGaussianNoiseAge(mean=0.0,std=0.01804953928628786)\n",
      "  (3): EegNormalizeMeanStd(mean=tensor([-0.0058, -0.0163,  0.0159,  0.0245,  0.0401, -0.0109, -0.0545,  0.0165,\n",
      "           0.0344, -0.0189,  0.0119,  0.0014,  0.0075, -0.0318, -0.0406, -0.0213,\n",
      "           0.0026,  0.0051,  0.0129, -0.0104], device='cuda:0'),std=tensor([49.5262, 21.4476, 12.3300, 12.3627, 16.4083, 53.3233, 20.9793, 11.0619,\n",
      "          12.2690, 16.9759, 21.4432, 14.8710, 14.4590, 22.8656, 18.2587, 15.7209,\n",
      "          20.4844, 11.7383, 12.2213, 75.3568], device='cuda:0'),eps=1e-08)\n",
      "  (4): EegAdditiveGaussianNoise(mean=0.0,std=0.10394966750385833)\n",
      "  (5): EegMultiplicativeGaussianNoise(mean=0.0,std=0.056254713649316834)\n",
      "  (6): EegSpectrogram(n_fft=179, complex_mode=as_real, stft_kwargs={'hop_length': 45})\n",
      "  (7): EegNormalizeMeanStd(mean=tensor([[ 1.1651e-01,  5.1386e-03, -1.1793e-03,  ..., -8.7671e-05,\n",
      "           -1.0907e-03, -7.0307e-04],\n",
      "          [-6.2566e-02,  3.8119e-03, -4.5193e-04,  ...,  2.9515e-03,\n",
      "           -5.3197e-03, -2.8594e-03],\n",
      "          [-2.2606e-01,  6.6618e-03, -4.4794e-03,  ..., -1.9304e-03,\n",
      "            1.9261e-03,  9.9736e-04],\n",
      "          ...,\n",
      "          [ 0.0000e+00, -3.7618e-02, -2.1681e-02,  ...,  4.1697e-03,\n",
      "           -3.3276e-03, -7.1993e-04],\n",
      "          [ 0.0000e+00,  3.6623e-02,  1.4451e-02,  ..., -2.2418e-03,\n",
      "            1.9899e-03,  3.8798e-04],\n",
      "          [ 0.0000e+00,  1.1648e-03,  1.0907e-03,  ..., -4.7681e-04,\n",
      "            5.5939e-04,  6.2319e-05]], device='cuda:0'),std=tensor([[146.0278,  26.7032,  13.4705,  ...,   1.3391,   1.3347,   1.3524],\n",
      "          [145.6355,  23.7963,  12.1741,  ...,   1.3353,   1.3351,   1.3482],\n",
      "          [138.1404,  20.3508,  11.3053,  ...,   1.3531,   1.3486,   1.3633],\n",
      "          ...,\n",
      "          [  0.0000,  35.5365,  19.6909,  ...,   1.2117,   1.2071,   1.2227],\n",
      "          [  0.0000,  36.7782,  20.0599,  ...,   1.2152,   1.2123,   1.2251],\n",
      "          [  0.0000,   6.4415,   5.6528,  ...,   1.3624,   1.3568,   1.3689]],\n",
      "         device='cuda:0'),eps=1e-08)\n",
      "),\n",
      " 'save_model': True,\n",
      " 'seq_len_2d': (90, 89),\n",
      " 'seq_length': 4000,\n",
      " 'signal_2d_mean': tensor([[[[ 1.1651e-01],\n",
      "          [ 5.1386e-03],\n",
      "          [-1.1793e-03],\n",
      "          ...,\n",
      "          [-8.7671e-05],\n",
      "          [-1.0907e-03],\n",
      "          [-7.0307e-04]],\n",
      "\n",
      "         [[-6.2566e-02],\n",
      "          [ 3.8119e-03],\n",
      "          [-4.5193e-04],\n",
      "          ...,\n",
      "          [ 2.9515e-03],\n",
      "          [-5.3197e-03],\n",
      "          [-2.8594e-03]],\n",
      "\n",
      "         [[-2.2606e-01],\n",
      "          [ 6.6618e-03],\n",
      "          [-4.4794e-03],\n",
      "          ...,\n",
      "          [-1.9304e-03],\n",
      "          [ 1.9261e-03],\n",
      "          [ 9.9736e-04]],\n",
      "\n",
      "         ...,\n",
      "\n",
      "         [[ 0.0000e+00],\n",
      "          [-3.7618e-02],\n",
      "          [-2.1681e-02],\n",
      "          ...,\n",
      "          [ 4.1697e-03],\n",
      "          [-3.3276e-03],\n",
      "          [-7.1993e-04]],\n",
      "\n",
      "         [[ 0.0000e+00],\n",
      "          [ 3.6623e-02],\n",
      "          [ 1.4451e-02],\n",
      "          ...,\n",
      "          [-2.2418e-03],\n",
      "          [ 1.9899e-03],\n",
      "          [ 3.8798e-04]],\n",
      "\n",
      "         [[ 0.0000e+00],\n",
      "          [ 1.1648e-03],\n",
      "          [ 1.0907e-03],\n",
      "          ...,\n",
      "          [-4.7681e-04],\n",
      "          [ 5.5939e-04],\n",
      "          [ 6.2319e-05]]]], device='cuda:0'),\n",
      " 'signal_2d_std': tensor([[[[146.0278],\n",
      "          [ 26.7032],\n",
      "          [ 13.4705],\n",
      "          ...,\n",
      "          [  1.3391],\n",
      "          [  1.3347],\n",
      "          [  1.3524]],\n",
      "\n",
      "         [[145.6355],\n",
      "          [ 23.7963],\n",
      "          [ 12.1741],\n",
      "          ...,\n",
      "          [  1.3353],\n",
      "          [  1.3351],\n",
      "          [  1.3482]],\n",
      "\n",
      "         [[138.1404],\n",
      "          [ 20.3508],\n",
      "          [ 11.3053],\n",
      "          ...,\n",
      "          [  1.3531],\n",
      "          [  1.3486],\n",
      "          [  1.3633]],\n",
      "\n",
      "         ...,\n",
      "\n",
      "         [[  0.0000],\n",
      "          [ 35.5365],\n",
      "          [ 19.6909],\n",
      "          ...,\n",
      "          [  1.2117],\n",
      "          [  1.2071],\n",
      "          [  1.2227]],\n",
      "\n",
      "         [[  0.0000],\n",
      "          [ 36.7782],\n",
      "          [ 20.0599],\n",
      "          ...,\n",
      "          [  1.2152],\n",
      "          [  1.2123],\n",
      "          [  1.2251]],\n",
      "\n",
      "         [[  0.0000],\n",
      "          [  6.4415],\n",
      "          [  5.6528],\n",
      "          ...,\n",
      "          [  1.3624],\n",
      "          [  1.3568],\n",
      "          [  1.3689]]]], device='cuda:0'),\n",
      " 'signal_header': ['Fp1-AVG', 'F3-AVG', 'C3-AVG', 'P3-AVG', 'O1-AVG', 'Fp2-AVG', 'F4-AVG', 'C4-AVG', 'P4-AVG', 'O2-AVG', 'F7-AVG', 'T3-AVG', 'T5-AVG', 'F8-AVG', 'T4-AVG', 'T6-AVG', 'FZ-AVG', 'CZ-AVG', 'PZ-AVG', 'EKG', 'Photic'],\n",
      " 'signal_mean': tensor([[[-0.0058],\n",
      "         [-0.0163],\n",
      "         [ 0.0159],\n",
      "         [ 0.0245],\n",
      "         [ 0.0401],\n",
      "         [-0.0109],\n",
      "         [-0.0545],\n",
      "         [ 0.0165],\n",
      "         [ 0.0344],\n",
      "         [-0.0189],\n",
      "         [ 0.0119],\n",
      "         [ 0.0014],\n",
      "         [ 0.0075],\n",
      "         [-0.0318],\n",
      "         [-0.0406],\n",
      "         [-0.0213],\n",
      "         [ 0.0026],\n",
      "         [ 0.0051],\n",
      "         [ 0.0129],\n",
      "         [-0.0104]]], device='cuda:0'),\n",
      " 'signal_std': tensor([[[49.5262],\n",
      "         [21.4476],\n",
      "         [12.3300],\n",
      "         [12.3627],\n",
      "         [16.4083],\n",
      "         [53.3233],\n",
      "         [20.9793],\n",
      "         [11.0619],\n",
      "         [12.2690],\n",
      "         [16.9759],\n",
      "         [21.4432],\n",
      "         [14.8710],\n",
      "         [14.4590],\n",
      "         [22.8656],\n",
      "         [18.2587],\n",
      "         [15.7209],\n",
      "         [20.4844],\n",
      "         [11.7383],\n",
      "         [12.2213],\n",
      "         [75.3568]]], device='cuda:0'),\n",
      " 'stft_params': {'hop_length': 45, 'n_fft': 179},\n",
      " 'task': 'task2',\n",
      " 'task_description': 'Classification of [Normal], [MCI], and [Dementia] symptoms.',\n",
      " 'task_name': 'CAUEEG-task1 benchmark',\n",
      " 'test_crop_multiple': 8,\n",
      " 'transform': Compose(\n",
      "    EegRandomCrop(crop_length=4000, length_limit=10000000, multiple=4, latency=2000, return_timing=False)\n",
      "    EegDropChannels(drop_index=[19])\n",
      "    EegToTensor()\n",
      "),\n",
      " 'transform_multicrop': Compose(\n",
      "    EegRandomCrop(crop_length=4000, length_limit=10000000, multiple=8, latency=2000, return_timing=False)\n",
      "    EegDropChannels(drop_index=[19])\n",
      "    EegToTensor()\n",
      "),\n",
      " 'use_age': 'fc',\n",
      " 'warmup_steps': 8333,\n",
      " 'watch_model': True,\n",
      " 'weight_decay': 0.01587415829446177,\n",
      " 'width_per_group': 4}\n"
     ]
    }
   ],
   "source": [
    "pprint.pprint(config, width=250)"
   ]
  },
  {
   "cell_type": "markdown",
   "id": "0c85edd9-772b-4525-8acc-095850716b4e",
   "metadata": {
    "pycharm": {
     "name": "#%% md\n"
    }
   },
   "source": [
    "-----\n",
    "\n",
    "## Load the target model"
   ]
  },
  {
   "cell_type": "code",
   "execution_count": 7,
   "id": "d88946aa-6d3c-4b14-869e-b558783b8148",
   "metadata": {
    "pycharm": {
     "name": "#%%\n"
    }
   },
   "outputs": [
    {
     "ename": "ConfigAttributeError",
     "evalue": "Missing key to\n    full_key: to\n    object_type=dict",
     "output_type": "error",
     "traceback": [
      "\u001b[1;31m---------------------------------------------------------------------------\u001b[0m",
      "\u001b[1;31mConfigAttributeError\u001b[0m                      Traceback (most recent call last)",
      "Input \u001b[1;32mIn [7]\u001b[0m, in \u001b[0;36m<cell line: 2>\u001b[1;34m()\u001b[0m\n\u001b[0;32m      1\u001b[0m \u001b[38;5;66;03m# model = config['generator'](**config).to(device)\u001b[39;00m\n\u001b[1;32m----> 2\u001b[0m model \u001b[38;5;241m=\u001b[39m \u001b[43mhydra\u001b[49m\u001b[38;5;241;43m.\u001b[39;49m\u001b[43mutils\u001b[49m\u001b[38;5;241;43m.\u001b[39;49m\u001b[43minstantiate\u001b[49m\u001b[43m(\u001b[49m\u001b[43mconfig\u001b[49m\u001b[43m)\u001b[49m\u001b[38;5;241;43m.\u001b[39;49m\u001b[43mto\u001b[49m(device)\n\u001b[0;32m      4\u001b[0m \u001b[38;5;28;01mif\u001b[39;00m config\u001b[38;5;241m.\u001b[39mget(\u001b[38;5;124m'\u001b[39m\u001b[38;5;124mddp\u001b[39m\u001b[38;5;124m'\u001b[39m, \u001b[38;5;28;01mFalse\u001b[39;00m):\n\u001b[0;32m      5\u001b[0m     model_state_ddp \u001b[38;5;241m=\u001b[39m deepcopy(model_state)\n",
      "File \u001b[1;32m~\\anaconda3\\envs\\eeg\\lib\\site-packages\\omegaconf\\dictconfig.py:353\u001b[0m, in \u001b[0;36mDictConfig.__getattr__\u001b[1;34m(self, key)\u001b[0m\n\u001b[0;32m    351\u001b[0m     \u001b[38;5;28;01mreturn\u001b[39;00m \u001b[38;5;28mself\u001b[39m\u001b[38;5;241m.\u001b[39m_get_impl(key\u001b[38;5;241m=\u001b[39mkey, default_value\u001b[38;5;241m=\u001b[39m_DEFAULT_MARKER_)\n\u001b[0;32m    352\u001b[0m \u001b[38;5;28;01mexcept\u001b[39;00m ConfigKeyError \u001b[38;5;28;01mas\u001b[39;00m e:\n\u001b[1;32m--> 353\u001b[0m     \u001b[38;5;28;43mself\u001b[39;49m\u001b[38;5;241;43m.\u001b[39;49m\u001b[43m_format_and_raise\u001b[49m\u001b[43m(\u001b[49m\n\u001b[0;32m    354\u001b[0m \u001b[43m        \u001b[49m\u001b[43mkey\u001b[49m\u001b[38;5;241;43m=\u001b[39;49m\u001b[43mkey\u001b[49m\u001b[43m,\u001b[49m\u001b[43m \u001b[49m\u001b[43mvalue\u001b[49m\u001b[38;5;241;43m=\u001b[39;49m\u001b[38;5;28;43;01mNone\u001b[39;49;00m\u001b[43m,\u001b[49m\u001b[43m \u001b[49m\u001b[43mcause\u001b[49m\u001b[38;5;241;43m=\u001b[39;49m\u001b[43me\u001b[49m\u001b[43m,\u001b[49m\u001b[43m \u001b[49m\u001b[43mtype_override\u001b[49m\u001b[38;5;241;43m=\u001b[39;49m\u001b[43mConfigAttributeError\u001b[49m\n\u001b[0;32m    355\u001b[0m \u001b[43m    \u001b[49m\u001b[43m)\u001b[49m\n\u001b[0;32m    356\u001b[0m \u001b[38;5;28;01mexcept\u001b[39;00m \u001b[38;5;167;01mException\u001b[39;00m \u001b[38;5;28;01mas\u001b[39;00m e:\n\u001b[0;32m    357\u001b[0m     \u001b[38;5;28mself\u001b[39m\u001b[38;5;241m.\u001b[39m_format_and_raise(key\u001b[38;5;241m=\u001b[39mkey, value\u001b[38;5;241m=\u001b[39m\u001b[38;5;28;01mNone\u001b[39;00m, cause\u001b[38;5;241m=\u001b[39me)\n",
      "File \u001b[1;32m~\\anaconda3\\envs\\eeg\\lib\\site-packages\\omegaconf\\base.py:190\u001b[0m, in \u001b[0;36mNode._format_and_raise\u001b[1;34m(self, key, value, cause, type_override)\u001b[0m\n\u001b[0;32m    187\u001b[0m \u001b[38;5;28;01mdef\u001b[39;00m \u001b[38;5;21m_format_and_raise\u001b[39m(\n\u001b[0;32m    188\u001b[0m     \u001b[38;5;28mself\u001b[39m, key: Any, value: Any, cause: \u001b[38;5;167;01mException\u001b[39;00m, type_override: Any \u001b[38;5;241m=\u001b[39m \u001b[38;5;28;01mNone\u001b[39;00m\n\u001b[0;32m    189\u001b[0m ) \u001b[38;5;241m-\u001b[39m\u001b[38;5;241m>\u001b[39m \u001b[38;5;28;01mNone\u001b[39;00m:\n\u001b[1;32m--> 190\u001b[0m     \u001b[43mformat_and_raise\u001b[49m\u001b[43m(\u001b[49m\n\u001b[0;32m    191\u001b[0m \u001b[43m        \u001b[49m\u001b[43mnode\u001b[49m\u001b[38;5;241;43m=\u001b[39;49m\u001b[38;5;28;43mself\u001b[39;49m\u001b[43m,\u001b[49m\n\u001b[0;32m    192\u001b[0m \u001b[43m        \u001b[49m\u001b[43mkey\u001b[49m\u001b[38;5;241;43m=\u001b[39;49m\u001b[43mkey\u001b[49m\u001b[43m,\u001b[49m\n\u001b[0;32m    193\u001b[0m \u001b[43m        \u001b[49m\u001b[43mvalue\u001b[49m\u001b[38;5;241;43m=\u001b[39;49m\u001b[43mvalue\u001b[49m\u001b[43m,\u001b[49m\n\u001b[0;32m    194\u001b[0m \u001b[43m        \u001b[49m\u001b[43mmsg\u001b[49m\u001b[38;5;241;43m=\u001b[39;49m\u001b[38;5;28;43mstr\u001b[39;49m\u001b[43m(\u001b[49m\u001b[43mcause\u001b[49m\u001b[43m)\u001b[49m\u001b[43m,\u001b[49m\n\u001b[0;32m    195\u001b[0m \u001b[43m        \u001b[49m\u001b[43mcause\u001b[49m\u001b[38;5;241;43m=\u001b[39;49m\u001b[43mcause\u001b[49m\u001b[43m,\u001b[49m\n\u001b[0;32m    196\u001b[0m \u001b[43m        \u001b[49m\u001b[43mtype_override\u001b[49m\u001b[38;5;241;43m=\u001b[39;49m\u001b[43mtype_override\u001b[49m\u001b[43m,\u001b[49m\n\u001b[0;32m    197\u001b[0m \u001b[43m    \u001b[49m\u001b[43m)\u001b[49m\n\u001b[0;32m    198\u001b[0m     \u001b[38;5;28;01massert\u001b[39;00m \u001b[38;5;28;01mFalse\u001b[39;00m\n",
      "File \u001b[1;32m~\\anaconda3\\envs\\eeg\\lib\\site-packages\\omegaconf\\_utils.py:818\u001b[0m, in \u001b[0;36mformat_and_raise\u001b[1;34m(node, key, value, msg, cause, type_override)\u001b[0m\n\u001b[0;32m    815\u001b[0m     ex\u001b[38;5;241m.\u001b[39mref_type \u001b[38;5;241m=\u001b[39m ref_type\n\u001b[0;32m    816\u001b[0m     ex\u001b[38;5;241m.\u001b[39mref_type_str \u001b[38;5;241m=\u001b[39m ref_type_str\n\u001b[1;32m--> 818\u001b[0m \u001b[43m_raise\u001b[49m\u001b[43m(\u001b[49m\u001b[43mex\u001b[49m\u001b[43m,\u001b[49m\u001b[43m \u001b[49m\u001b[43mcause\u001b[49m\u001b[43m)\u001b[49m\n",
      "File \u001b[1;32m~\\anaconda3\\envs\\eeg\\lib\\site-packages\\omegaconf\\_utils.py:716\u001b[0m, in \u001b[0;36m_raise\u001b[1;34m(ex, cause)\u001b[0m\n\u001b[0;32m    714\u001b[0m \u001b[38;5;28;01melse\u001b[39;00m:\n\u001b[0;32m    715\u001b[0m     ex\u001b[38;5;241m.\u001b[39m__cause__ \u001b[38;5;241m=\u001b[39m \u001b[38;5;28;01mNone\u001b[39;00m\n\u001b[1;32m--> 716\u001b[0m \u001b[38;5;28;01mraise\u001b[39;00m ex\u001b[38;5;241m.\u001b[39mwith_traceback(sys\u001b[38;5;241m.\u001b[39mexc_info()[\u001b[38;5;241m2\u001b[39m])\n",
      "File \u001b[1;32m~\\anaconda3\\envs\\eeg\\lib\\site-packages\\omegaconf\\dictconfig.py:351\u001b[0m, in \u001b[0;36mDictConfig.__getattr__\u001b[1;34m(self, key)\u001b[0m\n\u001b[0;32m    348\u001b[0m     \u001b[38;5;28;01mraise\u001b[39;00m \u001b[38;5;167;01mAttributeError\u001b[39;00m()\n\u001b[0;32m    350\u001b[0m \u001b[38;5;28;01mtry\u001b[39;00m:\n\u001b[1;32m--> 351\u001b[0m     \u001b[38;5;28;01mreturn\u001b[39;00m \u001b[38;5;28;43mself\u001b[39;49m\u001b[38;5;241;43m.\u001b[39;49m\u001b[43m_get_impl\u001b[49m\u001b[43m(\u001b[49m\u001b[43mkey\u001b[49m\u001b[38;5;241;43m=\u001b[39;49m\u001b[43mkey\u001b[49m\u001b[43m,\u001b[49m\u001b[43m \u001b[49m\u001b[43mdefault_value\u001b[49m\u001b[38;5;241;43m=\u001b[39;49m\u001b[43m_DEFAULT_MARKER_\u001b[49m\u001b[43m)\u001b[49m\n\u001b[0;32m    352\u001b[0m \u001b[38;5;28;01mexcept\u001b[39;00m ConfigKeyError \u001b[38;5;28;01mas\u001b[39;00m e:\n\u001b[0;32m    353\u001b[0m     \u001b[38;5;28mself\u001b[39m\u001b[38;5;241m.\u001b[39m_format_and_raise(\n\u001b[0;32m    354\u001b[0m         key\u001b[38;5;241m=\u001b[39mkey, value\u001b[38;5;241m=\u001b[39m\u001b[38;5;28;01mNone\u001b[39;00m, cause\u001b[38;5;241m=\u001b[39me, type_override\u001b[38;5;241m=\u001b[39mConfigAttributeError\n\u001b[0;32m    355\u001b[0m     )\n",
      "File \u001b[1;32m~\\anaconda3\\envs\\eeg\\lib\\site-packages\\omegaconf\\dictconfig.py:438\u001b[0m, in \u001b[0;36mDictConfig._get_impl\u001b[1;34m(self, key, default_value)\u001b[0m\n\u001b[0;32m    436\u001b[0m \u001b[38;5;28;01mdef\u001b[39;00m \u001b[38;5;21m_get_impl\u001b[39m(\u001b[38;5;28mself\u001b[39m, key: DictKeyType, default_value: Any) \u001b[38;5;241m-\u001b[39m\u001b[38;5;241m>\u001b[39m Any:\n\u001b[0;32m    437\u001b[0m     \u001b[38;5;28;01mtry\u001b[39;00m:\n\u001b[1;32m--> 438\u001b[0m         node \u001b[38;5;241m=\u001b[39m \u001b[38;5;28;43mself\u001b[39;49m\u001b[38;5;241;43m.\u001b[39;49m\u001b[43m_get_node\u001b[49m\u001b[43m(\u001b[49m\u001b[43mkey\u001b[49m\u001b[38;5;241;43m=\u001b[39;49m\u001b[43mkey\u001b[49m\u001b[43m,\u001b[49m\u001b[43m \u001b[49m\u001b[43mthrow_on_missing_key\u001b[49m\u001b[38;5;241;43m=\u001b[39;49m\u001b[38;5;28;43;01mTrue\u001b[39;49;00m\u001b[43m)\u001b[49m\n\u001b[0;32m    439\u001b[0m     \u001b[38;5;28;01mexcept\u001b[39;00m (ConfigAttributeError, ConfigKeyError):\n\u001b[0;32m    440\u001b[0m         \u001b[38;5;28;01mif\u001b[39;00m default_value \u001b[38;5;129;01mis\u001b[39;00m \u001b[38;5;129;01mnot\u001b[39;00m _DEFAULT_MARKER_:\n",
      "File \u001b[1;32m~\\anaconda3\\envs\\eeg\\lib\\site-packages\\omegaconf\\dictconfig.py:470\u001b[0m, in \u001b[0;36mDictConfig._get_node\u001b[1;34m(self, key, validate_access, throw_on_missing_value, throw_on_missing_key)\u001b[0m\n\u001b[0;32m    468\u001b[0m \u001b[38;5;28;01mif\u001b[39;00m value \u001b[38;5;129;01mis\u001b[39;00m \u001b[38;5;28;01mNone\u001b[39;00m:\n\u001b[0;32m    469\u001b[0m     \u001b[38;5;28;01mif\u001b[39;00m throw_on_missing_key:\n\u001b[1;32m--> 470\u001b[0m         \u001b[38;5;28;01mraise\u001b[39;00m ConfigKeyError(\u001b[38;5;124mf\u001b[39m\u001b[38;5;124m\"\u001b[39m\u001b[38;5;124mMissing key \u001b[39m\u001b[38;5;132;01m{\u001b[39;00mkey\u001b[38;5;132;01m}\u001b[39;00m\u001b[38;5;124m\"\u001b[39m)\n\u001b[0;32m    471\u001b[0m \u001b[38;5;28;01melif\u001b[39;00m throw_on_missing_value \u001b[38;5;129;01mand\u001b[39;00m value\u001b[38;5;241m.\u001b[39m_is_missing():\n\u001b[0;32m    472\u001b[0m     \u001b[38;5;28;01mraise\u001b[39;00m MissingMandatoryValue(\u001b[38;5;124m\"\u001b[39m\u001b[38;5;124mMissing mandatory value: $KEY\u001b[39m\u001b[38;5;124m\"\u001b[39m)\n",
      "\u001b[1;31mConfigAttributeError\u001b[0m: Missing key to\n    full_key: to\n    object_type=dict"
     ]
    }
   ],
   "source": [
    "# model = config['generator'](**config).to(device)\n",
    "model = hydra.utils.instantiate(config).to(device)\n",
    "\n",
    "if config.get('ddp', False):\n",
    "    model_state_ddp = deepcopy(model_state)\n",
    "    model_state = OrderedDict()\n",
    "    for k, v in model_state_ddp.items():\n",
    "        name = k[7:] # remove 'module.' of DataParallel/DistributedDataParallel\n",
    "        model_state[name] = v\n",
    "        \n",
    "model.load_state_dict(model_state)"
   ]
  },
  {
   "cell_type": "markdown",
   "id": "a751ab89-fe12-4e98-94e1-9a616ba08670",
   "metadata": {
    "pycharm": {
     "name": "#%% md\n"
    }
   },
   "source": [
    "-----\n",
    "\n",
    "## Evaluate the model and analyze the performance by the crop timing"
   ]
  },
  {
   "cell_type": "markdown",
   "id": "a76b02db-da4e-4e65-830b-ba4214ff1bd7",
   "metadata": {
    "pycharm": {
     "name": "#%% md\n"
    }
   },
   "source": [
    "### Configurations"
   ]
  },
  {
   "cell_type": "code",
   "execution_count": null,
   "id": "89fa65ab-c9ce-4182-97c7-1adb2ca651d3",
   "metadata": {
    "pycharm": {
     "name": "#%%\n"
    }
   },
   "outputs": [],
   "source": [
    "config = ckpt['config']\n",
    "\n",
    "config.pop('cwd', 0)\n",
    "config['ddp'] = False\n",
    "config['crop_timing_analysis'] = True\n",
    "config['eval'] = True\n",
    "config['device'] = device\n",
    "\n",
    "# config['seq_length'] = 16000 # TODO\n",
    "# config['test_crop_multiple'] = 32 # TODO\n",
    "\n",
    "repeat = round(200 / config['crop_multiple'])\n",
    "print(repeat)"
   ]
  },
  {
   "cell_type": "markdown",
   "id": "61bc5f3a-1321-406c-ad0f-d8cb6f587bd1",
   "metadata": {
    "pycharm": {
     "name": "#%% md\n"
    }
   },
   "source": [
    "### Build Dataset"
   ]
  },
  {
   "cell_type": "code",
   "execution_count": null,
   "id": "316ce735-4ffd-49a6-a9d1-51584df94390",
   "metadata": {
    "pycharm": {
     "name": "#%%\n"
    }
   },
   "outputs": [],
   "source": [
    "train_loader, val_loader, test_loader, multicrop_test_loader = build_dataset_for_train(config, verbose=True)"
   ]
  },
  {
   "cell_type": "markdown",
   "id": "f0116501-0a1b-4460-92a4-f1c632993366",
   "metadata": {
    "pycharm": {
     "name": "#%% md\n"
    }
   },
   "source": [
    "### Train set"
   ]
  },
  {
   "cell_type": "code",
   "execution_count": null,
   "id": "266a7e96-bc3e-413e-849a-ed63ae59e16a",
   "metadata": {
    "pycharm": {
     "name": "#%%\n"
    }
   },
   "outputs": [],
   "source": [
    "_ = check_accuracy_extended_debug(model, train_loader, \n",
    "                                  config['preprocess_test'], config, repeat=repeat)\n",
    "train_acc = _[0] \n",
    "train_score = _[1]\n",
    "train_target = _[2]\n",
    "train_confusion = _[3]\n",
    "train_error_table = _[4]\n",
    "train_crop_timing = _[5]\n",
    "\n",
    "print(train_acc)"
   ]
  },
  {
   "cell_type": "code",
   "execution_count": null,
   "id": "802da575-01f7-4046-b1fd-64321adb58ba",
   "metadata": {
    "pycharm": {
     "name": "#%%\n"
    }
   },
   "outputs": [],
   "source": [
    "draw_roc_curve(train_score, train_target, config['class_label_to_name'], use_wandb=False)\n",
    "draw_confusion(train_confusion, config['class_label_to_name'], use_wandb=False)\n",
    "draw_error_table(train_error_table, use_wandb=False, fig_size=(60.0, 4.0))"
   ]
  },
  {
   "cell_type": "markdown",
   "id": "34d83768-0b92-41f8-9276-08f444ae3006",
   "metadata": {
    "pycharm": {
     "name": "#%% md\n"
    }
   },
   "source": [
    "### Validation set"
   ]
  },
  {
   "cell_type": "code",
   "execution_count": null,
   "id": "9bcce1ba-ccb0-4b77-aebc-b6ee966ab28c",
   "metadata": {
    "pycharm": {
     "name": "#%%\n"
    }
   },
   "outputs": [],
   "source": [
    "_ = check_accuracy_extended_debug(model, val_loader, \n",
    "                                  config['preprocess_test'], config, repeat=repeat)\n",
    "val_acc = _[0]\n",
    "val_score = _[1]\n",
    "val_target = _[2]\n",
    "val_confusion = _[3]\n",
    "val_error_table = _[4]\n",
    "val_crop_timing = _[5]\n",
    "\n",
    "print(val_acc)"
   ]
  },
  {
   "cell_type": "code",
   "execution_count": null,
   "id": "ceb56c9a-31e2-4bf4-8d19-5aa918390e59",
   "metadata": {
    "pycharm": {
     "name": "#%%\n"
    }
   },
   "outputs": [],
   "source": [
    "draw_roc_curve(val_score, val_target, config['class_label_to_name'], use_wandb=False)\n",
    "draw_confusion(val_confusion, config['class_label_to_name'], use_wandb=False)\n",
    "draw_error_table(val_error_table, use_wandb=False)"
   ]
  },
  {
   "cell_type": "markdown",
   "id": "6b0423d5-d26b-4a02-84a9-b4577b81cf82",
   "metadata": {
    "pycharm": {
     "name": "#%% md\n"
    }
   },
   "source": [
    "### Test set"
   ]
  },
  {
   "cell_type": "code",
   "execution_count": null,
   "id": "7572abf6-6c8d-429b-b18b-9eafbbe2b5b1",
   "metadata": {
    "pycharm": {
     "name": "#%%\n"
    }
   },
   "outputs": [],
   "source": [
    "_ = check_accuracy_extended_debug(model, test_loader, \n",
    "                                  config['preprocess_test'], config, repeat=repeat)\n",
    "test_acc = _[0]\n",
    "test_score = _[1]\n",
    "test_target = _[2]\n",
    "test_confusion = _[3]\n",
    "test_error_table = _[4]\n",
    "test_crop_timing = _[5]\n",
    "\n",
    "print(test_acc)"
   ]
  },
  {
   "cell_type": "code",
   "execution_count": null,
   "id": "153f97a7-1871-4f73-94e6-984a3c160e99",
   "metadata": {
    "pycharm": {
     "name": "#%%\n"
    }
   },
   "outputs": [],
   "source": [
    "draw_roc_curve(test_score, test_target, config['class_label_to_name'], use_wandb=False)\n",
    "draw_confusion(test_confusion, config['class_label_to_name'], use_wandb=False)\n",
    "draw_class_wise_metrics(test_confusion, config['class_label_to_name'], use_wandb=False)\n",
    "draw_error_table(test_error_table, use_wandb=False)"
   ]
  },
  {
   "cell_type": "code",
   "execution_count": null,
   "id": "6313d640-f44f-4564-bd0c-cbd20f02ba8f",
   "metadata": {
    "pycharm": {
     "name": "#%%\n"
    },
    "tags": []
   },
   "outputs": [],
   "source": [
    "_ = check_accuracy_extended(model, test_loader, \n",
    "                            config['preprocess_test'], config, repeat=repeat)\n",
    "test_acc = _[0]\n",
    "test_score = _[1]\n",
    "test_target = _[2]\n",
    "test_confusion = _[3]\n",
    "test_error_table = _[4]\n",
    "\n",
    "print(test_acc)"
   ]
  },
  {
   "cell_type": "markdown",
   "id": "9d1d240c-1264-478a-88c3-5481ac520cd1",
   "metadata": {
    "pycharm": {
     "name": "#%% md\n"
    }
   },
   "source": [
    "### Test set (with test-time augmentation)"
   ]
  },
  {
   "cell_type": "code",
   "execution_count": null,
   "id": "643e8af7-e6cb-4b25-89b0-c115296be5e9",
   "metadata": {
    "pycharm": {
     "name": "#%%\n"
    },
    "tags": []
   },
   "outputs": [],
   "source": [
    "_ = check_accuracy_multicrop_extended(model, multicrop_test_loader, \n",
    "                                      config['preprocess_test'], config, repeat=repeat)\n",
    "multi_test_acc = _[0]\n",
    "multi_test_score = _[1]\n",
    "multi_test_target = _[2]\n",
    "multi_test_confusion = _[3]\n",
    "multi_test_error_table = _[4]\n",
    "\n",
    "print(multi_test_acc)"
   ]
  },
  {
   "cell_type": "code",
   "execution_count": null,
   "id": "e0d78977-2a2a-4a49-8802-3884c19aee07",
   "metadata": {
    "pycharm": {
     "name": "#%%\n"
    }
   },
   "outputs": [],
   "source": [
    "draw_roc_curve(multi_test_score, multi_test_target, config['class_label_to_name'], use_wandb=False)\n",
    "draw_confusion(multi_test_confusion, config['class_label_to_name'], use_wandb=False)\n",
    "draw_class_wise_metrics(multi_test_confusion, config['class_label_to_name'], use_wandb=False)\n",
    "draw_error_table(multi_test_error_table, use_wandb=False)"
   ]
  },
  {
   "cell_type": "markdown",
   "id": "a741cd35-65a8-458a-ad5e-a7cf9e66b43a",
   "metadata": {
    "pycharm": {
     "name": "#%% md\n"
    }
   },
   "source": [
    "### Examine whether the model has a bias related to the cropping starting time"
   ]
  },
  {
   "cell_type": "code",
   "execution_count": null,
   "id": "cd145cf6-1af1-4bed-9ee2-bf76a991a778",
   "metadata": {
    "pycharm": {
     "name": "#%%\n"
    }
   },
   "outputs": [],
   "source": [
    "train_pos = []\n",
    "train_neg = []\n",
    "\n",
    "for k, v in train_crop_timing.items():\n",
    "    for i in range(v.get('correct', 0)):\n",
    "        train_pos.append(k)\n",
    "    for i in range(v.get('incorrect', 0)):\n",
    "        train_neg.append(k)\n",
    "\n",
    "##\n",
    "\n",
    "val_pos = []\n",
    "val_neg = []\n",
    "\n",
    "for k, v in val_crop_timing.items():\n",
    "    for i in range(v.get('correct', 0)):\n",
    "        val_pos.append(k)\n",
    "    for i in range(v.get('incorrect', 0)):\n",
    "        val_neg.append(k)\n",
    "\n",
    "##\n",
    "\n",
    "test_pos = []\n",
    "test_neg = []\n",
    "\n",
    "for k, v in test_crop_timing.items():\n",
    "    for i in range(v.get('correct', 0)):\n",
    "        test_pos.append(k)\n",
    "    for i in range(v.get('incorrect', 0)):\n",
    "        test_neg.append(k)"
   ]
  },
  {
   "cell_type": "code",
   "execution_count": null,
   "id": "8fd4b339-4d0c-4dc8-bafb-a75f89c8bbba",
   "metadata": {
    "pycharm": {
     "name": "#%%\n"
    }
   },
   "outputs": [],
   "source": [
    "fig = plt.figure(num=1, clear=True, figsize=(16, 10), constrained_layout=True)\n",
    "n_bins = 50\n",
    "density = False\n",
    "\n",
    "ax = fig.add_subplot(3, 1, 1)\n",
    "ax.hist(train_pos, bins=n_bins, color='g', alpha=0.7, density=density)\n",
    "ax.hist(train_neg, bins=n_bins, color='r', alpha=0.7, density=density)\n",
    "ax.set_title(f'Training Set: True/Neg Historgram by Random Crop Time')\n",
    "ax.set_xlabel('Random Crop Time')\n",
    "ax.set_ylabel('Count')\n",
    "\n",
    "ax = fig.add_subplot(3, 1, 2)\n",
    "ax.hist(val_pos, bins=n_bins, color='g', alpha=0.7, density=density)\n",
    "ax.hist(val_neg, bins=n_bins, color='r', alpha=0.7, density=density)\n",
    "ax.set_title(f'Validation Set: True/Neg Historgram by Random Crop Time')\n",
    "ax.set_xlabel('Random Crop Time')\n",
    "ax.set_ylabel('Count')\n",
    "\n",
    "ax = fig.add_subplot(3, 1, 3)\n",
    "ax.hist(test_pos, bins=n_bins, color='g', alpha=0.7, density=density)\n",
    "ax.hist(test_neg, bins=n_bins, color='r', alpha=0.7, density=density)\n",
    "ax.set_title(f'Test Set: True/Neg Historgram by Random Crop Time')\n",
    "ax.set_xlabel('Random Crop Time')\n",
    "ax.set_ylabel('Count')\n",
    "\n",
    "plt.show()\n",
    "fig.clear()\n",
    "plt.close(fig)"
   ]
  },
  {
   "cell_type": "markdown",
   "id": "12e0ca82-cc3d-4303-bf31-7e4d7a375136",
   "metadata": {
    "pycharm": {
     "name": "#%% md\n"
    }
   },
   "source": [
    "-----\n",
    "\n",
    "## Evaluate the model with length limit"
   ]
  },
  {
   "cell_type": "markdown",
   "id": "f7ab8480-5e29-4b5e-bdb2-4409e045e315",
   "metadata": {
    "pycharm": {
     "name": "#%% md\n"
    }
   },
   "source": [
    "### Configurations"
   ]
  },
  {
   "cell_type": "code",
   "execution_count": null,
   "id": "acd0cfc6-1ef3-4135-a5fb-5876ceb305ab",
   "metadata": {
    "pycharm": {
     "name": "#%%\n"
    }
   },
   "outputs": [],
   "source": [
    "config = ckpt['config']\n",
    "\n",
    "config['crop_timing_analysis'] = False\n",
    "config['signal_length_limit'] = 200 * 60 * 7  # 7 minutes\n",
    "config['eval'] = True\n",
    "config['device'] = device\n",
    "\n",
    "repeat = round(50 / config['crop_multiple'])\n",
    "\n",
    "train_loader, val_loader, test_loader, multi_test_loader = build_dataset_for_train(config, verbose=False)"
   ]
  },
  {
   "cell_type": "code",
   "execution_count": null,
   "id": "67152a06-610f-480d-9512-b3547ced808c",
   "metadata": {
    "pycharm": {
     "name": "#%%\n"
    }
   },
   "outputs": [],
   "source": [
    "# train\n",
    "train_acc = check_accuracy(model, train_loader, \n",
    "                           config['preprocess_test'], config, repeat=repeat)\n",
    "val_acc = check_accuracy(model, val_loader, \n",
    "                         config['preprocess_test'], config, repeat=repeat)\n",
    "test_acc = check_accuracy(model, test_loader, \n",
    "                          config['preprocess_test'], config, repeat=repeat)\n",
    "multi_test_acc = check_accuracy_multicrop(model, multi_test_loader, \n",
    "                                          config['preprocess_test'], config, repeat=repeat)\n",
    "\n",
    "print(train_acc, val_acc, test_acc, multi_test_acc)"
   ]
  },
  {
   "cell_type": "code",
   "execution_count": null,
   "id": "23811ac5-4a94-4d8a-b4fb-68161557a87d",
   "metadata": {
    "pycharm": {
     "name": "#%%\n"
    }
   },
   "outputs": [],
   "source": []
  }
 ],
 "metadata": {
  "kernelspec": {
   "display_name": "Python 3 (ipykernel)",
   "language": "python",
   "name": "python3"
  },
  "language_info": {
   "codemirror_mode": {
    "name": "ipython",
    "version": 3
   },
   "file_extension": ".py",
   "mimetype": "text/x-python",
   "name": "python",
   "nbconvert_exporter": "python",
   "pygments_lexer": "ipython3",
   "version": "3.9.12"
  }
 },
 "nbformat": 4,
 "nbformat_minor": 5
}
