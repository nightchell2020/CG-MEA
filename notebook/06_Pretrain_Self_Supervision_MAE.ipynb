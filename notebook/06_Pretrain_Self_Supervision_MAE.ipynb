{
 "cells": [
  {
   "cell_type": "markdown",
   "metadata": {
    "pycharm": {
     "name": "#%% md\n"
    }
   },
   "source": [
    "# Self-Supervision\n",
    "\n",
    "- Train a deep network using the self-supervised learning framework."
   ]
  },
  {
   "cell_type": "markdown",
   "metadata": {
    "pycharm": {
     "name": "#%% md\n"
    }
   },
   "source": [
    "-----\n",
    "\n",
    "## Load Packages"
   ]
  },
  {
   "cell_type": "code",
   "execution_count": 1,
   "metadata": {
    "pycharm": {
     "name": "#%%\n"
    }
   },
   "outputs": [
    {
     "name": "stdout",
     "output_type": "stream",
     "text": [
      "D:\\GitHub\\eeg_analysis\n"
     ]
    }
   ],
   "source": [
    "# for auto-reloading external modules\n",
    "# see http://stackoverflow.com/questions/1907993/autoreload-of-modules-in-ipython\n",
    "%load_ext autoreload\n",
    "%autoreload 2\n",
    "%cd .."
   ]
  },
  {
   "cell_type": "code",
   "execution_count": 2,
   "metadata": {
    "pycharm": {
     "name": "#%%\n"
    },
    "tags": []
   },
   "outputs": [
    {
     "name": "stderr",
     "output_type": "stream",
     "text": [
      "D:\\GitHub\\eeg_analysis\\run_mae_train.py:70: UserWarning:\n",
      "\n",
      "\n",
      "The version_base parameter is not specified.\n",
      "Please specify a compatability version level, or None.\n",
      "Will assume defaults for version 1.1\n",
      "\n"
     ]
    }
   ],
   "source": [
    "# Load some packages\n",
    "import hydra\n",
    "from omegaconf import OmegaConf\n",
    "import wandb\n",
    "import pprint\n",
    "\n",
    "# custom package\n",
    "from run_train import check_device_env\n",
    "from run_mae_train import prepare_and_run_ssl_train"
   ]
  },
  {
   "cell_type": "markdown",
   "metadata": {
    "pycharm": {
     "name": "#%% md\n"
    }
   },
   "source": [
    "---\n",
    "\n",
    "## Specify the dataset, model, and train setting"
   ]
  },
  {
   "cell_type": "code",
   "execution_count": 3,
   "metadata": {
    "collapsed": false,
    "jupyter": {
     "outputs_hidden": false
    },
    "pycharm": {
     "name": "#%%\n"
    }
   },
   "outputs": [],
   "source": [
    "project = 'caueeg-mae'\n",
    "data_cfg_file = 'caueeg-abnormal'\n",
    "train_cfg_file = 'tiny-train'\n",
    "ssl_cfg_file = '2D-MAE-B'\n",
    "device = 'cuda:0'"
   ]
  },
  {
   "cell_type": "markdown",
   "metadata": {
    "collapsed": false,
    "jupyter": {
     "outputs_hidden": false
    },
    "pycharm": {
     "name": "#%%\n"
    }
   },
   "source": [
    "---\n",
    "\n",
    "## Initializing configurations using Hydra"
   ]
  },
  {
   "cell_type": "code",
   "execution_count": 7,
   "metadata": {
    "collapsed": false,
    "jupyter": {
     "outputs_hidden": false
    },
    "pycharm": {
     "name": "#%%\n"
    }
   },
   "outputs": [
    {
     "name": "stdout",
     "output_type": "stream",
     "text": [
      "{'EKG': 'O',\n",
      " '_target_': 'models.ssl.mae_2d.mae_2d_pre_b_e768_d512',\n",
      " 'activation': 'gelu',\n",
      " 'awgn': 0.003,\n",
      " 'awgn_age': 0.001,\n",
      " 'base_lr': 0.001,\n",
      " 'criterion': 'cross-entropy',\n",
      " 'crop_multiple': 4,\n",
      " 'crop_timing_analysis': False,\n",
      " 'dataset_name': 'caueeg-dataset',\n",
      " 'dataset_path': 'local/dataset/caueeg-dataset/',\n",
      " 'ddp': False,\n",
      " 'device': device(type='cuda', index=0),\n",
      " 'draw_result': True,\n",
      " 'file_format': 'memmap',\n",
      " 'input_norm': 'datapoint',\n",
      " 'latency': 2000,\n",
      " 'load_event': False,\n",
      " 'lr_scheduler_type': 'cosine_decay_with_warmup_half',\n",
      " 'mask_ratio': 0.75,\n",
      " 'mgn': 0.003,\n",
      " 'minibatch': 256,\n",
      " 'minibatch_3090': 256,\n",
      " 'mixed_precision': True,\n",
      " 'mixup': 0.0,\n",
      " 'model': '2D-MAE-B',\n",
      " 'norm_pix_loss': True,\n",
      " 'num_history': 5,\n",
      " 'patch_size': 8,\n",
      " 'photic': 'X',\n",
      " 'project': 'caueeg-mae',\n",
      " 'resample': 100,\n",
      " 'run_mode': 'train',\n",
      " 'sampling_rate': 200,\n",
      " 'save_model': True,\n",
      " 'search_lr': False,\n",
      " 'search_multiplier': 1.0,\n",
      " 'seed': 0,\n",
      " 'seq_length': 4095,\n",
      " 'signal_length_limit': 10000000,\n",
      " 'stft_params': {'n_fft': 127},\n",
      " 'task': 'abnormal',\n",
      " 'test_crop_multiple': 8,\n",
      " 'total_samples': 1000000.0,\n",
      " 'use_age': 'no',\n",
      " 'use_wandb': False,\n",
      " 'warmup_min': 3000,\n",
      " 'warmup_ratio': 0.05,\n",
      " 'watch_model': False,\n",
      " 'weight_decay': 0.01}\n"
     ]
    },
    {
     "name": "stderr",
     "output_type": "stream",
     "text": [
      "C:\\Users\\Minjae\\AppData\\Local\\Temp\\ipykernel_26512\\3320556640.py:1: UserWarning:\n",
      "\n",
      "\n",
      "The version_base parameter is not specified.\n",
      "Please specify a compatability version level, or None.\n",
      "Will assume defaults for version 1.1\n",
      "\n"
     ]
    }
   ],
   "source": [
    "with hydra.initialize(config_path='../config'):\n",
    "    add_configs = [f\"data={data_cfg_file}\", \n",
    "                   f\"++data.seq_length=4095\",\n",
    "                   f\"++data.stft_params.n_fft=127\",\n",
    "                   f\"++data.input_norm=datapoint\",\n",
    "                   f\"++data.awgn=0.003\",\n",
    "                   f\"++data.mgn=0.003\",\n",
    "                   f\"++data.crop_multiple=4\",\n",
    "                   f\"++data.resample=100\",   ###################################################\n",
    "                   f\"train={train_cfg_file}\",\n",
    "                   f\"+train.device={device}\", \n",
    "                   f\"+train.project={project}\",\n",
    "                   f\"++train.lr_scheduler_type=cosine_decay_with_warmup_half\",\n",
    "                   f\"++train.base_lr=1e-3\",\n",
    "                   f\"++train.total_samples=1e+6\",  ###############################################\n",
    "                   f\"++train.save_model=True\",  ###############################################\n",
    "                   f\"++train.search_lr=False\",   ###############################################\n",
    "                   f\"++train.mixed_precision=True\",\n",
    "                   f\"ssl={ssl_cfg_file}\",\n",
    "                   f\"++ssl.patch_size=8\",\n",
    "                   f\"++ssl.use_age=no\",\n",
    "                   f\"++ssl.norm_pix_loss=True\",\n",
    "                   f\"++ssl.mask_ratio=0.75\",\n",
    "                  ]\n",
    "    \n",
    "    cfg = hydra.compose(config_name='default', overrides=add_configs)\n",
    "    \n",
    "config = {**OmegaConf.to_container(cfg.data), \n",
    "          **OmegaConf.to_container(cfg.train),\n",
    "          **OmegaConf.to_container(cfg.ssl)}\n",
    "\n",
    "check_device_env(config)\n",
    "pprint.pprint(config)"
   ]
  },
  {
   "cell_type": "markdown",
   "metadata": {
    "pycharm": {
     "name": "#%% md\n"
    }
   },
   "source": [
    "## Train"
   ]
  },
  {
   "cell_type": "code",
   "execution_count": 8,
   "metadata": {
    "collapsed": false,
    "jupyter": {
     "outputs_hidden": false
    },
    "pycharm": {
     "name": "#%%\n"
    }
   },
   "outputs": [
    {
     "name": "stdout",
     "output_type": "stream",
     "text": [
      "\n",
      "******************************    Configurations for Train    ******************************\n",
      "\n",
      "{'EKG': 'O',\n",
      " '_target_': 'models.ssl.mae_2d.mae_2d_pre_b_e768_d512',\n",
      " 'activation': 'gelu',\n",
      " 'age_mean': tensor([71.3079]),\n",
      " 'age_std': tensor([9.7947]),\n",
      " 'awgn': 0.003,\n",
      " 'awgn_age': 0.001,\n",
      " 'base_lr': 0.001,\n",
      " 'class_label_to_name': ['Normal', 'Abnormal'],\n",
      " 'class_name_to_label': {'Abnormal': 1, 'Normal': 0},\n",
      " 'criterion': 'cross-entropy',\n",
      " 'crop_length': 4095,\n",
      " 'crop_multiple': 4,\n",
      " 'crop_timing_analysis': False,\n",
      " 'dataset_name': 'CAUEEG dataset',\n",
      " 'dataset_path': 'local/dataset/caueeg-dataset/',\n",
      " 'ddp': False,\n",
      " 'device': device(type='cuda', index=0),\n",
      " 'draw_result': True,\n",
      " 'file_format': 'memmap',\n",
      " 'in_channels': 40,\n",
      " 'input_norm': 'datapoint',\n",
      " 'latency': 2000,\n",
      " 'load_event': False,\n",
      " 'lr_scheduler_type': 'cosine_decay_with_warmup_half',\n",
      " 'mask_ratio': 0.75,\n",
      " 'mgn': 0.003,\n",
      " 'minibatch': 256,\n",
      " 'minibatch_3090': 256,\n",
      " 'mixed_precision': True,\n",
      " 'mixup': 0.0,\n",
      " 'model': '2D-MAE-B',\n",
      " 'multi_batch_size': 32,\n",
      " 'norm_pix_loss': True,\n",
      " 'num_history': 5,\n",
      " 'num_params': 126560256,\n",
      " 'out_dims': 2,\n",
      " 'output_length': 65,\n",
      " 'patch_size': 8,\n",
      " 'photic': 'X',\n",
      " 'preprocess_test': Sequential(\n",
      "  (0): EegToDevice(device=device(type='cuda', index=0))\n",
      "  (1): EegResample(orig_freq=200, new_freq=100, resampling_method='sinc_interp_hann')\n",
      "  (2): EegNormalizeAge(mean=tensor([71.3079]), std=tensor([9.7947]), eps=1e-08, std_eps=tensor([9.7947]))\n",
      "  (3): EegNormalizePerSignal(eps=1e-08)\n",
      "  (4): EegSpectrogram(n_fft=127, complex_mode='as_real', stft_kwargs={'hop_length': 32})\n",
      "  (5): EegNormalizePerSignal(eps=1e-08)\n",
      "),\n",
      " 'preprocess_train': Sequential(\n",
      "  (0): EegToDevice(device=device(type='cuda', index=0))\n",
      "  (1): EegResample(orig_freq=200, new_freq=100, resampling_method='sinc_interp_hann')\n",
      "  (2): EegNormalizeAge(mean=tensor([71.3079], device='cuda:0'), std=tensor([9.7947]), eps=1e-08, std_eps=tensor([9.7947], device='cuda:0'))\n",
      "  (3): EegAddGaussianNoiseAge(mean=0.0, std=0.001)\n",
      "  (4): EegNormalizePerSignal(eps=1e-08)\n",
      "  (5): EegMultiplicativeGaussianNoise(mean=0.0, std=0.003)\n",
      "  (6): EegAdditiveGaussianNoise(mean=0.0, std=0.003)\n",
      "  (7): EegSpectrogram(n_fft=127, complex_mode='as_real', stft_kwargs={'hop_length': 32})\n",
      "  (8): EegNormalizePerSignal(eps=1e-08)\n",
      "),\n",
      " 'project': 'caueeg-mae',\n",
      " 'resample': 100,\n",
      " 'run_mode': 'train',\n",
      " 'sampling_rate': 200,\n",
      " 'save_model': True,\n",
      " 'search_lr': False,\n",
      " 'search_multiplier': 1.0,\n",
      " 'seed': 0,\n",
      " 'seq_len_2d': (64, 64),\n",
      " 'seq_length': 2048,\n",
      " 'signal_header': ['Fp1-AVG',\n",
      "                   'F3-AVG',\n",
      "                   'C3-AVG',\n",
      "                   'P3-AVG',\n",
      "                   'O1-AVG',\n",
      "                   'Fp2-AVG',\n",
      "                   'F4-AVG',\n",
      "                   'C4-AVG',\n",
      "                   'P4-AVG',\n",
      "                   'O2-AVG',\n",
      "                   'F7-AVG',\n",
      "                   'T3-AVG',\n",
      "                   'T5-AVG',\n",
      "                   'F8-AVG',\n",
      "                   'T4-AVG',\n",
      "                   'T6-AVG',\n",
      "                   'FZ-AVG',\n",
      "                   'CZ-AVG',\n",
      "                   'PZ-AVG',\n",
      "                   'EKG',\n",
      "                   'Photic'],\n",
      " 'signal_length_limit': 10000000,\n",
      " 'stft_params': {'hop_length': 32, 'n_fft': 127},\n",
      " 'task': 'abnormal',\n",
      " 'task_description': 'Classification of [Normal] and [Abnormal] symptoms',\n",
      " 'task_name': 'CAUEEG-Abnormal benchmark',\n",
      " 'test_crop_multiple': 8,\n",
      " 'total_samples': 1000000.0,\n",
      " 'transform': Compose(\n",
      "    EegRandomCrop(crop_length=4095, length_limit=10000000, multiple=4, latency=2000, segment_simulation=False, return_timing=False, reject_events=False)\n",
      "    EegDropChannels(drop_index=[20])\n",
      "    EegToTensor()\n",
      "),\n",
      " 'transform_multicrop': Compose(\n",
      "    EegRandomCrop(crop_length=4095, length_limit=10000000, multiple=8, latency=2000, segment_simulation=False, return_timing=False, reject_events=False)\n",
      "    EegDropChannels(drop_index=[20])\n",
      "    EegToTensor()\n",
      "),\n",
      " 'use_age': 'no',\n",
      " 'use_wandb': False,\n",
      " 'warmup_min': 3000,\n",
      " 'warmup_ratio': 0.05,\n",
      " 'watch_model': False,\n",
      " 'weight_decay': 0.01}\n",
      "\n",
      "********************************************************************************************\n",
      "\n",
      "     781 /     3906 iter - Loss: 1.0122\n",
      "    1562 /     3906 iter - Loss: 0.9251\n",
      "    2343 /     3906 iter - Loss: 0.8737\n",
      "    3124 /     3906 iter - Loss: 0.9206\n",
      "    3905 /     3906 iter - Loss: 0.9997\n",
      "    4686 /     3906 iter - Loss: 0.9997\n",
      "CPU times: total: 3h 7min 45s\n",
      "Wall time: 30min 46s\n"
     ]
    }
   ],
   "source": [
    "%%time\n",
    "prepare_and_run_ssl_train(rank=None, world_size=None, config=config)"
   ]
  },
  {
   "cell_type": "code",
   "execution_count": null,
   "metadata": {},
   "outputs": [],
   "source": []
  },
  {
   "cell_type": "code",
   "execution_count": null,
   "metadata": {},
   "outputs": [],
   "source": []
  },
  {
   "cell_type": "code",
   "execution_count": null,
   "metadata": {},
   "outputs": [],
   "source": []
  },
  {
   "cell_type": "code",
   "execution_count": null,
   "metadata": {},
   "outputs": [],
   "source": []
  }
 ],
 "metadata": {
  "kernelspec": {
   "display_name": "Python 3 (ipykernel)",
   "language": "python",
   "name": "python3"
  },
  "language_info": {
   "codemirror_mode": {
    "name": "ipython",
    "version": 3
   },
   "file_extension": ".py",
   "mimetype": "text/x-python",
   "name": "python",
   "nbconvert_exporter": "python",
   "pygments_lexer": "ipython3",
   "version": "3.9.12"
  }
 },
 "nbformat": 4,
 "nbformat_minor": 4
}
