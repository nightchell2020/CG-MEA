{
 "cells": [
  {
   "cell_type": "markdown",
   "metadata": {
    "pycharm": {
     "name": "#%% md\n"
    }
   },
   "source": [
    "# Visualize EEG Artifacts and Masked Autoencoder's Masking Uncertainty"
   ]
  },
  {
   "cell_type": "markdown",
   "metadata": {
    "pycharm": {
     "name": "#%% md\n"
    }
   },
   "source": [
    "-----\n",
    "\n",
    "## Load Packages"
   ]
  },
  {
   "cell_type": "code",
   "execution_count": null,
   "metadata": {
    "pycharm": {
     "name": "#%%\n"
    },
    "tags": []
   },
   "outputs": [],
   "source": [
    "# for auto-reloading external modules\n",
    "# see http://stackoverflow.com/questions/1907993/autoreload-of-modules-in-ipython\n",
    "%load_ext autoreload\n",
    "%autoreload 2\n",
    "%cd .."
   ]
  },
  {
   "cell_type": "code",
   "execution_count": null,
   "metadata": {
    "pycharm": {
     "name": "#%%\n"
    },
    "tags": []
   },
   "outputs": [],
   "source": [
    "# Load some packages\n",
    "import os\n",
    "import gc\n",
    "from copy import deepcopy\n",
    "import hydra\n",
    "from omegaconf import OmegaConf\n",
    "import wandb\n",
    "import pprint\n",
    "import numpy as np\n",
    "import torch\n",
    "import torchvision\n",
    "from tqdm.auto import tqdm\n",
    "from functools import partial\n",
    "\n",
    "import matplotlib\n",
    "import matplotlib.pyplot as plt\n",
    "import matplotlib.transforms as mtransforms\n",
    "from matplotlib.patches import FancyBboxPatch\n",
    "from matplotlib.gridspec import GridSpec\n",
    "import scienceplots\n",
    "import mpl_interactions.ipyplot as iplt\n",
    "from mpl_interactions import interactive_axvline\n",
    "from mpl_interactions.controller import Controls\n",
    "import mpl_interactions\n",
    "\n",
    "# custom package\n",
    "from run_train import check_device_env\n",
    "from run_train import set_seed\n",
    "from run_train import compose_dataset\n",
    "from run_train import generate_model\n",
    "from train.train_script import train_script\n",
    "from datasets.caueeg_script import EegToTensor, EegDropChannels\n",
    "from models.utils import count_parameters"
   ]
  },
  {
   "cell_type": "code",
   "execution_count": null,
   "metadata": {},
   "outputs": [],
   "source": [
    "# Other settings\n",
    "%matplotlib inline\n",
    "%config InlineBackend.figure_format = 'retina' # cleaner text\n",
    "\n",
    "plt.style.use('default') \n",
    "# ['Solarize_Light2', '_classic_test_patch', 'bmh', 'classic', 'dark_background', 'fast', \n",
    "#  'fivethirtyeight', 'ggplot', 'grayscale', 'seaborn', 'seaborn-bright', 'seaborn-colorblind', \n",
    "#  'seaborn-dark', 'seaborn-dark-palette', 'seaborn-darkgrid', 'seaborn-deep', 'seaborn-muted', \n",
    "#  'seaborn-notebook', 'seaborn-paper', 'seaborn-pastel', 'seaborn-poster', 'seaborn-talk', \n",
    "#  'seaborn-ticks', 'seaborn-white', 'seaborn-whitegrid', 'tableau-colorblind10']\n",
    "\n",
    "plt.rcParams['image.interpolation'] = 'bicubic'\n",
    "plt.rcParams[\"font.family\"] = 'Roboto Slab' # 'NanumGothic' # for Hangul in Windows\n",
    "plt.style.use('classic') \n",
    "plt.style.use('default') \n",
    "plt.style.use('default') # default, ggplot, fivethirtyeight, bmh, dark_background, classic\n",
    "plt.rcParams.update({'font.size': 14})\n",
    "plt.rcParams.update({'font.family': 'Roboto Slab'})\n",
    "plt.rcParams[\"savefig.dpi\"] = 1200"
   ]
  },
  {
   "cell_type": "markdown",
   "metadata": {
    "collapsed": false,
    "jupyter": {
     "outputs_hidden": false
    },
    "pycharm": {
     "name": "#%%\n"
    }
   },
   "source": [
    "---\n",
    "\n",
    "## Load and modify the pretrained network"
   ]
  },
  {
   "cell_type": "code",
   "execution_count": null,
   "metadata": {},
   "outputs": [],
   "source": [
    "model_name = 'boej8vuk' # boej8vuk yap6fgxc p02vsovi | 3du3h4yl bco01cyz\n",
    "\n",
    "use_wandb = True\n",
    "device = 'cuda:0'\n",
    "model_path = r\"E:\\CAUEEG\\checkpoint\""
   ]
  },
  {
   "cell_type": "code",
   "execution_count": null,
   "metadata": {
    "tags": []
   },
   "outputs": [],
   "source": [
    "print('PyTorch version:', torch.__version__)\n",
    "device = torch.device(device if torch.cuda.is_available() else 'cpu')\n",
    "\n",
    "if torch.cuda.is_available(): print('cuda is available.')\n",
    "else: print('cuda is unavailable.')"
   ]
  },
  {
   "cell_type": "code",
   "execution_count": null,
   "metadata": {
    "tags": []
   },
   "outputs": [],
   "source": [
    "# load pretrained configurations\n",
    "path = os.path.join(model_path, model_name.split(',')[-1], 'checkpoint.pt')\n",
    "try:\n",
    "    ckpt = torch.load(path, map_location=device)\n",
    "    config = ckpt['config']\n",
    "except Exception as e:\n",
    "    print(e)\n",
    "    print(f'- checkpoint cannot be opened: {path}')\n",
    "pprint.pprint(config)"
   ]
  },
  {
   "cell_type": "code",
   "execution_count": null,
   "metadata": {},
   "outputs": [],
   "source": [
    "# generate the model\n",
    "config[\"device\"] = device\n",
    "model = generate_model(config).to(device)\n",
    "\n",
    "# load model\n",
    "model.load_state_dict(ckpt[\"model_state\"])\n",
    "model.requires_grad_(False)\n",
    "model = model.eval()\n",
    "model.art_net"
   ]
  },
  {
   "cell_type": "markdown",
   "metadata": {
    "pycharm": {
     "name": "#%% md\n"
    }
   },
   "source": [
    "---\n",
    "\n",
    "## Generate the DataLoader"
   ]
  },
  {
   "cell_type": "code",
   "execution_count": null,
   "metadata": {},
   "outputs": [],
   "source": [
    "config['task']\n",
    "config.pop('cwd', 0)\n",
    "config['ddp'] = False\n",
    "config['minibatch'] = 1\n",
    "config['crop_multiple'] = 1\n",
    "config['test_crop_multiple'] = 1\n",
    "config['crop_timing_analysis'] = True\n",
    "config['eval'] = True\n",
    "config['device'] = device\n",
    "\n",
    "config[\"task\"] = 'abnormal'  # annotations were written with respect to the CAUEEG-Abnormal task data\n",
    "train_loader, val_loader, test_loader, _ = compose_dataset(config)\n",
    "signal_header = [channel.split('-')[0] for i, channel in enumerate(config[\"signal_header\"])]"
   ]
  },
  {
   "cell_type": "code",
   "execution_count": null,
   "metadata": {},
   "outputs": [],
   "source": [
    "with torch.no_grad():\n",
    "    for sample in train_loader:\n",
    "        print(sample)\n",
    "        serial = sample[\"serial\"]\n",
    "        ct = sample[\"crop_timing\"][0]\n",
    "        break"
   ]
  },
  {
   "cell_type": "code",
   "execution_count": null,
   "metadata": {},
   "outputs": [],
   "source": [
    "print(\"Previous Transform\")\n",
    "print(train_loader.dataset.transform)\n",
    "print(\"---\" * 10)\n",
    "\n",
    "# skip the first transform (RandomCrop)\n",
    "for loader in [train_loader, val_loader, test_loader]:\n",
    "    loader.dataset.transform = torchvision.transforms.Compose([\n",
    "        *loader.dataset.transform.transforms[1:]\n",
    "    ])\n",
    "\n",
    "print(\"Modified Transform\")\n",
    "print(val_loader.dataset.transform)"
   ]
  },
  {
   "cell_type": "code",
   "execution_count": null,
   "metadata": {},
   "outputs": [],
   "source": [
    "with torch.no_grad():\n",
    "    for sample in train_loader:\n",
    "        if sample[\"serial\"] == serial:\n",
    "            print(sample[\"signal\"][:, :, ct:ct + config[\"crop_length\"]])\n",
    "            break"
   ]
  },
  {
   "cell_type": "code",
   "execution_count": null,
   "metadata": {},
   "outputs": [],
   "source": [
    "# target_serials = []\n",
    "# for i in range(10):\n",
    "#     target_serials.append(train_loader.dataset[i][\"serial\"])\n",
    "\n",
    "target_serials = [f\"{i:05d}\" for i in range(2000)]"
   ]
  },
  {
   "cell_type": "markdown",
   "metadata": {},
   "source": [
    "---\n",
    "\n",
    "## Compute uncertainty"
   ]
  },
  {
   "cell_type": "code",
   "execution_count": null,
   "metadata": {},
   "outputs": [],
   "source": [
    "# interval = 16  # speed control\n",
    "# results = {}\n",
    "\n",
    "# with torch.no_grad():\n",
    "#     for sample in tqdm(train_loader, desc=\"Data\", leave=False):\n",
    "#         serial = sample[\"serial\"][0]\n",
    "#         if serial in target_serials:\n",
    "#             L = sample[\"signal\"][0].shape[-1]\n",
    "#             count = torch.zeros((L,))\n",
    "#             score = torch.zeros((L,))\n",
    "\n",
    "#             for t in tqdm(range(0, L - config[\"crop_length\"], interval), desc=\"Crops\", leave=False):\n",
    "#                 s = deepcopy(sample)\n",
    "#                 s[\"signal\"] = s[\"signal\"][:, :, t:t + config[\"crop_length\"]]\n",
    "#                 config[\"preprocess_test\"](s)    \n",
    "#                 out = model.forward_artifact(s[\"signal\"], s[\"age\"]).cpu()\n",
    "                \n",
    "#                 out = torch.nn.functional.interpolate(out.reshape(1, 1, 1, -1), \n",
    "#                                                       size=(1, config[\"crop_length\"], ), mode=\"nearest\")\n",
    "#                 out = out.squeeze()\n",
    "#                 count[t:t + config[\"crop_length\"]] += 1\n",
    "#                 score[t:t + config[\"crop_length\"]] += out\n",
    "                \n",
    "#             results[serial] = score / (count + 1e-8)"
   ]
  },
  {
   "cell_type": "code",
   "execution_count": null,
   "metadata": {},
   "outputs": [],
   "source": [
    "# path = f'local/output/07_Visualize_MAE_Artifact_TrainingSets_{model_name}.pt'\n",
    "# torch.save(results, os.path.join(path))"
   ]
  },
  {
   "cell_type": "code",
   "execution_count": null,
   "metadata": {},
   "outputs": [],
   "source": [
    "path = f'local/output/07_Visualize_MAE_Artifact_TrainingSets_{model_name}.pt'\n",
    "results = torch.load(path, map_location='cpu')"
   ]
  },
  {
   "cell_type": "markdown",
   "metadata": {},
   "source": [
    "---\n",
    "\n",
    "## Visualize"
   ]
  },
  {
   "cell_type": "code",
   "execution_count": null,
   "metadata": {
    "scrolled": true
   },
   "outputs": [],
   "source": [
    "# with plt.style.context(['ieee', 'science', 'default']):  # science, ieee, default, fivethirtyeight\n",
    "    # plt.rcParams.update({'font.family': 'Roboto Slab'})\n",
    "\n",
    "for serial in results.keys():\n",
    "    fig, ax = plt.subplots(1, 1, figsize=(25, 5), constrained_layout=True)\n",
    "\n",
    "    r = results[serial].numpy()\n",
    "    ax.plot(r)\n",
    "    sample_rate = config[\"sampling_rate\"]\n",
    "\n",
    "    x_ticks = np.arange(0, r.shape[0], sample_rate * 30)\n",
    "    x_labels = [f\"{round(tick / sample_rate)}\" for tick in x_ticks]\n",
    "    ax.set_xticks(x_ticks)\n",
    "    ax.set_xticklabels(x_labels)\n",
    "    ax.set_xlim(0, r.shape[0])\n",
    "    ax.set_ylim(0, 1.0)\n",
    "    ax.set_xlabel('Time (s)')\n",
    "    ax.set_ylabel('Estimated Uncertainty')\n",
    "    fig.suptitle(serial, fontsize=13, fontweight='semibold')\n",
    "    plt.show()\n",
    "    fig.clear()\n",
    "    plt.close(fig)"
   ]
  },
  {
   "cell_type": "code",
   "execution_count": null,
   "metadata": {},
   "outputs": [],
   "source": [
    "%matplotlib ipympl\n",
    "target_serial = target_serials[0]\n",
    "duration = 4000\n",
    "\n",
    "def f1(signal, start, duration):\n",
    "    return signal[start: start + duration]\n",
    "    \n",
    "def f2(result, start, duration):\n",
    "    return np.tile(result[start: start + duration], (50, 1))\n",
    "\n",
    "def f4(start, duration):\n",
    "    t = start\n",
    "    start_time = f\"{int((t / sample_rate) // 60):02d}:{(t / sample_rate) % 60:02.1f}\"\n",
    "    t = start + duration\n",
    "    end_time = f\"{int((t / sample_rate) // 60):02d}:{(t / sample_rate) % 60:02.1f}\"\n",
    "    return start_time + \" - \" + end_time + \" s\"\n",
    "\n",
    "def f5(signal, avg):\n",
    "    if avg:\n",
    "        signal = np.convolve(signal, np.ones(avg), 'same') / avg\n",
    "    return signal\n",
    "\n",
    "def moving_average(x, w):\n",
    "    return np.convolve(x, np.ones(w), 'valid') / w\n",
    "\n",
    "with plt.style.context(['ieee', 'science', 'default']):  # science, ieee, default, fivethirtyeight\n",
    "    # plt.rcParams.update({'font.family': 'Roboto Slab'})\n",
    "\n",
    "    for sample in train_loader:\n",
    "        serial = sample[\"serial\"][0]\n",
    "        if True:# serial == target_serial:\n",
    "            signal = sample[\"signal\"][0].cpu().numpy()\n",
    "            sample_rate = config[\"sampling_rate\"]\n",
    "            C, L = signal.shape\n",
    "            r = results[serial].numpy()\n",
    "                \n",
    "            fig = plt.figure(num=1, clear=True, figsize=(30, 15))\n",
    "            fig.subplots_adjust(hspace=0)\n",
    "            fig.tight_layout()\n",
    "            gs = GridSpec(nrows=C + 6, ncols=1)\n",
    "            ctrls = Controls(start=np.arange(0, L - duration), avg=np.arange(0, 400))\n",
    "            display(ctrls)\n",
    "\n",
    "            ax = fig.add_subplot(gs[:3])\n",
    "            iplt.plot(partial(f5, signal=r), ax=ax, lw=0.6, controls=ctrls[\"avg\"])\n",
    "            mpl_interactions.interactive_axvline(x=ctrls[\"start\"], ymin=0, ymax=1, ax=ax, \n",
    "                                                 color='purple', controls=ctrls[\"start\"], ls=\"--\")\n",
    "            mpl_interactions.interactive_axvline(x=lambda start: start + duration, ymin=0, ymax=1, ax=ax, \n",
    "                                                 color='purple', controls=ctrls[\"start\"], ls=\"--\")\n",
    "            x_ticks = np.arange(0, r.shape[0], sample_rate * 30)\n",
    "            x_labels = [f\"{round(tick / sample_rate)}\" for tick in x_ticks]\n",
    "            ax.set_xlim(0, r.shape[0])\n",
    "            ax.set_xticks(x_ticks)\n",
    "            ax.set_xticklabels(x_labels)\n",
    "            ax.set_xlabel('Time (s)')\n",
    "            ax.set_ylim(0, 1.0)\n",
    "            ax.set_yticks([0])\n",
    "            ax.set_yticklabels([])\n",
    "            ax.set_ylabel(\"Artifact\")\n",
    "            \n",
    "            ax = fig.add_subplot(gs[5])\n",
    "            iplt.imshow(partial(f2, result=r, duration=duration), aspect=\"auto\",\n",
    "                        alpha=1.0, ax=ax, controls=ctrls[\"start\"], vmin=0, vmax=1)\n",
    "            ax.set_xticklabels([])\n",
    "            ax.set_yticks([0])\n",
    "            ax.set_yticklabels([])\n",
    "            ax.set_ylabel(\"Pred\")\n",
    "\n",
    "            for c in range(C):\n",
    "                ax = fig.add_subplot(gs[c + 6])\n",
    "                iplt.plot(partial(f1, signal=signal[c], duration=duration), \n",
    "                          ax=ax, controls=ctrls[\"start\"], lw=0.6)\n",
    "\n",
    "                ax.set_xlim(0, duration)\n",
    "                ax.set_ylabel(signal_header[c])\n",
    "                mpl_interactions.interactive_xlabel(xlabel=partial(f4, duration=duration),\n",
    "                                                    controls=ctrls[\"start\"])\n",
    "                ax.set_xticks(np.arange(round(duration / sample_rate) + 1) * sample_rate)\n",
    "                ax.set_xticklabels([])\n",
    "                # ax.tick_params(axis='x', width=0.1, length=0.1)\n",
    "                ax.set_yticks([0])\n",
    "                ax.set_yticklabels([])\n",
    "                \n",
    "            fig.suptitle(serial, fontsize=13, fontweight='semibold')\n",
    "            break\n",
    "\n",
    "    plt.show()"
   ]
  },
  {
   "cell_type": "code",
   "execution_count": null,
   "metadata": {},
   "outputs": [],
   "source": []
  }
 ],
 "metadata": {
  "kernelspec": {
   "display_name": "Python 3 (ipykernel)",
   "language": "python",
   "name": "python3"
  },
  "language_info": {
   "codemirror_mode": {
    "name": "ipython",
    "version": 3
   },
   "file_extension": ".py",
   "mimetype": "text/x-python",
   "name": "python",
   "nbconvert_exporter": "python",
   "pygments_lexer": "ipython3",
   "version": "3.9.12"
  }
 },
 "nbformat": 4,
 "nbformat_minor": 4
}
