{
 "cells": [
  {
   "cell_type": "markdown",
   "id": "d74515d5-5f25-477b-9a97-ed1f9b6d4c51",
   "metadata": {
    "pycharm": {
     "name": "#%% md\n"
    }
   },
   "source": [
    "# Evaluate\n",
    "\n",
    "This notebook evaluates the network trained previous notebooks and analyzes the results."
   ]
  },
  {
   "cell_type": "markdown",
   "id": "b8a2666f-6b4b-4748-9dca-2884347a1f0f",
   "metadata": {
    "pycharm": {
     "name": "#%% md\n"
    }
   },
   "source": [
    "-----\n",
    "\n",
    "## Load Packages"
   ]
  },
  {
   "cell_type": "code",
   "execution_count": null,
   "id": "df587e38-b1a9-42c8-9b50-680200a9bec7",
   "metadata": {
    "pycharm": {
     "name": "#%%\n"
    }
   },
   "outputs": [],
   "source": [
    "# for auto-reloading external modules\n",
    "# see http://stackoverflow.com/questions/1907993/autoreload-of-modules-in-ipython\n",
    "%cd ..\n",
    "%load_ext autoreload\n",
    "%autoreload 2"
   ]
  },
  {
   "cell_type": "code",
   "execution_count": null,
   "id": "8fb41bf8-1713-4228-b799-0e1c87545a16",
   "metadata": {
    "pycharm": {
     "name": "#%%\n"
    }
   },
   "outputs": [],
   "source": [
    "# Load some packages\n",
    "import os\n",
    "import sys\n",
    "import pickle\n",
    "from copy import deepcopy\n",
    "import hydra\n",
    "from omegaconf import OmegaConf\n",
    "from collections import OrderedDict\n",
    "\n",
    "import numpy as np\n",
    "from sklearn.metrics import classification_report\n",
    "import torch\n",
    "import torch.nn as nn\n",
    "import torch.nn.functional as F\n",
    "import torch.optim as optim\n",
    "import pandas as pd\n",
    "\n",
    "import pprint\n",
    "import wandb\n",
    "import matplotlib\n",
    "import matplotlib.pyplot as plt\n",
    "\n",
    "# custom package\n",
    "from datasets.caueeg_script import build_dataset_for_train\n",
    "import models\n",
    "from train.evaluate import check_accuracy\n",
    "from train.evaluate import check_accuracy_extended\n",
    "from train.evaluate import check_accuracy_extended_debug\n",
    "from train.evaluate import check_accuracy_multicrop\n",
    "from train.evaluate import check_accuracy_multicrop_extended\n",
    "from train.evaluate import calculate_class_wise_metrics\n",
    "from train.visualize import draw_roc_curve\n",
    "from train.visualize import draw_confusion\n",
    "from train.visualize import draw_class_wise_metrics\n",
    "from train.visualize import draw_error_table\n",
    "from train.visualize import annotate_heatmap"
   ]
  },
  {
   "cell_type": "code",
   "execution_count": null,
   "id": "d10e3f39-ed55-422c-b47f-376691cbeed6",
   "metadata": {
    "pycharm": {
     "name": "#%%\n"
    }
   },
   "outputs": [],
   "source": [
    "print('PyTorch version:', torch.__version__)\n",
    "device = torch.device('cuda' if torch.cuda.is_available() else 'cpu')\n",
    "\n",
    "if torch.cuda.is_available(): print('cuda is available.')\n",
    "else: print('cuda is unavailable.') "
   ]
  },
  {
   "cell_type": "markdown",
   "id": "d2a62fa4-aa53-49d5-8ab4-2e2aaf7b65d1",
   "metadata": {
    "pycharm": {
     "name": "#%% md\n"
    },
    "tags": []
   },
   "source": [
    "-----\n",
    "\n",
    "## List up the models to check accuracy"
   ]
  },
  {
   "cell_type": "code",
   "execution_count": null,
   "id": "06d3404e-be31-4a63-ac4b-214868fe0cd4",
   "metadata": {},
   "outputs": [],
   "source": [
    "model_names = [*set([\n",
    "'yn30z4mc',\n",
    "'8j0p6gu2',\n",
    "'4439k9pg',\n",
    "'q1hhkmik',\n",
    "'atbhqdgg',\n",
    "'dn10a6bv',\n",
    "'f1kcb9ds',\n",
    "'nemy8ikm',\n",
    "'81wtsv8z',\n",
    "'2wdvanp5',\n",
    "'18lkfaaw',\n",
    "'0svudowu',\n",
    "'nda0w7ib',\n",
    "'twnl6iim',\n",
    "'afcb5kv3',\n",
    "'dixqs4j7',\n",
    "'38ws4ipr',\n",
    "'2vxafl34',\n",
    "'8mjqrxji',\n",
    "'9v3oee7p',\n",
    "'szv3y0kx',\n",
    "'8c2a57a0',\n",
    "'eyg8nror',\n",
    "'1c8fc6sm',\n",
    "'vowr0lgg',\n",
    "'ruqd8r7g',\n",
    "'1mr9qo9a',\n",
    "'tie5jlb4',\n",
    "'tp7qn5hd',\n",
    "'2ytgdt65',\n",
    "'tp7qn5hd',\n",
    "'8j0p6gu2',\n",
    "'yn30z4mc',\n",
    "'q1hhkmik',\n",
    "'twnl6iim',\n",
    "'afcb5kv3',\n",
    "'wl8u9vkp',\n",
    "'18lkfaaw',\n",
    "'0svudowu',\n",
    "'ruqd8r7g',\n",
    "'atbhqdgg',\n",
    "'4439k9pg',\n",
    "'dn10a6bv',\n",
    "'nda0w7ib',\n",
    "'vel5kni5',\n",
    "'f1kcb9ds',\n",
    "'nemy8ikm',\n",
    "'sp4gnhl6',\n",
    "'dixqs4j7',\n",
    "'8c2a57a0',\n",
    "'eyg8nror',\n",
    "'tie5jlb4',\n",
    "'luhprdie',\n",
    "'2vxafl34',\n",
    "'du081bf7',\n",
    "'9v3oee7p',\n",
    "'81wtsv8z',\n",
    "'vowr0lgg',\n",
    "'38ws4ipr',\n",
    "'2wdvanp5',\n",
    "'90vf6klf',\n",
    "'szv3y0kx',\n",
    "'1mr9qo9a',\n",
    "'1cdws3t5',])\n",
    "]\n",
    "\n",
    "model_pool = []\n",
    "\n",
    "for model_name in model_names:\n",
    "    path = os.path.join(r'E:\\CAUEEG\\checkpoint', model_name, 'checkpoint.pt')\n",
    "    try:\n",
    "        ckpt = torch.load(path, map_location=device)\n",
    "        model_pool.append({'name': model_name, 'path': path})\n",
    "    except Exception as e:\n",
    "        print(e)\n",
    "        print(f'- checkpoint cannot be opened: {path}')\n",
    "        \n",
    "pprint.pprint([model_dict['name'] for model_dict in model_pool])"
   ]
  },
  {
   "cell_type": "code",
   "execution_count": null,
   "id": "64f2ac6e-cbb1-432d-8118-193285405ceb",
   "metadata": {},
   "outputs": [],
   "source": [
    "# model_pool = []\n",
    "\n",
    "# api = wandb.Api()\n",
    "# runs = api.runs('ipis-mjkim/caueeg-task2-ablation')\n",
    "\n",
    "# for run in runs:\n",
    "#     path = os.path.join(r'E:\\CAUEEG\\checkpoint', run.name, 'checkpoint.pt')\n",
    "#     try:\n",
    "#         ckpt = torch.load(path, map_location=device)\n",
    "#         model_pool.append({'name': run.name, 'path': path})\n",
    "#     except Exception as e:\n",
    "#         print(e)\n",
    "#         print(f'- {run.name}\\'s checkpoint cannot be opened: {path}')\n",
    "        \n",
    "# pprint.pprint([model_dict['name'] for model_dict in model_pool])"
   ]
  },
  {
   "cell_type": "markdown",
   "id": "c00973b7-d2ba-4e54-a4ac-86879c1fe89f",
   "metadata": {},
   "source": [
    "---\n",
    "\n",
    "## Configurations"
   ]
  },
  {
   "cell_type": "code",
   "execution_count": null,
   "id": "c7dfec22-3837-46a7-8b4d-4588300068bc",
   "metadata": {},
   "outputs": [],
   "source": [
    "base_repeat = 500\n",
    "verbose = False"
   ]
  },
  {
   "cell_type": "markdown",
   "id": "5e25ca9a-48ee-4c0d-8e06-616a84e59527",
   "metadata": {},
   "source": [
    "-----\n",
    "\n",
    "## Load and check accuracy"
   ]
  },
  {
   "cell_type": "code",
   "execution_count": null,
   "id": "bee4f853-3cad-4b01-8ee8-44ac9e49adbe",
   "metadata": {
    "pycharm": {
     "name": "#%%\n"
    }
   },
   "outputs": [],
   "source": [
    "for model_dict in model_pool:\n",
    "    # load and parse the checkpoint\n",
    "    ckpt = torch.load(model_dict['path'], map_location=device)\n",
    "    model_state = ckpt['model_state']\n",
    "    config = ckpt['config']\n",
    "    \n",
    "    model_dict['model'] = config['model']\n",
    "    model_dict['num_params'] = config.get('num_params', '???')\n",
    "    model_dict['model size (MiB)'] = sys.getsizeof(pickle.dumps(model_state)) / (1024 * 1024)\n",
    "    # torch.save(model_state, 'temptemptemp.pt')\n",
    "    \n",
    "    model_dict['seq_length'] = config['seq_length']\n",
    "    model_dict['use_age'] = config['use_age']\n",
    "    model_dict['photic'] = config['photic']\n",
    "    model_dict['EKG'] = config['EKG']\n",
    "\n",
    "    model_dict['awgn'] = config.get('awgn', 0)\n",
    "    model_dict['awgn_age'] = config.get('awgn_age', 0)\n",
    "    model_dict['mgn'] = config.get('mgn', 0)\n",
    "    model_dict['mixup'] = config.get('mixup', 0)\n",
    "    model_dict['dropout'] = config.get('dropout', 0)\n",
    "    model_dict['weight_decay'] = config.get('weight_decay', '???')\n",
    "    model_dict['fc_stages'] = config.get('fc_stages', 1)\n",
    "    \n",
    "    model_dict['minibatch'] = round(config['minibatch'])\n",
    "    model_dict['total_samples'] = round(config.get('total_samples', config['iterations'] * config['minibatch']))\n",
    "    model_dict['base_lr'] = config.get('base_lr', config.get('LR', '???'))\n",
    "    model_dict['lr_scheduler_type'] = config.get('lr_scheduler_type', 'constant_with_decay')\n",
    "    model_dict['warmup_steps'] = config.get('warmup_steps', '???')\n",
    "    model_dict['seed'] = config.get('seed', '???')\n",
    "    \n",
    "    print('- checking for', model_dict['name'], config['model'], '...')\n",
    "    \n",
    "    # initiate the model\n",
    "    if '_target_' in config:\n",
    "        model = hydra.utils.instantiate(config).to(device)\n",
    "    elif type(config['generator']) is str:\n",
    "        config['generator'] = getattr(models, config['generator'].split('.')[-1])\n",
    "        if 'block' in config:\n",
    "            config['block'] = getattr(models, config['block'].split('.')[-1])\n",
    "        model = config['generator'](**config).to(device)\n",
    "    else:\n",
    "        if 'block' in config:\n",
    "            if config['block'] == models.resnet_1d.BottleneckBlock1D:\n",
    "                config['block'] = 'bottleneck'\n",
    "            elif config['block'] == models.resnet_2d.Bottleneck2D:\n",
    "                config['block'] = 'bottleneck'\n",
    "            elif config['block'] == models.resnet_1d.BasicBlock1D:\n",
    "                config['block'] = 'basic'\n",
    "            elif config['block'] == models.resnet_2d.BasicBlock2D:\n",
    "                config['block'] = 'basic'\n",
    "                \n",
    "        model = config['generator'](**config).to(device)\n",
    "    \n",
    "    if config.get('ddp', False):\n",
    "        model_state_ddp = deepcopy(model_state)\n",
    "        model_state = OrderedDict()\n",
    "        for k, v in model_state_ddp.items():\n",
    "            name = k[7:]  # remove 'module.' of DataParallel/DistributedDataParallel\n",
    "            model_state[name] = v\n",
    "    \n",
    "    model.load_state_dict(model_state)\n",
    "    \n",
    "    # reconfigure and update\n",
    "    config.pop('cwd', 0)\n",
    "    config['ddp'] = False\n",
    "    config['crop_timing_analysis'] = False\n",
    "    config['eval'] = True\n",
    "    config['device'] = device\n",
    "    \n",
    "    repeat = round(base_repeat / config['crop_multiple'])\n",
    "    model_dict['repeat'] = repeat\n",
    "    model_dict['crop_multiple'] = config['crop_multiple']\n",
    "    model_dict['test_crop_multiple'] = config['test_crop_multiple']\n",
    "    \n",
    "    # build dataset\n",
    "    _ = build_dataset_for_train(config, verbose=verbose)\n",
    "    train_loader = _[0]\n",
    "    val_loader = _[1]\n",
    "    test_loader = _[2]\n",
    "    multicrop_test_loader = _[3]\n",
    "    \n",
    "    # train accuracy\n",
    "    train_acc = check_accuracy(model, train_loader, \n",
    "                               config['preprocess_test'], config, repeat=repeat)\n",
    "    model_dict['Train Accuracy'] = train_acc\n",
    "    \n",
    "    # val accuracy\n",
    "    val_acc = check_accuracy(model, val_loader, \n",
    "                             config['preprocess_test'], config, repeat=repeat)\n",
    "    model_dict['Validation Accuracy'] = val_acc\n",
    "    \n",
    "    # Test accuracy\n",
    "    _ = check_accuracy_extended(model, test_loader, \n",
    "                                config['preprocess_test'], config, repeat=repeat)\n",
    "    model_dict['Test Accuracy'] = _[0]\n",
    "    model_dict['Test Throughput'] = _[4]\n",
    "    test_class_wise_metrics = calculate_class_wise_metrics(_[3])\n",
    "    \n",
    "    for k, v in test_class_wise_metrics.items():\n",
    "        for c in range(config['out_dims']):\n",
    "            c_name = config['class_label_to_name'][c]\n",
    "            model_dict[f'{k} ({c_name})'] = test_class_wise_metrics[k][c]\n",
    "    \n",
    "    # Multi-crop test accuracy\n",
    "    _ = check_accuracy_multicrop_extended(model, multicrop_test_loader, \n",
    "                                          config['preprocess_test'], config, repeat=repeat)\n",
    "    model_dict['Multi-Crop Test Accuracy'] = _[0]\n",
    "    model_dict['Multi-Crop Test Throughput'] = _[4]\n",
    "    multi_test_class_wise_metrics = calculate_class_wise_metrics(_[3])\n",
    "    \n",
    "    for k, v in multi_test_class_wise_metrics.items():\n",
    "        for c in range(config['out_dims']):\n",
    "            c_name = config['class_label_to_name'][c]\n",
    "            model_dict[f'Multi-Crop {k} ({c_name})'] = multi_test_class_wise_metrics[k][c]\n",
    "            \n",
    "print('==== Finished ====')"
   ]
  },
  {
   "cell_type": "code",
   "execution_count": null,
   "id": "23811ac5-4a94-4d8a-b4fb-68161557a87d",
   "metadata": {
    "pycharm": {
     "name": "#%%\n"
    }
   },
   "outputs": [],
   "source": [
    "pprint.pprint(model_pool)"
   ]
  },
  {
   "cell_type": "code",
   "execution_count": null,
   "id": "439ae7d8-ac60-42ad-b852-c38d3d52987c",
   "metadata": {},
   "outputs": [],
   "source": [
    "pd.DataFrame(model_pool)"
   ]
  },
  {
   "cell_type": "code",
   "execution_count": null,
   "id": "3bfabea6-e56f-4f29-8027-cb290a3d2d2a",
   "metadata": {},
   "outputs": [],
   "source": [
    "pd.DataFrame(model_pool).to_csv('local/output/caueeg-task1-summary_r500.csv')"
   ]
  },
  {
   "cell_type": "code",
   "execution_count": null,
   "id": "c046bc5e-8b28-4c2c-941a-490a809b57dd",
   "metadata": {},
   "outputs": [],
   "source": []
  }
 ],
 "metadata": {
  "kernelspec": {
   "display_name": "Python 3 (ipykernel)",
   "language": "python",
   "name": "python3"
  },
  "language_info": {
   "codemirror_mode": {
    "name": "ipython",
    "version": 3
   },
   "file_extension": ".py",
   "mimetype": "text/x-python",
   "name": "python",
   "nbconvert_exporter": "python",
   "pygments_lexer": "ipython3",
   "version": "3.9.12"
  }
 },
 "nbformat": 4,
 "nbformat_minor": 5
}
