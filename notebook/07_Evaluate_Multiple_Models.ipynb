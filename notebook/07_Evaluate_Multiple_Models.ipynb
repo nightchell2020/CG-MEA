{
 "cells": [
  {
   "cell_type": "markdown",
   "id": "d74515d5-5f25-477b-9a97-ed1f9b6d4c51",
   "metadata": {
    "pycharm": {
     "name": "#%% md\n"
    }
   },
   "source": [
    "# Evaluate\n",
    "\n",
    "This notebook evaluates the network trained previous notebooks and analyzes the results."
   ]
  },
  {
   "cell_type": "markdown",
   "id": "b8a2666f-6b4b-4748-9dca-2884347a1f0f",
   "metadata": {
    "pycharm": {
     "name": "#%% md\n"
    }
   },
   "source": [
    "-----\n",
    "\n",
    "## Load Packages"
   ]
  },
  {
   "cell_type": "code",
   "execution_count": 1,
   "id": "df587e38-b1a9-42c8-9b50-680200a9bec7",
   "metadata": {
    "pycharm": {
     "name": "#%%\n"
    }
   },
   "outputs": [
    {
     "name": "stdout",
     "output_type": "stream",
     "text": [
      "C:\\Users\\Minjae\\Desktop\\EEG_Project\n"
     ]
    }
   ],
   "source": [
    "# for auto-reloading external modules\n",
    "# see http://stackoverflow.com/questions/1907993/autoreload-of-modules-in-ipython\n",
    "%cd ..\n",
    "%load_ext autoreload\n",
    "%autoreload 2"
   ]
  },
  {
   "cell_type": "code",
   "execution_count": 2,
   "id": "8fb41bf8-1713-4228-b799-0e1c87545a16",
   "metadata": {
    "pycharm": {
     "name": "#%%\n"
    }
   },
   "outputs": [],
   "source": [
    "# Load some packages\n",
    "import os\n",
    "import sys\n",
    "import pickle\n",
    "from copy import deepcopy\n",
    "import hydra\n",
    "from omegaconf import OmegaConf\n",
    "from collections import OrderedDict\n",
    "\n",
    "import numpy as np\n",
    "from sklearn.metrics import classification_report\n",
    "import torch\n",
    "import torch.nn as nn\n",
    "import torch.nn.functional as F\n",
    "import torch.optim as optim\n",
    "import pandas as pd\n",
    "\n",
    "import pprint\n",
    "import wandb\n",
    "import matplotlib\n",
    "import matplotlib.pyplot as plt\n",
    "\n",
    "# custom package\n",
    "from datasets.caueeg_script import build_dataset_for_train\n",
    "import models\n",
    "from train.evaluate import check_accuracy\n",
    "from train.evaluate import check_accuracy_extended\n",
    "from train.evaluate import check_accuracy_extended_debug\n",
    "from train.evaluate import check_accuracy_multicrop\n",
    "from train.evaluate import check_accuracy_multicrop_extended\n",
    "from train.evaluate import calculate_class_wise_metrics\n",
    "from train.visualize import draw_roc_curve\n",
    "from train.visualize import draw_confusion\n",
    "from train.visualize import draw_class_wise_metrics\n",
    "from train.visualize import draw_error_table\n",
    "from train.visualize import annotate_heatmap"
   ]
  },
  {
   "cell_type": "code",
   "execution_count": 3,
   "id": "d10e3f39-ed55-422c-b47f-376691cbeed6",
   "metadata": {
    "pycharm": {
     "name": "#%%\n"
    }
   },
   "outputs": [
    {
     "name": "stdout",
     "output_type": "stream",
     "text": [
      "PyTorch version: 1.12.1+cu113\n",
      "cuda is available.\n"
     ]
    }
   ],
   "source": [
    "print('PyTorch version:', torch.__version__)\n",
    "device = torch.device('cuda' if torch.cuda.is_available() else 'cpu')\n",
    "\n",
    "if torch.cuda.is_available(): print('cuda is available.')\n",
    "else: print('cuda is unavailable.') "
   ]
  },
  {
   "cell_type": "markdown",
   "id": "d2a62fa4-aa53-49d5-8ab4-2e2aaf7b65d1",
   "metadata": {
    "pycharm": {
     "name": "#%% md\n"
    },
    "tags": []
   },
   "source": [
    "-----\n",
    "\n",
    "## List up the models to check accuracy"
   ]
  },
  {
   "cell_type": "code",
   "execution_count": 11,
   "id": "06d3404e-be31-4a63-ac4b-214868fe0cd4",
   "metadata": {},
   "outputs": [
    {
     "name": "stdout",
     "output_type": "stream",
     "text": [
      "['1iaim0xt', 'zbnwnfxx']\n"
     ]
    }
   ],
   "source": [
    "model_names = [*set(['1iaim0xt', 'zbnwnfxx'])]\n",
    "\n",
    "model_pool = []\n",
    "\n",
    "for model_name in model_names:\n",
    "    path = os.path.join(r'E:\\CAUEEG\\checkpoint', model_name, 'checkpoint.pt')\n",
    "    try:\n",
    "        ckpt = torch.load(path, map_location=device)\n",
    "        model_pool.append({'name': model_name, 'path': path})\n",
    "    except Exception as e:\n",
    "        print(e)\n",
    "        print(f'- checkpoint cannot be opened: {path}')\n",
    "        \n",
    "pprint.pprint([model_dict['name'] for model_dict in model_pool])"
   ]
  },
  {
   "cell_type": "code",
   "execution_count": 12,
   "id": "64f2ac6e-cbb1-432d-8118-193285405ceb",
   "metadata": {},
   "outputs": [],
   "source": [
    "# model_pool = []\n",
    "\n",
    "# api = wandb.Api()\n",
    "# runs = api.runs('ipis-mjkim/caueeg-task2-ablation')\n",
    "\n",
    "# for run in runs:\n",
    "#     path = os.path.join(r'E:\\CAUEEG\\checkpoint', run.name, 'checkpoint.pt')\n",
    "#     try:\n",
    "#         ckpt = torch.load(path, map_location=device)\n",
    "#         model_pool.append({'name': run.name, 'path': path})\n",
    "#     except Exception as e:\n",
    "#         print(e)\n",
    "#         print(f'- {run.name}\\'s checkpoint cannot be opened: {path}')\n",
    "        \n",
    "# pprint.pprint([model_dict['name'] for model_dict in model_pool])"
   ]
  },
  {
   "cell_type": "markdown",
   "id": "c00973b7-d2ba-4e54-a4ac-86879c1fe89f",
   "metadata": {},
   "source": [
    "---\n",
    "\n",
    "## Configurations"
   ]
  },
  {
   "cell_type": "code",
   "execution_count": 13,
   "id": "c7dfec22-3837-46a7-8b4d-4588300068bc",
   "metadata": {},
   "outputs": [],
   "source": [
    "base_repeat = 500\n",
    "verbose = False"
   ]
  },
  {
   "cell_type": "markdown",
   "id": "5e25ca9a-48ee-4c0d-8e06-616a84e59527",
   "metadata": {},
   "source": [
    "-----\n",
    "\n",
    "## Load and check accuracy"
   ]
  },
  {
   "cell_type": "code",
   "execution_count": 14,
   "id": "bee4f853-3cad-4b01-8ee8-44ac9e49adbe",
   "metadata": {
    "pycharm": {
     "name": "#%%\n"
    }
   },
   "outputs": [
    {
     "name": "stdout",
     "output_type": "stream",
     "text": [
      "- checking for 1iaim0xt 1D-Linear-SVM ...\n",
      "- checking for zbnwnfxx 1D-Linear-SVM ...\n",
      "==== Finished ====\n"
     ]
    }
   ],
   "source": [
    "for model_dict in model_pool:\n",
    "    # load and parse the checkpoint\n",
    "    ckpt = torch.load(model_dict['path'], map_location=device)\n",
    "    model_state = ckpt['model_state']\n",
    "    config = ckpt['config']\n",
    "    \n",
    "    model_dict['model'] = config['model']\n",
    "    model_dict['num_params'] = config.get('num_params', '???')\n",
    "    model_dict['model size (MiB)'] = sys.getsizeof(pickle.dumps(model_state)) / (1024 * 1024)\n",
    "    # torch.save(model_state, 'temptemptemp.pt')\n",
    "    \n",
    "    model_dict['seq_length'] = config['seq_length']\n",
    "    model_dict['use_age'] = config['use_age']\n",
    "    model_dict['photic'] = config['photic']\n",
    "    model_dict['EKG'] = config['EKG']\n",
    "\n",
    "    model_dict['awgn'] = config.get('awgn', 0)\n",
    "    model_dict['awgn_age'] = config.get('awgn_age', 0)\n",
    "    model_dict['mgn'] = config.get('mgn', 0)\n",
    "    model_dict['mixup'] = config.get('mixup', 0)\n",
    "    model_dict['dropout'] = config.get('dropout', 0)\n",
    "    model_dict['weight_decay'] = config.get('weight_decay', '???')\n",
    "    model_dict['fc_stages'] = config.get('fc_stages', 1)\n",
    "    model_dict['activation'] = config.get('activation', 0)\n",
    "\n",
    "    model_dict['minibatch'] = round(config['minibatch'])\n",
    "    model_dict['total_samples'] = round(config.get('total_samples', config['iterations'] * config['minibatch']))\n",
    "    model_dict['base_lr'] = config.get('base_lr', config.get('LR', '???'))\n",
    "    model_dict['lr_scheduler_type'] = config.get('lr_scheduler_type', 'constant_with_decay')\n",
    "    model_dict['warmup_steps'] = config.get('warmup_steps', '???')\n",
    "    model_dict['seed'] = config.get('seed', '???')\n",
    "    \n",
    "    print('- checking for', model_dict['name'], config['model'], '...')\n",
    "    \n",
    "    # initiate the model\n",
    "    if '_target_' in config:\n",
    "        model = hydra.utils.instantiate(config).to(device)\n",
    "    elif type(config['generator']) is str:\n",
    "        config['generator'] = getattr(models, config['generator'].split('.')[-1])\n",
    "        if 'block' in config:\n",
    "            config['block'] = getattr(models, config['block'].split('.')[-1])\n",
    "        model = config['generator'](**config).to(device)\n",
    "    else:\n",
    "        if 'block' in config:\n",
    "            if config['block'] == models.resnet_1d.BottleneckBlock1D:\n",
    "                config['block'] = 'bottleneck'\n",
    "            elif config['block'] == models.resnet_2d.Bottleneck2D:\n",
    "                config['block'] = 'bottleneck'\n",
    "            elif config['block'] == models.resnet_1d.BasicBlock1D:\n",
    "                config['block'] = 'basic'\n",
    "            elif config['block'] == models.resnet_2d.BasicBlock2D:\n",
    "                config['block'] = 'basic'\n",
    "                \n",
    "        model = config['generator'](**config).to(device)\n",
    "    \n",
    "    if config.get('ddp', False):\n",
    "        model_state_ddp = deepcopy(model_state)\n",
    "        model_state = OrderedDict()\n",
    "        for k, v in model_state_ddp.items():\n",
    "            name = k[7:]  # remove 'module.' of DataParallel/DistributedDataParallel\n",
    "            model_state[name] = v\n",
    "    \n",
    "    model.load_state_dict(model_state)\n",
    "    \n",
    "    # reconfigure and update\n",
    "    config.pop('cwd', 0)\n",
    "    config['ddp'] = False\n",
    "    config['crop_timing_analysis'] = False\n",
    "    config['eval'] = True\n",
    "    config['device'] = device\n",
    "    \n",
    "    repeat = round(base_repeat / config['crop_multiple'])\n",
    "    model_dict['repeat'] = repeat\n",
    "    model_dict['crop_multiple'] = config['crop_multiple']\n",
    "    model_dict['test_crop_multiple'] = config['test_crop_multiple']\n",
    "    \n",
    "    # build dataset\n",
    "    _ = build_dataset_for_train(config, verbose=verbose)\n",
    "    train_loader = _[0]\n",
    "    val_loader = _[1]\n",
    "    test_loader = _[2]\n",
    "    multicrop_test_loader = _[3]\n",
    "    \n",
    "    # train accuracy\n",
    "    train_acc = check_accuracy(model, train_loader, \n",
    "                               config['preprocess_test'], config, repeat=repeat)\n",
    "    model_dict['Train Accuracy'] = train_acc\n",
    "    \n",
    "    # val accuracy\n",
    "    val_acc = check_accuracy(model, val_loader, \n",
    "                             config['preprocess_test'], config, repeat=repeat)\n",
    "    model_dict['Validation Accuracy'] = val_acc\n",
    "    \n",
    "    # Test accuracy\n",
    "    _ = check_accuracy_extended(model, test_loader, \n",
    "                                config['preprocess_test'], config, repeat=repeat)\n",
    "    model_dict['Test Throughput'] = _[4]\n",
    "    model_dict['Test Accuracy'] = _[0]\n",
    "    test_class_wise_metrics = calculate_class_wise_metrics(_[3])\n",
    "    \n",
    "    for k, v in test_class_wise_metrics.items():\n",
    "        for c in range(config['out_dims']):\n",
    "            c_name = config['class_label_to_name'][c]\n",
    "            model_dict[f'{k} ({c_name})'] = test_class_wise_metrics[k][c]\n",
    "    \n",
    "    # Multi-crop test accuracy\n",
    "    _ = check_accuracy_multicrop_extended(model, multicrop_test_loader, \n",
    "                                          config['preprocess_test'], config, repeat=repeat)\n",
    "    model_dict['Multi-Crop Test Throughput'] = _[4]\n",
    "    model_dict['Multi-Crop Test Accuracy'] = _[0]\n",
    "    multi_test_class_wise_metrics = calculate_class_wise_metrics(_[3])\n",
    "    \n",
    "    for k, v in multi_test_class_wise_metrics.items():\n",
    "        for c in range(config['out_dims']):\n",
    "            c_name = config['class_label_to_name'][c]\n",
    "            model_dict[f'Multi-Crop {k} ({c_name})'] = multi_test_class_wise_metrics[k][c]\n",
    "            \n",
    "print('==== Finished ====')"
   ]
  },
  {
   "cell_type": "code",
   "execution_count": 15,
   "id": "23811ac5-4a94-4d8a-b4fb-68161557a87d",
   "metadata": {
    "pycharm": {
     "name": "#%%\n"
    }
   },
   "outputs": [
    {
     "name": "stdout",
     "output_type": "stream",
     "text": [
      "[{'Accuracy (Dementia)': 0.7229152542372881,\n",
      "  'Accuracy (MCI)': 0.5833559322033899,\n",
      "  'Accuracy (Normal)': 0.7349491525423729,\n",
      "  'EKG': 'O',\n",
      "  'F1-score (Dementia)': 0.32790659431014635,\n",
      "  'F1-score (MCI)': 0.44959921185795526,\n",
      "  'F1-score (Normal)': 0.6809483004855755,\n",
      "  'Multi-Crop Accuracy (Dementia)': 0.7338983050847457,\n",
      "  'Multi-Crop Accuracy (MCI)': 0.5825762711864407,\n",
      "  'Multi-Crop Accuracy (Normal)': 0.7510508474576271,\n",
      "  'Multi-Crop F1-score (Dementia)': 0.25394411708800607,\n",
      "  'Multi-Crop F1-score (MCI)': 0.47923538864924303,\n",
      "  'Multi-Crop F1-score (Normal)': 0.7042525773195877,\n",
      "  'Multi-Crop Precision (Dementia)': 0.481962481962482,\n",
      "  'Multi-Crop Precision (MCI)': 0.42296207823230814,\n",
      "  'Multi-Crop Precision (Normal)': 0.6558655865586559,\n",
      "  'Multi-Crop Sensitivity (Dementia)': 0.17238709677419356,\n",
      "  'Multi-Crop Sensitivity (MCI)': 0.5527804878048781,\n",
      "  'Multi-Crop Sensitivity (Normal)': 0.7603478260869565,\n",
      "  'Multi-Crop Specificity (Dementia)': 0.9339770114942528,\n",
      "  'Multi-Crop Specificity (MCI)': 0.5984415584415584,\n",
      "  'Multi-Crop Specificity (Normal)': 0.7451111111111111,\n",
      "  'Multi-Crop Test Accuracy': 53.37627118644068,\n",
      "  'Multi-Crop Test Throughput': 1059.9375704154852,\n",
      "  'Precision (Dementia)': 0.4519492293744334,\n",
      "  'Precision (MCI)': 0.4155285158513368,\n",
      "  'Precision (Normal)': 0.6415007303759515,\n",
      "  'Sensitivity (Dementia)': 0.25729032258064516,\n",
      "  'Sensitivity (MCI)': 0.4897560975609756,\n",
      "  'Sensitivity (Normal)': 0.7255652173913043,\n",
      "  'Specificity (Dementia)': 0.8888275862068965,\n",
      "  'Specificity (MCI)': 0.6331948051948052,\n",
      "  'Specificity (Normal)': 0.7409444444444444,\n",
      "  'Test Accuracy': 52.06101694915254,\n",
      "  'Test Throughput': 9858.316564675015,\n",
      "  'Train Accuracy': 49.9171875,\n",
      "  'Validation Accuracy': 50.7781512605042,\n",
      "  'activation': 0,\n",
      "  'awgn': 0,\n",
      "  'awgn_age': 0,\n",
      "  'base_lr': 0.0006686096096470754,\n",
      "  'crop_multiple': 4,\n",
      "  'dropout': 0,\n",
      "  'fc_stages': 1,\n",
      "  'lr_scheduler_type': 'constant_with_decay',\n",
      "  'mgn': 0,\n",
      "  'minibatch': 512,\n",
      "  'mixup': 0.0,\n",
      "  'model': '1D-Linear-SVM',\n",
      "  'model size (MiB)': 0.48148250579833984,\n",
      "  'name': '1iaim0xt',\n",
      "  'num_params': 126006,\n",
      "  'path': 'E:\\\\CAUEEG\\\\checkpoint\\\\1iaim0xt\\\\checkpoint.pt',\n",
      "  'photic': 'O',\n",
      "  'repeat': 125,\n",
      "  'seed': 0,\n",
      "  'seq_length': 2000,\n",
      "  'test_crop_multiple': 8,\n",
      "  'total_samples': 100000000,\n",
      "  'use_age': 'fc',\n",
      "  'warmup_steps': 9766,\n",
      "  'weight_decay': 0.01},\n",
      " {'Accuracy (Dementia)': 0.723271186440678,\n",
      "  'Accuracy (MCI)': 0.5926610169491525,\n",
      "  'Accuracy (Normal)': 0.7361016949152542,\n",
      "  'EKG': 'O',\n",
      "  'F1-score (Dementia)': 0.3876992312019501,\n",
      "  'F1-score (MCI)': 0.40200054741347135,\n",
      "  'F1-score (Normal)': 0.6955773667539983,\n",
      "  'Multi-Crop Accuracy (Dementia)': 0.7305762711864406,\n",
      "  'Multi-Crop Accuracy (MCI)': 0.5949152542372881,\n",
      "  'Multi-Crop Accuracy (Normal)': 0.7584406779661017,\n",
      "  'Multi-Crop F1-score (Dementia)': 0.355288773523686,\n",
      "  'Multi-Crop F1-score (MCI)': 0.42365197260538245,\n",
      "  'Multi-Crop F1-score (Normal)': 0.7252679466419925,\n",
      "  'Multi-Crop Precision (Dementia)': 0.4783748361730013,\n",
      "  'Multi-Crop Precision (MCI)': 0.4189240747806181,\n",
      "  'Multi-Crop Precision (Normal)': 0.6514752735835988,\n",
      "  'Multi-Crop Sensitivity (Dementia)': 0.28258064516129033,\n",
      "  'Multi-Crop Sensitivity (MCI)': 0.4284878048780488,\n",
      "  'Multi-Crop Sensitivity (Normal)': 0.8179130434782609,\n",
      "  'Multi-Crop Specificity (Dementia)': 0.8902068965517241,\n",
      "  'Multi-Crop Specificity (MCI)': 0.6835324675324675,\n",
      "  'Multi-Crop Specificity (Normal)': 0.7204444444444444,\n",
      "  'Multi-Crop Test Accuracy': 54.19661016949152,\n",
      "  'Multi-Crop Test Throughput': 1180.904200684076,\n",
      "  'Precision (Dementia)': 0.46296462158531126,\n",
      "  'Precision (MCI)': 0.4102798516938392,\n",
      "  'Precision (Normal)': 0.6319903361045974,\n",
      "  'Sensitivity (Dementia)': 0.33348387096774196,\n",
      "  'Sensitivity (MCI)': 0.3940487804878049,\n",
      "  'Sensitivity (Normal)': 0.7733913043478261,\n",
      "  'Specificity (Dementia)': 0.8621609195402299,\n",
      "  'Specificity (MCI)': 0.6984155844155844,\n",
      "  'Specificity (Normal)': 0.7122777777777778,\n",
      "  'Test Accuracy': 52.601694915254235,\n",
      "  'Test Throughput': 10742.514253140112,\n",
      "  'Train Accuracy': 50.31785714285714,\n",
      "  'Validation Accuracy': 50.38991596638655,\n",
      "  'activation': 0,\n",
      "  'awgn': 0,\n",
      "  'awgn_age': 0,\n",
      "  'base_lr': 0.002598042782701955,\n",
      "  'crop_multiple': 4,\n",
      "  'dropout': 0,\n",
      "  'fc_stages': 1,\n",
      "  'lr_scheduler_type': 'constant_with_decay',\n",
      "  'mgn': 0,\n",
      "  'minibatch': 512,\n",
      "  'mixup': 0.0,\n",
      "  'model': '1D-Linear-SVM',\n",
      "  'model size (MiB)': 0.48148250579833984,\n",
      "  'name': 'zbnwnfxx',\n",
      "  'num_params': 126006,\n",
      "  'path': 'E:\\\\CAUEEG\\\\checkpoint\\\\zbnwnfxx\\\\checkpoint.pt',\n",
      "  'photic': 'O',\n",
      "  'repeat': 125,\n",
      "  'seed': 0,\n",
      "  'seq_length': 2000,\n",
      "  'test_crop_multiple': 8,\n",
      "  'total_samples': 100000000,\n",
      "  'use_age': 'fc',\n",
      "  'warmup_steps': 9766,\n",
      "  'weight_decay': 0.01}]\n"
     ]
    }
   ],
   "source": [
    "pprint.pprint(model_pool)"
   ]
  },
  {
   "cell_type": "code",
   "execution_count": 16,
   "id": "439ae7d8-ac60-42ad-b852-c38d3d52987c",
   "metadata": {},
   "outputs": [
    {
     "data": {
      "text/html": [
       "<div>\n",
       "<style scoped>\n",
       "    .dataframe tbody tr th:only-of-type {\n",
       "        vertical-align: middle;\n",
       "    }\n",
       "\n",
       "    .dataframe tbody tr th {\n",
       "        vertical-align: top;\n",
       "    }\n",
       "\n",
       "    .dataframe thead th {\n",
       "        text-align: right;\n",
       "    }\n",
       "</style>\n",
       "<table border=\"1\" class=\"dataframe\">\n",
       "  <thead>\n",
       "    <tr style=\"text-align: right;\">\n",
       "      <th></th>\n",
       "      <th>name</th>\n",
       "      <th>path</th>\n",
       "      <th>model</th>\n",
       "      <th>num_params</th>\n",
       "      <th>model size (MiB)</th>\n",
       "      <th>seq_length</th>\n",
       "      <th>use_age</th>\n",
       "      <th>photic</th>\n",
       "      <th>EKG</th>\n",
       "      <th>awgn</th>\n",
       "      <th>...</th>\n",
       "      <th>Multi-Crop Sensitivity (Dementia)</th>\n",
       "      <th>Multi-Crop Specificity (Normal)</th>\n",
       "      <th>Multi-Crop Specificity (MCI)</th>\n",
       "      <th>Multi-Crop Specificity (Dementia)</th>\n",
       "      <th>Multi-Crop Precision (Normal)</th>\n",
       "      <th>Multi-Crop Precision (MCI)</th>\n",
       "      <th>Multi-Crop Precision (Dementia)</th>\n",
       "      <th>Multi-Crop F1-score (Normal)</th>\n",
       "      <th>Multi-Crop F1-score (MCI)</th>\n",
       "      <th>Multi-Crop F1-score (Dementia)</th>\n",
       "    </tr>\n",
       "  </thead>\n",
       "  <tbody>\n",
       "    <tr>\n",
       "      <th>0</th>\n",
       "      <td>1iaim0xt</td>\n",
       "      <td>E:\\CAUEEG\\checkpoint\\1iaim0xt\\checkpoint.pt</td>\n",
       "      <td>1D-Linear-SVM</td>\n",
       "      <td>126006</td>\n",
       "      <td>0.481483</td>\n",
       "      <td>2000</td>\n",
       "      <td>fc</td>\n",
       "      <td>O</td>\n",
       "      <td>O</td>\n",
       "      <td>0</td>\n",
       "      <td>...</td>\n",
       "      <td>0.172387</td>\n",
       "      <td>0.745111</td>\n",
       "      <td>0.598442</td>\n",
       "      <td>0.933977</td>\n",
       "      <td>0.655866</td>\n",
       "      <td>0.422962</td>\n",
       "      <td>0.481962</td>\n",
       "      <td>0.704253</td>\n",
       "      <td>0.479235</td>\n",
       "      <td>0.253944</td>\n",
       "    </tr>\n",
       "    <tr>\n",
       "      <th>1</th>\n",
       "      <td>zbnwnfxx</td>\n",
       "      <td>E:\\CAUEEG\\checkpoint\\zbnwnfxx\\checkpoint.pt</td>\n",
       "      <td>1D-Linear-SVM</td>\n",
       "      <td>126006</td>\n",
       "      <td>0.481483</td>\n",
       "      <td>2000</td>\n",
       "      <td>fc</td>\n",
       "      <td>O</td>\n",
       "      <td>O</td>\n",
       "      <td>0</td>\n",
       "      <td>...</td>\n",
       "      <td>0.282581</td>\n",
       "      <td>0.720444</td>\n",
       "      <td>0.683532</td>\n",
       "      <td>0.890207</td>\n",
       "      <td>0.651475</td>\n",
       "      <td>0.418924</td>\n",
       "      <td>0.478375</td>\n",
       "      <td>0.725268</td>\n",
       "      <td>0.423652</td>\n",
       "      <td>0.355289</td>\n",
       "    </tr>\n",
       "  </tbody>\n",
       "</table>\n",
       "<p>2 rows × 62 columns</p>\n",
       "</div>"
      ],
      "text/plain": [
       "       name                                         path          model  \\\n",
       "0  1iaim0xt  E:\\CAUEEG\\checkpoint\\1iaim0xt\\checkpoint.pt  1D-Linear-SVM   \n",
       "1  zbnwnfxx  E:\\CAUEEG\\checkpoint\\zbnwnfxx\\checkpoint.pt  1D-Linear-SVM   \n",
       "\n",
       "   num_params  model size (MiB)  seq_length use_age photic EKG  awgn  ...  \\\n",
       "0      126006          0.481483        2000      fc      O   O     0  ...   \n",
       "1      126006          0.481483        2000      fc      O   O     0  ...   \n",
       "\n",
       "   Multi-Crop Sensitivity (Dementia)  Multi-Crop Specificity (Normal)  \\\n",
       "0                           0.172387                         0.745111   \n",
       "1                           0.282581                         0.720444   \n",
       "\n",
       "   Multi-Crop Specificity (MCI)  Multi-Crop Specificity (Dementia)  \\\n",
       "0                      0.598442                           0.933977   \n",
       "1                      0.683532                           0.890207   \n",
       "\n",
       "   Multi-Crop Precision (Normal)  Multi-Crop Precision (MCI)  \\\n",
       "0                       0.655866                    0.422962   \n",
       "1                       0.651475                    0.418924   \n",
       "\n",
       "   Multi-Crop Precision (Dementia)  Multi-Crop F1-score (Normal)  \\\n",
       "0                         0.481962                      0.704253   \n",
       "1                         0.478375                      0.725268   \n",
       "\n",
       "   Multi-Crop F1-score (MCI)  Multi-Crop F1-score (Dementia)  \n",
       "0                   0.479235                        0.253944  \n",
       "1                   0.423652                        0.355289  \n",
       "\n",
       "[2 rows x 62 columns]"
      ]
     },
     "execution_count": 16,
     "metadata": {},
     "output_type": "execute_result"
    }
   ],
   "source": [
    "pd.DataFrame(model_pool)"
   ]
  },
  {
   "cell_type": "code",
   "execution_count": 17,
   "id": "3bfabea6-e56f-4f29-8027-cb290a3d2d2a",
   "metadata": {},
   "outputs": [],
   "source": [
    "pd.DataFrame(model_pool).to_csv('local/output/caueeg-dementia-svm__.csv')"
   ]
  },
  {
   "cell_type": "code",
   "execution_count": null,
   "id": "c046bc5e-8b28-4c2c-941a-490a809b57dd",
   "metadata": {},
   "outputs": [],
   "source": []
  }
 ],
 "metadata": {
  "kernelspec": {
   "display_name": "Python 3 (ipykernel)",
   "language": "python",
   "name": "python3"
  },
  "language_info": {
   "codemirror_mode": {
    "name": "ipython",
    "version": 3
   },
   "file_extension": ".py",
   "mimetype": "text/x-python",
   "name": "python",
   "nbconvert_exporter": "python",
   "pygments_lexer": "ipython3",
   "version": "3.9.12"
  }
 },
 "nbformat": 4,
 "nbformat_minor": 5
}
