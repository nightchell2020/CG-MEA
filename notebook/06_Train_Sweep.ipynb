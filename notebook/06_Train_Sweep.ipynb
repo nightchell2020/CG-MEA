{
 "cells": [
  {
   "cell_type": "markdown",
   "metadata": {
    "pycharm": {
     "name": "#%% md\n"
    }
   },
   "source": [
    "# Train Networks\n",
    "\n",
    "- Train SoftMax or Multi-BCE classifier for the EEG diagnosis classification\n",
    "    - CAUEEG-task1 benchmark: Classification of **Normal** and **Abnormal** symptoms\n",
    "    - CAUEEG-task2 benchmark: Classification of **Normal**, **MCI**, and **Dementia** symptoms\n",
    "- `Weights and Biases` sweep is used for hyperparameter search"
   ]
  },
  {
   "cell_type": "markdown",
   "metadata": {
    "pycharm": {
     "name": "#%% md\n"
    }
   },
   "source": [
    "-----\n",
    "\n",
    "## Load Packages"
   ]
  },
  {
   "cell_type": "code",
   "execution_count": 1,
   "metadata": {
    "pycharm": {
     "name": "#%%\n"
    }
   },
   "outputs": [
    {
     "name": "stdout",
     "output_type": "stream",
     "text": [
      "C:\\Users\\Minjae\\Desktop\\EEG_Project\n"
     ]
    }
   ],
   "source": [
    "# for auto-reloading external modules\n",
    "# see http://stackoverflow.com/questions/1907993/autoreload-of-modules-in-ipython\n",
    "%load_ext autoreload\n",
    "%autoreload 2\n",
    "%cd .."
   ]
  },
  {
   "cell_type": "code",
   "execution_count": 2,
   "metadata": {
    "collapsed": false,
    "jupyter": {
     "outputs_hidden": false
    },
    "pycharm": {
     "name": "#%%\n"
    }
   },
   "outputs": [],
   "source": [
    "# Load some packages\n",
    "import os\n",
    "import json\n",
    "from copy import deepcopy\n",
    "\n",
    "import hydra\n",
    "from omegaconf import OmegaConf\n",
    "import yaml\n",
    "import wandb\n",
    "import pprint\n",
    "\n",
    "# custom package\n",
    "from run_train import check_device_env\n",
    "from run_train import prepare_and_run_train"
   ]
  },
  {
   "cell_type": "markdown",
   "metadata": {
    "pycharm": {
     "name": "#%% md\n"
    }
   },
   "source": [
    "## Environment"
   ]
  },
  {
   "cell_type": "code",
   "execution_count": 3,
   "metadata": {
    "collapsed": false,
    "jupyter": {
     "outputs_hidden": false
    },
    "pycharm": {
     "name": "#%%\n"
    }
   },
   "outputs": [],
   "source": [
    "data_cfg_file = 'task2'\n",
    "train_cfg_file = 'tiny_train'\n",
    "device = 'cuda:0'\n",
    "sweep_yaml_path = 'config/sweep/sweep_task2.yaml'\n",
    "count = 1"
   ]
  },
  {
   "cell_type": "markdown",
   "metadata": {
    "pycharm": {
     "name": "#%% md\n"
    }
   },
   "source": [
    "## Sweep configurations"
   ]
  },
  {
   "cell_type": "code",
   "execution_count": 4,
   "metadata": {
    "collapsed": false,
    "jupyter": {
     "outputs_hidden": false
    },
    "pycharm": {
     "name": "#%%\n"
    }
   },
   "outputs": [
    {
     "name": "stdout",
     "output_type": "stream",
     "text": [
      "{'entity': 'ipis-mjkim',\n",
      " 'method': 'random',\n",
      " 'name': 'sweep-task2',\n",
      " 'parameters': {'data.EKG': {'values': ['O', 'X']},\n",
      "                'data.awgn': {'distribution': 'uniform', 'max': 0.12, 'min': 0},\n",
      "                'data.awgn_age': {'distribution': 'uniform',\n",
      "                                  'max': 0.3,\n",
      "                                  'min': 0},\n",
      "                'data.mgn': {'distribution': 'uniform', 'max': 0.1, 'min': 0},\n",
      "                'data.photic': {'values': ['O', 'X']},\n",
      "                'data.seq_length': {'values': [1000, 2000, 3000, 4000]},\n",
      "                'model': {'values': ['1D-VGG-16',\n",
      "                                     '1D-VGG-19',\n",
      "                                     '1D-ResNet-18',\n",
      "                                     '1D-ResNet-50',\n",
      "                                     '1D-ResNeXt-50',\n",
      "                                     '1D-ResNeXt-101',\n",
      "                                     '1D-Wide-ResNet-50',\n",
      "                                     '1D-CNN-Transformer',\n",
      "                                     '2D-VGG-16',\n",
      "                                     '2D-VGG-19',\n",
      "                                     '2D-ResNet-18',\n",
      "                                     '2D-ResNet-50',\n",
      "                                     '2D-ResNeXt-50',\n",
      "                                     '2D-ResNeXt-101',\n",
      "                                     '2D-Wide-ResNet-50',\n",
      "                                     '2D-ViT-B-8',\n",
      "                                     '2D-ViT-B-16',\n",
      "                                     '2D-ViT-L-8']},\n",
      "                'model.activation': {'values': ['relu', 'gelu', 'mish']},\n",
      "                'model.dropout': {'distribution': 'uniform',\n",
      "                                  'max': 0.5,\n",
      "                                  'min': 0},\n",
      "                'model.fc_stages': {'distribution': 'int_uniform',\n",
      "                                    'max': 5,\n",
      "                                    'min': 2},\n",
      "                'model.use_age': {'values': ['fc', 'conv']},\n",
      "                'train.criterion': {'values': ['cross-entropy', 'multi-bce']},\n",
      "                'train.lr_scheduler_type': {'values': ['constant_with_decay',\n",
      "                                                       'constant_with_twice_decay',\n",
      "                                                       'transformer_style',\n",
      "                                                       'cosine_decay_with_warmup_half',\n",
      "                                                       'cosine_decay_with_warmup_one_and_half',\n",
      "                                                       'linear_decay_with_warmup']},\n",
      "                'train.mixup': {'values': [0, 0.1, 0.2, 0.3]},\n",
      "                'train.num_history': {'values': [2]},\n",
      "                'train.search_lr': {'values': [False]},\n",
      "                'train.total_samples': {'values': [500]},\n",
      "                'train.weight_decay': {'distribution': 'log_uniform_values',\n",
      "                                       'max': 0.05,\n",
      "                                       'min': '1e-05'}},\n",
      " 'program': 'run_train.py',\n",
      " 'project': 'sweep-test'}\n"
     ]
    }
   ],
   "source": [
    "with open(sweep_yaml_path) as f:\n",
    "    sweep_yaml = yaml.load(f, Loader=yaml.FullLoader)\n",
    "\n",
    "sweep_yaml.pop('command')\n",
    "pprint.pprint(sweep_yaml)"
   ]
  },
  {
   "cell_type": "code",
   "execution_count": 5,
   "metadata": {
    "collapsed": false,
    "jupyter": {
     "outputs_hidden": false
    },
    "pycharm": {
     "name": "#%%\n"
    }
   },
   "outputs": [
    {
     "name": "stderr",
     "output_type": "stream",
     "text": [
      "Failed to detect the name of this notebook, you can set it manually with the WANDB_NOTEBOOK_NAME environment variable to enable code saving.\n"
     ]
    },
    {
     "name": "stdout",
     "output_type": "stream",
     "text": [
      "Create sweep with ID: 3aektdjh\n",
      "Sweep URL: https://wandb.ai/ipis-mjkim/sweep-test/sweeps/3aektdjh\n"
     ]
    }
   ],
   "source": [
    "sweep_id = wandb.sweep(sweep_yaml, project=sweep_yaml['project'])"
   ]
  },
  {
   "cell_type": "markdown",
   "metadata": {
    "pycharm": {
     "name": "#%% md\n"
    }
   },
   "source": [
    "## Train"
   ]
  },
  {
   "cell_type": "code",
   "execution_count": 6,
   "metadata": {
    "collapsed": false,
    "jupyter": {
     "outputs_hidden": false
    },
    "pycharm": {
     "name": "#%%\n"
    }
   },
   "outputs": [],
   "source": [
    "def train_sweep():\n",
    "    # connect wandb\n",
    "    wandb_run = wandb.init()\n",
    "    wandb.run.name = wandb.run.id\n",
    "    \n",
    "    with wandb_run:\n",
    "        # init hydra\n",
    "        with hydra.initialize(config_path='../config'):\n",
    "            add_configs = [f\"data={data_cfg_file}\", \n",
    "                           f\"model={wandb.config.model}\",\n",
    "                           f\"train={train_cfg_file}\",\n",
    "                           f\"++train.device={device}\",]\n",
    "\n",
    "            cfg = hydra.compose(config_name='default', overrides=add_configs)\n",
    "\n",
    "            config = {**OmegaConf.to_container(cfg.data), \n",
    "                      **OmegaConf.to_container(cfg.train),\n",
    "                      **OmegaConf.to_container(cfg.model)}\n",
    "\n",
    "            check_device_env(config)\n",
    "\n",
    "        # load default configurations not selected by wandb.sweep\n",
    "        cfg_sweep = dict()\n",
    "        for k, v in config.items():\n",
    "            if k not in [wandb_key.split('.')[-1] for wandb_key in wandb.config.keys()]:\n",
    "                cfg_sweep[k] = v\n",
    "\n",
    "        # load the selected configurations from wandb sweep with preventing callables from type-conversion to str\n",
    "        for k, v in wandb.config.items():\n",
    "            k = k.split('.')[-1]\n",
    "            if k not in cfg_sweep:\n",
    "                cfg_sweep[k] = v\n",
    "\n",
    "        config = cfg_sweep\n",
    "        config['wandb_run'] = wandb_run\n",
    "        pprint.pprint(config)\n",
    "\n",
    "        # build the dataset and train the model\n",
    "        if config.get('ddp', False):\n",
    "            mp.spawn(prepare_and_run_train,\n",
    "                     args=(config['ddp_size'], config,),\n",
    "                     nprocs=config['ddp_size'],\n",
    "                     join=True)\n",
    "        else:\n",
    "            prepare_and_run_train(rank=None, world_size=None, config=config)"
   ]
  },
  {
   "cell_type": "code",
   "execution_count": 7,
   "metadata": {},
   "outputs": [
    {
     "name": "stderr",
     "output_type": "stream",
     "text": [
      "\u001b[34m\u001b[1mwandb\u001b[0m: Agent Starting Run: 0uv4ashm with config:\n",
      "\u001b[34m\u001b[1mwandb\u001b[0m: \tdata.EKG: X\n",
      "\u001b[34m\u001b[1mwandb\u001b[0m: \tdata.awgn: 0.0581451723266512\n",
      "\u001b[34m\u001b[1mwandb\u001b[0m: \tdata.awgn_age: 0.2243544676293716\n",
      "\u001b[34m\u001b[1mwandb\u001b[0m: \tdata.mgn: 0.027709291109425185\n",
      "\u001b[34m\u001b[1mwandb\u001b[0m: \tdata.photic: X\n",
      "\u001b[34m\u001b[1mwandb\u001b[0m: \tdata.seq_length: 1000\n",
      "\u001b[34m\u001b[1mwandb\u001b[0m: \tmodel: 2D-VGG-19\n",
      "\u001b[34m\u001b[1mwandb\u001b[0m: \tmodel.activation: mish\n",
      "\u001b[34m\u001b[1mwandb\u001b[0m: \tmodel.dropout: 0.13331455206298637\n",
      "\u001b[34m\u001b[1mwandb\u001b[0m: \tmodel.fc_stages: 5\n",
      "\u001b[34m\u001b[1mwandb\u001b[0m: \tmodel.use_age: fc\n",
      "\u001b[34m\u001b[1mwandb\u001b[0m: \ttrain.criterion: cross-entropy\n",
      "\u001b[34m\u001b[1mwandb\u001b[0m: \ttrain.lr_scheduler_type: constant_with_decay\n",
      "\u001b[34m\u001b[1mwandb\u001b[0m: \ttrain.mixup: 0\n",
      "\u001b[34m\u001b[1mwandb\u001b[0m: \ttrain.num_history: 2\n",
      "\u001b[34m\u001b[1mwandb\u001b[0m: \ttrain.search_lr: False\n",
      "\u001b[34m\u001b[1mwandb\u001b[0m: \ttrain.total_samples: 500\n",
      "\u001b[34m\u001b[1mwandb\u001b[0m: \ttrain.weight_decay: 0.01505068238940257\n",
      "Failed to detect the name of this notebook, you can set it manually with the WANDB_NOTEBOOK_NAME environment variable to enable code saving.\n",
      "\u001b[34m\u001b[1mwandb\u001b[0m: Currently logged in as: \u001b[33mipis-mjkim\u001b[0m. Use \u001b[1m`wandb login --relogin`\u001b[0m to force relogin\n"
     ]
    },
    {
     "data": {
      "text/html": [
       "Tracking run with wandb version 0.12.16"
      ],
      "text/plain": [
       "<IPython.core.display.HTML object>"
      ]
     },
     "metadata": {},
     "output_type": "display_data"
    },
    {
     "data": {
      "text/html": [
       "Run data is saved locally in <code>C:\\Users\\Minjae\\Desktop\\EEG_Project\\wandb\\run-20220511_031034-0uv4ashm</code>"
      ],
      "text/plain": [
       "<IPython.core.display.HTML object>"
      ]
     },
     "metadata": {},
     "output_type": "display_data"
    },
    {
     "data": {
      "text/html": [
       "Syncing run <strong><a href=\"https://wandb.ai/ipis-mjkim/sweep-test/runs/0uv4ashm\" target=\"_blank\">fast-sweep-1</a></strong> to <a href=\"https://wandb.ai/ipis-mjkim/sweep-test\" target=\"_blank\">Weights & Biases</a> (<a href=\"https://wandb.me/run\" target=\"_blank\">docs</a>)<br/>Sweep page:  <a href=\"https://wandb.ai/ipis-mjkim/sweep-test/sweeps/3aektdjh\" target=\"_blank\">https://wandb.ai/ipis-mjkim/sweep-test/sweeps/3aektdjh</a>"
      ],
      "text/plain": [
       "<IPython.core.display.HTML object>"
      ]
     },
     "metadata": {},
     "output_type": "display_data"
    },
    {
     "name": "stdout",
     "output_type": "stream",
     "text": [
      "{'EKG': 'X',\n",
      " '_target_': 'models.vgg_2d.VGG2D',\n",
      " 'activation': 'mish',\n",
      " 'awgn': 0.0581451723266512,\n",
      " 'awgn_age': 0.2243544676293716,\n",
      " 'base_lr': 0.0001,\n",
      " 'batch_norm': True,\n",
      " 'criterion': 'cross-entropy',\n",
      " 'crop_multiple': 4,\n",
      " 'crop_timing_analysis': False,\n",
      " 'dataset_path': 'local/dataset/02_Curated_Data_220419/',\n",
      " 'ddp': False,\n",
      " 'device': device(type='cuda', index=0),\n",
      " 'draw_result': True,\n",
      " 'dropout': 0.13331455206298637,\n",
      " 'fc_stages': 5,\n",
      " 'file_format': 'memmap',\n",
      " 'in_channels': '???',\n",
      " 'input_norm': 'dataset',\n",
      " 'latency': 2000,\n",
      " 'load_event': False,\n",
      " 'lr_scheduler_type': 'constant_with_decay',\n",
      " 'mgn': 0.027709291109425185,\n",
      " 'minibatch': 160,\n",
      " 'mixup': 0,\n",
      " 'model': '2D-VGG-19',\n",
      " 'num_history': 2,\n",
      " 'out_dims': '???',\n",
      " 'photic': 'X',\n",
      " 'run_mode': 'train',\n",
      " 'save_model': False,\n",
      " 'search_lr': False,\n",
      " 'search_multiplier': 1.0,\n",
      " 'seq_len_2d': '???',\n",
      " 'seq_length': 1000,\n",
      " 'signal_length_limit': 10000000,\n",
      " 'task': 'task2',\n",
      " 'test_crop_multiple': 8,\n",
      " 'total_samples': 500,\n",
      " 'use_age': 'fc',\n",
      " 'use_wandb': True,\n",
      " 'wandb_run': <wandb.sdk.wandb_run.Run object at 0x0000020F7A9CF9A0>,\n",
      " 'warmup_min': 3000,\n",
      " 'warmup_ratio': 0.05,\n",
      " 'watch_model': False,\n",
      " 'weight_decay': 0.01505068238940257}\n"
     ]
    },
    {
     "name": "stderr",
     "output_type": "stream",
     "text": [
      "\u001b[34m\u001b[1mwandb\u001b[0m: \u001b[33mWARNING\u001b[0m Config item 'model' was locked by 'sweep' (ignored update).\n"
     ]
    },
    {
     "data": {
      "text/html": [
       "Waiting for W&B process to finish... <strong style=\"color:green\">(success).</strong>"
      ],
      "text/plain": [
       "<IPython.core.display.HTML object>"
      ]
     },
     "metadata": {},
     "output_type": "display_data"
    },
    {
     "data": {
      "application/vnd.jupyter.widget-view+json": {
       "model_id": "",
       "version_major": 2,
       "version_minor": 0
      },
      "text/plain": [
       "VBox(children=(Label(value='0.172 MB of 0.172 MB uploaded (0.000 MB deduped)\\r'), FloatProgress(value=1.0, max…"
      ]
     },
     "metadata": {},
     "output_type": "display_data"
    },
    {
     "data": {
      "text/html": [
       "<style>\n",
       "    table.wandb td:nth-child(1) { padding: 0 10px; text-align: left ; width: auto;} td:nth-child(2) {text-align: left ; width: 100%}\n",
       "    .wandb-row { display: flex; flex-direction: row; flex-wrap: wrap; justify-content: flex-start; width: 100% }\n",
       "    .wandb-col { display: flex; flex-direction: column; flex-basis: 100%; flex: 1; padding: 10px; }\n",
       "    </style>\n",
       "<div class=\"wandb-row\"><div class=\"wandb-col\"><h3>Run history:</h3><br/><table class=\"wandb\"><tr><td>Learning Rate</td><td>█▁▁</td></tr><tr><td>Loss</td><td>█▄▁</td></tr><tr><td>Multi-Crop Test Accuracy</td><td>▁</td></tr><tr><td>Test Accuracy</td><td>▁</td></tr><tr><td>Train Accuracy</td><td>▁▁█</td></tr><tr><td>Validation Accuracy</td><td>▁▁▁</td></tr></table><br/></div><div class=\"wandb-col\"><h3>Run summary:</h3><br/><table class=\"wandb\"><tr><td>Learning Rate</td><td>1e-05</td></tr><tr><td>Loss</td><td>1.0921</td></tr><tr><td>Multi-Crop Test Accuracy</td><td>50.0</td></tr><tr><td>Test Accuracy</td><td>38.98305</td></tr><tr><td>Train Accuracy</td><td>45.625</td></tr><tr><td>Validation Accuracy</td><td>38.65546</td></tr></table><br/></div></div>"
      ],
      "text/plain": [
       "<IPython.core.display.HTML object>"
      ]
     },
     "metadata": {},
     "output_type": "display_data"
    },
    {
     "data": {
      "text/html": [
       "Synced <strong style=\"color:#cdcd00\">fast-sweep-1</strong>: <a href=\"https://wandb.ai/ipis-mjkim/sweep-test/runs/0uv4ashm\" target=\"_blank\">https://wandb.ai/ipis-mjkim/sweep-test/runs/0uv4ashm</a><br/>Synced 7 W&B file(s), 3 media file(s), 0 artifact file(s) and 1 other file(s)"
      ],
      "text/plain": [
       "<IPython.core.display.HTML object>"
      ]
     },
     "metadata": {},
     "output_type": "display_data"
    },
    {
     "data": {
      "text/html": [
       "Find logs at: <code>.\\wandb\\run-20220511_031034-0uv4ashm\\logs</code>"
      ],
      "text/plain": [
       "<IPython.core.display.HTML object>"
      ]
     },
     "metadata": {},
     "output_type": "display_data"
    }
   ],
   "source": [
    "wandb.agent(sweep_id, function=train_sweep, count=count)"
   ]
  },
  {
   "cell_type": "code",
   "execution_count": null,
   "metadata": {},
   "outputs": [],
   "source": []
  }
 ],
 "metadata": {
  "kernelspec": {
   "display_name": "Python 3 (ipykernel)",
   "language": "python",
   "name": "python3"
  },
  "language_info": {
   "codemirror_mode": {
    "name": "ipython",
    "version": 3
   },
   "file_extension": ".py",
   "mimetype": "text/x-python",
   "name": "python",
   "nbconvert_exporter": "python",
   "pygments_lexer": "ipython3",
   "version": "3.9.12"
  }
 },
 "nbformat": 4,
 "nbformat_minor": 4
}
