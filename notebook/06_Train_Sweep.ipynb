{
 "cells": [
  {
   "cell_type": "markdown",
   "metadata": {
    "pycharm": {
     "name": "#%% md\n"
    }
   },
   "source": [
    "# Train Networks\n",
    "\n",
    "- Train SoftMax or Multi-BCE classifier for the EEG diagnosis classification\n",
    "    - CAUEEG-task1 benchmark: Classification of **Normal** and **Abnormal** symptoms\n",
    "    - CAUEEG-task2 benchmark: Classification of **Normal**, **MCI**, and **Dementia** symptoms\n",
    "- `Weights and Biases` sweep is used for hyperparameter search"
   ]
  },
  {
   "cell_type": "markdown",
   "metadata": {
    "pycharm": {
     "name": "#%% md\n"
    }
   },
   "source": [
    "-----\n",
    "\n",
    "## Load Packages"
   ]
  },
  {
   "cell_type": "code",
   "execution_count": null,
   "metadata": {
    "pycharm": {
     "name": "#%%\n"
    }
   },
   "outputs": [],
   "source": [
    "# for auto-reloading external modules\n",
    "# see http://stackoverflow.com/questions/1907993/autoreload-of-modules-in-ipython\n",
    "%load_ext autoreload\n",
    "%autoreload 2\n",
    "%cd .."
   ]
  },
  {
   "cell_type": "code",
   "execution_count": null,
   "metadata": {
    "collapsed": false,
    "jupyter": {
     "outputs_hidden": false
    },
    "pycharm": {
     "name": "#%%\n"
    }
   },
   "outputs": [],
   "source": [
    "# Load some packages\n",
    "import os\n",
    "import json\n",
    "from copy import deepcopy\n",
    "\n",
    "import hydra\n",
    "from omegaconf import OmegaConf\n",
    "import yaml\n",
    "import wandb\n",
    "import pprint\n",
    "\n",
    "# custom package\n",
    "from run_train import check_device_env\n",
    "from run_train import prepare_and_run_train\n",
    "from train.utils import load_sweep_config"
   ]
  },
  {
   "cell_type": "markdown",
   "metadata": {
    "pycharm": {
     "name": "#%% md\n"
    }
   },
   "source": [
    "## Environment"
   ]
  },
  {
   "cell_type": "code",
   "execution_count": null,
   "metadata": {
    "collapsed": false,
    "jupyter": {
     "outputs_hidden": false
    },
    "pycharm": {
     "name": "#%%\n"
    }
   },
   "outputs": [],
   "source": [
    "data_cfg_file = 'task2'\n",
    "train_cfg_file = 'tiny_train'\n",
    "device = 'cuda:0'\n",
    "sweep_yaml_path = 'config/sweep/sweep_task2.yaml'\n",
    "count = 1"
   ]
  },
  {
   "cell_type": "markdown",
   "metadata": {
    "pycharm": {
     "name": "#%% md\n"
    }
   },
   "source": [
    "## Sweep configurations"
   ]
  },
  {
   "cell_type": "code",
   "execution_count": null,
   "metadata": {
    "collapsed": false,
    "jupyter": {
     "outputs_hidden": false
    },
    "pycharm": {
     "name": "#%%\n"
    }
   },
   "outputs": [],
   "source": [
    "with open(sweep_yaml_path) as f:\n",
    "    sweep_yaml = yaml.load(f, Loader=yaml.FullLoader)\n",
    "\n",
    "sweep_yaml.pop('command')\n",
    "pprint.pprint(sweep_yaml)"
   ]
  },
  {
   "cell_type": "code",
   "execution_count": null,
   "metadata": {
    "collapsed": false,
    "jupyter": {
     "outputs_hidden": false
    },
    "pycharm": {
     "name": "#%%\n"
    }
   },
   "outputs": [],
   "source": [
    "sweep_id = wandb.sweep(sweep_yaml, project=sweep_yaml['project'])"
   ]
  },
  {
   "cell_type": "markdown",
   "metadata": {
    "pycharm": {
     "name": "#%% md\n"
    }
   },
   "source": [
    "---\n",
    "\n",
    "## Train"
   ]
  },
  {
   "cell_type": "code",
   "execution_count": null,
   "metadata": {
    "collapsed": false,
    "jupyter": {
     "outputs_hidden": false
    },
    "pycharm": {
     "name": "#%%\n"
    }
   },
   "outputs": [],
   "source": [
    "def train_sweep():\n",
    "    # connect wandb and get the sweep parameters\n",
    "    wandb_run = wandb.init(reinit=True)\n",
    "    wandb.run.name = wandb.run.id\n",
    "    \n",
    "    with hydra.initialize(config_path='../config'):\n",
    "        add_configs = [f\"data={data_cfg_file}\", \n",
    "                       f\"train={train_cfg_file}\", \n",
    "                       f\"model={wandb.config.model}\",\n",
    "                       f\"+train.device={device}\",]\n",
    "        cfg = hydra.compose(config_name='default', overrides=add_configs)\n",
    "        config = {**OmegaConf.to_container(cfg.data), \n",
    "                  **OmegaConf.to_container(cfg.train), \n",
    "                  **OmegaConf.to_container(cfg.model)}\n",
    "        \n",
    "    config = load_sweep_config(config)\n",
    "    check_device_env(config)\n",
    "    pprint.pprint(config)\n",
    "\n",
    "    # build the dataset and train the model\n",
    "    if config.get('ddp', False):\n",
    "        mp.spawn(prepare_and_run_train,\n",
    "                 args=(config['ddp_size'], config,),\n",
    "                 nprocs=config['ddp_size'],\n",
    "                 join=True)\n",
    "    else:\n",
    "        prepare_and_run_train(rank=None, world_size=None, config=config)"
   ]
  },
  {
   "cell_type": "code",
   "execution_count": null,
   "metadata": {},
   "outputs": [],
   "source": [
    "wandb.agent(sweep_id, function=train_sweep, count=count)"
   ]
  }
 ],
 "metadata": {
  "kernelspec": {
   "display_name": "Python 3 (ipykernel)",
   "language": "python",
   "name": "python3"
  },
  "language_info": {
   "codemirror_mode": {
    "name": "ipython",
    "version": 3
   },
   "file_extension": ".py",
   "mimetype": "text/x-python",
   "name": "python",
   "nbconvert_exporter": "python",
   "pygments_lexer": "ipython3",
   "version": "3.9.12"
  }
 },
 "nbformat": 4,
 "nbformat_minor": 4
}
