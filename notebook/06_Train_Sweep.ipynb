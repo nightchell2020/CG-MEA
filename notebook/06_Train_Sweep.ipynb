{
 "cells": [
  {
   "cell_type": "markdown",
   "metadata": {
    "pycharm": {
     "name": "#%% md\n"
    }
   },
   "source": [
    "# Train Networks\n",
    "\n",
    "- Train SoftMax or Multi-BCE classifier for the EEG diagnosis classification\n",
    "    - CAUEEG-task1 benchmark: Classification of **Normal**, **MCI**, and **Dementia** symptoms\n",
    "    - CAUEEG-task2 benchmark: Classification of **Normal** and **Abnormal** symptoms\n",
    "- `Weights and Biases` sweep is used for hyperparameter search"
   ]
  },
  {
   "cell_type": "markdown",
   "metadata": {
    "pycharm": {
     "name": "#%% md\n"
    }
   },
   "source": [
    "-----\n",
    "\n",
    "## Load Packages"
   ]
  },
  {
   "cell_type": "code",
   "execution_count": 1,
   "metadata": {
    "pycharm": {
     "name": "#%%\n"
    }
   },
   "outputs": [
    {
     "name": "stdout",
     "output_type": "stream",
     "text": [
      "C:\\Users\\Minjae\\Desktop\\EEG_Project\n"
     ]
    }
   ],
   "source": [
    "# for auto-reloading external modules\n",
    "# see http://stackoverflow.com/questions/1907993/autoreload-of-modules-in-ipython\n",
    "%load_ext autoreload\n",
    "%autoreload 2\n",
    "%cd .."
   ]
  },
  {
   "cell_type": "code",
   "execution_count": 2,
   "metadata": {
    "collapsed": false,
    "jupyter": {
     "outputs_hidden": false
    },
    "pycharm": {
     "name": "#%%\n"
    }
   },
   "outputs": [],
   "source": [
    "# Load some packages\n",
    "import os\n",
    "import json\n",
    "from copy import deepcopy\n",
    "\n",
    "import hydra\n",
    "from omegaconf import OmegaConf\n",
    "import yaml\n",
    "import wandb\n",
    "import pprint\n",
    "\n",
    "# custom package\n",
    "from run_train import check_device_env\n",
    "from run_train import prepare_and_run_train"
   ]
  },
  {
   "cell_type": "markdown",
   "metadata": {
    "pycharm": {
     "name": "#%% md\n"
    }
   },
   "source": [
    "## Environment"
   ]
  },
  {
   "cell_type": "code",
   "execution_count": 3,
   "metadata": {
    "collapsed": false,
    "jupyter": {
     "outputs_hidden": false
    },
    "pycharm": {
     "name": "#%%\n"
    }
   },
   "outputs": [],
   "source": [
    "data_cfg_file = 'task1'\n",
    "device = 'cuda:0'\n",
    "sweep_yaml_path = 'config/sweep/sweep_task1.yaml'"
   ]
  },
  {
   "cell_type": "markdown",
   "metadata": {
    "pycharm": {
     "name": "#%% md\n"
    }
   },
   "source": [
    "## Sweep configurations"
   ]
  },
  {
   "cell_type": "code",
   "execution_count": 4,
   "metadata": {
    "collapsed": false,
    "jupyter": {
     "outputs_hidden": false
    },
    "pycharm": {
     "name": "#%%\n"
    }
   },
   "outputs": [
    {
     "name": "stdout",
     "output_type": "stream",
     "text": [
      "{'entity': 'ipis-mjkim',\n",
      " 'method': 'random',\n",
      " 'name': 'sweep-task1',\n",
      " 'parameters': {'data.EKG': {'values': ['O', 'X']},\n",
      "                'data.awgn': {'distribution': 'uniform', 'max': 0.12, 'min': 0},\n",
      "                'data.awgn_age': {'distribution': 'uniform',\n",
      "                                  'max': 0.3,\n",
      "                                  'min': 0},\n",
      "                'data.mgn': {'distribution': 'uniform', 'max': 0.1, 'min': 0},\n",
      "                'data.photic': {'values': ['O', 'X']},\n",
      "                'data.seq_length': {'values': [1000, 2000, 3000, 4000]},\n",
      "                'model': {'values': ['1D-VGG-16',\n",
      "                                     '1D-VGG-19',\n",
      "                                     '1D-ResNet-18',\n",
      "                                     '1D-ResNet-50',\n",
      "                                     '1D-ResNeXt-50',\n",
      "                                     '1D-ResNeXt-101',\n",
      "                                     '1D-Wide-ResNet-50',\n",
      "                                     '1D-CNN-Transformer',\n",
      "                                     '2D-VGG-16',\n",
      "                                     '2D-VGG-19',\n",
      "                                     '2D-ResNet-18',\n",
      "                                     '2D-ResNet-50',\n",
      "                                     '2D-ResNeXt-50',\n",
      "                                     '2D-ResNeXt-101',\n",
      "                                     '2D-Wide-ResNet-50',\n",
      "                                     '2D-ViT-B-8',\n",
      "                                     '2D-ViT-B-16',\n",
      "                                     '2D-ViT-L-8']},\n",
      "                'model.activation': {'values': ['relu', 'gelu', 'mish']},\n",
      "                'model.dropout': {'distribution': 'uniform',\n",
      "                                  'max': 0.5,\n",
      "                                  'min': 0},\n",
      "                'model.fc_stages': {'distribution': 'int_uniform',\n",
      "                                    'max': 5,\n",
      "                                    'min': 2},\n",
      "                'model.use_age': {'values': ['fc', 'conv']},\n",
      "                'train.criterion': {'values': ['cross-entropy', 'multi-bce']},\n",
      "                'train.lr_scheduler_type': {'values': ['constant_with_decay',\n",
      "                                                       'constant_with_twice_decay',\n",
      "                                                       'transformer_style',\n",
      "                                                       'cosine_decay_with_warmup_half',\n",
      "                                                       'cosine_decay_with_warmup_one_and_half',\n",
      "                                                       'linear_decay_with_warmup']},\n",
      "                'train.mixup': {'values': [0, 0.1, 0.2, 0.3]},\n",
      "                'train.num_history': {'values': [5]},\n",
      "                'train.search_lr': {'values': [False]},\n",
      "                'train.total_samples': {'values': [1000]},\n",
      "                'train.weight_decay': {'distribution': 'log_uniform_values',\n",
      "                                       'max': 0.05,\n",
      "                                       'min': '1e-05'}},\n",
      " 'program': 'run_train.py',\n",
      " 'project': 'sweep-test'}\n"
     ]
    }
   ],
   "source": [
    "with open(sweep_yaml_path) as f:\n",
    "    sweep_yaml = yaml.load(f, Loader=yaml.FullLoader)\n",
    "\n",
    "sweep_yaml.pop('command')\n",
    "pprint.pprint(sweep_yaml)"
   ]
  },
  {
   "cell_type": "code",
   "execution_count": 5,
   "metadata": {
    "collapsed": false,
    "jupyter": {
     "outputs_hidden": false
    },
    "pycharm": {
     "name": "#%%\n"
    }
   },
   "outputs": [
    {
     "name": "stderr",
     "output_type": "stream",
     "text": [
      "Failed to detect the name of this notebook, you can set it manually with the WANDB_NOTEBOOK_NAME environment variable to enable code saving.\n"
     ]
    },
    {
     "name": "stdout",
     "output_type": "stream",
     "text": [
      "Create sweep with ID: 6h6cr48q\n",
      "Sweep URL: https://wandb.ai/ipis-mjkim/sweep-test/sweeps/6h6cr48q\n"
     ]
    }
   ],
   "source": [
    "# sweep_id = wandb.sweep(sweep_yaml, project=f\"caueeg-{cfg_data['task']}\")\n",
    "sweep_id = wandb.sweep(sweep_yaml, project=sweep_yaml['project'])"
   ]
  },
  {
   "cell_type": "markdown",
   "metadata": {
    "pycharm": {
     "name": "#%% md\n"
    }
   },
   "source": [
    "## Train"
   ]
  },
  {
   "cell_type": "code",
   "execution_count": null,
   "metadata": {
    "collapsed": false,
    "jupyter": {
     "outputs_hidden": false
    },
    "pycharm": {
     "name": "#%%\n"
    }
   },
   "outputs": [],
   "source": [
    "def train_sweep():\n",
    "    # wandb_run = wandb.init(project=f\"caueeg-{cfg_default['task']}\")\n",
    "    wandb_run = wandb.init()\n",
    "    wandb.run.name = wandb.run.id\n",
    "\n",
    "    with wandb_run:\n",
    "        # init hydra\n",
    "        with hydra.initialize(config_path='../config'):\n",
    "            add_configs = [f\"data={data_cfg_file}\", \n",
    "                           f\"model={wandb.config.model}\",\n",
    "                           f\"++train.device={device}\",]\n",
    "                           # f\"++train.total_samples=200\", f\"++train.search_lr=false\", f\"++train.num_history=1\"]  # for test\n",
    "\n",
    "            cfg = hydra.compose(config_name='default', overrides=add_configs)\n",
    "\n",
    "            cfg_default = {**OmegaConf.to_container(cfg.data), \n",
    "                           **OmegaConf.to_container(cfg.train),\n",
    "                           **OmegaConf.to_container(cfg.model)}\n",
    "            \n",
    "            check_device_env(cfg_default)\n",
    "            pprint.pprint(cfg_default)    \n",
    "\n",
    "        # load default configurations not selected by wandb.sweep\n",
    "        config = {}\n",
    "        for k, v in cfg_default.items():\n",
    "            if k not in [wandb_key.split('.')[-1] for wandb_key in wandb.config.keys()]:\n",
    "                config[k] = v\n",
    "\n",
    "        # load the selected configurations from wandb sweep with preventing callables from type-conversion to str\n",
    "        for k, v in wandb.config.items():\n",
    "            k = k.split('.')[-1]\n",
    "            if k not in config:\n",
    "                config[k] = v\n",
    "\n",
    "        # build the dataset and train the model\n",
    "        if config.get('ddp', False):\n",
    "            mp.spawn(prepare_and_run_train,\n",
    "                     args=(config['ddp_size'], config,),\n",
    "                     nprocs=config['ddp_size'],\n",
    "                     join=True)\n",
    "        else:\n",
    "            prepare_and_run_train(rank=None, world_size=None, config=config)"
   ]
  }
 ],
 "metadata": {
  "kernelspec": {
   "display_name": "Python 3 (ipykernel)",
   "language": "python",
   "name": "python3"
  },
  "language_info": {
   "codemirror_mode": {
    "name": "ipython",
    "version": 3
   },
   "file_extension": ".py",
   "mimetype": "text/x-python",
   "name": "python",
   "nbconvert_exporter": "python",
   "pygments_lexer": "ipython3",
   "version": "3.9.12"
  }
 },
 "nbformat": 4,
 "nbformat_minor": 4
}