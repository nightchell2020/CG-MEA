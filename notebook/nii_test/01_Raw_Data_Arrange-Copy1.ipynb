{
 "cells": [
  {
   "cell_type": "code",
   "execution_count": 1,
   "id": "19b4a9c6-c5c8-4312-945c-e6ca4616a768",
   "metadata": {
    "tags": []
   },
   "outputs": [
    {
     "name": "stdout",
     "output_type": "stream",
     "text": [
      "D:\\GitHub\\eeg_analysis\n"
     ]
    }
   ],
   "source": [
    "# for auto-reloading external modules\n",
    "# see http://stackoverflow.com/questions/1907993/autoreload-of-modules-in-ipython\n",
    "%load_ext autoreload\n",
    "%autoreload 2\n",
    "%cd ../.."
   ]
  },
  {
   "cell_type": "code",
   "execution_count": 2,
   "id": "8b0cae5a-d249-4a1f-987d-89796ecabfc4",
   "metadata": {
    "tags": []
   },
   "outputs": [],
   "source": [
    "import os\n",
    "import glob\n",
    "import json\n",
    "import dicom2nifti\n",
    "import nibabel as nib\n",
    "from tqdm.auto import tqdm\n",
    "from IPython import display\n",
    "from pprint import pprint\n",
    "import pandas as pd"
   ]
  },
  {
   "cell_type": "code",
   "execution_count": null,
   "id": "7ef912ab-7b80-4d56-9ab8-f58919dfdb29",
   "metadata": {
    "tags": []
   },
   "outputs": [],
   "source": [
    "base_list = glob.glob(r'H:\\Other_DB\\CAU_EEG\\230413_MRI_Integration\\*.nii')\n",
    "base_dict = {os.path.basename(base): (False, None) for base in base_list}\n",
    "\n",
    "\n",
    "for path in tqdm(glob.glob(r'H:\\Other_DB\\CAU_EEG\\230531_MRI_CAT12_deface\\*.nii'), leave=False):\n",
    "    file_name = os.path.basename(path).strip('anon_')\n",
    "\n",
    "    proxy = nib.load(path)\n",
    "    img = proxy.get_fdata()\n",
    "    base_dict[file_name] = (True, img.shape)"
   ]
  },
  {
   "cell_type": "code",
   "execution_count": null,
   "id": "01894da0-0b73-4098-b61f-9ad0b07db149",
   "metadata": {},
   "outputs": [],
   "source": [
    "# pprint(base_dict)"
   ]
  },
  {
   "cell_type": "code",
   "execution_count": null,
   "id": "f3c2af3c-5df7-4eb8-8a3b-7f1251d316dd",
   "metadata": {},
   "outputs": [],
   "source": [
    "# Writing to sample.json\n",
    "with open(r\"C:\\Users\\Minjae\\Desktop\\cat12_summary.json\", \"w\") as file:\n",
    "    file.write(json.dumps(base_dict, indent=4))"
   ]
  },
  {
   "cell_type": "code",
   "execution_count": null,
   "id": "33d64244-42da-4b2d-b9d4-bc09d6506b0c",
   "metadata": {},
   "outputs": [],
   "source": []
  },
  {
   "cell_type": "code",
   "execution_count": null,
   "id": "4d51434c-2c17-400d-8a9c-118f86cf2f6d",
   "metadata": {},
   "outputs": [],
   "source": []
  },
  {
   "cell_type": "code",
   "execution_count": null,
   "id": "4b84e252-d15e-43e9-a7b0-71d3ca1f41a4",
   "metadata": {},
   "outputs": [],
   "source": []
  },
  {
   "cell_type": "code",
   "execution_count": null,
   "id": "78126f6e-fe0c-411e-951f-1ecf6206c428",
   "metadata": {},
   "outputs": [],
   "source": []
  },
  {
   "cell_type": "code",
   "execution_count": null,
   "id": "2e4714e2-db41-4b9b-b39b-0503f9b662ef",
   "metadata": {},
   "outputs": [],
   "source": []
  },
  {
   "cell_type": "code",
   "execution_count": null,
   "id": "44ece046-1a1c-473c-8854-e87400e948c1",
   "metadata": {},
   "outputs": [],
   "source": []
  },
  {
   "cell_type": "code",
   "execution_count": 3,
   "id": "4c7bd1e6-91bf-44cf-bb91-63d8423ca29f",
   "metadata": {},
   "outputs": [],
   "source": [
    "# mri data subjects\n",
    "mri_set = set(\n",
    "    [\n",
    "        os.path.basename(fname).strip(\".nii\").split(\"_\")[0]\n",
    "        for fname in glob.glob(r\"H:\\Other_DB\\CAU_EEG\\230413_MRI_Integration\\*.nii\")\n",
    "    ]\n",
    ")\n",
    "\n",
    "mri_deface_set = set(\n",
    "    [\n",
    "        os.path.basename(fname).strip(\"anon_\").strip(\".nii\").split(\"_\")[0]\n",
    "        for fname in glob.glob(r\"H:\\Other_DB\\CAU_EEG\\230531_MRI_CAT12_deface\\*.nii\")\n",
    "    ]\n",
    ")\n",
    "\n",
    "# edf data subjects\n",
    "with open(r\"H:\\Other_DB\\CAU_EEG\\201020\\annotation_debug.json\", 'r') as json_file:\n",
    "    edf_dict = json.load(json_file)\n",
    "\n",
    "caueeg_set = set()\n",
    "for data in edf_dict['data']:\n",
    "    caueeg_set.add(data['edfname'].split('_')[0])"
   ]
  },
  {
   "cell_type": "code",
   "execution_count": 4,
   "id": "04ff0031-a1fa-406d-9e94-d801c6ac4a72",
   "metadata": {},
   "outputs": [
    {
     "name": "stdout",
     "output_type": "stream",
     "text": [
      "1155\n",
      "1827\n",
      "1392\n"
     ]
    }
   ],
   "source": [
    "print(len(caueeg_set))\n",
    "print(len(mri_set))\n",
    "print(len(mri_deface_set))"
   ]
  },
  {
   "cell_type": "code",
   "execution_count": 5,
   "id": "390cecaf-0768-4aa2-ae01-55a0fb25a31a",
   "metadata": {},
   "outputs": [
    {
     "name": "stdout",
     "output_type": "stream",
     "text": [
      "set1 555\n",
      "set2 266\n",
      "set3 4\n",
      "set4 175\n",
      "set5 2\n",
      "set6 963\n",
      "set7 423\n"
     ]
    }
   ],
   "source": [
    "set1 = caueeg_set - mri_set - mri_deface_set\n",
    "set2 = mri_set - caueeg_set - mri_deface_set\n",
    "set3 = mri_deface_set - caueeg_set - mri_set\n",
    "\n",
    "set4 = (caueeg_set & mri_set) - mri_deface_set\n",
    "set5 = (caueeg_set & mri_deface_set) - mri_set\n",
    "set6 = (mri_set & mri_deface_set) - caueeg_set\n",
    "\n",
    "set7 = caueeg_set & mri_set & mri_deface_set\n",
    "\n",
    "print('set1', len(set1))\n",
    "print('set2', len(set2))\n",
    "print('set3', len(set3))\n",
    "print('set4', len(set4))\n",
    "print('set5', len(set5))\n",
    "print('set6', len(set6))\n",
    "print('set7', len(set7))"
   ]
  },
  {
   "cell_type": "code",
   "execution_count": 12,
   "id": "550f2548-b338-4801-a60e-006f921bcc68",
   "metadata": {},
   "outputs": [],
   "source": [
    "max_size = max([len(set1), len(set2), len(set3), len(set4), len(set5), len(set6), len(set7)])\n",
    "\n",
    "table = {}\n",
    "table['[1]'] = sorted(list(set1)) + [\"\" for i in range(max_size - len(set1))]\n",
    "table['[2]'] = sorted(list(set2)) + [\"\" for i in range(max_size - len(set2))]\n",
    "table['[3]'] = sorted(list(set3)) + [\"\" for i in range(max_size - len(set3))]\n",
    "table['[4]'] = sorted(list(set4)) + [\"\" for i in range(max_size - len(set4))]\n",
    "table['[5]'] = sorted(list(set5)) + [\"\" for i in range(max_size - len(set5))]\n",
    "table['[6]'] = sorted(list(set6)) + [\"\" for i in range(max_size - len(set6))]\n",
    "table['[7]'] = sorted(list(set7)) + [\"\" for i in range(max_size - len(set7))]"
   ]
  },
  {
   "cell_type": "code",
   "execution_count": 13,
   "id": "0104b265-8b51-4b86-bb30-f67f209f067f",
   "metadata": {},
   "outputs": [
    {
     "data": {
      "text/html": [
       "<div>\n",
       "<style scoped>\n",
       "    .dataframe tbody tr th:only-of-type {\n",
       "        vertical-align: middle;\n",
       "    }\n",
       "\n",
       "    .dataframe tbody tr th {\n",
       "        vertical-align: top;\n",
       "    }\n",
       "\n",
       "    .dataframe thead th {\n",
       "        text-align: right;\n",
       "    }\n",
       "</style>\n",
       "<table border=\"1\" class=\"dataframe\">\n",
       "  <thead>\n",
       "    <tr style=\"text-align: right;\">\n",
       "      <th></th>\n",
       "      <th>[1]</th>\n",
       "      <th>[2]</th>\n",
       "      <th>[3]</th>\n",
       "      <th>[4]</th>\n",
       "      <th>[5]</th>\n",
       "      <th>[6]</th>\n",
       "      <th>[7]</th>\n",
       "    </tr>\n",
       "  </thead>\n",
       "  <tbody>\n",
       "    <tr>\n",
       "      <th>0</th>\n",
       "      <td>00047327</td>\n",
       "      <td>00773096</td>\n",
       "      <td>00725118</td>\n",
       "      <td>00675516</td>\n",
       "      <td>00344923</td>\n",
       "      <td>00000381</td>\n",
       "      <td>00001809</td>\n",
       "    </tr>\n",
       "    <tr>\n",
       "      <th>1</th>\n",
       "      <td>00062072</td>\n",
       "      <td>01174160</td>\n",
       "      <td>00743633</td>\n",
       "      <td>01174162</td>\n",
       "      <td>00400036</td>\n",
       "      <td>00000476</td>\n",
       "      <td>00029426</td>\n",
       "    </tr>\n",
       "    <tr>\n",
       "      <th>2</th>\n",
       "      <td>00088513</td>\n",
       "      <td>01174818</td>\n",
       "      <td>01003172</td>\n",
       "      <td>01174216</td>\n",
       "      <td></td>\n",
       "      <td>00000613</td>\n",
       "      <td>00048377</td>\n",
       "    </tr>\n",
       "    <tr>\n",
       "      <th>3</th>\n",
       "      <td>00110793</td>\n",
       "      <td>01177737</td>\n",
       "      <td>01008957</td>\n",
       "      <td>01174220</td>\n",
       "      <td></td>\n",
       "      <td>00000996</td>\n",
       "      <td>00050941</td>\n",
       "    </tr>\n",
       "    <tr>\n",
       "      <th>4</th>\n",
       "      <td>00115426</td>\n",
       "      <td>01179889</td>\n",
       "      <td></td>\n",
       "      <td>01178688</td>\n",
       "      <td></td>\n",
       "      <td>00001233</td>\n",
       "      <td>00055757</td>\n",
       "    </tr>\n",
       "    <tr>\n",
       "      <th>...</th>\n",
       "      <td>...</td>\n",
       "      <td>...</td>\n",
       "      <td>...</td>\n",
       "      <td>...</td>\n",
       "      <td>...</td>\n",
       "      <td>...</td>\n",
       "      <td>...</td>\n",
       "    </tr>\n",
       "    <tr>\n",
       "      <th>958</th>\n",
       "      <td></td>\n",
       "      <td></td>\n",
       "      <td></td>\n",
       "      <td></td>\n",
       "      <td></td>\n",
       "      <td>01168356</td>\n",
       "      <td></td>\n",
       "    </tr>\n",
       "    <tr>\n",
       "      <th>959</th>\n",
       "      <td></td>\n",
       "      <td></td>\n",
       "      <td></td>\n",
       "      <td></td>\n",
       "      <td></td>\n",
       "      <td>01171046</td>\n",
       "      <td></td>\n",
       "    </tr>\n",
       "    <tr>\n",
       "      <th>960</th>\n",
       "      <td></td>\n",
       "      <td></td>\n",
       "      <td></td>\n",
       "      <td></td>\n",
       "      <td></td>\n",
       "      <td>01171567</td>\n",
       "      <td></td>\n",
       "    </tr>\n",
       "    <tr>\n",
       "      <th>961</th>\n",
       "      <td></td>\n",
       "      <td></td>\n",
       "      <td></td>\n",
       "      <td></td>\n",
       "      <td></td>\n",
       "      <td>01172155</td>\n",
       "      <td></td>\n",
       "    </tr>\n",
       "    <tr>\n",
       "      <th>962</th>\n",
       "      <td></td>\n",
       "      <td></td>\n",
       "      <td></td>\n",
       "      <td></td>\n",
       "      <td></td>\n",
       "      <td>None</td>\n",
       "      <td></td>\n",
       "    </tr>\n",
       "  </tbody>\n",
       "</table>\n",
       "<p>963 rows × 7 columns</p>\n",
       "</div>"
      ],
      "text/plain": [
       "          [1]       [2]       [3]       [4]       [5]       [6]       [7]\n",
       "0    00047327  00773096  00725118  00675516  00344923  00000381  00001809\n",
       "1    00062072  01174160  00743633  01174162  00400036  00000476  00029426\n",
       "2    00088513  01174818  01003172  01174216            00000613  00048377\n",
       "3    00110793  01177737  01008957  01174220            00000996  00050941\n",
       "4    00115426  01179889            01178688            00001233  00055757\n",
       "..        ...       ...       ...       ...       ...       ...       ...\n",
       "958                                                    01168356          \n",
       "959                                                    01171046          \n",
       "960                                                    01171567          \n",
       "961                                                    01172155          \n",
       "962                                                        None          \n",
       "\n",
       "[963 rows x 7 columns]"
      ]
     },
     "execution_count": 13,
     "metadata": {},
     "output_type": "execute_result"
    }
   ],
   "source": [
    "pd.DataFrame(table).to_csv(f'local/output/table.csv')\n",
    "pd.DataFrame(table).to_excel(f'local/output/table.xlsx')\n",
    "pd.DataFrame(table)"
   ]
  },
  {
   "cell_type": "code",
   "execution_count": null,
   "id": "84332006-1773-4e1d-b584-a001cc9e14d1",
   "metadata": {},
   "outputs": [],
   "source": []
  }
 ],
 "metadata": {
  "kernelspec": {
   "display_name": "Python 3 (ipykernel)",
   "language": "python",
   "name": "python3"
  },
  "language_info": {
   "codemirror_mode": {
    "name": "ipython",
    "version": 3
   },
   "file_extension": ".py",
   "mimetype": "text/x-python",
   "name": "python",
   "nbconvert_exporter": "python",
   "pygments_lexer": "ipython3",
   "version": "3.9.12"
  }
 },
 "nbformat": 4,
 "nbformat_minor": 5
}
