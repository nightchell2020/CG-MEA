{
 "cells": [
  {
   "cell_type": "code",
   "execution_count": null,
   "id": "19b4a9c6-c5c8-4312-945c-e6ca4616a768",
   "metadata": {
    "tags": []
   },
   "outputs": [],
   "source": [
    "# for auto-reloading external modules\n",
    "# see http://stackoverflow.com/questions/1907993/autoreload-of-modules-in-ipython\n",
    "%load_ext autoreload\n",
    "%autoreload 2\n",
    "%cd ..."
   ]
  },
  {
   "cell_type": "code",
   "execution_count": null,
   "id": "78b0397e-ec8e-4112-bdaa-e0ed74d775bd",
   "metadata": {
    "tags": []
   },
   "outputs": [],
   "source": [
    "# Other settings\n",
    "import matplotlib.pyplot as plt\n",
    "import matplotlib.animation as animation\n",
    "\n",
    "%matplotlib inline\n",
    "%config InlineBackend.figure_format = 'retina' # cleaner text\n",
    "\n",
    "plt.style.use('default') \n",
    "# ['Solarize_Light2', '_classic_test_patch', 'bmh', 'classic', 'dark_background', 'fast', \n",
    "#  'fivethirtyeight', 'ggplot', 'grayscale', 'seaborn', 'seaborn-bright', 'seaborn-colorblind', \n",
    "#  'seaborn-dark', 'seaborn-dark-palette', 'seaborn-darkgrid', 'seaborn-deep', 'seaborn-muted', \n",
    "#  'seaborn-notebook', 'seaborn-paper', 'seaborn-pastel', 'seaborn-poster', 'seaborn-talk', \n",
    "#  'seaborn-ticks', 'seaborn-white', 'seaborn-whitegrid', 'tableau-colorblind10']\n",
    "\n",
    "plt.rcParams['image.interpolation'] = 'bicubic'\n",
    "plt.rcParams[\"font.family\"] = 'Arial' # 'NanumGothic' # for Hangul in Windows\n",
    "plt.rcParams[\"animation.html\"] = \"jshtml\"\n",
    "plt.rcParams['animation.ffmpeg_path'] = 'c:/ffmpeg/bin/ffmpeg.exe'"
   ]
  },
  {
   "cell_type": "code",
   "execution_count": null,
   "id": "8b0cae5a-d249-4a1f-987d-89796ecabfc4",
   "metadata": {
    "tags": []
   },
   "outputs": [],
   "source": [
    "import os\n",
    "import glob\n",
    "import dicom2nifti\n",
    "import nibabel as nib\n",
    "from tqdm.auto import tqdm\n",
    "from IPython import display\n",
    "\n",
    "save_ani = True\n",
    "\n",
    "for path in tqdm(glob.glob(r'C:\\Users\\Minjae\\Desktop\\추가dicom\\*/')):\n",
    "    source_dir = path\n",
    "    target_dir = os.path.join(source_dir, 'cvt')\n",
    "    os.makedirs(target_dir, exist_ok=True)\n",
    "    dicom2nifti.convert_directory(source_dir, target_dir, compression=False, reorient=True)\n",
    "    \n",
    "    if save_ani:\n",
    "        for file_name in glob.glob(os.path.join(target_dir, '*.nii')):\n",
    "            proxy = nib.load(file_name)\n",
    "            img = proxy.get_fdata()\n",
    "\n",
    "            fig, ax = plt.subplots()\n",
    "            ax.set_yticklabels([])\n",
    "            ax.set_xticklabels([])\n",
    "            ax.set_title(f\"{file_name}: {img.shape}\")\n",
    "            plt.tight_layout()\n",
    "\n",
    "            ani_imgs = [[ax.imshow(img[..., i], animated=True)] for i in range(img.shape[-1])]\n",
    "            ani = animation.ArtistAnimation(fig, ani_imgs, interval=50, blit=True, repeat_delay=1000)\n",
    "\n",
    "            # html = display.HTML(ani.to_html5_video())\n",
    "            # display.display(html)\n",
    "            ani.save(file_name.split('.')[0] + '.mp4')\n",
    "            plt.close()"
   ]
  },
  {
   "cell_type": "code",
   "execution_count": null,
   "id": "7ef912ab-7b80-4d56-9ab8-f58919dfdb29",
   "metadata": {
    "tags": []
   },
   "outputs": [],
   "source": []
  },
  {
   "cell_type": "code",
   "execution_count": null,
   "id": "3d1ba9a8-95ec-4138-b42a-0cc43453d637",
   "metadata": {},
   "outputs": [],
   "source": []
  },
  {
   "cell_type": "code",
   "execution_count": null,
   "id": "9dd08e3e-e19b-4a5f-90c2-9d3b0a517e5a",
   "metadata": {},
   "outputs": [],
   "source": []
  },
  {
   "cell_type": "code",
   "execution_count": null,
   "id": "69ae8a37-c94f-4331-a3f7-536f9941b4a4",
   "metadata": {},
   "outputs": [],
   "source": []
  },
  {
   "cell_type": "code",
   "execution_count": null,
   "id": "36e80cf8-21ad-4719-bd86-3b90ee2216d3",
   "metadata": {
    "tags": []
   },
   "outputs": [],
   "source": [
    "import mne\n",
    "mne.io.read_raw(r'C:\\Users\\Minjae\\Desktop\\추가eeg\\15\\TMSP0001.REF')"
   ]
  },
  {
   "cell_type": "code",
   "execution_count": null,
   "id": "c3d65acd-1fba-43eb-9fe0-3cd3df006f28",
   "metadata": {},
   "outputs": [],
   "source": []
  },
  {
   "cell_type": "code",
   "execution_count": null,
   "id": "5cfbc8bb-d483-4a99-92fb-03e5498b7567",
   "metadata": {},
   "outputs": [],
   "source": []
  },
  {
   "cell_type": "code",
   "execution_count": null,
   "id": "c853cc15-b787-4e47-ae68-c5f0e03d4536",
   "metadata": {
    "tags": []
   },
   "outputs": [],
   "source": [
    "from wonambi import Dataset\n",
    "import pprint\n",
    "\n",
    "d = Dataset(r'C:\\Users\\Minjae\\Desktop\\추가eeg\\15')\n",
    "markers = d.read_markers()  # it reads the nev file if present\n",
    "# pprint.pprint(markers)\n",
    "data = d.read_data(begtime=10, endtime=30)"
   ]
  },
  {
   "cell_type": "code",
   "execution_count": null,
   "id": "d4543ef4-2daf-4f75-9f6c-ca72293bec8c",
   "metadata": {
    "tags": []
   },
   "outputs": [],
   "source": [
    "data.__dict__"
   ]
  },
  {
   "cell_type": "code",
   "execution_count": null,
   "id": "2cc2a994-9ca9-4581-8864-2412685e6851",
   "metadata": {},
   "outputs": [],
   "source": []
  }
 ],
 "metadata": {
  "kernelspec": {
   "display_name": "Python 3 (ipykernel)",
   "language": "python",
   "name": "python3"
  },
  "language_info": {
   "codemirror_mode": {
    "name": "ipython",
    "version": 3
   },
   "file_extension": ".py",
   "mimetype": "text/x-python",
   "name": "python",
   "nbconvert_exporter": "python",
   "pygments_lexer": "ipython3",
   "version": "3.9.12"
  }
 },
 "nbformat": 4,
 "nbformat_minor": 5
}
