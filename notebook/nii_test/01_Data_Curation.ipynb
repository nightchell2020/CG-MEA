{
 "cells": [
  {
   "cell_type": "code",
   "execution_count": 1,
   "id": "abd12db6-d611-431f-b0e3-d6cfa7a1b0e6",
   "metadata": {},
   "outputs": [
    {
     "name": "stdout",
     "output_type": "stream",
     "text": [
      "C:\\Users\\Minjae\\Desktop\\EEG_Project\\notebook\\nii_test\n"
     ]
    }
   ],
   "source": [
    "# for auto-reloading external modules\n",
    "# see http://stackoverflow.com/questions/1907993/autoreload-of-modules-in-ipython\n",
    "%load_ext autoreload\n",
    "%autoreload 2\n",
    "%cd ..."
   ]
  },
  {
   "cell_type": "markdown",
   "id": "ae34acf4-2cf3-4047-8807-02d13b878cd1",
   "metadata": {},
   "source": [
    "-----\n",
    "\n",
    "## 환경 구성"
   ]
  },
  {
   "cell_type": "code",
   "execution_count": 2,
   "id": "2dfd0a1e-6ba2-44ff-ab4a-8973a6c31086",
   "metadata": {},
   "outputs": [],
   "source": [
    "# Load some packages\n",
    "import os\n",
    "import re\n",
    "import copy\n",
    "import glob\n",
    "import json\n",
    "import shutil\n",
    "import pprint\n",
    "import datetime\n",
    "from tqdm.auto import tqdm\n",
    "import matplotlib.pyplot as plt\n",
    "import matplotlib.animation as animation\n",
    "from IPython import display\n",
    "\n",
    "import nibabel as nib"
   ]
  },
  {
   "cell_type": "code",
   "execution_count": 3,
   "id": "52aa2565-e14a-4f89-8ac1-7f3fb64e190b",
   "metadata": {},
   "outputs": [],
   "source": [
    "# Other settings\n",
    "%matplotlib inline\n",
    "%config InlineBackend.figure_format = 'retina' # cleaner text\n",
    "\n",
    "plt.style.use('default') \n",
    "# ['Solarize_Light2', '_classic_test_patch', 'bmh', 'classic', 'dark_background', 'fast', \n",
    "#  'fivethirtyeight', 'ggplot', 'grayscale', 'seaborn', 'seaborn-bright', 'seaborn-colorblind', \n",
    "#  'seaborn-dark', 'seaborn-dark-palette', 'seaborn-darkgrid', 'seaborn-deep', 'seaborn-muted', \n",
    "#  'seaborn-notebook', 'seaborn-paper', 'seaborn-pastel', 'seaborn-poster', 'seaborn-talk', \n",
    "#  'seaborn-ticks', 'seaborn-white', 'seaborn-whitegrid', 'tableau-colorblind10']\n",
    "\n",
    "plt.rcParams['image.interpolation'] = 'bicubic'\n",
    "plt.rcParams[\"font.family\"] = 'Arial' # 'NanumGothic' # for Hangul in Windows\n",
    "plt.rcParams[\"animation.html\"] = \"jshtml\"\n",
    "plt.rcParams['animation.ffmpeg_path'] = 'c:/ffmpeg/bin/ffmpeg.exe'"
   ]
  },
  {
   "cell_type": "markdown",
   "id": "548c3cb5-c6bf-4a76-8b49-8b5738681e82",
   "metadata": {},
   "source": [
    "-----\n",
    "\n",
    "## 파일 구조 파악"
   ]
  },
  {
   "cell_type": "code",
   "execution_count": null,
   "id": "3765e950-6ea5-4212-b8a9-054fab1b2da6",
   "metadata": {},
   "outputs": [],
   "source": [
    "folder_path1 = r'H:\\Other_DB\\CAU_EEG\\230314_nii_file'\n",
    "folder_path2 = r'H:\\Other_DB\\CAU_EEG\\230315_MRI_3DT1'\n",
    "\n",
    "file_dict = {}\n",
    "\n",
    "for file_path in glob.glob(os.path.join(folder_path1, '*.nii')) + glob.glob(os.path.join(folder_path2, '*.nii')):\n",
    "    file_name = os.path.basename(file_path)\n",
    "\n",
    "    subject_id = None\n",
    "    for chunk in re.split('[-_.() ]', file_name):\n",
    "        if chunk.isnumeric() and len(chunk) >= 5:\n",
    "            subject_id = chunk\n",
    "            break\n",
    "    \n",
    "    if subject_id is not None:\n",
    "        subject_id = subject_id[:8]\n",
    "        subject_id = '0' * (8 - len(subject_id)) + subject_id\n",
    "    \n",
    "    if subject_id in file_dict:\n",
    "        file_dict[subject_id].append(file_path)\n",
    "    else:\n",
    "        file_dict[subject_id] = [file_path]\n",
    "\n",
    "for file_path in glob.glob(os.path.join(folder_path2, '*/*.nii')):\n",
    "    subject_id = os.path.dirname(file_path)\n",
    "    \n",
    "    if subject_id in file_dict:\n",
    "        file_dict[subject_id].append(file_path)\n",
    "    else:\n",
    "        file_dict[subject_id] = [file_path]\n",
    "        \n",
    "# pprint.pprint(file_dict)"
   ]
  },
  {
   "cell_type": "markdown",
   "id": "0f8997eb-0ffa-464d-818f-fc563d6bb910",
   "metadata": {},
   "source": [
    "### 파일 중복 검사"
   ]
  },
  {
   "cell_type": "code",
   "execution_count": null,
   "id": "3770c205-3e61-4632-8119-c9a467402788",
   "metadata": {},
   "outputs": [],
   "source": [
    "duplication = {subject_id: [] for subject_id in file_dict.keys()}\n",
    "\n",
    "for subject_id, file_path_list in tqdm(file_dict.items()):\n",
    "    checker = [False] * len(file_path_list)\n",
    "    \n",
    "    for i, file_path in enumerate(file_path_list):\n",
    "        if checker[i]:\n",
    "            continue\n",
    "        current_set = set([file_path])\n",
    "        checker[i] = True\n",
    "        \n",
    "        pivot = nib.load(file_path).get_fdata()\n",
    "        for k in range(i + 1, len(file_path_list)):\n",
    "            if checker[k]:\n",
    "                continue\n",
    "            latter = nib.load(file_path_list[k]).get_fdata()                \n",
    "            if pivot.shape == latter.shape and (pivot == latter).all():\n",
    "                current_set.add(file_path_list[k])\n",
    "                checker[k] = True\n",
    "        duplication[subject_id].append(current_set)"
   ]
  },
  {
   "cell_type": "markdown",
   "id": "90ae4184-2817-4c10-acb6-a25a07de6d63",
   "metadata": {},
   "source": [
    "### 파일 통합 (가장 긴 이름으로)"
   ]
  },
  {
   "cell_type": "code",
   "execution_count": null,
   "id": "baf7b7f8-176a-44f6-bcbf-c48ac762d322",
   "metadata": {
    "tags": []
   },
   "outputs": [],
   "source": [
    "# target_folder = r\"H:\\Other_DB\\CAU_EEG\\230403_MRI_Integration\"\n",
    "# for dup_list in tqdm(duplication.values()):\n",
    "#     for dup_set in dup_list:\n",
    "#         longest_name = ''\n",
    "#         longest_path = ''\n",
    "#         for file_path in dup_set:\n",
    "#             file_name = os.path.basename(file_path)\n",
    "#             if len(longest_name) < len(file_name):\n",
    "#                 longest_name = file_name\n",
    "#                 longest_path = file_path\n",
    "#         shutil.copy2(longest_path, os.path.join(target_folder, longest_name))"
   ]
  },
  {
   "cell_type": "markdown",
   "id": "e0be8152-99c1-4242-89e2-317bbabdda0f",
   "metadata": {},
   "source": [
    "### 파일 통합 (환자명으로, 기존 파일들 JSON으로 저장)"
   ]
  },
  {
   "cell_type": "code",
   "execution_count": null,
   "id": "b2a9b2a5-5469-40d9-a1f4-5e026e7865f0",
   "metadata": {
    "tags": []
   },
   "outputs": [],
   "source": [
    "history_dict = {}\n",
    "target_folder = r\"H:\\Other_DB\\CAU_EEG\\230403_MRI_Integration\"\n",
    "for subject_id, dup_list in tqdm(duplication.items()):\n",
    "    for i, dup_set in enumerate(dup_list):\n",
    "        new_name = f\"{subject_id}_{i:02d}\"\n",
    "        shutil.copy2([*dup_set][0], os.path.join(target_folder, new_name + '.nii'))        \n",
    "        history_dict[new_name] = [*dup_set]\n",
    "        \n",
    "# events\n",
    "with open(os.path.join(target_folder, 'file_history') + '.json', 'w') as json_file:\n",
    "    json.dump(history_dict, json_file, indent=4)"
   ]
  },
  {
   "cell_type": "code",
   "execution_count": 17,
   "id": "5006e0a3-d3fa-4aac-aa93-2c6978a1c0a0",
   "metadata": {},
   "outputs": [],
   "source": [
    "# mri data subjects\n",
    "with open(r\"H:\\Other_DB\\CAU_EEG\\230403_MRI_Integration\\file_history.json\", 'r') as json_file:\n",
    "    mri_dict = json.load(json_file)\n",
    "    \n",
    "mri_subject_set = set()\n",
    "for subject_id, file_list in mri_dict.items():\n",
    "    mri_subject_set.add(subject_id.split('_')[0])\n",
    "\n",
    "# edf data subjects\n",
    "with open(r\"H:\\Other_DB\\CAU_EEG\\201020\\annotation_debug.json\", 'r') as json_file:\n",
    "    edf_dict = json.load(json_file)\n",
    "\n",
    "edf_subject_set = set()\n",
    "for data in edf_dict['data']:\n",
    "    edf_subject_set.add(data['edfname'].split('_')[0])"
   ]
  },
  {
   "cell_type": "code",
   "execution_count": 23,
   "id": "7ec06847-8bc1-4d35-8339-adf9e07ebdf2",
   "metadata": {
    "tags": []
   },
   "outputs": [
    {
     "name": "stdout",
     "output_type": "stream",
     "text": [
      "1155\n",
      "1827\n",
      "1155\n",
      "3024\n",
      "1379\n"
     ]
    }
   ],
   "source": [
    "print(len(mri_subject_set and edf_subject_set))\n",
    "print(len(mri_subject_set))\n",
    "print(len(edf_subject_set))\n",
    "print(len(mri_dict))\n",
    "print(len(edf_dict['data']))"
   ]
  },
  {
   "cell_type": "code",
   "execution_count": null,
   "id": "c8956b50-0496-49fb-8fe1-9174cc6f0542",
   "metadata": {},
   "outputs": [],
   "source": []
  }
 ],
 "metadata": {
  "kernelspec": {
   "display_name": "Python 3 (ipykernel)",
   "language": "python",
   "name": "python3"
  },
  "language_info": {
   "codemirror_mode": {
    "name": "ipython",
    "version": 3
   },
   "file_extension": ".py",
   "mimetype": "text/x-python",
   "name": "python",
   "nbconvert_exporter": "python",
   "pygments_lexer": "ipython3",
   "version": "3.9.12"
  }
 },
 "nbformat": 4,
 "nbformat_minor": 5
}
