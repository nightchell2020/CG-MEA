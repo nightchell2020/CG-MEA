{
 "cells": [
  {
   "cell_type": "code",
   "execution_count": 1,
   "id": "122e41f9-4874-4f93-beb8-0b12c867700c",
   "metadata": {},
   "outputs": [
    {
     "name": "stdout",
     "output_type": "stream",
     "text": [
      "C:\\Users\\Minjae\\Desktop\\EEG_Project\n"
     ]
    }
   ],
   "source": [
    "# for auto-reloading external modules\n",
    "# see http://stackoverflow.com/questions/1907993/autoreload-of-modules-in-ipython\n",
    "%load_ext autoreload\n",
    "%autoreload 2\n",
    "%cd .."
   ]
  },
  {
   "cell_type": "code",
   "execution_count": 2,
   "id": "135e18fa-755e-4a52-a0ba-5dfd0f93ba7a",
   "metadata": {},
   "outputs": [],
   "source": [
    "import json\n",
    "import shutil"
   ]
  },
  {
   "cell_type": "code",
   "execution_count": 3,
   "id": "7f697282-8d55-41ff-840e-870e3405e512",
   "metadata": {},
   "outputs": [],
   "source": [
    "with open('./local/dataset/caueeg-dataset/abnormal.json') as fp:\n",
    "    a = json.load(fp)\n",
    "    \n",
    "for data in a['train_split']:\n",
    "    src = f\"./local/dataset/caueeg-dataset/signal/edf/{data['serial']}.edf\"\n",
    "    dst = f\"./local/dataset/ica-purpose/abnormal-train/{data['serial']}.edf\"\n",
    "    \n",
    "    shutil.copyfile(src, dst)"
   ]
  },
  {
   "cell_type": "code",
   "execution_count": 4,
   "id": "6dcf5475-ba7e-4516-b8a8-9f743255a177",
   "metadata": {},
   "outputs": [],
   "source": [
    "with open('./local/dataset/caueeg-dataset/dementia.json') as fp:\n",
    "    a = json.load(fp)\n",
    "    \n",
    "for data in a['train_split']:\n",
    "    src = f\"./local/dataset/caueeg-dataset/signal/edf/{data['serial']}.edf\"\n",
    "    dst = f\"./local/dataset/ica-purpose/dementia-train/{data['serial']}.edf\"\n",
    "    \n",
    "    shutil.copyfile(src, dst)"
   ]
  },
  {
   "cell_type": "code",
   "execution_count": null,
   "id": "3c01f9d9-3cf9-4dc2-94c4-88bd6b2c4a83",
   "metadata": {},
   "outputs": [],
   "source": [
    "import pyedflib\n",
    "import glob"
   ]
  },
  {
   "cell_type": "code",
   "execution_count": null,
   "id": "29840fd0-3267-415f-ac24-a64d510ba453",
   "metadata": {},
   "outputs": [],
   "source": [
    "for edf_file in glob.glob(f\"./local/dataset/ica-purpose/dementia-train/*.edf\"):\n",
    "    signals, signal_headers, edf_header = pyedflib.highlevel.read_edf(edf_file)\n",
    "    \n",
    "    print(signals.shape)\n",
    "    \n",
    "#     signals = signals[:-2]\n",
    "#     signal_headers = signal_headers[:-2]\n",
    "    \n",
    "#     for sig_head in signal_headers:\n",
    "#         sig_head['label'] = sig_head['label'].split('-')[0]\n",
    "#         sig_head['label'] = sig_head['label'].replace('Z', 'z')\n",
    "            \n",
    "#     pyedflib.highlevel.write_edf(edf_file, signals, signal_headers, edf_header)"
   ]
  },
  {
   "cell_type": "code",
   "execution_count": null,
   "id": "8c4b4e7d-bc67-4591-b03e-23bc7945d5ab",
   "metadata": {},
   "outputs": [],
   "source": [
    "for edf_file in glob.glob(f\"./local/dataset/ica-purpose/abnormal-train/*.edf\"):\n",
    "    signals, signal_headers, edf_header = pyedflib.highlevel.read_edf(edf_file)\n",
    "    \n",
    "    print(signals.shape)\n",
    "\n",
    "#     signals = signals[:-2]\n",
    "#     signal_headers = signal_headers[:-2]\n",
    "    \n",
    "#     for sig_head in signal_headers:\n",
    "#         sig_head['label'] = sig_head['label'].split('-')[0]\n",
    "#         sig_head['label'] = sig_head['label'].replace('Z', 'z')\n",
    "            \n",
    "#     pyedflib.highlevel.write_edf(edf_file, signals, signal_headers, edf_header)"
   ]
  },
  {
   "cell_type": "code",
   "execution_count": null,
   "id": "b8791382-b057-4647-947e-8d1212c5c5e1",
   "metadata": {},
   "outputs": [],
   "source": [
    "print(signals.shape)\n",
    "print(len(signal_headers))\n",
    "print(edf_header)"
   ]
  },
  {
   "cell_type": "code",
   "execution_count": null,
   "id": "e434a5f4-538e-421f-837d-51ce3d3fbfd1",
   "metadata": {},
   "outputs": [],
   "source": []
  },
  {
   "cell_type": "code",
   "execution_count": null,
   "id": "ffb72dfd-61d2-438b-9c2e-53a45a017067",
   "metadata": {},
   "outputs": [],
   "source": []
  },
  {
   "cell_type": "code",
   "execution_count": null,
   "id": "93fb2b28-fa15-41eb-9dd9-11a3e56a5da0",
   "metadata": {},
   "outputs": [],
   "source": []
  },
  {
   "cell_type": "code",
   "execution_count": 8,
   "id": "b0eae451-8a3d-4a1f-9b56-5c8a16480882",
   "metadata": {},
   "outputs": [],
   "source": [
    "import numpy as np"
   ]
  },
  {
   "cell_type": "code",
   "execution_count": 12,
   "id": "b82e4b26-2dc3-408e-a621-151743f39a71",
   "metadata": {},
   "outputs": [
    {
     "data": {
      "text/plain": [
       "array([ True,  True,  True,  True,  True,  True,  True,  True,  True,\n",
       "        True,  True,  True,  True,  True,  True,  True,  True,  True,\n",
       "        True,  True,  True,  True,  True,  True,  True,  True,  True,\n",
       "        True,  True,  True,  True,  True,  True,  True,  True,  True,\n",
       "        True,  True,  True,  True,  True,  True,  True,  True,  True,\n",
       "        True,  True,  True,  True,  True,  True,  True,  True,  True,\n",
       "        True,  True,  True,  True,  True,  True,  True,  True,  True,\n",
       "        True,  True,  True,  True,  True,  True,  True,  True,  True,\n",
       "        True,  True,  True,  True,  True,  True,  True,  True,  True,\n",
       "        True,  True,  True,  True,  True,  True,  True,  True,  True,\n",
       "        True,  True,  True,  True,  True,  True,  True,  True,  True,\n",
       "        True])"
      ]
     },
     "execution_count": 12,
     "metadata": {},
     "output_type": "execute_result"
    }
   ],
   "source": [
    "np.ones((100,), dtype=bool)"
   ]
  },
  {
   "cell_type": "code",
   "execution_count": null,
   "id": "cb4b6228-9912-49ce-977c-d34a6dfa726a",
   "metadata": {},
   "outputs": [],
   "source": []
  }
 ],
 "metadata": {
  "kernelspec": {
   "display_name": "Python 3 (ipykernel)",
   "language": "python",
   "name": "python3"
  },
  "language_info": {
   "codemirror_mode": {
    "name": "ipython",
    "version": 3
   },
   "file_extension": ".py",
   "mimetype": "text/x-python",
   "name": "python",
   "nbconvert_exporter": "python",
   "pygments_lexer": "ipython3",
   "version": "3.9.12"
  }
 },
 "nbformat": 4,
 "nbformat_minor": 5
}
