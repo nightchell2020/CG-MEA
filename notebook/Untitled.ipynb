{
 "cells": [
  {
   "cell_type": "code",
   "execution_count": 1,
   "id": "d646ab36-b07b-4872-a1ad-44815df1e047",
   "metadata": {},
   "outputs": [],
   "source": [
    "def solution(board, aloc, bloc):\n",
    "    R, C = len(board), len(board[0])\n",
    "    move = ((-1, 0), (1, 0), (0, -1), (0, 1))\n",
    "    \n",
    "    def search(a, b, visit, step):\n",
    "        added = 0\n",
    "        lose_step = -1\n",
    "        win_step = -1\n",
    "        for m in move:\n",
    "            r, c = a[0] + m[0], a[1] + m[1]\n",
    "            if 0 <= r < R and 0 <= c < C and (r, c) not in visit and board[r][c] > 0:\n",
    "                added += 1\n",
    "                result = search(b, a, visit | {(r, c)}, step + 1)\n",
    "                if result[0]:\n",
    "                    lose_step = max(lose_step, result[1])\n",
    "                else:\n",
    "                    win_step = min(win_step, result[1]) if win_step > 0 else result[1]\n",
    "        \n",
    "        if added == 0:\n",
    "            return False, step\n",
    "        elif a == b:\n",
    "            return True, step + 1\n",
    "        \n",
    "        if win_step > 0:\n",
    "            return True, win_step\n",
    "        else:\n",
    "            return False, lose_step\n",
    "        \n",
    "    result = search(aloc, bloc, set(), 0)\n",
    "    return result[1]"
   ]
  },
  {
   "cell_type": "code",
   "execution_count": 2,
   "id": "dbdb7216-5ce4-4454-84da-a51b641a533e",
   "metadata": {},
   "outputs": [
    {
     "name": "stdout",
     "output_type": "stream",
     "text": [
      "\n",
      "\n",
      "5\n"
     ]
    }
   ],
   "source": [
    "answer = solution([[1, 1, 1], [1, 1, 1], [1, 1, 1]], [1, 0], [1, 2])\n",
    "print()\n",
    "print()\n",
    "print(answer)"
   ]
  },
  {
   "cell_type": "code",
   "execution_count": null,
   "id": "0bd9ba89-f682-4b7f-91f1-fe173d6e6373",
   "metadata": {},
   "outputs": [],
   "source": []
  }
 ],
 "metadata": {
  "kernelspec": {
   "display_name": "Python 3 (ipykernel)",
   "language": "python",
   "name": "python3"
  },
  "language_info": {
   "codemirror_mode": {
    "name": "ipython",
    "version": 3
   },
   "file_extension": ".py",
   "mimetype": "text/x-python",
   "name": "python",
   "nbconvert_exporter": "python",
   "pygments_lexer": "ipython3",
   "version": "3.9.12"
  }
 },
 "nbformat": 4,
 "nbformat_minor": 5
}
