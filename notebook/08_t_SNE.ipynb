{
 "cells": [
  {
   "cell_type": "markdown",
   "id": "ed1e2f8a-32b4-46b1-a00a-382644e90504",
   "metadata": {
    "pycharm": {
     "name": "#%% md\n"
    }
   },
   "source": [
    "# t-SNE visualization\n",
    "\n",
    "This notebook visualizes the trained EEG embeddings."
   ]
  },
  {
   "cell_type": "markdown",
   "id": "ccdbc4ee-d024-4025-84fb-d18dfa1410d7",
   "metadata": {
    "pycharm": {
     "name": "#%% md\n"
    }
   },
   "source": [
    "-----\n",
    "\n",
    "## Load Packages"
   ]
  },
  {
   "cell_type": "code",
   "execution_count": 1,
   "id": "df587e38-b1a9-42c8-9b50-680200a9bec7",
   "metadata": {
    "pycharm": {
     "name": "#%%\n"
    }
   },
   "outputs": [
    {
     "name": "stdout",
     "output_type": "stream",
     "text": [
      "C:\\Users\\Minjae\\Desktop\\EEG_Project\n"
     ]
    }
   ],
   "source": [
    "# for auto-reloading external modules\n",
    "# see http://stackoverflow.com/questions/1907993/autoreload-of-modules-in-ipython\n",
    "%cd ..\n",
    "%load_ext autoreload\n",
    "%autoreload 2"
   ]
  },
  {
   "cell_type": "code",
   "execution_count": 2,
   "id": "8fb41bf8-1713-4228-b799-0e1c87545a16",
   "metadata": {
    "pycharm": {
     "name": "#%%\n"
    }
   },
   "outputs": [],
   "source": [
    "# Load some packages\n",
    "import os\n",
    "from copy import deepcopy\n",
    "import hydra\n",
    "from omegaconf import OmegaConf\n",
    "from collections import OrderedDict\n",
    "\n",
    "import numpy as np\n",
    "import pandas as pd\n",
    "import torch\n",
    "import torch.nn as nn\n",
    "import torch.nn.functional as F\n",
    "import torch.optim as optim\n",
    "\n",
    "import pprint\n",
    "import matplotlib\n",
    "import matplotlib.pyplot as plt\n",
    "\n",
    "# custom package\n",
    "from datasets.caueeg_script import build_dataset_for_train\n",
    "import models\n",
    "from train.evaluate import check_accuracy\n",
    "from train.evaluate import check_accuracy_extended\n",
    "from train.evaluate import check_accuracy_extended_debug\n",
    "from train.evaluate import check_accuracy_multicrop\n",
    "from train.evaluate import check_accuracy_multicrop_extended\n",
    "from train.visualize import draw_roc_curve\n",
    "from train.visualize import draw_confusion\n",
    "from train.visualize import draw_class_wise_metrics\n",
    "from train.visualize import draw_error_table\n",
    "from train.visualize import annotate_heatmap"
   ]
  },
  {
   "cell_type": "code",
   "execution_count": 3,
   "id": "309eed9b-2c31-4398-a141-e1787453814a",
   "metadata": {},
   "outputs": [
    {
     "name": "stdout",
     "output_type": "stream",
     "text": [
      "PyTorch version: 1.11.0+cu113\n",
      "cuda is available.\n"
     ]
    }
   ],
   "source": [
    "print('PyTorch version:', torch.__version__)\n",
    "device = torch.device('cuda' if torch.cuda.is_available() else 'cpu')\n",
    "\n",
    "if torch.cuda.is_available(): print('cuda is available.')\n",
    "else: print('cuda is unavailable.') "
   ]
  },
  {
   "cell_type": "markdown",
   "id": "2e1c5390-f093-4a4c-9c72-2f16f9d42fde",
   "metadata": {
    "pycharm": {
     "name": "#%% md\n"
    },
    "tags": []
   },
   "source": [
    "-----\n",
    "\n",
    "## Load the configuration used during the train phase"
   ]
  },
  {
   "cell_type": "code",
   "execution_count": 4,
   "id": "3a0f3c94-0bbb-42ef-ab92-df07e2964087",
   "metadata": {
    "pycharm": {
     "name": "#%%\n"
    }
   },
   "outputs": [
    {
     "name": "stdout",
     "output_type": "stream",
     "text": [
      "dict_keys(['model_state', 'config', 'optimizer_state', 'scheduler_state'])\n"
     ]
    }
   ],
   "source": [
    "model_name = 'fq3sat1x'\n",
    "model_path = os.path.join(r'E:\\CAUEEG\\checkpoint', model_name, 'checkpoint.pt')\n",
    "\n",
    "ckpt = torch.load(model_path, map_location=device)\n",
    "print(ckpt.keys())"
   ]
  },
  {
   "cell_type": "code",
   "execution_count": 5,
   "id": "069adca8-f2f7-446f-ba09-87f6f5f64d8d",
   "metadata": {
    "pycharm": {
     "name": "#%%\n"
    }
   },
   "outputs": [],
   "source": [
    "model_state = ckpt['model_state']\n",
    "config = ckpt['config']\n",
    "optimizer = ckpt['optimizer_state']\n",
    "scheduler = ckpt['scheduler_state']"
   ]
  },
  {
   "cell_type": "code",
   "execution_count": 6,
   "id": "ca4a490d-9f3b-42b7-a1ef-4605f5eae262",
   "metadata": {
    "pycharm": {
     "name": "#%%\n"
    }
   },
   "outputs": [
    {
     "name": "stdout",
     "output_type": "stream",
     "text": [
      "{'EKG': 'O',\n",
      " '_target_': 'models.resnet_2d.ResNet2D',\n",
      " 'activation': 'relu',\n",
      " 'age_mean': tensor([71.2670], device='cuda:0'),\n",
      " 'age_std': tensor([9.3171], device='cuda:0'),\n",
      " 'awgn': 0.04820207830923446,\n",
      " 'awgn_age': 0.16811608741676137,\n",
      " 'base_channels': 64,\n",
      " 'base_lr': 0.0020000000000000005,\n",
      " 'block': 'bottleneck',\n",
      " 'class_label_to_name': ['Normal', 'MCI', 'Dementia'],\n",
      " 'class_name_to_label': {'Dementia': 2, 'MCI': 1, 'Normal': 0},\n",
      " 'conv_layers': [3, 4, 6, 3],\n",
      " 'criterion': 'multi-bce',\n",
      " 'crop_multiple': 4,\n",
      " 'crop_timing_analysis': False,\n",
      " 'cwd': '/home/minjae/Desktop/eeg_analysis',\n",
      " 'dataset_name': 'CAUEEG dataset',\n",
      " 'dataset_path': 'local/dataset/02_Curated_Data_220419/',\n",
      " 'ddp': False,\n",
      " 'device': device(type='cuda'),\n",
      " 'draw_result': True,\n",
      " 'dropout': 0.16113930908903867,\n",
      " 'fc_stages': 5,\n",
      " 'file_format': 'memmap',\n",
      " 'groups': 32,\n",
      " 'in_channels': 40,\n",
      " 'input_norm': 'dataset',\n",
      " 'iterations': 625000,\n",
      " 'latency': 2000,\n",
      " 'load_event': False,\n",
      " 'lr_scheduler_type': 'cosine_decay_with_warmup_half',\n",
      " 'mgn': 0.0009795174580769395,\n",
      " 'minibatch': 64,\n",
      " 'mixup': 0,\n",
      " 'model': '2D-ResNeXt-50',\n",
      " 'multi_batch_size': 8,\n",
      " 'num_history': 500,\n",
      " 'num_params': 25888579,\n",
      " 'out_dims': 3,\n",
      " 'output_length': 8,\n",
      " 'photic': 'X',\n",
      " 'preprocess_test': Sequential(\n",
      "  (0): EegToDevice(device=cuda)\n",
      "  (1): EegNormalizeAge(mean=tensor([71.2670], device='cuda:0'),std=tensor([9.3171], device='cuda:0'),eps=1e-08)\n",
      "  (2): EegNormalizeMeanStd(mean=tensor([-0.0056,  0.0289, -0.0487, -0.0398,  0.0333,  0.0028,  0.0703, -0.0071,\n",
      "          -0.0153,  0.0478,  0.0985, -0.0126, -0.0278,  0.0233,  0.0190, -0.0114,\n",
      "          -0.0398, -0.0184, -0.0097,  0.0206], device='cuda:0'),std=tensor([45.2357, 20.3068, 11.8738, 11.5812, 15.2501, 48.0084, 19.7528, 10.4711,\n",
      "          11.6364, 15.8251, 20.5287, 14.4000, 13.7452, 21.5039, 17.3944, 14.4796,\n",
      "          19.6452, 11.2619, 11.4804, 93.8350], device='cuda:0'),eps=1e-08)\n",
      "  (3): EegSpectrogram(n_fft=126, complex_mode=as_real, stft_kwargs={'hop_length': 32})\n",
      "  (4): EegNormalizeMeanStd(mean=tensor([[-9.8249e-02, -2.5272e-03, -1.3530e-04,  ..., -4.2601e-04,\n",
      "           -4.9585e-04, -3.1748e-04],\n",
      "          [-4.1218e-01, -2.1790e-03,  2.6894e-04,  ...,  4.6862e-04,\n",
      "            4.8025e-04, -8.8558e-04],\n",
      "          [ 7.5236e-01, -1.6260e-03, -5.2615e-04,  ..., -2.5230e-04,\n",
      "           -1.6848e-04, -1.9403e-04],\n",
      "          ...,\n",
      "          [ 0.0000e+00,  1.1736e-02,  6.4894e-03,  ...,  1.2991e-05,\n",
      "            6.2992e-05,  6.0027e-11],\n",
      "          [ 0.0000e+00, -1.2478e-02, -5.1466e-03,  ..., -6.6245e-05,\n",
      "           -3.7493e-05,  4.5522e-11],\n",
      "          [ 0.0000e+00,  7.9176e-03, -1.0198e-03,  ..., -4.9344e-05,\n",
      "           -8.6928e-05, -3.8966e-11]], device='cuda:0'),std=tensor([[1.0868e+02, 1.6165e+01, 7.8089e+00,  ..., 6.9420e-01, 6.9505e-01,\n",
      "           8.0383e-01],\n",
      "          [1.0722e+02, 1.4397e+01, 7.6250e+00,  ..., 6.9951e-01, 6.9904e-01,\n",
      "           8.1150e-01],\n",
      "          [9.8044e+01, 1.2371e+01, 7.7154e+00,  ..., 7.1463e-01, 7.1506e-01,\n",
      "           8.4041e-01],\n",
      "          ...,\n",
      "          [0.0000e+00, 2.1781e+01, 1.2834e+01,  ..., 4.3306e-01, 4.3328e-01,\n",
      "           9.4806e-08],\n",
      "          [0.0000e+00, 2.2961e+01, 1.2920e+01,  ..., 4.3192e-01, 4.3160e-01,\n",
      "           8.3610e-08],\n",
      "          [0.0000e+00, 1.8631e+01, 2.1678e+01,  ..., 3.8625e-01, 3.8595e-01,\n",
      "           1.6734e-07]], device='cuda:0'),eps=1e-08)\n",
      "),\n",
      " 'preprocess_train': Sequential(\n",
      "  (0): EegToDevice(device=cuda)\n",
      "  (1): EegNormalizeAge(mean=tensor([71.2670], device='cuda:0'),std=tensor([9.3171], device='cuda:0'),eps=1e-08)\n",
      "  (2): EegAddGaussianNoiseAge(mean=0.0,std=0.16811608741676137)\n",
      "  (3): EegNormalizeMeanStd(mean=tensor([-0.0056,  0.0289, -0.0487, -0.0398,  0.0333,  0.0028,  0.0703, -0.0071,\n",
      "          -0.0153,  0.0478,  0.0985, -0.0126, -0.0278,  0.0233,  0.0190, -0.0114,\n",
      "          -0.0398, -0.0184, -0.0097,  0.0206], device='cuda:0'),std=tensor([45.2357, 20.3068, 11.8738, 11.5812, 15.2501, 48.0084, 19.7528, 10.4711,\n",
      "          11.6364, 15.8251, 20.5287, 14.4000, 13.7452, 21.5039, 17.3944, 14.4796,\n",
      "          19.6452, 11.2619, 11.4804, 93.8350], device='cuda:0'),eps=1e-08)\n",
      "  (4): EegAdditiveGaussianNoise(mean=0.0,std=0.04820207830923446)\n",
      "  (5): EegMultiplicativeGaussianNoise(mean=0.0,std=0.0009795174580769395)\n",
      "  (6): EegSpectrogram(n_fft=126, complex_mode=as_real, stft_kwargs={'hop_length': 32})\n",
      "  (7): EegNormalizeMeanStd(mean=tensor([[-9.8249e-02, -2.5272e-03, -1.3530e-04,  ..., -4.2601e-04,\n",
      "           -4.9585e-04, -3.1748e-04],\n",
      "          [-4.1218e-01, -2.1790e-03,  2.6894e-04,  ...,  4.6862e-04,\n",
      "            4.8025e-04, -8.8558e-04],\n",
      "          [ 7.5236e-01, -1.6260e-03, -5.2615e-04,  ..., -2.5230e-04,\n",
      "           -1.6848e-04, -1.9403e-04],\n",
      "          ...,\n",
      "          [ 0.0000e+00,  1.1736e-02,  6.4894e-03,  ...,  1.2991e-05,\n",
      "            6.2992e-05,  6.0027e-11],\n",
      "          [ 0.0000e+00, -1.2478e-02, -5.1466e-03,  ..., -6.6245e-05,\n",
      "           -3.7493e-05,  4.5522e-11],\n",
      "          [ 0.0000e+00,  7.9176e-03, -1.0198e-03,  ..., -4.9344e-05,\n",
      "           -8.6928e-05, -3.8966e-11]], device='cuda:0'),std=tensor([[1.0868e+02, 1.6165e+01, 7.8089e+00,  ..., 6.9420e-01, 6.9505e-01,\n",
      "           8.0383e-01],\n",
      "          [1.0722e+02, 1.4397e+01, 7.6250e+00,  ..., 6.9951e-01, 6.9904e-01,\n",
      "           8.1150e-01],\n",
      "          [9.8044e+01, 1.2371e+01, 7.7154e+00,  ..., 7.1463e-01, 7.1506e-01,\n",
      "           8.4041e-01],\n",
      "          ...,\n",
      "          [0.0000e+00, 2.1781e+01, 1.2834e+01,  ..., 4.3306e-01, 4.3328e-01,\n",
      "           9.4806e-08],\n",
      "          [0.0000e+00, 2.2961e+01, 1.2920e+01,  ..., 4.3192e-01, 4.3160e-01,\n",
      "           8.3610e-08],\n",
      "          [0.0000e+00, 1.8631e+01, 2.1678e+01,  ..., 3.8625e-01, 3.8595e-01,\n",
      "           1.6734e-07]], device='cuda:0'),eps=1e-08)\n",
      "),\n",
      " 'run_mode': 'train',\n",
      " 'save_model': True,\n",
      " 'search_lr': True,\n",
      " 'search_multiplier': 1.0,\n",
      " 'seed': 0,\n",
      " 'seq_len_2d': (64, 63),\n",
      " 'seq_length': 2000,\n",
      " 'signal_2d_mean': tensor([[[[-9.8249e-02],\n",
      "          [-2.5272e-03],\n",
      "          [-1.3530e-04],\n",
      "          ...,\n",
      "          [-4.2601e-04],\n",
      "          [-4.9585e-04],\n",
      "          [-3.1748e-04]],\n",
      "\n",
      "         [[-4.1218e-01],\n",
      "          [-2.1790e-03],\n",
      "          [ 2.6894e-04],\n",
      "          ...,\n",
      "          [ 4.6862e-04],\n",
      "          [ 4.8025e-04],\n",
      "          [-8.8558e-04]],\n",
      "\n",
      "         [[ 7.5236e-01],\n",
      "          [-1.6260e-03],\n",
      "          [-5.2615e-04],\n",
      "          ...,\n",
      "          [-2.5230e-04],\n",
      "          [-1.6848e-04],\n",
      "          [-1.9403e-04]],\n",
      "\n",
      "         ...,\n",
      "\n",
      "         [[ 0.0000e+00],\n",
      "          [ 1.1736e-02],\n",
      "          [ 6.4894e-03],\n",
      "          ...,\n",
      "          [ 1.2991e-05],\n",
      "          [ 6.2992e-05],\n",
      "          [ 6.0027e-11]],\n",
      "\n",
      "         [[ 0.0000e+00],\n",
      "          [-1.2478e-02],\n",
      "          [-5.1466e-03],\n",
      "          ...,\n",
      "          [-6.6245e-05],\n",
      "          [-3.7493e-05],\n",
      "          [ 4.5522e-11]],\n",
      "\n",
      "         [[ 0.0000e+00],\n",
      "          [ 7.9176e-03],\n",
      "          [-1.0198e-03],\n",
      "          ...,\n",
      "          [-4.9344e-05],\n",
      "          [-8.6928e-05],\n",
      "          [-3.8966e-11]]]], device='cuda:0'),\n",
      " 'signal_2d_std': tensor([[[[1.0868e+02],\n",
      "          [1.6165e+01],\n",
      "          [7.8089e+00],\n",
      "          ...,\n",
      "          [6.9420e-01],\n",
      "          [6.9505e-01],\n",
      "          [8.0383e-01]],\n",
      "\n",
      "         [[1.0722e+02],\n",
      "          [1.4397e+01],\n",
      "          [7.6250e+00],\n",
      "          ...,\n",
      "          [6.9951e-01],\n",
      "          [6.9904e-01],\n",
      "          [8.1150e-01]],\n",
      "\n",
      "         [[9.8044e+01],\n",
      "          [1.2371e+01],\n",
      "          [7.7154e+00],\n",
      "          ...,\n",
      "          [7.1463e-01],\n",
      "          [7.1506e-01],\n",
      "          [8.4041e-01]],\n",
      "\n",
      "         ...,\n",
      "\n",
      "         [[0.0000e+00],\n",
      "          [2.1781e+01],\n",
      "          [1.2834e+01],\n",
      "          ...,\n",
      "          [4.3306e-01],\n",
      "          [4.3328e-01],\n",
      "          [9.4806e-08]],\n",
      "\n",
      "         [[0.0000e+00],\n",
      "          [2.2961e+01],\n",
      "          [1.2920e+01],\n",
      "          ...,\n",
      "          [4.3192e-01],\n",
      "          [4.3160e-01],\n",
      "          [8.3610e-08]],\n",
      "\n",
      "         [[0.0000e+00],\n",
      "          [1.8631e+01],\n",
      "          [2.1678e+01],\n",
      "          ...,\n",
      "          [3.8625e-01],\n",
      "          [3.8595e-01],\n",
      "          [1.6734e-07]]]], device='cuda:0'),\n",
      " 'signal_header': ['Fp1-AVG', 'F3-AVG', 'C3-AVG', 'P3-AVG', 'O1-AVG', 'Fp2-AVG', 'F4-AVG', 'C4-AVG', 'P4-AVG', 'O2-AVG', 'F7-AVG', 'T3-AVG', 'T5-AVG', 'F8-AVG', 'T4-AVG', 'T6-AVG', 'FZ-AVG', 'CZ-AVG', 'PZ-AVG', 'EKG', 'Photic'],\n",
      " 'signal_length_limit': 10000000,\n",
      " 'signal_mean': tensor([[[-0.0056],\n",
      "         [ 0.0289],\n",
      "         [-0.0487],\n",
      "         [-0.0398],\n",
      "         [ 0.0333],\n",
      "         [ 0.0028],\n",
      "         [ 0.0703],\n",
      "         [-0.0071],\n",
      "         [-0.0153],\n",
      "         [ 0.0478],\n",
      "         [ 0.0985],\n",
      "         [-0.0126],\n",
      "         [-0.0278],\n",
      "         [ 0.0233],\n",
      "         [ 0.0190],\n",
      "         [-0.0114],\n",
      "         [-0.0398],\n",
      "         [-0.0184],\n",
      "         [-0.0097],\n",
      "         [ 0.0206]]], device='cuda:0'),\n",
      " 'signal_std': tensor([[[45.2357],\n",
      "         [20.3068],\n",
      "         [11.8738],\n",
      "         [11.5812],\n",
      "         [15.2501],\n",
      "         [48.0084],\n",
      "         [19.7528],\n",
      "         [10.4711],\n",
      "         [11.6364],\n",
      "         [15.8251],\n",
      "         [20.5287],\n",
      "         [14.4000],\n",
      "         [13.7452],\n",
      "         [21.5039],\n",
      "         [17.3944],\n",
      "         [14.4796],\n",
      "         [19.6452],\n",
      "         [11.2619],\n",
      "         [11.4804],\n",
      "         [93.8350]]], device='cuda:0'),\n",
      " 'stft_params': {'hop_length': 32, 'n_fft': 126},\n",
      " 'task': 'task2',\n",
      " 'task_description': 'Classification of [Normal], [MCI], and [Dementia] symptoms.',\n",
      " 'task_name': 'CAUEEG-task2 benchmark',\n",
      " 'test_crop_multiple': 8,\n",
      " 'total_samples': 40000000.0,\n",
      " 'transform': Compose(\n",
      "    EegRandomCrop(crop_length=2000, length_limit=10000000, multiple=4, latency=2000, return_timing=False)\n",
      "    EegDropChannels(drop_index=[20])\n",
      "    EegToTensor()\n",
      "),\n",
      " 'transform_multicrop': Compose(\n",
      "    EegRandomCrop(crop_length=2000, length_limit=10000000, multiple=8, latency=2000, return_timing=False)\n",
      "    EegDropChannels(drop_index=[20])\n",
      "    EegToTensor()\n",
      "),\n",
      " 'use_age': 'conv',\n",
      " 'use_wandb': True,\n",
      " 'warmup_min': 3000,\n",
      " 'warmup_ratio': 0.05,\n",
      " 'warmup_steps': 31250,\n",
      " 'watch_model': True,\n",
      " 'weight_decay': 0.030935325419644593,\n",
      " 'width_per_group': 4}\n"
     ]
    }
   ],
   "source": [
    "pprint.pprint(config, width=250)"
   ]
  },
  {
   "cell_type": "markdown",
   "id": "b7877675-9feb-4175-8f54-946a29044648",
   "metadata": {
    "pycharm": {
     "name": "#%% md\n"
    }
   },
   "source": [
    "-----\n",
    "\n",
    "## Load the target model"
   ]
  },
  {
   "cell_type": "code",
   "execution_count": 7,
   "id": "322201e6-3a07-48f9-a871-c4a44129e8f8",
   "metadata": {
    "pycharm": {
     "name": "#%%\n"
    }
   },
   "outputs": [],
   "source": [
    "# model = config['generator'](**config).to(device)\n",
    "model = hydra.utils.instantiate(config).to(device)\n",
    "\n",
    "if config.get('ddp', False):\n",
    "    model_state_ddp = deepcopy(model_state)\n",
    "    model_state = OrderedDict()\n",
    "    for k, v in model_state_ddp.items():\n",
    "        name = k[7:] # remove 'module.' of DataParallel/DistributedDataParallel\n",
    "        model_state[name] = v\n",
    "    model.load_state_dict(model_state)\n",
    "else:\n",
    "    model.load_state_dict(model_state)"
   ]
  },
  {
   "cell_type": "markdown",
   "id": "ab33f903-bbbe-49c1-9fc2-49ce8ee26cff",
   "metadata": {
    "pycharm": {
     "name": "#%% md\n"
    }
   },
   "source": [
    "-----\n",
    "\n",
    "## Evaluate the model and analyze the performance by the crop timing"
   ]
  },
  {
   "cell_type": "markdown",
   "id": "3d827eb6-53f2-4aa0-909c-972dcf33c6d5",
   "metadata": {
    "pycharm": {
     "name": "#%% md\n"
    }
   },
   "source": [
    "### Configurations"
   ]
  },
  {
   "cell_type": "code",
   "execution_count": 8,
   "id": "427aeb6b-5fef-411c-b69a-5fb4413483ea",
   "metadata": {
    "pycharm": {
     "name": "#%%\n"
    }
   },
   "outputs": [],
   "source": [
    "config = ckpt['config']\n",
    "\n",
    "config.pop('cwd', 0)\n",
    "config['ddp'] = False\n",
    "config['crop_timing_analysis'] = True\n",
    "config['eval'] = True\n",
    "config['device'] = device"
   ]
  },
  {
   "cell_type": "markdown",
   "id": "527fc407-9f18-4329-a551-c85ec26a0727",
   "metadata": {
    "pycharm": {
     "name": "#%% md\n"
    }
   },
   "source": [
    "### Build Dataset"
   ]
  },
  {
   "cell_type": "code",
   "execution_count": 9,
   "id": "9b1d9aa9-fbc5-4d4a-8a7f-8e8fbd4675dc",
   "metadata": {
    "pycharm": {
     "name": "#%%\n"
    }
   },
   "outputs": [
    {
     "name": "stdout",
     "output_type": "stream",
     "text": [
      "transform: Compose(\n",
      "    EegRandomCrop(crop_length=2000, length_limit=10000000, multiple=4, latency=2000, return_timing=True)\n",
      "    EegDropChannels(drop_index=[20])\n",
      "    EegToTensor()\n",
      ")\n",
      "\n",
      "----------------------------------------------------------------------------------------------------\n",
      "\n",
      "transform_multicrop: Compose(\n",
      "    EegRandomCrop(crop_length=2000, length_limit=10000000, multiple=8, latency=2000, return_timing=True)\n",
      "    EegDropChannels(drop_index=[20])\n",
      "    EegToTensor()\n",
      ")\n",
      "\n",
      "----------------------------------------------------------------------------------------------------\n",
      "\n",
      "\n",
      "task config:\n",
      "{'class_label_to_name': ['Normal', 'MCI', 'Dementia'],\n",
      " 'class_name_to_label': {'Dementia': 2, 'MCI': 1, 'Normal': 0},\n",
      " 'task_description': 'Classification of [Normal], [MCI], and [Dementia] '\n",
      "                     'symptoms.',\n",
      " 'task_name': 'CAUEEG-Dementia benchmark'}\n",
      "\n",
      " ---------------------------------------------------------------------------------------------------- \n",
      "\n",
      "train_dataset[0].keys():\n",
      "dict_keys(['serial', 'age', 'symptom', 'class_name', 'class_label', 'signal', 'crop_timing'])\n",
      "train signal shape: torch.Size([20, 2000])\n",
      "\n",
      "\n",
      "----------------------------------------------------------------------------------------------------\n",
      "\n",
      "val_dataset[0].keys():\n",
      "dict_keys(['serial', 'age', 'symptom', 'class_name', 'class_label', 'signal', 'crop_timing'])\n",
      "\n",
      "----------------------------------------------------------------------------------------------------\n",
      "\n",
      "test_dataset[0].keys():\n",
      "dict_keys(['serial', 'age', 'symptom', 'class_name', 'class_label', 'signal', 'crop_timing'])\n",
      "\n",
      "----------------------------------------------------------------------------------------------------\n",
      "\n",
      "test_dataset[0].keys():\n",
      "dict_keys(['serial', 'age', 'symptom', 'class_name', 'class_label', 'signal', 'crop_timing'])\n",
      "test signal shape: torch.Size([20, 2000])\n",
      "\n",
      "----------------------------------------------------------------------------------------------------\n",
      "\n",
      "preprocess_train: Sequential(\n",
      "  (0): EegToDevice(device=cuda)\n",
      "  (1): EegNormalizeAge(mean=tensor([71.2670], device='cuda:0'),std=tensor([9.3171], device='cuda:0'),eps=1e-08)\n",
      "  (2): EegAddGaussianNoiseAge(mean=0.0,std=0.16811608741676137)\n",
      "  (3): EegNormalizeMeanStd(mean=tensor([-0.0056,  0.0289, -0.0487, -0.0398,  0.0333,  0.0028,  0.0703, -0.0071,\n",
      "          -0.0153,  0.0478,  0.0985, -0.0126, -0.0278,  0.0233,  0.0190, -0.0114,\n",
      "          -0.0398, -0.0184, -0.0097,  0.0206], device='cuda:0'),std=tensor([45.2357, 20.3068, 11.8738, 11.5812, 15.2501, 48.0084, 19.7528, 10.4711,\n",
      "          11.6364, 15.8251, 20.5287, 14.4000, 13.7452, 21.5039, 17.3944, 14.4796,\n",
      "          19.6452, 11.2619, 11.4804, 93.8350], device='cuda:0'),eps=1e-08)\n",
      "  (4): EegMultiplicativeGaussianNoise(mean=0.0,std=0.0009795174580769395)\n",
      "  (5): EegAdditiveGaussianNoise(mean=0.0,std=0.04820207830923446)\n",
      "  (6): EegSpectrogram(n_fft=126, complex_mode=as_real, stft_kwargs={'hop_length': 32})\n",
      "  (7): EegNormalizeMeanStd(mean=tensor([[-9.8249e-02, -2.5272e-03, -1.3530e-04,  ..., -4.2601e-04,\n",
      "           -4.9585e-04, -3.1748e-04],\n",
      "          [-4.1218e-01, -2.1790e-03,  2.6894e-04,  ...,  4.6862e-04,\n",
      "            4.8025e-04, -8.8558e-04],\n",
      "          [ 7.5236e-01, -1.6260e-03, -5.2615e-04,  ..., -2.5230e-04,\n",
      "           -1.6848e-04, -1.9403e-04],\n",
      "          ...,\n",
      "          [ 0.0000e+00,  1.1736e-02,  6.4894e-03,  ...,  1.2991e-05,\n",
      "            6.2992e-05,  6.0027e-11],\n",
      "          [ 0.0000e+00, -1.2478e-02, -5.1466e-03,  ..., -6.6245e-05,\n",
      "           -3.7493e-05,  4.5522e-11],\n",
      "          [ 0.0000e+00,  7.9176e-03, -1.0198e-03,  ..., -4.9344e-05,\n",
      "           -8.6928e-05, -3.8966e-11]], device='cuda:0'),std=tensor([[1.0868e+02, 1.6165e+01, 7.8089e+00,  ..., 6.9420e-01, 6.9505e-01,\n",
      "           8.0383e-01],\n",
      "          [1.0722e+02, 1.4397e+01, 7.6250e+00,  ..., 6.9951e-01, 6.9904e-01,\n",
      "           8.1150e-01],\n",
      "          [9.8044e+01, 1.2371e+01, 7.7154e+00,  ..., 7.1463e-01, 7.1506e-01,\n",
      "           8.4041e-01],\n",
      "          ...,\n",
      "          [0.0000e+00, 2.1781e+01, 1.2834e+01,  ..., 4.3306e-01, 4.3328e-01,\n",
      "           9.4806e-08],\n",
      "          [0.0000e+00, 2.2961e+01, 1.2920e+01,  ..., 4.3192e-01, 4.3160e-01,\n",
      "           8.3610e-08],\n",
      "          [0.0000e+00, 1.8631e+01, 2.1678e+01,  ..., 3.8625e-01, 3.8595e-01,\n",
      "           1.6734e-07]], device='cuda:0'),eps=1e-08)\n",
      ")\n",
      "\n",
      "----------------------------------------------------------------------------------------------------\n",
      "\n",
      "preprocess_test: Sequential(\n",
      "  (0): EegToDevice(device=cuda)\n",
      "  (1): EegNormalizeAge(mean=tensor([71.2670], device='cuda:0'),std=tensor([9.3171], device='cuda:0'),eps=1e-08)\n",
      "  (2): EegNormalizeMeanStd(mean=tensor([-0.0056,  0.0289, -0.0487, -0.0398,  0.0333,  0.0028,  0.0703, -0.0071,\n",
      "          -0.0153,  0.0478,  0.0985, -0.0126, -0.0278,  0.0233,  0.0190, -0.0114,\n",
      "          -0.0398, -0.0184, -0.0097,  0.0206], device='cuda:0'),std=tensor([45.2357, 20.3068, 11.8738, 11.5812, 15.2501, 48.0084, 19.7528, 10.4711,\n",
      "          11.6364, 15.8251, 20.5287, 14.4000, 13.7452, 21.5039, 17.3944, 14.4796,\n",
      "          19.6452, 11.2619, 11.4804, 93.8350], device='cuda:0'),eps=1e-08)\n",
      "  (3): EegSpectrogram(n_fft=126, complex_mode=as_real, stft_kwargs={'hop_length': 32})\n",
      "  (4): EegNormalizeMeanStd(mean=tensor([[-9.8249e-02, -2.5272e-03, -1.3530e-04,  ..., -4.2601e-04,\n",
      "           -4.9585e-04, -3.1748e-04],\n",
      "          [-4.1218e-01, -2.1790e-03,  2.6894e-04,  ...,  4.6862e-04,\n",
      "            4.8025e-04, -8.8558e-04],\n",
      "          [ 7.5236e-01, -1.6260e-03, -5.2615e-04,  ..., -2.5230e-04,\n",
      "           -1.6848e-04, -1.9403e-04],\n",
      "          ...,\n",
      "          [ 0.0000e+00,  1.1736e-02,  6.4894e-03,  ...,  1.2991e-05,\n",
      "            6.2992e-05,  6.0027e-11],\n",
      "          [ 0.0000e+00, -1.2478e-02, -5.1466e-03,  ..., -6.6245e-05,\n",
      "           -3.7493e-05,  4.5522e-11],\n",
      "          [ 0.0000e+00,  7.9176e-03, -1.0198e-03,  ..., -4.9344e-05,\n",
      "           -8.6928e-05, -3.8966e-11]], device='cuda:0'),std=tensor([[1.0868e+02, 1.6165e+01, 7.8089e+00,  ..., 6.9420e-01, 6.9505e-01,\n",
      "           8.0383e-01],\n",
      "          [1.0722e+02, 1.4397e+01, 7.6250e+00,  ..., 6.9951e-01, 6.9904e-01,\n",
      "           8.1150e-01],\n",
      "          [9.8044e+01, 1.2371e+01, 7.7154e+00,  ..., 7.1463e-01, 7.1506e-01,\n",
      "           8.4041e-01],\n",
      "          ...,\n",
      "          [0.0000e+00, 2.1781e+01, 1.2834e+01,  ..., 4.3306e-01, 4.3328e-01,\n",
      "           9.4806e-08],\n",
      "          [0.0000e+00, 2.2961e+01, 1.2920e+01,  ..., 4.3192e-01, 4.3160e-01,\n",
      "           8.3610e-08],\n",
      "          [0.0000e+00, 1.8631e+01, 2.1678e+01,  ..., 3.8625e-01, 3.8595e-01,\n",
      "           1.6734e-07]], device='cuda:0'),eps=1e-08)\n",
      ")\n",
      "\n",
      "----------------------------------------------------------------------------------------------------\n",
      "\n",
      "0 torch.Size([64, 40, 64, 63]) torch.Size([64]) torch.Size([64])\n",
      "1 torch.Size([64, 40, 64, 63]) torch.Size([64]) torch.Size([64])\n",
      "2 torch.Size([64, 40, 64, 63]) torch.Size([64]) torch.Size([64])\n",
      "3 torch.Size([64, 40, 64, 63]) torch.Size([64]) torch.Size([64])\n",
      "4 torch.Size([64, 40, 64, 63]) torch.Size([64]) torch.Size([64])\n",
      "\n",
      "----------------------------------------------------------------------------------------------------\n",
      "\n"
     ]
    }
   ],
   "source": [
    "train_loader, val_loader, test_loader, multicrop_test_loader = build_dataset_for_train(config, verbose=True)"
   ]
  },
  {
   "cell_type": "code",
   "execution_count": 125,
   "id": "cf875389-0084-4e44-98e3-eae37d63bfc5",
   "metadata": {},
   "outputs": [],
   "source": [
    "@torch.no_grad()\n",
    "def compute_embedding(model, sample_batched, preprocess, crop_multiple=1, target_from_last=1):\n",
    "    # evaluation mode\n",
    "    model.eval()\n",
    "    \n",
    "    # preprocessing (this includes to-device operation)\n",
    "    preprocess(sample_batched)\n",
    "\n",
    "    # apply model on whole batch directly on device\n",
    "    x = sample_batched['signal']\n",
    "    age = sample_batched['age']\n",
    "    e = model.compute_feature_embedding(x, age, target_from_last=target_from_last)\n",
    "    y = sample_batched['class_label']\n",
    "    \n",
    "    if crop_multiple > 1:\n",
    "        # multi-crop averaging\n",
    "        if e.size(0) % crop_multiple != 0:\n",
    "            raise ValueError(f\"compute_embedding(): Real minibatch size={e.size(0)} is not multiple of \"\n",
    "                             f\"crop_multiple={crop_multiple}.\")\n",
    "\n",
    "        real_minibatch = e.size(0) // crop_multiple\n",
    "        e_ = torch.zeros((real_minibatch, e.size(1)))\n",
    "        y_ = torch.zeros((real_minibatch,), dtype=torch.int32)\n",
    "\n",
    "        for m in range(real_minibatch):\n",
    "            e_[m] = e[crop_multiple*m:crop_multiple*(m + 1)].mean(dim=0, keepdims=True)\n",
    "            y_[m] = y[crop_multiple*m]\n",
    "                \n",
    "        e = e_\n",
    "        y = y_\n",
    "    \n",
    "    return e, y"
   ]
  },
  {
   "cell_type": "code",
   "execution_count": 126,
   "id": "7d28b639-c84a-4ad3-80d7-9b862912b001",
   "metadata": {},
   "outputs": [],
   "source": [
    "target_symptom = {'mci_amnestic_ef': [], 'mci_amnestic_rf': []}\n",
    "\n",
    "for i, sample_batched in enumerate(train_loader):\n",
    "    crop_multiple = config['crop_multiple']\n",
    "    \n",
    "    # estimate\n",
    "    e, y = compute_embedding(model, sample_batched, config['preprocess_test'], crop_multiple, target_from_last=3)\n",
    "    \n",
    "    if i == 0:\n",
    "        embedding = e.detach().cpu().numpy()\n",
    "        target = y.detach().cpu().numpy()\n",
    "    else:\n",
    "        embedding = np.concatenate([embedding, e.detach().cpu().numpy()], axis=0)\n",
    "        target = np.concatenate([target, y.detach().cpu().numpy()], axis=0)\n",
    "        \n",
    "    for s, symp in enumerate(sample_batched['symptom']):\n",
    "        for k in target_symptom.keys():\n",
    "            if k in symp:\n",
    "                target_symptom[k].append((s // crop_multiple) + i * (len(sample_batched['symptom']) // crop_multiple))"
   ]
  },
  {
   "cell_type": "code",
   "execution_count": 127,
   "id": "79442c45-5b8a-4dc2-95c4-92f0924aae25",
   "metadata": {},
   "outputs": [],
   "source": [
    "from sklearn.preprocessing import MinMaxScaler\n",
    "from matplotlib import offsetbox\n",
    "import matplotlib.pyplot as plt\n",
    "from sklearn.manifold import TSNE"
   ]
  },
  {
   "cell_type": "code",
   "execution_count": 135,
   "id": "1b230944-8bce-468a-a560-ea8a65088a34",
   "metadata": {},
   "outputs": [],
   "source": [
    "tsne_transform = TSNE(n_components=2, init=\"pca\", learning_rate=\"auto\", perplexity=200.0,\n",
    "                      n_iter=5000, n_iter_without_progress=500, n_jobs=2, random_state=0,)"
   ]
  },
  {
   "cell_type": "code",
   "execution_count": 136,
   "id": "ba5a23e9-830d-41c1-8867-a81e929c5e3a",
   "metadata": {},
   "outputs": [
    {
     "name": "stderr",
     "output_type": "stream",
     "text": [
      "C:\\Users\\Minjae\\anaconda3\\envs\\eeg\\lib\\site-packages\\sklearn\\manifold\\_t_sne.py:982: FutureWarning:\n",
      "\n",
      "The PCA initialization in TSNE will change to have the standard deviation of PC1 equal to 1e-4 in 1.2. This will ensure better convergence.\n",
      "\n"
     ]
    },
    {
     "name": "stdout",
     "output_type": "stream",
     "text": [
      "(944, 2)\n"
     ]
    }
   ],
   "source": [
    "out_embeddings = tsne_transform.fit_transform(embedding)\n",
    "print(out_embeddings.shape)"
   ]
  },
  {
   "cell_type": "code",
   "execution_count": null,
   "id": "87bb120b-15c0-4002-8eb6-59876baa2ae6",
   "metadata": {},
   "outputs": [],
   "source": []
  },
  {
   "cell_type": "code",
   "execution_count": null,
   "id": "06df014e-b87a-4749-ac62-3e73accef4a7",
   "metadata": {},
   "outputs": [],
   "source": []
  },
  {
   "cell_type": "code",
   "execution_count": 141,
   "id": "0d6121e2-b929-4a8e-a86f-1423105daa8b",
   "metadata": {},
   "outputs": [
    {
     "data": {
      "text/plain": [
       "({'dataset_name': 'CAUEEG dataset',\n",
       "  'signal_header': ['Fp1-AVG',\n",
       "   'F3-AVG',\n",
       "   'C3-AVG',\n",
       "   'P3-AVG',\n",
       "   'O1-AVG',\n",
       "   'Fp2-AVG',\n",
       "   'F4-AVG',\n",
       "   'C4-AVG',\n",
       "   'P4-AVG',\n",
       "   'O2-AVG',\n",
       "   'F7-AVG',\n",
       "   'T3-AVG',\n",
       "   'T5-AVG',\n",
       "   'F8-AVG',\n",
       "   'T4-AVG',\n",
       "   'T6-AVG',\n",
       "   'FZ-AVG',\n",
       "   'CZ-AVG',\n",
       "   'PZ-AVG',\n",
       "   'EKG',\n",
       "   'Photic']},\n",
       " <datasets.caueeg_dataset.CauEegDataset at 0x2201e29ab50>)"
      ]
     },
     "execution_count": 141,
     "metadata": {},
     "output_type": "execute_result"
    }
   ],
   "source": [
    "from datasets.caueeg_script import load_caueeg_full_dataset\n",
    "\n",
    "dataset_path = os.path.join(config['cwd'], config['dataset_path']) if 'cwd' in config.keys() else config['dataset_path']\n",
    "_, eeg_dataset = load_caueeg_full_dataset(dataset_path=dataset_path, load_event=config['load_event'], file_format=config['file_format'], transform=config['transform'])"
   ]
  },
  {
   "cell_type": "code",
   "execution_count": 137,
   "id": "c3bc7238-c0d3-498d-9d94-9b20c0e0bf7e",
   "metadata": {},
   "outputs": [
    {
     "data": {
      "image/png": "[encoded data removed]",
      "text/plain": [
       "<Figure size 432x288 with 1 Axes>"
      ]
     },
     "metadata": {
      "needs_background": "light"
     },
     "output_type": "display_data"
    }
   ],
   "source": [
    "_, ax = plt.subplots()\n",
    "for class_name, class_label in config['class_name_to_label'].items():\n",
    "    ax.scatter(\n",
    "        out_embeddings[target == class_label][:, 0],\n",
    "        out_embeddings[target == class_label][:, 1],\n",
    "        label=class_name,\n",
    "        color=plt.cm.Dark2(class_label),\n",
    "        alpha=0.2,\n",
    "        zorder=2)\n",
    "    \n",
    "# _, ax = plt.subplots()\n",
    "for k, v in target_symptom.items():\n",
    "    ax.scatter(\n",
    "        out_embeddings[v][:, 0],\n",
    "        out_embeddings[v][:, 1],\n",
    "        label=k,\n",
    "        alpha=0.5,\n",
    "        zorder=2)"
   ]
  },
  {
   "cell_type": "code",
   "execution_count": null,
   "id": "ff46fc4a-3cde-4e2b-8370-da7d1b2db996",
   "metadata": {},
   "outputs": [],
   "source": []
  }
 ],
 "metadata": {
  "kernelspec": {
   "display_name": "Python 3 (ipykernel)",
   "language": "python",
   "name": "python3"
  },
  "language_info": {
   "codemirror_mode": {
    "name": "ipython",
    "version": 3
   },
   "file_extension": ".py",
   "mimetype": "text/x-python",
   "name": "python",
   "nbconvert_exporter": "python",
   "pygments_lexer": "ipython3",
   "version": "3.9.12"
  }
 },
 "nbformat": 4,
 "nbformat_minor": 5
}
