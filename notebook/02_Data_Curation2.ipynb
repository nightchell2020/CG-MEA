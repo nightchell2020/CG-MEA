{
 "cells": [
  {
   "cell_type": "markdown",
   "metadata": {
    "pycharm": {
     "name": "#%% md\n"
    }
   },
   "source": [
    "# EEG Data Curation Part 2\n",
    "\n",
    "`01_Data_Curation1` 노트북에서 생성한 메타데이터인 `new_DB_list.xlsx`를 불러들여, 이후 학습이 가능하도록 정리하는 노트북.  \n",
    "결과물들은 다음의 파일 포맷으로 저장하였다.  \n",
    "  - EEG 신호: `EDF`\n",
    "  - EEG 측정시 발생한 이벤트: `JSON`\n",
    "  - Annotation: `JSON`, `XLSX`\n",
    "  - 디버깅용 Metadata: `JSON`, `XLSX`"
   ]
  },
  {
   "cell_type": "markdown",
   "metadata": {
    "pycharm": {
     "name": "#%% md\n"
    }
   },
   "source": [
    "-----\n",
    "\n",
    "## 파일 수작업 정리 2\n",
    "\n",
    ">**주의**: 수작업을 통해 아래 내용을 수정하는 경우, 이전 노트북인 `01_Data_Curation1`을 다시 수행해야 한다.\n",
    "\n",
    "이 노트북을 작성하는 동안, 일부 데이터를 수작업으로 보완 및 수정하였다.  \n",
    "이전 노트북인 `01_Data_Curation1`에서 생성한 `DB_list_modified.xlsx`를 토대로, 아래의 수작업 내용들을 보완한 결과물을 `220307_new_DB_list.xlsx`로 저장해두었다.  \n",
    "수작업 내용은 아래를 참고하자.\n",
    "\n",
    "1. **데이터 추가 수집**\n",
    "    나이와 진단명 정보를 보완 및 수정하였다.  \n",
    "    나이 정보는 `210429_metadata_나이작업.xlsx`과 `210504_metadata.xlsx`에, 진단명은 `210504_many-to-one_Diagnosis_추가수정.xlsx`에 기록되어 있다.\n",
    "\n",
    "\n",
    "2. **파일 정리**\n",
    "    일부 EDF 파일들은 파일명에 기록된 측정 날짜와 EDF_Header에 기록된 측정 날짜가 서로 상이하다.  \n",
    "    따라서 다음과 같은 수정을 거쳤다.\n",
    "    - [x] `00692685_190911`: EDF 파일 및 XLSX 파일 제거.\n",
    "    - [x] `00692685_190920`: EDF 파일 및 XLSX 파일 제거.\n",
    "    - [x] `00716108_2202219`: EDF 파일 및 XLSX 파일 이름 변경 (00716108_2202219 → 00716108_220219).\n",
    "    - [x] `00725683_091115`: EDF 파일 및 XLSX 파일 이름 변경 (00725683_091115 → 00725683_090115).\n",
    "    - [x] `00916613_240813`: EDF 파일 및 XLSX 파일 이름 변경 (00916613_240813 → 00916613_240816).\n",
    "    - [x] `00937775_270915`: EDF 파일 및 XLSX 파일 이름 변경 (00937775_270915 → 00937775_270917).\n",
    "    - [x] `00948119_0330717`: EDF 파일 및 XLSX 파일 이름 변경 (00948119_0330717 → 00948119_030717).\n",
    "    - [x] `01014362_031119`: EDF 파일 및 XLSX 파일 이름 변경 (01014362_031119 → 01014362_030119).\n",
    "    - [x] `01141783`: EDF 파일 및 XLSX 파일 이름 변경 (01141783 → 01141783_130214).\n",
    "    - [x] `01147100`: EDF 파일 및 XLSX 파일 이름 변경 (01147100 → 01147100_010414).\n",
    "    - [x] `01155798_311004`: EDF 파일 및 XLSX 파일 이름 변경 (01155798_311004 → 01155798_311014).\n",
    "    - [x] `01181036`: EDF 파일 및 XLSX 파일 이름 변경 (01181036 → 01181036_260914).\n",
    "    - [x] `01186214`: EDF 파일 및 XLSX 파일 이름 변경 (01186214 → 01186214_220719).\n",
    "    - [x] `01212635_140515`: EDF 파일 및 XLSX 파일 이름 변경 (01212635_140515 → 01212635_140415).\n",
    "    - [x] `01274934`: EDF 파일 및 XLSX 파일 이름 변경 (01274934 → 01274934_230616).\n",
    "    - [x] `01303957_051117`: EDF 파일 및 XLSX 파일 이름 변경 (01303957_051117 → 01303957_050117).\n",
    "    - [x] `01397646_281019`: EDF 파일 및 XLSX 파일 이름 변경 (01397646_281019 → 01397646_291019).\n",
    "\n",
    "\n",
    "3. **이벤트 (XLSX) 파일 수정**\n",
    "    일부 이벤트 파일들은 Topmost sheet와 EDF_Header의 정보가 일치하지 않는다.  \n",
    "    따라서 다음과 같은 수정을 거쳤다.\n",
    "    - [x] `00324958_271118.xlsx`: Sheet48 첫 세 행을 제거, 그 외의 Sheets 제거.\n",
    "    - [x] `01031448_210115.xlsx`: Sheet56 첫 세 행을 제거, 그 외의 Sheets 제거.\n",
    "    - [x] `00507286_010915.xlsx`: Sheet72 외의 Sheets 제거.\n",
    "    - [x] `00414635_240414.xlsx`: Sheet15 외의 Sheets 제거.\n",
    "    - [x] `00418981_060116.xlsx`: Sheet33 외의 Sheets 제거.\n",
    "    - [x] `00418981_090316.xlsx`: Sheet34 외의 Sheets 제거.\n",
    "    - [x] `00421094_140519.xlsx`: Sheet55 외의 Sheets 제거.\n",
    "    - [x] `00680066_151014.xlsx`: Sheet91 외의 Sheets 제거.\n",
    "    - [x] `00697249_090414.xlsx`: Sheet5 외의 Sheets 제거.\n",
    "    - [x] `00700004_270619.xlsx`: Sheet53 외의 Sheets 제거.\n",
    "    - [x] `00783510_281015.xlsx`: Sheet27 외의 Sheets 제거.\n",
    "    - [x] `00783510_301115.xlsx`: Sheet28 외의 Sheets 제거.\n",
    "    - [x] `00783696_220414.xlsx`: Sheet6 외의 Sheets 제거.\n",
    "    - [x] `00796775_281015.xlsx`: Sheet25 외의 Sheets 제거.\n",
    "    - [x] `00796775_301115.xlsx`: Sheet26 외의 Sheets 제거.\n",
    "    - [x] `00823206_130514.xlsx`: Sheet7 외의 Sheets 제거.\n",
    "    - [x] `00824216_080416.xlsx`: Sheet35 외의 Sheets 제거.\n",
    "    - [x] `00824216_110516.xlsx`: Sheet36 외의 Sheets 제거.\n",
    "    - [x] `00875350_140514.xlsx`: Sheet8 외의 Sheets 제거.\n",
    "    - [x] `00883719_030912.xlsx`: Sheet40 외의 Sheets 제거.\n",
    "    - [x] `00883719_240812.xlsx`: Sheet41 외의 Sheets 제거.\n",
    "    - [x] `00957827_230317.xlsx`: Sheet54 외의 Sheets 제거.\n",
    "    - [x] `00986061_130716.xlsx`: Sheet56 외의 Sheets 제거.\n",
    "    - [x] `00986061_240215.xlsx`: Sheet57 외의 Sheets 제거.\n",
    "    - [x] `00986061_270116.xlsx`: Sheet58 외의 Sheets 제거.\n",
    "    - [x] `00988278_020819.xlsx`: Sheet41 외의 Sheets 제거.\n",
    "    - [x] `00988278_071119.xlsx`: Sheet40 외의 Sheets 제거.\n",
    "    - [x] `00988278_160819.xlsx`: Sheet42 외의 Sheets 제거.\n",
    "    - [x] `00988278_210915.xlsx`: Sheet39 외의 Sheets 제거.\n",
    "    - [x] `01011922_270815.xlsx`: Sheet23 외의 Sheets 제거.\n",
    "    - [x] `01011922_290715.xlsx`: Sheet24 외의 Sheets 제거.\n",
    "    - [x] `01025734_250815.xlsx`: Sheet21 외의 Sheets 제거.\n",
    "    - [x] `01025734_280715.xlsx`: Sheet22 외의 Sheets 제거.\n",
    "    - [x] `01026841_101215.xlsx`: Sheet31 외의 Sheets 제거.\n",
    "    - [x] `01026841_270116.xlsx`: Sheet32 외의 Sheets 제거.\n",
    "    - [x] `01027623_040416.xlsx`: Sheet45 외의 Sheets 제거.\n",
    "    - [x] `01027623_060317.xlsx`: Sheet43 외의 Sheets 제거.\n",
    "    - [x] `01027623_260916.xlsx`: Sheet44 외의 Sheets 제거.\n",
    "    - [x] `01073369_130514.xlsx`: Sheet9 외의 Sheets 제거.\n",
    "    - [x] `01080162_120815.xlsx`: Sheet19 외의 Sheets 제거.\n",
    "    - [x] `01080162_160715.xlsx`: Sheet20 외의 Sheets 제거.\n",
    "    - [x] `01081922_051115.xlsx`: Sheet29 외의 Sheets 제거.\n",
    "    - [x] `01081922_071215.xlsx`: Sheet30 외의 Sheets 제거.\n",
    "    - [x] `01086373_020615.xlsx`: Sheet10 외의 Sheets 제거.\n",
    "    - [x] `01086373_290415.xlsx`: Sheet11 외의 Sheets 제거.\n",
    "    - [x] `01126091_140415.xlsx`: Sheet13 외의 Sheets 제거.\n",
    "    - [x] `01126091_200515.xlsx`: Sheet12 외의 Sheets 제거.\n",
    "    - [x] `01127836_221116.xlsx`: Sheet46 외의 Sheets 제거.\n",
    "    - [x] `01139924_060417.xlsx`: Sheet47 외의 Sheets 제거.\n",
    "    - [x] `01139924_140717.xlsx`: Sheet48 외의 Sheets 제거.\n",
    "    - [x] `01139924_291214.xlsx`: Sheet49 외의 Sheets 제거.\n",
    "    - [x] `01139924_300315.xlsx`: Sheet50 외의 Sheets 제거.\n",
    "    - [x] `01191314_020317.xlsx`: Sheet37 외의 Sheets 제거.\n",
    "    - [x] `01195277_291215.xlsx`: Sheet4 외의 Sheets 제거.\n",
    "    - [x] `01207886_270515.xlsx`: Sheet14 외의 Sheets 제거.\n",
    "    - [x] `01211467_070415.xlsx`: Sheet18 외의 Sheets 제거.\n",
    "    - [x] `01211467_120515.xlsx`: Sheet17 외의 Sheets 제거.\n",
    "    - [x] `01243157_141215.xlsx`: Sheet51 외의 Sheets 제거.\n",
    "    - [x] `01243158_301115.xlsx`: Sheet52 외의 Sheets 제거.\n",
    "    - [x] `01271175_270416.xlsx`: Sheet37 외의 Sheets 제거.\n",
    "    - [x] `01271175_300516.xlsx`: Sheet38 외의 Sheets 제거.\n",
    "    - [x] `01345366_010917.xlsx`: Sheet39 외의 Sheets 제거.\n",
    "    - [x] `01348720_280917.xlsx`: Sheet38 외의 Sheets 제거.\n",
    "\n",
    "\n",
    "4. **비정상 메타데이터 표시**\n",
    "    Montage, 나이값 등에서 비정상적인 값을 갖는 경우들은 메타데이터 (`new_DB_list.xlsx`) 파일에 별도로 표시해두었다.  \n",
    "    그들의 목록과 각각의 선정 이유는 아래와 같다.\n",
    "    - `00315506_290615`: Different Montage.\n",
    "    - `00431116_030120`: 측정일시.\n",
    "    - `00445153_020101`: 나이 및 측정일시.    \n",
    "    - `00672070_250215`: Different Montage.\n",
    "    - `00907205_071019`: Different Montage.\n",
    "    - `01180776_030101`: 측정일시.\n",
    "    - `01235271_051115`: Different Montage.\n",
    "    - `01260350_081119`: Different Montage.\n",
    "    - `01260350_251019`: Different Montage.\n",
    "    - `01279184_220616`: 나이.\n",
    "    - `01329282_180517`: 나이."
   ]
  },
  {
   "cell_type": "markdown",
   "metadata": {
    "pycharm": {
     "name": "#%% md\n"
    }
   },
   "source": [
    "-----\n",
    "\n",
    "## 환경 구성"
   ]
  },
  {
   "cell_type": "code",
   "execution_count": 1,
   "metadata": {
    "pycharm": {
     "name": "#%%\n"
    }
   },
   "outputs": [
    {
     "name": "stdout",
     "output_type": "stream",
     "text": [
      "C:\\Users\\Minjae\\Desktop\\EEG_Project\n"
     ]
    }
   ],
   "source": [
    "# for auto-reloading external modules\n",
    "# see http://stackoverflow.com/questions/1907993/autoreload-of-modules-in-ipython\n",
    "%load_ext autoreload\n",
    "%autoreload 2\n",
    "%cd .."
   ]
  },
  {
   "cell_type": "code",
   "execution_count": 2,
   "metadata": {
    "pycharm": {
     "name": "#%%\n"
    }
   },
   "outputs": [],
   "source": [
    "# Load some packages\n",
    "import os\n",
    "import glob\n",
    "from openpyxl import load_workbook, Workbook, styles\n",
    "import json\n",
    "\n",
    "import numpy as np\n",
    "import pyedflib\n",
    "import datetime\n",
    "\n",
    "import pprint\n",
    "import warnings\n",
    "import ctypes\n",
    "from tqdm.auto import tqdm\n",
    "\n",
    "# custom package\n",
    "from datasets.caueeg_data_curation import *\n",
    "from datasets.pipeline import *"
   ]
  },
  {
   "cell_type": "markdown",
   "metadata": {
    "pycharm": {
     "name": "#%% md\n"
    }
   },
   "source": [
    "-----\n",
    "\n",
    "## 메타데이터 불러오기"
   ]
  },
  {
   "cell_type": "code",
   "execution_count": null,
   "metadata": {
    "pycharm": {
     "name": "#%%\n"
    }
   },
   "outputs": [],
   "source": [
    "# Data file path\n",
    "origin_path = r'local/dataset/01_Original_Data_220419'\n",
    "curate_path = r'local/dataset/02_Curated_Data_220419'\n",
    "\n",
    "os.makedirs(curate_path, exist_ok=True)"
   ]
  },
  {
   "cell_type": "code",
   "execution_count": null,
   "metadata": {
    "pycharm": {
     "name": "#%%\n"
    }
   },
   "outputs": [],
   "source": [
    "meta_file = os.path.join(origin_path, r'new_DB_list.xlsx')\n",
    "ws = load_workbook(meta_file, data_only=True)['metadata']\n",
    "\n",
    "metadata = []\n",
    "\n",
    "num = 2\n",
    "while True:\n",
    "    m = dict()\n",
    "    m['edfname'] = ws.cell(row=num, column=1).value\n",
    "    m['dx1'] = ws.cell(row=num, column=2).value\n",
    "    m['birth'] = ws.cell(row=num, column=3).value\n",
    "    m['anomaly'] = True if ws.cell(row=num, column=4).value is not None else False\n",
    "    num += 1\n",
    "    \n",
    "    # check whether the row is empty (which is EOF condition)\n",
    "    if m['edfname'] is None:\n",
    "        break\n",
    "    elif m['anomaly']:\n",
    "        continue\n",
    "        \n",
    "    # move the pivot row\n",
    "    metadata.append(m)\n",
    "    \n",
    "print('Size:', len(metadata))\n",
    "print()\n",
    "print('Loaded metadata (first three displayed):')\n",
    "print(json.dumps(metadata[:3], indent=4))"
   ]
  },
  {
   "cell_type": "markdown",
   "metadata": {
    "pycharm": {
     "name": "#%% md\n"
    }
   },
   "source": [
    "-----\n",
    "\n",
    "## EDF 파일 구성 확인 및 정리"
   ]
  },
  {
   "cell_type": "markdown",
   "metadata": {
    "pycharm": {
     "name": "#%% md\n"
    }
   },
   "source": [
    "### EDF Header Label 구조 확인"
   ]
  },
  {
   "cell_type": "code",
   "execution_count": null,
   "metadata": {
    "pycharm": {
     "name": "#%%\n"
    }
   },
   "outputs": [],
   "source": [
    "m = metadata[0]\n",
    "edf_file = os.path.join(origin_path, m['edfname'] + '.edf')\n",
    "signals, signal_headers, edf_header  = pyedflib.highlevel.read_edf(edf_file)\n",
    "\n",
    "refer_headers = signal_headers\n",
    "\n",
    "pprint.pp(m)\n",
    "print()\n",
    "print('-' * 100)\n",
    "print()\n",
    "pprint.pp(edf_header)\n",
    "print()\n",
    "print('-' * 100)\n",
    "print()\n",
    "pprint.pp(signal_headers)"
   ]
  },
  {
   "cell_type": "code",
   "execution_count": null,
   "metadata": {
    "pycharm": {
     "name": "#%%\n"
    }
   },
   "outputs": [],
   "source": [
    "signal_headers = [s_h['label'] for s_h in signal_headers]\n",
    "print(signal_headers)"
   ]
  },
  {
   "cell_type": "markdown",
   "metadata": {
    "pycharm": {
     "name": "#%% md\n"
    }
   },
   "source": [
    "-----\n",
    "\n",
    "## EDF 측정시 발생하는 이벤트 종류 확인 & EDF 파일과 메타데이터에 기록된 측정 날짜/시간 비교"
   ]
  },
  {
   "cell_type": "code",
   "execution_count": null,
   "metadata": {
    "pycharm": {
     "name": "#%%\n"
    }
   },
   "outputs": [],
   "source": [
    "warnings.filterwarnings(action='ignore')\n",
    "\n",
    "event_dict = dict()\n",
    "\n",
    "for m in tqdm(metadata):\n",
    "    edf_file = os.path.join(origin_path, m['edfname'] + '.edf')\n",
    "    edf_header = pyedflib.highlevel.read_edf_header(edf_file)\n",
    "\n",
    "    event_file = os.path.join(origin_path, m['edfname'] + '.xlsx')\n",
    "    wb = load_workbook(event_file, data_only=True)\n",
    "    ws = wb[wb.sheetnames[0]]\n",
    "        \n",
    "    num = 2\n",
    "    event = []\n",
    "    while True:\n",
    "        t = ws.cell(row=num, column=3).value\n",
    "        e = ws.cell(row=num, column=4).value\n",
    "\n",
    "        if t is None:\n",
    "            break\n",
    "        \n",
    "        try:\n",
    "            t = edf_header['startdate'].strftime('%Y%m%d') + t\n",
    "            t = datetime.datetime.strptime(t, '%Y%m%d %H:%M:%S.%f')\n",
    "            event_dict[e] = event_dict.get(e, 0) + 1\n",
    "        except Exception as ec:\n",
    "            print(edf_header['startdate'], m['edfname'], ec)\n",
    "        \n",
    "        if num == 2:\n",
    "            # date\n",
    "            try:\n",
    "                date1 = m['edfname'].split('_')[1]\n",
    "                date2 = edf_header['startdate'].strftime('%d%m%y')\n",
    "                if date1 != date2:\n",
    "                    print(f'- Different starting date: filename {m[\"edfname\"]} vs edfheader {date2})')\n",
    "            except Exception as ec:\n",
    "                date2 = edf_header['startdate'].strftime('%d%m%y')\n",
    "                print(f'- Different starting date (exception): filename {m[\"edfname\"]} vs edfheader {date2})', ec)\n",
    "\n",
    "            # time\n",
    "            startTime = t\n",
    "            diff = abs(edf_header['startdate'] - t).total_seconds()\n",
    "            if diff > 0.0:\n",
    "                print(f'- Different starting time: \\\n",
    "                {diff:>10.2f}s in {m[\"edfname\"]} ({edf_header[\"startdate\"].strftime(\"%H:%M:%S\")} vs {t.strftime(\"%H:%M:%S\")})')\n",
    "        \n",
    "        t = int(np.floor((t - startTime).total_seconds() * 200))\n",
    "        event.append((t, e))\n",
    "        num += 1\n",
    "        \n",
    "print('Done.')\n",
    "print()\n",
    "\n",
    "pprint.pprint(sorted(event_dict.items(), key=lambda x: x[1], reverse=True))\n",
    "warnings.filterwarnings(action='default')"
   ]
  },
  {
   "cell_type": "markdown",
   "metadata": {
    "pycharm": {
     "name": "#%% md\n"
    }
   },
   "source": [
    "---\n",
    "\n",
    "## 데이터셋 구성 및 저장\n",
    "\n",
    "\n",
    "#### EDF 신호 파일 익명화 저장\n",
    "- Signal Header Label 불일치 데이터 배제\n",
    "- 측정일시 제거"
   ]
  },
  {
   "cell_type": "code",
   "execution_count": null,
   "metadata": {
    "pycharm": {
     "name": "#%%\n"
    }
   },
   "outputs": [],
   "source": [
    "annotation = dict()\n",
    "annotation['dataset_name'] = 'CAUEEG dataset'\n",
    "annotation['signal_header'] = signal_headers\n",
    "annotation['data'] = []\n",
    "\n",
    "annotation_debug = dict()\n",
    "annotation_debug['dataset_name'] = 'CAUEEG dataset'\n",
    "annotation_debug['signal_header'] = signal_headers\n",
    "annotation_debug['data'] = []"
   ]
  },
  {
   "cell_type": "code",
   "execution_count": null,
   "metadata": {
    "pycharm": {
     "name": "#%%\n"
    }
   },
   "outputs": [],
   "source": [
    "warnings.filterwarnings(action='ignore')\n",
    "\n",
    "text = f'Delete ALL files in {os.path.join(curate_path)}?'\n",
    "if ctypes.windll.user32.MessageBoxExW(0, text, 'Question', 4) == 6: # Yes\n",
    "    for f in glob.glob(os.path.join(curate_path, '*/*')):\n",
    "        os.remove(f)\n",
    "    for f in glob.glob(os.path.join(curate_path, '*.*')):\n",
    "        os.remove(f)\n",
    "\n",
    "os.makedirs(os.path.join(curate_path, 'signal'), exist_ok=True)\n",
    "os.makedirs(os.path.join(curate_path, 'event'), exist_ok=True)\n",
    "       \n",
    "for m in tqdm(metadata):\n",
    "    # EDF file check\n",
    "    edf_file = os.path.join(origin_path, m['edfname'] + '.edf')\n",
    "    signals, signal_headers, edf_header = pyedflib.highlevel.read_edf(edf_file)\n",
    "        \n",
    "    if refer_headers != signal_headers:\n",
    "        print('- Signal header differs from the majority:', m['edfname'])\n",
    "        continue\n",
    "        \n",
    "    # calculate age\n",
    "    age = calculate_age(birth_to_datetime(m['birth']), \n",
    "                        edf_header['startdate'])\n",
    "    \n",
    "    if age is None:\n",
    "        print('- The age information is unknown:', m['edfname'])\n",
    "        continue\n",
    "    \n",
    "    # EDF recoding events\n",
    "    event_file = os.path.join(origin_path, m['edfname'] + '.xlsx')\n",
    "    wb = load_workbook(event_file, data_only=True)\n",
    "    ws = wb[wb.sheetnames[0]]\n",
    "    \n",
    "    num = 2\n",
    "    event = [] \n",
    "    \n",
    "    while True:\n",
    "        t = ws.cell(row=num, column=3).value\n",
    "        e = ws.cell(row=num, column=4).value\n",
    "        \n",
    "        if t is None:\n",
    "            break\n",
    "        \n",
    "        t = edf_header['startdate'].strftime('%Y%m%d') + t\n",
    "        t = datetime.datetime.strptime(t, '%Y%m%d %H:%M:%S.%f')\n",
    "        \n",
    "        if num == 2: \n",
    "            startTime = t\n",
    "            \n",
    "        t = int(np.floor((t - startTime).total_seconds() * 200))\n",
    "        event.append((t, e))\n",
    "        num += 1\n",
    "    \n",
    "    # annotation_debug\n",
    "    m2 = {}\n",
    "    m2['serial'] = f'{len(annotation_debug[\"data\"]) + 1:05}'\n",
    "    m2['edfname'] = m['edfname']\n",
    "    m2['birth'] = birth_to_datetime(m['birth'])\n",
    "    m2['record'] = edf_header['startdate']\n",
    "    m2['age'] = age\n",
    "    m2['dx1'] = m['dx1']\n",
    "    m2['symptom'] = MultiEegLabel.load_from_string(m['dx1'])\n",
    "    annotation_debug['data'].append(m2)\n",
    "    \n",
    "    # annotation\n",
    "    m3 = {}\n",
    "    m3['serial'] = m2['serial']\n",
    "    m3['age'] = age\n",
    "    m3['symptom'] = m2['symptom']\n",
    "    annotation['data'].append(m3)\n",
    "    \n",
    "    # save EDF file again without the personal information\n",
    "    fname = os.path.join(curate_path, 'signal', m2['serial'] + '.edf')\n",
    "    edf_header['startdate'] = datetime.datetime(2100, 1, 1)  # datetime is not passed to prevent from infringement of personal data \n",
    "    pyedflib.highlevel.write_edf(fname, signals, signal_headers, edf_header)\n",
    "    \n",
    "    # events\n",
    "    with open(os.path.join(curate_path, 'event', m2['serial']) + '.json', 'w') as json_file:\n",
    "        json.dump(event, json_file, indent=4, default=serialize_json)\n",
    "    \n",
    "print('Done.')\n",
    "print()\n",
    "print(f'Among {len(metadata)}, {len(annotation[\"data\"])} data were saved.')\n",
    "\n",
    "warnings.filterwarnings(action='default')"
   ]
  },
  {
   "cell_type": "markdown",
   "metadata": {
    "pycharm": {
     "name": "#%% md\n"
    }
   },
   "source": [
    "#### Metadata 정리 후 저장\n",
    "- `annotation`: 공개할 목적으로 익명화를 수행한 Annotation\n",
    "- `annotation_debug`: 디버깅을 위해 모든 정보를 총망라한 Metadata"
   ]
  },
  {
   "cell_type": "code",
   "execution_count": null,
   "metadata": {
    "pycharm": {
     "name": "#%%\n"
    }
   },
   "outputs": [],
   "source": [
    "pprint.pprint({k: (v if k != 'data' else v[:5]) for (k, v) in annotation_debug.items()}, width=250)"
   ]
  },
  {
   "cell_type": "code",
   "execution_count": null,
   "metadata": {
    "pycharm": {
     "name": "#%%\n"
    }
   },
   "outputs": [],
   "source": [
    "pprint.pprint({k: (v if k != 'data' else v[:5]) for (k, v) in annotation.items()}, width=250)"
   ]
  },
  {
   "cell_type": "code",
   "execution_count": null,
   "metadata": {
    "pycharm": {
     "name": "#%%\n"
    }
   },
   "outputs": [],
   "source": [
    "# save annotation as JSON\n",
    "path = os.path.join(curate_path, 'annotation.json')\n",
    "with open(path, 'w') as json_file:\n",
    "    json.dump(annotation, json_file, indent=4, default=serialize_json)\n",
    "    \n",
    "# save annotation as XLSX\n",
    "wb = Workbook()\n",
    "ws = wb.active\n",
    "ws.title = 'annotation'\n",
    "ws.cell(row=1, column=1).value = 'serial'\n",
    "ws.cell(row=1, column=2).value = 'age'\n",
    "for (i, label) in enumerate(annotation['data'][0]['symptom'].get_label_types()):\n",
    "    ws.cell(row=1, column=3 + i).value = label\n",
    "\n",
    "for (i, m) in enumerate(annotation['data']):\n",
    "    ws.cell(row=2 + i, column=1).value = m['serial']\n",
    "    ws.cell(row=2 + i, column=2).value = m['age']\n",
    "    for (k, label) in enumerate(m['symptom'].get_label_values()):\n",
    "        ws.cell(row=2 + i, column=3 + k).value = label if label is not False else None\n",
    "    \n",
    "    # coloring\n",
    "    color = 'FDFDD0' if i % 2 == 0 else 'D9E5FF'\n",
    "    for rows in ws.iter_rows(min_row=2 + i, max_row=2 + i, min_col=1, max_col=2 + m['symptom'].get_size()):\n",
    "        for cell in rows:\n",
    "            cell.fill = styles.PatternFill(start_color=color, end_color=color, fill_type=\"solid\")\n",
    "\n",
    "path = os.path.join(curate_path, 'annotation.xlsx')\n",
    "wb.save(path)"
   ]
  },
  {
   "cell_type": "code",
   "execution_count": null,
   "metadata": {
    "pycharm": {
     "name": "#%%\n"
    }
   },
   "outputs": [],
   "source": [
    "# save annotation_debug as JSON\n",
    "path = os.path.join(curate_path, 'annotation_debug.json')\n",
    "with open(path, 'w') as json_file:\n",
    "    json.dump(annotation_debug, json_file, indent=4, default=serialize_json)\n",
    "\n",
    "# save annotation_debug as XLSX\n",
    "wb = Workbook()\n",
    "ws = wb.active\n",
    "ws.title = 'metadata'\n",
    "ws.cell(row=1, column=1).value = 'serial'\n",
    "ws.cell(row=1, column=2).value = 'EDF file'\n",
    "ws.cell(row=1, column=3).value = 'birth'\n",
    "ws.cell(row=1, column=4).value = 'record'\n",
    "ws.cell(row=1, column=5).value = 'age'\n",
    "ws.cell(row=1, column=6).value = 'dx1'\n",
    "for (i, label) in enumerate(annotation_debug['data'][0]['symptom'].get_label_types()):\n",
    "    ws.cell(row=1, column=7 + i).value = label\n",
    "\n",
    "for (i, m) in enumerate(annotation_debug['data']):\n",
    "    ws.cell(row=2 + i, column=1).value = m['serial']\n",
    "    ws.cell(row=2 + i, column=2).value = m['edfname']\n",
    "    ws.cell(row=2 + i, column=3).value = m['birth']\n",
    "    ws.cell(row=2 + i, column=4).value = m['record']\n",
    "    ws.cell(row=2 + i, column=5).value = m['age']\n",
    "    ws.cell(row=2 + i, column=6).value = m['dx1']\n",
    "    for (k, label) in enumerate(m['symptom'].get_label_values()):\n",
    "        ws.cell(row=2 + i, column=7 + k).value = label if label is not False else None\n",
    "    \n",
    "    # coloring\n",
    "    color = 'FDFDD0' if i % 2 == 0 else 'D9E5FF'\n",
    "    for rows in ws.iter_rows(min_row=2 + i, max_row=2 + i, min_col=1, max_col=6 + m['symptom'].get_size()):\n",
    "        for cell in rows:\n",
    "            cell.fill = styles.PatternFill(start_color=color, end_color=color, fill_type=\"solid\")\n",
    "\n",
    "path = os.path.join(curate_path, 'annotation_debug.xlsx')\n",
    "wb.save(path)"
   ]
  },
  {
   "cell_type": "code",
   "execution_count": null,
   "metadata": {
    "pycharm": {
     "name": "#%%\n"
    }
   },
   "outputs": [],
   "source": []
  }
 ],
 "metadata": {
  "kernelspec": {
   "display_name": "Python 3 (ipykernel)",
   "language": "python",
   "name": "python3"
  },
  "language_info": {
   "codemirror_mode": {
    "name": "ipython",
    "version": 3
   },
   "file_extension": ".py",
   "mimetype": "text/x-python",
   "name": "python",
   "nbconvert_exporter": "python",
   "pygments_lexer": "ipython3",
   "version": "3.12.4"
  },
  "toc": {
   "base_numbering": 1,
   "nav_menu": {
    "height": "279px",
    "width": "378px"
   },
   "number_sections": true,
   "sideBar": true,
   "skip_h1_title": false,
   "title_cell": "Table of Contents",
   "title_sidebar": "Contents",
   "toc_cell": true,
   "toc_position": {
    "height": "356px",
    "left": "1090px",
    "top": "213px",
    "width": "384px"
   },
   "toc_section_display": true,
   "toc_window_display": false
  },
  "toc-autonumbering": false,
  "toc-showcode": false,
  "toc-showmarkdowntxt": false,
  "toc-showtags": false
 },
 "nbformat": 4,
 "nbformat_minor": 4
}
