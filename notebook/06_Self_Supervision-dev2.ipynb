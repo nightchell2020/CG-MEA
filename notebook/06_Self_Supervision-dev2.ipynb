{
 "cells": [
  {
   "cell_type": "markdown",
   "metadata": {
    "pycharm": {
     "name": "#%% md\n"
    }
   },
   "source": [
    "# Self-Supervision\n",
    "\n",
    "- Train a deep network using the self-supervised learning framework."
   ]
  },
  {
   "cell_type": "markdown",
   "metadata": {
    "pycharm": {
     "name": "#%% md\n"
    }
   },
   "source": [
    "-----\n",
    "\n",
    "## Load Packages"
   ]
  },
  {
   "cell_type": "code",
   "execution_count": 1,
   "metadata": {
    "pycharm": {
     "name": "#%%\n"
    }
   },
   "outputs": [
    {
     "name": "stdout",
     "output_type": "stream",
     "text": [
      "/home/imkbsz/workspace/eeg_analysis\n"
     ]
    }
   ],
   "source": [
    "# for auto-reloading external modules\n",
    "# see http://stackoverflow.com/questions/1907993/autoreload-of-modules-in-ipython\n",
    "%load_ext autoreload\n",
    "%autoreload 2\n",
    "%cd .."
   ]
  },
  {
   "cell_type": "code",
   "execution_count": 2,
   "metadata": {
    "pycharm": {
     "name": "#%%\n"
    },
    "tags": []
   },
   "outputs": [],
   "source": [
    "# Load some packages\n",
    "import hydra\n",
    "from omegaconf import OmegaConf\n",
    "import wandb\n",
    "import pprint\n",
    "\n",
    "# custom package\n",
    "from run_train import check_device_env\n",
    "from run_ssl_train import prepare_and_run_ssl_train"
   ]
  },
  {
   "cell_type": "markdown",
   "metadata": {
    "pycharm": {
     "name": "#%% md\n"
    }
   },
   "source": [
    "---\n",
    "\n",
    "## Specify the dataset, model, and train setting"
   ]
  },
  {
   "cell_type": "code",
   "execution_count": 6,
   "metadata": {
    "collapsed": false,
    "jupyter": {
     "outputs_hidden": false
    },
    "pycharm": {
     "name": "#%%\n"
    }
   },
   "outputs": [],
   "source": [
    "project = 'caueeg-ssl'\n",
    "data_cfg_file = 'caueeg-dementia'\n",
    "train_cfg_file = 'base_train'\n",
    "ssl_cfg_file = 'byol'\n",
    "model_cfg_file = '2D-ResNet-50'\n",
    "device = 'cuda:2'"
   ]
  },
  {
   "cell_type": "markdown",
   "metadata": {
    "jupyter": {
     "outputs_hidden": false
    },
    "pycharm": {
     "name": "#%%\n"
    }
   },
   "source": [
    "---\n",
    "\n",
    "## Initializing configurations using Hydra"
   ]
  },
  {
   "cell_type": "code",
   "execution_count": 8,
   "metadata": {
    "collapsed": false,
    "jupyter": {
     "outputs_hidden": false
    },
    "pycharm": {
     "name": "#%%\n"
    }
   },
   "outputs": [
    {
     "name": "stdout",
     "output_type": "stream",
     "text": [
      "{'EKG': 'O',\n",
      " '_ssl_target_': 'models.ssl.byol.BYOL',\n",
      " '_target_': 'models.resnet_2d.ResNet2D',\n",
      " 'activation': 'mish',\n",
      " 'awgn': 0.05,\n",
      " 'awgn_age': 0.001,\n",
      " 'base_channels': 64,\n",
      " 'base_lr': 0.1,\n",
      " 'block': 'bottleneck',\n",
      " 'channel_dropout': 0.1,\n",
      " 'conv_layers': [3, 4, 6, 3],\n",
      " 'criterion': 'multi-bce',\n",
      " 'crop_multiple': 2,\n",
      " 'crop_timing_analysis': False,\n",
      " 'dataset_name': 'caueeg-dataset',\n",
      " 'dataset_path': 'local/dataset/caueeg-dataset/',\n",
      " 'ddp': False,\n",
      " 'device': device(type='cuda', index=2),\n",
      " 'draw_result': True,\n",
      " 'dropout': 0.1,\n",
      " 'embedding_layer': 'pool',\n",
      " 'fc_stages': 3,\n",
      " 'file_format': 'memmap',\n",
      " 'in_channels': '???',\n",
      " 'input_norm': 'datapoint',\n",
      " 'latency': 2000,\n",
      " 'load_event': False,\n",
      " 'lr_scheduler_type': 'cosine_decay_with_warmup_half',\n",
      " 'mgn': 0.05,\n",
      " 'minibatch': 32,\n",
      " 'minibatch_3090': 32,\n",
      " 'mixup': 0.0,\n",
      " 'mlp_hidden_size': 4096,\n",
      " 'model': '2D-ResNet-50',\n",
      " 'num_history': 500,\n",
      " 'out_dims': '???',\n",
      " 'photic': 'X',\n",
      " 'project': 'caueeg-ssl',\n",
      " 'projection_size': 256,\n",
      " 'resume': 'mn8ac9pi',\n",
      " 'run_mode': 'train',\n",
      " 'save_model': True,\n",
      " 'search_lr': False,\n",
      " 'search_multiplier': 1.0,\n",
      " 'seed': 0,\n",
      " 'seq_len_2d': '???',\n",
      " 'seq_length': 2000,\n",
      " 'signal_length_limit': 10000000,\n",
      " 'target_ema': 0.99,\n",
      " 'task': 'dementia',\n",
      " 'test_crop_multiple': 8,\n",
      " 'total_samples': 100000000.0,\n",
      " 'use_age': 'fc',\n",
      " 'use_wandb': True,\n",
      " 'warmup_min': 3000,\n",
      " 'warmup_ratio': 0.05,\n",
      " 'watch_model': False,\n",
      " 'weight_decay': 0.01}\n"
     ]
    }
   ],
   "source": [
    "with hydra.initialize(config_path='../config'):\n",
    "    add_configs = [f\"data={data_cfg_file}\", \n",
    "                   f\"++data.seq_length=2000\",\n",
    "                   f\"++data.input_norm=datapoint\",\n",
    "                   f\"++data.awgn=0.05\",\n",
    "                   f\"++data.mgn=0.05\",\n",
    "                   f\"++data.channel_dropout=0.1\",\n",
    "                   f\"++data.crop_multiple=2\",\n",
    "                   f\"train={train_cfg_file}\",\n",
    "                   f\"+train.device={device}\", \n",
    "                   f\"+train.project={project}\",\n",
    "                   f\"++train.lr_scheduler_type=cosine_decay_with_warmup_half\",\n",
    "                   f\"++train.search_lr=False\",   #####\n",
    "                   f\"++train.base_lr=0.1\",       #####\n",
    "                   f\"model={model_cfg_file}\",\n",
    "                   f\"++model.minibatch_3090=32\",\n",
    "                   f\"++train.save_model=True\",\n",
    "                   f\"ssl={ssl_cfg_file}\",\n",
    "                   f\"++train.resume=mn8ac9pi\",\n",
    "                   f\"++model.criterion=multi-bce\",\n",
    "                  ]\n",
    "    \n",
    "    cfg = hydra.compose(config_name='default', overrides=add_configs)\n",
    "    \n",
    "config = {**OmegaConf.to_container(cfg.data), \n",
    "          **OmegaConf.to_container(cfg.train),\n",
    "          **OmegaConf.to_container(cfg.model),\n",
    "          **OmegaConf.to_container(cfg.ssl)}\n",
    "\n",
    "check_device_env(config)\n",
    "pprint.pprint(config)"
   ]
  },
  {
   "cell_type": "markdown",
   "metadata": {
    "pycharm": {
     "name": "#%% md\n"
    }
   },
   "source": [
    "## Train"
   ]
  },
  {
   "cell_type": "code",
   "execution_count": null,
   "metadata": {
    "collapsed": false,
    "jupyter": {
     "outputs_hidden": false
    },
    "pycharm": {
     "name": "#%%\n"
    }
   },
   "outputs": [
    {
     "name": "stdout",
     "output_type": "stream",
     "text": [
      "\n",
      "******************************    Configurations for Train    ******************************\n",
      "\n",
      "{'EKG': 'O',\n",
      " '_ssl_target_': 'models.ssl.byol.BYOL',\n",
      " '_target_': 'models.resnet_2d.ResNet2D',\n",
      " 'activation': 'mish',\n",
      " 'age_mean': tensor([71.2670]),\n",
      " 'age_std': tensor([9.3919]),\n",
      " 'awgn': 0.05,\n",
      " 'awgn_age': 0.001,\n",
      " 'base_channels': 64,\n",
      " 'base_lr': 0.1,\n",
      " 'block': 'bottleneck',\n",
      " 'channel_dropout': 0.1,\n",
      " 'class_label_to_name': ['Normal', 'MCI', 'Dementia'],\n",
      " 'class_name_to_label': {'Dementia': 2, 'MCI': 1, 'Normal': 0},\n",
      " 'conv_layers': [3, 4, 6, 3],\n",
      " 'criterion': 'multi-bce',\n",
      " 'crop_multiple': 2,\n",
      " 'crop_timing_analysis': False,\n",
      " 'dataset_name': 'CAUEEG dataset',\n",
      " 'dataset_path': 'local/dataset/caueeg-dataset/',\n",
      " 'ddp': False,\n",
      " 'device': device(type='cuda', index=2),\n",
      " 'draw_result': True,\n",
      " 'dropout': 0.1,\n",
      " 'embedding_layer': 3,\n",
      " 'fc_stages': 3,\n",
      " 'file_format': 'memmap',\n",
      " 'in_channels': 40,\n",
      " 'input_norm': 'datapoint',\n",
      " 'latency': 2000,\n",
      " 'load_event': False,\n",
      " 'lr_scheduler_type': 'cosine_decay_with_warmup_half',\n",
      " 'mgn': 0.05,\n",
      " 'minibatch': 32,\n",
      " 'minibatch_3090': 32,\n",
      " 'mixup': 0.0,\n",
      " 'mlp_hidden_size': 4096,\n",
      " 'model': '2D-ResNet-50',\n",
      " 'multi_batch_size': 4,\n",
      " 'num_history': 500,\n",
      " 'num_params': 26251139,\n",
      " 'out_dims': 3,\n",
      " 'output_length': 8,\n",
      " 'photic': 'X',\n",
      " 'preprocess_test': Sequential(\n",
      "  (0): EegToDevice(device=device(type='cuda', index=2))\n",
      "  (1): EegNormalizeAge(mean=tensor([71.2670]), std=tensor([9.3919]), eps=1e-08, std_eps=tensor([9.3919]))\n",
      "  (2): EegNormalizePerSignal(eps=1e-08)\n",
      "  (3): EegSpectrogram(n_fft=126, complex_mode='as_real', stft_kwargs={'hop_length': 32})\n",
      "  (4): EegNormalizePerSignal(eps=1e-08)\n",
      "),\n",
      " 'preprocess_train': Sequential(\n",
      "  (0): EegToDevice(device=device(type='cuda', index=2))\n",
      "  (1): EegNormalizeAge(mean=tensor([71.2670], device='cuda:2'), std=tensor([9.3919]), eps=1e-08, std_eps=tensor([9.3919], device='cuda:2'))\n",
      "  (2): EegAddGaussianNoiseAge(mean=0.0, std=0.001)\n",
      "  (3): EegNormalizePerSignal(eps=1e-08)\n",
      "  (4): EegChannelDropOut(p=0.1)\n",
      "  (5): EegMultiplicativeGaussianNoise(mean=0.0, std=0.05)\n",
      "  (6): EegAdditiveGaussianNoise(mean=0.0, std=0.05)\n",
      "  (7): EegSpectrogram(n_fft=126, complex_mode='as_real', stft_kwargs={'hop_length': 32})\n",
      "  (8): EegNormalizePerSignal(eps=1e-08)\n",
      "),\n",
      " 'project': 'caueeg-ssl',\n",
      " 'projection_size': 256,\n",
      " 'resume': 'mn8ac9pi',\n",
      " 'run_mode': 'train',\n",
      " 'save_model': True,\n",
      " 'search_lr': False,\n",
      " 'search_multiplier': 1.0,\n",
      " 'seed': 0,\n",
      " 'seq_len_2d': (64, 63),\n",
      " 'seq_length': 2000,\n",
      " 'signal_header': ['Fp1-AVG',\n",
      "                   'F3-AVG',\n",
      "                   'C3-AVG',\n",
      "                   'P3-AVG',\n",
      "                   'O1-AVG',\n",
      "                   'Fp2-AVG',\n",
      "                   'F4-AVG',\n",
      "                   'C4-AVG',\n",
      "                   'P4-AVG',\n",
      "                   'O2-AVG',\n",
      "                   'F7-AVG',\n",
      "                   'T3-AVG',\n",
      "                   'T5-AVG',\n",
      "                   'F8-AVG',\n",
      "                   'T4-AVG',\n",
      "                   'T6-AVG',\n",
      "                   'FZ-AVG',\n",
      "                   'CZ-AVG',\n",
      "                   'PZ-AVG',\n",
      "                   'EKG',\n",
      "                   'Photic'],\n",
      " 'signal_length_limit': 10000000,\n",
      " 'stft_params': {'hop_length': 32, 'n_fft': 126},\n",
      " 'target_ema': 0.99,\n",
      " 'task': 'dementia',\n",
      " 'task_description': 'Classification of [Normal], [MCI], and [Dementia] symptoms.',\n",
      " 'task_name': 'CAUEEG-Dementia benchmark',\n",
      " 'test_crop_multiple': 8,\n",
      " 'total_samples': 100000000.0,\n",
      " 'transform': Compose(\n",
      "    EegRandomCrop(crop_length=2000, length_limit=10000000, multiple=2, latency=2000, segment_simulation=False, return_timing=False, reject_events=False)\n",
      "    EegDropChannels(drop_index=[20])\n",
      "    EegToTensor()\n",
      "),\n",
      " 'transform_multicrop': Compose(\n",
      "    EegRandomCrop(crop_length=2000, length_limit=10000000, multiple=8, latency=2000, segment_simulation=False, return_timing=False, reject_events=False)\n",
      "    EegDropChannels(drop_index=[20])\n",
      "    EegToTensor()\n",
      "),\n",
      " 'use_age': 'fc',\n",
      " 'use_wandb': True,\n",
      " 'warmup_min': 3000,\n",
      " 'warmup_ratio': 0.05,\n",
      " 'watch_model': False,\n",
      " 'weight_decay': 0.01}\n",
      "\n",
      "********************************************************************************************\n",
      "\n"
     ]
    },
    {
     "data": {
      "text/html": [
       "wandb version 0.14.2 is available!  To upgrade, please run:\n",
       " $ pip install wandb --upgrade"
      ],
      "text/plain": [
       "<IPython.core.display.HTML object>"
      ]
     },
     "metadata": {},
     "output_type": "display_data"
    },
    {
     "data": {
      "text/html": [
       "Tracking run with wandb version 0.14.0"
      ],
      "text/plain": [
       "<IPython.core.display.HTML object>"
      ]
     },
     "metadata": {},
     "output_type": "display_data"
    },
    {
     "data": {
      "text/html": [
       "Run data is saved locally in <code>/home/imkbsz/workspace/eeg_analysis/wandb/run-20230416_035519-mn8ac9pi</code>"
      ],
      "text/plain": [
       "<IPython.core.display.HTML object>"
      ]
     },
     "metadata": {},
     "output_type": "display_data"
    },
    {
     "data": {
      "text/html": [
       "Resuming run <strong><a href='https://wandb.ai/ipis-mjkim/caueeg-ssl/runs/mn8ac9pi' target=\"_blank\">mn8ac9pi</a></strong> to <a href='https://wandb.ai/ipis-mjkim/caueeg-ssl' target=\"_blank\">Weights & Biases</a> (<a href='https://wandb.me/run' target=\"_blank\">docs</a>)<br/>"
      ],
      "text/plain": [
       "<IPython.core.display.HTML object>"
      ]
     },
     "metadata": {},
     "output_type": "display_data"
    },
    {
     "data": {
      "text/html": [
       " View project at <a href='https://wandb.ai/ipis-mjkim/caueeg-ssl' target=\"_blank\">https://wandb.ai/ipis-mjkim/caueeg-ssl</a>"
      ],
      "text/plain": [
       "<IPython.core.display.HTML object>"
      ]
     },
     "metadata": {},
     "output_type": "display_data"
    },
    {
     "data": {
      "text/html": [
       " View run at <a href='https://wandb.ai/ipis-mjkim/caueeg-ssl/runs/mn8ac9pi' target=\"_blank\">https://wandb.ai/ipis-mjkim/caueeg-ssl/runs/mn8ac9pi</a>"
      ],
      "text/plain": [
       "<IPython.core.display.HTML object>"
      ]
     },
     "metadata": {},
     "output_type": "display_data"
    },
    {
     "name": "stdout",
     "output_type": "stream",
     "text": [
      "\n",
      "****************************** Training resumes from mn8ac9pi ******************************\n",
      "\n",
      "{'EKG': 'O',\n",
      " '_ssl_target_': 'models.ssl.byol.BYOL',\n",
      " '_target_': 'models.resnet_2d.ResNet2D',\n",
      " 'activation': 'mish',\n",
      " 'age_mean': tensor([71.2670], device='cuda:2'),\n",
      " 'age_std': tensor([9.3919], device='cuda:2'),\n",
      " 'awgn': 0.05,\n",
      " 'awgn_age': 0.001,\n",
      " 'base_channels': 64,\n",
      " 'base_lr': 0.1,\n",
      " 'block': 'bottleneck',\n",
      " 'channel_dropout': 0.1,\n",
      " 'class_label_to_name': ['Normal', 'MCI', 'Dementia'],\n",
      " 'class_name_to_label': {'Dementia': 2, 'MCI': 1, 'Normal': 0},\n",
      " 'conv_layers': [3, 4, 6, 3],\n",
      " 'criterion': 'multi-bce',\n",
      " 'crop_multiple': 2,\n",
      " 'crop_timing_analysis': False,\n",
      " 'dataset_name': 'CAUEEG dataset',\n",
      " 'dataset_path': 'local/dataset/caueeg-dataset/',\n",
      " 'ddp': False,\n",
      " 'device': device(type='cuda', index=3),\n",
      " 'draw_result': True,\n",
      " 'dropout': 0.1,\n",
      " 'embedding_layer': 3,\n",
      " 'fc_stages': 3,\n",
      " 'file_format': 'memmap',\n",
      " 'in_channels': 40,\n",
      " 'input_norm': 'datapoint',\n",
      " 'iterations': 3125000,\n",
      " 'latency': 2000,\n",
      " 'load_event': False,\n",
      " 'lr_scheduler_type': 'cosine_decay_with_warmup_half',\n",
      " 'mgn': 0.05,\n",
      " 'minibatch': 32,\n",
      " 'minibatch_3090': 32,\n",
      " 'mixup': 0.0,\n",
      " 'mlp_hidden_size': 4096,\n",
      " 'model': '2D-ResNet-50',\n",
      " 'multi_batch_size': 4,\n",
      " 'num_history': 500,\n",
      " 'num_params': 26251139,\n",
      " 'out_dims': 3,\n",
      " 'output_length': 8,\n",
      " 'photic': 'X',\n",
      " 'preprocess_test': Sequential(\n",
      "  (0): EegToDevice(device=device(type='cuda', index=3))\n",
      "  (1): EegNormalizeAge(mean=tensor([71.2670], device='cuda:2'), std=tensor([9.3919], device='cuda:2'), eps=1e-08, std_eps=tensor([9.3919], device='cuda:2'))\n",
      "  (2): EegNormalizePerSignal(eps=1e-08)\n",
      "  (3): EegSpectrogram(n_fft=126, complex_mode='as_real', stft_kwargs={'hop_length': 32})\n",
      "  (4): EegNormalizePerSignal(eps=1e-08)\n",
      "),\n",
      " 'preprocess_train': Sequential(\n",
      "  (0): EegToDevice(device=device(type='cuda', index=3))\n",
      "  (1): EegNormalizeAge(mean=tensor([71.2670], device='cuda:2'), std=tensor([9.3919], device='cuda:2'), eps=1e-08, std_eps=tensor([9.3919], device='cuda:2'))\n",
      "  (2): EegAddGaussianNoiseAge(mean=0.0, std=0.001)\n",
      "  (3): EegNormalizePerSignal(eps=1e-08)\n",
      "  (4): EegChannelDropOut(p=0.1)\n",
      "  (5): EegMultiplicativeGaussianNoise(mean=0.0, std=0.05)\n",
      "  (6): EegAdditiveGaussianNoise(mean=0.0, std=0.05)\n",
      "  (7): EegSpectrogram(n_fft=126, complex_mode='as_real', stft_kwargs={'hop_length': 32})\n",
      "  (8): EegNormalizePerSignal(eps=1e-08)\n",
      "),\n",
      " 'project': 'caueeg-ssl',\n",
      " 'projection_size': 256,\n",
      " 'run_mode': 'train',\n",
      " 'save_model': True,\n",
      " 'search_lr': False,\n",
      " 'search_multiplier': 1.0,\n",
      " 'seed': 0,\n",
      " 'seq_len_2d': (64, 63),\n",
      " 'seq_length': 2000,\n",
      " 'signal_header': ['Fp1-AVG',\n",
      "                   'F3-AVG',\n",
      "                   'C3-AVG',\n",
      "                   'P3-AVG',\n",
      "                   'O1-AVG',\n",
      "                   'Fp2-AVG',\n",
      "                   'F4-AVG',\n",
      "                   'C4-AVG',\n",
      "                   'P4-AVG',\n",
      "                   'O2-AVG',\n",
      "                   'F7-AVG',\n",
      "                   'T3-AVG',\n",
      "                   'T5-AVG',\n",
      "                   'F8-AVG',\n",
      "                   'T4-AVG',\n",
      "                   'T6-AVG',\n",
      "                   'FZ-AVG',\n",
      "                   'CZ-AVG',\n",
      "                   'PZ-AVG',\n",
      "                   'EKG',\n",
      "                   'Photic'],\n",
      " 'signal_length_limit': 10000000,\n",
      " 'stft_params': {'hop_length': 32, 'n_fft': 126},\n",
      " 'target_ema': 0.99,\n",
      " 'task': 'dementia',\n",
      " 'task_description': 'Classification of [Normal], [MCI], and [Dementia] symptoms.',\n",
      " 'task_name': 'CAUEEG-Dementia benchmark',\n",
      " 'test_crop_multiple': 8,\n",
      " 'total_samples': 100000000.0,\n",
      " 'transform': Compose(\n",
      "    EegRandomCrop(crop_length=2000, length_limit=10000000, multiple=2, latency=2000, segment_simulation=False, return_timing=False, reject_events=False)\n",
      "    EegDropChannels(drop_index=[20])\n",
      "    EegToTensor()\n",
      "),\n",
      " 'transform_multicrop': Compose(\n",
      "    EegRandomCrop(crop_length=2000, length_limit=10000000, multiple=8, latency=2000, segment_simulation=False, return_timing=False, reject_events=False)\n",
      "    EegDropChannels(drop_index=[20])\n",
      "    EegToTensor()\n",
      "),\n",
      " 'use_age': 'fc',\n",
      " 'use_wandb': True,\n",
      " 'warmup_min': 3000,\n",
      " 'warmup_ratio': 0.05,\n",
      " 'warmup_steps': 156250,\n",
      " 'watch_model': False,\n",
      " 'weight_decay': 0.01}\n",
      "\n",
      "********************************************************************************************\n",
      "\n"
     ]
    }
   ],
   "source": [
    "%%time\n",
    "prepare_and_run_ssl_train(rank=None, world_size=None, config=config)"
   ]
  },
  {
   "cell_type": "code",
   "execution_count": null,
   "metadata": {},
   "outputs": [],
   "source": []
  }
 ],
 "metadata": {
  "kernelspec": {
   "display_name": "Python 3 (ipykernel)",
   "language": "python",
   "name": "python3"
  },
  "language_info": {
   "codemirror_mode": {
    "name": "ipython",
    "version": 3
   },
   "file_extension": ".py",
   "mimetype": "text/x-python",
   "name": "python",
   "nbconvert_exporter": "python",
   "pygments_lexer": "ipython3",
   "version": "3.9.12"
  }
 },
 "nbformat": 4,
 "nbformat_minor": 4
}
