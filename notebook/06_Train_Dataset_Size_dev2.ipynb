{
 "cells": [
  {
   "cell_type": "markdown",
   "metadata": {
    "pycharm": {
     "name": "#%% md\n"
    }
   },
   "source": [
    "# Train Networks\n",
    "\n",
    "- Train a deep classifier for the EEG-based diagnostic classification\n",
    "    - CAUEEG-Dementia benchmark: Classification of **Normal**, **MCI**, and **Dementia** symptoms\n",
    "    - CAUEEG-Abnormal benchmark: Classification of **Normal** and **Abnormal** symptoms    "
   ]
  },
  {
   "cell_type": "markdown",
   "metadata": {
    "pycharm": {
     "name": "#%% md\n"
    }
   },
   "source": [
    "-----\n",
    "\n",
    "## Load Packages"
   ]
  },
  {
   "cell_type": "code",
   "execution_count": 1,
   "metadata": {
    "pycharm": {
     "name": "#%%\n"
    }
   },
   "outputs": [
    {
     "name": "stdout",
     "output_type": "stream",
     "text": [
      "/home/imkbsz/workspace/eeg_analysis\n"
     ]
    }
   ],
   "source": [
    "# for auto-reloading external modules\n",
    "# see http://stackoverflow.com/questions/1907993/autoreload-of-modules-in-ipython\n",
    "%load_ext autoreload\n",
    "%autoreload 2\n",
    "%cd .."
   ]
  },
  {
   "cell_type": "code",
   "execution_count": 2,
   "metadata": {
    "pycharm": {
     "name": "#%%\n"
    },
    "tags": []
   },
   "outputs": [],
   "source": [
    "# Load some packages\n",
    "import hydra\n",
    "from omegaconf import OmegaConf\n",
    "import wandb\n",
    "import numpy as np\n",
    "import pprint\n",
    "import gc\n",
    "from copy import deepcopy\n",
    "\n",
    "import torch\n",
    "from torch.nn.parallel import DistributedDataParallel as DDP\n",
    "import torch.multiprocessing as mp\n",
    "\n",
    "from train.train_script import train_script\n",
    "from datasets.caueeg_script import build_dataset_for_train\n",
    "from datasets.temple_eeg_script import build_dataset_for_tuab_train\n",
    "from models.utils import count_parameters\n",
    "\n",
    "# custom package\n",
    "from run_train import check_device_env\n",
    "from run_train import prepare_and_run_train"
   ]
  },
  {
   "cell_type": "markdown",
   "metadata": {
    "pycharm": {
     "name": "#%% md\n"
    }
   },
   "source": [
    "---\n",
    "\n",
    "## Specify the dataset, model, and train setting"
   ]
  },
  {
   "cell_type": "code",
   "execution_count": 3,
   "metadata": {
    "collapsed": false,
    "jupyter": {
     "outputs_hidden": false
    },
    "pycharm": {
     "name": "#%%\n"
    }
   },
   "outputs": [],
   "source": [
    "project = 'caueeg-dementia-train-size'\n",
    "data_cfg_file = 'caueeg-dementia'\n",
    "device = 'cuda:2'\n",
    "seed = 2"
   ]
  },
  {
   "cell_type": "markdown",
   "metadata": {
    "jupyter": {
     "outputs_hidden": false
    },
    "pycharm": {
     "name": "#%%\n"
    }
   },
   "source": [
    "---\n",
    "\n",
    "## Initializing configurations using Hydra"
   ]
  },
  {
   "cell_type": "code",
   "execution_count": 4,
   "metadata": {},
   "outputs": [
    {
     "name": "stdout",
     "output_type": "stream",
     "text": [
      "{'EKG': 'O',\n",
      " '_target_': 'models.resnet_1d.ResNet1D',\n",
      " 'activation': 'gelu',\n",
      " 'awgn': 0.004872735559634612,\n",
      " 'awgn_age': 0.03583361229344302,\n",
      " 'base_channels': 64,\n",
      " 'base_lr': 0.0001,\n",
      " 'block': 'basic',\n",
      " 'conv_layers': [2, 2, 2, 2],\n",
      " 'criterion': 'multi-bce',\n",
      " 'crop_multiple': 4,\n",
      " 'crop_timing_analysis': False,\n",
      " 'dataset_name': 'caueeg-dataset',\n",
      " 'dataset_path': 'local/dataset/caueeg-dataset/',\n",
      " 'ddp': False,\n",
      " 'device': device(type='cuda', index=2),\n",
      " 'draw_result': True,\n",
      " 'dropout': 0.3,\n",
      " 'fc_stages': 3,\n",
      " 'file_format': 'memmap',\n",
      " 'in_channels': '???',\n",
      " 'input_norm': 'dataset',\n",
      " 'latency': 2000,\n",
      " 'load_event': False,\n",
      " 'lr_scheduler_type': 'cosine_decay_with_warmup_half',\n",
      " 'mgn': 0.09575622309480344,\n",
      " 'minibatch': 512,\n",
      " 'minibatch_3090': 512,\n",
      " 'mixup': 0.2,\n",
      " 'model': '1D-ResNet-18',\n",
      " 'num_history': 500,\n",
      " 'out_dims': '???',\n",
      " 'photic': 'O',\n",
      " 'project': 'caueeg-dementia-train-size',\n",
      " 'run_mode': 'train',\n",
      " 'save_model': True,\n",
      " 'search_lr': True,\n",
      " 'search_multiplier': 1.0,\n",
      " 'seed': 2,\n",
      " 'seq_length': 2000,\n",
      " 'signal_length_limit': 10000000,\n",
      " 'task': 'dementia',\n",
      " 'test_crop_multiple': 8,\n",
      " 'total_samples': 100000000.0,\n",
      " 'use_age': 'conv',\n",
      " 'use_wandb': True,\n",
      " 'warmup_min': 3000,\n",
      " 'warmup_ratio': 0.05,\n",
      " 'watch_model': False,\n",
      " 'weight_decay': 0.04394746639552375}\n"
     ]
    }
   ],
   "source": [
    "with hydra.initialize(config_path='../config'):\n",
    "    add_configs = [f\"data={data_cfg_file}\", \n",
    "                   f\"+train.device={device}\", \n",
    "                   f\"+train.project={project}\",\n",
    "                   f\"++train.seed={seed}\",\n",
    "                   f\"++data.EKG=O\",\n",
    "                   f\"++data.awgn=0.004872735559634612\",\n",
    "                   f\"++data.awgn_age=0.03583361229344302\",\n",
    "                   f\"++data.mgn=0.09575622309480344\",\n",
    "                   f\"++data.photic=O\",\n",
    "                   f\"++data.seq_length=2000\",\n",
    "                   f\"model=1D-ResNet-18\",\n",
    "                   f\"++model.activation=gelu\",\n",
    "                   f\"++model.dropout=0.3\",\n",
    "                   f\"++model.fc_stages=3\",\n",
    "                   f\"++model.use_age=conv\",\n",
    "                   f\"++train.criterion=multi-bce\",\n",
    "                   f\"++train.lr_scheduler_type=cosine_decay_with_warmup_half\",\n",
    "                   f\"++train.mixup=0.2\",\n",
    "                   f\"++train.weight_decay=0.04394746639552375\",]\n",
    "    cfg = hydra.compose(config_name='default', overrides=add_configs)\n",
    "    \n",
    "config_base = {**OmegaConf.to_container(cfg.data), \n",
    "               **OmegaConf.to_container(cfg.train),\n",
    "               **OmegaConf.to_container(cfg.model)}\n",
    "\n",
    "check_device_env(config_base)\n",
    "pprint.pprint(config_base)"
   ]
  },
  {
   "cell_type": "code",
   "execution_count": 5,
   "metadata": {},
   "outputs": [],
   "source": [
    "rank = None\n",
    "world_size = None"
   ]
  },
  {
   "cell_type": "markdown",
   "metadata": {
    "pycharm": {
     "name": "#%% md\n"
    }
   },
   "source": [
    "## Train"
   ]
  },
  {
   "cell_type": "code",
   "execution_count": null,
   "metadata": {},
   "outputs": [
    {
     "name": "stderr",
     "output_type": "stream",
     "text": [
      "Failed to detect the name of this notebook, you can set it manually with the WANDB_NOTEBOOK_NAME environment variable to enable code saving.\n"
     ]
    },
    {
     "name": "stdout",
     "output_type": "stream",
     "text": [
      "\n",
      "******************************    Configurations for Train    ******************************\n",
      "\n",
      "{'EKG': 'O',\n",
      " '_target_': 'models.resnet_1d.ResNet1D',\n",
      " 'activation': 'gelu',\n",
      " 'age_mean': tensor([71.2065]),\n",
      " 'age_std': tensor([9.7774]),\n",
      " 'awgn': 0.004872735559634612,\n",
      " 'awgn_age': 0.03583361229344302,\n",
      " 'base_channels': 64,\n",
      " 'base_lr': 0.0001,\n",
      " 'block': 'basic',\n",
      " 'class_label_to_name': ['Normal', 'MCI', 'Dementia'],\n",
      " 'class_name_to_label': {'Dementia': 2, 'MCI': 1, 'Normal': 0},\n",
      " 'conv_layers': [2, 2, 2, 2],\n",
      " 'criterion': 'multi-bce',\n",
      " 'crop_multiple': 4,\n",
      " 'crop_timing_analysis': False,\n",
      " 'dataset_name': 'CAUEEG dataset',\n",
      " 'dataset_path': 'local/dataset/caueeg-dataset/',\n",
      " 'ddp': False,\n",
      " 'device': device(type='cuda', index=2),\n",
      " 'draw_result': True,\n",
      " 'dropout': 0.3,\n",
      " 'fc_stages': 3,\n",
      " 'file_format': 'memmap',\n",
      " 'in_channels': 21,\n",
      " 'input_norm': 'dataset',\n",
      " 'latency': 2000,\n",
      " 'load_event': False,\n",
      " 'lr_scheduler_type': 'cosine_decay_with_warmup_half',\n",
      " 'mgn': 0.09575622309480344,\n",
      " 'minibatch': 512,\n",
      " 'minibatch_3090': 512,\n",
      " 'mixup': 0.2,\n",
      " 'model': '1D-ResNet-18',\n",
      " 'multi_batch_size': 64,\n",
      " 'num_history': 500,\n",
      " 'num_params': 11394051,\n",
      " 'out_dims': 3,\n",
      " 'output_length': 8,\n",
      " 'photic': 'O',\n",
      " 'preprocess_test': Sequential(\n",
      "  (0): EegToDevice(device=device(type='cuda', index=2))\n",
      "  (1): EegNormalizeAge(mean=tensor([71.2065]), std=tensor([9.7774]), eps=1e-08, std_eps=tensor([9.7774]))\n",
      "  (2): EegNormalizeMeanStd(mean=tensor([[[-0.1278],\n",
      "           [-0.0851],\n",
      "           [-0.0137],\n",
      "           [-0.0200],\n",
      "           [-0.0015],\n",
      "           [-0.1091],\n",
      "           [ 0.0302],\n",
      "           [ 0.0040],\n",
      "           [-0.0086],\n",
      "           [ 0.0244],\n",
      "           [ 0.0021],\n",
      "           [-0.0345],\n",
      "           [ 0.0321],\n",
      "           [ 0.0193],\n",
      "           [ 0.0236],\n",
      "           [ 0.0221],\n",
      "           [-0.0309],\n",
      "           [ 0.0256],\n",
      "           [ 0.0029],\n",
      "           [ 0.0002],\n",
      "           [-0.0138]]]), std=tensor([[[44.9446],\n",
      "           [20.3279],\n",
      "           [11.6786],\n",
      "           [11.6079],\n",
      "           [15.4943],\n",
      "           [47.3147],\n",
      "           [19.7939],\n",
      "           [10.5252],\n",
      "           [11.4346],\n",
      "           [15.6401],\n",
      "           [20.6464],\n",
      "           [14.1980],\n",
      "           [13.4820],\n",
      "           [21.3024],\n",
      "           [15.7087],\n",
      "           [14.3587],\n",
      "           [19.6771],\n",
      "           [11.2422],\n",
      "           [11.3632],\n",
      "           [93.2716],\n",
      "           [68.4512]]]), eps=1e-08, std_eps=tensor([[[44.9446],\n",
      "           [20.3279],\n",
      "           [11.6786],\n",
      "           [11.6079],\n",
      "           [15.4943],\n",
      "           [47.3147],\n",
      "           [19.7939],\n",
      "           [10.5252],\n",
      "           [11.4346],\n",
      "           [15.6401],\n",
      "           [20.6464],\n",
      "           [14.1980],\n",
      "           [13.4820],\n",
      "           [21.3024],\n",
      "           [15.7087],\n",
      "           [14.3587],\n",
      "           [19.6771],\n",
      "           [11.2422],\n",
      "           [11.3632],\n",
      "           [93.2716],\n",
      "           [68.4512]]]))\n",
      "),\n",
      " 'preprocess_train': Sequential(\n",
      "  (0): EegToDevice(device=device(type='cuda', index=2))\n",
      "  (1): EegNormalizeAge(mean=tensor([71.2065], device='cuda:2'), std=tensor([9.7774]), eps=1e-08, std_eps=tensor([9.7774], device='cuda:2'))\n",
      "  (2): EegAddGaussianNoiseAge(mean=0.0, std=0.03583361229344302)\n",
      "  (3): EegNormalizeMeanStd(mean=tensor([[[-0.1278],\n",
      "           [-0.0851],\n",
      "           [-0.0137],\n",
      "           [-0.0200],\n",
      "           [-0.0015],\n",
      "           [-0.1091],\n",
      "           [ 0.0302],\n",
      "           [ 0.0040],\n",
      "           [-0.0086],\n",
      "           [ 0.0244],\n",
      "           [ 0.0021],\n",
      "           [-0.0345],\n",
      "           [ 0.0321],\n",
      "           [ 0.0193],\n",
      "           [ 0.0236],\n",
      "           [ 0.0221],\n",
      "           [-0.0309],\n",
      "           [ 0.0256],\n",
      "           [ 0.0029],\n",
      "           [ 0.0002],\n",
      "           [-0.0138]]], device='cuda:2'), std=tensor([[[44.9446],\n",
      "           [20.3279],\n",
      "           [11.6786],\n",
      "           [11.6079],\n",
      "           [15.4943],\n",
      "           [47.3147],\n",
      "           [19.7939],\n",
      "           [10.5252],\n",
      "           [11.4346],\n",
      "           [15.6401],\n",
      "           [20.6464],\n",
      "           [14.1980],\n",
      "           [13.4820],\n",
      "           [21.3024],\n",
      "           [15.7087],\n",
      "           [14.3587],\n",
      "           [19.6771],\n",
      "           [11.2422],\n",
      "           [11.3632],\n",
      "           [93.2716],\n",
      "           [68.4512]]]), eps=1e-08, std_eps=tensor([[[44.9446],\n",
      "           [20.3279],\n",
      "           [11.6786],\n",
      "           [11.6079],\n",
      "           [15.4943],\n",
      "           [47.3147],\n",
      "           [19.7939],\n",
      "           [10.5252],\n",
      "           [11.4346],\n",
      "           [15.6401],\n",
      "           [20.6464],\n",
      "           [14.1980],\n",
      "           [13.4820],\n",
      "           [21.3024],\n",
      "           [15.7087],\n",
      "           [14.3587],\n",
      "           [19.6771],\n",
      "           [11.2422],\n",
      "           [11.3632],\n",
      "           [93.2716],\n",
      "           [68.4512]]], device='cuda:2'))\n",
      "  (4): EegMultiplicativeGaussianNoise(mean=0.0, std=0.09575622309480344)\n",
      "  (5): EegAdditiveGaussianNoise(mean=0.0, std=0.004872735559634612)\n",
      "),\n",
      " 'project': 'caueeg-dementia-train-size',\n",
      " 'run_mode': 'train',\n",
      " 'save_model': True,\n",
      " 'search_lr': True,\n",
      " 'search_multiplier': 1.0,\n",
      " 'seed': 2,\n",
      " 'seq_length': 2000,\n",
      " 'signal_header': ['Fp1-AVG',\n",
      "                   'F3-AVG',\n",
      "                   'C3-AVG',\n",
      "                   'P3-AVG',\n",
      "                   'O1-AVG',\n",
      "                   'Fp2-AVG',\n",
      "                   'F4-AVG',\n",
      "                   'C4-AVG',\n",
      "                   'P4-AVG',\n",
      "                   'O2-AVG',\n",
      "                   'F7-AVG',\n",
      "                   'T3-AVG',\n",
      "                   'T5-AVG',\n",
      "                   'F8-AVG',\n",
      "                   'T4-AVG',\n",
      "                   'T6-AVG',\n",
      "                   'FZ-AVG',\n",
      "                   'CZ-AVG',\n",
      "                   'PZ-AVG',\n",
      "                   'EKG',\n",
      "                   'Photic'],\n",
      " 'signal_length_limit': 10000000,\n",
      " 'signal_mean': tensor([[[-0.1278],\n",
      "         [-0.0851],\n",
      "         [-0.0137],\n",
      "         [-0.0200],\n",
      "         [-0.0015],\n",
      "         [-0.1091],\n",
      "         [ 0.0302],\n",
      "         [ 0.0040],\n",
      "         [-0.0086],\n",
      "         [ 0.0244],\n",
      "         [ 0.0021],\n",
      "         [-0.0345],\n",
      "         [ 0.0321],\n",
      "         [ 0.0193],\n",
      "         [ 0.0236],\n",
      "         [ 0.0221],\n",
      "         [-0.0309],\n",
      "         [ 0.0256],\n",
      "         [ 0.0029],\n",
      "         [ 0.0002],\n",
      "         [-0.0138]]]),\n",
      " 'signal_std': tensor([[[44.9446],\n",
      "         [20.3279],\n",
      "         [11.6786],\n",
      "         [11.6079],\n",
      "         [15.4943],\n",
      "         [47.3147],\n",
      "         [19.7939],\n",
      "         [10.5252],\n",
      "         [11.4346],\n",
      "         [15.6401],\n",
      "         [20.6464],\n",
      "         [14.1980],\n",
      "         [13.4820],\n",
      "         [21.3024],\n",
      "         [15.7087],\n",
      "         [14.3587],\n",
      "         [19.6771],\n",
      "         [11.2422],\n",
      "         [11.3632],\n",
      "         [93.2716],\n",
      "         [68.4512]]]),\n",
      " 'task': 'dementia',\n",
      " 'task_description': 'Classification of [Normal], [MCI], and [Dementia] symptoms.',\n",
      " 'task_name': 'CAUEEG-Dementia benchmark',\n",
      " 'test_crop_multiple': 8,\n",
      " 'total_samples': 100000000.0,\n",
      " 'train_set_size': 190,\n",
      " 'transform': Compose(\n",
      "    EegRandomCrop(crop_length=2000, length_limit=10000000, multiple=4, latency=2000, segment_simulation=False, return_timing=False, reject_events=False)\n",
      "    EegToTensor()\n",
      "),\n",
      " 'transform_multicrop': Compose(\n",
      "    EegRandomCrop(crop_length=2000, length_limit=10000000, multiple=8, latency=2000, segment_simulation=False, return_timing=False, reject_events=False)\n",
      "    EegToTensor()\n",
      "),\n",
      " 'use_age': 'conv',\n",
      " 'use_wandb': True,\n",
      " 'warmup_min': 3000,\n",
      " 'warmup_ratio': 0.05,\n",
      " 'watch_model': False,\n",
      " 'weight_decay': 0.04394746639552375}\n",
      "\n",
      "********************************************************************************************\n",
      "\n"
     ]
    },
    {
     "name": "stderr",
     "output_type": "stream",
     "text": [
      "\u001b[34m\u001b[1mwandb\u001b[0m: Currently logged in as: \u001b[33mipis-mjkim\u001b[0m. Use \u001b[1m`wandb login --relogin`\u001b[0m to force relogin\n"
     ]
    },
    {
     "data": {
      "text/html": [
       "wandb version 0.14.0 is available!  To upgrade, please run:\n",
       " $ pip install wandb --upgrade"
      ],
      "text/plain": [
       "<IPython.core.display.HTML object>"
      ]
     },
     "metadata": {},
     "output_type": "display_data"
    },
    {
     "data": {
      "text/html": [
       "Tracking run with wandb version 0.13.5"
      ],
      "text/plain": [
       "<IPython.core.display.HTML object>"
      ]
     },
     "metadata": {},
     "output_type": "display_data"
    },
    {
     "data": {
      "text/html": [
       "Run data is saved locally in <code>/home/imkbsz/workspace/eeg_analysis/wandb/run-20230324_053309-2se9ok81</code>"
      ],
      "text/plain": [
       "<IPython.core.display.HTML object>"
      ]
     },
     "metadata": {},
     "output_type": "display_data"
    },
    {
     "data": {
      "text/html": [
       "Syncing run <strong><a href=\"https://wandb.ai/ipis-mjkim/caueeg-dementia-train-size/runs/2se9ok81\" target=\"_blank\">feasible-bird-9</a></strong> to <a href=\"https://wandb.ai/ipis-mjkim/caueeg-dementia-train-size\" target=\"_blank\">Weights & Biases</a> (<a href=\"https://wandb.me/run\" target=\"_blank\">docs</a>)<br/>"
      ],
      "text/plain": [
       "<IPython.core.display.HTML object>"
      ]
     },
     "metadata": {},
     "output_type": "display_data"
    },
    {
     "name": "stderr",
     "output_type": "stream",
     "text": [
      "/home/imkbsz/anaconda3/envs/eeg/lib/python3.9/site-packages/wandb/sdk/lib/ipython.py:46: DeprecationWarning:\n",
      "\n",
      "Importing display from IPython.core.display is deprecated since IPython 7.14, please import from IPython display\n",
      "\n"
     ]
    },
    {
     "data": {
      "text/html": [
       "Waiting for W&B process to finish... <strong style=\"color:green\">(success).</strong>"
      ],
      "text/plain": [
       "<IPython.core.display.HTML object>"
      ]
     },
     "metadata": {},
     "output_type": "display_data"
    },
    {
     "name": "stderr",
     "output_type": "stream",
     "text": [
      "/home/imkbsz/anaconda3/envs/eeg/lib/python3.9/site-packages/wandb/sdk/lib/ipython.py:58: DeprecationWarning:\n",
      "\n",
      "Importing display from IPython.core.display is deprecated since IPython 7.14, please import from IPython display\n",
      "\n"
     ]
    },
    {
     "data": {
      "application/vnd.jupyter.widget-view+json": {
       "model_id": "a1d6096b631d44e8b7963736d4175f04",
       "version_major": 2,
       "version_minor": 0
      },
      "text/plain": [
       "VBox(children=(Label(value='0.125 MB of 0.151 MB uploaded (0.000 MB deduped)\\r'), FloatProgress(value=0.832173…"
      ]
     },
     "metadata": {},
     "output_type": "display_data"
    },
    {
     "data": {
      "text/html": [
       "<style>\n",
       "    table.wandb td:nth-child(1) { padding: 0 10px; text-align: left ; width: auto;} td:nth-child(2) {text-align: left ; width: 100%}\n",
       "    .wandb-row { display: flex; flex-direction: row; flex-wrap: wrap; justify-content: flex-start; width: 100% }\n",
       "    .wandb-col { display: flex; flex-direction: column; flex-basis: 100%; flex: 1; padding: 10px; }\n",
       "    </style>\n",
       "<div class=\"wandb-row\"><div class=\"wandb-col\"><h3>Run history:</h3><br/><table class=\"wandb\"><tr><td>Learning Rate</td><td>▂▅███████▇▇▇▇▇▆▆▆▅▅▅▅▄▄▄▃▃▃▃▂▂▂▂▂▁▁▁▁▁▁▁</td></tr><tr><td>Loss</td><td>█▃▂▂▂▂▂▂▂▁▁▂▁▁▂▁▁▂▂▂▁▁▁▂▂▁▂▂▁▂▁▁▁▁▁▁▁▂▁▁</td></tr><tr><td>Multi-Crop Test Accuracy</td><td>▁</td></tr><tr><td>Test Accuracy</td><td>▁</td></tr><tr><td>Train Accuracy</td><td>▁▇▇▇▇█▇▇▇██▇█▇▇██▇▇▇█▇█▇▇█▇▇▇▇███▇██▇▇▇▇</td></tr><tr><td>Validation Accuracy</td><td>▄▄▃▅█▇▅▇▇▅▅▇▆▁▆▄█▆▄▆▃▅▆▂▂▄▁▄▅▇▆█▅▅▄▅▄▄▆▄</td></tr></table><br/></div><div class=\"wandb-col\"><h3>Run summary:</h3><br/><table class=\"wandb\"><tr><td>Learning Rate</td><td>0.0</td></tr><tr><td>Loss</td><td>0.10311</td></tr><tr><td>Multi-Crop Test Accuracy</td><td>50.9887</td></tr><tr><td>Test Accuracy</td><td>51.82203</td></tr><tr><td>Train Accuracy</td><td>93.29798</td></tr><tr><td>Validation Accuracy</td><td>51.43557</td></tr></table><br/></div></div>"
      ],
      "text/plain": [
       "<IPython.core.display.HTML object>"
      ]
     },
     "metadata": {},
     "output_type": "display_data"
    },
    {
     "data": {
      "text/html": [
       "Synced <strong style=\"color:#cdcd00\">feasible-bird-9</strong>: <a href=\"https://wandb.ai/ipis-mjkim/caueeg-dementia-train-size/runs/2se9ok81\" target=\"_blank\">https://wandb.ai/ipis-mjkim/caueeg-dementia-train-size/runs/2se9ok81</a><br/>Synced 6 W&B file(s), 3 media file(s), 0 artifact file(s) and 1 other file(s)"
      ],
      "text/plain": [
       "<IPython.core.display.HTML object>"
      ]
     },
     "metadata": {},
     "output_type": "display_data"
    },
    {
     "data": {
      "text/html": [
       "Find logs at: <code>./wandb/run-20230324_053309-2se9ok81/logs</code>"
      ],
      "text/plain": [
       "<IPython.core.display.HTML object>"
      ]
     },
     "metadata": {},
     "output_type": "display_data"
    },
    {
     "name": "stdout",
     "output_type": "stream",
     "text": [
      "\n",
      "******************************    Configurations for Train    ******************************\n",
      "\n",
      "{'EKG': 'O',\n",
      " '_target_': 'models.resnet_1d.ResNet1D',\n",
      " 'activation': 'gelu',\n",
      " 'age_mean': tensor([71.2065]),\n",
      " 'age_std': tensor([9.7774]),\n",
      " 'awgn': 0.004872735559634612,\n",
      " 'awgn_age': 0.03583361229344302,\n",
      " 'base_channels': 64,\n",
      " 'base_lr': 0.0001,\n",
      " 'block': 'basic',\n",
      " 'class_label_to_name': ['Normal', 'MCI', 'Dementia'],\n",
      " 'class_name_to_label': {'Dementia': 2, 'MCI': 1, 'Normal': 0},\n",
      " 'conv_layers': [2, 2, 2, 2],\n",
      " 'criterion': 'multi-bce',\n",
      " 'crop_multiple': 4,\n",
      " 'crop_timing_analysis': False,\n",
      " 'dataset_name': 'CAUEEG dataset',\n",
      " 'dataset_path': 'local/dataset/caueeg-dataset/',\n",
      " 'ddp': False,\n",
      " 'device': device(type='cuda', index=2),\n",
      " 'draw_result': True,\n",
      " 'dropout': 0.3,\n",
      " 'fc_stages': 3,\n",
      " 'file_format': 'memmap',\n",
      " 'in_channels': 21,\n",
      " 'input_norm': 'dataset',\n",
      " 'latency': 2000,\n",
      " 'load_event': False,\n",
      " 'lr_scheduler_type': 'cosine_decay_with_warmup_half',\n",
      " 'mgn': 0.09575622309480344,\n",
      " 'minibatch': 512,\n",
      " 'minibatch_3090': 512,\n",
      " 'mixup': 0.2,\n",
      " 'model': '1D-ResNet-18',\n",
      " 'multi_batch_size': 64,\n",
      " 'num_history': 500,\n",
      " 'num_params': 11394051,\n",
      " 'out_dims': 3,\n",
      " 'output_length': 8,\n",
      " 'photic': 'O',\n",
      " 'preprocess_test': Sequential(\n",
      "  (0): EegToDevice(device=device(type='cuda', index=2))\n",
      "  (1): EegNormalizeAge(mean=tensor([71.2065]), std=tensor([9.7774]), eps=1e-08, std_eps=tensor([9.7774]))\n",
      "  (2): EegNormalizeMeanStd(mean=tensor([[[-0.1278],\n",
      "           [-0.0851],\n",
      "           [-0.0137],\n",
      "           [-0.0200],\n",
      "           [-0.0015],\n",
      "           [-0.1091],\n",
      "           [ 0.0302],\n",
      "           [ 0.0040],\n",
      "           [-0.0086],\n",
      "           [ 0.0244],\n",
      "           [ 0.0021],\n",
      "           [-0.0345],\n",
      "           [ 0.0321],\n",
      "           [ 0.0193],\n",
      "           [ 0.0236],\n",
      "           [ 0.0221],\n",
      "           [-0.0309],\n",
      "           [ 0.0256],\n",
      "           [ 0.0029],\n",
      "           [ 0.0002],\n",
      "           [-0.0138]]]), std=tensor([[[44.9446],\n",
      "           [20.3279],\n",
      "           [11.6786],\n",
      "           [11.6079],\n",
      "           [15.4943],\n",
      "           [47.3147],\n",
      "           [19.7939],\n",
      "           [10.5252],\n",
      "           [11.4346],\n",
      "           [15.6401],\n",
      "           [20.6464],\n",
      "           [14.1980],\n",
      "           [13.4820],\n",
      "           [21.3024],\n",
      "           [15.7087],\n",
      "           [14.3587],\n",
      "           [19.6771],\n",
      "           [11.2422],\n",
      "           [11.3632],\n",
      "           [93.2716],\n",
      "           [68.4512]]]), eps=1e-08, std_eps=tensor([[[44.9446],\n",
      "           [20.3279],\n",
      "           [11.6786],\n",
      "           [11.6079],\n",
      "           [15.4943],\n",
      "           [47.3147],\n",
      "           [19.7939],\n",
      "           [10.5252],\n",
      "           [11.4346],\n",
      "           [15.6401],\n",
      "           [20.6464],\n",
      "           [14.1980],\n",
      "           [13.4820],\n",
      "           [21.3024],\n",
      "           [15.7087],\n",
      "           [14.3587],\n",
      "           [19.6771],\n",
      "           [11.2422],\n",
      "           [11.3632],\n",
      "           [93.2716],\n",
      "           [68.4512]]]))\n",
      "),\n",
      " 'preprocess_train': Sequential(\n",
      "  (0): EegToDevice(device=device(type='cuda', index=2))\n",
      "  (1): EegNormalizeAge(mean=tensor([71.2065], device='cuda:2'), std=tensor([9.7774]), eps=1e-08, std_eps=tensor([9.7774], device='cuda:2'))\n",
      "  (2): EegAddGaussianNoiseAge(mean=0.0, std=0.03583361229344302)\n",
      "  (3): EegNormalizeMeanStd(mean=tensor([[[-0.1278],\n",
      "           [-0.0851],\n",
      "           [-0.0137],\n",
      "           [-0.0200],\n",
      "           [-0.0015],\n",
      "           [-0.1091],\n",
      "           [ 0.0302],\n",
      "           [ 0.0040],\n",
      "           [-0.0086],\n",
      "           [ 0.0244],\n",
      "           [ 0.0021],\n",
      "           [-0.0345],\n",
      "           [ 0.0321],\n",
      "           [ 0.0193],\n",
      "           [ 0.0236],\n",
      "           [ 0.0221],\n",
      "           [-0.0309],\n",
      "           [ 0.0256],\n",
      "           [ 0.0029],\n",
      "           [ 0.0002],\n",
      "           [-0.0138]]], device='cuda:2'), std=tensor([[[44.9446],\n",
      "           [20.3279],\n",
      "           [11.6786],\n",
      "           [11.6079],\n",
      "           [15.4943],\n",
      "           [47.3147],\n",
      "           [19.7939],\n",
      "           [10.5252],\n",
      "           [11.4346],\n",
      "           [15.6401],\n",
      "           [20.6464],\n",
      "           [14.1980],\n",
      "           [13.4820],\n",
      "           [21.3024],\n",
      "           [15.7087],\n",
      "           [14.3587],\n",
      "           [19.6771],\n",
      "           [11.2422],\n",
      "           [11.3632],\n",
      "           [93.2716],\n",
      "           [68.4512]]]), eps=1e-08, std_eps=tensor([[[44.9446],\n",
      "           [20.3279],\n",
      "           [11.6786],\n",
      "           [11.6079],\n",
      "           [15.4943],\n",
      "           [47.3147],\n",
      "           [19.7939],\n",
      "           [10.5252],\n",
      "           [11.4346],\n",
      "           [15.6401],\n",
      "           [20.6464],\n",
      "           [14.1980],\n",
      "           [13.4820],\n",
      "           [21.3024],\n",
      "           [15.7087],\n",
      "           [14.3587],\n",
      "           [19.6771],\n",
      "           [11.2422],\n",
      "           [11.3632],\n",
      "           [93.2716],\n",
      "           [68.4512]]], device='cuda:2'))\n",
      "  (4): EegMultiplicativeGaussianNoise(mean=0.0, std=0.09575622309480344)\n",
      "  (5): EegAdditiveGaussianNoise(mean=0.0, std=0.004872735559634612)\n",
      "),\n",
      " 'project': 'caueeg-dementia-train-size',\n",
      " 'run_mode': 'train',\n",
      " 'save_model': True,\n",
      " 'search_lr': True,\n",
      " 'search_multiplier': 1.0,\n",
      " 'seed': 2,\n",
      " 'seq_length': 2000,\n",
      " 'signal_header': ['Fp1-AVG',\n",
      "                   'F3-AVG',\n",
      "                   'C3-AVG',\n",
      "                   'P3-AVG',\n",
      "                   'O1-AVG',\n",
      "                   'Fp2-AVG',\n",
      "                   'F4-AVG',\n",
      "                   'C4-AVG',\n",
      "                   'P4-AVG',\n",
      "                   'O2-AVG',\n",
      "                   'F7-AVG',\n",
      "                   'T3-AVG',\n",
      "                   'T5-AVG',\n",
      "                   'F8-AVG',\n",
      "                   'T4-AVG',\n",
      "                   'T6-AVG',\n",
      "                   'FZ-AVG',\n",
      "                   'CZ-AVG',\n",
      "                   'PZ-AVG',\n",
      "                   'EKG',\n",
      "                   'Photic'],\n",
      " 'signal_length_limit': 10000000,\n",
      " 'signal_mean': tensor([[[-0.1278],\n",
      "         [-0.0851],\n",
      "         [-0.0137],\n",
      "         [-0.0200],\n",
      "         [-0.0015],\n",
      "         [-0.1091],\n",
      "         [ 0.0302],\n",
      "         [ 0.0040],\n",
      "         [-0.0086],\n",
      "         [ 0.0244],\n",
      "         [ 0.0021],\n",
      "         [-0.0345],\n",
      "         [ 0.0321],\n",
      "         [ 0.0193],\n",
      "         [ 0.0236],\n",
      "         [ 0.0221],\n",
      "         [-0.0309],\n",
      "         [ 0.0256],\n",
      "         [ 0.0029],\n",
      "         [ 0.0002],\n",
      "         [-0.0138]]]),\n",
      " 'signal_std': tensor([[[44.9446],\n",
      "         [20.3279],\n",
      "         [11.6786],\n",
      "         [11.6079],\n",
      "         [15.4943],\n",
      "         [47.3147],\n",
      "         [19.7939],\n",
      "         [10.5252],\n",
      "         [11.4346],\n",
      "         [15.6401],\n",
      "         [20.6464],\n",
      "         [14.1980],\n",
      "         [13.4820],\n",
      "         [21.3024],\n",
      "         [15.7087],\n",
      "         [14.3587],\n",
      "         [19.6771],\n",
      "         [11.2422],\n",
      "         [11.3632],\n",
      "         [93.2716],\n",
      "         [68.4512]]]),\n",
      " 'task': 'dementia',\n",
      " 'task_description': 'Classification of [Normal], [MCI], and [Dementia] symptoms.',\n",
      " 'task_name': 'CAUEEG-Dementia benchmark',\n",
      " 'test_crop_multiple': 8,\n",
      " 'total_samples': 100000000.0,\n",
      " 'train_set_size': 381,\n",
      " 'transform': Compose(\n",
      "    EegRandomCrop(crop_length=2000, length_limit=10000000, multiple=4, latency=2000, segment_simulation=False, return_timing=False, reject_events=False)\n",
      "    EegToTensor()\n",
      "),\n",
      " 'transform_multicrop': Compose(\n",
      "    EegRandomCrop(crop_length=2000, length_limit=10000000, multiple=8, latency=2000, segment_simulation=False, return_timing=False, reject_events=False)\n",
      "    EegToTensor()\n",
      "),\n",
      " 'use_age': 'conv',\n",
      " 'use_wandb': True,\n",
      " 'warmup_min': 3000,\n",
      " 'warmup_ratio': 0.05,\n",
      " 'watch_model': False,\n",
      " 'weight_decay': 0.04394746639552375}\n",
      "\n",
      "********************************************************************************************\n",
      "\n"
     ]
    },
    {
     "name": "stderr",
     "output_type": "stream",
     "text": [
      "/home/imkbsz/anaconda3/envs/eeg/lib/python3.9/site-packages/wandb/sdk/lib/ipython.py:46: DeprecationWarning:\n",
      "\n",
      "Importing display from IPython.core.display is deprecated since IPython 7.14, please import from IPython display\n",
      "\n"
     ]
    },
    {
     "data": {
      "text/html": [
       "wandb version 0.14.0 is available!  To upgrade, please run:\n",
       " $ pip install wandb --upgrade"
      ],
      "text/plain": [
       "<IPython.core.display.HTML object>"
      ]
     },
     "metadata": {},
     "output_type": "display_data"
    },
    {
     "data": {
      "text/html": [
       "Tracking run with wandb version 0.13.5"
      ],
      "text/plain": [
       "<IPython.core.display.HTML object>"
      ]
     },
     "metadata": {},
     "output_type": "display_data"
    },
    {
     "data": {
      "text/html": [
       "Run data is saved locally in <code>/home/imkbsz/workspace/eeg_analysis/wandb/run-20230325_032524-1ow4ccls</code>"
      ],
      "text/plain": [
       "<IPython.core.display.HTML object>"
      ]
     },
     "metadata": {},
     "output_type": "display_data"
    },
    {
     "data": {
      "text/html": [
       "Syncing run <strong><a href=\"https://wandb.ai/ipis-mjkim/caueeg-dementia-train-size/runs/1ow4ccls\" target=\"_blank\">devout-pond-12</a></strong> to <a href=\"https://wandb.ai/ipis-mjkim/caueeg-dementia-train-size\" target=\"_blank\">Weights & Biases</a> (<a href=\"https://wandb.me/run\" target=\"_blank\">docs</a>)<br/>"
      ],
      "text/plain": [
       "<IPython.core.display.HTML object>"
      ]
     },
     "metadata": {},
     "output_type": "display_data"
    },
    {
     "name": "stderr",
     "output_type": "stream",
     "text": [
      "/home/imkbsz/anaconda3/envs/eeg/lib/python3.9/site-packages/wandb/sdk/lib/ipython.py:46: DeprecationWarning:\n",
      "\n",
      "Importing display from IPython.core.display is deprecated since IPython 7.14, please import from IPython display\n",
      "\n"
     ]
    },
    {
     "data": {
      "text/html": [
       "Waiting for W&B process to finish... <strong style=\"color:green\">(success).</strong>"
      ],
      "text/plain": [
       "<IPython.core.display.HTML object>"
      ]
     },
     "metadata": {},
     "output_type": "display_data"
    },
    {
     "name": "stderr",
     "output_type": "stream",
     "text": [
      "/home/imkbsz/anaconda3/envs/eeg/lib/python3.9/site-packages/wandb/sdk/lib/ipython.py:58: DeprecationWarning:\n",
      "\n",
      "Importing display from IPython.core.display is deprecated since IPython 7.14, please import from IPython display\n",
      "\n"
     ]
    },
    {
     "data": {
      "application/vnd.jupyter.widget-view+json": {
       "model_id": "0461e725a3f746f380430291b4e17e49",
       "version_major": 2,
       "version_minor": 0
      },
      "text/plain": [
       "VBox(children=(Label(value='0.125 MB of 0.125 MB uploaded (0.000 MB deduped)\\r'), FloatProgress(value=1.0, max…"
      ]
     },
     "metadata": {},
     "output_type": "display_data"
    },
    {
     "data": {
      "text/html": [
       "<style>\n",
       "    table.wandb td:nth-child(1) { padding: 0 10px; text-align: left ; width: auto;} td:nth-child(2) {text-align: left ; width: 100%}\n",
       "    .wandb-row { display: flex; flex-direction: row; flex-wrap: wrap; justify-content: flex-start; width: 100% }\n",
       "    .wandb-col { display: flex; flex-direction: column; flex-basis: 100%; flex: 1; padding: 10px; }\n",
       "    </style>\n",
       "<div class=\"wandb-row\"><div class=\"wandb-col\"><h3>Run history:</h3><br/><table class=\"wandb\"><tr><td>Learning Rate</td><td>▂▅███████▇▇▇▇▇▆▆▆▅▅▅▅▄▄▄▃▃▃▃▂▂▂▂▂▁▁▁▁▁▁▁</td></tr><tr><td>Loss</td><td>█▂▂▂▂▂▁▁▁▁▁▁▁▁▁▁▁▁▁▁▁▁▁▁▁▁▁▁▁▁▁▁▁▁▁▁▁▁▁▁</td></tr><tr><td>Multi-Crop Test Accuracy</td><td>▁</td></tr><tr><td>Test Accuracy</td><td>▁</td></tr><tr><td>Train Accuracy</td><td>▁█▇█████████████████████████████████████</td></tr><tr><td>Validation Accuracy</td><td>▅▁▄▇▅▅▅▄▆▆▇▆▇▆▇▇▇▇▆▆▅▆▇▆▆█▇▇▇▇▇▇█▇▆▇▇▇▇▇</td></tr></table><br/></div><div class=\"wandb-col\"><h3>Run summary:</h3><br/><table class=\"wandb\"><tr><td>Learning Rate</td><td>0.0</td></tr><tr><td>Loss</td><td>0.10408</td></tr><tr><td>Multi-Crop Test Accuracy</td><td>60.96045</td></tr><tr><td>Test Accuracy</td><td>58.88418</td></tr><tr><td>Train Accuracy</td><td>93.25435</td></tr><tr><td>Validation Accuracy</td><td>57.9972</td></tr></table><br/></div></div>"
      ],
      "text/plain": [
       "<IPython.core.display.HTML object>"
      ]
     },
     "metadata": {},
     "output_type": "display_data"
    },
    {
     "data": {
      "text/html": [
       "Synced <strong style=\"color:#cdcd00\">devout-pond-12</strong>: <a href=\"https://wandb.ai/ipis-mjkim/caueeg-dementia-train-size/runs/1ow4ccls\" target=\"_blank\">https://wandb.ai/ipis-mjkim/caueeg-dementia-train-size/runs/1ow4ccls</a><br/>Synced 6 W&B file(s), 3 media file(s), 0 artifact file(s) and 1 other file(s)"
      ],
      "text/plain": [
       "<IPython.core.display.HTML object>"
      ]
     },
     "metadata": {},
     "output_type": "display_data"
    },
    {
     "data": {
      "text/html": [
       "Find logs at: <code>./wandb/run-20230325_032524-1ow4ccls/logs</code>"
      ],
      "text/plain": [
       "<IPython.core.display.HTML object>"
      ]
     },
     "metadata": {},
     "output_type": "display_data"
    },
    {
     "name": "stdout",
     "output_type": "stream",
     "text": [
      "\n",
      "******************************    Configurations for Train    ******************************\n",
      "\n",
      "{'EKG': 'O',\n",
      " '_target_': 'models.resnet_1d.ResNet1D',\n",
      " 'activation': 'gelu',\n",
      " 'age_mean': tensor([71.2065]),\n",
      " 'age_std': tensor([9.7774]),\n",
      " 'awgn': 0.004872735559634612,\n",
      " 'awgn_age': 0.03583361229344302,\n",
      " 'base_channels': 64,\n",
      " 'base_lr': 0.0001,\n",
      " 'block': 'basic',\n",
      " 'class_label_to_name': ['Normal', 'MCI', 'Dementia'],\n",
      " 'class_name_to_label': {'Dementia': 2, 'MCI': 1, 'Normal': 0},\n",
      " 'conv_layers': [2, 2, 2, 2],\n",
      " 'criterion': 'multi-bce',\n",
      " 'crop_multiple': 4,\n",
      " 'crop_timing_analysis': False,\n",
      " 'dataset_name': 'CAUEEG dataset',\n",
      " 'dataset_path': 'local/dataset/caueeg-dataset/',\n",
      " 'ddp': False,\n",
      " 'device': device(type='cuda', index=2),\n",
      " 'draw_result': True,\n",
      " 'dropout': 0.3,\n",
      " 'fc_stages': 3,\n",
      " 'file_format': 'memmap',\n",
      " 'in_channels': 21,\n",
      " 'input_norm': 'dataset',\n",
      " 'latency': 2000,\n",
      " 'load_event': False,\n",
      " 'lr_scheduler_type': 'cosine_decay_with_warmup_half',\n",
      " 'mgn': 0.09575622309480344,\n",
      " 'minibatch': 512,\n",
      " 'minibatch_3090': 512,\n",
      " 'mixup': 0.2,\n",
      " 'model': '1D-ResNet-18',\n",
      " 'multi_batch_size': 64,\n",
      " 'num_history': 500,\n",
      " 'num_params': 11394051,\n",
      " 'out_dims': 3,\n",
      " 'output_length': 8,\n",
      " 'photic': 'O',\n",
      " 'preprocess_test': Sequential(\n",
      "  (0): EegToDevice(device=device(type='cuda', index=2))\n",
      "  (1): EegNormalizeAge(mean=tensor([71.2065]), std=tensor([9.7774]), eps=1e-08, std_eps=tensor([9.7774]))\n",
      "  (2): EegNormalizeMeanStd(mean=tensor([[[-0.1278],\n",
      "           [-0.0851],\n",
      "           [-0.0137],\n",
      "           [-0.0200],\n",
      "           [-0.0015],\n",
      "           [-0.1091],\n",
      "           [ 0.0302],\n",
      "           [ 0.0040],\n",
      "           [-0.0086],\n",
      "           [ 0.0244],\n",
      "           [ 0.0021],\n",
      "           [-0.0345],\n",
      "           [ 0.0321],\n",
      "           [ 0.0193],\n",
      "           [ 0.0236],\n",
      "           [ 0.0221],\n",
      "           [-0.0309],\n",
      "           [ 0.0256],\n",
      "           [ 0.0029],\n",
      "           [ 0.0002],\n",
      "           [-0.0138]]]), std=tensor([[[44.9446],\n",
      "           [20.3279],\n",
      "           [11.6786],\n",
      "           [11.6079],\n",
      "           [15.4943],\n",
      "           [47.3147],\n",
      "           [19.7939],\n",
      "           [10.5252],\n",
      "           [11.4346],\n",
      "           [15.6401],\n",
      "           [20.6464],\n",
      "           [14.1980],\n",
      "           [13.4820],\n",
      "           [21.3024],\n",
      "           [15.7087],\n",
      "           [14.3587],\n",
      "           [19.6771],\n",
      "           [11.2422],\n",
      "           [11.3632],\n",
      "           [93.2716],\n",
      "           [68.4512]]]), eps=1e-08, std_eps=tensor([[[44.9446],\n",
      "           [20.3279],\n",
      "           [11.6786],\n",
      "           [11.6079],\n",
      "           [15.4943],\n",
      "           [47.3147],\n",
      "           [19.7939],\n",
      "           [10.5252],\n",
      "           [11.4346],\n",
      "           [15.6401],\n",
      "           [20.6464],\n",
      "           [14.1980],\n",
      "           [13.4820],\n",
      "           [21.3024],\n",
      "           [15.7087],\n",
      "           [14.3587],\n",
      "           [19.6771],\n",
      "           [11.2422],\n",
      "           [11.3632],\n",
      "           [93.2716],\n",
      "           [68.4512]]]))\n",
      "),\n",
      " 'preprocess_train': Sequential(\n",
      "  (0): EegToDevice(device=device(type='cuda', index=2))\n",
      "  (1): EegNormalizeAge(mean=tensor([71.2065], device='cuda:2'), std=tensor([9.7774]), eps=1e-08, std_eps=tensor([9.7774], device='cuda:2'))\n",
      "  (2): EegAddGaussianNoiseAge(mean=0.0, std=0.03583361229344302)\n",
      "  (3): EegNormalizeMeanStd(mean=tensor([[[-0.1278],\n",
      "           [-0.0851],\n",
      "           [-0.0137],\n",
      "           [-0.0200],\n",
      "           [-0.0015],\n",
      "           [-0.1091],\n",
      "           [ 0.0302],\n",
      "           [ 0.0040],\n",
      "           [-0.0086],\n",
      "           [ 0.0244],\n",
      "           [ 0.0021],\n",
      "           [-0.0345],\n",
      "           [ 0.0321],\n",
      "           [ 0.0193],\n",
      "           [ 0.0236],\n",
      "           [ 0.0221],\n",
      "           [-0.0309],\n",
      "           [ 0.0256],\n",
      "           [ 0.0029],\n",
      "           [ 0.0002],\n",
      "           [-0.0138]]], device='cuda:2'), std=tensor([[[44.9446],\n",
      "           [20.3279],\n",
      "           [11.6786],\n",
      "           [11.6079],\n",
      "           [15.4943],\n",
      "           [47.3147],\n",
      "           [19.7939],\n",
      "           [10.5252],\n",
      "           [11.4346],\n",
      "           [15.6401],\n",
      "           [20.6464],\n",
      "           [14.1980],\n",
      "           [13.4820],\n",
      "           [21.3024],\n",
      "           [15.7087],\n",
      "           [14.3587],\n",
      "           [19.6771],\n",
      "           [11.2422],\n",
      "           [11.3632],\n",
      "           [93.2716],\n",
      "           [68.4512]]]), eps=1e-08, std_eps=tensor([[[44.9446],\n",
      "           [20.3279],\n",
      "           [11.6786],\n",
      "           [11.6079],\n",
      "           [15.4943],\n",
      "           [47.3147],\n",
      "           [19.7939],\n",
      "           [10.5252],\n",
      "           [11.4346],\n",
      "           [15.6401],\n",
      "           [20.6464],\n",
      "           [14.1980],\n",
      "           [13.4820],\n",
      "           [21.3024],\n",
      "           [15.7087],\n",
      "           [14.3587],\n",
      "           [19.6771],\n",
      "           [11.2422],\n",
      "           [11.3632],\n",
      "           [93.2716],\n",
      "           [68.4512]]], device='cuda:2'))\n",
      "  (4): EegMultiplicativeGaussianNoise(mean=0.0, std=0.09575622309480344)\n",
      "  (5): EegAdditiveGaussianNoise(mean=0.0, std=0.004872735559634612)\n",
      "),\n",
      " 'project': 'caueeg-dementia-train-size',\n",
      " 'run_mode': 'train',\n",
      " 'save_model': True,\n",
      " 'search_lr': True,\n",
      " 'search_multiplier': 1.0,\n",
      " 'seed': 2,\n",
      " 'seq_length': 2000,\n",
      " 'signal_header': ['Fp1-AVG',\n",
      "                   'F3-AVG',\n",
      "                   'C3-AVG',\n",
      "                   'P3-AVG',\n",
      "                   'O1-AVG',\n",
      "                   'Fp2-AVG',\n",
      "                   'F4-AVG',\n",
      "                   'C4-AVG',\n",
      "                   'P4-AVG',\n",
      "                   'O2-AVG',\n",
      "                   'F7-AVG',\n",
      "                   'T3-AVG',\n",
      "                   'T5-AVG',\n",
      "                   'F8-AVG',\n",
      "                   'T4-AVG',\n",
      "                   'T6-AVG',\n",
      "                   'FZ-AVG',\n",
      "                   'CZ-AVG',\n",
      "                   'PZ-AVG',\n",
      "                   'EKG',\n",
      "                   'Photic'],\n",
      " 'signal_length_limit': 10000000,\n",
      " 'signal_mean': tensor([[[-0.1278],\n",
      "         [-0.0851],\n",
      "         [-0.0137],\n",
      "         [-0.0200],\n",
      "         [-0.0015],\n",
      "         [-0.1091],\n",
      "         [ 0.0302],\n",
      "         [ 0.0040],\n",
      "         [-0.0086],\n",
      "         [ 0.0244],\n",
      "         [ 0.0021],\n",
      "         [-0.0345],\n",
      "         [ 0.0321],\n",
      "         [ 0.0193],\n",
      "         [ 0.0236],\n",
      "         [ 0.0221],\n",
      "         [-0.0309],\n",
      "         [ 0.0256],\n",
      "         [ 0.0029],\n",
      "         [ 0.0002],\n",
      "         [-0.0138]]]),\n",
      " 'signal_std': tensor([[[44.9446],\n",
      "         [20.3279],\n",
      "         [11.6786],\n",
      "         [11.6079],\n",
      "         [15.4943],\n",
      "         [47.3147],\n",
      "         [19.7939],\n",
      "         [10.5252],\n",
      "         [11.4346],\n",
      "         [15.6401],\n",
      "         [20.6464],\n",
      "         [14.1980],\n",
      "         [13.4820],\n",
      "         [21.3024],\n",
      "         [15.7087],\n",
      "         [14.3587],\n",
      "         [19.6771],\n",
      "         [11.2422],\n",
      "         [11.3632],\n",
      "         [93.2716],\n",
      "         [68.4512]]]),\n",
      " 'task': 'dementia',\n",
      " 'task_description': 'Classification of [Normal], [MCI], and [Dementia] symptoms.',\n",
      " 'task_name': 'CAUEEG-Dementia benchmark',\n",
      " 'test_crop_multiple': 8,\n",
      " 'total_samples': 100000000.0,\n",
      " 'train_set_size': 569,\n",
      " 'transform': Compose(\n",
      "    EegRandomCrop(crop_length=2000, length_limit=10000000, multiple=4, latency=2000, segment_simulation=False, return_timing=False, reject_events=False)\n",
      "    EegToTensor()\n",
      "),\n",
      " 'transform_multicrop': Compose(\n",
      "    EegRandomCrop(crop_length=2000, length_limit=10000000, multiple=8, latency=2000, segment_simulation=False, return_timing=False, reject_events=False)\n",
      "    EegToTensor()\n",
      "),\n",
      " 'use_age': 'conv',\n",
      " 'use_wandb': True,\n",
      " 'warmup_min': 3000,\n",
      " 'warmup_ratio': 0.05,\n",
      " 'watch_model': False,\n",
      " 'weight_decay': 0.04394746639552375}\n",
      "\n",
      "********************************************************************************************\n",
      "\n"
     ]
    },
    {
     "name": "stderr",
     "output_type": "stream",
     "text": [
      "/home/imkbsz/anaconda3/envs/eeg/lib/python3.9/site-packages/wandb/sdk/lib/ipython.py:46: DeprecationWarning:\n",
      "\n",
      "Importing display from IPython.core.display is deprecated since IPython 7.14, please import from IPython display\n",
      "\n"
     ]
    },
    {
     "data": {
      "text/html": [
       "wandb version 0.14.0 is available!  To upgrade, please run:\n",
       " $ pip install wandb --upgrade"
      ],
      "text/plain": [
       "<IPython.core.display.HTML object>"
      ]
     },
     "metadata": {},
     "output_type": "display_data"
    },
    {
     "data": {
      "text/html": [
       "Tracking run with wandb version 0.13.5"
      ],
      "text/plain": [
       "<IPython.core.display.HTML object>"
      ]
     },
     "metadata": {},
     "output_type": "display_data"
    },
    {
     "data": {
      "text/html": [
       "Run data is saved locally in <code>/home/imkbsz/workspace/eeg_analysis/wandb/run-20230326_011535-30q2aic3</code>"
      ],
      "text/plain": [
       "<IPython.core.display.HTML object>"
      ]
     },
     "metadata": {},
     "output_type": "display_data"
    },
    {
     "data": {
      "text/html": [
       "Syncing run <strong><a href=\"https://wandb.ai/ipis-mjkim/caueeg-dementia-train-size/runs/30q2aic3\" target=\"_blank\">graceful-dream-15</a></strong> to <a href=\"https://wandb.ai/ipis-mjkim/caueeg-dementia-train-size\" target=\"_blank\">Weights & Biases</a> (<a href=\"https://wandb.me/run\" target=\"_blank\">docs</a>)<br/>"
      ],
      "text/plain": [
       "<IPython.core.display.HTML object>"
      ]
     },
     "metadata": {},
     "output_type": "display_data"
    },
    {
     "name": "stderr",
     "output_type": "stream",
     "text": [
      "/home/imkbsz/anaconda3/envs/eeg/lib/python3.9/site-packages/wandb/sdk/lib/ipython.py:46: DeprecationWarning:\n",
      "\n",
      "Importing display from IPython.core.display is deprecated since IPython 7.14, please import from IPython display\n",
      "\n"
     ]
    },
    {
     "data": {
      "text/html": [
       "Waiting for W&B process to finish... <strong style=\"color:green\">(success).</strong>"
      ],
      "text/plain": [
       "<IPython.core.display.HTML object>"
      ]
     },
     "metadata": {},
     "output_type": "display_data"
    },
    {
     "name": "stderr",
     "output_type": "stream",
     "text": [
      "/home/imkbsz/anaconda3/envs/eeg/lib/python3.9/site-packages/wandb/sdk/lib/ipython.py:58: DeprecationWarning:\n",
      "\n",
      "Importing display from IPython.core.display is deprecated since IPython 7.14, please import from IPython display\n",
      "\n"
     ]
    },
    {
     "data": {
      "application/vnd.jupyter.widget-view+json": {
       "model_id": "dc69b07ed9ee49148aed7fb294cc8c16",
       "version_major": 2,
       "version_minor": 0
      },
      "text/plain": [
       "VBox(children=(Label(value='0.053 MB of 0.168 MB uploaded (0.000 MB deduped)\\r'), FloatProgress(value=0.316101…"
      ]
     },
     "metadata": {},
     "output_type": "display_data"
    },
    {
     "data": {
      "text/html": [
       "<style>\n",
       "    table.wandb td:nth-child(1) { padding: 0 10px; text-align: left ; width: auto;} td:nth-child(2) {text-align: left ; width: 100%}\n",
       "    .wandb-row { display: flex; flex-direction: row; flex-wrap: wrap; justify-content: flex-start; width: 100% }\n",
       "    .wandb-col { display: flex; flex-direction: column; flex-basis: 100%; flex: 1; padding: 10px; }\n",
       "    </style>\n",
       "<div class=\"wandb-row\"><div class=\"wandb-col\"><h3>Run history:</h3><br/><table class=\"wandb\"><tr><td>Learning Rate</td><td>▂▅███████▇▇▇▇▇▆▆▆▅▅▅▅▄▄▄▃▃▃▃▂▂▂▂▂▁▁▁▁▁▁▁</td></tr><tr><td>Loss</td><td>█▂▂▂▂▂▁▂▂▂▂▂▁▁▁▁▁▁▁▁▁▁▁▁▁▁▁▁▁▁▁▁▁▁▁▁▁▁▁▁</td></tr><tr><td>Multi-Crop Test Accuracy</td><td>▁</td></tr><tr><td>Test Accuracy</td><td>▁</td></tr><tr><td>Train Accuracy</td><td>▁█▇█████████████████████████████████████</td></tr><tr><td>Validation Accuracy</td><td>▆▁▅▄▇▆▄▆█▆▅▅▆▇▅▅▃▂▄▆▄▃▃▄▅▄▃▃▆▅▄▅▃▅▅▅▅▅▅▄</td></tr></table><br/></div><div class=\"wandb-col\"><h3>Run summary:</h3><br/><table class=\"wandb\"><tr><td>Learning Rate</td><td>0.0</td></tr><tr><td>Loss</td><td>0.10585</td></tr><tr><td>Multi-Crop Test Accuracy</td><td>68.58757</td></tr><tr><td>Test Accuracy</td><td>63.03672</td></tr><tr><td>Train Accuracy</td><td>93.07581</td></tr><tr><td>Validation Accuracy</td><td>51.18347</td></tr></table><br/></div></div>"
      ],
      "text/plain": [
       "<IPython.core.display.HTML object>"
      ]
     },
     "metadata": {},
     "output_type": "display_data"
    },
    {
     "data": {
      "text/html": [
       "Synced <strong style=\"color:#cdcd00\">graceful-dream-15</strong>: <a href=\"https://wandb.ai/ipis-mjkim/caueeg-dementia-train-size/runs/30q2aic3\" target=\"_blank\">https://wandb.ai/ipis-mjkim/caueeg-dementia-train-size/runs/30q2aic3</a><br/>Synced 6 W&B file(s), 3 media file(s), 0 artifact file(s) and 1 other file(s)"
      ],
      "text/plain": [
       "<IPython.core.display.HTML object>"
      ]
     },
     "metadata": {},
     "output_type": "display_data"
    },
    {
     "data": {
      "text/html": [
       "Find logs at: <code>./wandb/run-20230326_011535-30q2aic3/logs</code>"
      ],
      "text/plain": [
       "<IPython.core.display.HTML object>"
      ]
     },
     "metadata": {},
     "output_type": "display_data"
    },
    {
     "name": "stdout",
     "output_type": "stream",
     "text": [
      "\n",
      "******************************    Configurations for Train    ******************************\n",
      "\n",
      "{'EKG': 'O',\n",
      " '_target_': 'models.resnet_1d.ResNet1D',\n",
      " 'activation': 'gelu',\n",
      " 'age_mean': tensor([71.2065]),\n",
      " 'age_std': tensor([9.7774]),\n",
      " 'awgn': 0.004872735559634612,\n",
      " 'awgn_age': 0.03583361229344302,\n",
      " 'base_channels': 64,\n",
      " 'base_lr': 0.0001,\n",
      " 'block': 'basic',\n",
      " 'class_label_to_name': ['Normal', 'MCI', 'Dementia'],\n",
      " 'class_name_to_label': {'Dementia': 2, 'MCI': 1, 'Normal': 0},\n",
      " 'conv_layers': [2, 2, 2, 2],\n",
      " 'criterion': 'multi-bce',\n",
      " 'crop_multiple': 4,\n",
      " 'crop_timing_analysis': False,\n",
      " 'dataset_name': 'CAUEEG dataset',\n",
      " 'dataset_path': 'local/dataset/caueeg-dataset/',\n",
      " 'ddp': False,\n",
      " 'device': device(type='cuda', index=2),\n",
      " 'draw_result': True,\n",
      " 'dropout': 0.3,\n",
      " 'fc_stages': 3,\n",
      " 'file_format': 'memmap',\n",
      " 'in_channels': 21,\n",
      " 'input_norm': 'dataset',\n",
      " 'latency': 2000,\n",
      " 'load_event': False,\n",
      " 'lr_scheduler_type': 'cosine_decay_with_warmup_half',\n",
      " 'mgn': 0.09575622309480344,\n",
      " 'minibatch': 512,\n",
      " 'minibatch_3090': 512,\n",
      " 'mixup': 0.2,\n",
      " 'model': '1D-ResNet-18',\n",
      " 'multi_batch_size': 64,\n",
      " 'num_history': 500,\n",
      " 'num_params': 11394051,\n",
      " 'out_dims': 3,\n",
      " 'output_length': 8,\n",
      " 'photic': 'O',\n",
      " 'preprocess_test': Sequential(\n",
      "  (0): EegToDevice(device=device(type='cuda', index=2))\n",
      "  (1): EegNormalizeAge(mean=tensor([71.2065]), std=tensor([9.7774]), eps=1e-08, std_eps=tensor([9.7774]))\n",
      "  (2): EegNormalizeMeanStd(mean=tensor([[[-0.1278],\n",
      "           [-0.0851],\n",
      "           [-0.0137],\n",
      "           [-0.0200],\n",
      "           [-0.0015],\n",
      "           [-0.1091],\n",
      "           [ 0.0302],\n",
      "           [ 0.0040],\n",
      "           [-0.0086],\n",
      "           [ 0.0244],\n",
      "           [ 0.0021],\n",
      "           [-0.0345],\n",
      "           [ 0.0321],\n",
      "           [ 0.0193],\n",
      "           [ 0.0236],\n",
      "           [ 0.0221],\n",
      "           [-0.0309],\n",
      "           [ 0.0256],\n",
      "           [ 0.0029],\n",
      "           [ 0.0002],\n",
      "           [-0.0138]]]), std=tensor([[[44.9446],\n",
      "           [20.3279],\n",
      "           [11.6786],\n",
      "           [11.6079],\n",
      "           [15.4943],\n",
      "           [47.3147],\n",
      "           [19.7939],\n",
      "           [10.5252],\n",
      "           [11.4346],\n",
      "           [15.6401],\n",
      "           [20.6464],\n",
      "           [14.1980],\n",
      "           [13.4820],\n",
      "           [21.3024],\n",
      "           [15.7087],\n",
      "           [14.3587],\n",
      "           [19.6771],\n",
      "           [11.2422],\n",
      "           [11.3632],\n",
      "           [93.2716],\n",
      "           [68.4512]]]), eps=1e-08, std_eps=tensor([[[44.9446],\n",
      "           [20.3279],\n",
      "           [11.6786],\n",
      "           [11.6079],\n",
      "           [15.4943],\n",
      "           [47.3147],\n",
      "           [19.7939],\n",
      "           [10.5252],\n",
      "           [11.4346],\n",
      "           [15.6401],\n",
      "           [20.6464],\n",
      "           [14.1980],\n",
      "           [13.4820],\n",
      "           [21.3024],\n",
      "           [15.7087],\n",
      "           [14.3587],\n",
      "           [19.6771],\n",
      "           [11.2422],\n",
      "           [11.3632],\n",
      "           [93.2716],\n",
      "           [68.4512]]]))\n",
      "),\n",
      " 'preprocess_train': Sequential(\n",
      "  (0): EegToDevice(device=device(type='cuda', index=2))\n",
      "  (1): EegNormalizeAge(mean=tensor([71.2065], device='cuda:2'), std=tensor([9.7774]), eps=1e-08, std_eps=tensor([9.7774], device='cuda:2'))\n",
      "  (2): EegAddGaussianNoiseAge(mean=0.0, std=0.03583361229344302)\n",
      "  (3): EegNormalizeMeanStd(mean=tensor([[[-0.1278],\n",
      "           [-0.0851],\n",
      "           [-0.0137],\n",
      "           [-0.0200],\n",
      "           [-0.0015],\n",
      "           [-0.1091],\n",
      "           [ 0.0302],\n",
      "           [ 0.0040],\n",
      "           [-0.0086],\n",
      "           [ 0.0244],\n",
      "           [ 0.0021],\n",
      "           [-0.0345],\n",
      "           [ 0.0321],\n",
      "           [ 0.0193],\n",
      "           [ 0.0236],\n",
      "           [ 0.0221],\n",
      "           [-0.0309],\n",
      "           [ 0.0256],\n",
      "           [ 0.0029],\n",
      "           [ 0.0002],\n",
      "           [-0.0138]]], device='cuda:2'), std=tensor([[[44.9446],\n",
      "           [20.3279],\n",
      "           [11.6786],\n",
      "           [11.6079],\n",
      "           [15.4943],\n",
      "           [47.3147],\n",
      "           [19.7939],\n",
      "           [10.5252],\n",
      "           [11.4346],\n",
      "           [15.6401],\n",
      "           [20.6464],\n",
      "           [14.1980],\n",
      "           [13.4820],\n",
      "           [21.3024],\n",
      "           [15.7087],\n",
      "           [14.3587],\n",
      "           [19.6771],\n",
      "           [11.2422],\n",
      "           [11.3632],\n",
      "           [93.2716],\n",
      "           [68.4512]]]), eps=1e-08, std_eps=tensor([[[44.9446],\n",
      "           [20.3279],\n",
      "           [11.6786],\n",
      "           [11.6079],\n",
      "           [15.4943],\n",
      "           [47.3147],\n",
      "           [19.7939],\n",
      "           [10.5252],\n",
      "           [11.4346],\n",
      "           [15.6401],\n",
      "           [20.6464],\n",
      "           [14.1980],\n",
      "           [13.4820],\n",
      "           [21.3024],\n",
      "           [15.7087],\n",
      "           [14.3587],\n",
      "           [19.6771],\n",
      "           [11.2422],\n",
      "           [11.3632],\n",
      "           [93.2716],\n",
      "           [68.4512]]], device='cuda:2'))\n",
      "  (4): EegMultiplicativeGaussianNoise(mean=0.0, std=0.09575622309480344)\n",
      "  (5): EegAdditiveGaussianNoise(mean=0.0, std=0.004872735559634612)\n",
      "),\n",
      " 'project': 'caueeg-dementia-train-size',\n",
      " 'run_mode': 'train',\n",
      " 'save_model': True,\n",
      " 'search_lr': True,\n",
      " 'search_multiplier': 1.0,\n",
      " 'seed': 2,\n",
      " 'seq_length': 2000,\n",
      " 'signal_header': ['Fp1-AVG',\n",
      "                   'F3-AVG',\n",
      "                   'C3-AVG',\n",
      "                   'P3-AVG',\n",
      "                   'O1-AVG',\n",
      "                   'Fp2-AVG',\n",
      "                   'F4-AVG',\n",
      "                   'C4-AVG',\n",
      "                   'P4-AVG',\n",
      "                   'O2-AVG',\n",
      "                   'F7-AVG',\n",
      "                   'T3-AVG',\n",
      "                   'T5-AVG',\n",
      "                   'F8-AVG',\n",
      "                   'T4-AVG',\n",
      "                   'T6-AVG',\n",
      "                   'FZ-AVG',\n",
      "                   'CZ-AVG',\n",
      "                   'PZ-AVG',\n",
      "                   'EKG',\n",
      "                   'Photic'],\n",
      " 'signal_length_limit': 10000000,\n",
      " 'signal_mean': tensor([[[-0.1278],\n",
      "         [-0.0851],\n",
      "         [-0.0137],\n",
      "         [-0.0200],\n",
      "         [-0.0015],\n",
      "         [-0.1091],\n",
      "         [ 0.0302],\n",
      "         [ 0.0040],\n",
      "         [-0.0086],\n",
      "         [ 0.0244],\n",
      "         [ 0.0021],\n",
      "         [-0.0345],\n",
      "         [ 0.0321],\n",
      "         [ 0.0193],\n",
      "         [ 0.0236],\n",
      "         [ 0.0221],\n",
      "         [-0.0309],\n",
      "         [ 0.0256],\n",
      "         [ 0.0029],\n",
      "         [ 0.0002],\n",
      "         [-0.0138]]]),\n",
      " 'signal_std': tensor([[[44.9446],\n",
      "         [20.3279],\n",
      "         [11.6786],\n",
      "         [11.6079],\n",
      "         [15.4943],\n",
      "         [47.3147],\n",
      "         [19.7939],\n",
      "         [10.5252],\n",
      "         [11.4346],\n",
      "         [15.6401],\n",
      "         [20.6464],\n",
      "         [14.1980],\n",
      "         [13.4820],\n",
      "         [21.3024],\n",
      "         [15.7087],\n",
      "         [14.3587],\n",
      "         [19.6771],\n",
      "         [11.2422],\n",
      "         [11.3632],\n",
      "         [93.2716],\n",
      "         [68.4512]]]),\n",
      " 'task': 'dementia',\n",
      " 'task_description': 'Classification of [Normal], [MCI], and [Dementia] symptoms.',\n",
      " 'task_name': 'CAUEEG-Dementia benchmark',\n",
      " 'test_crop_multiple': 8,\n",
      " 'total_samples': 100000000.0,\n",
      " 'train_set_size': 760,\n",
      " 'transform': Compose(\n",
      "    EegRandomCrop(crop_length=2000, length_limit=10000000, multiple=4, latency=2000, segment_simulation=False, return_timing=False, reject_events=False)\n",
      "    EegToTensor()\n",
      "),\n",
      " 'transform_multicrop': Compose(\n",
      "    EegRandomCrop(crop_length=2000, length_limit=10000000, multiple=8, latency=2000, segment_simulation=False, return_timing=False, reject_events=False)\n",
      "    EegToTensor()\n",
      "),\n",
      " 'use_age': 'conv',\n",
      " 'use_wandb': True,\n",
      " 'warmup_min': 3000,\n",
      " 'warmup_ratio': 0.05,\n",
      " 'watch_model': False,\n",
      " 'weight_decay': 0.04394746639552375}\n",
      "\n",
      "********************************************************************************************\n",
      "\n"
     ]
    },
    {
     "name": "stderr",
     "output_type": "stream",
     "text": [
      "/home/imkbsz/anaconda3/envs/eeg/lib/python3.9/site-packages/wandb/sdk/lib/ipython.py:46: DeprecationWarning:\n",
      "\n",
      "Importing display from IPython.core.display is deprecated since IPython 7.14, please import from IPython display\n",
      "\n"
     ]
    },
    {
     "data": {
      "text/html": [
       "wandb version 0.14.0 is available!  To upgrade, please run:\n",
       " $ pip install wandb --upgrade"
      ],
      "text/plain": [
       "<IPython.core.display.HTML object>"
      ]
     },
     "metadata": {},
     "output_type": "display_data"
    },
    {
     "data": {
      "text/html": [
       "Tracking run with wandb version 0.13.5"
      ],
      "text/plain": [
       "<IPython.core.display.HTML object>"
      ]
     },
     "metadata": {},
     "output_type": "display_data"
    },
    {
     "data": {
      "text/html": [
       "Run data is saved locally in <code>/home/imkbsz/workspace/eeg_analysis/wandb/run-20230326_230027-2xkpwtsu</code>"
      ],
      "text/plain": [
       "<IPython.core.display.HTML object>"
      ]
     },
     "metadata": {},
     "output_type": "display_data"
    },
    {
     "data": {
      "text/html": [
       "Syncing run <strong><a href=\"https://wandb.ai/ipis-mjkim/caueeg-dementia-train-size/runs/2xkpwtsu\" target=\"_blank\">lively-lake-18</a></strong> to <a href=\"https://wandb.ai/ipis-mjkim/caueeg-dementia-train-size\" target=\"_blank\">Weights & Biases</a> (<a href=\"https://wandb.me/run\" target=\"_blank\">docs</a>)<br/>"
      ],
      "text/plain": [
       "<IPython.core.display.HTML object>"
      ]
     },
     "metadata": {},
     "output_type": "display_data"
    }
   ],
   "source": [
    "repeat = 1\n",
    "\n",
    "for ratio in np.linspace(0.2, 0.8, num=4):\n",
    "    for r in range(repeat):\n",
    "        config = deepcopy(config_base)\n",
    "        \n",
    "        # collect some garbage\n",
    "        gc.collect()\n",
    "        torch.cuda.empty_cache()\n",
    "        torch.cuda.synchronize()\n",
    "\n",
    "        # fix the seed for reproducibility (a negative seed value means not fixing)\n",
    "        if config.get('seed', 0) >= 0:\n",
    "            config['seed'] = config.get('seed', 0) + r*10\n",
    "            seed = config['seed']\n",
    "            torch.manual_seed(seed)\n",
    "            np.random.seed(seed)\n",
    "\n",
    "        # compose dataset\n",
    "        if config.get('dataset_name', None) == 'tuab':\n",
    "            train_loader, val_loader, test_loader, multicrop_test_loader = build_dataset_for_tuab_train(config)\n",
    "        else:\n",
    "            train_loader, val_loader, test_loader, multicrop_test_loader = build_dataset_for_train(config)\n",
    "            \n",
    "        # reduce the training set size\n",
    "        serial_dict_by_class = {}\n",
    "        for i, data in enumerate(train_loader.dataset):\n",
    "            class_name = data['class_name']\n",
    "            if class_name in serial_dict_by_class.keys():\n",
    "                serial_dict_by_class[class_name].append(i)\n",
    "            else:\n",
    "                serial_dict_by_class[class_name] = [i]\n",
    "        \n",
    "        keep_list = np.array([], dtype=int)\n",
    "        for k, v in serial_dict_by_class.items():\n",
    "            keep_list = np.append(keep_list, np.random.choice(np.array(v), round(len(v) * ratio)))\n",
    "        \n",
    "        data_list = []\n",
    "        for keep in keep_list:\n",
    "            data_list.append(train_loader.dataset.data_list[keep])\n",
    "        train_loader.dataset.data_list = data_list\n",
    "\n",
    "        config['train_set_size'] = len(train_loader.dataset.data_list)\n",
    "                \n",
    "        # generate the model and update some configurations\n",
    "        model = hydra.utils.instantiate(config)\n",
    "        model = model.to(config['device'])\n",
    "        config['output_length'] = model.get_output_length()\n",
    "        config['num_params'] = count_parameters(model)\n",
    "\n",
    "        # train\n",
    "        train_script(config, model, train_loader, val_loader, test_loader, multicrop_test_loader,\n",
    "                     config['preprocess_train'], config['preprocess_test'])"
   ]
  },
  {
   "cell_type": "code",
   "execution_count": null,
   "metadata": {},
   "outputs": [],
   "source": []
  }
 ],
 "metadata": {
  "kernelspec": {
   "display_name": "Python 3 (ipykernel)",
   "language": "python",
   "name": "python3"
  },
  "language_info": {
   "codemirror_mode": {
    "name": "ipython",
    "version": 3
   },
   "file_extension": ".py",
   "mimetype": "text/x-python",
   "name": "python",
   "nbconvert_exporter": "python",
   "pygments_lexer": "ipython3",
   "version": "3.9.12"
  }
 },
 "nbformat": 4,
 "nbformat_minor": 4
}
